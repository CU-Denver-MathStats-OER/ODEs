{
 "cells": [
  {
   "cell_type": "markdown",
   "id": "5ff9aba5-5ee6-40f0-9b32-9e8fade32603",
   "metadata": {},
   "source": [
    "# Lab 2.2: Homogeneous Second Order Linear Differential Equations\n",
    "---\n",
    "\n",
    "<font color='blue'>Reading: *Notes on Diffy Q's* Section 2.1 Part 2 (complex roots)</font>\n",
    "\n",
    "A second order linear differential equation with constant coefficients has the form\n",
    "\n",
    "$$\\color{blue}{a \\frac{d^2x}{dt^2}+b\\frac{dx}{dt}+cx=}\\color{red}{f(t)}$$\n",
    "\n",
    "where $a$, $b$, and  $c$ are constants and $f$ is a continuous function of $t$.\n",
    "\n",
    "- If $\\color{red}{f(t)=0}$, then the equation is called **homogeneous**.\n",
    "- If $\\color{red}{f(t)\\ne 0}$, then the equation is called **nonhomogeneous**."
   ]
  },
  {
   "cell_type": "markdown",
   "id": "8b2e44b6-1303-4c25-ae0f-eb5d103146e0",
   "metadata": {},
   "source": [
    "## Revisiting the Roots of the Characteristic Equation\n",
    "--- \n",
    "\n",
    "We have shown that to find solutions to the homogeneous case $a \\dfrac{d^2x}{dt^2}+b\\dfrac{dx}{dt}+cx =0$, we can:\n",
    "\n",
    "1. Set up the corresponding characteristic polynomial, $ar^2+br+c=0$.\n",
    "2. Find solutions $r=r_1$ and $r=r_2$ to the characteristic equation.\n",
    "3. <mark>Quadratic equations may have real or complex solutions</mark>:\n",
    "\n",
    "- If $r_1$ and $r_2$ are <font color=\"blue\">distinct real numbers</font>, then the general solution is <font color=\"blue\">$x(t) = C_1e^{r_1t} + C_2e^{r_2t}$</font>.\n",
    "- If there is <font color=\"blue\">one repeated root</font>, $r_1$, then the general solution is <font color=\"blue\">$x(t) = C_1e^{r_1t} + C_2\\color{red}{t}e^{r_1t}$</font>.\n",
    "- **<font color=\"red\">If the solutions are of the form $\\mathbf{r = \\alpha \\pm i \\beta}$, then what?</font>**"
   ]
  },
  {
   "cell_type": "markdown",
   "id": "b2e90952-ea9f-43c1-9197-d474ae5c3653",
   "metadata": {},
   "source": [
    "## <a name='10quest1'>Question 1:</a>\n",
    "---\n",
    "\n",
    "Let $\\displaystyle f(t)=e^{i \\beta t}$ and answer the questions below.\n",
    "\n",
    "a. Find a formula for $f'$, $f''$, $f'''$, $f^{iv}$, and $f^{v}$.\n",
    "\n",
    "### Solution to Question 1a:\n",
    "---\n",
    "\n",
    "<br> <br> <br> <br> <br> <br>\n",
    "\n",
    "b. Express $f(t)=e^{i \\beta t}$ using as a Taylor series at $t=0$.\n",
    "\n",
    "$$f(t) = f(0) + \\frac{f'(0)}{1!}t + \\frac{f''(0)}{2!} t^2 +   \\frac{f'''(0)}{3!} t^3 + \\frac{f^{iv}(0)}{4!} t^4 +  \\frac{f^{v}(0)}{5!} t^5 +  \\ldots$$\n",
    "\n",
    "### Solution to Question 1b:\n",
    "---\n",
    "\n",
    "<br> <br> <br> <br> <br> <br>\n",
    "\n",
    "c. Group the real and imaginary parts of the first several terms in the Taylor series together.\n",
    "\n",
    "### Solution to Question 1c:\n",
    "---\n",
    "\n",
    "<br> <br> <br> <br> <br> <br>\n",
    "\n",
    "d. Do you recognize these are Taylor series of common functions?\n",
    "\n",
    "### Solution to Question 1d:\n",
    "---\n",
    "\n",
    "<br> <br> <br> <br> <br> <br>"
   ]
  },
  {
   "cell_type": "markdown",
   "id": "2540945d-6f11-4bcf-a9a4-a20db63c8d5b",
   "metadata": {},
   "source": [
    "# Euler's Formula\n",
    "---\n",
    "\n",
    "The previous question is a proof of **Euler's formula** which allows us to write exponentials in **polar form**,\n",
    "\n",
    "$$\\large \\color{blue}{e^{(\\alpha + i \\beta) t} = e^{\\alpha t} \\bigg( \\cos{(\\beta t)} + i  \\sin{(\\beta t)} \\bigg).}$$"
   ]
  },
  {
   "cell_type": "markdown",
   "id": "afe702c7-5506-4845-81d5-3ad215e79bb3",
   "metadata": {},
   "source": [
    "## <a name='10quest2'>Question 2:</a>\n",
    "---\n",
    "\n",
    "If $z(t)=P(t)+i Q(t)$ is complex solution to a differential equation of the form $az''+bz'+cz=0$,\n",
    "prove that the real part $P(t)$ is a solution itself and the imaginary part $Q(t)$ (not including the $i$) is also a solution itself.\n",
    "\n",
    "Note the derivative of a complex function is the sum of the derivatives of the real and imaginary parts of the complex function\n",
    "\n",
    "$$z'(t) = P'(t) + i Q'(t).$$\n",
    "\n",
    "### Solution to Question 2:\n",
    "---\n",
    "\n",
    "<br> <br> <br> <br> <br> <br>"
   ]
  },
  {
   "cell_type": "markdown",
   "id": "1f76ddd0-1b14-4709-b4c2-8847d72c41ad",
   "metadata": {},
   "source": [
    "## <a name='10quest3'>Question 3:</a>\n",
    "---\n",
    "\n",
    "\n",
    "Find the general solution to the homogeneous differential equation  \n",
    "\n",
    "$$\\frac{d^2x}{dt^2}+2 \\frac{dx}{dt} + 17x=0$$\n",
    "\n",
    "Use the results from [Question 2](#10quest2) on exponentiation of complex numbers to find the general solution to the differential equation. \n",
    "\n",
    "### Solution to Question 3:\n",
    "---\n",
    "\n",
    "<br> <br> <br> <br> <br> <br>"
   ]
  },
  {
   "cell_type": "markdown",
   "id": "a5e95e31-a626-426f-8dec-2424a67dd57c",
   "metadata": {},
   "source": [
    "## <a name='10quest4'>Question 4:</a>\n",
    "---\n",
    "\n",
    "Replace each blank in the cell below with an appropriate formula.\n",
    "\n",
    "### Solution to Question 4:\n",
    "---\n",
    "<br> <br> \n",
    "\n",
    "<mark>Fill in solutions below.</mark>\n",
    "\n",
    "<br> <br> "
   ]
  },
  {
   "cell_type": "markdown",
   "id": "0516c237-8beb-4589-bc2f-626bdcc15446",
   "metadata": {},
   "source": [
    "# General Solution when Roots are Complex\n",
    "---\n",
    "\n",
    "To summarize our results, when solving a homogeneous second order differential with constant coefficients, we can find the zeros of the corresponding characteristic equation. Then \n",
    "\n",
    "- If $r_1$ and $r_2$ are **distinct real numbers**, then the general solution is\n",
    "\n",
    "$$\\_\\_\\_\\_?\\_\\_\\_\\_$$\n",
    "\n",
    "<br> <br> <br>\n",
    "\n",
    "- If there is **one repeated root**, $r_1$, then the general solution is \n",
    "\n",
    "$$\\_\\_\\_\\_?\\_\\_\\_\\_$$\n",
    "\n",
    "<br> <br> <br>\n",
    "\n",
    "- If there are **complex solutions** of the form $r = \\alpha \\pm i \\beta$, then the general solution is \n",
    "\n",
    "$$\\_\\_\\_\\_?\\_\\_\\_\\_$$\n",
    "\n",
    "<br> <br> <br>"
   ]
  },
  {
   "cell_type": "markdown",
   "id": "15b30ca5-51f9-43a7-b4ad-945cf4197e1b",
   "metadata": {},
   "source": [
    "## <a name='10quest5'>Question 5:</a>\n",
    "---\n",
    "\n",
    "Find a general solution to the differential equation $\\displaystyle 2y''+7y'-4y=0$.\n",
    "\n",
    "### Solution to Question 5:\n",
    "---\n",
    "\n",
    "<br> <br> <br> <br> <br> <br>"
   ]
  },
  {
   "cell_type": "markdown",
   "id": "db1e1dd0-9a57-4173-b6e6-9ec66aec960e",
   "metadata": {},
   "source": [
    "# Mass-Spring Oscillator\n",
    "---\n",
    "\n",
    "Imagine we connect an object with <font color = 'green'>mass $m$</font> kg to a spring with <font color = 'blue'>stiffness coefficient</font> $k$ kg/sec$^2$ that is connected to a stationary wall on the other end. We give the mass some initial position $s_0$ and velocity $v_0$, and we observe the mechanics of how the mass moves along a surface with <font color='red'>friction coefficient $b$</font> kg/sec. Such a system is called a **mass-spring oscillator**. The position of the mass at time, $y(t)$, is modeled by the second order differential equation\n",
    "\n",
    "$$\\large \\color{green}{m}y''+\\color{red}{b}y'+\\color{blue}{k}y=0; \\qquad y(0)=s_0, \\quad y'(0)=v_0.$$\n",
    "\n",
    "![Mass-Spring Oscillator](Images/10mass-spring.png)"
   ]
  },
  {
   "cell_type": "markdown",
   "id": "5fc33e93-552f-4eb0-b3d1-90111bb413ae",
   "metadata": {},
   "source": [
    "## <a name='10quest6'>Question 6:</a>\n",
    "---\n",
    "\n",
    "Consider the mass-spring oscillator that has mass $m=1$ kg, stiffness $k=4$ kg/sec$^2$, and\n",
    "damping $b$ kg/sec. The displacement $y$ from equilibrium position at time $t$ seconds \n",
    "satisfies the initial value problem\n",
    "\n",
    "$$y''+by'+4y=0; \\ \\ y(0)=1 \\ \\ y'(0)=0.$$\n",
    "\n",
    "\n",
    "a. Interpret the practical meaning of the initial conditions.\n",
    "\n",
    "### Solution to Question 6a:\n",
    "---\n",
    "\n",
    "<br> <br> <br> <br> <br> <br>\n",
    "\n",
    "b. Find the solution if the damping coefficient is $b=0$ and describe what happens to the mass as $t \\to \\infty$.\n",
    "\n",
    "### Solution to Question 6b:\n",
    "---\n",
    "\n",
    "<br> <br> <br> <br> <br> <br>\n",
    "\n",
    "c. Find the solution if the damping coefficient is $b=5$ and describe what happens to the mass as $t \\to \\infty$. \n",
    "\n",
    "### Solution to Question 6c:\n",
    "---\n",
    "\n",
    "<br> <br> <br> <br> <br> <br>\n",
    "    \n",
    "d. Find the solution if the damping coefficient is $b=4$ and describe what happens to the mass as $t \\to \\infty$. \n",
    "\n",
    "### Solution to Question 6d:\n",
    "---\n",
    "\n",
    "<br> <br> <br> <br> <br> <br>\n",
    "\n",
    "e. Find the solution if the damping coefficient is $b=2$ and describe what happens to the mass as $t \\to \\infty$.\n",
    "\n",
    "### Solution to Question 6e:\n",
    "---\n",
    "\n",
    "<br> <br> <br> <br> <br> <br>"
   ]
  },
  {
   "cell_type": "markdown",
   "id": "5f15ebb9-1f73-4c31-b654-87faf9162921",
   "metadata": {},
   "source": [
    "# <a name=\"10mass-spring\">Testing Our Results in the Mass-Spring Lab</a>\n",
    "---\n",
    "\n",
    "The module `mass_spring` is saved in the utils folder (where you likely saved `ode_tools`). In order to access the `damped_harmonic_oscillator()` function in the `mass_spring` module, you will need to first set your file path to the folder where you have saved the file `mass_spring.py`."
   ]
  },
  {
   "cell_type": "markdown",
   "id": "521c70db-f61b-40d5-a1a4-f2edcc0b541d",
   "metadata": {
    "id": "FJ0B8IOykJwK"
   },
   "source": [
    "## <a name='10SetPath'>Setting the File Path</a>\n",
    "---\n",
    "\n",
    "In order to use functions stored in the `mass_spring` module, recall we need set the path to the module. This process is slightly different depending on whether you are using Google Colab or Jupyter to interact with this notebook.\n",
    "\n",
    "- Run either the [Colab](#10ColabPath) or [Jupyter](#10JupPath) sections below."
   ]
  },
  {
   "cell_type": "markdown",
   "id": "0bb157cd-1751-4627-9610-10028551b9eb",
   "metadata": {
    "id": "OrAs_iwClLLS"
   },
   "source": [
    "### <a name='10ColabPath'>Setting the Path in Google Colab</a> (Skip if Using Jupyter)\n",
    "---\n"
   ]
  },
  {
   "cell_type": "code",
   "execution_count": null,
   "id": "ea842cb2-0abb-4f5c-92d6-36f263f83cdd",
   "metadata": {
    "id": "20t4fOtjF7B8"
   },
   "outputs": [],
   "source": [
    "# Run this cell if you are using Google Colab\n",
    "# Do NOT run if you are using Jupyter\n",
    "\n",
    "# Allow Colab to access your Google Drive files\n",
    "from google.colab import drive\n",
    "drive.mount('/content/drive')"
   ]
  },
  {
   "cell_type": "code",
   "execution_count": null,
   "id": "f067659f-9beb-4f79-8bd2-3845a954f3c8",
   "metadata": {
    "id": "0e9eb3b3-b365-4e50-a9b8-e9d686a05bcc"
   },
   "outputs": [],
   "source": [
    "# Run this cell if you are using Google Colab\n",
    "# Do NOT run if you are using Jupyter\n",
    "import sys\n",
    "\n",
    "# Set the path to the folder with module ode_tools.py\n",
    "# Adjust the path according to your file structure in Drive\n",
    "sys.path.append('/content/drive/MyDrive/MATH 3200 Colab/utils')"
   ]
  },
  {
   "cell_type": "markdown",
   "id": "f25dc6f8-9e5e-4e3d-8e07-01ac38157857",
   "metadata": {
    "id": "0K2rfUhtlhbF"
   },
   "source": [
    "### <a name='10JupPath'>Setting the Path in Jupyter</a> (Skip if Using Colab)\n",
    "---"
   ]
  },
  {
   "cell_type": "code",
   "execution_count": null,
   "id": "623072dc-f831-4b92-b82d-f5adc8767515",
   "metadata": {
    "id": "rxifzI0s_zUo"
   },
   "outputs": [],
   "source": [
    "# Only run this cell if using Jupyter.\n",
    "# Do not run this cell if using Google Colab.\n",
    "import sys\n",
    "\n",
    "sys.path.append('../utils')"
   ]
  },
  {
   "cell_type": "markdown",
   "id": "3f51e797-ee67-4264-ae0e-d9e60a0d04c1",
   "metadata": {},
   "source": [
    "## <a name=\"10import\">Importing `mass_spring`</a>\n",
    "---\n",
    "\n",
    "In the first code cell we install a package to allow us to run interactives in Jupyter.\n",
    "\n",
    "- You only need to run this one time ever! If you have already run this command before, you do not need to ever run it again!\n",
    "\n",
    "In the second code cell below, we import the `damped_harmonic_oscillator` function from the `mass_spring` module.\n",
    "\n",
    "- If you receive an error when running the second code cell, this means you have not set your file path correctly.\n",
    "    - Double-check where you have saved the file `mass_spring.py` in your file system.\n",
    "\n"
   ]
  },
  {
   "cell_type": "code",
   "execution_count": null,
   "id": "fbb09e44-6f6b-4061-99f7-3d088a217c13",
   "metadata": {},
   "outputs": [],
   "source": [
    "# If not already installed, then will install and ask to restart runtime\n",
    "!pip install matplotlib==3.5.2"
   ]
  },
  {
   "cell_type": "code",
   "execution_count": null,
   "id": "9ab46506-5266-480b-87ab-95acde55a7d8",
   "metadata": {},
   "outputs": [],
   "source": [
    "from mass_spring import damped_harmonic_oscillator"
   ]
  },
  {
   "cell_type": "markdown",
   "id": "ee41e651-e4bc-4417-82a3-e8b6b179c203",
   "metadata": {},
   "source": [
    "## <a name=\"10mass-spring\">Running Experiments</a>\n",
    "---\n",
    "\n",
    "Recall the mass-spring system (also called a **damped harmonic oscillator**) has the following model\n",
    "\n",
    "$$my''+by'+ky=0; \\ \\ y(0)=s_0 \\ \\ y'(0)=v_0.$$\n",
    "\n",
    "In [Problem 6](#10quest6) we have:\n",
    "\n",
    "- $m=1$, \n",
    "- $k=4$, \n",
    "- and then we condsidered what happens when we change the amount of friction (damping) in the system. \n",
    "\n",
    "**Experiment with the value of $b$ in the code cell below, and see how changing $b$ affects the behavior of mass-spring systems.** \n",
    "\n",
    "- Note the animation may take several seconds to complete running.\n"
   ]
  },
  {
   "cell_type": "code",
   "execution_count": null,
   "id": "4a9a8a31-376f-475c-8ff7-d42489c60b27",
   "metadata": {},
   "outputs": [],
   "source": [
    "# Enter coefficients\n",
    "m = 1 # mass\n",
    "b = 0 # friction coefficient\n",
    "k = 4 # stiffness coefficient of spring\n",
    "\n",
    "# Enter initial conditions\n",
    "x0 = [1, 0]  # enter x0 as an array [s0, v0]\n",
    "\n",
    "# Enter forcing function (for now there is none!)\n",
    "A = 0  # amplitude of forcing\n",
    "omega = 0 # frequency of forcing\n",
    "\n",
    "damped_harmonic_oscillator(m, b, k, x0, A, omega)"
   ]
  },
  {
   "cell_type": "markdown",
   "id": "c4e1c755-eab9-4393-85e6-0b3d56ce8c40",
   "metadata": {},
   "source": [
    "## Creative Commons License Information\n",
    "<a rel=\"license\" href=\"https://creativecommons.org/licenses/by-nc-sa/4.0/\"><img alt=\"Creative Commons License\" style=\"border-width:0\" src=\"https://i.creativecommons.org/l/by-nc-sa/4.0/80x15.png\" /></a><br /><span xmlns:dct=\"http://purl.org/dc/terms/\" property=\"dct:title\">Elementary Differential Equations</span> by <a xmlns:cc=\"http://creativecommons.org/ns#\" href=\"https://github.com/CU-Denver-MathStats-OER/ODEs\" property=\"cc:attributionName\" rel=\"cc:attributionURL\">Adam Spiegler, Jonathon Hirschi, and Dmitry Ostrovskiy</a> is licensed under a <a rel=\"license\" href=\"http://creativecommons.org/licenses/by-nc-sa/4.0/\">Creative Commons Attribution-NonCommercial-ShareAlike 4.0 International License</a>.<br />Based on a work at <a xmlns:dct=\"http://purl.org/dc/terms/\" href=\"https://github.com/CU-Denver-MathStats-OER/ODEs\" rel=\"dct:source\">https://github.com/CU-Denver-MathStats-OER/ODEs</a> and original content created by Rasmussen, C., Keene, K. A., Dunmyre, J., & Fortune, N. (2018). *Inquiry oriented differential equations: Course materials*. Available at <a href=\"https://iode.wordpress.ncsu.edu\">https://iode.wordpress.ncsu.edu</a>."
   ]
  }
 ],
 "metadata": {
  "kernelspec": {
   "display_name": "Python 3",
   "language": "python",
   "name": "python3"
  },
  "language_info": {
   "codemirror_mode": {
    "name": "ipython",
    "version": 3
   },
   "file_extension": ".py",
   "mimetype": "text/x-python",
   "name": "python",
   "nbconvert_exporter": "python",
   "pygments_lexer": "ipython3",
   "version": "3.8.8"
  }
 },
 "nbformat": 4,
 "nbformat_minor": 5
}
