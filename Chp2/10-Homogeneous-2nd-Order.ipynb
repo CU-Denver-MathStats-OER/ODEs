{
 "cells": [
  {
   "cell_type": "markdown",
   "id": "5fe89175-af5f-42d0-be79-eacccdbb597d",
   "metadata": {},
   "source": [
    "[![Open In Colab](https://colab.research.google.com/assets/colab-badge.svg)](https://githubtocolab.com/CU-Denver-MathStats-OER/ODEs/blob/main/Chp2/10-Homogeneous-2nd-Order.ipynb)\n"
   ]
  },
  {
   "cell_type": "markdown",
   "id": "5ff9aba5-5ee6-40f0-9b32-9e8fade32603",
   "metadata": {},
   "source": [
    "# Lab 2.2: Homogeneous Second Order Linear Differential Equations\n",
    "---\n",
    "\n",
    "<font color=\"dodgerblue\">Reading: *Notes on Diffy Q's* Section 2.2 Part 2 (complex roots)</font>\n",
    "\n",
    "A second order linear differential equation with constant coefficients has the form\n",
    "\n",
    "$$\\color{dodgerblue}{a \\frac{d^2x}{dt^2}+b\\frac{dx}{dt}+cx=}\\color{tomato}{f(t)}$$\n",
    "\n",
    "where $a$, $b$, and  $c$ are constants and $f$ is a continuous function of $t$.\n",
    "\n",
    "- If $\\color{tomato}{f(t)=0}$, then the equation is called **homogeneous**.\n",
    "- If $\\color{tomato}{f(t)\\ne 0}$, then the equation is called **nonhomogeneous**."
   ]
  },
  {
   "cell_type": "markdown",
   "id": "8b2e44b6-1303-4c25-ae0f-eb5d103146e0",
   "metadata": {},
   "source": [
    "## Revisiting the Roots of the Characteristic Equation\n",
    "--- \n",
    "\n",
    "We have shown that to find solutions to the homogeneous case $a \\dfrac{d^2x}{dt^2}+b\\dfrac{dx}{dt}+cx =0$, we can:\n",
    "\n",
    "1. Set up the corresponding characteristic polynomial, $ar^2+br+c=0$.\n",
    "2. Find solutions $r=r_1$ and $r=r_2$ to the characteristic equation.\n",
    "3. <mark>Quadratic equations may have real or complex solutions</mark>:\n",
    "\n",
    "- If $r_1$ and $r_2$ are <font color=\"dodgerblue\">distinct real numbers</font>, then the general solution is <font color=\"dodgerblue\">$x(t) = C_1e^{r_1t} + C_2e^{r_2t}$</font>.\n",
    "- If there is <font color=\"dodgerblue\">one repeated root</font>, $r_1$, then the general solution is <font color=\"dodgerblue\">$x(t) = C_1e^{r_1t} + C_2\\color{tomato}{t}e^{r_1t}$</font>.\n",
    "- **<font color=\"tomato\">If the solutions are of the form $\\mathbf{r = \\alpha \\pm i \\beta}$, then what?</font>**"
   ]
  },
  {
   "cell_type": "markdown",
   "id": "1ed42c0d-629b-484f-ac2f-900f554120d3",
   "metadata": {},
   "source": [
    "## <a name='10quest1'>Question 1:</a>\n",
    "---\n",
    "\n",
    "Let $\\displaystyle f(t)=e^{i \\beta t}$ and answer the questions below."
   ]
  },
  {
   "cell_type": "markdown",
   "id": "e2bde71a-c7a3-4b38-a69a-e5daab9ac00d",
   "metadata": {},
   "source": [
    "### Question 1a:\n",
    "---\n",
    "\n",
    "Find a formula for $f'$, $f''$, $f'''$, $f^{iv}$, and $f^{v}$.\n",
    "\n",
    "#### Solution to Question 1a:\n",
    "---\n",
    "\n",
    "<br> <br> <br> <br> <br> <br>"
   ]
  },
  {
   "cell_type": "markdown",
   "id": "f2e26fbe-e895-4dd1-aae6-0b8af09c20af",
   "metadata": {},
   "source": [
    "### Question 1b:\n",
    "---\n",
    "\n",
    "Express $f(t)=e^{i \\beta t}$ using as a Taylor series at $t=0$.\n",
    "\n",
    "$$f(t) = f(0) + \\frac{f'(0)}{1!}t + \\frac{f''(0)}{2!} t^2 +   \\frac{f'''(0)}{3!} t^3 + \\frac{f^{iv}(0)}{4!} t^4 +  \\frac{f^{v}(0)}{5!} t^5 +  \\ldots$$\n",
    "\n",
    "#### Solution to Question 1b:\n",
    "---\n",
    "\n",
    "<br> <br> <br> <br> <br> <br>"
   ]
  },
  {
   "cell_type": "markdown",
   "id": "16782520-65e6-491f-ab26-ac0a2780acc9",
   "metadata": {},
   "source": [
    "### Question 1c:\n",
    "---\n",
    "\n",
    "Group the real and imaginary parts of the first several terms in the Taylor series together.\n",
    "\n",
    "#### Solution to Question 1c:\n",
    "---\n",
    "\n",
    "<br> <br> <br> <br> <br> <br>"
   ]
  },
  {
   "cell_type": "markdown",
   "id": "654a262c-f8c9-4bae-aeee-d5d53f37ee8f",
   "metadata": {},
   "source": [
    "### Question 1d:\n",
    "---\n",
    "\n",
    "Do you recognize these are Taylor series of common functions?\n",
    "\n",
    "#### Solution to Question 1d:\n",
    "---\n",
    "\n",
    "<br> <br> <br> <br> <br> <br>"
   ]
  },
  {
   "cell_type": "markdown",
   "id": "2540945d-6f11-4bcf-a9a4-a20db63c8d5b",
   "metadata": {},
   "source": [
    "# Euler's Formula\n",
    "---\n",
    "\n",
    "The previous question is a proof of  <font color=\"dodgerblue\">**Euler's formula**</font> which allows us to write exponentials in  <font color=\"dodgerblue\">**polar form**</font>,\n",
    "\n",
    "$$\\large \\color{dodgerblue}{e^{(\\alpha + i \\beta) t} = e^{\\alpha t} \\bigg( \\cos{(\\beta t)} + i  \\sin{(\\beta t)} \\bigg).}$$"
   ]
  },
  {
   "cell_type": "markdown",
   "id": "afe702c7-5506-4845-81d5-3ad215e79bb3",
   "metadata": {},
   "source": [
    "## <a name='10quest2'>Question 2:</a>\n",
    "---\n",
    "\n",
    "If $z(t)=P(t)+i Q(t)$ is complex solution to a differential equation of the form $az''+bz'+cz=0$,\n",
    "prove that the real part $P(t)$ is a solution itself and the imaginary part $Q(t)$ (not including the $i$) is also a solution itself.\n",
    "\n",
    "Note the derivative of a complex function is the sum of the derivatives of the real and imaginary parts of the complex function\n",
    "\n",
    "$$z'(t) = P'(t) + i Q'(t).$$\n",
    "\n",
    "### Solution to Question 2:\n",
    "---\n",
    "\n",
    "<br> <br> <br> <br> <br> <br>"
   ]
  },
  {
   "cell_type": "markdown",
   "id": "1f76ddd0-1b14-4709-b4c2-8847d72c41ad",
   "metadata": {},
   "source": [
    "## <a name='10quest3'>Question 3:</a>\n",
    "---\n",
    "\n",
    "\n",
    "Find the general solution to the homogeneous differential equation  \n",
    "\n",
    "$$\\frac{d^2x}{dt^2}+2 \\frac{dx}{dt} + 17x=0$$\n",
    "\n",
    "Use the results from [Question 2](#10quest2) on exponentiation of complex numbers to find the general solution to the differential equation. \n",
    "\n",
    "### Solution to Question 3:\n",
    "---\n",
    "\n",
    "<br> <br> <br> <br> <br> <br>"
   ]
  },
  {
   "cell_type": "markdown",
   "id": "a5e95e31-a626-426f-8dec-2424a67dd57c",
   "metadata": {},
   "source": [
    "## <a name='10quest4'>Question 4:</a>\n",
    "---\n",
    "\n",
    "Replace each blank in the cell below with an appropriate formula.\n",
    "\n",
    "### Solution to Question 4:\n",
    "---\n",
    "<br> <br> \n",
    "\n",
    "<mark>Fill in solutions below.</mark>\n",
    "\n",
    "<br> <br> "
   ]
  },
  {
   "cell_type": "markdown",
   "id": "0516c237-8beb-4589-bc2f-626bdcc15446",
   "metadata": {},
   "source": [
    "# General Solution when Roots are Complex\n",
    "---\n",
    "\n",
    "To summarize our results, when solving a homogeneous second order differential with constant coefficients, we can find the zeros of the corresponding characteristic equation. Then \n",
    "\n",
    "- If $r_1$ and $r_2$ are  <font color=\"dodgerblue\">**distinct real numbers**</font>, then the general solution is\n",
    "\n",
    "$$\\_\\_\\_\\_?\\_\\_\\_\\_$$\n",
    "\n",
    "<br> <br> <br>\n",
    "\n",
    "- If there is  <font color=\"dodgerblue\">**one repeated root**</font>, $r_1$, then the general solution is \n",
    "\n",
    "$$\\_\\_\\_\\_?\\_\\_\\_\\_$$\n",
    "\n",
    "<br> <br> <br>\n",
    "\n",
    "- If there are  <font color=\"dodgerblue\">**complex solutions**</font> of the form $r = \\alpha \\pm i \\beta$, then the general solution is \n",
    "\n",
    "$$\\_\\_\\_\\_?\\_\\_\\_\\_$$\n",
    "\n",
    "<br> <br> <br>"
   ]
  },
  {
   "cell_type": "markdown",
   "id": "15b30ca5-51f9-43a7-b4ad-945cf4197e1b",
   "metadata": {},
   "source": [
    "## <a name='10quest5'>Question 5:</a>\n",
    "---\n",
    "\n",
    "Find a general solution to the differential equation $\\displaystyle 2y''+7y'-4y=0$.\n",
    "\n",
    "### Solution to Question 5:\n",
    "---\n",
    "\n",
    "<br> <br> <br> <br> <br> <br>"
   ]
  },
  {
   "cell_type": "markdown",
   "id": "db1e1dd0-9a57-4173-b6e6-9ec66aec960e",
   "metadata": {},
   "source": [
    "# Mass-Spring Oscillator\n",
    "---\n",
    "\n",
    "Imagine we connect an object with <font color = 'mediumseagreen'>mass $m$</font> kg to a spring with <font color = \"dodgerblue\">stiffness coefficient</font> $k$ kg/sec$^2$ that is connected to a stationary wall on the other end. We give the mass some initial position $s_0$ and velocity $v_0$, and we observe the mechanics of how the mass moves along a surface with <font color=\"tomato\">friction coefficient $b$</font> kg/sec. Such a system is called a  <font color=\"dodgerblue\">**mass-spring oscillator**</font> or a  <font color=\"dodgerblue\">**harmonic oscillator**</font>. The position of the mass at time, $y(t)$, is modeled by the second order differential equation\n",
    "\n",
    "$$\\large \\color{mediumseagreen}{m}y''+\\color{tomato}{b}y'+\\color{dodgerblue}{k}y=0; \\qquad y(0)=s_0, \\quad y'(0)=v_0.$$\n",
    "\n",
    "![Mass-Spring Oscillator](Images/10mass-spring.png)"
   ]
  },
  {
   "cell_type": "markdown",
   "id": "d1d258d0-a7f3-4c74-b823-a4fa5a13bdaf",
   "metadata": {},
   "source": [
    "## <a name='10quest6'>Question 6:</a>\n",
    "---\n",
    "\n",
    "Consider the mass-spring oscillator that has mass $m=1$ kg, stiffness $k=4$ kg/sec$^2$, and\n",
    "damping $b$ kg/sec. The displacement $y$ from equilibrium position at time $t$ seconds \n",
    "satisfies the initial value problem\n",
    "\n",
    "$$y''+by'+4y=0; \\ \\ y(0)=1 \\ \\ y'(0)=0.$$"
   ]
  },
  {
   "cell_type": "markdown",
   "id": "022e43f0-2c04-49fa-9f09-018c26676afc",
   "metadata": {},
   "source": [
    "### Question 6a:\n",
    "---\n",
    "\n",
    "Interpret the practical meaning of the initial conditions.\n",
    "\n",
    "#### Solution to Question 6a:\n",
    "---\n",
    "\n",
    "<br> <br> <br> <br> <br> <br>"
   ]
  },
  {
   "cell_type": "markdown",
   "id": "858596a4-bfd8-4280-97dc-eac9c661de6c",
   "metadata": {},
   "source": [
    "### Question 6b:\n",
    "---\n",
    "\n",
    "Find the solution if the damping coefficient is $b=0$ and describe what happens to the mass as $t \\to \\infty$.\n",
    "\n",
    "#### Solution to Question 6b:\n",
    "---\n",
    "\n",
    "<br> <br> <br> <br> <br> <br>"
   ]
  },
  {
   "cell_type": "markdown",
   "id": "a0cead28-8163-4a42-b34c-542643160fda",
   "metadata": {},
   "source": [
    "### Question 6c:\n",
    "---\n",
    "\n",
    "Find the solution if the damping coefficient is $b=5$ and describe what happens to the mass as $t \\to \\infty$. \n",
    "\n",
    "#### Solution to Question 6c:\n",
    "---\n",
    "\n",
    "<br> <br> <br> <br> <br> <br>"
   ]
  },
  {
   "cell_type": "markdown",
   "id": "10e2f06c-b518-4001-95d9-4de46bc6beb8",
   "metadata": {},
   "source": [
    "### Question 6d:\n",
    "---\n",
    "\n",
    "Find the solution if the damping coefficient is $b=4$ and describe what happens to the mass as $t \\to \\infty$. \n",
    "\n",
    "#### Solution to Question 6d:\n",
    "---\n",
    "\n",
    "<br> <br> <br> <br> <br> <br>"
   ]
  },
  {
   "cell_type": "markdown",
   "id": "68ae7476-19d2-4e32-8401-6a5d2363c1eb",
   "metadata": {},
   "source": [
    "### Question 6e:\n",
    "---\n",
    "\n",
    "Find the solution if the damping coefficient is $b=2$ and describe what happens to the mass as $t \\to \\infty$.\n",
    "\n",
    "#### Solution to Question 6e:\n",
    "---\n",
    "\n",
    "<br> <br> <br> <br> <br> <br>"
   ]
  },
  {
   "cell_type": "markdown",
   "id": "5f15ebb9-1f73-4c31-b654-87faf9162921",
   "metadata": {},
   "source": [
    "# <a name=\"10mass-spring\">Testing Our Results in the Mass-Spring Lab</a>\n",
    "---\n",
    "\n",
    "We now import a function named `damped_harmonic_oscillator()` that lives inside a module named `mass_spring` stored in GitHub.\n",
    "\n",
    "- See [Mass-Spring-Tutorial.ipynb](https://githubtocolab.com/CU-Denver-MathStats-OER/ODEs/blob/main/Chp2/Mass-Spring-Tutorial.ipynb) for more detailed instructions."
   ]
  },
  {
   "cell_type": "markdown",
   "id": "73c87991-bfde-410e-9555-77cb73009da8",
   "metadata": {
    "id": "tuvCY_YV5kMB"
   },
   "source": [
    "## <a name='LoadModule'>Loading `mass_spring` from GitHub</a>\n",
    "---\n",
    "\n",
    "- Run the code cell below to load the most up to date modules stored in GitHub.\n",
    "- You will only need to run this code cell one time during an active session."
   ]
  },
  {
   "cell_type": "code",
   "execution_count": null,
   "id": "6cc8f7b7-f44a-4228-bf31-ed3528a3b674",
   "metadata": {},
   "outputs": [],
   "source": [
    "!pip install git+https://github.com/CU-Denver-MathStats-OER/ODEs\n",
    "from IPython.display import clear_output\n",
    "clear_output()"
   ]
  },
  {
   "cell_type": "markdown",
   "id": "3f51e797-ee67-4264-ae0e-d9e60a0d04c1",
   "metadata": {},
   "source": [
    "## <a name=\"10import\">Importing `damped_harmonic_oscillator`</a>\n",
    "---\n",
    "\n",
    "In the first code cell we install a package to allow us to run interactives in Jupyter.\n",
    "\n",
    "- You only need to run this one time ever! If you have already run this command before, you do not need to ever run it again!\n",
    "\n",
    "In the second code cell below, we import the `damped_harmonic_oscillator` function from the `mass_spring` module.\n",
    "\n",
    "- If you receive an error when running the second code cell, this means you have not loaded `mass_spring` from GitHub in a previous code cell.\n"
   ]
  },
  {
   "cell_type": "code",
   "execution_count": null,
   "id": "fbb09e44-6f6b-4061-99f7-3d088a217c13",
   "metadata": {},
   "outputs": [],
   "source": [
    "# If not already installed, then will install and ask to restart runtime\n",
    "!pip install matplotlib==3.5.2"
   ]
  },
  {
   "cell_type": "code",
   "execution_count": null,
   "id": "545b1232-c96f-44b7-ab20-ed4cabde0f06",
   "metadata": {
    "id": "f38fbe97-697f-4eb5-aab1-b28acdf0d6a5"
   },
   "outputs": [],
   "source": [
    "from utils.mass_spring import damped_harmonic_oscillator  # Only need to import one time."
   ]
  },
  {
   "cell_type": "markdown",
   "id": "ee41e651-e4bc-4417-82a3-e8b6b179c203",
   "metadata": {},
   "source": [
    "## <a name=\"10mass-spring\">Running Experiments</a>\n",
    "---\n",
    "\n",
    "Recall the mass-spring system (also called a **damped harmonic oscillator**) has the following model\n",
    "\n",
    "$$my''+by'+ky=0; \\ \\ y(0)=s_0 \\ \\ y'(0)=v_0.$$\n",
    "\n",
    "In [Problem 6](#10quest6) we have:\n",
    "\n",
    "- $m=1$, \n",
    "- $k=4$, \n",
    "- and then we condsidered what happens when we change the amount of friction (damping) in the system. \n",
    "\n",
    "**Experiment with the value of $b$ in the code cell below, and see how changing $b$ affects the behavior of mass-spring systems.** \n",
    "\n",
    "- Note the animation may take several seconds to complete running.\n"
   ]
  },
  {
   "cell_type": "code",
   "execution_count": null,
   "id": "4a9a8a31-376f-475c-8ff7-d42489c60b27",
   "metadata": {},
   "outputs": [],
   "source": [
    "damped_harmonic_oscillator(m=1,  # mass is 1\n",
    "                           b=0,  # friction is 0\n",
    "                           k=4,  # stiffness is 4\n",
    "                           x0=[1,0])  # initial position and velocity"
   ]
  },
  {
   "cell_type": "markdown",
   "id": "5203dd54-bdec-4431-8de8-99f4ef6b0277",
   "metadata": {},
   "source": [
    "## Running A Side-by-Side Comparison\n",
    "---\n",
    "\n",
    "The function `damped_harmonic_comp()` will simultaneously run to animations for two different mass-spring systems.\n",
    "\n",
    "Below we compare an underdampled and overdamped system.\n",
    "\n",
    "1. You first need to import the `damped_harmonic_comp` function from `mass_spring`. You only need to do this one time in an active sesion.\n",
    "2. Set parameters for both systems.\n",
    "3. Run the code cell. I may take up to a minute to run.\n",
    "4. Press the play button."
   ]
  },
  {
   "cell_type": "code",
   "execution_count": null,
   "id": "494cb667-6a37-4684-9954-f34c4db39a54",
   "metadata": {},
   "outputs": [],
   "source": [
    "from utils.mass_spring import damped_harmonic_oscillator_comp"
   ]
  },
  {
   "cell_type": "code",
   "execution_count": null,
   "id": "ce993ad9-ec6b-4d49-8da3-43914ce8a6a5",
   "metadata": {},
   "outputs": [],
   "source": [
    "damped_harmonic_oscillator_comp(m=[0.2, 0.3],  # masses\n",
    "                                b=[0.5, 0.1],  # frictions\n",
    "                                k=[1, 2],  # stiffnesses  \n",
    "                                A=[0, 0],  # Amplitudes of forcing\n",
    "                                omega=[1, 1],  # Frequencies of forcing\n",
    "                                x0=[[0.5, 1], [-0.5, -1]],  # initial conditions\n",
    "                                fps=4,  # frames per second\n",
    "                                tf=40)  # total time"
   ]
  },
  {
   "cell_type": "markdown",
   "id": "c4e1c755-eab9-4393-85e6-0b3d56ce8c40",
   "metadata": {},
   "source": [
    "## Creative Commons License Information\n",
    "<a rel=\"license\" href=\"https://creativecommons.org/licenses/by-nc-sa/4.0/\"><img alt=\"Creative Commons License\" style=\"border-width:0\" src=\"https://i.creativecommons.org/l/by-nc-sa/4.0/80x15.png\" /></a><br /><span xmlns:dct=\"http://purl.org/dc/terms/\" property=\"dct:title\">*Exploring Differential Equations*</span> by <a xmlns:cc=\"http://creativecommons.org/ns#\" href=\"https://github.com/CU-Denver-MathStats-OER/ODEs\" property=\"cc:attributionName\" rel=\"cc:attributionURL\">Adam Spiegler</a> is licensed under a <a rel=\"license\" href=\"http://creativecommons.org/licenses/by-nc-sa/4.0/\">Creative Commons Attribution-NonCommercial-ShareAlike 4.0 International License</a>.<br />Based on a work at <a xmlns:dct=\"http://purl.org/dc/terms/\" href=\"https://github.com/CU-Denver-MathStats-OER/ODEs\" rel=\"dct:source\">https://github.com/CU-Denver-MathStats-OER/ODEs</a> and original content created by Rasmussen, C., Keene, K. A., Dunmyre, J., & Fortune, N. (2018). *Inquiry oriented differential equations: Course materials*. Available at <a href=\"https://iode.sdsu.edu\">https://iode.sdsu.edu</a>."
   ]
  }
 ],
 "metadata": {
  "kernelspec": {
   "display_name": "Python 3 (ipykernel)",
   "language": "python",
   "name": "python3"
  },
  "language_info": {
   "codemirror_mode": {
    "name": "ipython",
    "version": 3
   },
   "file_extension": ".py",
   "mimetype": "text/x-python",
   "name": "python",
   "nbconvert_exporter": "python",
   "pygments_lexer": "ipython3",
   "version": "3.9.13"
  }
 },
 "nbformat": 4,
 "nbformat_minor": 5
}
