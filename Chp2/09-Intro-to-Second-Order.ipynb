{
 "cells": [
  {
   "cell_type": "raw",
   "id": "649bb9da",
   "metadata": {},
   "source": [
    "# Second Order Linear Differential Equations\n",
    "---\n",
    "\n",
    "A second order linear differential equation has the form\n",
    "\n",
    "$$\\color{blue}{P(t)\\frac{d^2y}{dt^2}+Q(t)\\frac{dy}{dt}+R(t)y=G(t)}$$\n",
    "\n",
    "where $P$, $Q$, $R$, and $G$ are continuous functions of the indpendent variable ($t$). There are many applications for which this type of differential equation is a useful model."
   ]
  },
  {
   "cell_type": "markdown",
   "id": "2e49de24-bcf8-47c3-9408-81b5397af5b8",
   "metadata": {},
   "source": [
    "## Applications: Breaking a Glass with your Voice\n",
    "---\n",
    "\n",
    "**Glass Breaking**: You probably have all seen in cartoons or on Mythbusters where a wineglass is broken by singing a particular high-pitched note. The phenomenon that makes this possible is called **resonance**. Resonance results from the fact that the crystalline structures of certain solids have natural frequencies of vibration. An external force of the same frequency will \"resonate\" with the object and create a huge increase in energy. For instance, if the frequency of a musical note matches the natural vibration of a crystal wineglass, the glass will vibrate with increasing amplitude until it shatters. The following is one model for understanding resonance.\n",
    "\n",
    "$$\\frac{d^2x}{dt^2}+k^2x=\\cos(kt)$$\n",
    "\n",
    "If you don't believe this is possible. Play the video below. \n",
    "\n",
    "Video Source: \"Boy Breaks Wine Glass with Voice.\" YouTube, uploaded by chasechocolate, uploaded December 14, 2009."
   ]
  },
  {
   "cell_type": "code",
   "execution_count": 1,
   "id": "0c76af54-9b4f-4278-ad35-0d1438888eb8",
   "metadata": {
    "tags": []
   },
   "outputs": [
    {
     "data": {
      "image/jpeg": "[encoded data removed]",
      "text/html": [
       "\n",
       "        <iframe\n",
       "            width=\"800\"\n",
       "            height=\"450\"\n",
       "            src=\"https://www.youtube.com/embed/sH7XSX10QkM\"\n",
       "            frameborder=\"0\"\n",
       "            allowfullscreen\n",
       "        ></iframe>\n",
       "        "
      ],
      "text/plain": [
       "<IPython.lib.display.YouTubeVideo at 0x7faa5e0a23d0>"
      ]
     },
     "execution_count": 1,
     "metadata": {},
     "output_type": "execute_result"
    }
   ],
   "source": [
    "from IPython.display import YouTubeVideo\n",
    "\n",
    "YouTubeVideo('sH7XSX10QkM', width=800, height=450)"
   ]
  },
  {
   "cell_type": "markdown",
   "id": "a2cba381-3e4e-41fd-9b23-a54231c3d6be",
   "metadata": {},
   "source": [
    "## Applications: Collapsing Bridge\n",
    "---\n",
    "\n",
    "**Tacoma Narrows Bridge**: The Tacoma Narrows Bridge in Washington State was one of the largest suspended bridges built at the time. The bridge connecting the Tacoma Narrows channel collapsed in a dramatic way on Thursday November 7, 1940. Winds of 35-46 miles/hours produced an oscillation which eventually broke the construction. The bridge began first to vibrate torsionally, giving it a twisting motion. Later the vibrations entered a natural resonance (same term as in the glass breaking) with the bridge. Here is a simplified second order differential equation that models the situation of the Tacoma Bridge.\n",
    "\n",
    "$$\\frac{d^2y}{dt^2}+4y=2\\sin(2.1t)$$\n",
    "\n",
    "If you don't believe this is possible. Play the video below. \n",
    "\n",
    "Video Source: \"The Collapse of 'Galloping Gertie'.\" YouTube, uploaded by \n",
    "Smithsonian National Air and Space Museum, uploaded November 4, 2019."
   ]
  },
  {
   "cell_type": "code",
   "execution_count": 2,
   "id": "b86e03e9-f68c-4f6c-8ec5-82f2a06b0ef6",
   "metadata": {},
   "outputs": [
    {
     "data": {
      "image/jpeg": "[encoded data removed]",
      "text/html": [
       "\n",
       "        <iframe\n",
       "            width=\"800\"\n",
       "            height=\"450\"\n",
       "            src=\"https://www.youtube.com/embed/y0xohjV7Avo\"\n",
       "            frameborder=\"0\"\n",
       "            allowfullscreen\n",
       "        ></iframe>\n",
       "        "
      ],
      "text/plain": [
       "<IPython.lib.display.YouTubeVideo at 0x7faa5e0a2ac0>"
      ]
     },
     "execution_count": 2,
     "metadata": {},
     "output_type": "execute_result"
    }
   ],
   "source": [
    "from IPython.display import YouTubeVideo\n",
    "\n",
    "YouTubeVideo('y0xohjV7Avo', width=800, height=450)"
   ]
  },
  {
   "cell_type": "markdown",
   "id": "8d00df5e-11da-4f87-b7e9-c261b6b80188",
   "metadata": {},
   "source": [
    "## More Applications of Second Order Differential Equations\n",
    "---\n",
    "\n",
    "Sometimes resonance is a good thing!  Violins, for instance, are designed so that their body resonates at as many different frequencies as possible, which allows you to hear the vibrations of the strings!\n",
    "\n",
    "There are many other situations that can be modeled with second order differential equations, including mass-spring systems, RLC circuits, pendulums, car springs bouncing, etc. In this section you will learn how to solve second order linear differential equations with constant coefficients. That is, equations where $P$, $Q$, and $R$ are constant. If $G$ is zero, then the equation is called **homogeneous**. When $G$ is nonzero then the equation is called **non-homogeneous**. As you will discover in the sections that follow, the distinction between homogeneous and non-homogeneous equations will be quite useful."
   ]
  },
  {
   "cell_type": "markdown",
   "id": "dbd1e117-f69c-4259-9d63-3f757ce998d1",
   "metadata": {},
   "source": [
    "# Guess and Test\n",
    "---\n",
    "\n",
    "Normally, guess and check is not an efficient algorithm for solving mathematical equations. In the case of a differential equation, we have an infinite number of possible solutions that we check.\n",
    "\n",
    "- Based on the structure of the differential equation, we can identify the general form of a solution.\n",
    "- Then we can test our guess and refine it.\n",
    "\n",
    "By working through some examples, we can build an intuition for determining what a wise initial guess might be."
   ]
  },
  {
   "cell_type": "raw",
   "id": "9888162c",
   "metadata": {},
   "source": [
    "## <a name='09quest1'>Question 1:</a>\n",
    "---\n",
    "\n",
    "Read the following equations *with meaning*, by completing the following sentence, \n",
    "\n",
    "> \"$x(t)$ is a function for which its second derivative ...\" (try saying *itself* instead of $x$).\n",
    "\n",
    "$$ \\mbox{a. } \\frac{d^2x}{dt^2} = -x \\qquad\n",
    "\\mbox{b. } \\frac{d^2x}{dt^2} + x = 0 \\qquad\n",
    "\\mbox{c. } \\frac{d^2x}{dt^2} + 4x = 0 \\qquad\n",
    "\\mbox{d. } \\frac{d^2x}{dt^2} = x$$\n",
    "\n",
    "### Solution to Question 1:\n",
    "---\n",
    "\n",
    "<br> <br> <br> <br> <br> <br>"
   ]
  },
  {
   "cell_type": "markdown",
   "id": "5485c896-aa62-4b35-830b-c8aea5fd102b",
   "metadata": {},
   "source": [
    "## <a name='09quest2'>Question 2:</a>\n",
    "---\n",
    "\n",
    "For each differential equation (a)-(d) in [Question 1](#09quest1), based on your readings *with meaning*, find two different solution functions.\n",
    "\n",
    "### Solution to Question 2:\n",
    "---\n",
    "\n",
    "<br> <br> <br> <br> <br> <br>"
   ]
  },
  {
   "cell_type": "markdown",
   "id": "ca457cba-5cd9-4ad6-bc4b-cab2e9d0db16",
   "metadata": {},
   "source": [
    "## <a name='09quest3'>Question 3:</a>\n",
    "---\n",
    "\n",
    "Your task in this problem is to use the *\"guess and test\"* approach to find a solution to the linear second order, homogeneous differential equation\n",
    "\n",
    "$$\\frac{d^2x}{dt^2}+10\\frac{dx}{dt}+9x=0$$\n",
    "\n",
    "\n",
    "By now you know very well that solutions are functions. **What is your best guess for a function whose second derivative plus 10 times its first derivative plus 9 times the function itself sum to zero?** Explain briefly the rationale for your guess and then test it out to see if it works. If it doesn't work refine your guess and keep trying.\n",
    "\n",
    "### Solution to Question 3:\n",
    "---\n",
    "\n",
    "<br> <br> <br> <br> <br> <br>"
   ]
  },
  {
   "cell_type": "markdown",
   "id": "2ad43d20-a0fd-4170-8da6-9258d2fe2c79",
   "metadata": {},
   "source": [
    "## <a name='09quest4'>Question 4:</a>\n",
    "---\n",
    "\n",
    "Determine if a constant multiple of your solution in [Question 3](#09quest3) is also a solution.\n",
    "\n",
    "\n",
    "### Solution to Question 4:\n",
    "---\n",
    "\n",
    "<br> <br> <br> <br> <br> <br>"
   ]
  },
  {
   "cell_type": "markdown",
   "id": "1e4e67e9-acba-40ab-bf3d-f0cee842c793",
   "metadata": {},
   "source": [
    "## <a name='09quest5'>Question 5:</a>\n",
    "---\n",
    "\n",
    "Try and find a different solution, one that is not a constant multiple of your solution to problem [Question 3](#09quest3)\n",
    "\n",
    "### Solution to Question 5:\n",
    "---\n",
    "\n",
    "<br> <br> <br> <br> <br> <br>"
   ]
  },
  {
   "cell_type": "markdown",
   "id": "474f4120-a378-4990-ae95-eeebc08b83b9",
   "metadata": {},
   "source": [
    "## <a name='09quest6'>Question 6:</a>\n",
    "---\n",
    "\n",
    "Determine the *general solution* to $\\dfrac{d^2x}{dt^2}+10\\dfrac{dx}{dt}+9x=0$. \n",
    "\n",
    "### Solution to Question 6:\n",
    "---\n",
    "\n",
    "<br> <br> <br> <br> <br> <br>"
   ]
  },
  {
   "cell_type": "markdown",
   "id": "103793db-b287-4069-9224-4fd1c8afa461",
   "metadata": {},
   "source": [
    "## <a name='09quest7'>Question 7:</a>\n",
    "---\n",
    "\n",
    "Consider again the differential equation $\\dfrac{d^2x}{dt^2}+10\\dfrac{dx}{dt}+9x=0$. \n",
    "\n",
    "### Solution to Question 7:\n",
    "---\n",
    "\n",
    "<br> \n",
    "\n",
    "| Operation to Perform | &nbsp; &nbsp; &nbsp; &nbsp; &nbsp; &nbsp; &nbsp; &nbsp; &nbsp; &nbsp; &nbsp; &nbsp; &nbsp; &nbsp; &nbsp; &nbsp; &nbsp; &nbsp; &nbsp; &nbsp; Result &nbsp; &nbsp; &nbsp; &nbsp; &nbsp; &nbsp; &nbsp; &nbsp; &nbsp; &nbsp; &nbsp; &nbsp; &nbsp; &nbsp; &nbsp; &nbsp; &nbsp; &nbsp; &nbsp; &nbsp; |\n",
    "|----------------------|--------|\n",
    "| By guessing $x(t) = e^{rt}$, show that this <br> guess yields a solution to the <br> differential equation precisely when <br> $r^2 + 10r + 9 = 0$. | <br> <br> <br> <center>??</center> <br> <br> <br> |\n",
    "| Solve this quadratic equation to find <br> two different values of $r$. | <br> <br> <br> <center>??</center> <br> <br> <br> |\n",
    "| State two different solutions for the <br> differential equation, one for each <br> value of $r$. | <br> <br> <br> <center>??</center> <br> <br> <br> |\n",
    "| Form the general solution by <br> multiplying your two solutions by <br> constants $c_1$ and $c_2$, and adding the <br> results. | <br> <br> <br> <center>??</center> <br> <br> <br> |\n",
    "| Congratulate yourself :) | <br> |"
   ]
  },
  {
   "cell_type": "markdown",
   "id": "95632f8c-4a6a-4725-af32-6ef99323d638",
   "metadata": {},
   "source": [
    "## <a name='09quest8'>Question 8:</a>\n",
    "---\n",
    "\n",
    "Find the general solution to the following differential equation: $\\dfrac{d^2x}{dt^2}+\\dfrac{dx}{dt}-6x=0$. \n",
    "\n",
    "### Solution to Question 8:\n",
    "---\n",
    "\n",
    "<br> <br> <br> <br> <br> <br>"
   ]
  },
  {
   "cell_type": "markdown",
   "id": "1c9a85e2-a52a-40c2-93a2-56445aab31b9",
   "metadata": {},
   "source": [
    "## <a name='09quest9'>Question 9:</a>\n",
    "---\n",
    "\n",
    "Show $y=Cte^{2t}$ is a solution to $y''-4y'+4y=0$.\n",
    "\n",
    "### Solution to Question 9:\n",
    "---\n",
    "\n",
    "<br> <br> <br> <br> <br> <br>"
   ]
  },
  {
   "cell_type": "markdown",
   "id": "786c37dc-a8fa-4c7d-b44a-8dc37b70c778",
   "metadata": {},
   "source": [
    "## <a name='09quest10'>Question 10:</a>\n",
    "---\n",
    "\n",
    "Why do you think the previous example has a \"different\" looking solution?\n",
    "\n",
    "### Solution to Question 10:\n",
    "---\n",
    "\n",
    "<br> <br> <br> <br> <br> <br>"
   ]
  },
  {
   "cell_type": "markdown",
   "id": "4d4b4973-7f28-4120-bd7e-9013964c164a",
   "metadata": {},
   "source": [
    "## <a name='09quest11'>Question 11:</a>\n",
    "---\n",
    "\n",
    "Solve the differential equation $z''+z'=z$.\n",
    "\n",
    "### Solution to Question 12:\n",
    "---\n",
    "\n",
    "<br> <br> <br> <br> <br> <br>"
   ]
  },
  {
   "cell_type": "markdown",
   "id": "7183cc8b-a75e-433c-b188-6637d25121dd",
   "metadata": {},
   "source": [
    "## <a name='09quest12'>Question 12:</a>\n",
    "---\n",
    "\n",
    "Solve the differential equation $3w''+18w'+27w=0$.\n",
    "\n",
    "### Solution to Question 12:\n",
    "---\n",
    "\n",
    "<br> <br> <br> <br> <br> <br>"
   ]
  },
  {
   "cell_type": "markdown",
   "id": "0743cdcf-59d5-4db3-8118-0682a304af37",
   "metadata": {},
   "source": [
    "## <a name='09quest13'>Question 13:</a>\n",
    "---\n",
    "\n",
    "Solve the initial value probelm: $w''+8w'+16w=0$; $w(0)=-2$; $w'(0)=12$. \n",
    "\n",
    "### Solution to Question 13:\n",
    "---\n",
    "\n",
    "<br> <br> <br> <br> <br> <br>\n",
    "\n",
    "## <a name='09quest14'>Question 14:</a>\n",
    "---\n",
    "\n",
    "Solve the initial value probelm: $y'' +3y'-10y=0$; $y(0)=8$, $y'(0)=6$.\n",
    "\n",
    "### Solution to Question 14:\n",
    "---\n",
    "\n",
    "<br> <br> <br> <br> <br> <br>\n"
   ]
  },
  {
   "cell_type": "markdown",
   "id": "a9e60a9a-16ec-439d-b1ad-36f17438d8d0",
   "metadata": {},
   "source": [
    "## Creative Commons License Information\n",
    "<a rel=\"license\" href=\"https://creativecommons.org/licenses/by-nc-sa/4.0/\"><img alt=\"Creative Commons License\" style=\"border-width:0\" src=\"https://i.creativecommons.org/l/by-nc-sa/4.0/80x15.png\" /></a><br /><span xmlns:dct=\"http://purl.org/dc/terms/\" property=\"dct:title\">Elementary Differential Equations</span> by <a xmlns:cc=\"http://creativecommons.org/ns#\" href=\"https://github.com/CU-Denver-MathStats-OER/ODEs\" property=\"cc:attributionName\" rel=\"cc:attributionURL\">Adam Spiegler, Jonathon Hirschi, and Dmitry Ostrovskiy</a> is licensed under a <a rel=\"license\" href=\"http://creativecommons.org/licenses/by-nc-sa/4.0/\">Creative Commons Attribution-NonCommercial-ShareAlike 4.0 International License</a>.<br />Based on a work at <a xmlns:dct=\"http://purl.org/dc/terms/\" href=\"https://github.com/CU-Denver-MathStats-OER/ODEs\" rel=\"dct:source\">https://github.com/CU-Denver-MathStats-OER/ODEs</a> and original content created by Rasmussen, C., Keene, K. A., Dunmyre, J., & Fortune, N. (2018). *Inquiry oriented differential equations: Course materials*. Available at <a href=\"https://iode.wordpress.ncsu.edu\">https://iode.wordpress.ncsu.edu</a>."
   ]
  }
 ],
 "metadata": {
  "kernelspec": {
   "display_name": "Python 3 (ipykernel)",
   "language": "python",
   "name": "python3"
  },
  "language_info": {
   "codemirror_mode": {
    "name": "ipython",
    "version": 3
   },
   "file_extension": ".py",
   "mimetype": "text/x-python",
   "name": "python",
   "nbconvert_exporter": "python",
   "pygments_lexer": "ipython3",
   "version": "3.9.7"
  }
 },
 "nbformat": 4,
 "nbformat_minor": 5
}
