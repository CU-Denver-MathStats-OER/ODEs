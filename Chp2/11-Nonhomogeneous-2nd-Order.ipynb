{
 "cells": [
  {
   "cell_type": "markdown",
   "id": "6029af15-c7c0-4f80-8189-321be1913206",
   "metadata": {},
   "source": [
    "[![Open In Colab](https://colab.research.google.com/assets/colab-badge.svg)](https://githubtocolab.com/CU-Denver-MathStats-OER/ODEs/blob/main/Chp2/12-Superposition-2nd-Order.ipynb)\n"
   ]
  },
  {
   "cell_type": "markdown",
   "id": "c1f1c2f6-9432-47d2-b62f-be89c05d930c",
   "metadata": {
    "tags": []
   },
   "source": [
    "# Lab 2.3: Guess and Test for Nonhomogeneous Cases\n",
    "---\n",
    "\n",
    "<font color='blue'>Reading: *Notes on Diffy Q's* Section 2.5 and Section 2.6</font>\n",
    "\n",
    "So far we have been using patterns recognized in wisely guessing the form of solutions to \n",
    "homogeneous second order differential equations of the form $ay''+by'+cy = 0$.  \n",
    "<mark>**Can we adjust our guesses to handle nonhomogeneous differential equations as well?**</mark>"
   ]
  },
  {
   "cell_type": "markdown",
   "id": "ae4fb119-88f0-4bc3-a358-24e7e1851b39",
   "metadata": {},
   "source": [
    "## <a name='11quest1'>Question 1:</a>\n",
    "---\n",
    "\n",
    "Find a solution to the following  <font color=\"blue\">**nonhomogeneous**</font> differential equation:\n",
    "$$\\frac{d^2x}{dt^2}+10\\frac{dx}{dt}+9x=18.$$\n",
    "\n",
    "What is your best guess for a function whose second derivative plus 10 times its first derivative plus 9 times the function itself sum to 18? Test out your guess to see if it works. If it doesn't work keep trying. \n",
    "\n",
    "### Solution to Question 1:\n",
    "---\n",
    "\n",
    "<br> <br> <br> <br> <br> <br>"
   ]
  },
  {
   "cell_type": "markdown",
   "id": "456b1dd3",
   "metadata": {},
   "source": [
    "## A Particular Solution for a Nonhomogeneous Equation\n",
    "---\n",
    "\n",
    "The solution you found in the previous problem is called the  <font color=\"blue\">**particular solution**</font> to the nonhomogeneous differential equation it is not the general solution. For now we will focus on how we can find the particular solution by wisely guessing their general form based on the nonhomogeneous part of the differential equation. We will soon combine what we know about the homogeneous case and particular solutions to find general solutions. "
   ]
  },
  {
   "cell_type": "markdown",
   "id": "9b4a9db2",
   "metadata": {},
   "source": [
    "## <a name='11quest2'>Question 2:</a>\n",
    "---\n",
    "\n",
    "Find a solution to the following nonhomogeneous differential equation:\n",
    "$$\\frac{d^2x}{dt^2}+10\\frac{dx}{dt}+9x=18t.$$\n",
    "\n",
    "What is your best guess? Test out your guess to see if it works. If it doesn't work keep trying. \n",
    "\n",
    "### Solution to Question 2:\n",
    "---\n",
    "\n",
    "<br> <br> <br> <br> <br> <br>\n"
   ]
  },
  {
   "cell_type": "markdown",
   "id": "cd172330",
   "metadata": {},
   "source": [
    "## <a name='11quest3'>Question 3:</a>\n",
    "---\n",
    "\n",
    "Based on the previous examples, what would be a good guess for the general form of the particular solution to\n",
    "$$\\frac{d^2x}{dt^2}+10\\frac{dx}{dt}+9x=18t^3.$$\n",
    "\n",
    "Your guess should have depend on constants whose values you do not need to determine for this example.\n",
    "\n",
    "### Solution to Question 3:\n",
    "---\n",
    "\n",
    "<br> <br> <br> <br> <br> <br>\n"
   ]
  },
  {
   "cell_type": "markdown",
   "id": "6d7b1649-d926-40b7-928c-6ebaeac7ede5",
   "metadata": {},
   "source": [
    "## <a name='11quest4'>Question 4:</a>\n",
    "---\n",
    "\n",
    "Sean and Paula are trying to find the particular solution to \n",
    "\n",
    "$$\\frac{d^2x}{dt^2}+10\\frac{dx}{dt}+9x=85\\sin(2t).$$ \n",
    "\n",
    "<font color = 'red'>Sean guesses $x(t)=A\\sin(2t)$</font> for the particular solution and <font color = 'blue'>Paula guesses $x(t)=B\\cos(2t)$</font>."
   ]
  },
  {
   "cell_type": "markdown",
   "id": "bce90201-5e6d-47f8-9ceb-a68cbeeb71c7",
   "metadata": {},
   "source": [
    "### Question 4a:\n",
    "---\n",
    "\n",
    "Do you think these are reasonable guesses? Explain why or why not. <a id =\"11quest4a\"></a>\n",
    "\n",
    "#### Solution to Question 4a:\n",
    "---\n",
    "\n",
    "<br> <br> <br> <br> <br> <br>"
   ]
  },
  {
   "cell_type": "markdown",
   "id": "271e3d51-4c91-4e19-af10-ee74d7230085",
   "metadata": {},
   "source": [
    "### Question 4b:\n",
    "---\n",
    "\n",
    "For each of their guesses, can you find a value of $A$ or $B$ such that their guess is a solution? If yes, write down the general solution. If no, come up with a different guess for the particular solution and show that your guess is correct. <a id =\"11quest4b\"></a>\n",
    "\n",
    "#### Solution to Question 4b:\n",
    "---\n",
    "\n",
    "<br> <br> <br> <br> <br> <br>"
   ]
  },
  {
   "cell_type": "markdown",
   "id": "40efe0ef-585d-409a-be63-068c19fa1bd6",
   "metadata": {},
   "source": [
    "### Optional: Solving Question 4b with Python\n",
    "---\n",
    "\n",
    "We use our guess of $x_p(t) = $ <mark>??</mark> from [Problem 4b](#11quest4) in the code cell below.\n",
    "\n",
    "- First we import required libraries.\n",
    "- Then we define symbols.\n",
    "- Enter a symnbolic formula for $x_p(t)$ for `x` in the code below.\n",
    "- Compute first and second derivatives.\n",
    "- Plug $x_p$, $x'_p$, and $x''_p$ into the left side of the differential equation and group terms."
   ]
  },
  {
   "cell_type": "code",
   "execution_count": null,
   "id": "f899cc59-f883-49b1-9799-e1a7e04b37a5",
   "metadata": {},
   "outputs": [],
   "source": [
    "# STUDENT TO_DO: Replace each ?? with an appropriate expression\n",
    "\n",
    "import numpy as np\n",
    "import sympy as sym\n",
    "\n",
    "t, x, A, B = sym.symbols('t, x, A, B')  # Creating symbols\n",
    "\n",
    "x = ??  # Particular solution\n",
    "\n",
    "first = x.diff(t,1)  # find formula for x'_p\n",
    "second = x.diff(t,2)  # find formula for x''_p\n",
    "\n",
    "sym.simplify(??)  # simplify left side of diff eq"
   ]
  },
  {
   "cell_type": "markdown",
   "id": "7643ccab-ff65-4877-9270-b21cbff64261",
   "metadata": {},
   "source": [
    "#### Interpreting Simplified Output\n",
    "---\n",
    "\n",
    "The output above tells us that\n",
    "\n",
    "$$x''_p + 10x'_p + 9x_p = (??)\\sin{(2t)} + (??) \\cos{(2t)} = 85\\sin{(2t)} + 0 \\cos{(2t)}.$$\n",
    "\n",
    "Thus, to solve for $A$ and $B$, we can solve the system of linear equations \n",
    "\n",
    "$$\\begin{array}{rcrcr}\n",
    "??A & - & ??B & = & 85\\\\\n",
    "??A & + & ??B & = & 0\n",
    "\\end{array}$$\n",
    "\n",
    "We use the `linalg.solve()` function from `SymPy` to solve this system. See [Solving Systems with linalg.solve](09-Intro-to-Second-Order.ipynb#09linalgsolve) more details.\n"
   ]
  },
  {
   "cell_type": "code",
   "execution_count": null,
   "id": "2c334412-3df7-47cf-9594-68f0613c3764",
   "metadata": {},
   "outputs": [],
   "source": [
    "# STUDENT TO_DO: Replace each ?? with an appropriate number\n",
    "\n",
    "# Enter coefficient matrix \n",
    "A = np.array([[??, ??],\n",
    "              [??, ??]])\n",
    "\n",
    "# Enter vector of constants on right side\n",
    "b = np.array([[??],[??]])\n",
    "\n",
    "# Solve Ax=b and store solution in x\n",
    "x = np.linalg.solve(A,b)\n",
    "\n",
    "# Print solution to the screen\n",
    "print(\"The solution to the system is \\n\", x)"
   ]
  },
  {
   "cell_type": "markdown",
   "id": "d01d2fbd-efc5-4af7-b3de-325edc9393a3",
   "metadata": {},
   "source": [
    "#### Interpreting Output: Expressing a Final Answer\n",
    "---\n",
    "\n",
    "From the output above we see that $A=??$ and $B=??$, thus the particular solution is\n",
    "\n",
    "$$x_p = A\\sin{(2t)}+B\\cos{(2t)} = ??\\sin{(2t)} + ?? \\cos{(2t)}.$$\n"
   ]
  },
  {
   "cell_type": "markdown",
   "id": "4de5211a-0cbd-428a-a11e-ec7d94c14961",
   "metadata": {},
   "source": [
    "## <a name='11quest5'>Question 5:</a>\n",
    "---\n",
    "\n",
    "Consider the nonhomogeneous differential equation\n",
    "$$\\frac{d^2x}{dt^2}+25x=10\\cos(5t).$$ "
   ]
  },
  {
   "cell_type": "markdown",
   "id": "40a3bd99-cb28-4330-b1b9-4bfbaf49161c",
   "metadata": {},
   "source": [
    "### Question 5a:\n",
    "---\n",
    "\n",
    "Suppose you wish to find the particular solution to this differential equation. Explain why a guess of the form $x(t) = A\\cos(5t) + B\\sin(5t)$ is doomed to fail. <a id =\"11quest5a\"></a>\n",
    "\n",
    "#### Solution to Question 5a:\n",
    "---\n",
    "\n",
    "<br> <br> <br> <br> <br> <br>"
   ]
  },
  {
   "cell_type": "markdown",
   "id": "7d304838-3adc-4d2e-9e30-7ea0d4e2be7c",
   "metadata": {},
   "source": [
    "### Question 5b:\n",
    "---\n",
    "\n",
    "Nevertheless, explain why your particular solution must have terms that *look like* $\\cos(5t)$ and $\\sin(5t)$. <a id =\"11quest5b\"></a>\n",
    "\n",
    "#### Solution to Question 5b:\n",
    "---\n",
    "\n",
    "<br> <br> <br> <br> <br> <br>"
   ]
  },
  {
   "cell_type": "markdown",
   "id": "ccedb7a2-e046-4ada-aa9e-5940ab0261f6",
   "metadata": {},
   "source": [
    "### Question 5c:\n",
    "---\n",
    "\n",
    "For an unknown differentiable function $f(t)$, write down the first and second derivatives of $tf(t)$, what do you notice?  <a id =\"11quest5c\"></a>\n",
    "\n",
    "#### Solution to Question 5c:\n",
    "---\n",
    "\n",
    "<br> <br> <br> <br> <br> <br>"
   ]
  },
  {
   "cell_type": "markdown",
   "id": "6bbe33a4-9ecf-4ee9-95a3-746d403e9246",
   "metadata": {},
   "source": [
    "### Question 5d:\n",
    "---\n",
    "\n",
    "Explain why a guess of $x(t) = At\\cos(5t)$ is insufficient to find the particular solution.   <a id =\"11quest5d\"></a>\n",
    "\n",
    "#### Solution to Question 5d:\n",
    "---\n",
    "\n",
    "<br> <br> <br> <br> <br> <br>"
   ]
  },
  {
   "cell_type": "markdown",
   "id": "fd40f1a6-c5ea-4421-b48b-f22dafdd5cf4",
   "metadata": {},
   "source": [
    "### Question 5e:\n",
    "---\n",
    "\n",
    "Use the guess $\\color{red}{x(t) = t(A\\cos(5t) + B\\sin(5t))}$ to find a particular solution to the above equation.   <a id =\"11quest5e\"></a>\n",
    "\n",
    "### Solution to Question 5e:\n",
    "---\n",
    "\n",
    "<br> <br> <br> <br> <br> <br>"
   ]
  },
  {
   "cell_type": "markdown",
   "id": "53732272-c9c7-4bf8-a5f3-c7757ecdee37",
   "metadata": {},
   "source": [
    "### Optional: Solving Question 5e with Python\n",
    "---\n",
    "\n",
    "We use our guess of $x_p(t) = t(A\\cos(5t) + B\\sin(5t))$ in the code cell below.\n",
    "\n",
    "- First we import required libraries.\n",
    "- Then we define symbols.\n",
    "- Enter a symnbolic formula for $x_p(t)$ for `x` in the code below.\n",
    "- Compute first and second derivatives.\n",
    "- Plug $x_p$, $x'_p$, and $x''_p$ into the left side of the differential equation and group terms."
   ]
  },
  {
   "cell_type": "code",
   "execution_count": null,
   "id": "40bf48f9-907c-482a-b9f9-2dd5f1d0bee6",
   "metadata": {},
   "outputs": [],
   "source": [
    "# STUDENT TO_DO: Replace each ?? with an appropriate expression\n",
    "\n",
    "#import numpy as np  # already imported earlier\n",
    "#import sympy as sym  # already imported earlier\n",
    "\n",
    "t, x, A, B = sym.symbols('t, x, A, B')  # Creating symbols\n",
    "\n",
    "x = ??  # Particular solution\n",
    "\n",
    "first = x.diff(t,1)  # find formula for x'_p\n",
    "second = x.diff(t,2)  # find formula for x''_p\n",
    "\n",
    "sym.simplify(??)  # simplify left side of diff eq"
   ]
  },
  {
   "cell_type": "markdown",
   "id": "e6dd5694-cd16-48c8-ba7c-d0195bf05bb2",
   "metadata": {},
   "source": [
    "#### Interpreting Simplified Output\n",
    "---\n",
    "\n",
    "The output above tells us that\n",
    "\n",
    "$$x''_p + 25 x_p = (??)\\sin{(5t)} + (??) \\cos{(5t)} = 0\\sin{(5t)} + 10 \\cos{(5t)}.$$\n",
    "\n",
    "Thus, to solve for $A$ and $B$, we can solve the system of linear equations \n",
    "\n",
    "$$\\begin{array}{rcrcr}\n",
    "??A & - & ??B & = & ??\\\\\n",
    "??A & + & ??B & = & ??\n",
    "\\end{array}$$\n",
    "\n",
    "We use the `linalg.solve()` function from `SymPy` to solve this system. See [Solving Systems with linalg.solve](09-Intro-to-Second-Order.ipynb#09linalgsolve) more details.\n"
   ]
  },
  {
   "cell_type": "code",
   "execution_count": null,
   "id": "a342c856-1655-4460-bd91-f7487bab550f",
   "metadata": {},
   "outputs": [],
   "source": [
    "#import numpy as np  # already imported earlier\n",
    "\n",
    "# STUDENT TO_DO: Replace each ?? with an appropriate number\n",
    "\n",
    "# Enter coefficient matrix \n",
    "A = np.array([[??, ??],\n",
    "              [??, ??]])\n",
    "\n",
    "# Enter vector of constants on right side\n",
    "b = np.array([[??],[??]])\n",
    "\n",
    "# Solve Ax=b and store solution in x\n",
    "x = np.linalg.solve(A,b)\n",
    "\n",
    "# Print solution to the screen\n",
    "print(\"The solution to the system is \\n\", x)"
   ]
  },
  {
   "cell_type": "markdown",
   "id": "993b667d-74cf-4208-ac09-0f10e8e22f46",
   "metadata": {},
   "source": [
    "#### Interpreting Output: Expressing a Final Answer\n",
    "---\n",
    "\n",
    "From the output above we see that $A=??$ and $B=??$, thus the particular solution is\n",
    "\n",
    "$$x_p = At\\cos{(5t)}+Bt\\sin{(5t)} = ??t\\cos{(5t)} + ?? t\\sin{(5t)}.$$\n"
   ]
  },
  {
   "cell_type": "markdown",
   "id": "da57ca24-1b75-4fb4-83be-23f5ce96168f",
   "metadata": {},
   "source": [
    "# <a name='11Resonance'>Forcing Functions with Resonance<a>\n",
    "---\n",
    "    \n",
    "The previous exercise is an example of <font color=\"blue\">**resonance**</font>, which occurs when **an external force has the same properties (such as frequency) as the general homogeneous solution**. Practically speaking, when the homogeneous and nonhomogeneous parts of the differential equation have resonance this creates a huge increase in energy (that may even cause a bridge to collapse)."
   ]
  },
  {
   "cell_type": "markdown",
   "id": "d1797964",
   "metadata": {},
   "source": [
    "## <a name='11quest6'>Question 6:</a>\n",
    "---\n",
    "\n",
    "In each example, choose the words (<mark>does or does not</mark>) to indicate whether the nonhomogeneous differential equation has  <font color=\"blue\">**resonance**</font>.\n",
    "\n",
    "<br>\n",
    "\n",
    "a. $x''+25x=10\\cos{(5t)}$ (<mark>does or does not</mark>) have resonance with the homogeneous solution $x_H = C_1\\cos{(5t)}+ C_2 \\sin{(5t)}$.\n",
    "\n",
    "<br> <br>\n",
    "\n",
    "b. $x''+25x=10e^{5t}$ (<mark>does or does not</mark>) have resonance  with the homogeneous solution  $x_H = C_1\\cos{(5t)}+ C_2 \\sin{(5t)}$.\n",
    "\n",
    "<br> <br>\n",
    "\n",
    "c. $x''-3x'-10x=10\\cos(5t)$ (<mark>does or does not</mark>) have resonance with the homogeneous solution $x_H = C_1e^{5t}+ C_2 e^{-2t}$.\n",
    "\n",
    "<br> <br>\n",
    "\n",
    "d. $x''-3x'-10x=10e^{5t}$ (<mark>does or does not</mark>) have resonance with the homogeneous solution  $x_H = C_1e^{5t}+ C_2 e^{-2t}$.\n",
    "\n",
    "<br> <br>\n",
    "\n",
    "e. $x''+2x'+ 17x=6e^{-t} \\sin{(4t)} $ (<mark>does or does not</mark>) have resonance with the homogeneous solution  $x_H = C_1e^{-t}\\cos{(4t)}+ C_2 e^{-t}\\sin{(4t)}$.\n",
    "\n",
    "<br> <br>\n",
    "\n",
    "f. $x''+2x'+ 17x=6 \\sin{(4t)}$ (<mark>does or does not</mark>) have resonance with the homogeneous solution  $x_H = C_1e^{-t}\\cos{(4t)}+ C_2 e^{-t}\\sin{(4t)}$.\n",
    "\n",
    "\n",
    "\n",
    "### Solution to Question 6:\n",
    "---\n",
    "\n",
    "<br> Edit the text for each part above. <br> <br>"
   ]
  },
  {
   "cell_type": "markdown",
   "id": "35c6226e-3138-4d87-abc2-6cbaea99b4de",
   "metadata": {},
   "source": [
    "## Adjusting the Guess for Resonance\n",
    "---\n",
    "\n",
    "Whenever resonance is present between the homogeneous solution and nonhomogeneous forcing function, we can <font color = 'red'>adjust our initial guess by multiplying by a factor of $t$</font>. For example, since\n",
    "$x''+25x=10\\cos(5t)$ has resonance our guess for the particular solution is\n",
    "\n",
    "$$x_p = \\color{red}{\\mathbf{t}} \\big(  A\\cos{(5t)}+ B \\sin{(5t)} \\big)=A\\color{red}{\\mathbf{t}}\\cos{(5t)}+ B\\color{red}{\\mathbf{t}} \\sin{(5t)}.$$"
   ]
  },
  {
   "cell_type": "markdown",
   "id": "269943c4-5dc4-44a0-9ed6-781d48a9ad58",
   "metadata": {},
   "source": [
    "## <a name='11quest7'>Question 7:</a>\n",
    "---\n",
    "\n",
    "For each of the examples in the previous question where there was resonance, give the initial guess for the particular solution. Do not solve for the values of the undetermined coefficients, just enter a formula for a reasonable guess that would no longer have resonance.\n",
    "\n",
    "### Solution to Question 7:\n",
    "---\n",
    "\n",
    "a. $x_p = $ <mark>??</mark>\n",
    "\n",
    "<br> <br>\n",
    "\n",
    "b.$x_p = $ <mark>??</mark>\n",
    "\n",
    "<br> <br>\n",
    "\n",
    "c. $x_p = $ <mark>??</mark>\n",
    "\n",
    "<br> <br>\n",
    "\n",
    "d. $x_p = $ <mark>??</mark>\n",
    "\n",
    "<br> <br>\n",
    "\n",
    "e. $x_p = $ <mark>??</mark>\n",
    "\n",
    "<br> <br>\n",
    "\n",
    "f. $x_p = $ <mark>??</mark>\n",
    "\n",
    "<br> <br>"
   ]
  },
  {
   "cell_type": "markdown",
   "id": "2f3627a5",
   "metadata": {},
   "source": [
    "## <a name='11quest8'>Question 8:</a>\n",
    "---\n",
    "\n",
    "What would be a good guess for the general form of the particular solution to\n",
    "$$ \\frac{d^2y}{dt^2}-6\\frac{dy}{dt}+9y=5e^{3t} \\mbox{?}$$\n",
    "Do not find the values of the undetermined coefficients.\n",
    "\n",
    "### Solution to Question 8:\n",
    "---\n",
    "\n",
    "<br> <br> <br> <br> <br> <br>"
   ]
  },
  {
   "cell_type": "markdown",
   "id": "20bc9780",
   "metadata": {},
   "source": [
    "## <a name='11quest9'>Question 9:</a>\n",
    "---\n",
    "\n",
    "What would be a good guess for the general form of the particular solution to\n",
    "$$\\frac{d^2y}{dt^2}-6\\frac{dy}{dt}+9y=5e^{3t}\\cos{(2t)} \\mbox{?}$$\n",
    "Do not find the values of the undetermined coefficients.\n",
    "\n",
    "### Solution to Question 9:\n",
    "---\n",
    "\n",
    "<br> <br> <br> <br> <br> <br>"
   ]
  },
  {
   "cell_type": "markdown",
   "id": "ac86fcc4",
   "metadata": {},
   "source": [
    "## <a name='11quest10'>Question 10:</a>\n",
    "---\n",
    "\n",
    "What would be a good guess for the general form of the particular solution to\n",
    "$$ \\frac{d^2y}{dt^2}-6\\frac{dy}{dt}+9y=5t^2e^{3t}\\cos{(2t)} \\mbox{?}$$\n",
    "Do not find the values of the undetermined coefficients.\n",
    "\n",
    "### Solution to Question 10:\n",
    "---\n",
    "\n",
    "<br> <br> <br> <br> <br> <br>"
   ]
  },
  {
   "cell_type": "markdown",
   "id": "90332751",
   "metadata": {},
   "source": [
    "## Creative Commons License Information\n",
    "<a rel=\"license\" href=\"https://creativecommons.org/licenses/by-nc-sa/4.0/\"><img alt=\"Creative Commons License\" style=\"border-width:0\" src=\"https://i.creativecommons.org/l/by-nc-sa/4.0/80x15.png\" /></a><br /><span xmlns:dct=\"http://purl.org/dc/terms/\" property=\"dct:title\">Elementary Differential Equations</span> by <a xmlns:cc=\"http://creativecommons.org/ns#\" href=\"https://github.com/CU-Denver-MathStats-OER/ODEs\" property=\"cc:attributionName\" rel=\"cc:attributionURL\">Adam Spiegler, Jonathon Hirschi, and Dmitry Ostrovskiy</a> is licensed under a <a rel=\"license\" href=\"http://creativecommons.org/licenses/by-nc-sa/4.0/\">Creative Commons Attribution-NonCommercial-ShareAlike 4.0 International License</a>.<br />Based on a work at <a xmlns:dct=\"http://purl.org/dc/terms/\" href=\"https://github.com/CU-Denver-MathStats-OER/ODEs\" rel=\"dct:source\">https://github.com/CU-Denver-MathStats-OER/ODEs</a> and original content created by Rasmussen, C., Keene, K. A., Dunmyre, J., & Fortune, N. (2018). *Inquiry oriented differential equations: Course materials*. Available at <a href=\"https://iode.wordpress.ncsu.edu\">https://iode.wordpress.ncsu.edu</a>."
   ]
  }
 ],
 "metadata": {
  "kernelspec": {
   "display_name": "Python 3",
   "language": "python",
   "name": "python3"
  },
  "language_info": {
   "codemirror_mode": {
    "name": "ipython",
    "version": 3
   },
   "file_extension": ".py",
   "mimetype": "text/x-python",
   "name": "python",
   "nbconvert_exporter": "python",
   "pygments_lexer": "ipython3",
   "version": "3.8.8"
  }
 },
 "nbformat": 4,
 "nbformat_minor": 5
}
