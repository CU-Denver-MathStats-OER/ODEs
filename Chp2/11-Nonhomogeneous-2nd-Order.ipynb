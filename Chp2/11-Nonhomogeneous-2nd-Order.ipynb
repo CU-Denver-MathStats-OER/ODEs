{
 "cells": [
  {
   "cell_type": "markdown",
   "id": "7b2bc85c",
   "metadata": {},
   "source": [
    "# Guess and Test for Nonhomogeneous Cases\n",
    "---\n",
    "\n",
    "So far we have been using patterns recognized in wisely guessing the form of solutions to \n",
    "homogeneous second order differential equations of the form $ay''+by'+cy = 0$.  \n",
    "Can we adjust our guesses to handle nonhomogeneous differential equations as well?\n",
    "\n",
    "## <a name='11quest1'>Question 1:</a>\n",
    "---\n",
    "\n",
    "Find a solution to the following **nonhomogeneous** differential equation:\n",
    "$$\\frac{d^2x}{dt^2}+10\\frac{dx}{dt}+9x=18.$$\n",
    "\n",
    "What is your best guess for a function whose second derivative plus 10 times its first derivative plus 9 times the function itself sum to 18? Test out your guess to see if it works. If it doesn't work keep trying. \n",
    "\n",
    "### Solution to Question 1:\n",
    "---\n",
    "\n",
    "<br> <br> <br> <br> <br> <br>\n"
   ]
  },
  {
   "cell_type": "markdown",
   "id": "456b1dd3",
   "metadata": {},
   "source": [
    "The solution you found in the previous problem is called the **particular solution** to the nonhomogeneous differential equation it is not the general solution. For now we will focus on how we can find the particular solution by wisely guessing their general form based on the nonhomogeneous part of the differential equation. We will soon combine what we know about the homogeneous case and particular solutions to find general solutions. "
   ]
  },
  {
   "cell_type": "markdown",
   "id": "9b4a9db2",
   "metadata": {},
   "source": [
    "## <a name='11quest2'>Question 2:</a>\n",
    "---\n",
    "\n",
    "Find a solution to the following nonhomogeneous differential equation:\n",
    "$$\\frac{d^2x}{dt^2}+10\\frac{dx}{dt}+9x=18t.$$\n",
    "\n",
    "What is your best guess? Test out your guess to see if it works. If it doesn't work keep trying. \n",
    "\n",
    "### Solution to Question 2:\n",
    "---\n",
    "\n",
    "<br> <br> <br> <br> <br> <br>\n"
   ]
  },
  {
   "cell_type": "markdown",
   "id": "cd172330",
   "metadata": {},
   "source": [
    "## <a name='11quest3'>Question 3:</a>\n",
    "---\n",
    "\n",
    "Based on the previous examples, what would be a good guess for the general form of the particular solution to\n",
    "$$\\frac{d^2x}{dt^2}+10\\frac{dx}{dt}+9x=18t^3.$$\n",
    "\n",
    "Your guess should have depend on constants whose values you do not need to determine for this example.\n",
    "\n",
    "### Solution to Question 3:\n",
    "---\n",
    "\n",
    "<br> <br> <br> <br> <br> <br>\n"
   ]
  },
  {
   "cell_type": "markdown",
   "id": "f0d1837e",
   "metadata": {},
   "source": [
    "## <a name='11quest4'>Question 4:</a>\n",
    "---\n",
    "\n",
    "Sean and Phil are trying to find the particular solution to \n",
    "$$\\displaystyle\\frac{d^2x}{dt^2}+10\\frac{dx}{dt}+9x=85\\sin(2t).$$ \n",
    "Sean guesses $x(t)=A\\sin(2t)$ for the particular solution and Phil guesses $x(t)=B\\cos(2t)$.\n",
    "\n",
    "a. Do you think these are reasonable guesses? Explain why or why not. <a id =\"11quest4a\"></a>\n",
    "\n",
    "### Solution to Question 4a:\n",
    "---\n",
    "\n",
    "<br> <br> <br> <br> <br> <br>\n",
    "\n",
    "b. For each of their guesses, can you find a value of $A$ or $B$ such that their guess is a solution? If yes, write down the general solution. If no, come up with a different guess for the particular solution and show that your guess is correct. <a id =\"11quest4b\"></a>\n",
    "\n",
    "### Solution to Question 4b:\n",
    "---\n",
    "\n",
    "<br> <br> <br> <br> <br> <br>\n"
   ]
  },
  {
   "cell_type": "markdown",
   "id": "53fa9f49",
   "metadata": {},
   "source": [
    "## <a name='11quest5'>Question 5:</a>\n",
    "---\n",
    "\n",
    "Consider the nonhomogeneous differential equation\n",
    "$$\\frac{d^2x}{dt^2}+25x=10\\cos(5t).$$ \n",
    "\n",
    "a. Suppose you wish to find the particular solution to this differential equation. Explain why a guess of the form $x(t) = A\\cos(5t) + B\\sin(5t)$ is doomed to fail. <a id =\"11quest5a\"></a>\n",
    "\n",
    "### Solution to Question 5a:\n",
    "---\n",
    "\n",
    "<br> <br> <br> <br> <br> <br>\n",
    "\n",
    "b. Nevertheless, explain why your particular solution must have terms that *look like* $\\cos(5t)$ and $\\sin(5t)$. <a id =\"11quest5b\"></a>\n",
    "\n",
    "### Solution to Question 5b:\n",
    "---\n",
    "\n",
    "<br> <br> <br> <br> <br> <br>\n",
    "\n",
    "c. For an unknown differentiable function $f(t)$, write down the first and second derivatives of $tf(t)$, what do you notice?  <a id =\"11quest5c\"></a>\n",
    "\n",
    "### Solution to Question 5c:\n",
    "---\n",
    "\n",
    "<br> <br> <br> <br> <br> <br>\n",
    "\n",
    "d. Explain why a guess of $At\\cos(5t)$ is insufficient to find the particular solution.   <a id =\"11quest5d\"></a>\n",
    "\n",
    "### Solution to Question 5d:\n",
    "---\n",
    "\n",
    "<br> <br> <br> <br> <br> <br>\n",
    "\n",
    "e. Use the guess $x(t) = t(A\\cos(5t) + B\\sin(5t))$ to find a particular solution to the above equation.   <a id =\"11quest5e\"></a>\n",
    "\n",
    "### Solution to Question 5e:\n",
    "---\n",
    "\n",
    "<br> <br> <br> <br> <br> <br>\n"
   ]
  },
  {
   "cell_type": "markdown",
   "id": "d1797964",
   "metadata": {},
   "source": [
    "## <a name='11quest6'>Question 6:</a>\n",
    "---\n",
    "\n",
    "For each of the examples mark the word(s) that correctly describe whether the nonhomogeneous differential equation has resonance or not.\n",
    "\n",
    "| | | | | |\n",
    "|:-|:-|:-|:-|:-|\n",
    "|1. | $$x''+25x=10\\cos(5t)$$ | (does or does not) | have resonance since | $$x_H = C_1\\cos{(5t)}+ C_2 \\sin{(5t)}$$ |\n",
    "|2.| $$x''+25x=10e^{5t}$$ | (does or does not) | have resonance since | $$x_H = C_1\\cos{(5t)}+ C_2 \\sin{(5t)}$$|  \n",
    "|3.| $$x''-3x'-10x=10\\cos(5t)$$ | (does or does not) | have resonance since | $$x_H = C_1e^{5t}+ C_2 e^{-2t}$$|\n",
    "|4.| $$x''-3x'-10x=10e^{5t}$$ | (does or does not) | have resonance since | $$x_H = C_1e^{5t}+ C_2 e^{-2t}$$|\n",
    "|5.| $$x''+2x'+ 17x=6e^{-t} \\sin{(4t)} $$ | (does or does not) | have resonance since | $$x_H = C_1e^{-t}\\cos{(4t)}+ C_2 e^{-t}\\sin{(4t)}$$|\n",
    "|6.| $$x''+2x'+ 17x=6 \\sin{(4t)} $$ | (does or does not) | have resonance since | $$x_H = C_1e^{-t}\\cos{(4t)}+ C_2 e^{-t}\\sin{(4t)}$$|\n",
    "\n",
    "\n",
    "### Solution to Question 6:\n",
    "---\n",
    "\n",
    "<br> <br> <br> <br> <br> <br>"
   ]
  },
  {
   "cell_type": "markdown",
   "id": "cbdf8246",
   "metadata": {},
   "source": [
    "Whenever resonance is present between the homogeneous solution and nonhomogeneous forcing function, we can adjust\n",
    "our initial guess by multiplying by a factor of $t$. For example, since\n",
    "$x''+25x=10\\cos(5t)$ has resonance our guess for the particular solution is\n",
    "$$ x_p = t \\big(  A\\cos{(5t)}+ B \\sin{(5t)} \\big).$$\n",
    "\n",
    "## <a name='11quest7'>Question 7:</a>\n",
    "---\n",
    "\n",
    "For each of the examples in the previous question where there was resonance, give the initial guess for the particular solution. Do not solve for the values of the undetermined coefficients.\n",
    "\n",
    "### Solution to Question 7:\n",
    "---\n",
    "\n",
    "<br> <br> <br> <br> <br> <br>"
   ]
  },
  {
   "cell_type": "markdown",
   "id": "2f3627a5",
   "metadata": {},
   "source": [
    "## <a name='11quest8'>Question 8:</a>\n",
    "---\n",
    "\n",
    "What would be a good guess for the general form of the particular solution to\n",
    "$$ \\frac{d^2y}{dt^2}-6\\frac{dy}{dt}+9y=5e^{3t} \\mbox{?}$$\n",
    "Do not find the values of the undetermined coefficients.\n",
    "\n",
    "### Solution to Question 8:\n",
    "---\n",
    "\n",
    "<br> <br> <br> <br> <br> <br>"
   ]
  },
  {
   "cell_type": "markdown",
   "id": "20bc9780",
   "metadata": {},
   "source": [
    "## <a name='11quest9'>Question 9:</a>\n",
    "---\n",
    "\n",
    "What would be a good guess for the general form of the particular solution to\n",
    "$$\\frac{d^2y}{dt^2}-6\\frac{dy}{dt}+9y=5e^{3t}\\cos{(2t)} \\mbox{?}$$\n",
    "Do not find the values of the undetermined coefficients.\n",
    "\n",
    "### Solution to Question 9:\n",
    "---\n",
    "\n",
    "<br> <br> <br> <br> <br> <br>"
   ]
  },
  {
   "cell_type": "markdown",
   "id": "ac86fcc4",
   "metadata": {},
   "source": [
    "## <a name='11quest10'>Question 10:</a>\n",
    "---\n",
    "\n",
    "What would be a good guess for the general form of the particular solution to\n",
    "$$ \\frac{d^2y}{dt^2}-6\\frac{dy}{dt}+9y=5t^2e^{3t}\\cos{(2t)} \\mbox{?}$$\n",
    "Do not find the values of the undetermined coefficients.\n",
    "\n",
    "### Solution to Question 10:\n",
    "---\n",
    "\n",
    "<br> <br> <br> <br> <br> <br>"
   ]
  },
  {
   "cell_type": "markdown",
   "id": "90332751",
   "metadata": {},
   "source": [
    "## Creative Commons License Information\n",
    "<a rel=\"license\" href=\"https://creativecommons.org/licenses/by-nc-sa/4.0/\"><img alt=\"Creative Commons License\" style=\"border-width:0\" src=\"https://i.creativecommons.org/l/by-nc-sa/4.0/80x15.png\" /></a><br /><span xmlns:dct=\"http://purl.org/dc/terms/\" property=\"dct:title\">Elementary Differential Equations</span> by <a xmlns:cc=\"http://creativecommons.org/ns#\" href=\"https://github.com/CU-Denver-MathStats-OER/ODEs\" property=\"cc:attributionName\" rel=\"cc:attributionURL\">Adam Spiegler, Jonathon Hirschi, and Dmitry Ostrovskiy</a> is licensed under a <a rel=\"license\" href=\"http://creativecommons.org/licenses/by-nc-sa/4.0/\">Creative Commons Attribution-NonCommercial-ShareAlike 4.0 International License</a>.<br />Based on a work at <a xmlns:dct=\"http://purl.org/dc/terms/\" href=\"https://github.com/CU-Denver-MathStats-OER/ODEs\" rel=\"dct:source\">https://github.com/CU-Denver-MathStats-OER/ODEs</a> and original content created by Rasmussen, C., Keene, K. A., Dunmyre, J., & Fortune, N. (2018). *Inquiry oriented differential equations: Course materials*. Available at <a href=\"https://iode.wordpress.ncsu.edu\">https://iode.wordpress.ncsu.edu</a>."
   ]
  }
 ],
 "metadata": {
  "kernelspec": {
   "display_name": "Python 3",
   "language": "python",
   "name": "python3"
  },
  "language_info": {
   "codemirror_mode": {
    "name": "ipython",
    "version": 3
   },
   "file_extension": ".py",
   "mimetype": "text/x-python",
   "name": "python",
   "nbconvert_exporter": "python",
   "pygments_lexer": "ipython3",
   "version": "3.8.8"
  }
 },
 "nbformat": 4,
 "nbformat_minor": 5
}
