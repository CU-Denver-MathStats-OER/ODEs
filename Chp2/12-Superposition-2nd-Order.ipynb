{
 "cells": [
  {
   "cell_type": "markdown",
   "id": "e71d9e17-89ce-4a52-826a-69b98c71253a",
   "metadata": {},
   "source": [
    "[![Open In Colab](https://colab.research.google.com/assets/colab-badge.svg)](https://githubtocolab.com/CU-Denver-MathStats-OER/ODEs/blob/main/Chp2/12-Superposition-2nd-Order.ipynb)\n"
   ]
  },
  {
   "cell_type": "markdown",
   "id": "0bd42481-c930-4913-af80-5f54175b94b0",
   "metadata": {},
   "source": [
    "# Lab 2.4: General Solutions to Nonhomogeneous 2nd Order Linear DEs\n",
    "---\n",
    "\n",
    "<font color=\"dodgerblue\">Reading: *Notes on Diffy Q's* Section 2.1 and Section 2.5</font>"
   ]
  },
  {
   "cell_type": "markdown",
   "id": "49e985d7-69e9-45fd-b9d5-4e32e95bc108",
   "metadata": {},
   "source": [
    "## Recap of Homogeneous Case\n",
    "---\n",
    "\n",
    "We have developed methods for finding the general homogeneous solution, $y_h(t)$, to a second order differential equation of the form\n",
    "\n",
    "$$ ay'' + b y' + cy =0 , \\qquad \\mbox{for constants $a$, $b$, and $c$:}$$\n",
    "\n",
    "1. Write the differential equation in standard form, $ay'' + b y' + cy =0 $\n",
    "\n",
    "2. Find the roots of the <font color=\"dodgerblue\">**characteristic equation**</font> $ar^2+br+c=0$.\n",
    "\n",
    "- If there are two distinct real roots $r_1$ and $r_2$, the general solution is $y_h(t) = C_1e^{r_1t} + C_2e^{r_2t}$.\n",
    "- If there is one repeated real root $r_1$, the general solution is $y_h(t) = C_1e^{r_1t} + C_2te^{r_1t}$.\n",
    "- If there are two complex-cojugate solutions $r=\\alpha \\pm i \\beta$, the general solution is $y_h(t) = C_1e^{\\alpha t} \\cos{(\\beta t)} + C_2e^{\\alpha t} \\sin{(\\beta t)}$."
   ]
  },
  {
   "cell_type": "markdown",
   "id": "32614b2d-6c96-41fc-b2f8-c175e0cc347d",
   "metadata": {},
   "source": [
    "## Recap of Finding a Particular Solution\n",
    "---\n",
    "\n",
    "We have also discussed how to find the particular solution, $y_p(t)$ to a nonhomogeneous second order differential equation of the form\n",
    "\n",
    "$$ay'' + b y' + cy =f(t).$$ \n",
    "\n",
    "Based on the form of $f(t)$, we guess $y_p(t)$ will have a similar form."
   ]
  },
  {
   "cell_type": "markdown",
   "id": "b6539d0f-f29a-47b3-a1f7-536e73b66a69",
   "metadata": {},
   "source": [
    "### <a name='12quest1'>Table of Common Forcing Functions</a>\n",
    "---\n",
    "\n",
    "|$\\large f(t)$ |$\\large y_p(t)$ |\n",
    "|-|-|\n",
    "|$\\displaystyle \\large Ct^n \\mbox{ (for $n = 0, 1, 2, \\dots$)}$ | $\\displaystyle \\large A_nt^n + A_{n-1}t^{n-1}+\\ldots + A_0 $|\n",
    "|$\\displaystyle \\large Ce^{rt}$ | $\\displaystyle \\large Ae^{rt}$ |\n",
    "|$\\displaystyle \\large Ce^{\\alpha t} \\cos{(\\beta t)}$ | $\\displaystyle \\large A e^{\\alpha t}\\cos{(\\beta t)} + B e^{\\alpha t}\\sin{(\\beta t)}$ | \n",
    "| $\\displaystyle \\large Ce^{\\alpha t} \\sin{(\\beta t)}$ | $\\displaystyle \\large Ae^{\\alpha t} \\cos{(\\beta t)} + B e^{\\alpha t}\\sin{(\\beta t)}$ |\n",
    "\n",
    "#### Identifying and Adjusting for Rseonance\n",
    "---\n",
    "\n",
    "- You have <font color=\"dodgerblue\">**resonance**</font> when your initial guess for the particular solution is a homogeneous solution.\n",
    "\n",
    "- <font color = \"dodgerblue\">When there is resonance, multiply the guess by a multiple of $t$ (until the guess is no longer a homogeneous solution)</font>.\n",
    "\n",
    "- After adjusting your guess for $y_p(t)$, plug into the differential equation and solve for the undetermined coefficients."
   ]
  },
  {
   "cell_type": "markdown",
   "id": "950a84f5-87fa-403a-b2a7-16cd2e088d4c",
   "metadata": {},
   "source": [
    "# Finding the General Solution to the Nonhomogeneous Case\n",
    "---\n",
    "\n",
    "Consider a nonhomogeneous differential equation of the form\n",
    "\n",
    "$$ a y''+by'+cy=f(t). $$\n",
    "\n",
    "Let <font color = \"dodgerblue\">$y_h(t)$ denote a general solution to corresponding homogeneous equation</font> $a y''+by'+cy=0$, and let <font color = \"tomato\">$y_p(t)$ denote a particular solution for the nonhomogeneous equation</font> (when $f(t) \\ne 0$). \n",
    "\n",
    "**Let's explore how we can use both of these solutions to construct a general solution to nonhomogeneous differential equation.**"
   ]
  },
  {
   "cell_type": "markdown",
   "id": "5f7e95f5-5e5f-40de-b055-01c742bccb50",
   "metadata": {},
   "source": [
    "## <a name='12quest1'>Question 1:</a>\n",
    "---\n",
    "\n",
    "Let $y_h(t)$ and $y_p(t)$ denote homogeneous and particular solutions, respectively, to the differential equation $ay''+by'+cy=f(t)$. \n",
    "**Show that their sum $y(t)=y_h(t)+y_p(t)$ is a general solution to the nonhomogeneous differential equation.**\n",
    "\n",
    "### Solution to Question 1:\n",
    "---\n",
    "\n",
    "<br> <br> <br> <br> <br> <br>"
   ]
  },
  {
   "cell_type": "markdown",
   "id": "63856f4d-49c3-479a-960b-70894edced5a",
   "metadata": {},
   "source": [
    "## <a name='12quest2'>Question 2:</a>\n",
    "---\n",
    "\n",
    "Consider the differential equation\n",
    "$$ \\frac{d^2x}{dt^2}-\\frac{dx}{dt}-12x=e^{4t}.$$"
   ]
  },
  {
   "cell_type": "markdown",
   "id": "90b9e020-3405-4b90-ade0-68b165cf7671",
   "metadata": {},
   "source": [
    "### Question 2a:\n",
    "---\n",
    "\n",
    "Find a general solution to the homogeneous equation.\n",
    "\n",
    "#### Solution to Question 2a:\n",
    "---\n",
    "\n",
    "<br> <br> <br> <br> <br> <br>"
   ]
  },
  {
   "cell_type": "markdown",
   "id": "4c830d93-a692-4f69-869e-7ec7c86fa87a",
   "metadata": {},
   "source": [
    "### Question 2b:\n",
    "---\n",
    "\n",
    "Find a particular solution to the nonhomogeneous differential equation.\n",
    "\n",
    "#### Solution to Question 2b:\n",
    "---\n",
    "\n",
    "<br> <br> <br> <br> <br> <br>"
   ]
  },
  {
   "cell_type": "markdown",
   "id": "27fab1ac-6c5a-48fb-bef2-c5d961ac72dc",
   "metadata": {},
   "source": [
    "### Question 2c:\n",
    "---\n",
    "\n",
    "Use your previous answers to give a general solution to nonhomogeneous differential equation.\n",
    "\n",
    "#### Solution to Question 2c:\n",
    "---\n",
    "\n",
    "<br> <br> <br> <br> <br> <br>"
   ]
  },
  {
   "cell_type": "markdown",
   "id": "32f4c30f-e121-44bd-abb6-772c9e408d56",
   "metadata": {},
   "source": [
    "# Sums of Different Types of Forcing Functions\n",
    "---\n",
    "\n",
    "To find the general solution to a nonhomogeneous differential equation you simply add a particular solution to a general solution to the corresponding homogeneous equation. This 3-step strategy:\n",
    "\n",
    "1. Find a general solution to the corresponding homogeneous equation\n",
    "\n",
    "2. Find a particular solution for each part of the nonhomgeneous forcing function.\n",
    "\n",
    "3. Add the previous results.\n",
    "\n",
    "This process is often called the <font color=\"dodgerblue\">**Method of Undetermined Coefficients**</font>."
   ]
  },
  {
   "cell_type": "markdown",
   "id": "1903de6c-39a7-44ca-840c-14ea30898b8d",
   "metadata": {},
   "source": [
    "## <a name='12quest3'>Question 3:</a>\n",
    "---\n",
    "\n",
    "Let $y_1(t)$ denote a particular solution to $ay''+by'+cy=f_1(t)$ and $y_2(t)$ denote a particular solution to $ay''+by'+cy=f_2(t)$. Show that $y_p(t) = y_1(t) + y_2(t)$ is a particular solution to $ay''+by'+cy=f_1(t)+f_2(t)$.  \n",
    "\n",
    "### Solution to Question 3:\n",
    "---\n",
    "\n",
    "<br> <br> <br> <br> <br> <br>"
   ]
  },
  {
   "cell_type": "markdown",
   "id": "f106eb4e",
   "metadata": {},
   "source": [
    "## <a name='12quest4'>Question 4:</a>\n",
    "---\n",
    "\n",
    "Consider the differential equation\n",
    "\n",
    "$$ \\frac{d^2x}{dt^2}+10\\frac{dx}{dt}+9x=85\\sin(2t)+18.$$\n",
    "\n",
    "Recall that we have already worked on parts of this problem. We have found that $x_h (t) = C_1e^{-9t}+C_2e^{-t}$ and the particular solution corresponding to $f_1(t) = 85\\sin(2t)$ is $x_{1}(t) = -4\\cos{(2t)}+\\sin{(2t)}$. Using these results, finish solving the differential equation and give the general solution. \n",
    "\n",
    "### Solution to Question 4:\n",
    "---\n",
    "\n",
    "<br> <br> <br> <br> <br> <br>\n"
   ]
  },
  {
   "cell_type": "markdown",
   "id": "30288613-c8c3-42e7-847b-a7a0746eebfa",
   "metadata": {},
   "source": [
    "# Products of Different Types of Forcing Functions\n",
    "---\n",
    "\n",
    "We can use the method of undetermined coefficients when the forcing function $f(t)$ is:\n",
    "\n",
    "- A power function, $f(t) = Ct^n$ (for $n$ a nonnegative integer).\n",
    "- A function of the form $f(t) = Ce^{\\alpha t}\\cos{(\\beta t)}$ or $f(t) = Ce^{\\alpha t}\\sin{(\\beta t)}$."
   ]
  },
  {
   "cell_type": "markdown",
   "id": "84dfb4c8-532d-4d4a-9582-904124b6673e",
   "metadata": {},
   "source": [
    "## Product of Power and Exponential Functions\n",
    "---\n",
    "\n",
    "For a product of a power function $t^n$ and an exponential such as $f(t) = Ct^ne^{rt}$, we guess\n",
    "\n",
    "$$\\color{dodgerblue}{ y_p(t) = \\big( A_n t^n + A_{n_1} t^{n-1} + \\ldots A_1 t + A_0 \\big) e^{rt} }.$$\n",
    "\n",
    "- Multiply by $t$ if there is resonance ($r$ is a real root  (not repeated) of the the characteristic equation.)\n",
    "- Multiply by $t^2$ if there is still resonance ($r$ is a repeated real root of the the characteristic equation)."
   ]
  },
  {
   "cell_type": "markdown",
   "id": "71a5ca66-8fa0-4baa-8a71-37d9b6f0a513",
   "metadata": {},
   "source": [
    "## <a name='12quest5'>Question 5:</a>\n",
    "---\n",
    "\n",
    "Give a guess for the particular solution to\n",
    "$$ y'' - 5y' -6y = 4t^2e^{6t}.$$  \n",
    "\n",
    "### Solution to Question 5:\n",
    "---\n",
    "\n",
    "<br> <br> <br> <br> <br> <br>"
   ]
  },
  {
   "cell_type": "markdown",
   "id": "494a271a-623a-44a9-9d26-93139d8f4a60",
   "metadata": {},
   "source": [
    "## Products of Power, Exponential, and Sine (or Cosine) Functions\n",
    "---\n",
    "\n",
    "For a product of a power function, an exponential, and either a sine or cosine such as  \n",
    "\n",
    "$f(t) = Ct^ne^{\\alpha t}\\cos{(\\beta t)}$ or $f(t) = Ct^ne^{\\alpha t}\\sin{(\\beta t)}$, a similar strategy works if our guess has the form:\n",
    "\n",
    "$$\\color{dodgerblue}{y_p(t) = \\big( A_n t^n + A_{n-1} t^{n-1} + \\ldots A_1 t + A_0 \\big) e^{\\alpha t}\\cos{(\\beta t)} + \\big( B_n t^n + B_{n-1} t^{n-1} + \\ldots B_1 t + B_0 \\big) e^{\\alpha t}\\sin{(\\beta t)}}.$$\n",
    "\n",
    "- Multiply by $t$ if there is resonance (if $\\alpha \\pm i \\beta$  are the complex roots of the the characteristic equation)."
   ]
  },
  {
   "cell_type": "markdown",
   "id": "5d9f6d88-4750-4bb9-ba65-98e390fb2d72",
   "metadata": {},
   "source": [
    "## <a name='12quest6'>Question 6:</a>\n",
    "---\n",
    "\n",
    "Give a guess for the particular solution to\n",
    "$$ y'' - 5y' -6y = 4t^2e^{6t}\\sin{t}.$$  \n",
    "\n",
    "### Solution to Question 6:\n",
    "---\n",
    "\n",
    "<br> <br> <br> <br> <br> <br>"
   ]
  },
  {
   "cell_type": "markdown",
   "id": "d9cca200-cfb3-464e-a84f-11135fd3897b",
   "metadata": {},
   "source": [
    "## <a name='12quest7'>Question 7:</a>\n",
    "---\n",
    "\n",
    "Consider the differential equation $x''-8x'+12x=f(t)$. For each $f(t)$, what would be your guess for the particular solution? Do not solve for the undetermined coefficients. If the method of undetermined coefficients cannot be applied, explain why not."
   ]
  },
  {
   "cell_type": "markdown",
   "id": "e5be16e7-f64e-460b-a888-b0c138be28dd",
   "metadata": {},
   "source": [
    "### Question 7a:\n",
    "---\n",
    "\n",
    "$f(t) = 10\\sin{(2t)}$\n",
    "\n",
    "#### Solution to Question 7a:\n",
    "---\n",
    "\n",
    "<br> <br> <br> <br> <br> <br>"
   ]
  },
  {
   "cell_type": "markdown",
   "id": "e76c5101-e520-4d0c-b64a-110d4ed76abc",
   "metadata": {},
   "source": [
    "### Question 7b:\n",
    "---\n",
    "\n",
    "$f(t) = 10e^{6t}\\sin{(2t)}$\n",
    "\n",
    "#### Solution to Question 7b:\n",
    "---\n",
    "\n",
    "<br> <br> <br> <br> <br> <br>"
   ]
  },
  {
   "cell_type": "markdown",
   "id": "74515056-ab7b-460a-a853-29a4fc9500c6",
   "metadata": {},
   "source": [
    "### Question 7c:\n",
    "---\n",
    "\n",
    "$f(t) = 10\\tan{(2t)}$\n",
    "\n",
    "#### Solution to Question 7c:\n",
    "---\n",
    "\n",
    "<br> <br> <br> <br> <br> <br>"
   ]
  },
  {
   "cell_type": "markdown",
   "id": "93a493cd-4a7e-41d2-b07d-a1801cb9ac99",
   "metadata": {},
   "source": [
    "### Question 7d:\n",
    "---\n",
    "\n",
    "$f(t) = 10te^{2t}$\n",
    "\n",
    "#### Solution to Question 7d:\n",
    "---\n",
    "\n",
    "<br> <br> <br> <br> <br> <br>"
   ]
  },
  {
   "cell_type": "markdown",
   "id": "57582ccc-f834-4543-8491-a69a00f34f0f",
   "metadata": {},
   "source": [
    "### Question 7e:\n",
    "---\n",
    "\n",
    "$f(t) = 8t^{-2}$\n",
    "\n",
    "#### Solution to Question 7e:\n",
    "---\n",
    "\n",
    "<br> <br> <br> <br> <br> <br>"
   ]
  },
  {
   "cell_type": "markdown",
   "id": "c60c0093",
   "metadata": {},
   "source": [
    "## Creative Commons License Information\n",
    "<a rel=\"license\" href=\"https://creativecommons.org/licenses/by-nc-sa/4.0/\"><img alt=\"Creative Commons License\" style=\"border-width:0\" src=\"https://i.creativecommons.org/l/by-nc-sa/4.0/80x15.png\" /></a><br /><span xmlns:dct=\"http://purl.org/dc/terms/\" property=\"dct:title\">*Exploring Differential Equations*</span> by <a xmlns:cc=\"http://creativecommons.org/ns#\" href=\"https://github.com/CU-Denver-MathStats-OER/ODEs\" property=\"cc:attributionName\" rel=\"cc:attributionURL\">Adam Spiegler</a> is licensed under a <a rel=\"license\" href=\"http://creativecommons.org/licenses/by-nc-sa/4.0/\">Creative Commons Attribution-NonCommercial-ShareAlike 4.0 International License</a>.<br />Based on a work at <a xmlns:dct=\"http://purl.org/dc/terms/\" href=\"https://github.com/CU-Denver-MathStats-OER/ODEs\" rel=\"dct:source\">https://github.com/CU-Denver-MathStats-OER/ODEs</a> and original content created by Rasmussen, C., Keene, K. A., Dunmyre, J., & Fortune, N. (2018). *Inquiry oriented differential equations: Course materials*. Available at <a href=\"https://iode.sdsu.edu\">https://iode.sdsu.edu</a>."
   ]
  },
  {
   "cell_type": "code",
   "execution_count": null,
   "id": "26ed9798-45cf-40ca-932f-ca0709dace9f",
   "metadata": {},
   "outputs": [],
   "source": []
  }
 ],
 "metadata": {
  "kernelspec": {
   "display_name": "Python 3 (ipykernel)",
   "language": "python",
   "name": "python3"
  },
  "language_info": {
   "codemirror_mode": {
    "name": "ipython",
    "version": 3
   },
   "file_extension": ".py",
   "mimetype": "text/x-python",
   "name": "python",
   "nbconvert_exporter": "python",
   "pygments_lexer": "ipython3",
   "version": "3.9.13"
  }
 },
 "nbformat": 4,
 "nbformat_minor": 5
}
