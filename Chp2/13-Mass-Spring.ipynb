{
 "cells": [
  {
   "cell_type": "markdown",
   "id": "b9f95b69-8735-4405-9fc4-17726fb6ed35",
   "metadata": {},
   "source": [
    "[![Open In Colab](https://colab.research.google.com/assets/colab-badge.svg)](https://githubtocolab.com/CU-Denver-MathStats-OER/ODEs/blob/main/Chp2/13-Mass-Spring.ipynb)\n"
   ]
  },
  {
   "cell_type": "markdown",
   "id": "fb2b95e6-376f-4933-89c6-3cd6f7cd6ffd",
   "metadata": {},
   "source": [
    "# Lab 2.5: Mass-Spring Systems\n",
    "---\n",
    "\n",
    "<font color=\"dodgerblue\">Reading: *Notes on Diffy Q's* Section 2.4 and Section 2.6</font>\n",
    "\n",
    "Recall the mass-spring oscillator introduced in [Worksheet 10 Homogeneous 2nd Order](10-Homogeneous-2nd-Order.ipynb). We connect an object with <font color = \"mediumseagreen\">mass $m$</font> kg to a spring with <font color = \"dodgerblue\">stiffness coefficient</font> $k$ kg/sec$^2$ that is connected to a stationary wall on the other end. We give the mass some initial position $s_0$ and velocity $v_0$, and we observe the mechanics of how the mass moves along a surface with <font color=\"tomato\">friction coefficient $b$</font> kg/sec. Such a system is called a <font color=\"dodgerblue\">**mass-spring oscillator**</font> or a <font color=\"dodgerblue\">**harmonic oscillator**</font>. The position of the mass at time, $y(t)$, is modeled by the second order differential equation\n",
    "\n",
    "$$\\large \\color{mediumseagreen}{m}y''+\\color{tomato}{b}y'+\\color{dodgerblue}{k}y=0; \\qquad y(0)=s_0, \\quad y'(0)=v_0.$$\n",
    "\n",
    "![Mass-Spring Oscillator](Images/10mass-spring.png)"
   ]
  },
  {
   "cell_type": "markdown",
   "id": "0b1dc21d-a67b-4696-a7c9-5ae1fa3bb74c",
   "metadata": {},
   "source": [
    "# Over, Under, and Critically Damped\n",
    "---\n",
    "\n",
    "- If there is **no friction ($\\mathbf{b=0}$)**, then the system is <font color=\"dodgerblue\">**undamped**</font>.\n",
    "\n",
    "- If there is a **little bit of friction**, the mass will oscillate and move to the other side of its equilibrium before settling back at its equilibrium position in the long run. Such a system is called <font color=\"dodgerblue\">**underdamped**</font>.\n",
    "\n",
    "- If there is a **lot of friction**, the mass will simply settle back at the equilibrium position (without moving to the other side of the equilibrium). Such a system is called <font color=\"dodgerblue\">**overdamped**</font>.\n",
    "\n",
    "- When the system has just the perfect amount of friction such that:\n",
    "    - If there is *less friction*, the mass is *underdamped*, and\n",
    "    - If there is *more friction*, the mass is *overdamped*.\n",
    "    - We say the system is <font color=\"dodgerblue\">**critically damped**</font>."
   ]
  },
  {
   "cell_type": "markdown",
   "id": "dce58fcb-a8f2-4032-b70a-a1a2c4c16741",
   "metadata": {},
   "source": [
    "## <a name='13quest1'>Question 1:</a>\n",
    "---\n",
    "\n",
    "Consider a mass-spring system with a mass $m=2$, spring constant $k=3$, and damping constant $b=1$."
   ]
  },
  {
   "cell_type": "markdown",
   "id": "7da9c36a-9838-4bed-b70a-dee31bcfc83a",
   "metadata": {},
   "source": [
    "### Question 1a:\n",
    "---\n",
    "\n",
    "Set up and find a general solution to the corresponding differential equation.\n",
    "\n",
    "#### Solution to Question 1a:\n",
    "---\n",
    "\n",
    "<br> <br> <br> <br> <br>"
   ]
  },
  {
   "cell_type": "markdown",
   "id": "d421ebc0-3a8f-49b4-bda0-4c46ecafd104",
   "metadata": {},
   "source": [
    "### Question 1b:\n",
    "---\n",
    "\n",
    "Is the system underdamped, overdamped, or critically damped?\n",
    "\n",
    "#### Solution to Question 1b:\n",
    "---\n",
    "\n",
    "<br> <br> <br> <br> <br>"
   ]
  },
  {
   "cell_type": "markdown",
   "id": "0cd5f111-912d-4e9a-b56d-1944b990d105",
   "metadata": {},
   "source": [
    "### Question 1c:\n",
    "---\n",
    "\n",
    "What is the period of solution? How many cycles does the mass-spring complete each second?\n",
    "\n",
    "#### Solution to Question 1c:\n",
    "---\n",
    "\n",
    "<br> <br> <br> <br> <br>"
   ]
  },
  {
   "cell_type": "markdown",
   "id": "24b7aa73-5f50-4c96-9f27-f7f66297418a",
   "metadata": {},
   "source": [
    "### Question 1d:\n",
    "---\n",
    "\n",
    "Find a value for the constant $b$ so the sytem is critically damped.\n",
    "\n",
    "#### Solution to Question 1d:\n",
    "---\n",
    "\n",
    "<br> <br> <br> <br> <br>"
   ]
  },
  {
   "cell_type": "markdown",
   "id": "d9d00068-eb1c-47f7-84d1-4ee08f87cfaf",
   "metadata": {},
   "source": [
    "## Units of the Coefficients\n",
    "---\n",
    "\n",
    "\n",
    "For these problems we will measure quantities using the metric system:\n",
    "\n",
    "- The overall force is measured in newtons, $N$.\n",
    "    - It is equal to the force that would give a mass of one kilogram an acceleration of one meter per $\\mbox{sec}^2$,\n",
    "\n",
    "\n",
    "- The spring constant $k$ has units of force per unit of distance. For example newtons per meter, N/m.\n",
    "\n",
    "- The damping constant is a unit of impulse per unit of distance. For example newton seconds per meter, $\\mbox{N} \\cdot \\mbox{s}$ per meter."
   ]
  },
  {
   "cell_type": "markdown",
   "id": "184ce581-d426-4bfc-8f4b-831270806673",
   "metadata": {},
   "source": [
    "## <a name='13quest2'>Question 2:</a>\n",
    "---\n",
    "\n",
    "You place an object whose mass $m$ (in kg) is unknown on top of a spring in a vaccum (ignoring all other forces such as friction and gravity) and put the system in motion. You observed the mass bounce up and down. Let $y$ denote the vertical distance of the mass from its equilibrium position, with $y>0$ when the mass is stretched above the equilibrium.\n",
    "\n",
    "If external forces such as friction and gravity are absent, then the location of the mass $y$ follows the same model for the undamped free mass-spring system:\n",
    "$$ my''+ky=0$$."
   ]
  },
  {
   "cell_type": "markdown",
   "id": "bc2e0674-9f4f-4458-9f96-a1ef34317a3f",
   "metadata": {},
   "source": [
    "### Question 2a:\n",
    "---\n",
    "\n",
    "If the spring constant of the spring is $k=4 \\mbox{ N/m}$, then give a solution to the initial value problem. Note your answer will depend on the mass $m$.\n",
    "\n",
    "#### Solution to Question 2b:\n",
    "---\n",
    "\n",
    "<br> <br> <br> <br> <br>"
   ]
  },
  {
   "cell_type": "markdown",
   "id": "8fa0cf6b-e774-4d77-a7b1-2fc77fa993d3",
   "metadata": {},
   "source": [
    "### Question 2b:\n",
    "---\n",
    "\n",
    "If the mass bounces with a frequency of $0.8$ cycles per second, then give the value of the mass $m$.\n",
    "Note that one cycle means the mass goes from equilibrium, down, then back up, and returns to equilibrium. \n",
    "\n",
    "\n",
    "#### Solution to Question 2b:\n",
    "---\n",
    "\n",
    "<br> <br> <br> <br> <br>"
   ]
  },
  {
   "cell_type": "markdown",
   "id": "1bd36d58-4423-4b85-9f97-8aa757fb7a40",
   "metadata": {},
   "source": [
    "## <a name='13quest3'>Question 3:</a>\n",
    "---\n",
    "\n",
    "A $5000$ kg railcar hits a spring bumper at a speed of $1$ meter per second, and the spring compresses by $0.1$ m. Assume no damping."
   ]
  },
  {
   "cell_type": "markdown",
   "id": "b2d3aa4f-dad4-4d72-b2f6-720548c132e8",
   "metadata": {},
   "source": [
    "### Question 3a:\n",
    "---\n",
    "\n",
    "Find the value of the spring constant $k$.\n",
    "\n",
    "#### Solution to Question 3a:\n",
    "---\n",
    "\n",
    "<br> <br> <br> <br> <br>"
   ]
  },
  {
   "cell_type": "markdown",
   "id": "7548d07b-2715-4d67-a58d-dfcea530cdf9",
   "metadata": {},
   "source": [
    "### Question 3b:\n",
    "---\n",
    "\n",
    "How far does the spring compress when a $10,\\!000$ kg railcar hits the spring at the same speed?\n",
    "\n",
    "#### Solution to Question 3b:\n",
    "---\n",
    "\n",
    "<br> <br> <br> <br> <br>"
   ]
  },
  {
   "cell_type": "markdown",
   "id": "3a1e620d-17a6-4a3e-9211-62f919d3c936",
   "metadata": {},
   "source": [
    "### Question 3c:\n",
    "---\n",
    "\n",
    "If the spring would break if it compresses more than $0.3$ m, what is the maximum mass of a railcar that can hit at 1 m/s?\n",
    "\n",
    "#### Solution to Question 3c:\n",
    "---\n",
    "\n",
    "<br> <br> <br> <br> <br>"
   ]
  },
  {
   "cell_type": "markdown",
   "id": "d6234e99-ea45-44b4-a6dd-b99e6c9c42ff",
   "metadata": {},
   "source": [
    "### Question 3d:\n",
    "---\n",
    "\n",
    "What is the maximum mass of a railcar that can hit the spring without breaking it at a speed of 2 m/s.\n",
    "\n",
    "\n",
    "#### Solution to Question 3d:\n",
    "---\n",
    "\n",
    "<br> <br> <br> <br> <br> "
   ]
  },
  {
   "cell_type": "markdown",
   "id": "269e9fcb-6eff-4d65-af5d-7f765353dff3",
   "metadata": {},
   "source": [
    "# Forced Oscillations\n",
    "---\n",
    "\n",
    "Thus far, we have been considering the dynamics of a mass-spring systems free of external forces. Now we consider what happens if we add an external driving force.\n",
    "\n",
    "- The spring has one end attached to the mass and the other end is now attached to a spinning wheel.\n",
    "\n",
    "- The wheel acts externally, as a forcing function we denote $F_{\\rm Ext}(t)$. \n",
    "\n",
    "- The mass-spring system is now modeled by a nonhomogeneous equation\n",
    "\n",
    "<font color = \"dodgerblue\">\n",
    "$$ mx'' + by' + ky = F_{\\rm Ext}(t).$$\n",
    "</font>\n",
    "\n",
    "- If the wheel has fixed radius and velocity, the forcing function is a trigonometric function of the form <font color = \"dodgerblue\">$F_{\\rm Ext}(t)= A \\cos{(\\omega t)}$</font> or <font color = \"dodgerblue\">$F_{\\rm Ext}(t)= A \\sin{(\\omega t)}$</font> (or a sum of similar sine and cosine fuctions)."
   ]
  },
  {
   "cell_type": "markdown",
   "id": "ec8b68ab-a565-40b3-9dec-24d8f9483a02",
   "metadata": {},
   "source": [
    "## <a name='13quest4'>Question 4:</a>\n",
    "---\n",
    "\n",
    "A water tower in an earthquake acts as a mass-spring system. Assume the the container on top is full and the water does not move around. The container is the mass, and the support is the spring. The container with the water has a mass of $10,\\!000$ kg. It takes a force of 1000 newtons to displace the container 1 meter. For simplicity, we **assume no friction**. The earthquake induces an external force given by $F(t)=m\\omega^2\\cos{(\\omega t)}$ where $\\omega$ denotes the frequency (number of cycles per second). When the earthquake hits, the water tower is at rest."
   ]
  },
  {
   "cell_type": "markdown",
   "id": "0930549f-2caf-4dfe-91f0-2fdd50b5c0e1",
   "metadata": {},
   "source": [
    "### Question 4a:\n",
    "---\n",
    "\n",
    "What is the natural frequency of the water tower? This means, if there is no external force (homoegenous), what is the frequency of the homogeneous solution?\n",
    "\n",
    "#### Solution to Question 4a:\n",
    "---\n",
    "\n",
    "<br> <br> <br> <br> <br>"
   ]
  },
  {
   "cell_type": "markdown",
   "id": "22f8f868-7948-4edc-8b1e-d3ffcd6f0c06",
   "metadata": {},
   "source": [
    "### Question 4b:\n",
    "---\n",
    "\n",
    "If the water tower moves more than $1.5$ meters from its equilbrium resting position, the tower will collapse. Suppose an earthquake with a frequency of $0.5$ cycles per second hits, will the water tower collpase or remain standing? Provide supporting work, graphs, and/or explanations to support your answer.\n",
    "\n",
    "#### Solution to Question 4b:\n",
    "---\n",
    "\n",
    "<br> <br> <br> <br> <br>"
   ]
  },
  {
   "cell_type": "markdown",
   "id": "91cdd68c-4aa7-4fb5-b4f6-9ec7f9590ef4",
   "metadata": {},
   "source": [
    "# <a name=\"13mass-spring\">Appendix: Testing Our Results in the Mass-Spring Lab</a>\n",
    "---\n",
    "\n",
    "We now import a function named `damped_harmonic_oscillator()` that lives inside a module named `mass_spring` stored in GitHub.\n",
    "\n",
    "- See [Mass-Spring-Tutorial.ipynb](https://githubtocolab.com/CU-Denver-MathStats-OER/ODEs/blob/main/Chp2/Mass-Spring-Tutorial.ipynb) for more detailed instructions."
   ]
  },
  {
   "cell_type": "markdown",
   "id": "42cd93e6-714f-4130-92fb-be2e1191334b",
   "metadata": {
    "id": "tuvCY_YV5kMB"
   },
   "source": [
    "## <a name='LoadModule'>Loading `mass_spring` from GitHub</a>\n",
    "---\n",
    "\n",
    "- Run the code cell below to load the most up to date modules stored in GitHub.\n",
    "- You will only need to run this code cell one time during an active session."
   ]
  },
  {
   "cell_type": "code",
   "execution_count": null,
   "id": "1522c997-4dc5-4e0a-9083-74e529311801",
   "metadata": {},
   "outputs": [],
   "source": [
    "!pip install git+https://github.com/CU-Denver-MathStats-OER/ODEs\n",
    "from IPython.display import clear_output\n",
    "clear_output()"
   ]
  },
  {
   "cell_type": "markdown",
   "id": "8c41ba5b-8a8f-4044-8d60-d3c74e4737d5",
   "metadata": {},
   "source": [
    "## <a name=\"10import\">Importing `damped_harmonic_oscillator`</a>\n",
    "---\n",
    "\n",
    "In code cell below, we import the `damped_harmonic_oscillator` function from the `mass_spring` module.\n",
    "\n",
    "- If you receive an error when running the second code cell, this means you have not loaded `mass_spring` from GitHub in a previous code cell.\n"
   ]
  },
  {
   "cell_type": "code",
   "execution_count": null,
   "id": "e02365e3-276c-4c39-b404-8704744e3076",
   "metadata": {
    "id": "f38fbe97-697f-4eb5-aab1-b28acdf0d6a5"
   },
   "outputs": [],
   "source": [
    "from utils.mass_spring import damped_harmonic_oscillator  # Only need to import one time."
   ]
  },
  {
   "cell_type": "markdown",
   "id": "1e46e397-1e74-4110-955a-1a15af3ef956",
   "metadata": {},
   "source": [
    "## <a name=\"10mass-spring\">Running Experiments</a>\n",
    "---\n",
    "\n",
    "Recall the mass-spring system (also called a **damped harmonic oscillator**) has the following model\n",
    "\n",
    "$$my''+by'+ky=0; \\ \\ y(0)=s_0 \\ \\ y'(0)=v_0.$$\n",
    "\n",
    "In [Problem 1](#13quest1) we have:\n",
    "\n",
    "- $m=2$, $b=1$, and $k=3$.\n",
    "- Note the animation may take several seconds to complete running.\n"
   ]
  },
  {
   "cell_type": "code",
   "execution_count": null,
   "id": "58e9f166-f3a8-4a84-abc0-4784a2fbe5fa",
   "metadata": {},
   "outputs": [],
   "source": [
    "damped_harmonic_oscillator(m=2,  # mass is 2\n",
    "                           b=1,  # friction is 1\n",
    "                           k=3,  # stiffness is 3\n",
    "                           A=0,  # amplitude of forcing\n",
    "                           omega=1,  # frequency coefficient\n",
    "                           x0=[1,0])  # initial position and velocity"
   ]
  },
  {
   "cell_type": "markdown",
   "id": "114d3573-7bf2-4665-8031-d908f37048fd",
   "metadata": {},
   "source": [
    "## Running A Side-by-Side Comparison\n",
    "---\n",
    "\n",
    "The function `damped_harmonic_comp()` will simultaneously run to animations for two different mass-spring systems.\n",
    "\n",
    "Below we compare an underdampled and overdamped system.\n",
    "\n",
    "1. You first need to import the `damped_harmonic_comp` function from `mass_spring`. You only need to do this one time in an active sesion.\n",
    "2. Set parameters for both systems.\n",
    "3. Run the code cell. I may take up to a minute to run.\n",
    "4. Press the play button."
   ]
  },
  {
   "cell_type": "code",
   "execution_count": null,
   "id": "bc2552df-2400-4a2d-8186-4a02c7bec627",
   "metadata": {},
   "outputs": [],
   "source": [
    "from utils.mass_spring import damped_harmonic_oscillator_comp"
   ]
  },
  {
   "cell_type": "code",
   "execution_count": null,
   "id": "21b83784-5542-4a98-b0b8-c4dd2aa8f929",
   "metadata": {},
   "outputs": [],
   "source": [
    "damped_harmonic_oscillator_comp(m=[0.2, 0.3],  # masses\n",
    "                                b=[0.5, 0.1],  # frictions\n",
    "                                k=[1, 2],  # stiffnesses  \n",
    "                                A=[0, 0],  # Amplitudes of forcing\n",
    "                                omega=[1, 1],  # frequency coefficients\n",
    "                                x0=[[0.5, 1], [-0.5, -1]],  # initial conditions\n",
    "                                fps=4,  # frames per second\n",
    "                                tf=40)  # total time"
   ]
  },
  {
   "cell_type": "markdown",
   "id": "7cb0a0b2-741b-4352-b5f3-9f48e63dd3b8",
   "metadata": {},
   "source": [
    "## Creative Commons License Information\n",
    "<a rel=\"license\" href=\"https://creativecommons.org/licenses/by-nc-sa/4.0/\"><img alt=\"Creative Commons License\" style=\"border-width:0\" src=\"https://i.creativecommons.org/l/by-nc-sa/4.0/80x15.png\" /></a><br /><span xmlns:dct=\"http://purl.org/dc/terms/\" property=\"dct:title\">Elementary Differential Equations</span> by <a xmlns:cc=\"http://creativecommons.org/ns#\" href=\"https://github.com/CU-Denver-MathStats-OER/ODEs\" property=\"cc:attributionName\" rel=\"cc:attributionURL\">Adam Spiegler, Jonathon Hirschi, and Dmitry Ostrovskiy</a> is licensed under a <a rel=\"license\" href=\"http://creativecommons.org/licenses/by-nc-sa/4.0/\">Creative Commons Attribution-NonCommercial-ShareAlike 4.0 International License</a>.<br />Based on a work at <a xmlns:dct=\"http://purl.org/dc/terms/\" href=\"https://github.com/CU-Denver-MathStats-OER/ODEs\" rel=\"dct:source\">https://github.com/CU-Denver-MathStats-OER/ODEs</a> and original content created by Rasmussen, C., Keene, K. A., Dunmyre, J., & Fortune, N. (2018). *Inquiry oriented differential equations: Course materials*. Available at <a href=\"https://iode.wordpress.ncsu.edu\">https://iode.wordpress.ncsu.edu</a>."
   ]
  }
 ],
 "metadata": {
  "kernelspec": {
   "display_name": "Python 3 (ipykernel)",
   "language": "python",
   "name": "python3"
  },
  "language_info": {
   "codemirror_mode": {
    "name": "ipython",
    "version": 3
   },
   "file_extension": ".py",
   "mimetype": "text/x-python",
   "name": "python",
   "nbconvert_exporter": "python",
   "pygments_lexer": "ipython3",
   "version": "3.9.13"
  }
 },
 "nbformat": 4,
 "nbformat_minor": 5
}
