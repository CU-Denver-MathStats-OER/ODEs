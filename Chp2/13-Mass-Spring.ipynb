{
 "cells": [
  {
   "cell_type": "markdown",
   "id": "8c525fca-ca20-4e5b-bdb0-2eb5655681a3",
   "metadata": {},
   "source": [
    "[![Open In Colab](https://colab.research.google.com/assets/colab-badge.svg)](https://githubtocolab.com/CU-Denver-MathStats-OER/ODEs/blob/main/Chp2/13-Mass-Spring.ipynb)\n"
   ]
  },
  {
   "cell_type": "markdown",
   "id": "f49c3970-6358-46ee-8397-873dedf15b08",
   "metadata": {
    "tags": []
   },
   "source": [
    "\n",
    "# <a name=\"13intro\">Lab 2.5: Mass-Spring Systems</a>\n",
    "\n",
    "---\n",
    "\n",
    "<font color=\"dodgerblue\">Reading: *Notes on Diffy Q's* Section 2.4 and Section 2.6</font>\n",
    "\n",
    "A second order linear differential equation has the form\n",
    "\n",
    "$$\\color{dodgerblue}{P(t)\\frac{d^2y}{dt^2}+Q(t)\\frac{dy}{dt}+R(t)y=G(t)}$$\n",
    "\n",
    "where $P$, $Q$, $R$, and $G$ are continuous functions of the indpendent variable ($t$). There are many applications for which this type of differential equation is a useful model."
   ]
  },
  {
   "cell_type": "markdown",
   "id": "6177b7f8-5d8e-4920-8a15-9a7e582bd819",
   "metadata": {
    "tags": []
   },
   "source": [
    "\n",
    "# Resonance in Sight and Sound\n",
    "\n",
    "---\n",
    "\n",
    "<font color=\"dodgerblue\">Resonance</font> is a phenomenon that occurs when the frequencies of two objects (such as the period of soundwaves, planetary orbits, or bouncing springs) are in sync with one another that results in an increase in the amplitude of the oscillations. Below are some examples of both beautiful and catastrophic consequences of resonance.\n",
    "\n"
   ]
  },
  {
   "cell_type": "markdown",
   "id": "7c3c9dc0-d855-4d13-937e-ea5bafad563f",
   "metadata": {
    "tags": []
   },
   "source": [
    "\n",
    "## Saturn's Rings\n",
    "\n",
    "---\n",
    "\n",
    "<figure>\n",
    "<img\n",
    "src=\"https://upload.wikimedia.org/wikipedia/commons/0/02/%EC%97%94%EC%85%80%EB%9D%BC%EB%91%90%EC%8A%A4%EC%99%80_E_%EA%B3%A0%EB%A6%AC.jpg\"\n",
    "width= \"90%\" alt=\"Map of North Atlantic Storms\" />\n",
    "<figcaption aria-hidden=\"true\">\n",
    "Credit: Qkrckdwls1004 <a\n",
    "href=\"https://creativecommons.org/licenses/by-sa/4.0\">CC BY-SA 4.0</a>\n",
    "via via Wikimedia Commons\n",
    "</figcaption>\n",
    "</figure>\n",
    "\n",
    "Saturn's rings are mostly made of many (a big understatement!) tiny, nearly pure (99.9%) water ice particles. The inner-most ring starts about 4,000 miles above Saturn, and the rings extend out to 50,000 miles. The Cassini division is the biggest gap in the rings at 3,000 miles wide, and it is the result of resonance in the orbital frequencies between ice particles in the ring and the moon [Mimas](https://en.wikipedia.org/wiki/Mimas_(moon)).\n",
    "\n",
    "Mimas orbits Saturn every $22.5$ hours. At one point, (long long ago) there were particles in the ring that orbited every $11.25$ hours. Every two orbits, those particles felt a big pull in the same direction due to the gravity of Mimas. As a result, those ice particles were pulled further out towards Mimas. The particles eventually slowed down as they were pulled further from Saturn, breaking the resonance with Mimas and resettling into a new orbit. Thus, we have the Cassini division!\n",
    "\n",
    "The Cassini division is a result of a 2:1 ratio with Mimas. Other gaps are the result of other rations (such as 3:1 and 3:2) and other moons. Below is a mezmerizing video with an audio translation of the harmonizing of the resonance between Saturn’s co-orbital moons Janus and Epimetheus and nearby ice particles.\n",
    "\n",
    "\n",
    "<a href=\"https://www.youtube.com/embed/SsFZlSQdPWU\"><img src=\"http://img.youtube.com/vi/SsFZlSQdPWU/1.jpg\" alt=\"SATURN Sounds Part 2: Resonance of Janus tanslated into music\" width=\"400\"  />\n",
    "</a>\n",
    "\n",
    "Video Source: [SATURN Sounds Part 2: Resonance of Janus tanslated into music](https://www.youtube.com/watch?v=SsFZlSQdPWU) by SYSTEM Sounds, uploaded August 23, 2017.\n",
    "\n",
    "\n",
    "{{< video https://www.youtube.com/embed/SsFZlSQdPWU width=\"560\" height=\"315\"\n",
    "                                                    title=\"SATURN Sounds Part 2: Resonance of Janus tanslated into music\">}}\n",
    "\n",
    "\n"
   ]
  },
  {
   "cell_type": "markdown",
   "id": "2e49de24-bcf8-47c3-9408-81b5397af5b8",
   "metadata": {},
   "source": [
    "\n",
    "## Breaking a Glass with your Voice\n",
    "\n",
    "---\n",
    "\n",
    "Resoance results when the frequency of a musical note matches the natural vibration of a crystal glass. The glass will vibrate with increasing amplitude until it shatters. The following is one model for understanding resonance.\n",
    "\n",
    "$$\\frac{d^2x}{dt^2}+k^2x=\\cos(kt)$$\n",
    "\n",
    "\n",
    "<a href=\"https://www.youtube.com/embed/sH7XSX10QkM\"><img src=\"http://img.youtube.com/vi/sH7XSX10QkM/0.jpg\" alt=\"Boy Breaks Wine Glass with Voice\" width=\"400\"  />\n",
    "</a>\n",
    "\n",
    "Video Source: \"Boy Breaks Wine Glass with Voice.\" YouTube, uploaded by chasechocolate, uploaded December 14, 2009."
   ]
  },
  {
   "cell_type": "markdown",
   "id": "a2cba381-3e4e-41fd-9b23-a54231c3d6be",
   "metadata": {
    "tags": []
   },
   "source": [
    "\n",
    "## Collapsing Suspension Bridge\n",
    "\n",
    "---\n",
    "\n",
    "**The Tacoma Narrows Bridge** in Washington State was one of the largest suspended bridges built at the time. The bridge connecting the Tacoma Narrows channel collapsed in a dramatic way on Thursday November 7, 1940. Winds of 35-46 miles/hours produced an oscillation which eventually broke the construction. The bridge began first to vibrate torsionally, giving it a twisting motion. Later the vibrations entered a natural resonance with the suspension bridge. \n",
    "\n",
    "\n",
    "<a href=\"https://www.youtube.com/embed/y0xohjV7Avo\"><img src=\"http://img.youtube.com/vi/y0xohjV7Avo/0.jpg\" alt=\"The Collapse of 'Galloping Gertie.\" width=\"400\"  />\n",
    "</a>\n",
    "\n",
    "Video Source: \"The Collapse of 'Galloping Gertie.\" YouTube, uploaded by Smithsonian National Air and Space Museum, uploaded November 4, 2019."
   ]
  },
  {
   "cell_type": "markdown",
   "id": "9986e596-98ae-49f1-a49f-dd7df0f89074",
   "metadata": {
    "tags": []
   },
   "source": [
    "\n",
    "# <a name='13Import'>Importing Mass-Spring Functions</a>\n",
    "\n",
    "---\n",
    "\n",
    "You will only need to run the code cells below one time while this session remains active. However, if your session is terminated, you will need to re-run both code cells again in order to use `damped_harmonic_oscillator()` and/or `damped_harmonic_oscillator_comp()`.\n",
    "\n",
    "- Run the first code cell to load the module `mass_spring.py` from GitHub.\n",
    "    - The will take just a couple of seconds to complete running.\n",
    "- Run the second code cell to import the `damped_harmonic_oscillator()` and `damped_harmonic_oscillator_comp()` functions.\n"
   ]
  },
  {
   "cell_type": "code",
   "execution_count": null,
   "id": "bb3716a3-287b-4753-b71a-f9ed6a820e19",
   "metadata": {},
   "outputs": [],
   "source": [
    "!pip install git+https://github.com/CU-Denver-MathStats-OER/ODEs\n",
    "from IPython.display import clear_output\n",
    "clear_output()"
   ]
  },
  {
   "cell_type": "code",
   "execution_count": null,
   "id": "bd881598-c547-452e-a9e8-26e5f1dbb9c3",
   "metadata": {},
   "outputs": [],
   "source": [
    "from utils.mass_spring import damped_harmonic_oscillator  \n",
    "from utils.mass_spring import damped_harmonic_oscillator_comp"
   ]
  },
  {
   "cell_type": "markdown",
   "id": "66728d92-7ae3-4984-95cb-fa0a4a06d004",
   "metadata": {
    "tags": []
   },
   "source": [
    "\n",
    "#  Revisiting Unforced Mass-Spring Systems\n",
    "\n",
    "---\n",
    "\n",
    "\n",
    "Recall the mass-spring oscillator introduced in [Worksheet 10 Homogeneous 2nd Order](https://githubtocolab.com/CU-Denver-MathStats-OER/ODEs/blob/main/Chp2/10-Homogeneous-2nd-Order.ipynb). We connect an object with <font color = \"mediumseagreen\">mass $m$</font> kg to a spring with <font color = \"dodgerblue\">stiffness coefficient</font> $k$ kg/sec$^2$ that is connected to a stationary wall on the other end. We give the mass some initial position $s_0$ and velocity $v_0$, and we observe the mechanics of how the mass moves along a surface with <font color=\"tomato\">friction coefficient $b$</font> kg/sec. Such a system is called a <font color=\"dodgerblue\">**mass-spring oscillator**</font> or a <font color=\"dodgerblue\">**harmonic oscillator**</font>. The position of the mass at time, $y(t)$, is modeled by the second order differential equation\n",
    "\n",
    "$$\\large {\\color{mediumseagreen}{m}}y''+ {\\color{tomato}{b}} y'+ {\\color{dodgerblue}{k}} y=0; \\qquad y(0)=s_0, \\quad y'(0)=v_0.$$\n",
    "\n",
    "![Mass-Spring Oscillator](Images/10mass-spring.png)"
   ]
  },
  {
   "cell_type": "markdown",
   "id": "bf2e8271-67bc-45be-9bae-4544e9800010",
   "metadata": {},
   "source": [
    "## <a name='13units'>Units of the Coefficients</a>\n",
    "---\n",
    "\n",
    "\n",
    "For these questions we will measure quantities using the metric system:\n",
    "\n",
    "- The overall force is measured in newtons, $N$.\n",
    "    - It is equal to the force that would give a mass of one kilogram an acceleration of one meter per $\\mbox{sec}^2$,\n",
    "- The spring constant $k$ has units of force per unit of distance. For example newtons per meter, N/m.\n",
    "- The damping constant is a unit of impulse per unit of distance. For example newton seconds per meter, $\\mbox{N} \\cdot \\mbox{s}$ per meter."
   ]
  },
  {
   "cell_type": "markdown",
   "id": "6e4d41b0-d93c-4fb7-ac6f-b37eb89539b1",
   "metadata": {},
   "source": [
    "\n",
    "## <a name=\"13damping\">Over, Under, and Critically Damped</a>\n",
    "\n",
    "---\n",
    "\n",
    "- If there is **no friction ($\\mathbf{b=0}$)**, then the system is <font color=\"dodgerblue\">**undamped**</font>.\n",
    "\n",
    "- If there is a **little bit of friction**, the mass will oscillate and move to the other side of its equilibrium before settling back at its equilibrium position in the long run. Such a system is called <font color=\"dodgerblue\">**underdamped**</font>.\n",
    "\n",
    "- If there is a **lot of friction**, the mass will simply settle back at the equilibrium position (without moving to the other side of the equilibrium). Such a system is called <font color=\"dodgerblue\">**overdamped**</font>.\n",
    "\n",
    "- When the system has just the perfect amount of friction such that:\n",
    "    - If there is *less friction*, the mass is *underdamped*, and\n",
    "    - If there is *more friction*, the mass is *overdamped*.\n",
    "    - We say the system is <font color=\"dodgerblue\">**critically damped**</font>."
   ]
  },
  {
   "cell_type": "markdown",
   "id": "e2594719-fec6-4bf2-ad98-c4d995cd976a",
   "metadata": {},
   "source": [
    "\n",
    "## <a name='13quest1'>Question 1:</a>\n",
    "\n",
    "---\n",
    "\n",
    "Consider a mass-spring system with a mass $m=2$ kg, spring constant $k=3$ newtons per meter, and damping constant $b$ newton seconds per meter. For what values of $b$ will the mass-spring oscillator be underdamped? overdamped? critically damped?\n",
    "\n",
    "### Solution to Question 1:\n",
    "\n",
    "---\n",
    "\n",
    "<br>  \n",
    "<br>  \n",
    "<br>  \n"
   ]
  },
  {
   "cell_type": "markdown",
   "id": "60ec7bb2-49b7-44eb-bec0-41333a0a49be",
   "metadata": {},
   "source": [
    "\n",
    "## <a name='13ques2'>Question 2:</a>\n",
    "\n",
    "---\n",
    "\n",
    "Use the `damped_harmonic_oscillator()` function in the `mass_spring` module to experiment and confirm your answers in [Question 1].\n",
    "\n",
    "- Be sure you have already imported `damped_harmonic_oscillator()` from the `mass_spring` module. See [Importing Functions](#13Import) for code cells to perform this task.\n",
    "- See the [Apppendix](#13append-one) for a quick set of instructions for using `damped_harmonic_oscillator()`.\n",
    "- See [Mass-Spring-Tutorial.ipynb](https://githubtocolab.com/CU-Denver-MathStats-OER/ODEs/blob/main/Chp2/Mass-Spring-Tutorial.ipynb) for more detailed instructions.\n",
    "\n",
    "\n",
    "### Solution to Question 2\n",
    "\n",
    "---\n",
    "\n",
    "<br> \n",
    "<mark>Edit and run the code cell below.<mark>\n",
    "<br>\n"
   ]
  },
  {
   "cell_type": "code",
   "execution_count": null,
   "id": "abfe3d08-3d3e-464e-a677-5b3a69cb0834",
   "metadata": {},
   "outputs": [],
   "source": [
    "damped_harmonic_oscillator(m=??,  # mass\n",
    "                           b=??,  # friction\n",
    "                           k=??,  # stiffness\n",
    "                           A=??,  # amplitude of forcing\n",
    "                           omega=??,  # frequency coefficient\n",
    "                           x0=[??,??])  # [s0, v0], initial position and velocity"
   ]
  },
  {
   "cell_type": "markdown",
   "id": "5f854be4-b797-4328-b4de-1a6060e884eb",
   "metadata": {},
   "source": [
    "\n",
    "## <a name=\"13quest3\">Question 3</a>\n",
    "\n",
    "---\n",
    "\n",
    "Summarize the relation between damping of the mass-spring oscillator, the roots of the underlying characteristic equation, and formulas of the solutions. \n",
    "\n",
    "\n",
    "\n",
    "###  Solution to Question 3\n",
    "\n",
    "---\n",
    "\n",
    "<br>  \n",
    "<br>  \n",
    "<br>"
   ]
  },
  {
   "cell_type": "markdown",
   "id": "9daa93bc-b58f-4500-bf65-3734d7099903",
   "metadata": {},
   "source": [
    "## <a name='13quest4'>Question 4</a>\n",
    "---\n",
    "\n",
    "You place an object whose mass $m$ (in kg) is unknown on top of a spring in a vaccum (ignoring all other forces such as friction and gravity) and put the system in motion. You observed the mass bounce up and down. Let $y$ denote the vertical distance of the mass from its equilibrium position, with $y>0$ when the mass is stretched above the equilibrium.\n",
    "\n",
    "If external forces such as friction and gravity are absent, then the location of the mass $y$ follows the same model for the undamped free mass-spring system:\n",
    "$$ my''+ky=0$$."
   ]
  },
  {
   "cell_type": "markdown",
   "id": "1372aa23-20a6-4f3d-beb7-37a9de71cadd",
   "metadata": {},
   "source": [
    "\n",
    "### <a name='13quest4a'>Question 4a</a>\n",
    "\n",
    "---\n",
    "\n",
    "If the spring constant of the spring is $k=4 \\mbox{ N/m}$, then give a solution to the initial value problem. Note your answer will depend on the mass $m$.\n",
    "\n",
    "\n",
    "#### Solution to Question 4a\n",
    "\n",
    "---\n",
    "\n",
    "<br>  \n",
    "<br>  \n",
    "<br>\n"
   ]
  },
  {
   "cell_type": "markdown",
   "id": "cec440ed-cda5-41b1-8913-268fa01b233d",
   "metadata": {},
   "source": [
    "\n",
    "### <a name='13quest4b'>Question 4b</a>\n",
    "\n",
    "---\n",
    "\n",
    "If the mass bounces with a frequency of $0.8$ cycles per second, then give the value of the mass $m$.\n",
    "Note that one cycle means the mass goes from equilibrium, down, then back up, and returns to equilibrium. \n",
    "\n",
    "\n",
    "#### Solution to Question 4b\n",
    "\n",
    "---\n",
    "\n",
    "<br> <br> <br> <br> <br>"
   ]
  },
  {
   "cell_type": "markdown",
   "id": "9478d170-1d46-48f3-856b-7cf588305b97",
   "metadata": {},
   "source": [
    "\n",
    "## <a name='13quest5'>Question 5</a>\n",
    "\n",
    "---\n",
    "\n",
    "A $5000$ kg railcar hits a spring bumper at a speed of $1$ meter per second, and the spring compresses by $0.1$ m. Assume no damping."
   ]
  },
  {
   "cell_type": "markdown",
   "id": "a7e2a514-805a-4b19-8b75-bcc75e000209",
   "metadata": {},
   "source": [
    "\n",
    "### <a name='13quest5a'>Question 5a</a>\n",
    "\n",
    "---\n",
    "\n",
    "Find the value of the spring constant $k$.\n",
    "\n",
    "\n",
    "#### Solution to Question 5a\n",
    "\n",
    "---\n",
    "\n",
    "<br>  \n",
    "<br>  \n",
    "<br> "
   ]
  },
  {
   "cell_type": "markdown",
   "id": "67c2dae1-62ac-4db2-8931-3f19d5be1037",
   "metadata": {},
   "source": [
    "\n",
    "### <a name='13quest5b'>Question 5b</a>\n",
    "\n",
    "---\n",
    "\n",
    "How far does the spring compress when a $10,\\!000$ kg railcar hits the spring at the same speed?\n",
    "\n",
    "#### Solution to Question 5b\n",
    "\n",
    "---\n",
    "\n",
    "<br>  \n",
    "<br>  \n",
    "<br>"
   ]
  },
  {
   "cell_type": "markdown",
   "id": "fadec2b9-8d27-422f-915a-f4ac02c11aa2",
   "metadata": {},
   "source": [
    "\n",
    "### <a name='13quest5c'>Question 5c</a>\n",
    "\n",
    "---\n",
    "\n",
    "If the spring would break if it compresses more than $0.3$ m, what is the maximum mass of a railcar that can hit at 1 m/s?\n",
    "\n",
    "#### Solution to Question 5c\n",
    "\n",
    "---\n",
    "\n",
    "<br>  \n",
    "<br>  \n",
    "<br>\n"
   ]
  },
  {
   "cell_type": "markdown",
   "id": "fa62f368-71cd-4adc-89b5-43dd9849f34d",
   "metadata": {},
   "source": [
    "### <a name='13quest5d'>Question 5d</a>\n",
    "---\n",
    "\n",
    "What is the maximum mass of a railcar that can hit the spring without breaking it at a speed of 2 m/s.\n",
    "\n",
    "\n",
    "#### Solution to Question 5d\n",
    "---\n",
    "\n",
    "<br> <br> <br> <br> <br> "
   ]
  },
  {
   "cell_type": "markdown",
   "id": "6ff5fe47-a0a0-4ba2-abef-8093081ebebd",
   "metadata": {
    "tags": []
   },
   "source": [
    "\n",
    "# <a name=\"13forced\">Forced Oscillations</a>\n",
    "\n",
    "---\n",
    "\n",
    "Thus far, we have been considering the dynamics of a mass-spring systems free of external forces. Now we consider what happens if we add an external driving force.\n",
    "\n",
    "- The spring has one end attached to the mass and the other end is now attached to a spinning wheel.\n",
    "- The wheel acts externally, as a forcing function we denote $F_{\\rm Ext}(t)$. \n",
    "- The mass-spring system is now modeled by a nonhomogeneous equation\n",
    "\n",
    "<font color = \"dodgerblue\">\n",
    "$$ mx'' + by' + ky = F_{\\rm Ext}(t).$$\n",
    "</font>\n",
    "\n",
    "- If the wheel has fixed radius and velocity, the forcing function is a trigonometric function of the form <font color = \"dodgerblue\">$F_{\\rm Ext}(t)= A \\cos{(\\omega t)}$</font>."
   ]
  },
  {
   "cell_type": "markdown",
   "id": "4ee83192-35db-497b-adb9-7e7b8a56a3df",
   "metadata": {},
   "source": [
    "\n",
    "## <a name=\"13quest6\">Question 6</a>\n",
    "\n",
    "---\n",
    "\n",
    "Find an external forcing function of the form $F(t) = A\\cos{(\\omega t)}$ that will have resonance with the undamped ($b=0$) mass-spring system with $m=2$ kg and spring coefficient $k=3$ N/m. Then test your answer using the `damped_harmonic_oscillator` function provided in the code cell below.\n",
    "\n",
    "\n",
    "### Solution to Question 6\n",
    "\n",
    "---\n",
    "\n",
    "\n",
    "<br>  \n",
    "<br>  \n",
    "<br> \n"
   ]
  },
  {
   "cell_type": "code",
   "execution_count": null,
   "id": "c4f02bf2-d198-4c96-85be-64e3ad822dbb",
   "metadata": {},
   "outputs": [],
   "source": [
    "damped_harmonic_oscillator(m=??,  # mass\n",
    "                           b=??,  # friction\n",
    "                           k=??,  # stiffness\n",
    "                           A=??,  # amplitude of forcing\n",
    "                           omega=??,  # frequency coefficient\n",
    "                           x0=[??,??])  # [s0, v0], initial position and velocity"
   ]
  },
  {
   "cell_type": "markdown",
   "id": "2554c6aa-e88a-4985-9c63-ee34c47ab1b4",
   "metadata": {},
   "source": [
    "\n",
    "## <a name='13quest7'>Question 7</a>\n",
    "\n",
    "---\n",
    "\n",
    "A water tower in an earthquake acts as a mass-spring system. Assume the the container on top is full and the water does not move around. The container is the mass, and the support is the spring. The container with the water has a mass of $10,\\!000$ kg. It takes a force of 1000 newtons to displace the container 1 meter. For simplicity, we **assume no friction**. The earthquake induces an external force given by $F(t)=m\\omega^2\\cos{(\\omega t)}$ where $\\omega$ denotes the frequency (number of cycles per second). When the earthquake hits, the water tower is at rest."
   ]
  },
  {
   "cell_type": "markdown",
   "id": "af018f51-9557-42e0-8f4f-4c39236d611a",
   "metadata": {},
   "source": [
    "\n",
    "### <a name='13quest7a'>Question 7a</a>\n",
    "\n",
    "---\n",
    "\n",
    "What is the natural frequency of the water tower? This means, if there is no external force (homoegenous), what is the frequency of the homogeneous solution?\n",
    "\n",
    "#### Solution to Question 7a\n",
    "\n",
    "---\n",
    "\n",
    "<br>  \n",
    "<br>  \n",
    "<br>"
   ]
  },
  {
   "cell_type": "markdown",
   "id": "869ce745-f2a5-4c42-9d1b-54b857b6599a",
   "metadata": {},
   "source": [
    "\n",
    "### <a name='13quest7b'>Question 7b</a>\n",
    "\n",
    "---\n",
    "\n",
    "If the water tower moves more than $1.5$ meters from its equilbrium resting position, the tower will collapse. Suppose an earthquake with a frequency of $0.5$ cycles per second hits, will the water tower collpase or remain standing? Provide supporting work, graphs, and/or explanations to support your answer.\n",
    "\n",
    "\n",
    "#### Solution to Question 7b\n",
    "\n",
    "---\n",
    "\n",
    "<br>  \n",
    "<br>  \n",
    "<br>"
   ]
  },
  {
   "cell_type": "markdown",
   "id": "2b60b5f4-1acc-4ea1-a38c-ff91a4f20af5",
   "metadata": {},
   "source": [
    "\n",
    "# <a name='13append'>Appendix: Quick Start for `mass-spring` Functions</a>\n",
    "\n",
    "--- \n",
    "\n",
    "In order to use either `damped_harmonic_oscillator` or `damped_harmonic_oscillator_comp`, we first need to import the functions from `mass_spring` module. See [Importing Functions](#13Import) for code cells to perform this task.\n",
    "\n",
    "- See [Mass-Spring-Tutorial.ipynb](https://githubtocolab.com/CU-Denver-MathStats-OER/ODEs/blob/main/Chp2/Mass-Spring-Tutorial.ipynb) for more detailed instructions.\n"
   ]
  },
  {
   "cell_type": "markdown",
   "id": "0de76dc0-58c1-4745-ab98-96aef29cec1a",
   "metadata": {
    "tags": []
   },
   "source": [
    "\n",
    "## <a name=\"13append-one\">Testing One System with `damped_harmonic_oscillator`</a>\n",
    "\n",
    "---\n",
    "\n",
    "Recall the damped harmonic oscillator has the following model\n",
    "\n",
    "$$my''+by'+ky=f(t); \\ \\ y(0)=s_0 \\ \\ y'(0)=v_0.$$\n",
    "\n",
    "The forcing function has a fixed period and amplitude, for example $f(t) = A \\sin{(\\omega t)}$.\n",
    "\n",
    "- Note the animation may take several seconds to complete running.\n",
    "- Set `A=0` for an unforced system.\n"
   ]
  },
  {
   "cell_type": "code",
   "execution_count": null,
   "id": "c7d9ef66-c96f-4996-b33a-9aec0b863a5c",
   "metadata": {},
   "outputs": [],
   "source": [
    "damped_harmonic_oscillator(m=2,  # mass\n",
    "                           b=0,  # friction\n",
    "                           k=3,  # stiffness\n",
    "                           A=0,  # amplitude of forcing\n",
    "                           omega=1,  # frequency coefficient\n",
    "                           x0=[1,0])  # [s0, v0], initial position and velocity"
   ]
  },
  {
   "cell_type": "markdown",
   "id": "8b09951c-0252-44ce-80f5-cddf5841f2ca",
   "metadata": {},
   "source": [
    "\n",
    "## <a name='13append-comp'>Side-by-Side Comparison with `damped_harmonic_comp`</a>\n",
    "\n",
    "---\n",
    "\n",
    "The function `damped_harmonic_comp()` will simultaneously run to animations for two different mass-spring systems. The function works similar to works similarly to `damped_harmonic()`. For each coefficient, enter an **array** of two values, one for each of the two systems.\n",
    "\n"
   ]
  },
  {
   "cell_type": "code",
   "execution_count": null,
   "id": "17be2f11-bcb5-4852-b219-c00eb87c6cce",
   "metadata": {},
   "outputs": [],
   "source": [
    "damped_harmonic_oscillator_comp(m=[0.2, 0.3],  # masses\n",
    "                                b=[0.5, 0.1],  # frictions\n",
    "                                k=[1, 2],  # stiffnesses  \n",
    "                                A=[0, 0],  # amplitudes of forcing\n",
    "                                omega=[1, 1],  # frequency coefficients\n",
    "                                x0=[[0.5, 1], [-0.5, -1]],  # [ [initial cond 1], [initial cond 2] ]\n",
    "                                fps=4,  # frames per second, to speed up or slow down\n",
    "                                tf=40)  # total time, to extend or shorten clip"
   ]
  },
  {
   "cell_type": "markdown",
   "id": "a9e60a9a-16ec-439d-b1ad-36f17438d8d0",
   "metadata": {},
   "source": [
    "# Creative Commons License Information\n",
    "\n",
    "---\n",
    "\n",
    "<a rel=\"license\" href=\"https://creativecommons.org/licenses/by-nc-sa/4.0/\"><img alt=\"Creative Commons License\" style=\"border-width:0\" src=\"https://i.creativecommons.org/l/by-nc-sa/4.0/80x15.png\" /></a><br /><span xmlns:dct=\"http://purl.org/dc/terms/\" property=\"dct:title\">*Exploring Differential Equations*</span> by <a xmlns:cc=\"http://creativecommons.org/ns#\" href=\"https://github.com/CU-Denver-MathStats-OER/ODEs\" property=\"cc:attributionName\" rel=\"cc:attributionURL\">Adam Spiegler</a> is licensed under a <a rel=\"license\" href=\"http://creativecommons.org/licenses/by-nc-sa/4.0/\">Creative Commons Attribution-NonCommercial-ShareAlike 4.0 International License</a>. Python scripts in `mass_spring.py` created by Troy Butler, Jonathon Hirschi, and Adam Spiegler.\n",
    "\n",
    "Based on a work at <a xmlns:dct=\"http://purl.org/dc/terms/\" href=\"https://github.com/CU-Denver-MathStats-OER/ODEs\" rel=\"dct:source\">https://github.com/CU-Denver-MathStats-OER/ODEs</a> and original content created by Rasmussen, C., Keene, K. A., Dunmyre, J., & Fortune, N. (2018). *Inquiry oriented differential equations: Course materials*. Available at <a href=\"https://iode.sdsu.edu\">https://iode.sdsu.edu</a>."
   ]
  },
  {
   "cell_type": "code",
   "execution_count": null,
   "id": "d2271fec-4ba5-4db6-9d5a-5900fc3474d0",
   "metadata": {},
   "outputs": [],
   "source": []
  }
 ],
 "metadata": {
  "kernelspec": {
   "display_name": "Python 3 (ipykernel)",
   "language": "python",
   "name": "python3"
  },
  "language_info": {
   "codemirror_mode": {
    "name": "ipython",
    "version": 3
   },
   "file_extension": ".py",
   "mimetype": "text/x-python",
   "name": "python",
   "nbconvert_exporter": "python",
   "pygments_lexer": "ipython3",
   "version": "3.9.13"
  }
 },
 "nbformat": 4,
 "nbformat_minor": 5
}
