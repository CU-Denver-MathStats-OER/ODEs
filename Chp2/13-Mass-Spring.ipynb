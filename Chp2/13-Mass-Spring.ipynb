{
 "cells": [
  {
   "cell_type": "markdown",
   "id": "fb2b95e6-376f-4933-89c6-3cd6f7cd6ffd",
   "metadata": {},
   "source": [
    "# Section 2.5: Mass-Spring Systems\n",
    "---\n",
    "\n",
    "Recall the mass-spring oscillator introduced in [Worksheet 10 Homogeneous 2nd Order](10-Homogeneous-2nd-Order.ipynb). We connect an object with <font color = 'green'>mass $m$</font> kg to a spring with <font color = 'blue'>stiffness coefficient</font> $k$ kg/sec$^2$ that is connected to a stationary wall on the other end. We give the mass some initial position $s_0$ and velocity $v_0$, and we observe the mechanics of how the mass moves along a surface with <font color='red'>friction coefficient $b$</font> kg/sec. Such a system is called a **mass-spring oscillator**. The position of the mass at time, $y(t)$, is modeled by the second order differential equation\n",
    "\n",
    "$$\\large \\color{green}{m}y''+\\color{red}{b}y'+\\color{blue}{k}y=0; \\qquad y(0)=s_0, \\quad y'(0)=v_0.$$\n",
    "\n",
    "![Mass-Spring Oscillator](Images/10mass-spring.png)"
   ]
  },
  {
   "cell_type": "markdown",
   "id": "0b1dc21d-a67b-4696-a7c9-5ae1fa3bb74c",
   "metadata": {},
   "source": [
    "# Over, Under, and Critically Damped\n",
    "---\n",
    "\n",
    "- If there is **no friction ($\\mathbf{b=0}$)**, then the system is **undamped**.\n",
    "- If there is a **little bit of friction**, the mass will oscillate and move to the other side of its equilibrium before settling back at its equilibrium position in the long run. Such a system is called **underdamped**.\n",
    "- If there is a **lot of friction**, the mass will simply settle back at the equilibrium position (without moving to the other side of the equilibrium). Such a system is called **overdamped**.\n",
    "- When the system has just the perfect amount of friction such that:\n",
    "    - If there is *less friction*, the mass is *underdamped*, and\n",
    "    - If there is *more friction*, the mass is *overdamped*.\n",
    "    - We say the system is **critically damped**."
   ]
  },
  {
   "cell_type": "markdown",
   "id": "01ccea58-389d-42a5-9271-d1d49e8687e5",
   "metadata": {},
   "source": [
    "## <a name='13quest1'>Question 1:</a>\n",
    "---\n",
    "\n",
    "Consider a mass-spring system with a mass $m=2$, spring constant $k=3$, and damping constant $b=1$.\n",
    "\n",
    "a. Set up and find a general solution to the corresponding differential equation.\n",
    "\n",
    "b. Is the system underdamped, overdamped, or critically damped?\n",
    "\n",
    "c. What is the period of solution? How many cycles does the mass-spring complete each second?\n",
    "\n",
    "d. Find a value for the constant $b$ so the sytem is critically damped.\n",
    "\n",
    "\n",
    "\n",
    "### Solution to Question 1:\n",
    "---\n",
    "\n",
    "<br> <br> <br> <br> <br> <br>"
   ]
  },
  {
   "cell_type": "markdown",
   "id": "d9d00068-eb1c-47f7-84d1-4ee08f87cfaf",
   "metadata": {},
   "source": [
    "## Units of the Coefficients\n",
    "---\n",
    "\n",
    "\n",
    "For these problems we will measure quantities using the metric system:\n",
    "\n",
    "- The overall force is measured in newtons, $N$.\n",
    "    - It is equal to the force that would give a mass of one kilogram an acceleration of one meter per $\\mbox{sec}^2$,\n",
    "\n",
    "\n",
    "- The spring constant $k$ has units of force per unit of distance. For example newtons per meter, N/m.\n",
    "\n",
    "- The damping constant is a unit of impulse per unit of distance. For example newton seconds per meter, $\\mbox{N} \\cdot \\mbox{s}$ per meter."
   ]
  },
  {
   "cell_type": "markdown",
   "id": "7c4c846a-7886-48d4-8464-6b134c9b24e5",
   "metadata": {},
   "source": [
    "## <a name='13quest2'>Question 2:</a>\n",
    "---\n",
    "\n",
    "You place an object whose mass $m$ (in kg) is unknown on top of a spring in a vaccum (ignoring all other forces such as friction and gravity) and put the system in motion. You observed the mass bounce up and down. Let $y$ denote the vertical distance of the mass from its equilibrium position, with $y>0$ when the mass is stretched above the equilibrium.\n",
    "\n",
    "If external forces such as friction and gravity are absent, then the location of the mass $y$ follows the same model for the undamped free mass-spring system:\n",
    "$$ my''+ky=0$$.\n",
    "\n",
    "a. If the spring constant of the spring is $k=4 \\mbox{ N/m}$, then give a solution to the initial value problem. Note your answer will depend on the mass $m$.\n",
    "\n",
    "b. If the mass bounces with a frequency of $0.8$ cycles per second, then give the value of the mass $m$.\n",
    "Note that one cycle means the mass goes from equilibrium, down, then back up, and returns to equilibrium. \n",
    "\n",
    "\n",
    "### Solution to Question 2:\n",
    "---\n",
    "\n",
    "<br> <br> <br> <br> <br> <br>"
   ]
  },
  {
   "cell_type": "markdown",
   "id": "fa12cbd0-7ee7-43b4-b566-66388a961240",
   "metadata": {},
   "source": [
    "## <a name='13quest3'>Question 3:</a>\n",
    "---\n",
    "\n",
    "A $5000$ kg railcar hits a spring bumper at a speed of $1$ meter per second, and the spring compresses by $0.1$ m. Assume no damping.\n",
    "\n",
    "a. Find the value of the spring constant $k$.\n",
    "\n",
    "b. How far does the spring compress when a $10,\\!000$ kg railcar hits the spring at the same speed?\n",
    "\n",
    "c. If the spring would break if it compresses more than $0.3$ m, what is the maximum mass of a railcar that can hit at 1 m/s?\n",
    "\n",
    "d. What is the maximum mass of a railcar that can hit the spring without breaking it at a speed of 2 m/s.\n",
    "\n",
    "\n",
    "### Solution to Question 3:\n",
    "---\n",
    "\n",
    "<br> <br> <br> <br> <br> <br>"
   ]
  },
  {
   "cell_type": "markdown",
   "id": "269e9fcb-6eff-4d65-af5d-7f765353dff3",
   "metadata": {},
   "source": [
    "# Forced Oscillations\n",
    "---\n",
    "\n",
    "Thus far, we have been considering the dynamics of a mass-spring systems free of external forces. Now we consider what happens if we add an external driving force.\n",
    "\n",
    "- The spring has one end attached to the mass and the other end is now attached to a spinning wheel.\n",
    "\n",
    "- The wheel acts externally, as a forcing function we denote $F_{\\rm Ext}(t)$. \n",
    "\n",
    "- The mass-spring system is now modeled by a nonhomogeneous equation\n",
    "\n",
    "<font color = \"blue\">\n",
    "$$ mx'' + by' + ky = F_{\\rm Ext}(t).$$\n",
    "</font>\n",
    "\n",
    "- If the wheel has fixed radius and velocity, the forcing function is a trigonometric function of the form <font color = \"blue\">$F_{\\rm Ext}(t)= A \\cos{(\\omega t)}$</font> or <font color = \"blue\">$F_{\\rm Ext}(t)= A \\sin{(\\omega t)}$</font> (or a sum of similar sine and cosine fuctions)."
   ]
  },
  {
   "cell_type": "markdown",
   "id": "8f2b2c14-d1d5-4199-8e59-bc2287a7b666",
   "metadata": {},
   "source": [
    "## <a name='13quest4'>Question 4:</a>\n",
    "---\n",
    "\n",
    "A water tower in an earthquake acts as a mass-spring system. Assume the the container on top is full and the water does not move around. The container is the mass, and the support is the spring. The container with the water has a mass of $10,\\!000$ kg. It takes a force of 1000 newtons to displace the container 1 meter. For simplicity, we **assume no friction**. The earthquake induces an external force given by $F(t)=m\\omega^2\\cos{(\\omega t)}$ where $\\omega$ denotes the frequency (number of cycles per second). When the earthquake hits, the water tower is at rest.\n",
    "\n",
    "a. What is the natural frequency of the water tower? This means, if there is no external force (homoegenous), what is the frequency of the homogeneous solution?\n",
    "\n",
    "b. If the water tower moves more than $1.5$ meters from its equilbrium resting position, the tower will collapse. Suppose an earthquake with a frequency of $0.5$ cycles per second hits, will the water tower collpase or remain standing? Provide supporting work, graphs, and/or explanations to support your answer.\n",
    "\n",
    "### Solution to Question 4:\n",
    "---\n",
    "\n",
    "<br> <br> <br> <br> <br> <br>"
   ]
  },
  {
   "cell_type": "markdown",
   "id": "7cb0a0b2-741b-4352-b5f3-9f48e63dd3b8",
   "metadata": {},
   "source": [
    "## Creative Commons License Information\n",
    "<a rel=\"license\" href=\"https://creativecommons.org/licenses/by-nc-sa/4.0/\"><img alt=\"Creative Commons License\" style=\"border-width:0\" src=\"https://i.creativecommons.org/l/by-nc-sa/4.0/80x15.png\" /></a><br /><span xmlns:dct=\"http://purl.org/dc/terms/\" property=\"dct:title\">Elementary Differential Equations</span> by <a xmlns:cc=\"http://creativecommons.org/ns#\" href=\"https://github.com/CU-Denver-MathStats-OER/ODEs\" property=\"cc:attributionName\" rel=\"cc:attributionURL\">Adam Spiegler, Jonathon Hirschi, and Dmitry Ostrovskiy</a> is licensed under a <a rel=\"license\" href=\"http://creativecommons.org/licenses/by-nc-sa/4.0/\">Creative Commons Attribution-NonCommercial-ShareAlike 4.0 International License</a>.<br />Based on a work at <a xmlns:dct=\"http://purl.org/dc/terms/\" href=\"https://github.com/CU-Denver-MathStats-OER/ODEs\" rel=\"dct:source\">https://github.com/CU-Denver-MathStats-OER/ODEs</a> and original content created by Rasmussen, C., Keene, K. A., Dunmyre, J., & Fortune, N. (2018). *Inquiry oriented differential equations: Course materials*. Available at <a href=\"https://iode.wordpress.ncsu.edu\">https://iode.wordpress.ncsu.edu</a>."
   ]
  }
 ],
 "metadata": {
  "kernelspec": {
   "display_name": "Python 3",
   "language": "python",
   "name": "python3"
  },
  "language_info": {
   "codemirror_mode": {
    "name": "ipython",
    "version": 3
   },
   "file_extension": ".py",
   "mimetype": "text/x-python",
   "name": "python",
   "nbconvert_exporter": "python",
   "pygments_lexer": "ipython3",
   "version": "3.8.8"
  }
 },
 "nbformat": 4,
 "nbformat_minor": 5
}
