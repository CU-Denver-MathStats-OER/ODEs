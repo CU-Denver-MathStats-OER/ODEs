{
 "cells": [
  {
   "cell_type": "markdown",
   "id": "91371047-8605-4599-8c65-3009cc2394f2",
   "metadata": {},
   "source": [
    "[![Open In Colab](https://colab.research.google.com/assets/colab-badge.svg)](https://githubtocolab.com/CU-Denver-MathStats-OER/ODEs/blob/main/Chp2/Mass-Spring-Tutorial.ipynb)"
   ]
  },
  {
   "cell_type": "markdown",
   "id": "ad602396-0cac-4f66-8d4b-8c4e6210a4f8",
   "metadata": {},
   "source": [
    "# Quick Reference for Mass Spring Animations: Chapter 2\n",
    "---\n",
    "This notebook demonstrates the use of the `mass_spring` Python module.\n",
    "\n",
    "- The actual Python code for each function can be found in the file named <font color='blue'>**mass_spring.py**</font> located in the directory <font color='blue'>**../utils**</font>.\n",
    "- **Good news!** <font color='blue'>The functions defined in **mass_spring.py** are coded and ready for use with no mofications needed to the source file!</font>\n",
    "  - You do not even have to view the source file to understand how to use and adjust the functions to fit your needs.\n",
    "- See the documentation below for a \"Quick Reference Guide\" to working with functions in the `mass_spring` module.\n",
    "\n"
   ]
  },
  {
   "cell_type": "markdown",
   "id": "58599e54-d607-4fdf-a655-ca78c1b5b4a3",
   "metadata": {
    "id": "POjCozN4EsOB"
   },
   "source": [
    "# <a name='MassTOC'>Table of Contents</a>\n",
    "\n",
    "---\n",
    "\n",
    "**[Section 1.](#MassSec1) Required Install for Interactive Plots**\n",
    "\n",
    "**[Section 2.](#Sec2) Loading `mass_spring` from GitHub.**\n",
    "\n",
    "**[Section 3.](#MassSec3) Running a Mass Spring Experiment with `damped_harmonic_oscillator`**\n",
    "\n",
    "**[Section 4.](#Sec4) Comparing two Different Mass-Spring Systems with `damped_harmonic_oscillator_comp`.**\n"
   ]
  },
  {
   "cell_type": "markdown",
   "id": "670162aa-2374-46b5-aea8-713b25f04cb1",
   "metadata": {},
   "source": [
    "# <a name='MassSec1'>Section 1: Required Install for Interactive Plots</a>\n",
    "---\n",
    "\n",
    "Each time you want to run one of the mass-spring system animations, you will need to install a newer version of `matplotlib`. Each time you open/create a new Jupyter notebook where you want to run these animations you will need to:\n",
    "\n",
    "- Run the command `!pip install matplotlib==3.5.2` in a code cell.\n",
    "- You only need to do this one time in an active session.\n",
    "- If you terminate your session or close the file, you will need to rerun the install command each time you establish a new session."
   ]
  },
  {
   "cell_type": "code",
   "execution_count": null,
   "id": "04aec093-ea3a-446d-bebe-9ed9d8aa6240",
   "metadata": {},
   "outputs": [],
   "source": [
    "# If not already installed, then will install and ask to restart runtime\n",
    "!pip install matplotlib==3.5.2"
   ]
  },
  {
   "cell_type": "markdown",
   "id": "912e1384-d9b3-4225-9812-0e23f23ddd77",
   "metadata": {
    "id": "pQNr8zojIcF3"
   },
   "source": [
    "# <a name='MassSec2'>Section 2: Loading `mass_spring` from GitHub</a>\n",
    "---\n",
    "\n",
    "- Run the code cell below to load the most up to date modules stored in GitHub.\n",
    "- You will only need to run this code cell one time during an active session."
   ]
  },
  {
   "cell_type": "code",
   "execution_count": null,
   "id": "79b1b6db-24b5-4272-aa84-3563a1f128d9",
   "metadata": {},
   "outputs": [],
   "source": [
    "!pip install git+https://github.com/CU-Denver-MathStats-OER/ODEs\n",
    "from IPython.display import clear_output\n",
    "clear_output()"
   ]
  },
  {
   "cell_type": "markdown",
   "id": "51b58e00-b9f6-494b-9378-48c608802ba8",
   "metadata": {
    "id": "82afbadd-2bcc-4a11-8204-ba78978187b0"
   },
   "source": [
    "# <a name='MassSec3'> Section 3: Running a Mass Spring Experiment with `damped_harmonic_oscillator`</a>\n",
    "---\n",
    "\n",
    "A function named `damped_harmonic_oscillator()` runs an animation of a damped, driven harmonic oscillator:\n",
    "\n",
    "- Damped means friction is present (though you can set it to 0).\n",
    "- Driven means there is an external forcing function acting on the mass spring system."
   ]
  },
  {
   "cell_type": "markdown",
   "id": "d0850879-40f4-4fe6-aee7-b3438409d9de",
   "metadata": {
    "id": "82afbadd-2bcc-4a11-8204-ba78978187b0"
   },
   "source": [
    "## <a name='MassDefault'>Running the Animation with Default Settings</a>\n",
    "---\n",
    "    \n",
    "We can run a mass-spring animation with the default settings as follows:\n",
    "\n",
    "1. Import the `damped_harmonic_oscillator()` function from the `mass_spring` module.\n",
    "    - You will need run import the function only one time in each active session.\n",
    "<br><br>\n",
    "2. Run the default animation with `damped_harmonic_oscillator()`.\n",
    "3. Wait a few seconds for the animation to load.\n",
    "4. Press the play button to play the animation."
   ]
  },
  {
   "cell_type": "code",
   "execution_count": null,
   "id": "4957e1d1-918b-4337-8a19-3eae6c5dbb7e",
   "metadata": {},
   "outputs": [],
   "source": [
    "# Step 1 - Only need to do this once per active session\n",
    "from utils.mass_spring import damped_harmonic_oscillator"
   ]
  },
  {
   "cell_type": "code",
   "execution_count": null,
   "id": "7fe15683-1806-46e2-9c04-c02cf9253b41",
   "metadata": {},
   "outputs": [],
   "source": [
    "damped_harmonic_oscillator()"
   ]
  },
  {
   "cell_type": "markdown",
   "id": "8c3571a6-77a5-4fa9-8b01-b203d66c32b7",
   "metadata": {
    "id": "82afbadd-2bcc-4a11-8204-ba78978187b0"
   },
   "source": [
    "## <a name='MassChangeDefault'> Customizing the Default Settings</a>\n",
    "---    \n",
    "    \n",
    "### <a name='MassSettings'> Customizing Mass-Spring Parameters</a>    \n",
    "---\n",
    "\n",
    "The variables in `damped_harmonic_oscillator()` that determine the mass-spring set up are:\n",
    "\n",
    "- The **mass coefficient** is `m`. The default value is `m=0.2`. \n",
    "- The **friction coefficient** is `b`. The default value is `b=0.1`. \n",
    "- The **stiffness coefficient** is `k`. The default value is `k=1`.\n",
    "- The **initial position and velocity** of the mass is a vector `x0`. The default value is `x0=[-2, 0]`.\n",
    "    - The mass is initially displaced two units the the left of equilibrium.\n",
    "    - The mass is let go with no initial velocity."
   ]
  },
  {
   "cell_type": "markdown",
   "id": "b0654384-b07d-45ef-8e9f-993479d39d9f",
   "metadata": {
    "id": "82afbadd-2bcc-4a11-8204-ba78978187b0"
   },
   "source": [
    "### <a name='MassDriveSettings'> Customizing the Driving Function</a>\n",
    "---\n",
    "\n",
    "The variables in `damped_harmonic_oscillator()` that determine the driving (or forcing) function are:\n",
    "\n",
    "- The **amplitude** is `A`. The default value is `A=0` which means no forcing.\n",
    "- The **frequency** is `omega`. The default value is `omega=1`.\n",
    "\n",
    "Since the default setting is `A=0`, the default animation is **undriven** by default, meaning there is no external forcing function acting on the system."
   ]
  },
  {
   "cell_type": "markdown",
   "id": "ac7e7e66-af0a-4cc9-a08d-148ee41aeffd",
   "metadata": {
    "id": "82afbadd-2bcc-4a11-8204-ba78978187b0"
   },
   "source": [
    "### <a name='MassAnimationSettings'> Customizing the Animation Settings</a>\n",
    "---\n",
    "\n",
    "The variables in `damped_harmonic_oscillator()` that determine animation length and speed:\n",
    "\n",
    "- The option `fps` is how many **frames are played per second**.\n",
    "    - The bigger the value, the faster the animation will go.\n",
    "    - The default is `fps=3`.\n",
    "- The option `tf` gives the **final time** when the animation stops. The default is `tf=30`."
   ]
  },
  {
   "cell_type": "markdown",
   "id": "1813f74d-40d4-404e-a15d-9f8f29b4c6a6",
   "metadata": {
    "id": "NUE698UuZFTb"
   },
   "source": [
    "## Each time you want to run a new animation\n",
    "---\n",
    "\n",
    "Run the command: \n",
    "\n",
    "`damped_harmonic_oscillator(m=new.m, b=new.b, k=new.k, A=new.A, omega=new.w, x0=[new.s0, new.v0], fps=new.fps, tf=new.tf)`\n",
    "\n",
    "Below we run a customized mass-spring system.\n"
   ]
  },
  {
   "cell_type": "code",
   "execution_count": null,
   "id": "eced6bd6-497d-44d4-aec8-038facdfdf88",
   "metadata": {},
   "outputs": [],
   "source": [
    "damped_harmonic_oscillator(m=0.1,  # mass\n",
    "                           b=1,  # friction\n",
    "                           k=1,  # stiffness\n",
    "                           A=2,  # amplitude of forcing\n",
    "                           omega=2,  # frequency of forcing\n",
    "                           x0=[0.5, -1],  # initial pos, initial velocity\n",
    "                           fps=5,  # frames played per second\n",
    "                           tf=40)  # total time length"
   ]
  },
  {
   "cell_type": "markdown",
   "id": "b23ee790-1eab-4641-89cc-aff68ca15844",
   "metadata": {},
   "source": [
    "# <a name=\"MassSec4\">Section 4: Comparing two Different Mass-Spring Systems with `damped_harmonic_oscillator_comp`</a>\n",
    "---\n",
    "\n",
    "If we want to compare two mass-spring systems running under different conditions, we can use teh damped harmonic oscillator comparison funciton which is named `damped_harmonic_oscillator_comp()`.\n",
    "\n"
   ]
  },
  {
   "cell_type": "markdown",
   "id": "108a8bbe-b26b-466d-8a58-105baeb8c042",
   "metadata": {
    "id": "82afbadd-2bcc-4a11-8204-ba78978187b0"
   },
   "source": [
    "## <a name='MassCompDefault'>Running the Comparison Animation with Default Settings</a>\n",
    "---\n",
    "    \n",
    "We can run a simultaneous comparison of two mass-spring animations with the default settings as follows:\n",
    "\n",
    "1. Import the `damped_harmonic_oscillator_comp()` function from the `mass_spring` module.\n",
    "    - You will need run import the function only one time in each active session.\n",
    "<br><br>\n",
    "2. Run the default animation with `damped_harmonic_oscillator_comp()`.\n",
    "3. Wait a few seconds for the animation to load.\n",
    "4. Press the play button to play the animation."
   ]
  },
  {
   "cell_type": "code",
   "execution_count": null,
   "id": "5c6fab03-ffda-40b9-89e0-29193b637404",
   "metadata": {},
   "outputs": [],
   "source": [
    "# Step 1 - Only need to do this once per active session\n",
    "from utils.mass_spring import damped_harmonic_oscillator_comp"
   ]
  },
  {
   "cell_type": "code",
   "execution_count": null,
   "id": "76163dc7-06f9-4ef1-9c42-f17fc82fb91c",
   "metadata": {},
   "outputs": [],
   "source": [
    "damped_harmonic_oscillator_comp()"
   ]
  },
  {
   "cell_type": "markdown",
   "id": "8df8c745-285a-462e-a041-4e2d82d5c0ab",
   "metadata": {
    "id": "82afbadd-2bcc-4a11-8204-ba78978187b0"
   },
   "source": [
    "## <a name='MassCompChangeDefault'> Customizing the Default Settings</a>\n",
    "---    \n",
    "    \n",
    "### <a name='MassCompSettings'> Customizing Mass-Spring Parameters</a>    \n",
    "---\n",
    "\n",
    "The variables in `damped_harmonic_oscillator()` that determine the mass-spring set up are:\n",
    "\n",
    "- The **mass coefficients** are entered in vector `m=[m1, m2]`. The default value is `m=[0.2, 0.4]`. \n",
    "- The **friction coefficients** are entered in vector `m=[m1, m2]`. The default value is `m=[0.2, 0.4]`. \n",
    "- The **stiffness coefficient** are entered in vector `m=[m1, m2]`. The default value is `m=[0.2, 0.4]`. \n",
    "- The **initial positions and velocities** of both masses are entered in matrix `x0=[[pos.1, vel.1], [pos.2, vel.2]]`.\n",
    "    - The first row of the matrix gives the initial position and velocity of the first mass-spring system.\n",
    "    - The second row of the matrix gives the initial position and velocity of the second mass-spring system.\n",
    "    - The default values are `x0=[[-2, 0],[-2,0]]`.\n"
   ]
  },
  {
   "cell_type": "markdown",
   "id": "b295490c-a75c-43e2-9474-78039576d213",
   "metadata": {
    "id": "82afbadd-2bcc-4a11-8204-ba78978187b0"
   },
   "source": [
    "### <a name='MassCompDriveSettings'> Customizing the Driving Functions</a>\n",
    "---\n",
    "\n",
    "The variables in `damped_harmonic_oscillator_comp()` that determine the driving (or forcing) functions for each system are:\n",
    "\n",
    "- The **amplitude** is a vector `A=[amp1, amp2]`. The default value is `A=[0, 0]` which means no forcing in either system.\n",
    "- The **frequency** is a vector `omega=[omega1, omega2]`. The default value is `omega=[1,1]`.\n",
    "\n",
    "Since the default setting is `A=[0,0]`, the default animations are **undriven** by default, meaning there is no external forcing function acting on either system."
   ]
  },
  {
   "cell_type": "markdown",
   "id": "a2652b6d-aaf5-4a0c-bb99-70815c746539",
   "metadata": {
    "id": "82afbadd-2bcc-4a11-8204-ba78978187b0"
   },
   "source": [
    "### <a name='MassCompAnimationSettings'> Customizing the Animation Settings</a>\n",
    "---\n",
    "\n",
    "The variables in `damped_harmonic_oscillator()` that determine animation length and speed:\n",
    "\n",
    "- The option `fps` is how many **frames are played per second**.\n",
    "    - The bigger the value, the faster the animation will go.\n",
    "    - The default is `fps=3`.\n",
    "- The option `tf` gives the **final time** when the animation stops. The default is `tf=30`."
   ]
  },
  {
   "cell_type": "markdown",
   "id": "dd9274b8-cff2-4473-8515-4dcc04efee6c",
   "metadata": {
    "id": "NUE698UuZFTb"
   },
   "source": [
    "## Each time you want to run a new animation\n",
    "---\n",
    "\n",
    "Run the command: \n",
    "\n",
    "`damped_harmonic_oscillator_comp(m=[m1, m2], b=[b1, b2], k=[k1, k2], A=[A1, A2], omega=[w1, w2], x0=[[pos1, vel1], [pos2, vel2]], fps=new.fps, tf=new.tf)`\n",
    "\n",
    "Below we run a customized mass-spring system.\n"
   ]
  },
  {
   "cell_type": "code",
   "execution_count": null,
   "id": "f295ba70-05e5-4733-9210-7d7a751fa548",
   "metadata": {},
   "outputs": [],
   "source": [
    "damped_harmonic_oscillator_comp(m=[0.2, 0.3],  # masses\n",
    "                                b=[0.5, 0.1],  # frictions\n",
    "                                k=[1, 2],  # stiffnesses  \n",
    "                                A=[0, 0],  # Amplitudes of forcing\n",
    "                                omega=[1, 1],  # Frequencies of forcing\n",
    "                                x0=[[0.5, 1], [-0.5, -1]],  # initial conditions\n",
    "                                fps=4,  # frames per second\n",
    "                                tf=40)  # total time"
   ]
  }
 ],
 "metadata": {
  "colab": {
   "collapsed_sections": [],
   "name": "Mass-Spring-Tutorial.ipynb",
   "provenance": []
  },
  "kernelspec": {
   "display_name": "Python 3 (ipykernel)",
   "language": "python",
   "name": "python3"
  },
  "language_info": {
   "codemirror_mode": {
    "name": "ipython",
    "version": 3
   },
   "file_extension": ".py",
   "mimetype": "text/x-python",
   "name": "python",
   "nbconvert_exporter": "python",
   "pygments_lexer": "ipython3",
   "version": "3.9.13"
  }
 },
 "nbformat": 4,
 "nbformat_minor": 5
}
