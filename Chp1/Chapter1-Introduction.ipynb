{
 "cells": [
  {
   "cell_type": "markdown",
   "id": "173b5c5f-ce8e-4ec8-acc4-90252f876600",
   "metadata": {},
   "source": [
    "[![Open In Colab](https://colab.research.google.com/assets/colab-badge.svg)](https://githubtocolab.com/CU-Denver-MathStats-OER/ODEs/blob/main/Chp1/Chapter1-Introduction.ipynb)\n"
   ]
  },
  {
   "cell_type": "markdown",
   "id": "8c7f3d70-b548-46dc-a4c8-cf0e422635e4",
   "metadata": {
    "id": "8c7f3d70-b548-46dc-a4c8-cf0e422635e4"
   },
   "source": [
    "# Chapter 1: First Order Differential Equations\n",
    "---\n"
   ]
  },
  {
   "cell_type": "markdown",
   "id": "a2b7c833-a523-4d81-bf06-caad24f45ba2",
   "metadata": {
    "id": "a2b7c833-a523-4d81-bf06-caad24f45ba2"
   },
   "source": [
    "## Chapter contents \n",
    "---\n",
    "\n",
    "- [01: What Is a Differential Equation?](https://githubtocolab.com/CU-Denver-MathStats-OER/ODEs/blob/main/Chp1/01-What-is-a-Differential-Equation.ipynb)\n",
    "\n",
    "- [02: Slope Fields](https://githubtocolab.com/CU-Denver-MathStats-OER/ODEs/blob/main/Chp1/02-Slope-Fields.ipynb)\n",
    "\n",
    "- [03: Phase Line](https://githubtocolab.com/CU-Denver-MathStats-OER/ODEs/blob/main/Chp1/03-Phase-Line.ipynb)\n",
    "\n",
    "- [04: Euler's Method](https://githubtocolab.com/CU-Denver-MathStats-OER/ODEs/blob/main/Chp1/04-Eulers-Method.ipynb)\n",
    "\n",
    "- [05: Separable Differential Equations](https://githubtocolab.com/CU-Denver-MathStats-OER/ODEs/blob/main/Chp1/05-Separable-Differential-Equations.ipynb)\n",
    "\n",
    "- [06: Integrating Factors](https://githubtocolab.com/CU-Denver-MathStats-OER/ODEs/blob/main/Chp1/06-Integrating-Factors.ipynb)\n",
    "\n",
    "- [07: Application: Population and Compartmental Analysis](https://githubtocolab.com/CU-Denver-MathStats-OER/ODEs/blob/main/Chp1/07-Mixture-Applications.ipynb)\n",
    "\n",
    "- [08: Application: Heating and Cooling Models](https://githubtocolab.com/CU-Denver-MathStats-OER/ODEs/blob/main/Chp1/08-Application-Heating-and-Cooling.ipynb)\n",
    "\n",
    "- [Quick Reference Guide on How to Use Python Functions for Chapter 1](https://githubtocolab.com/CU-Denver-MathStats-OER/ODEs/blob/main/Chp1/ODE-Tools-Tutorial.ipynb)\n"
   ]
  },
  {
   "cell_type": "markdown",
   "id": "lyupmwZXjDDK",
   "metadata": {
    "id": "lyupmwZXjDDK"
   },
   "source": [
    "## Installing the `ipympl` Package For Interactive Plots\n",
    "---\n",
    "\n",
    "Run the following Python cell to install the `ipympl` package, needed for interactive visualizations. This is the general format for installing packages via the `pip` installer. \n",
    "\n",
    "- <mark>**You will only need to do run the code cell below one time, NOT every time you open Colab or Jupyter.**</mark>"
   ]
  },
  {
   "cell_type": "code",
   "execution_count": null,
   "id": "d84df496-123f-48e6-8d65-a266873cba31",
   "metadata": {
    "id": "d84df496-123f-48e6-8d65-a266873cba31"
   },
   "outputs": [],
   "source": [
    "# Install needed packages\n",
    "!pip install ipympl"
   ]
  },
  {
   "cell_type": "markdown",
   "id": "ce78ee18-0182-424b-812d-c653ae3b1cd7",
   "metadata": {
    "id": "ce78ee18-0182-424b-812d-c653ae3b1cd7"
   },
   "source": [
    "## Textbook\n",
    "---\n",
    "\n",
    "*Notes on Diffy Q's: Differential Equations for Engineers* by Jiri Lebl\n",
    "\n",
    "- You can download a free pdf version of the text by visiting [https://www.jirka.org/diffyqs/](https://www.jirka.org/diffyqs/).\n",
    "\n",
    "- *Notes on Diffy Q's* is an Open Education Resource that is freely available to all through Creative Commons.\n"
   ]
  },
  {
   "cell_type": "markdown",
   "id": "MvWSDJESvX-6",
   "metadata": {
    "id": "MvWSDJESvX-6"
   },
   "source": [
    "\n",
    "### Creative Commons Info for Text\n",
    "---\n",
    "\n",
    "This work is dual licensed under a [Creative Commons Attribution-Noncommercial-Share Alike 4.0 License](https://creativecommons.org/licenses/by-nc-sa/4.0/) and [Creative Commons Attribution-Share Alike 4.0 License]( Creative Commons Attribution-Share Alike 4.0 License). You can use, print, copy, and share this book as much as you want. You can base your own book/notes on these and reuse parts if you keep the license the same (that is, as long as you use at least one of the two licenses).\n"
   ]
  },
  {
   "cell_type": "markdown",
   "id": "0146f92c-ed57-4184-bb82-32a8d6e350ca",
   "metadata": {
    "id": "0146f92c-ed57-4184-bb82-32a8d6e350ca"
   },
   "source": [
    "# Creative Commons License Information For Notebooks\n",
    "---\n",
    "\n",
    "<a rel=\"license\" href=\"https://creativecommons.org/licenses/by-nc-sa/4.0/\"><img alt=\"Creative Commons License\" style=\"border-width:0\" src=\"https://i.creativecommons.org/l/by-nc-sa/4.0/80x15.png\" /></a><br /><span xmlns:dct=\"http://purl.org/dc/terms/\" property=\"dct:title\">*Exploring Differential Equations*</span> by <a xmlns:cc=\"http://creativecommons.org/ns#\" href=\"https://github.com/CU-Denver-MathStats-OER/ODEs\" property=\"cc:attributionName\" rel=\"cc:attributionURL\">Adam Spiegler</a> is licensed under a <a rel=\"license\" href=\"http://creativecommons.org/licenses/by-nc-sa/4.0/\">Creative Commons Attribution-NonCommercial-ShareAlike 4.0 International License</a>.<br />Based on a work at <a xmlns:dct=\"http://purl.org/dc/terms/\" href=\"https://github.com/CU-Denver-MathStats-OER/ODEs\" rel=\"dct:source\">https://github.com/CU-Denver-MathStats-OER/ODEs</a> and original content created by Rasmussen, C., Keene, K. A., Dunmyre, J., & Fortune, N. (2018). *Inquiry oriented differential equations: Course materials*. Available at <a href=\"https://iode.sdsu.edu\">https://iode.sdsu.edu</a>."
   ]
  },
  {
   "cell_type": "code",
   "execution_count": null,
   "id": "qfkBUg2WGbtm",
   "metadata": {
    "id": "qfkBUg2WGbtm"
   },
   "outputs": [],
   "source": []
  }
 ],
 "metadata": {
  "colab": {
   "collapsed_sections": [],
   "name": "00-Introduction.ipynb",
   "provenance": []
  },
  "kernelspec": {
   "display_name": "Python 3 (ipykernel)",
   "language": "python",
   "name": "python3"
  },
  "language_info": {
   "codemirror_mode": {
    "name": "ipython",
    "version": 3
   },
   "file_extension": ".py",
   "mimetype": "text/x-python",
   "name": "python",
   "nbconvert_exporter": "python",
   "pygments_lexer": "ipython3",
   "version": "3.9.13"
  }
 },
 "nbformat": 4,
 "nbformat_minor": 5
}
