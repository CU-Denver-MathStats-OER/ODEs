{
 "cells": [
  {
   "cell_type": "markdown",
   "id": "82afbadd-2bcc-4a11-8204-ba78978187b0",
   "metadata": {},
   "source": [
    "# Slope Field Plot Works"
   ]
  },
  {
   "cell_type": "code",
   "execution_count": null,
   "id": "ef5379bd-fe08-4579-a4a7-97d4f4bf4f78",
   "metadata": {},
   "outputs": [],
   "source": [
    "import numpy as np\n",
    "\n",
    "# Setup the grid\n",
    "t = np.linspace(0,10,11)  # np.linspace(initial, end, number_values)\n",
    "x = np.linspace(40,60,10)  # np.linspace(initial, end, number_values)\n",
    "T, X = np.meshgrid(t, x)  # create rectangular grid with points\n",
    "\n",
    "# Setup the differential equation\n",
    "def diffeq(x, t):\n",
    "    return 9.8 - (x / 5) "
   ]
  },
  {
   "cell_type": "code",
   "execution_count": null,
   "id": "72aee871-014c-47d4-906f-23a5f491df69",
   "metadata": {},
   "outputs": [],
   "source": [
    "from ode_plot_tools import slope_field\n",
    "\n",
    "slope_field(t, x, diffeq)"
   ]
  },
  {
   "cell_type": "markdown",
   "id": "38be8afa-8a3e-4a53-a49b-9a55918f80bd",
   "metadata": {},
   "source": [
    "# Not Working: Adding a solution\n",
    "\n",
    "Not sure what a student would enter for sol since they don't know how to solve a differential equation yet?"
   ]
  },
  {
   "cell_type": "code",
   "execution_count": null,
   "id": "189e9349-983b-4db2-94ef-063a033964d4",
   "metadata": {},
   "outputs": [],
   "source": [
    "# from ode_plot_tools import plot_sol\n",
    "\n",
    "# x0 = 42\n",
    "\n",
    "# plot_sol(t, x, diffeq, x0)"
   ]
  },
  {
   "cell_type": "markdown",
   "id": "53460d5b-ea7a-4c3f-a7d2-874a6fec7d17",
   "metadata": {},
   "source": [
    "## Tried to find the solution\n",
    "\n",
    "So I used odeint to define the solution in case that works. It didn't\n",
    "\n",
    "<mark> What would a student enter for the sol argument?</mark>"
   ]
  },
  {
   "cell_type": "markdown",
   "id": "1ec2053d-0fdf-4aeb-8387-f6404eaad83e",
   "metadata": {},
   "source": [
    "## JH Reply\n",
    "\n",
    "Yes I agree if students haven't been exposed to solutions yet it should all be behind the scenes. Here is a reworking that puts `odeint` within the function. "
   ]
  },
  {
   "cell_type": "code",
   "execution_count": null,
   "id": "1cd5eda0-a0d6-4bff-a612-7a9cca22b2c4",
   "metadata": {},
   "outputs": [],
   "source": [
    "import matplotlib.pyplot as plt\n",
    "from scipy.integrate import odeint\n",
    "\n",
    "# Plot Slope field and solution given analytical solution\n",
    "def plot_sol(t, x, diffeq, x0, npts=100, clear=False):\n",
    "    fig, ax = plt.subplots(1,1)\n",
    "    if clear:\n",
    "        plt.clf()\n",
    "    slope_field(t, x, diffeq, width=.1, ax = ax)\n",
    "    \n",
    "    # Set up phase line\n",
    "    phase_line = np.zeros(len(t))\n",
    "    # Initialize\n",
    "    phase_line[0]=x0\n",
    "\n",
    "    tt = np.linspace(t.min(),t.max(),100)\n",
    "    sol = odeint(diffeq, x0, ts)\n",
    "    ax.plot(tt, sol, label='Initial Conditions: $x_0=$'+str(x0))\n",
    "    ax.legend(loc=1)\n",
    "    \n",
    "    plt.show()"
   ]
  },
  {
   "cell_type": "code",
   "execution_count": null,
   "id": "55d4005b-7d6d-4e8d-bb47-3691d17847c8",
   "metadata": {},
   "outputs": [],
   "source": [
    "\n",
    "# Setup the grid\n",
    "x0 = 42\n",
    "ts = np.linspace(int(t[0]), int(t[-1]), 100)\n",
    "# sol = odeint(diffeq, x0, ts)  # Solves first order ode with x(0) = x0\n",
    "# sol = lambda diffeq, xo, ts: odeint(diffeq, x0, ts)\n",
    "\n",
    "plot_sol(t, x, diffeq, x0)"
   ]
  },
  {
   "cell_type": "markdown",
   "id": "3df62e2a-b765-4be9-8a66-62a64a7e13f7",
   "metadata": {},
   "source": [
    "# What is the difference between `plot_sol` and `plot_dt`\n",
    "\n",
    "- We use `t` and `x` to denote independent and dependent variables, respectively\n",
    "    - Probably shouldn't use `xcoord` and `ycoord` in the code/\n",
    "    - Maybe we'd want to us `t0` an `x0` instead so its clear this is an initial condition (t,x)?\n",
    "\n",
    "- <mark>What would a student enter for the value for `dt`?</mark>\n",
    "- <mark>The code works (no error), but there is no output?</mark>\n"
   ]
  },
  {
   "cell_type": "markdown",
   "id": "90b2db68-d657-422e-8755-c73abfdd8d20",
   "metadata": {},
   "source": [
    "### JH Reply\n",
    "\n",
    "* `plot_dt` diplays a vector like in the mathworks widget you shared to be used in a discrete scheme. Open to ideas on clearer names\n",
    "* `plot_sol` is a whole line of a full solution\n",
    "* The function works when used in conjuction with `interact_manual`\n",
    "* I changed it to `t0` and `x0`\n",
    "* `dt` is supposed to be the step size of the discrete scheme\n",
    "* I changed a default option to `clear=False` so you can call this one-off now"
   ]
  },
  {
   "cell_type": "code",
   "execution_count": null,
   "id": "dc074a6e-f9df-4123-ae77-b6cc153856b9",
   "metadata": {},
   "outputs": [],
   "source": [
    "from ode_plot_tools import plot_dt\n",
    "\n",
    "t0 = 0\n",
    "x0 = 42\n",
    "dt = 2\n",
    "# Setup the differential equation\n",
    "def diffeq(x, t):\n",
    "    return 9.8 - (x / 5) \n",
    "\n",
    "plot_dt(t, x, diffeq, t0, x0, dt)"
   ]
  },
  {
   "cell_type": "markdown",
   "id": "340e4b4f-b859-4151-9541-8c27eba9617b",
   "metadata": {},
   "source": [
    "# Eulers Method Calculation\n",
    "\n",
    "Success!"
   ]
  },
  {
   "cell_type": "code",
   "execution_count": null,
   "id": "75fc4695-4894-4f4c-91b5-0ffe8a3a9021",
   "metadata": {},
   "outputs": [],
   "source": [
    "from ode_plot_tools import forward_euler\n",
    "\n",
    "# define f(t,y)=dy/dt=y+t\n",
    "f = lambda t, y: y + t \n",
    "\n",
    "# this information was given\n",
    "start_t = 0  # start time\n",
    "end_t = 1.5  # end time\n",
    "y_0 = 4 # value of y when t=start_t\n",
    "\n",
    "# We can choose this\n",
    "n = 3 # number of steps, add 1 since start at t=0\n",
    "Delta_t = (1.5-0)/n  # Step size\n",
    "\n",
    "forward_euler(f, Delta_t, n, start_t, y_0)"
   ]
  },
  {
   "cell_type": "markdown",
   "id": "b171da2a-5eb8-4dde-8828-68c56e3b45a5",
   "metadata": {},
   "source": [
    "# Visualling Euler's Method in Slope Field\n",
    "\n",
    "<mark>Not working since I do not know what/how I enter the initial value, what is `t_f`, and what is `sol`?</mark>\n",
    "\n",
    "## JH Reply\n",
    "\n",
    "* `t_f` is final time. I see it's not necessary and I will address\n",
    "* `sol` is again an analytical solution. I'll work on changing this"
   ]
  },
  {
   "cell_type": "code",
   "execution_count": null,
   "id": "88eac568-c9f3-4424-9da1-3c16fdfd69b9",
   "metadata": {},
   "outputs": [],
   "source": [
    "from ode_plot_tools import plot_euler\n",
    "\n",
    "initial = 0\n",
    "t_f = ??\n",
    "sol = ??\n",
    "dt = ??\n",
    "\n",
    "plot_euler(t, x, diffeq, initial, t_f, sol, dt, ax, clear=False):"
   ]
  },
  {
   "cell_type": "code",
   "execution_count": null,
   "id": "3c05ad47-d53e-439d-a977-b892d55cb8f2",
   "metadata": {},
   "outputs": [],
   "source": []
  }
 ],
 "metadata": {
  "kernelspec": {
   "display_name": "Python 3 (ipykernel)",
   "language": "python",
   "name": "python3"
  },
  "language_info": {
   "codemirror_mode": {
    "name": "ipython",
    "version": 3
   },
   "file_extension": ".py",
   "mimetype": "text/x-python",
   "name": "python",
   "nbconvert_exporter": "python",
   "pygments_lexer": "ipython3",
   "version": "3.9.12"
  }
 },
 "nbformat": 4,
 "nbformat_minor": 5
}
