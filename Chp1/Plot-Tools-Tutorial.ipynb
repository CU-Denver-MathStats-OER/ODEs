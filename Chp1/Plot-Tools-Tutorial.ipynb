{
 "cells": [
  {
   "cell_type": "markdown",
   "id": "0214686a-d711-4434-bc8e-194568e9e475",
   "metadata": {},
   "source": [
    "# Plot Tools Tutorial\n",
    "\n",
    "This notebook demonstrates the use of the `ode_plot_tools` python module. The functions are used in chapter notebooks with interactive widgets, but this notebook shows the core functionality."
   ]
  },
  {
   "cell_type": "markdown",
   "id": "82afbadd-2bcc-4a11-8204-ba78978187b0",
   "metadata": {},
   "source": [
    "## Slope Field Plot\n",
    "\n",
    "*Brief Explanation*"
   ]
  },
  {
   "cell_type": "code",
   "execution_count": null,
   "id": "ef5379bd-fe08-4579-a4a7-97d4f4bf4f78",
   "metadata": {},
   "outputs": [],
   "source": [
    "import numpy as np\n",
    "from ode_plot_tools import slope_field\n",
    "\n",
    "# Setup the grid\n",
    "t = np.linspace(0,10,11)  # np.linspace(initial, end, number_values)\n",
    "x = np.linspace(40,60,10)  # np.linspace(initial, end, number_values)\n",
    "\n",
    "# Setup the differential equation\n",
    "def diffeq(x, t):\n",
    "    return 9.8 - (x / 5) "
   ]
  },
  {
   "cell_type": "code",
   "execution_count": null,
   "id": "72aee871-014c-47d4-906f-23a5f491df69",
   "metadata": {},
   "outputs": [],
   "source": [
    "slope_field(t, x, diffeq)"
   ]
  },
  {
   "cell_type": "markdown",
   "id": "1ec2053d-0fdf-4aeb-8387-f6404eaad83e",
   "metadata": {},
   "source": [
    "## Plotting a Solution\n",
    "\n",
    "This function plots a solution on a slope field plot given a user-provided initial condition."
   ]
  },
  {
   "cell_type": "code",
   "execution_count": null,
   "id": "1cd5eda0-a0d6-4bff-a612-7a9cca22b2c4",
   "metadata": {},
   "outputs": [],
   "source": [
    "import numpy as np\n",
    "import matplotlib.pyplot as plt\n",
    "from scipy.integrate import odeint\n",
    "from ode_plot_tools import plot_sol"
   ]
  },
  {
   "cell_type": "code",
   "execution_count": null,
   "id": "55d4005b-7d6d-4e8d-bb47-3691d17847c8",
   "metadata": {},
   "outputs": [],
   "source": [
    "# Set up axis\n",
    "fig, ax = plt.subplots(1,1, num=5)\n",
    "\n",
    "# enter initial condition\n",
    "x0 = 42\n",
    "\n",
    "plot_sol(t, x, diffeq, x0, ax)"
   ]
  },
  {
   "cell_type": "markdown",
   "id": "90b2db68-d657-422e-8755-c73abfdd8d20",
   "metadata": {},
   "source": [
    "## Plotting Vectors\n",
    "\n",
    "Plots a slope field and a vector given initial conditions. This motivates the forward Euler's method."
   ]
  },
  {
   "cell_type": "code",
   "execution_count": null,
   "id": "dc074a6e-f9df-4123-ae77-b6cc153856b9",
   "metadata": {},
   "outputs": [],
   "source": [
    "from ode_plot_tools import plot_dt\n",
    "# Setup the grid\n",
    "t = np.linspace(0,10,11)  # np.linspace(initial, end, number_values)\n",
    "x = np.linspace(40,60,10)  # np.linspace(initial, end, number_values)\n",
    "\n",
    "# Setup the differential equation\n",
    "def diffeq(x, t):\n",
    "    return 9.8 - (x / 5) \n",
    "\n",
    "t0 = 0\n",
    "x0 = 42\n",
    "dt = 2\n",
    "nsteps = 4\n",
    "# Setup the differential equation\n",
    "def diffeq(x, t):\n",
    "    return 9.8 - (x / 5) \n",
    "\n",
    "plot_dt(t, x, diffeq, t0, x0, dt, nsteps)"
   ]
  },
  {
   "cell_type": "markdown",
   "id": "340e4b4f-b859-4151-9541-8c27eba9617b",
   "metadata": {},
   "source": [
    "## Forward Euler's Method\n",
    "\n",
    "This function estimates the solution to a differential equation using the forward Euler Method. It is called internally by other functions."
   ]
  },
  {
   "cell_type": "code",
   "execution_count": null,
   "id": "75fc4695-4894-4f4c-91b5-0ffe8a3a9021",
   "metadata": {},
   "outputs": [],
   "source": [
    "from ode_plot_tools import forward_euler\n",
    "\n",
    "# define f(t,y)=dy/dt=y+t\n",
    "f = lambda t, y: y + t \n",
    "\n",
    "# this information was given\n",
    "start_t = 0  # start time\n",
    "end_t = 1.5  # end time\n",
    "y_0 = 4 # value of y when t=start_t\n",
    "\n",
    "# We can choose this\n",
    "n = 3 # number of steps, add 1 since start at t=0\n",
    "Delta_t = (1.5-0)/n  # Step size\n",
    "\n",
    "forward_euler(f, Delta_t, n, start_t, y_0)"
   ]
  },
  {
   "cell_type": "markdown",
   "id": "b171da2a-5eb8-4dde-8828-68c56e3b45a5",
   "metadata": {},
   "source": [
    "## Plotting Euler's Method\n",
    "\n",
    "*Brief Explanation*"
   ]
  },
  {
   "cell_type": "code",
   "execution_count": null,
   "id": "88eac568-c9f3-4424-9da1-3c16fdfd69b9",
   "metadata": {},
   "outputs": [],
   "source": [
    "from ode_plot_tools import plot_euler\n",
    "def diffeq(x, t):\n",
    "    return 9.8 - (x / 5) \n",
    "\n",
    "fig, ax = plt.subplots(1,1, num=5)\n",
    "x0 = 10\n",
    "dt = 2\n",
    "\n",
    "t = np.linspace(0,10, 11)\n",
    "x = np.linspace(0,50,10)  # np.linspace(initial, end, number_values)\n",
    "\n",
    "plot_euler(t, x, diffeq, x0, dt, ax, clear=False)"
   ]
  },
  {
   "cell_type": "code",
   "execution_count": null,
   "id": "0d66028a-9558-4326-aa19-19b53a27c8d3",
   "metadata": {},
   "outputs": [],
   "source": []
  }
 ],
 "metadata": {
  "kernelspec": {
   "display_name": "Python 3",
   "language": "python",
   "name": "python3"
  },
  "language_info": {
   "codemirror_mode": {
    "name": "ipython",
    "version": 3
   },
   "file_extension": ".py",
   "mimetype": "text/x-python",
   "name": "python",
   "nbconvert_exporter": "python",
   "pygments_lexer": "ipython3",
   "version": "3.8.8"
  }
 },
 "nbformat": 4,
 "nbformat_minor": 5
}
