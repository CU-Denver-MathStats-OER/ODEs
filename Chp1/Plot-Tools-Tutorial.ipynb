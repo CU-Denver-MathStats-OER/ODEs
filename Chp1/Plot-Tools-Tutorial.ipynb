{
 "cells": [
  {
   "cell_type": "markdown",
   "id": "0214686a-d711-4434-bc8e-194568e9e475",
   "metadata": {},
   "source": [
    "# Quick Reference for Chapter 1 Python Functions\n",
    "---\n",
    "\n",
    "This notebook demonstrates the use of the `ode_plot_tools` python module.\n",
    "\n",
    "- The actual Python code for each function can be found in the file named **ode_plot_tools.py**.\n",
    "- <font color = \"red\">You do NOT need to open, view, or edit the code in the file **ode_plot_tools.py** to use any of the functions.</font> \n",
    "\n"
   ]
  },
  {
   "cell_type": "markdown",
   "id": "82afbadd-2bcc-4a11-8204-ba78978187b0",
   "metadata": {},
   "source": [
    "## Plotting Slope Fields with `slope_field()`\n",
    "---\n",
    "\n",
    "Creates a plot of a slope field for a differential equation over a specified range of values for the indpendent  and dependent variables. \n",
    "\n",
    "- By default we use `t` for the independent variable.\n",
    "- By default we use `x` for the dependent variable.\n",
    "\n",
    "### Specifying the Inputs for `slope_field(t, x, diffeq)`\n",
    "---\n",
    "\n",
    "1. We import the `slope_field()` function.\n",
    "    - Like packages, you only need to import a function one time after opening a notebook.\n",
    "\n",
    "\n",
    "2. Input vectors of values for `t` and `x` (points where the vectors will be plotted) and define `diffeq`.\n",
    "\n",
    "3. We generate the slope field by running the function with the command `slope_field(t, x, diffeq)`."
   ]
  },
  {
   "cell_type": "code",
   "execution_count": null,
   "id": "ef5379bd-fe08-4579-a4a7-97d4f4bf4f78",
   "metadata": {},
   "outputs": [],
   "source": [
    "import numpy as np\n",
    "from ode_plot_tools import slope_field  # Import function\n",
    "\n",
    "# Setup the grid\n",
    "t = np.linspace(0,10,11)  # np.linspace(initial, end, number_values)\n",
    "x = np.linspace(40,60,10)  # np.linspace(initial, end, number_values)\n",
    "\n",
    "# Setup the differential equation\n",
    "def diffeq(t, x):\n",
    "    return 9.8 - (x / 5) "
   ]
  },
  {
   "cell_type": "code",
   "execution_count": null,
   "id": "72aee871-014c-47d4-906f-23a5f491df69",
   "metadata": {},
   "outputs": [],
   "source": [
    "slope_field(t, x, diffeq)"
   ]
  },
  {
   "cell_type": "markdown",
   "id": "1ec2053d-0fdf-4aeb-8387-f6404eaad83e",
   "metadata": {},
   "source": [
    "## Plotting a Solutions in a Slope Field with `plot_sol()`\n",
    "---\n",
    "\n",
    "We can import a function named `plot_sol()` to plot a slope field as well as the solution that passes thru a given initial condition.\n",
    "\n",
    "- By default we use `t` for the independent variable.\n",
    "- By default we use `x` for the dependent variable.\n",
    "\n",
    "### Specifying the Inputs for `plot_sol(t, x, diffeq, x0)`\n",
    "---\n",
    "\n",
    "1. We import the `plot_sol()` function.\n",
    "    - Like packages, you only need to import a function one time after opening a notebook.\n",
    "\n",
    "\n",
    "2. Input vectors of values for `t` and `x` (points where the vectors will be plotted) and define `diffeq`.\n",
    "\n",
    "\n",
    "3. Define an initial condition $(t_0, x_0)$.\n",
    "    - <font color = \"red\">The value for $t_0$ is by default the start value of `t` that has already been defined in step 2. </font>\n",
    "        - <font color = \"red\">We do NOT define a new variable for $t_0$ since this is already defined in step 2.</font>\n",
    "    - <font color = \"blue\">The initial value of the dependent variable $x_0$ is stored in the variable named `x0`.</font>\n",
    "\n",
    "\n",
    "4. We generate the slope field by running the function with the command `plot_sol(t, x, diffeq, x0)`."
   ]
  },
  {
   "cell_type": "code",
   "execution_count": null,
   "id": "a77f34e7-3b90-4132-a943-919dbee120c8",
   "metadata": {},
   "outputs": [],
   "source": [
    "from ode_plot_tools import plot_sol  # Import function\n",
    "\n",
    "# Setup the grid\n",
    "t = np.linspace(0,10,11)  # np.linspace(initial, end, number_values)\n",
    "x = np.linspace(40,60,10)  # np.linspace(initial, end, number_values)\n",
    "\n",
    "# Setup the differential equation\n",
    "def diffeq(t, x):\n",
    "    return 9.8 - (x / 5) \n",
    "\n",
    "# enter initial condition\n",
    "x0 = 42"
   ]
  },
  {
   "cell_type": "code",
   "execution_count": null,
   "id": "b7005c76-b458-4d2d-851d-280471554452",
   "metadata": {},
   "outputs": [],
   "source": [
    "plot_sol(t, x, diffeq, x0)"
   ]
  },
  {
   "cell_type": "markdown",
   "id": "340e4b4f-b859-4151-9541-8c27eba9617b",
   "metadata": {},
   "source": [
    "## Euler's Method with `euler_method()`\n",
    "---\n",
    "\n",
    "Given a first order differential equation and initial condition, `euler_method()` computes $n$ steps of Euler's method each with identical size $dt$. \n",
    "\n",
    "### Specifying the Inputs for `euler_method(diffeq, t0, x0, dt, n)`\n",
    "---\n",
    "\n",
    "1. We import the `euler_method()` function.\n",
    "    - Like packages, you only need to import a function one time after opening a notebook.\n",
    "\n",
    "\n",
    "2. Define `diffeq`.\n",
    "\n",
    "3. Define the initial value $(t_0, x_0) =$ (`t0`, `x0`).\n",
    "\n",
    "4. Define the step size `dt` and number of steps `n`.\n",
    "\n",
    "5. Calculate each step with the function `euler_method(diffeq, t0, x0, dt, n)`.\n"
   ]
  },
  {
   "cell_type": "code",
   "execution_count": null,
   "id": "75fc4695-4894-4f4c-91b5-0ffe8a3a9021",
   "metadata": {},
   "outputs": [],
   "source": [
    "from ode_plot_tools import euler_method\n",
    "\n",
    "# Define diffeq\n",
    "def diffeq(t, x):  # t is independent variable and x is dependent variable\n",
    "    return x + t  # Use t and x for ind and dep variables\n",
    "\n",
    "# Initial value\n",
    "t0 = 0 # initial value of input\n",
    "x0 = 4 # initial value output when t = t_0\n",
    "\n",
    "# Step size and number of steps\n",
    "dt = 0.5\n",
    "n = 3\n",
    "\n",
    "# Apply Euler's method\n",
    "euler_method(diffeq, t0, x0, dt, n)"
   ]
  },
  {
   "cell_type": "markdown",
   "id": "b171da2a-5eb8-4dde-8828-68c56e3b45a5",
   "metadata": {},
   "source": [
    "## Graphing Euler's Method Approximation with `plot_euler()`\n",
    "---\n",
    "\n",
    "Graphically compares numerical approximations from Euler's method with actual solutions.\n",
    "\n",
    "\n",
    "### Specifying the Inputs for `plot_euler(t, x, diffeq, t0, x0, dt, n)`\n",
    "---\n",
    "\n",
    "1. We import the `plot_euler()` function.\n",
    "    - Like packages, you only need to import a function one time after opening a notebook.\n",
    "\n",
    "\n",
    "2. Input vectors of values for `t` and `x` (points where the vectors will be plotted) and define `diffeq`.\n",
    "\n",
    "3. Define an initial condition $(t_0, x_0) = $(`t0`, `x0`), step size $\\Delta t=$ `dt`, and number of iterations $n=$ `n`.\n",
    "\n",
    "4. We generate the plot by running the function with the command `plot_euler(t, x, diffeq, t0, x0, dt, n)`."
   ]
  },
  {
   "cell_type": "code",
   "execution_count": null,
   "id": "cb8dbbc4-e315-4275-8fec-33032bfca8f2",
   "metadata": {},
   "outputs": [],
   "source": [
    "# Import plot_euler function from ode_plot_tools module.\n",
    "from ode_plot_tools import plot_euler\n",
    "\n",
    "# Set up gride for slope field\n",
    "t = np.linspace(0, 1.5, 7)  \n",
    "x = np.linspace(0, 20, 21)\n",
    "\n",
    "# Define differential equation\n",
    "def diffeq(t, x):\n",
    "    return x + t \n",
    "\n",
    "# Define initial value, step size, and number of steps\n",
    "t0 = 0  # initial input value\n",
    "x0 = 4  # initial output value\n",
    "dt = 0.5  # step size\n",
    "n = 3  # number of steps"
   ]
  },
  {
   "cell_type": "code",
   "execution_count": null,
   "id": "3aede766-1137-4608-9b30-858ce53ecd63",
   "metadata": {},
   "outputs": [],
   "source": [
    "plot_euler(t, x, diffeq, t0, x0, dt, n)"
   ]
  },
  {
   "cell_type": "markdown",
   "id": "f38698fd-6769-4996-b244-6535c8dd1bed",
   "metadata": {},
   "source": [
    "# <mark>REMOVE SINCE IT IS NOT BEING USED?</mark>"
   ]
  },
  {
   "cell_type": "markdown",
   "id": "a2045bbd-e40c-4beb-a342-14fa6e660054",
   "metadata": {},
   "source": [
    "## Plotting Vectors\n",
    "\n",
    "Plots a slope field and a vector given initial conditions. This motivates the forward Euler's method."
   ]
  },
  {
   "cell_type": "code",
   "execution_count": null,
   "id": "bff23e9c-a365-4058-9741-753d12decab7",
   "metadata": {},
   "outputs": [],
   "source": [
    "from ode_plot_tools import plot_dt\n",
    "\n",
    "# Setup the grid\n",
    "t = np.linspace(0,10,11)  # np.linspace(initial, end, number_values)\n",
    "x = np.linspace(40,60,10)  # np.linspace(initial, end, number_values)\n",
    "\n",
    "# Setup the differential equation\n",
    "def diffeq(t, x):\n",
    "    return 9.8 - (x / 5) \n",
    "\n",
    "t_0 = 0\n",
    "x_0 = 42\n",
    "dt = 2\n",
    "nsteps = 4\n",
    "\n",
    "plot_dt(t, x, diffeq, t_0, x_0, dt, nsteps)"
   ]
  },
  {
   "cell_type": "code",
   "execution_count": null,
   "id": "0d66028a-9558-4326-aa19-19b53a27c8d3",
   "metadata": {},
   "outputs": [],
   "source": []
  }
 ],
 "metadata": {
  "kernelspec": {
   "display_name": "Python 3",
   "language": "python",
   "name": "python3"
  },
  "language_info": {
   "codemirror_mode": {
    "name": "ipython",
    "version": 3
   },
   "file_extension": ".py",
   "mimetype": "text/x-python",
   "name": "python",
   "nbconvert_exporter": "python",
   "pygments_lexer": "ipython3",
   "version": "3.8.8"
  }
 },
 "nbformat": 4,
 "nbformat_minor": 5
}
