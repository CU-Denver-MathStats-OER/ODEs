{
 "cells": [
  {
   "cell_type": "markdown",
   "id": "69c1575f-b986-4ce9-ac40-f639f237f4c1",
   "metadata": {},
   "source": [
    "[![Open In Colab](https://colab.research.google.com/assets/colab-badge.svg)](https://githubtocolab.com/CU-Denver-MathStats-OER/ODEs/blob/main/Chp1/05-Separable-Diff-Eqs.ipynb)\n"
   ]
  },
  {
   "cell_type": "markdown",
   "id": "1845fe4b-c2ab-4f0b-89fc-4b374cc709d2",
   "metadata": {
    "id": "1845fe4b-c2ab-4f0b-89fc-4b374cc709d2"
   },
   "source": [
    "# Lab 1.5: Separable Differential Equations\n",
    "----\n",
    "<font color=\"dodgerblue\">Reading: *Notes on Diffy Q's* Section 1.3</font>\n",
    "\n",
    "<br>\n"
   ]
  },
  {
   "cell_type": "markdown",
   "id": "ZPzgkX3ivL54",
   "metadata": {
    "id": "ZPzgkX3ivL54"
   },
   "source": [
    "# General Solutions and Initial Value Problems\n",
    "---\n",
    "\n",
    "We can solve a differential equation of the form\n",
    "\n",
    "$$ \\frac{dy}{dt} = 6t^2 $$\n",
    "\n",
    "since the solution to the differential equation are all functions $y$ that have  $\\dfrac{dy}{dt} = 6t^2$. Thus, $y$ must be an antiderivative of $6t^2$,\n",
    "\n",
    "$$ y= \\int \\frac{dy}{dt} \\ dt  = \\int 6t^2 dt = 2t^3 + C.$$\n",
    "\n",
    "- We say $y=2t^3+C$ is the <font color=\"dodgerblue\">**general solution**</font> to the differential equation. The general solution gives all possible solutions to the original differential equation.\n",
    "- If we are given additional information such as an <font color=\"dodgerblue\">**initial condition**</font>  $y(t_1)=y_1$, then we get a unique solution.\n",
    "\n",
    "For example, if we are given that $\\dfrac{dy}{dt} = 6t^2$ and $y(2)=10$, first we find a general solution, and then we plug the initial condition into the  general solution and solve for the general constant $C$:\n",
    "\n",
    "$$ y(2)=2(2)^3+C=16+C=10.$$\n",
    "\n",
    "Thus, the solution will pass through the point $(2,10)$ only if $C=-6$. The solution to the <font color=\"dodgerblue\">**initial value problem (IVP)**</font> is\n",
    "$$ y=2t^3-6.$$"
   ]
  },
  {
   "cell_type": "markdown",
   "id": "5b9f752a-c5e8-442e-b967-645a353e32f8",
   "metadata": {
    "id": "5b9f752a-c5e8-442e-b967-645a353e32f8"
   },
   "source": [
    "## Plotting Solutions\n",
    "---\n",
    "\n",
    "- Run the code cell below to plot solutions.\n",
    "- There is nothing to edit in the code cell.\n",
    "- <mark>Hit play and you are ready to go!</mark>"
   ]
  },
  {
   "cell_type": "code",
   "execution_count": null,
   "id": "b7acfd3e-bacf-4576-8f9b-ea38c31e3aa0",
   "metadata": {
    "colab": {
     "base_uri": "https://localhost:8080/",
     "height": 295
    },
    "executionInfo": {
     "elapsed": 586,
     "status": "ok",
     "timestamp": 1660586330967,
     "user": {
      "displayName": "Adam Spiegler",
      "userId": "08916726237218427358"
     },
     "user_tz": 360
    },
    "id": "b7acfd3e-bacf-4576-8f9b-ea38c31e3aa0",
    "outputId": "11bb218d-bab3-4791-fe76-490d543c35d0"
   },
   "outputs": [],
   "source": [
    "import numpy as np\n",
    "import matplotlib.pyplot as plt\n",
    "\n",
    "# Using Numpy to create an array t\n",
    "# from t=-3 to t=3 with steps of 0.05\n",
    "t = np.arange(-3, 3, 0.05)\n",
    "z = np.ones(10)  \n",
    "\n",
    "# general solutions\n",
    "y = 2*t**3 - 6\n",
    "plt.plot(t, y, color='r', label='C=-6')  # IVP solution\n",
    "\n",
    "for i in range(0, 9):\n",
    "    z = 2*t**3 - 50 + 10 * i \n",
    "    plt.plot(t, z, color='b')\n",
    "pass\n",
    "\n",
    "# Setting range of y-axis\n",
    "plt.ylim(-60, 60)\n",
    "\n",
    "# Adding the initial condition y(2)=10\n",
    "plt.plot(2, 10, marker = \"o\", markersize = 8, color = 'k')\n",
    "\n",
    "# Naming the x-axis, y-axis and the whole graph\n",
    "plt.xlabel(\"t\")\n",
    "plt.ylabel(\"y\")\n",
    "plt.title(\"General Solutions\")\n",
    "plt.grid()\n",
    "\n",
    "# Adding legend, which helps us recognize the curve according to it's color\n",
    "plt.legend()\n",
    "  \n",
    "# To load the display window\n",
    "plt.show()"
   ]
  },
  {
   "cell_type": "markdown",
   "id": "4e12d2b2-58ee-4436-9445-6935cdb857b6",
   "metadata": {
    "id": "4e12d2b2-58ee-4436-9445-6935cdb857b6"
   },
   "source": [
    "# Differential Equations Independent of the Dependent Variable\n",
    "----\n",
    "\n",
    "Differential equations of the form  $\\dfrac{dy}{dt} = f(t)$ are a very special case since the derivative does not depend on the dependent variable. We have seen these differential equations are antiderivatives in disguise, and we can find a general solution by integrating both sides with respect to the independent variable ($t$ in this case):\n",
    "\n",
    "$$y = \\int f(t) \\, dt.$$"
   ]
  },
  {
   "cell_type": "markdown",
   "id": "86f8f784-7a2b-4111-85f4-729590cb1979",
   "metadata": {
    "id": "86f8f784-7a2b-4111-85f4-729590cb1979"
   },
   "source": [
    "## <a name='05quest1'>Question 1:</a>\n",
    "---\n",
    "\n",
    "Can we apply the same method to solve an <font color=\"dodgerblue\">**autonomous differential equation**</font> such as  $\\frac{dy}{dt} = 0.2y$? Explain what looks wrong with each of the possible solution strategies below.\n",
    "\n",
    "a. $\\displaystyle \\int \\frac{dy}{dt} \\ dt = \\int 0.2y \\ dt$\n",
    "\n",
    "b. $\\displaystyle \\int \\frac{dy}{dt} \\ dy = \\int 0.2y \\ dy$\n",
    "\n",
    "c. $\\displaystyle \\int \\frac{dy}{dt} \\ dt = \\int 0.2y \\ dy$\n",
    "\n",
    "### Solution to Question 1:\n",
    "---\n",
    "\n",
    "<br> <br> <br> <br> <br> <br>"
   ]
  },
  {
   "cell_type": "markdown",
   "id": "e33f0749-de11-443a-ad99-362870783aa2",
   "metadata": {
    "id": "e33f0749-de11-443a-ad99-362870783aa2"
   },
   "source": [
    "# Finding the Solutions to Autonomous Differential Equations\n",
    "---\n",
    "\n",
    "As we can see from the [question 1](#05quest1), solving an autonomous differential equation is not as direct as applying the same operation to both sides (integration with respect to $t$). However, we can apply the \"reverse the chain rule\" to solve an autonomous differential equation. Recall the **chain rule**:\n",
    "\n",
    "$$ \\frac{d}{dt} \\big[ f \\big( y(t) \\big) \\big] = f' \\big( y(t) \\big) \\cdot y'(t)$$"
   ]
  },
  {
   "cell_type": "markdown",
   "id": "8d663124-e233-45a8-8f7b-97706e62ade7",
   "metadata": {
    "id": "8d663124-e233-45a8-8f7b-97706e62ade7"
   },
   "source": [
    "## <a name='05quest2'>Question 2:</a>\n",
    "----\n",
    "\n",
    "Using the chain rule find a formula for $\\frac{d}{dt} \\left( \\ln{P} \\right)$, where $P$ is shorthand for $P(t)$. \n",
    "\n",
    "\n",
    "### Solution to Question 2:\n",
    "---\n",
    "\n",
    "<br> <br> <br> <br> <br> <br>"
   ]
  },
  {
   "cell_type": "markdown",
   "id": "8ed8c8cf-20f4-4913-aa07-3b633f73f1be",
   "metadata": {
    "id": "8ed8c8cf-20f4-4913-aa07-3b633f73f1be"
   },
   "source": [
    "# A Method for Reversing the Chain Rule\n",
    "----\n",
    "\n",
    "Now let's try to develop a technique for solving an autonomous differential equation by applying (or rather by undoing) the chain rule. Below is an outline of a method to find the analytic solutions to some special types of differential equations called <font color=\"dodgerblue\">**separable differential equations**</font>. \n",
    "\n"
   ]
  },
  {
   "cell_type": "markdown",
   "id": "cef26e5f-533a-4836-9970-bbd3dbdd2328",
   "metadata": {
    "id": "55dd77a9-2a79-4af2-946f-bca43328bc03"
   },
   "source": [
    "## <a name='05quest3'>Question 3:</a>\n",
    "----\n",
    "\n",
    "For a particular species of fish in a lake, the differential equation \n",
    "\n",
    "$$ \\frac{dP}{dt} = 0.2P$$\n",
    "\n",
    "models the rate of change of the fish population $P$ (measured in thousands of fish) $t$ years from now. For now assume that $P > 0$. This assumption corresponds to the population growth context, and it will make the algebra easier and hence the underlying idea clearer. \n",
    "\n",
    "Follow the steps below to find a general solution to the differential equation."
   ]
  },
  {
   "cell_type": "markdown",
   "id": "21708184-0185-4bd8-bddd-f39eeb2ec9d4",
   "metadata": {
    "id": "55dd77a9-2a79-4af2-946f-bca43328bc03"
   },
   "source": [
    "### <a name='05quest3a'>Question 3a:</a>\n",
    "---\n",
    "\n",
    "Divide both sides of $\\dfrac{dP}{dt}=0.2P$ by $P$.\n",
    "\n",
    "#### Solution to Question 3a:\n",
    "---\n",
    "\n",
    "<br> <br> <br> <br> <br>"
   ]
  },
  {
   "cell_type": "markdown",
   "id": "f7a87eac-9d26-4b74-b8ca-4b54d3e60391",
   "metadata": {
    "id": "55dd77a9-2a79-4af2-946f-bca43328bc03"
   },
   "source": [
    "### <a name='05quest3b'>Question 3b:</a>\n",
    "---\n",
    "\n",
    "Replace $\\dfrac{1}{P}\\dfrac{dP}{dt}$ with $\\left[ \\ln(P)\\right]'$.\n",
    "\n",
    "#### Solution to Question 3b:\n",
    "---\n",
    "\n",
    "<br> <br> <br> <br> <br>"
   ]
  },
  {
   "cell_type": "markdown",
   "id": "ae74e40d-d72f-43fa-82cc-96b3196a4bea",
   "metadata": {
    "id": "55dd77a9-2a79-4af2-946f-bca43328bc03"
   },
   "source": [
    "### <a name='05quest3c'>Question 3c:</a>\n",
    "---\n",
    "\n",
    "Write integrals with respect to $t$ on both sides.\n",
    "\n",
    "#### Solution to Question 3c:\n",
    "---\n",
    "\n",
    "<br> <br> <br> <br> <br>"
   ]
  },
  {
   "cell_type": "markdown",
   "id": "9a6e908f-f19b-4b04-9a0e-e4b4b991486c",
   "metadata": {
    "id": "55dd77a9-2a79-4af2-946f-bca43328bc03"
   },
   "source": [
    "### <a name='05quest3d'>Question 3d:</a>\n",
    "---\n",
    "\n",
    "Apply the Fundamental Theorem of Calculus to integrate both sides.\n",
    "\n",
    "#### Solution to Question 3d:\n",
    "---\n",
    "\n",
    "<br> <br> <br> <br> <br>"
   ]
  },
  {
   "cell_type": "markdown",
   "id": "4428d699-2ac2-48ab-aac5-2de5b7715bc2",
   "metadata": {
    "id": "55dd77a9-2a79-4af2-946f-bca43328bc03"
   },
   "source": [
    "### <a name='05quest3e'>Question 3e:</a>\n",
    "---\n",
    "\n",
    "Solve for $P$ (and remember that $P$ is actually a function, $P(t)$).\n",
    "\n",
    "#### Solution to Question 3e:\n",
    "---\n",
    "\n",
    "<br> <br> <br> <br> <br>"
   ]
  },
  {
   "cell_type": "markdown",
   "id": "95a7bf53-ccdf-4e2f-bc68-41b547419e51",
   "metadata": {
    "id": "55dd77a9-2a79-4af2-946f-bca43328bc03"
   },
   "source": [
    "### <a name='05quest3f'>Question 3f:</a>\n",
    "---\n",
    "\n",
    "Show that $P$ can be written as $P(t) = ke^{0.2t}$.\n",
    "\n",
    "#### Solution to Question 3f:\n",
    "---\n",
    "\n",
    "<br> <br> <br> <br> <br>"
   ]
  },
  {
   "cell_type": "markdown",
   "id": "788862f9-66b5-4d0f-9fa2-7f15930e2852",
   "metadata": {
    "id": "788862f9-66b5-4d0f-9fa2-7f15930e2852"
   },
   "source": [
    "# Generalizing the Reverse Chain Rule\n",
    "---\n",
    "\n",
    "The end result, $\\displaystyle P(t)=ke^{0.2t}$ is called the <font color=\"dodgerblue\">**general solution**</font> because it represents all possible functions that satisfy the differential equation. We can use the general solution to find any <font color=\"dodgerblue\">**particular solution**</font>, which is a solution that corresponds to a given <font color=\"dodgerblue\">**initial condition**</font>."
   ]
  },
  {
   "cell_type": "markdown",
   "id": "4f51ecff-7c38-4e88-a00d-127c02d1d0e8",
   "metadata": {
    "id": "4f51ecff-7c38-4e88-a00d-127c02d1d0e8"
   },
   "source": [
    "## <a name='05quest4'>Question 4:</a>\n",
    "---\n",
    "\n",
    "Use the same technique to find the general solution to $\\dfrac{dy}{dt}=\\dfrac{t}{3y^2}$. The first step (dividing both sides by $\\frac{1}{3y^2}$) is done for you below. Finish the rest of the process to find a general solution to the differential equation\n",
    "\n",
    "$$3y^2\\frac{dy}{dt}=t.$$\n",
    "\n",
    "### Solution to Question 4:\n",
    "---\n",
    "\n",
    "<br> <br> <br> <br> <br>"
   ]
  },
  {
   "cell_type": "markdown",
   "id": "f9050d49-cee0-4fff-9add-a062a760aa1b",
   "metadata": {
    "id": "12d63af2-4b61-4dff-9899-b235e1cf36d2"
   },
   "source": [
    "## <a name='05quest5'>Question 5:</a>\n",
    "----\n",
    "\n",
    "In practice, we often circumvent explicit use of the chain rule and instead use a shortcut to more efficiently find the general solution. The shortcut involves treating the derivative $\\frac{dy}{dt}$ as a ratio and *\"separating\"* the $dy$ and $dt$. \n",
    "\n",
    "In the table below, follow the instructions to see how the shortcut works, using again the equation $\\displaystyle\\frac{dP}{dt} = 0.2P$. "
   ]
  },
  {
   "cell_type": "markdown",
   "id": "fa819a47-0744-4153-9895-714b54339019",
   "metadata": {
    "id": "12d63af2-4b61-4dff-9899-b235e1cf36d2"
   },
   "source": [
    "### <a name='05quest5a'>Question 5a:</a>\n",
    "----\n",
    "\n",
    "\"Separate\" the $dP$ from the $dt$ so that $dP$ and $P$ are on the same side. \n",
    "\n",
    "\n",
    "- Keep in mind $\\frac{dP}{dt}$ is NOT a fraction.\n",
    "- We are abusing the notation for the derivative little bit. \n",
    "- In practice, this works due to the chain rule that we illustrated in an earlier example.\n",
    "- If there are $t$'s in the equation they must go on the same side as $dt$ (if possible).\n",
    "\n",
    "#### Solution to Question 5a:\n",
    "---\n",
    "\n",
    "<br> <br> <br> <br> <br>"
   ]
  },
  {
   "cell_type": "markdown",
   "id": "d30d56cc-4c70-4d4a-ac26-e280ac84a3fc",
   "metadata": {
    "id": "12d63af2-4b61-4dff-9899-b235e1cf36d2"
   },
   "source": [
    "### <a name='05quest5b'>Question 5b:</a>\n",
    "----\n",
    "\n",
    "Integrate both sides of the equation.\n",
    "\n",
    "\n",
    "- If two expressions are equal, then performing the same operation on both sides preserves the equality.\n",
    "- However, we are integrating with respect to different variables on each side of the equation. \n",
    "- Thus, this step is also not technically a correct. We are abusing notation a little bit.\n",
    "- In reality, we are reversing the chain rule.\n",
    "- Integrate one side with respect to $P$ and the other with respect to $t$.\n",
    "\n",
    "#### Solution to Question 5b:\n",
    "---\n",
    "\n",
    "<br> <br> <br> <br> <br>"
   ]
  },
  {
   "cell_type": "markdown",
   "id": "e7c9503f-b8d7-4b19-a5db-611e719dec66",
   "metadata": {
    "id": "12d63af2-4b61-4dff-9899-b235e1cf36d2"
   },
   "source": [
    "### <a name='05quest5c'>Question 5c:</a>\n",
    "----\n",
    "\n",
    "Using algebra, express your answer in explicit form $P(t)=\\underline{\\hskip1cm}$\n",
    "\n",
    "\n",
    "#### Solution to Question 5c:\n",
    "---\n",
    "\n",
    "<br> <br> <br> <br> <br>"
   ]
  },
  {
   "cell_type": "markdown",
   "id": "0026487a-f5bc-4c99-a619-aae481852abd",
   "metadata": {
    "id": "0026487a-f5bc-4c99-a619-aae481852abd"
   },
   "source": [
    "## <a name='05quest6'>Question 6:</a>\n",
    "----\n",
    "\n",
    "Use the shortcut method above to find the general solution to  $\\dfrac{dy}{dt}=\\dfrac{t}{3y^2}$. \n",
    "\n",
    "### Solution to Question 6:\n",
    "---\n",
    "\n",
    "<br> <br> <br> <br> <br>"
   ]
  },
  {
   "cell_type": "markdown",
   "id": "7305a29e-ef24-4385-bad0-249319a08e32",
   "metadata": {
    "id": "7305a29e-ef24-4385-bad0-249319a08e32"
   },
   "source": [
    "# Checking Your Solution with Python\n",
    "---\n",
    "\n",
    "In [problem 6](#05quest6) you should have found that a general solution to $\\dfrac{dy}{dt}=\\dfrac{t}{3y^2}$ is $\\displaystyle y= \\sqrt[3]{\\frac{1}{2} t^2 +C}$.\n",
    "\n",
    "Let's check that our solution is correct using Python.\n"
   ]
  },
  {
   "cell_type": "code",
   "execution_count": null,
   "id": "14c77bf9-e0cf-4d4b-84bc-9f2907673b1d",
   "metadata": {
    "id": "14c77bf9-e0cf-4d4b-84bc-9f2907673b1d"
   },
   "outputs": [],
   "source": [
    "import sympy as sym  # import sympy, we use the abbreviation sym\n",
    "\n",
    "t, y, C = sym.symbols('t, y, C')  # Creating t, y and C as symbols\n",
    "\n",
    "y = sym.cbrt(1/2 * t**2 + C)\n",
    "\n",
    "dy = sym.diff(y,t) # Use diff from sympy library to differentiate y with respect to t\n",
    "\n",
    "check = t / (3 * y**2)\n",
    "print(\"The left side is dy/dt = \", sym.simplify(dy), \n",
    "      \"\\n \\n The right side is \", sym.simplify(check))"
   ]
  },
  {
   "cell_type": "markdown",
   "id": "75c4b1c3-2d4f-4c07-ac85-1534fa69ba63",
   "metadata": {
    "id": "75c4b1c3-2d4f-4c07-ac85-1534fa69ba63"
   },
   "source": [
    "## Identifying Where You Made an Error\n",
    "---\n",
    "\n",
    "The left and right sides should be equivalent expressions. If the output from the code cell above did not have both sides equal to each other, then we made a mistake somewhere in the process:\n",
    "\n",
    "- Did we integrate the expression of $y$ correctly?\n",
    "- Did we integrate the expression of $t$ correctly?\n",
    "- Did we solve for $y$ correctly?"
   ]
  },
  {
   "cell_type": "code",
   "execution_count": null,
   "id": "116f2603-82ac-46cb-abd0-e758a867a860",
   "metadata": {
    "id": "116f2603-82ac-46cb-abd0-e758a867a860"
   },
   "outputs": [],
   "source": [
    "# checking integration with respect to y\n",
    "\n",
    "t, y = sym.symbols('t, y')  # Creating t, y and as symbols\n",
    "sym.integrate(3 * y**2, y)"
   ]
  },
  {
   "cell_type": "code",
   "execution_count": null,
   "id": "885476f1-83dd-42d5-a527-46889ec60a29",
   "metadata": {
    "id": "885476f1-83dd-42d5-a527-46889ec60a29"
   },
   "outputs": [],
   "source": [
    "# checking integration with respect to t\n",
    "\n",
    "sym.integrate(t, t)"
   ]
  },
  {
   "cell_type": "markdown",
   "id": "0745b233-5fbf-43e6-b6f9-c88af8e65fbd",
   "metadata": {
    "id": "0745b233-5fbf-43e6-b6f9-c88af8e65fbd"
   },
   "source": [
    "# Identifying Separable Differential Equations\n",
    "---\n",
    "\n",
    "A differential equation is called **separable** if it can be written in the form\n",
    "\n",
    "$$\\frac{dy}{dx}=p(x,y)=f(x)g(y).$$\n",
    "\n",
    "For example, the differential equation $\\dfrac{dy}{dt}=\\dfrac{t}{3y^2}$ is separable since it can be written as \n",
    "\n",
    "$$\\frac{dy}{dt}=(t)\\left( \\frac{1}{3y^2} \\right).$$"
   ]
  },
  {
   "cell_type": "markdown",
   "id": "7478414e-65a4-472f-8365-07b9cd8765dd",
   "metadata": {
    "id": "13530800-d606-47b4-9e7d-de92b2a22a10"
   },
   "source": [
    "## <a name='05quest7'>Question 7:</a>\n",
    "----\n",
    "\n",
    "Decide whether the differential equation is separable.  If so, separate it into the form $\\dfrac{1}{g(y)} dy = f(x) dx$."
   ]
  },
  {
   "cell_type": "markdown",
   "id": "60a4af50-65b5-4fd2-8684-4019b5fb934f",
   "metadata": {
    "id": "13530800-d606-47b4-9e7d-de92b2a22a10"
   },
   "source": [
    "### <a name='05quest7a'>Question 7a:</a>\n",
    "----\n",
    "\n",
    "$y' = 3x+y^2$\n",
    "\n",
    "#### Solution to Question 7a:\n",
    "---\n",
    "\n",
    "<br> <br> <br> <br> <br>"
   ]
  },
  {
   "cell_type": "markdown",
   "id": "816c161c-f764-4c75-865d-0bbddaedd1c9",
   "metadata": {
    "id": "13530800-d606-47b4-9e7d-de92b2a22a10"
   },
   "source": [
    "### <a name='05quest7b'>Question 7b:</a>\n",
    "----\n",
    "\n",
    "$\\displaystyle \\frac{dy}{dt} = t^2y+ty$\n",
    "\n",
    "#### Solution to Question 7b:\n",
    "---\n",
    "\n",
    "<br> <br> <br> <br> <br>"
   ]
  },
  {
   "cell_type": "markdown",
   "id": "11af2046-bbba-4dfa-9839-c55a8deb6395",
   "metadata": {
    "id": "13530800-d606-47b4-9e7d-de92b2a22a10"
   },
   "source": [
    "### <a name='05quest7c'>Question 7c:</a>\n",
    "----\n",
    "\n",
    "$\\displaystyle \\frac{dz}{dw} = e^{z+w}$\n",
    "\n",
    "#### Solution to Question 7c:\n",
    "---\n",
    "\n",
    "<br> <br> <br> <br> <br>"
   ]
  },
  {
   "cell_type": "markdown",
   "id": "722bad28-2f7b-4247-950c-9932f944fa9c",
   "metadata": {
    "id": "13530800-d606-47b4-9e7d-de92b2a22a10"
   },
   "source": [
    "### <a name='05quest7d'>Question 7d:</a>\n",
    "----\n",
    "\n",
    "$y'=\\ln{(xy)}$\n",
    "\n",
    "#### Solution to Question 7d:\n",
    "---\n",
    "\n",
    "<br> <br> <br> <br> <br>"
   ]
  },
  {
   "cell_type": "markdown",
   "id": "b0f56193-2ba5-48c4-b23a-dec28da9a75f",
   "metadata": {
    "id": "13530800-d606-47b4-9e7d-de92b2a22a10"
   },
   "source": [
    "### <a name='05quest7e'>Question 7e:</a>\n",
    "----\n",
    "\n",
    "$\\displaystyle \\frac{dy}{dx}-xy =0$\n",
    "\n",
    "#### Solution to Question 7e:\n",
    "---\n",
    "\n",
    "<br> <br> <br> <br> <br>"
   ]
  },
  {
   "cell_type": "markdown",
   "id": "9c18f5a6-8e18-47ea-9414-88e1e68b8db5",
   "metadata": {
    "id": "a391aaf9-ffa5-4dac-ab2d-09bf09b82de3"
   },
   "source": [
    "## <a name='05quest8'>Question 8:</a>\n",
    "---\n",
    "\n",
    "Solve the initial value problem. To solve an IVP one first must find the general solution and then use the initial condition to find the particular solution corresponding to the initial condition."
   ]
  },
  {
   "cell_type": "markdown",
   "id": "cd5aac96-0164-4843-a547-f738cfc34999",
   "metadata": {
    "id": "a391aaf9-ffa5-4dac-ab2d-09bf09b82de3"
   },
   "source": [
    "### <a name='05quest8a'>Question 8a:</a>\n",
    "---\n",
    "\n",
    "$z' = \\dfrac{qz}{z^2+1}$,  $z(2)=1$\n",
    "\n",
    "#### Solution to Question 8a:\n",
    "---\n",
    "\n",
    "<br> <br> <br> <br> <br>"
   ]
  },
  {
   "cell_type": "markdown",
   "id": "7287864b-71fa-4be2-9894-3f3be7e7e0bf",
   "metadata": {
    "id": "a391aaf9-ffa5-4dac-ab2d-09bf09b82de3"
   },
   "source": [
    "### <a name='05quest8b'>Question 8b:</a>\n",
    "---\n",
    "\n",
    "$\\dfrac{dx}{dt}= \\dfrac{x\\ln{x}}{t}$,  $x(1)=6$\n",
    "\n",
    "#### Solution to Question 8b:\n",
    "---\n",
    "\n",
    "<br> <br> <br> <br> <br>"
   ]
  },
  {
   "cell_type": "markdown",
   "id": "2c360384-3fc3-49b4-87b8-2a03b0bb324a",
   "metadata": {
    "id": "a391aaf9-ffa5-4dac-ab2d-09bf09b82de3"
   },
   "source": [
    "### <a name='05quest8c'>Question 8c:</a>\n",
    "---\n",
    "\n",
    "$\\dfrac{y'}{x}= \\dfrac{\\sin{(x^2)}}{y}$,   $y(0)=3$\n",
    "\n",
    "#### Solution to Question 8c:\n",
    "---\n",
    "\n",
    "<br> <br> <br> <br> <br>"
   ]
  },
  {
   "cell_type": "markdown",
   "id": "3e574cc4-c5c2-48c4-8f04-8acd7c19c6cb",
   "metadata": {
    "id": "3e574cc4-c5c2-48c4-8f04-8acd7c19c6cb"
   },
   "source": [
    "## <a name='05quest9'>Question 9:</a>\n",
    "---\n",
    "\n",
    "Verify and/or check your answers to each part of [problem 8](#05quest8) using Python.\n",
    "\n",
    "### Solution to Question 9:\n",
    "---\n",
    "\n",
    "<br> <br> Complete the Python cells below. <br> <br>"
   ]
  },
  {
   "cell_type": "code",
   "execution_count": null,
   "id": "5d6f0c4e-c639-4a0f-9f8b-fec8c01ec21b",
   "metadata": {
    "id": "5d6f0c4e-c639-4a0f-9f8b-fec8c01ec21b"
   },
   "outputs": [],
   "source": [
    "# Check Solution to Question 8a:\n",
    "\n",
    "??, ??  = sym.symbols('??, ??')  # What are the symbols\n",
    "\n",
    "z = ??  # Enter the formula of your solution in 8s\n",
    "\n",
    "dz = sym.diff(??, ??)  # Compute derivative of solution\n",
    "\n",
    "check = ??  # Enter a formula to check your answer\n",
    "\n",
    "print(\"The left side is ?? = \", sym.simplify(??), \n",
    "      \"\\n \\n The right side is \", sym.simplify(??))"
   ]
  },
  {
   "cell_type": "code",
   "execution_count": null,
   "id": "10cb3d4f-1043-4107-8c28-a88a409b6927",
   "metadata": {
    "id": "10cb3d4f-1043-4107-8c28-a88a409b6927"
   },
   "outputs": [],
   "source": [
    "# Check Solution to Question 8b:\n",
    "\n",
    "??, ??  = sym.symbols('??, ??')  # What are the symbols\n",
    "\n",
    "x = ??  # Enter the formula of your solution in 8b\n",
    "\n",
    "dx = sym.diff(??, ??)  # Compute derivative of solution\n",
    "\n",
    "check = ??  # Enter a formula to check your answer\n",
    "\n",
    "print(\"The left side is ?? = \", sym.simplify(??), \n",
    "      \"\\n \\n The right side is \", sym.simplify(??))"
   ]
  },
  {
   "cell_type": "code",
   "execution_count": null,
   "id": "3f1aac0a-3fb4-4dc9-a165-65541e226c7f",
   "metadata": {
    "id": "3f1aac0a-3fb4-4dc9-a165-65541e226c7f"
   },
   "outputs": [],
   "source": [
    "# Check Solution to Question 8c:\n",
    "\n",
    "??, ??  = sym.symbols('??, ??')  # What are the symbols\n",
    "\n",
    "y = ??  # Enter the formula of your solution in 8c\n",
    "\n",
    "dy = sym.diff(??, ??)  # Compute derivative of solution\n",
    "\n",
    "check = ??  # Enter a formula to check your answer\n",
    "\n",
    "print(\"The left side is ?? = \", sym.simplify(??), \n",
    "      \"\\n \\n The right side is \", sym.simplify(??))"
   ]
  },
  {
   "cell_type": "markdown",
   "id": "1baf2a6f-b3e8-43e7-94ea-aa5d8c29dcca",
   "metadata": {
    "id": "1baf2a6f-b3e8-43e7-94ea-aa5d8c29dcca"
   },
   "source": [
    "## <a name='05quest10'>Question 10:</a>\n",
    "---\n",
    "\n",
    "Solve the initial value problem \n",
    "$$\\frac{dy}{dt}=\\frac{t}{y}, \\ \\ \\ \\ \\  y(2)=-1$$\n",
    "\n",
    "a.  For what values of $t$ is your solution valid? Why?\n",
    "\n",
    "b. Check to see that your **particular** solution \"fits\" the differential equation by substituting the solution and its derivative into the original differential equation. \n",
    "\n",
    "### Solution to Question 10:\n",
    "---\n",
    "\n",
    "<br> <br> <br> <br> <br>"
   ]
  },
  {
   "cell_type": "markdown",
   "id": "75c70dfd-69fe-4533-aa89-8ffc128bc72b",
   "metadata": {
    "id": "75c70dfd-69fe-4533-aa89-8ffc128bc72b"
   },
   "source": [
    "## <a name='05quest11'>Question 11:</a>\n",
    "---\n",
    "\n",
    "Complete the two lines with ?? in the first Python code cell below to plot the slope field and your solution from [problem 10a](#05quest10) to check your work.\n",
    "\n",
    "\n",
    "### Solution to Question 11:\n",
    "---\n",
    "\n",
    "<br> <br> Complete the first code cell below and then run the next two code cells (without any edits). <br> <br>"
   ]
  },
  {
   "cell_type": "code",
   "execution_count": null,
   "id": "630815ba-3dc9-4d85-ad4c-c5b8e780d61e",
   "metadata": {
    "id": "630815ba-3dc9-4d85-ad4c-c5b8e780d61e"
   },
   "outputs": [],
   "source": [
    "# To plot right half of the solution for t > 0\n",
    "tsol1 = np.linspace(2, 10, 200)  \n",
    "# Edit the line below\n",
    "fsol1 = np.sqrt(??)  # enter formula of your solution\n",
    "\n",
    "# To plot left half of the solution for t < 0\n",
    "tsol2 = np.linspace(-10, -2, 200)  # range of ind variable\n",
    "# Edit the line below\n",
    "fsol2 = -1 * np.sqrt(??)  # enter formula of your solution"
   ]
  },
  {
   "cell_type": "code",
   "execution_count": null,
   "id": "924711a1-4b86-4e97-a7cc-16623208ef93",
   "metadata": {},
   "outputs": [],
   "source": [
    "!pip install git+https://github.com/CU-Denver-MathStats-OER/ODEs\n",
    "from IPython.display import clear_output\n",
    "clear_output()"
   ]
  },
  {
   "cell_type": "code",
   "execution_count": null,
   "id": "e9b59e9c-b226-4e56-8da2-592bd0e30690",
   "metadata": {
    "id": "e9b59e9c-b226-4e56-8da2-592bd0e30690"
   },
   "outputs": [],
   "source": [
    "# Nothing to edit in this cell!\n",
    "\n",
    "#import matplotlib.pyplot as plt\n",
    "import math\n",
    "from utils.ode_tols import slope_field\n",
    "\n",
    "# Setup the grid\n",
    "t = np.linspace(-10, 10, 21)  # np.linspace(initial, end, number_values)\n",
    "x = np.linspace(-10, 10, 21)  # np.linspace(initial, end, number_values)\n",
    "\n",
    "# Setup the differential equation\n",
    "def diffeq(x, t):\n",
    "    return t / x # Use t and x for ind and dep variables\n",
    "\n",
    "# Plot the slope field and solutions\n",
    "slope_field(t, x, diffeq)\n",
    "plt.plot(tsol1, fsol1, color='b')\n",
    "plt.plot(tsol2, fsol2, color='r')\n"
   ]
  },
  {
   "cell_type": "markdown",
   "id": "6ee83374-753b-477b-80d1-9a7bcd59fa6d",
   "metadata": {
    "id": "6ee83374-753b-477b-80d1-9a7bcd59fa6d"
   },
   "source": [
    "## <a name='05quest12'>Question 12:</a>\n",
    "---\n",
    "\n",
    "Even though $\\dfrac{dy}{dt}$ is undefined when $y=0$, the solution function can be defined such that $y(2)=0$.  What should the graph of this solution look like in the slope field?\n",
    "\n",
    "### Solution to Question 12:\n",
    "---\n",
    "\n",
    "<br> <br> <br> <br> <br>"
   ]
  },
  {
   "cell_type": "markdown",
   "id": "c8406639-b134-47ee-82e4-21b1afb1349b",
   "metadata": {
    "id": "c8406639-b134-47ee-82e4-21b1afb1349b"
   },
   "source": [
    "# Creative Commons License Information\n",
    "---\n",
    "\n",
    "<a rel=\"license\" href=\"https://creativecommons.org/licenses/by-nc-sa/4.0/\"><img alt=\"Creative Commons License\" style=\"border-width:0\" src=\"https://i.creativecommons.org/l/by-nc-sa/4.0/80x15.png\" /></a><br /><span xmlns:dct=\"http://purl.org/dc/terms/\" property=\"dct:title\">Elementary Differential Equations</span> by <a xmlns:cc=\"http://creativecommons.org/ns#\" href=\"https://github.com/CU-Denver-MathStats-OER/ODEs\" property=\"cc:attributionName\" rel=\"cc:attributionURL\">Adam Spiegler, Jonathon Hirschi, and Dmitry Ostrovskiy</a> is licensed under a <a rel=\"license\" href=\"http://creativecommons.org/licenses/by-nc-sa/4.0/\">Creative Commons Attribution-NonCommercial-ShareAlike 4.0 International License</a>.<br />Based on a work at <a xmlns:dct=\"http://purl.org/dc/terms/\" href=\"https://github.com/CU-Denver-MathStats-OER/ODEs\" rel=\"dct:source\">https://github.com/CU-Denver-MathStats-OER/ODEs</a> and original content created by Rasmussen, C., Keene, K. A., Dunmyre, J., & Fortune, N. (2018). *Inquiry oriented differential equations: Course materials*. Available at <a href=\"https://iode.sdsu.edu\">https://iode.sdsu.edu</a>."
   ]
  },
  {
   "cell_type": "code",
   "execution_count": null,
   "id": "ynzyS3OeHIbD",
   "metadata": {
    "id": "ynzyS3OeHIbD"
   },
   "outputs": [],
   "source": []
  }
 ],
 "metadata": {
  "colab": {
   "collapsed_sections": [],
   "name": "05-Separable-Diff-Eqs.ipynb",
   "provenance": []
  },
  "kernelspec": {
   "display_name": "Python 3 (ipykernel)",
   "language": "python",
   "name": "python3"
  },
  "language_info": {
   "codemirror_mode": {
    "name": "ipython",
    "version": 3
   },
   "file_extension": ".py",
   "mimetype": "text/x-python",
   "name": "python",
   "nbconvert_exporter": "python",
   "pygments_lexer": "ipython3",
   "version": "3.9.13"
  }
 },
 "nbformat": 4,
 "nbformat_minor": 5
}
