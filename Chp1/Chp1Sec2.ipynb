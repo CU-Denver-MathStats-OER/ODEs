{
 "cells": [
  {
   "cell_type": "markdown",
   "id": "30b39593-ea26-4bd8-8867-abbb75783265",
   "metadata": {},
   "source": [
    "# Introduction to Ordinary Differential Equations\n",
    "---\n",
    "\n",
    "## Chapter 1: \n",
    "---"
   ]
  },
  {
   "cell_type": "markdown",
   "id": "d819af0f-c3a3-48b5-a4d7-31779add477d",
   "metadata": {
    "tags": []
   },
   "source": [
    "## Section 1.2: Slope Fields\n",
    "---"
   ]
  },
  {
   "cell_type": "code",
   "execution_count": null,
   "id": "6a4ecac7-7100-48fe-bc49-9692a8e816a2",
   "metadata": {},
   "outputs": [],
   "source": [
    "import numpy as np\n",
    "import matplotlib.pyplot as plt\n",
    "\n",
    "import slopefields"
   ]
  },
  {
   "cell_type": "code",
   "execution_count": null,
   "id": "96005182-8d7b-4f3c-8825-ab954f3014d4",
   "metadata": {},
   "outputs": [],
   "source": [
    "# Usage example\n",
    "\n",
    "# Parameters setup\n",
    "t = np.linspace(0,10,10)\n",
    "x = np.linspace(-60,-40,10)\n",
    "def f(t,x):\n",
    "    return -9.8-x/5\n",
    "\n",
    "# Plot setup\n",
    "fig, ax = plt.subplots(1,1)\n",
    "\n",
    "# Call function\n",
    "slopefields.slope_field(ax, t, x, f)"
   ]
  },
  {
   "cell_type": "code",
   "execution_count": null,
   "id": "102a4919-8dfa-479c-ae7a-bedd6fa2a5db",
   "metadata": {},
   "outputs": [],
   "source": [
    "# Parameters setup\n",
    "t = np.linspace(-5,5,10)\n",
    "x = np.linspace(-5,5,10)\n",
    "def f(t,x):\n",
    "    return x+t"
   ]
  },
  {
   "cell_type": "code",
   "execution_count": null,
   "id": "b0c9c6d2-604b-4fa5-809b-1c986644784f",
   "metadata": {},
   "outputs": [],
   "source": [
    "# Plot setup\n",
    "fig, ax = plt.subplots(1,1)\n",
    "# Call function\n",
    "slopefields.slope_field(ax, t, x, f)\n",
    "\n",
    "# Rename Axes\n",
    "ax.set_xlabel('Time (seconds)')\n",
    "ax.set_ylabel('Displacement')\n",
    "\n",
    "# Add axis markers\n",
    "ax.plot([t.min(), t.max()],[0,0],'k:')\n",
    "ax.plot([0,0],[x.min(),x.max()],'k:')"
   ]
  },
  {
   "cell_type": "code",
   "execution_count": null,
   "id": "e420458b-ff84-4fe0-9810-4983fd3eaf24",
   "metadata": {},
   "outputs": [],
   "source": [
    "# Parameters setup\n",
    "t = np.linspace(-5,5,11)\n",
    "x = np.linspace(-5,5,11)\n",
    "def f(t,x):\n",
    "    return 1-x**2\n",
    "# Plot setup\n",
    "fig, ax = plt.subplots(1,1)\n",
    "\n",
    "# Call function with different arguments to plt.quiver\n",
    "slopefields.slope_field(ax, t, x, f,\n",
    "           param_dict={'angles':'xy', 'scale_units':'xy', 'scale':1, 'headlength':4, 'headwidth':4, 'color':'blue'})\n",
    "\n",
    "ax.plot([t.min(), t.max()],[0,0],'k:')\n",
    "ax.plot([0,0],[x.min(),x.max()],'k:')"
   ]
  },
  {
   "cell_type": "code",
   "execution_count": null,
   "id": "4c363c61-e555-4b06-9cff-1f843c91c003",
   "metadata": {},
   "outputs": [],
   "source": []
  }
 ],
 "metadata": {
  "kernelspec": {
   "display_name": "Python 3 (ipykernel)",
   "language": "python",
   "name": "python3"
  },
  "language_info": {
   "codemirror_mode": {
    "name": "ipython",
    "version": 3
   },
   "file_extension": ".py",
   "mimetype": "text/x-python",
   "name": "python",
   "nbconvert_exporter": "python",
   "pygments_lexer": "ipython3",
   "version": "3.9.12"
  }
 },
 "nbformat": 4,
 "nbformat_minor": 5
}
