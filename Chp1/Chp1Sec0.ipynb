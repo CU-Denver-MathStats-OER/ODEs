{
 "cells": [
  {
   "cell_type": "markdown",
   "id": "8c7f3d70-b548-46dc-a4c8-cf0e422635e4",
   "metadata": {},
   "source": [
    "# Introduction to Ordinary Differential Equations\n",
    "---\n",
    "\n",
    "## Chapter 1: \n",
    "---"
   ]
  },
  {
   "cell_type": "markdown",
   "id": "d1f3b403-c1cb-4cb8-8ea8-7133e7981619",
   "metadata": {
    "tags": []
   },
   "source": [
    "## Section 1.0: Purpose/Table of Contents for Chapter\n",
    "---\n",
    "\n",
    "This chapter has a few basic goals:\n",
    "\n",
    "- To review some notation, terminology and prerequisite knowledge useful for the study of ordinary differential equations (ODEs).\n",
    "\n",
    "- To introduce various Python packages, tools, and techniques for investigating solutions (numerical or closed-form) on a computer.\n",
    "\n",
    "This chapter not only *sets the stage* for the rest of the course it also *buys students time* in getting up to speed on prerequisite material and Python programming required to do well in this course."
   ]
  },
  {
   "cell_type": "markdown",
   "id": "341a5cba-04b6-42ee-8c44-7c181d55b3fb",
   "metadata": {},
   "source": [
    "### Section 1.0.1: Python and Jupyter Notebooks\n",
    "\n",
    "**Add links to background material for jupyter and python**"
   ]
  },
  {
   "cell_type": "markdown",
   "id": "a2b7c833-a523-4d81-bf06-caad24f45ba2",
   "metadata": {},
   "source": [
    "### Chapter contents \n",
    "---\n",
    "\n",
    "- [Section 1.1: What is a differential equation?](Chp1Sec1.ipynb)\n",
    "\n",
    "- [Section 1.2: Slope Fields](Chp1Sec2.ipynb)\n",
    "\n",
    "- [Section 1.3: Phase Line](Chp1Sec3.ipynb)\n",
    "\n",
    "- [Section 1.4: Euler's Method](Chp1Sec4.ipynb)\n",
    "\n",
    "- [Section 1.5: Separable Differential Equations](Chp1Sec5.ipynb)\n",
    "\n",
    "- [Section 1.6: Integrating Factors](Chp1Sec6.ipynb)\n",
    "\n",
    "- [Section 1.7: Application: population and mixture models](Chp1Sec7.ipynb)\n",
    "\n",
    "- [Section 1.8: Application: heating and cooling](Chp1Sec6.ipynb)\n",
    "\n",
    "---"
   ]
  },
  {
   "cell_type": "markdown",
   "id": "03c97304-ba39-4fbd-b875-46410f1dac69",
   "metadata": {},
   "source": [
    "### Install needed software\n",
    "---"
   ]
  },
  {
   "cell_type": "code",
   "execution_count": null,
   "id": "d84df496-123f-48e6-8d65-a266873cba31",
   "metadata": {},
   "outputs": [],
   "source": [
    "# Install needed packages\n",
    "!pip install ipympl"
   ]
  }
 ],
 "metadata": {
  "kernelspec": {
   "display_name": "Python 3 (ipykernel)",
   "language": "python",
   "name": "python3"
  },
  "language_info": {
   "codemirror_mode": {
    "name": "ipython",
    "version": 3
   },
   "file_extension": ".py",
   "mimetype": "text/x-python",
   "name": "python",
   "nbconvert_exporter": "python",
   "pygments_lexer": "ipython3",
   "version": "3.9.12"
  }
 },
 "nbformat": 4,
 "nbformat_minor": 5
}
