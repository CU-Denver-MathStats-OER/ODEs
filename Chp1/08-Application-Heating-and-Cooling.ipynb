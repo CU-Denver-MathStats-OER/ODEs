{
 "cells": [
  {
   "cell_type": "markdown",
   "id": "814d707e",
   "metadata": {},
   "source": [
    "# Cooling Coffee\n",
    "---\n",
    "\n",
    "A group of students want to develop a rate of change equation to describe the cooling rate for hot coffee in order that they can make predictions about other cups of cooling coffee. Their idea is to use a temperature probe to collect data on the temperature of the coffee as it changes over time and then to use this data to develop a rate of change equation. \n",
    "\n",
    "The data they collected is shown in the table below. The temperature $C$ (in degrees Fahrenheit) was recorded every 2 minutes over a 14 minute period. \n",
    "\n",
    "Time (min) | Temp. ( degree F) | $ \\frac{dC}{dt}$ ( degree F per min)    \n",
    ":-:|:-:|:-:\n",
    "0 | 160.3 |                                             \n",
    "2 | 120.4 |    \n",
    "4 | 98.1 |   \n",
    "6 | 84.8 |    \n",
    "8 | 78.5 |    \n",
    "10 | 74.4 |    \n",
    "12 | 72.1 |    \n",
    "14 | 71.5|    \n"
   ]
  },
  {
   "cell_type": "markdown",
   "id": "2df9cb5a-1c4f-402d-885b-46d68ddb9000",
   "metadata": {},
   "source": [
    "## <a name='08quest1'>Question 1:</a>\n",
    "---\n",
    "\n",
    "Figure out a way to use this data to fill in the third column whose values approximate  $\\displaystyle\\frac{dC}{dt}$, where $C$ is the temperature of the coffee. \n",
    "\n",
    "### Solution to Question 1a:\n",
    "---\n",
    "\n",
    "<br> <br> <br> <br> <br> <br>"
   ]
  },
  {
   "cell_type": "markdown",
   "id": "15d9077b-9361-47cf-ba4f-70b3f09bbf37",
   "metadata": {},
   "source": [
    "## <a name='08quest2'>Question 2:</a>\n",
    "---\n",
    "\n",
    " Do you expect $\\displaystyle\\frac{dC}{dt}$ to depend on just the temperature $C$, on just the time $t$, or both the temperature $C$ and the time $t$?\n",
    " \n",
    "### Solution to Question 2:\n",
    "---\n",
    "\n",
    "<br> <br> <br> <br> <br> <br>"
   ]
  },
  {
   "cell_type": "markdown",
   "id": "36f5de9f-9ccc-49ee-a781-eb25ad11d621",
   "metadata": {},
   "source": [
    "## <a name='08quest3'>Question 3:</a>\n",
    "---\n",
    "\n",
    "\n",
    "Sketch below your best guess for the graph of $\\displaystyle\\frac{dC}{dt}$.\n",
    "\n",
    "### Solution to Question 3:\n",
    "---\n",
    "\n",
    "<br> <br>\n",
    "\n",
    "<img src=\"Images/08dCdt.png\" width=\"480\">\n",
    "\n",
    "<br> <br>"
   ]
  },
  {
   "cell_type": "markdown",
   "id": "fdf3777b-2c16-45fc-887f-d03234c6ff88",
   "metadata": {},
   "source": [
    "# Newton's Law of Heating and Cooling\n",
    "---\n",
    "\n",
    "<mark> We Need a Python Code Cell to Do This!</mark>"
   ]
  },
  {
   "cell_type": "markdown",
   "id": "fdc1be5b-7d39-474a-9ceb-f790a2cfb644",
   "metadata": {},
   "source": [
    "## <a name='08quest4'>Question 4:</a>\n",
    "---\n",
    "\n",
    "a. Input the data from your extended table in [Problem 1] (#08quest1) into the GeoGebra applet [Mimic this GeoGebra App](https://ggbm.at/uj2gbz3V) to plot points for $\\dfrac{dC}{dt}$ vs. $C$. Does this plot confirm or reject your sketch from [Problem 3] (#08quest3)? \n",
    "\n",
    "b. Use the <mark>curve fitting tool</mark> and find an equation that fits your data.\n",
    " \n",
    "### Solution to Question 4:\n",
    "---\n",
    "\n",
    "<br> <br> <br> <br> <br> <br>"
   ]
  },
  {
   "cell_type": "markdown",
   "id": "6a230cbd-9571-44bc-9d43-1cca904a0ab7",
   "metadata": {},
   "source": [
    "## A Formula for Newton's Law of Heating and Cooling\n",
    "---\n",
    "\n",
    "**Newton's Law of Heating and Cooling** states that the temperature $T$ of an object at time $t$\n",
    "changes at a rate which is proportional to the difference of its temperature and the\n",
    "temperature of its surrounding:\n",
    "\n",
    "$$\\color{blue}{\\large \\boxed{\\frac{dT}{dt} = -k(T-A)}}, $$\n",
    "\n",
    "where $A$ is a constant that denotes the ambient temperature and $k>0$ is a constant that depends on the object."
   ]
  },
  {
   "cell_type": "markdown",
   "id": "294de0c6",
   "metadata": {},
   "source": [
    "## <a name='08quest5'>Question 5:</a>\n",
    "---\n",
    "\n",
    "What happens as $\\mathbf{t \\to \\infty}$ if the initial temperature $\\mathbf{T_0>A}$? If the initial temperature $\\mathbf{T_0 < A}$? \n",
    "\n",
    "### Solution to Question 5:\n",
    "---\n",
    "\n",
    "<br><br><br><br><br><br>\n"
   ]
  },
  {
   "cell_type": "markdown",
   "id": "d1781d52",
   "metadata": {},
   "source": [
    "# Practice: Applications to Economics\n",
    "---\n",
    "\n",
    "Let $S(p)$ denote the number of units of a particular commodity supplied to the market at a price of $p$ dollars per unit, and let $D(p)$ denote the corresponding number of units demanded by the market at the same price.\n",
    "\n",
    "- In static circumstances, market equilibrium occurs at the price where demand equals supply.\n",
    "- However, certain economic models consider a more dynamic economy in which price, supply, and demand are assumed to vary with time.\n",
    "- One of these, the Evans price adjustment model, assumes that the rate of change of price with respect to time $t$ is proportional to the shortage, which is the difference between the quantity demanded and the quantity supplied.\n"
   ]
  },
  {
   "cell_type": "markdown",
   "id": "28686c59",
   "metadata": {},
   "source": [
    "## <a name='08quest6'>Question 6:</a>\n",
    "---\n",
    "\n",
    "a. Write a differential equation for the rate of the change of the price of the good with respect to time. <a id =\"08quest6a\"></a>\n",
    "\n",
    "### Solution to Question 6a:\n",
    "---\n",
    "\n",
    "<br> <br> <br> <br> <br> <br>\n",
    "\n",
    "b. If we assume that supply and demand are linear functions given by \n",
    "$$ S(p) = 2+p \\quad \\mbox{ and } \\quad D(p)=8-2p, $$\n",
    "find a general solution to the differential equation in part (a).  <a id =\"08quest6b\"></a>\n",
    "\n",
    "### Solution to Question 6b:\n",
    "---\n",
    "\n",
    "<br> <br> <br> <br> <br> <br>\n"
   ]
  },
  {
   "cell_type": "markdown",
   "id": "4bb67aa5",
   "metadata": {},
   "source": [
    "# Practice: Applications to Forensic Science\n",
    "---\n",
    "\n",
    "A detective finds a murder victim at 9 am. The temperature of the body\n",
    "is measured at $90.4^{\\circ}$F. One hour later, the\n",
    "temperature of the body is $89.0^{\\circ}$F. The\n",
    "temperature of the room has been maintained at a constant\n",
    "$68^{\\circ}$F.\n"
   ]
  },
  {
   "cell_type": "markdown",
   "id": "9c2a7b46",
   "metadata": {},
   "source": [
    "## <a name='08quest7'>Question 7:</a>\n",
    "---\n",
    "\n",
    "a. Assuming the temperature, $T$, of the body obeys Newton's Law of\n",
    "Cooling, write a differential equation for $T$. Your equation will include\n",
    "the constant $k$ (for now).  <a id =\"08quest7a\"></a>\n",
    "\n",
    "### Solution to Question 7a:\n",
    "---\n",
    "\n",
    "<br> <br> <br> <br> <br> <br>\n",
    "\n",
    "b. Solve the differential equation to estimate the time the murder occurred. <a id =\"08quest7b\"></a>\n",
    "\n",
    "### Solution to Question 7b:\n",
    "---\n",
    "\n",
    "<br> <br> <br> <br> <br> <br>\n"
   ]
  },
  {
   "cell_type": "markdown",
   "id": "2ed7eace",
   "metadata": {},
   "source": [
    "## Creative Commons License Information\n",
    "<a rel=\"license\" href=\"https://creativecommons.org/licenses/by-nc-sa/4.0/\"><img alt=\"Creative Commons License\" style=\"border-width:0\" src=\"https://i.creativecommons.org/l/by-nc-sa/4.0/80x15.png\" /></a><br /><span xmlns:dct=\"http://purl.org/dc/terms/\" property=\"dct:title\">Elementary Differential Equations</span> by <a xmlns:cc=\"http://creativecommons.org/ns#\" href=\"https://github.com/CU-Denver-MathStats-OER/ODEs\" property=\"cc:attributionName\" rel=\"cc:attributionURL\">Adam Spiegler, Jonathon Hirschi, and Dmitry Ostrovskiy</a> is licensed under a <a rel=\"license\" href=\"http://creativecommons.org/licenses/by-nc-sa/4.0/\">Creative Commons Attribution-NonCommercial-ShareAlike 4.0 International License</a>.<br />Based on a work at <a xmlns:dct=\"http://purl.org/dc/terms/\" href=\"https://github.com/CU-Denver-MathStats-OER/ODEs\" rel=\"dct:source\">https://github.com/CU-Denver-MathStats-OER/ODEs</a> and original content created by Rasmussen, C., Keene, K. A., Dunmyre, J., & Fortune, N. (2018). *Inquiry oriented differential equations: Course materials*. Available at <a href=\"https://iode.wordpress.ncsu.edu\">https://iode.wordpress.ncsu.edu</a>."
   ]
  }
 ],
 "metadata": {
  "kernelspec": {
   "display_name": "Python 3",
   "language": "python",
   "name": "python3"
  },
  "language_info": {
   "codemirror_mode": {
    "name": "ipython",
    "version": 3
   },
   "file_extension": ".py",
   "mimetype": "text/x-python",
   "name": "python",
   "nbconvert_exporter": "python",
   "pygments_lexer": "ipython3",
   "version": "3.8.8"
  }
 },
 "nbformat": 4,
 "nbformat_minor": 5
}
