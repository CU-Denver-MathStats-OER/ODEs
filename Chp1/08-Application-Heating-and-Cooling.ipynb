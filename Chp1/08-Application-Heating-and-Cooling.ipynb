{
 "cells": [
  {
   "cell_type": "markdown",
   "id": "5256603f-9b6e-4104-9027-3fbd09455d85",
   "metadata": {},
   "source": [
    "[![Open In Colab](https://colab.research.google.com/assets/colab-badge.svg)](https://githubtocolab.com/CU-Denver-MathStats-OER/ODEs/blob/main/Chp1/08-Application-Heating-and-Cooling.ipynb)\n"
   ]
  },
  {
   "cell_type": "markdown",
   "id": "34acfd41-677f-43b0-97d0-3c7e52fca0cf",
   "metadata": {},
   "source": [
    "# Setup: Prepping For Interactive Plots in Colab\n",
    "---\n"
   ]
  },
  {
   "cell_type": "code",
   "execution_count": null,
   "id": "0984a420-3475-4d57-b4c2-bb4ca65e42c4",
   "metadata": {},
   "outputs": [],
   "source": [
    "if 'google.colab' in str(get_ipython()):\n",
    "    print('Running on CoLab - installing missing packages')\n",
    "    !pip install ipympl\n",
    "    from IPython.display import clear_output\n",
    "    clear_output()\n",
    "    exit()\n",
    "else:\n",
    "    print('Not running on CoLab - assuming environment has necessary packages')"
   ]
  },
  {
   "cell_type": "code",
   "execution_count": null,
   "id": "25ab429d-9419-4ebb-8b74-aba76c817449",
   "metadata": {},
   "outputs": [],
   "source": [
    "%matplotlib widget\n",
    "if 'google.colab' in str(get_ipython()):\n",
    "    from google.colab import output\n",
    "    output.enable_custom_widget_manager()"
   ]
  },
  {
   "cell_type": "markdown",
   "id": "lX-QukVgHsMJ",
   "metadata": {
    "id": "lX-QukVgHsMJ"
   },
   "source": [
    "# Lab 1.8: Applications to Heating and Cooling\n",
    "---\n",
    "<font color='blue'>Reading: Section 4.2 from <a scr=\"https://math.libretexts.org/Bookshelves/Differential_Equations/Book%3A_Elementary_Differential_Equations_with_Boundary_Value_Problems_(Trench)/04%3A_Applications_of_First_Order_Equations/4.02%3A_Cooling_and_Mixing\"><font color='orange'>*Elementary Differential Equations with Boundary Value Problems* by William F. Trench</font></a> which is shared under a <a scr=\"https://creativecommons.org/licenses/by-nc-sa/3.0\"><font color='orange'>CC BY-NC-SA 3.0</font></a> license.</font>\n",
    "\n",
    "<br>"
   ]
  },
  {
   "cell_type": "markdown",
   "id": "814d707e",
   "metadata": {
    "id": "814d707e"
   },
   "source": [
    "# Cooling Coffee\n",
    "---\n",
    "\n",
    "A group of students want to develop a rate of change equation to describe the cooling rate for hot coffee in order that they can make predictions about other cups of cooling coffee. Their idea is to use a temperature probe to collect data on the temperature of the coffee as it changes over time and then to use this data to develop a rate of change equation. \n",
    "\n",
    "The data they collected is shown in the table below. The temperature $C$ (in degrees Fahrenheit) was recorded every 2 minutes over a 14 minute period. \n",
    "\n",
    "| Time (min) | Temp. ( degree F) | $\\dfrac{dC}{dt}$ ( degree F per min) |\n",
    "|-----------|-------------------|------------------------------|\n",
    "| 0 | 160.3 |                                             \n",
    "| 2 | 120.4 |    \n",
    "| 4 | 98.1 |   \n",
    "| 6 | 84.8 |    \n",
    "| 8 | 78.5 |    \n",
    "| 10 | 74.4 |    \n",
    "| 12 | 72.1 |    \n",
    "| 14 | 71.5|    \n"
   ]
  },
  {
   "cell_type": "markdown",
   "id": "2df9cb5a-1c4f-402d-885b-46d68ddb9000",
   "metadata": {
    "id": "2df9cb5a-1c4f-402d-885b-46d68ddb9000"
   },
   "source": [
    "## <a name='08quest1'>Question 1:</a>\n",
    "---\n",
    "\n",
    "Figure out a way to use this data to fill in the third column whose values approximate  $\\displaystyle\\frac{dC}{dt}$, where $C$ is the temperature of the coffee. \n",
    "\n",
    "### Solution to Question 1:\n",
    "---\n",
    "\n",
    "<br> <br> \n",
    "<mark> Use the Python code cell below to help with the calculations</mark>\n",
    "<br> <br> <br> <br>"
   ]
  },
  {
   "cell_type": "code",
   "execution_count": null,
   "id": "9d513f87-90c9-494d-a740-89a1725d0187",
   "metadata": {
    "id": "9d513f87-90c9-494d-a740-89a1725d0187"
   },
   "outputs": [],
   "source": [
    "import numpy as np\n",
    "\n",
    "# Create vector of values for t\n",
    "t = np.arange(0, 16, 2)  \n",
    "\n",
    "# Create vector of temperature values, c\n",
    "c = np.array([160.3, 120.4, 98.1, 84.8, 78.5, 74.4, 72.1, 71.5])  \n",
    "\n",
    "# Create vector to save each approx for dC/dt\n",
    "diff = np.zeros(8)\n",
    "\n",
    "########################################################\n",
    "# Student to do: Replace ?? with an appropriate formula\n",
    "########################################################\n",
    "diff[0] = ??  # approx for dc/dt at t=0\n",
    "diff[1] = ??  # approx for dc/dt at t=2\n",
    "diff[2] = ??  # approx for dc/dt at t=4\n",
    "diff[3] = ??  # approx for dc/dt at t=6\n",
    "diff[4] = ??  # approx for dc/dt at t=8\n",
    "diff[5] = ??  # approx for dc/dt at t=10\n",
    "diff[6] = ??  # approx for dc/dt at t=12\n",
    "diff[7] = ??  # approx for dc/dt at t=14\n",
    "\n",
    "print(diff)"
   ]
  },
  {
   "cell_type": "markdown",
   "id": "15d9077b-9361-47cf-ba4f-70b3f09bbf37",
   "metadata": {
    "id": "15d9077b-9361-47cf-ba4f-70b3f09bbf37"
   },
   "source": [
    "## <a name='08quest2'>Question 2:</a>\n",
    "---\n",
    "\n",
    " Do you expect $\\displaystyle\\frac{dC}{dt}$ to depend on just the temperature $C$, on just the time $t$, or both the temperature $C$ and the time $t$? Explain in practical terms.\n",
    " \n",
    "### Solution to Question 2:\n",
    "---\n",
    "\n",
    "<br> <br> <br> <br> <br> <br>"
   ]
  },
  {
   "cell_type": "markdown",
   "id": "36f5de9f-9ccc-49ee-a781-eb25ad11d621",
   "metadata": {
    "id": "36f5de9f-9ccc-49ee-a781-eb25ad11d621"
   },
   "source": [
    "## <a name='08quest3'>Question 3:</a>\n",
    "---\n",
    "\n",
    "\n",
    "Roughly sketch below your best guess for the graph of $\\displaystyle\\frac{dC}{dt}$ on the axes below. Label the variable you decided to plot on the horizontal axis.\n",
    "\n",
    "### Solution to Question 3:\n",
    "---\n",
    "\n",
    "<br> <br>\n",
    "\n",
    "\n",
    "<img src=\"https://drive.google.com/uc?id=1gQq6lnawfZt5Hh5RJ3bhS0mgNU6hpY9m\"  width = 360 alt = \"Blank Axes\">\n",
    "\n",
    "<br> <br>"
   ]
  },
  {
   "cell_type": "markdown",
   "id": "f391222e-d8d1-4654-a85a-3847f72b1136",
   "metadata": {
    "id": "f391222e-d8d1-4654-a85a-3847f72b1136"
   },
   "source": [
    "## <a name='08quest4'>Question 4:</a>\n",
    "---\n",
    "\n",
    "In the code cell below, the object `myin` is the input for the model for $\\dfrac{dC}{dt}$. In the code below, define `myin` to be either `t` or `c` depending on your answers to [Problem 2](#08quest2) and [Problem 3](#08quest3). Then run the code to plot and find an equation that best fits your data.\n",
    " \n",
    "### Solution to Question 4:\n",
    "---\n",
    "\n",
    "<br> <br> <mark> Edit one line of code in the cell below and run.</mark> <br> <br> <br> <br>"
   ]
  },
  {
   "cell_type": "code",
   "execution_count": null,
   "id": "1e2627fd-0de7-4ae5-aecd-04ef4d378e3d",
   "metadata": {
    "id": "1e2627fd-0de7-4ae5-aecd-04ef4d378e3d",
    "tags": []
   },
   "outputs": [],
   "source": [
    "from numpy.polynomial.polynomial import polyfit\n",
    "import matplotlib.pyplot as plt\n",
    "\n",
    "# Note arrays t, c, and diff are defined in previous code cell above. \n",
    "\n",
    "################################################################\n",
    "# Student to do: Replace the ?? in the line of code below.\n",
    "################################################################\n",
    "\n",
    "myin = ??  # Replace the ?? with your input (either t or c)\n",
    "myout = diff\n",
    "\n",
    "b, m = polyfit(myin, myout, 1)\n",
    "\n",
    "plt.plot(myin, myout, '.')\n",
    "plt.plot(myin, b + m * myin, '-')\n",
    "\n",
    "# Display formula on plot\n",
    "plt.text(80,-20, f\"dc/dt = {round(b,2)} + {round(m,2)} Input\", \n",
    "         horizontalalignment=\"left\", \n",
    "         fontsize = 16, \n",
    "         color = \"b\")\n",
    "plt.show()"
   ]
  },
  {
   "cell_type": "markdown",
   "id": "6a230cbd-9571-44bc-9d43-1cca904a0ab7",
   "metadata": {
    "id": "6a230cbd-9571-44bc-9d43-1cca904a0ab7"
   },
   "source": [
    "## A Formula for Newton's Law of Heating and Cooling\n",
    "---\n",
    "\n",
    "<font color = \"blue\">**Newton's Law of Heating and Cooling**</font> states that the temperature $T$ of an object at time $t$\n",
    "changes at a rate which is proportional to the difference of its temperature and the\n",
    "temperature of its surrounding:\n",
    "\n",
    "$$\\color{blue}{\\large \\boxed{\\frac{dT}{dt} = -k(T-A)}}, $$\n",
    "\n",
    "where $A$ is a constant that denotes the ambient temperature and $k>0$ is a constant that depends on the object."
   ]
  },
  {
   "cell_type": "markdown",
   "id": "294de0c6",
   "metadata": {
    "id": "294de0c6"
   },
   "source": [
    "## <a name='08quest5'>Question 5:</a>\n",
    "---\n",
    "\n",
    "Based on the model you found in [Problem 4](#08quest4), determine the ambient temperature of the room in which the coffee in [Problem 1](#08quest1) is cooling. \n",
    "\n",
    "### Solution to Question 5:\n",
    "---\n",
    "\n",
    "<br> <br> <br> <br> <br>\n"
   ]
  },
  {
   "cell_type": "markdown",
   "id": "00b5d746-60f5-4ff7-b569-d5ff633657bf",
   "metadata": {
    "id": "00b5d746-60f5-4ff7-b569-d5ff633657bf"
   },
   "source": [
    "## <a name='08quest6'>Question 6:</a>\n",
    "---\n",
    "\n",
    "What happens as $\\mathbf{t \\to \\infty}$ if the initial temperature $\\mathbf{T_0>A}$? If the initial temperature $\\mathbf{T_0 < A}$? \n",
    "\n",
    "### Solution to Question 6:\n",
    "---\n",
    "\n",
    "<br> <br> <br> <br> <br>\n"
   ]
  },
  {
   "cell_type": "markdown",
   "id": "eb74e7b7-092e-44ee-801a-d928951f11b1",
   "metadata": {
    "id": "d1781d52"
   },
   "source": [
    "# Practice: Applications to Economics\n",
    "---"
   ]
  },
  {
   "cell_type": "markdown",
   "id": "e595ad63-54b8-4ace-b25f-1098af426a0b",
   "metadata": {
    "id": "d1781d52"
   },
   "source": [
    "## <a name='08quest7'>Question 7:</a>\n",
    "---\n",
    "\n",
    "Let $S(p)$ denote the number of units of a particular commodity supplied to the market at a price of $p$ dollars per unit, and let $D(p)$ denote the corresponding number of units demanded by the market at the same price.\n",
    "\n",
    "- In static circumstances, market equilibrium occurs at the price where demand equals supply.\n",
    "- However, certain economic models consider a more dynamic economy in which price, supply, and demand are assumed to vary with time.\n",
    "- One of these, the Evans price adjustment model, assumes that the rate of change of price with respect to time $t$ is proportional to the shortage, which is the difference between the quantity demanded and the quantity supplied."
   ]
  },
  {
   "cell_type": "markdown",
   "id": "91c1c825-9a2f-4664-8f21-710ccd80632a",
   "metadata": {
    "id": "28686c59"
   },
   "source": [
    "### <a name='08quest7a'>Question 7a:</a>\n",
    "---\n",
    "\n",
    "Write a differential equation for the rate of the change of the price of the good with respect to time. \n",
    "\n",
    "#### Solution to Question 7a:\n",
    "---\n",
    "\n",
    "<br> <br> <br> <br> <br>"
   ]
  },
  {
   "cell_type": "markdown",
   "id": "3f83f50a-330a-44d9-b748-cd77446e3c43",
   "metadata": {
    "id": "28686c59"
   },
   "source": [
    "### <a name='08quest7b'>Question 7b:</a>\n",
    "---\n",
    "\n",
    "If we assume that supply and demand are linear functions given by \n",
    "$$ S(p) = 2+p \\quad \\mbox{ and } \\quad D(p)=8-2p, $$\n",
    "find a general solution to the differential equation in [Question 7a](#08quest7a).\n",
    "\n",
    "#### Solution to Question 7b:\n",
    "---\n",
    "\n",
    "<br> <br> <br> <br> <br>"
   ]
  },
  {
   "cell_type": "markdown",
   "id": "05cb3df9-19f6-4d8e-ab88-09eb054143b3",
   "metadata": {
    "id": "28686c59"
   },
   "source": [
    "### <a name='08quest7c'>Question 7c:</a>\n",
    "---\n",
    "\n",
    "If the price is $\\$5$ at time $t=0$ and the price is $\\$3$ at time $t=2$, determine what happens to $p$ in the long run.\n",
    "\n",
    "#### Solution to Question 7c:\n",
    "---\n",
    "\n",
    "<br> <br> <br> <br> <br>"
   ]
  },
  {
   "cell_type": "markdown",
   "id": "86cc91a1-a033-4f67-881a-ed262f29fbc2",
   "metadata": {
    "id": "4bb67aa5"
   },
   "source": [
    "# Practice: Applications to Forensic Science\n",
    "---"
   ]
  },
  {
   "cell_type": "markdown",
   "id": "c499100f-793b-49d9-a395-5a25fc955164",
   "metadata": {
    "id": "4bb67aa5"
   },
   "source": [
    "## <a name='08quest8'>Question 8:</a>\n",
    "---\n",
    "\n",
    "A detective finds a murder victim at 9 am. The temperature of the body is measured at $90.3^{\\circ}$F. One hour later, the temperature of the body is $89.0^{\\circ}$F. The temperature of the room has been maintained at a constant $68^{\\circ}$F."
   ]
  },
  {
   "cell_type": "markdown",
   "id": "45bed2aa-3d14-427e-aca2-61226591cacf",
   "metadata": {
    "id": "9c2a7b46"
   },
   "source": [
    "### <a name='08quest8a'>Question 8a:</a>\n",
    "---\n",
    "\n",
    "Assuming the temperature, $T$, of the body obeys Newton's Law of\n",
    "Cooling, write a differential equation for $T$. Your equation will include\n",
    "the constant $k$ (for now). \n",
    "\n",
    "#### Solution to Question 8a:\n",
    "---\n",
    "\n",
    "<br> <br> <br> <br> <br>"
   ]
  },
  {
   "cell_type": "markdown",
   "id": "188e41d6-ef1c-455d-92d7-c18e0d92f5d0",
   "metadata": {
    "id": "9c2a7b46"
   },
   "source": [
    "### <a name='08quest8b'>Question 8b:</a>\n",
    "---\n",
    "\n",
    "Solve the differential equation to estimate the time the murder occurred. \n",
    "\n",
    "\n",
    "#### Solution to Question 8b:\n",
    "---\n",
    "\n",
    "<br> <br> <br> <br> <br>"
   ]
  },
  {
   "cell_type": "markdown",
   "id": "2ed7eace",
   "metadata": {
    "id": "2ed7eace"
   },
   "source": [
    "# Creative Commons License Information\n",
    "---\n",
    "\n",
    "<a rel=\"license\" href=\"https://creativecommons.org/licenses/by-nc-sa/4.0/\"><img alt=\"Creative Commons License\" style=\"border-width:0\" src=\"https://i.creativecommons.org/l/by-nc-sa/4.0/80x15.png\" /></a><br /><span xmlns:dct=\"http://purl.org/dc/terms/\" property=\"dct:title\">Elementary Differential Equations</span> by <a xmlns:cc=\"http://creativecommons.org/ns#\" href=\"https://github.com/CU-Denver-MathStats-OER/ODEs\" property=\"cc:attributionName\" rel=\"cc:attributionURL\">Adam Spiegler, Jonathon Hirschi, and Dmitry Ostrovskiy</a> is licensed under a <a rel=\"license\" href=\"http://creativecommons.org/licenses/by-nc-sa/4.0/\">Creative Commons Attribution-NonCommercial-ShareAlike 4.0 International License</a>.<br />Based on a work at <a xmlns:dct=\"http://purl.org/dc/terms/\" href=\"https://github.com/CU-Denver-MathStats-OER/ODEs\" rel=\"dct:source\">https://github.com/CU-Denver-MathStats-OER/ODEs</a> and original content created by Rasmussen, C., Keene, K. A., Dunmyre, J., & Fortune, N. (2018). *Inquiry oriented differential equations: Course materials*. Available at <a href=\"https://iode.wordpress.ncsu.edu\">https://iode.wordpress.ncsu.edu</a>."
   ]
  },
  {
   "cell_type": "code",
   "execution_count": null,
   "id": "lRHblSceH4p6",
   "metadata": {
    "id": "lRHblSceH4p6"
   },
   "outputs": [],
   "source": []
  }
 ],
 "metadata": {
  "colab": {
   "collapsed_sections": [],
   "name": "08-Application-Heating-and-Cooling.ipynb",
   "provenance": []
  },
  "kernelspec": {
   "display_name": "Python 3",
   "language": "python",
   "name": "python3"
  },
  "language_info": {
   "codemirror_mode": {
    "name": "ipython",
    "version": 3
   },
   "file_extension": ".py",
   "mimetype": "text/x-python",
   "name": "python",
   "nbconvert_exporter": "python",
   "pygments_lexer": "ipython3",
   "version": "3.8.8"
  }
 },
 "nbformat": 4,
 "nbformat_minor": 5
}
