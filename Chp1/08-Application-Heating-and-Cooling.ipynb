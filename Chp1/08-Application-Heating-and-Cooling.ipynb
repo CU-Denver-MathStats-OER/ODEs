{
 "cells": [
  {
   "cell_type": "markdown",
   "id": "814d707e",
   "metadata": {},
   "source": [
    "# Cooling Coffee\n",
    "---\n",
    "\n",
    "A group of students want to develop a rate of change equation to describe the cooling rate for hot coffee in order that they can make predictions about other cups of cooling coffee. Their idea is to use a temperature probe to collect data on the temperature of the coffee as it changes over time and then to use this data to develop a rate of change equation. \n",
    "\n",
    "The data they collected is shown in the table below. The temperature $C$ (in degrees Fahrenheit) was recorded every 2 minutes over a 14 minute period. \n",
    "\n",
    "Time (min) | Temp. ( degree F) | $ \\frac{dC}{dt}$ ( degree F per min)    \n",
    ":-:|:-:|:-:\n",
    "0 | 160.3 |                                             \n",
    "2 | 120.4 |    \n",
    "4 | 98.1 |   \n",
    "6 | 84.8 |    \n",
    "8 | 78.5 |    \n",
    "10 | 74.4 |    \n",
    "12 | 72.1 |    \n",
    "14 | 71.5|    \n"
   ]
  },
  {
   "cell_type": "markdown",
   "id": "2df9cb5a-1c4f-402d-885b-46d68ddb9000",
   "metadata": {},
   "source": [
    "## <a name='08quest1'>Question 1:</a>\n",
    "---\n",
    "\n",
    "Figure out a way to use this data to fill in the third column whose values approximate  $\\displaystyle\\frac{dC}{dt}$, where $C$ is the temperature of the coffee. \n",
    "\n",
    "### Solution to Question 1a:\n",
    "---\n",
    "\n",
    "<br> <br> <mark> Use the Python code cell below to help with the calculations</mark> <br> <br> <br> <br>"
   ]
  },
  {
   "cell_type": "code",
   "execution_count": null,
   "id": "9d513f87-90c9-494d-a740-89a1725d0187",
   "metadata": {},
   "outputs": [],
   "source": [
    "import numpy as np\n",
    "\n",
    "# Create vector of values for t\n",
    "t = np.arange(0, 16, 2)  \n",
    "\n",
    "# Create vector of temperature values, c\n",
    "c = np.array([160.3, 120.4, 98.1, 84.8, 78.5, 74.4, 72.1, 71.5])  \n",
    "\n",
    "# Create vector to save each approx for dC/dt\n",
    "diff = np.zeros(8)\n",
    "\n",
    "########################################################\n",
    "# Student to do: Replace ?? with an appropriate formula\n",
    "########################################################\n",
    "diff[0] = ??  # approx for dc/dt at t=0\n",
    "diff[1] = ??  # approx for dc/dt at t=2\n",
    "diff[2] = ??  # approx for dc/dt at t=4\n",
    "diff[3] = ??  # approx for dc/dt at t=6\n",
    "diff[4] = ??  # approx for dc/dt at t=8\n",
    "diff[5] = ??  # approx for dc/dt at t=10\n",
    "diff[6] = ??  # approx for dc/dt at t=12\n",
    "diff[7] = ??  # approx for dc/dt at t=14\n",
    "\n",
    "print(diff)"
   ]
  },
  {
   "cell_type": "markdown",
   "id": "8e206db8-b852-4d7e-acaa-c8eacf18a607",
   "metadata": {},
   "source": [
    "## <mark> REMOVE SOLUTION BELOW </mark>"
   ]
  },
  {
   "cell_type": "code",
   "execution_count": null,
   "id": "0b74c794-8bdf-464d-a502-db3071e05627",
   "metadata": {},
   "outputs": [],
   "source": [
    "import numpy as np\n",
    "\n",
    "# Create vector of values for t\n",
    "t = np.arange(0, 16, 2)  \n",
    "\n",
    "# Create vector of temperature values, c\n",
    "c = np.array([160.3, 120.4, 98.1, 84.8, 78.5, 74.4, 72.1, 71.5])  \n",
    "\n",
    "# Create vector to save each approx for dC/dt\n",
    "diff = np.zeros(8)\n",
    "\n",
    "diff[0] = (c[1]-c[0])/2\n",
    "diff[7] = (c[7]-c[6])/2\n",
    "\n",
    "for i in range(1, 6):\n",
    "    diff[i] = (c[i+1] - c[i-1])/4\n",
    "\n",
    "print(diff)"
   ]
  },
  {
   "cell_type": "markdown",
   "id": "15d9077b-9361-47cf-ba4f-70b3f09bbf37",
   "metadata": {},
   "source": [
    "## <a name='08quest2'>Question 2:</a>\n",
    "---\n",
    "\n",
    " Do you expect $\\displaystyle\\frac{dC}{dt}$ to depend on just the temperature $C$, on just the time $t$, or both the temperature $C$ and the time $t$?\n",
    " \n",
    "### Solution to Question 2:\n",
    "---\n",
    "\n",
    "<br> <br> <br> <br> <br> <br>"
   ]
  },
  {
   "cell_type": "markdown",
   "id": "36f5de9f-9ccc-49ee-a781-eb25ad11d621",
   "metadata": {},
   "source": [
    "## <a name='08quest3'>Question 3:</a>\n",
    "---\n",
    "\n",
    "\n",
    "Rougly sketch below your best guess for the graph of $\\displaystyle\\frac{dC}{dt}$ on the axes below. Label the variable you decided to plot on the horizontal axis.\n",
    "\n",
    "### Solution to Question 3:\n",
    "---\n",
    "\n",
    "<br> <br>\n",
    "\n",
    "<img src=\"Images/08dCdt.png\" width=\"480\">\n",
    "\n",
    "<br> <br>"
   ]
  },
  {
   "cell_type": "markdown",
   "id": "f391222e-d8d1-4654-a85a-3847f72b1136",
   "metadata": {},
   "source": [
    "## <a name='08quest4'>Question 4:</a>\n",
    "---\n",
    "\n",
    "In the code cell below, the object `myin` is the input for the model for $\\dfrac{dC}{dt}$. In the code below, define `myin` to be either `t` or `c` depending on your answers to [Problem 2](#08quest2) and [Problem 3](#08quest3). Then run the code to plot and find an equation that best fits your data.\n",
    " \n",
    "### Solution to Question 4:\n",
    "---\n",
    "\n",
    "<br> <br> <mark> Edit one line of code in the cell below and run.</mark> <br> <br> <br> <br>"
   ]
  },
  {
   "cell_type": "code",
   "execution_count": null,
   "id": "1e2627fd-0de7-4ae5-aecd-04ef4d378e3d",
   "metadata": {
    "tags": []
   },
   "outputs": [],
   "source": [
    "from numpy.polynomial.polynomial import polyfit\n",
    "import matplotlib.pyplot as plt\n",
    "\n",
    "# Note arrays t, c, and diff are defined in previous code cell above. \n",
    "\n",
    "################################################################\n",
    "# Student to do: Replace the ?? in the line of code below.\n",
    "################################################################\n",
    "\n",
    "myin = ??  # Replace the ?? with your input (either t or c)\n",
    "myout = diff\n",
    "\n",
    "b, m = polyfit(myin, myout, 1)\n",
    "\n",
    "plt.plot(myin, myout, '.')\n",
    "plt.plot(myin, b + m * myin, '-')\n",
    "\n",
    "# Display formula on plot\n",
    "plt.text(80,-20, f\"dc/dt = {round(b,2)} + {round(m,2)} Input\", \n",
    "         horizontalalignment=\"left\", \n",
    "         fontsize = 16, \n",
    "         color = \"b\")\n",
    "plt.show()"
   ]
  },
  {
   "cell_type": "markdown",
   "id": "8c734bc7-5fbb-4b96-96dc-a52404323692",
   "metadata": {},
   "source": [
    "## <mark> REMOVE SOLUTION BELOW </mark>"
   ]
  },
  {
   "cell_type": "code",
   "execution_count": null,
   "id": "8e7fb43e-0466-46ba-b477-01eecd800757",
   "metadata": {},
   "outputs": [],
   "source": [
    "from numpy.polynomial.polynomial import polyfit\n",
    "import matplotlib.pyplot as plt\n",
    "\n",
    "# Note arrays t, c, and diff are defined in previous code cell above. \n",
    "\n",
    "################################################################\n",
    "# Student to do: Replace the ?? in the two lines of code below.\n",
    "################################################################\n",
    "\n",
    "newc = c[1:6]\n",
    "newdiff = diff[1:6]\n",
    "\n",
    "myin = c  # Replace the ?? with your input (either t, c, or diff)\n",
    "myout = diff  # Replace the ?? with your output (either t, c, or diff)\n",
    "\n",
    "b, m = polyfit(myin, myout, 1)\n",
    "\n",
    "plt.plot(myin, myout, '.')\n",
    "plt.plot(myin, b + m * myin, '-')\n",
    "# text is right-aligned\n",
    "\n",
    "# Display formula on plot\n",
    "plt.text(80,-20, f\"dc/dt = {round(b,2)} + {round(m,2)} C\", \n",
    "         horizontalalignment=\"left\", \n",
    "         fontsize = 16, \n",
    "         color = \"b\")\n",
    "\n",
    "plt.show()"
   ]
  },
  {
   "cell_type": "markdown",
   "id": "6a230cbd-9571-44bc-9d43-1cca904a0ab7",
   "metadata": {},
   "source": [
    "## A Formula for Newton's Law of Heating and Cooling\n",
    "---\n",
    "\n",
    "<font color = \"blue\">**Newton's Law of Heating and Cooling**</font> states that the temperature $T$ of an object at time $t$\n",
    "changes at a rate which is proportional to the difference of its temperature and the\n",
    "temperature of its surrounding:\n",
    "\n",
    "$$\\color{blue}{\\large \\boxed{\\frac{dT}{dt} = -k(T-A)}}, $$\n",
    "\n",
    "where $A$ is a constant that denotes the ambient temperature and $k>0$ is a constant that depends on the object."
   ]
  },
  {
   "cell_type": "markdown",
   "id": "294de0c6",
   "metadata": {},
   "source": [
    "## <a name='08quest5'>Question 5:</a>\n",
    "---\n",
    "\n",
    "Based on the model you found in [Problem 4](#08quest4), determine the ambient temperature of the room in which the coffee in [Problem 1](#08quest1) is cooling. \n",
    "### Solution to Question 5:\n",
    "---\n",
    "\n",
    "<br><br><br><br><br><br>\n"
   ]
  },
  {
   "cell_type": "markdown",
   "id": "00b5d746-60f5-4ff7-b569-d5ff633657bf",
   "metadata": {},
   "source": [
    "## <a name='08quest6'>Question 6:</a>\n",
    "---\n",
    "\n",
    "What happens as $\\mathbf{t \\to \\infty}$ if the initial temperature $\\mathbf{T_0>A}$? If the initial temperature $\\mathbf{T_0 < A}$? \n",
    "\n",
    "### Solution to Question 6:\n",
    "---\n",
    "\n",
    "<br><br><br><br><br><br>\n"
   ]
  },
  {
   "cell_type": "markdown",
   "id": "d1781d52",
   "metadata": {},
   "source": [
    "# Practice: Applications to Economics\n",
    "---\n",
    "\n",
    "Let $S(p)$ denote the number of units of a particular commodity supplied to the market at a price of $p$ dollars per unit, and let $D(p)$ denote the corresponding number of units demanded by the market at the same price.\n",
    "\n",
    "- In static circumstances, market equilibrium occurs at the price where demand equals supply.\n",
    "- However, certain economic models consider a more dynamic economy in which price, supply, and demand are assumed to vary with time.\n",
    "- One of these, the Evans price adjustment model, assumes that the rate of change of price with respect to time $t$ is proportional to the shortage, which is the difference between the quantity demanded and the quantity supplied.\n"
   ]
  },
  {
   "cell_type": "markdown",
   "id": "28686c59",
   "metadata": {},
   "source": [
    "## <a name='08quest7'>Question 7:</a>\n",
    "---\n",
    "\n",
    "a. Write a differential equation for the rate of the change of the price of the good with respect to time. \n",
    "\n",
    "\n",
    "b. If we assume that supply and demand are linear functions given by \n",
    "$$ S(p) = 2+p \\quad \\mbox{ and } \\quad D(p)=8-2p, $$\n",
    "find a general solution to the differential equation in part (a).\n",
    "\n",
    "### Solution to Question 7a:\n",
    "---\n",
    "\n",
    "<br> <br> <br> <br> <br> <br>\n",
    "\n",
    "\n",
    "### Solution to Question 7b:\n",
    "---\n",
    "\n",
    "<br> <br> <br> <br> <br> <br>\n"
   ]
  },
  {
   "cell_type": "markdown",
   "id": "4bb67aa5",
   "metadata": {},
   "source": [
    "# Practice: Applications to Forensic Science\n",
    "---\n",
    "\n",
    "A detective finds a murder victim at 9 am. The temperature of the body\n",
    "is measured at $90.4^{\\circ}$F. One hour later, the\n",
    "temperature of the body is $89.0^{\\circ}$F. The\n",
    "temperature of the room has been maintained at a constant\n",
    "$68^{\\circ}$F.\n"
   ]
  },
  {
   "cell_type": "markdown",
   "id": "9c2a7b46",
   "metadata": {},
   "source": [
    "## <a name='08quest8'>Question 8:</a>\n",
    "---\n",
    "\n",
    "a. Assuming the temperature, $T$, of the body obeys Newton's Law of\n",
    "Cooling, write a differential equation for $T$. Your equation will include\n",
    "the constant $k$ (for now). \n",
    "\n",
    "\n",
    "b. Solve the differential equation to estimate the time the murder occurred. \n",
    "\n",
    "\n",
    "### Solution to Question 8a:\n",
    "---\n",
    "\n",
    "<br> <br> <br> <br> <br> <br>\n",
    "\n",
    "\n",
    "### Solution to Question 8b:\n",
    "---\n",
    "\n",
    "<br> <br> <br> <br> <br> <br>\n"
   ]
  },
  {
   "cell_type": "markdown",
   "id": "2ed7eace",
   "metadata": {},
   "source": [
    "## Creative Commons License Information\n",
    "<a rel=\"license\" href=\"https://creativecommons.org/licenses/by-nc-sa/4.0/\"><img alt=\"Creative Commons License\" style=\"border-width:0\" src=\"https://i.creativecommons.org/l/by-nc-sa/4.0/80x15.png\" /></a><br /><span xmlns:dct=\"http://purl.org/dc/terms/\" property=\"dct:title\">Elementary Differential Equations</span> by <a xmlns:cc=\"http://creativecommons.org/ns#\" href=\"https://github.com/CU-Denver-MathStats-OER/ODEs\" property=\"cc:attributionName\" rel=\"cc:attributionURL\">Adam Spiegler, Jonathon Hirschi, and Dmitry Ostrovskiy</a> is licensed under a <a rel=\"license\" href=\"http://creativecommons.org/licenses/by-nc-sa/4.0/\">Creative Commons Attribution-NonCommercial-ShareAlike 4.0 International License</a>.<br />Based on a work at <a xmlns:dct=\"http://purl.org/dc/terms/\" href=\"https://github.com/CU-Denver-MathStats-OER/ODEs\" rel=\"dct:source\">https://github.com/CU-Denver-MathStats-OER/ODEs</a> and original content created by Rasmussen, C., Keene, K. A., Dunmyre, J., & Fortune, N. (2018). *Inquiry oriented differential equations: Course materials*. Available at <a href=\"https://iode.wordpress.ncsu.edu\">https://iode.wordpress.ncsu.edu</a>."
   ]
  }
 ],
 "metadata": {
  "kernelspec": {
   "display_name": "Python 3",
   "language": "python",
   "name": "python3"
  },
  "language_info": {
   "codemirror_mode": {
    "name": "ipython",
    "version": 3
   },
   "file_extension": ".py",
   "mimetype": "text/x-python",
   "name": "python",
   "nbconvert_exporter": "python",
   "pygments_lexer": "ipython3",
   "version": "3.8.8"
  }
 },
 "nbformat": 4,
 "nbformat_minor": 5
}
