{
 "cells": [
  {
   "cell_type": "markdown",
   "id": "0929ece8-7dd7-4270-8ff8-9a4233bde8e7",
   "metadata": {},
   "source": [
    "[![Open In Colab](https://colab.research.google.com/assets/colab-badge.svg)](https://githubtocolab.com/CU-Denver-MathStats-OER/ODEs/blob/main/Chp1/07-Mixture-Applications.ipynb)\n"
   ]
  },
  {
   "cell_type": "markdown",
   "id": "cbf9aa22",
   "metadata": {
    "id": "cbf9aa22",
    "tags": [],
    "toc-hr-collapsed": true
   },
   "source": [
    "# Lab 1.7: Applications to Compartmental Analysis\n",
    "---\n",
    "<font color=\"dodgerblue\">Reading: Section 4.1 from <a scr=\"https://math.libretexts.org/Bookshelves/Differential_Equations/Book%3A_Elementary_Differential_Equations_with_Boundary_Value_Problems_(Trench)/04%3A_Applications_of_First_Order_Equations/4.01%3A_Growth_and_Decay\"><font color='orange'>*Elementary Differential Equations with Boundary Value Problems* by William F. Trench</font></a> which is shared under a <a scr=\"https://creativecommons.org/licenses/by-nc-sa/3.0\"><font color='orange'>CC BY-NC-SA 3.0</font></a> license.</font>\n",
    "\n"
   ]
  },
  {
   "cell_type": "markdown",
   "id": "uTol97r9U2Y_",
   "metadata": {
    "id": "uTol97r9U2Y_"
   },
   "source": [
    "# One-Compartment Systems\n",
    "---\n",
    "\n",
    "A <font color=\"dodgerblue\">**one-compartment**</font> system consists of\n",
    "\n",
    "- $x(t)$ that represents the amount of a substance (such as salt or population of rabbits) at time $t$.\n",
    "- an input rate of $x$. \n",
    "- an output rate of $x$.\n",
    "\n",
    "$$\\color{dodgerblue}{\\boxed{\\large \\frac{dx}{dt} = \\mbox{input rate} - \\mbox{output rate} }}$$"
   ]
  },
  {
   "cell_type": "markdown",
   "id": "589447a9-4674-4335-a0bf-51d1b0420ba8",
   "metadata": {
    "id": "8fefd0fa",
    "tags": [],
    "toc-hr-collapsed": true
   },
   "source": [
    "## <a name='07quest1'>Question 1:</a>\n",
    "---\n",
    "\n",
    "A brine solution of salt water that has concentration $0.05$ kg per L flows at a constant rate of 6 L per minute into a tank which is initially contains 50 L of a 1% salt solution.   The brine solution flows out  of the tank at a rate of 4 L per minute. Let $x(t)$ denote the mass of the salt in the tank at time $t$ (in minutes). *Note that 1% salt solution means 1 kg of salt per 100 L of solution.*"
   ]
  },
  {
   "cell_type": "markdown",
   "id": "4b55edaa-a8b9-419e-9d84-6fd278a460fe",
   "metadata": {
    "id": "8fefd0fa",
    "tags": [],
    "toc-hr-collapsed": true
   },
   "source": [
    "### <a name='07quest1a'>Question 1a:</a>\n",
    "---\n",
    "\n",
    "What is the input rate of $x$?\n",
    "\n",
    "#### Solution to Question 1a:\n",
    "---\n",
    "\n",
    "<br> <br> <br> <br> <br>"
   ]
  },
  {
   "cell_type": "markdown",
   "id": "c515d2ef-a514-4300-a9dd-4904b8ce8a5a",
   "metadata": {
    "id": "8fefd0fa",
    "tags": [],
    "toc-hr-collapsed": true
   },
   "source": [
    "### <a name='07quest1b'>Question 1b:</a>\n",
    "---\n",
    "\n",
    "What is the output rate of $x$?\n",
    "\n",
    "#### Solution to Question 1b:\n",
    "---\n",
    "\n",
    "<br> <br> <br> <br> <br>"
   ]
  },
  {
   "cell_type": "markdown",
   "id": "66929f38-bf39-422e-b894-3c92d8565cb3",
   "metadata": {
    "id": "8fefd0fa",
    "tags": [],
    "toc-hr-collapsed": true
   },
   "source": [
    "### <a name='07quest1c'>Question 1c:</a>\n",
    "---\n",
    "\n",
    "What is the initial mass of the salt in the tank?\n",
    "\n",
    "#### Solution to Question 1c:\n",
    "---\n",
    "\n",
    "<br> <br> <br> <br> <br>"
   ]
  },
  {
   "cell_type": "markdown",
   "id": "fd4fc840-4404-4dff-a2da-34b8250dc3d6",
   "metadata": {
    "id": "8fefd0fa",
    "tags": [],
    "toc-hr-collapsed": true
   },
   "source": [
    "### <a name='07quest1d'>Question 1d:</a>\n",
    "---\n",
    "\n",
    "Construct a model for this initial value problem (but do not solve it).\n",
    "\n",
    "#### Solution to Question 1d:\n",
    "---\n",
    "\n",
    "<br> <br> <br> <br> <br>"
   ]
  },
  {
   "cell_type": "markdown",
   "id": "a4e6c1c5-8b3e-4ba7-86be-6c2b81ad3a57",
   "metadata": {
    "id": "8fefd0fa",
    "tags": [],
    "toc-hr-collapsed": true
   },
   "source": [
    "### <a name='07quest1e'>Question 1e:</a>\n",
    "---\n",
    "\n",
    "What method(s) can we apply to solve the equation in [Question 1d](#07quest1d) (but don't solve it)?\n",
    "\n",
    "#### Solution to Question 1e:\n",
    "---\n",
    "\n",
    "<br> <br> <br> <br> <br> <br>"
   ]
  },
  {
   "cell_type": "markdown",
   "id": "801d5516",
   "metadata": {
    "id": "801d5516",
    "tags": [],
    "toc-hr-collapsed": true
   },
   "source": [
    "# Population Models\n",
    "---\n",
    "\n",
    "The <font color=\"dodgerblue\">**Malthusian law of population growth**</font> says the rate of change of the population, $\\frac{dP}{dt}$,\n",
    "is **directly proportional to the population present**, $P$, at time $t$:\n",
    "\n",
    "$$\\color{dodgerblue}{\\large \\boxed{\\frac{dP}{dt} = kP, \\quad P(0)=P_0}.}$$"
   ]
  },
  {
   "cell_type": "markdown",
   "id": "0fc60dcb",
   "metadata": {
    "id": "0fc60dcb",
    "tags": [],
    "toc-hr-collapsed": true
   },
   "source": [
    "## <a name='07quest2'>Question 2:</a>\n",
    "---\n",
    "\n",
    "Let $P$ denote the population of the world (in billions) $t$ years since $1960$. In 1960 the world's population was approximately 3 billion, and the population growth is model by\n",
    "$$\\frac{dP}{dt} =0.2P  , \\qquad \\ P(0)=3.$$ \n",
    "\n",
    "Solving this model gives $P(t)=3e^{0.02t}$, and predicts the population in 2021 is $10.16$ billion. \n",
    "\n",
    "Why do you think predicted value is different from the actual value? \n",
    "\n",
    "### Solution to Question 2:\n",
    "---\n",
    "\n",
    "<br> <br> <br> <br> <br>\n"
   ]
  },
  {
   "cell_type": "markdown",
   "id": "cd9c7c68",
   "metadata": {
    "id": "cd9c7c68",
    "tags": [],
    "toc-hr-collapsed": true
   },
   "source": [
    "## The Logistic Model\n",
    "---\n",
    "\n",
    "We can construct our population model by considering:\n",
    "\n",
    "$$\\color{dodgerblue}{\\large \\frac{dP}{dt} = \\bigg( \\mbox{Birth Rate} \\bigg) - \\bigg( \\mbox{Death Rate} \\bigg).}$$\n",
    "\n",
    "Competition within the population causes the populations to decrease (disease, murder, natural disasters, war, lack of food/water). If we assume the **death rate is proportional to the total number of possible two-party interactions**, we get:\n",
    "\n",
    "$$ \\mbox{Death rate} = k_2 \\left( \\begin{array}{c} P\\\\ 2 \\end{array} \\right) = k_2 \\left( \\frac{P(P-1)}{2} \\right) .$$\n",
    "\n",
    "Note: $\\left( \\begin{array}{c} P\\\\ 2 \\end{array} \\right)$ denotes \"$P$ choose 2\", and in general we have\n",
    "$$ \\left( \\begin{array}{c} n\\\\ k \\end{array} \\right) = \\frac{n!}{k!(n-k)!}.$$\n",
    "\n",
    "Taking both the birth and death rates into account, we get the <font color=blue>Logistic model</font> for population change which we simplify:\n",
    "\n",
    "$$\\frac{dP}{dt} = \\bigg( \\hspace{1in} \\mbox{??} \\hspace{1in}  \\bigg) - \\bigg(  \\hspace{1in} \\mbox{??} \\hspace{1in} \\bigg) .$$\n"
   ]
  },
  {
   "cell_type": "markdown",
   "id": "ebb5ea8b",
   "metadata": {
    "id": "ebb5ea8b"
   },
   "source": [
    "## <a name='07quest3'>Question 3:</a>\n",
    "---\n",
    "\n",
    "Replace the <mark>??</mark> in the formula above with an appropriate expression. Then show that the model above can be rewritten in the form $\\dfrac{dP}{dt} = -AP(P-L)$ where $A$ and $L$ are positive constants.\n",
    "\n",
    "### Solution to Question 3:\n",
    "---\n",
    "\n",
    "<br> <br> <br> <mark>Enter your answers in place of the two ??'s in the previous Markdown cell.</mark><br> <br> <br>\n"
   ]
  },
  {
   "cell_type": "markdown",
   "id": "c4fdf2da",
   "metadata": {
    "id": "c4fdf2da",
    "tags": []
   },
   "source": [
    "# Practice: Population Model for Rabbits\n",
    "---\n",
    "\n",
    "| Rabbits in Australian Outback 1938 | Map of Rabbit proof Fence | Rabbit Proof Fence in 2005|\n",
    "|------------------------------------|---------------------------|------------|\n",
    "| <a title=\"CSIRO, CC BY 3.0 &lt;https://creativecommons.org/licenses/by/3.0&gt;, via Wikimedia Commons\" href=\"https://commons.wikimedia.org/wiki/File:CSIRO_ScienceImage_1516_Rabbits_around_a_Water_Trough.jpg\"><img width=\"512\" alt=\"CSIRO ScienceImage 1516 Rabbits around a Water Trough\" src=\"https://upload.wikimedia.org/wikipedia/commons/thumb/8/89/CSIRO_ScienceImage_1516_Rabbits_around_a_Water_Trough.jpg/512px-CSIRO_ScienceImage_1516_Rabbits_around_a_Water_Trough.jpg\"></a> | <a title=\"No machine-readable author provided. 17177 assumed (based on copyright claims)., CC BY-SA 3.0 &lt;http://creativecommons.org/licenses/by-sa/3.0/&gt;, via Wikimedia Commons\" href=\"https://commons.wikimedia.org/wiki/File:Rabbit_proof_fence_in_western_australia.jpg\"><img width=\"256\" alt=\"Rabbit proof fence in western australia\" src=\"https://upload.wikimedia.org/wikipedia/commons/thumb/a/ad/Rabbit_proof_fence_in_western_australia.jpg/256px-Rabbit_proof_fence_in_western_australia.jpg\"></a> | <a title=\"Roguengineer, CC BY-SA 3.0 &lt;http://creativecommons.org/licenses/by-sa/3.0/&gt;, via Wikimedia Commons\" href=\"https://commons.wikimedia.org/wiki/File:Rabbit_proof_fence_in_2005.jpg\"><img width=\"512\" alt=\"Rabbit proof fence in 2005\" src=\"https://upload.wikimedia.org/wikipedia/commons/b/bc/Rabbit_proof_fence_in_2005.jpg\"></a> |\n",
    "\n",
    "<font size=\"-1\">Image Credits [Wikimedia Commons](https://commons.wikimedia.org/): \n",
    "- No machine-readable author provided. 17177 assumed (based on copyright claims)., CC BY-SA 3.0 <http://creativecommons.org/licenses/by-sa/3.0/>, via Wikimedia Commons</font>\n",
    "- <font size=\"-1\">Roguengineer, CC BY-SA 3.0 <http://creativecommons.org/licenses/by-sa/3.0/>, via Wikimedia Commons</font>\n"
   ]
  },
  {
   "cell_type": "markdown",
   "id": "e1e52273-0291-440b-bcd1-4f60a7923710",
   "metadata": {
    "id": "c849e9b3",
    "tags": []
   },
   "source": [
    "## <a name='07quest4'>Question 4:</a>\n",
    "---\n",
    "\n",
    "A population of rabbits changes over time $t$ (in years) according to the logistic model\n",
    "$$ \\frac{dP}{dt} = 3P-\\frac{1}{20}P^2. $$"
   ]
  },
  {
   "cell_type": "markdown",
   "id": "fb587ed5-c40a-4567-b96d-056a97d0c6f1",
   "metadata": {
    "id": "c849e9b3",
    "tags": []
   },
   "source": [
    "### <a name='07quest4a'>Question 4a:</a>\n",
    "---\n",
    "\n",
    "For what initial population sizes $P_0$ will the population grow at first?  <a id =\"07quest4a\"></a>\n",
    "\n",
    "#### Solution to Question 4a:\n",
    "---\n",
    "\n",
    "<br> <br> <br> <br> <br>"
   ]
  },
  {
   "cell_type": "markdown",
   "id": "8a05f9ab-fb45-4afe-81de-253d0653e409",
   "metadata": {
    "id": "c849e9b3",
    "tags": []
   },
   "source": [
    "### <a name='07quest4b'>Question 4b:</a>\n",
    "---\n",
    "\n",
    "For what initial population sizes $P_0$ will the population decrease at first?\n",
    "\n",
    "#### Solution to Question 4b:\n",
    "---\n",
    "\n",
    "<br> <br> <br> <br> <br>"
   ]
  },
  {
   "cell_type": "markdown",
   "id": "d137bb79-bb99-44f2-ad57-0205ffdd40c8",
   "metadata": {
    "id": "c849e9b3",
    "tags": []
   },
   "source": [
    "### <a name='07quest4c'>Question 4c:</a>\n",
    "---\n",
    "\n",
    "For what initial population sizes $P_0$ will the population never change?  \n",
    "\n",
    "#### Solution to Question 4c:\n",
    "---\n",
    "\n",
    "<br> <br> <br> <br> <br>"
   ]
  },
  {
   "cell_type": "markdown",
   "id": "7d544779-1021-4ea0-8bda-a46490a37974",
   "metadata": {
    "id": "c849e9b3",
    "tags": []
   },
   "source": [
    "### <a name='07quest4d'>Question 4d:</a>\n",
    "---\n",
    "\n",
    "Explain, in practical terms, why answers in (a)-(c) makes sense. \n",
    "\n",
    "#### Solution to Question 4d:\n",
    "---\n",
    "\n",
    "<br> <br> <br> <br> <br>"
   ]
  },
  {
   "cell_type": "markdown",
   "id": "50c255de-7157-48c2-853a-3731a78a7477",
   "metadata": {
    "id": "c849e9b3",
    "tags": []
   },
   "source": [
    "### <a name='07quest4e'>Question 4e:</a>\n",
    "---\n",
    "\n",
    "If the initial rabbit population is $P_0=P(0)=50$, find a solution to the initial value problem and find a formula for the population $P$ as a function of time $t$.\n",
    "\n",
    "#### Solution to Question 4e:\n",
    "---\n",
    "\n",
    "<br> <br> <br> \n",
    "<mark>You may solve \"by hand\" without technology or feel free to play around with the code cells below to help with some of the computations.\n",
    "</mark>\n",
    "<br> <br> <br>"
   ]
  },
  {
   "cell_type": "code",
   "execution_count": null,
   "id": "esVlOwiNcU0_",
   "metadata": {
    "id": "esVlOwiNcU0_"
   },
   "outputs": [],
   "source": [
    "# Partial Fraction Decomposition \n",
    "import sympy as sym  # import sympy\n",
    "\n",
    "# t, P are variables, B is constant of integration\n",
    "t, P, B = sym.symbols('t, P, B')  \n",
    "\n",
    "#################################\n",
    "# STUDENT TO DO:\n",
    "# Replace ?? with an expression\n",
    "#################################\n",
    "left = ?? # Left side of the equation after separating ODE\n",
    "\n",
    "leftsimp = left.apart(P)  # Partial frac decomp left side\n",
    "\n",
    "print(leftsimp)"
   ]
  },
  {
   "cell_type": "code",
   "execution_count": null,
   "id": "R_mGu7JeeJsQ",
   "metadata": {
    "id": "R_mGu7JeeJsQ"
   },
   "outputs": [],
   "source": [
    "# Integrate both sides after decomposing left side\n",
    "\n",
    "leftint = sym.integrate(leftsimp, P)  # integrate left\n",
    "rightint = sym.integrate(-1/20, t) + B  # integrate right with +B added\n",
    "\n",
    "print(\"Integral on the left side with respect to P is\", leftint,\n",
    "      \"\\n \\n Integral on the right side with respect to t is\", rightint)"
   ]
  },
  {
   "cell_type": "code",
   "execution_count": null,
   "id": "gz3zTCLaf6jy",
   "metadata": {
    "id": "gz3zTCLaf6jy"
   },
   "outputs": [],
   "source": [
    "from sympy.solvers import solve\n",
    "\n",
    "solP = solve(leftint - rightint, P)  # finds explicit solution\n",
    "\n",
    "print(\"P = \", solP)  # Prints explicit solution"
   ]
  },
  {
   "cell_type": "markdown",
   "id": "30342752",
   "metadata": {
    "id": "30342752"
   },
   "source": [
    "# Practice: Chlorine Levels in Pool\n",
    "---\n"
   ]
  },
  {
   "cell_type": "markdown",
   "id": "4cb5301e-90fc-49cd-a0b4-a21ec79167f8",
   "metadata": {
    "id": "961998d8",
    "tags": []
   },
   "source": [
    "## <a name='07quest5'>Question 5:</a>\n",
    "---\n",
    "\n",
    "A swimming pool whose volume is 10,000 gallons contains\n",
    "water that is $0.01$% chlorine. Starting at $t=0$, city water containing $0.001$% chlorine\n",
    "is pumped into the pool at a rate of 5 gal/min. The pool water flows out at the same rate. Let $x$\n",
    "denote the amount of chlorine (in pounds) in the pool $t$ minutes since water has begun being\n",
    "pumped into the pool.\n",
    "\n",
    "*Note that a concentration of $0.01$% chlorine solution means $0.01$ pounds of chlorine per 100 gallons of solution.*"
   ]
  },
  {
   "cell_type": "markdown",
   "id": "6b7e274d-dd51-4983-a3e9-51e79914c7e5",
   "metadata": {
    "id": "961998d8",
    "tags": []
   },
   "source": [
    "### <a name='07quest5a'>Question 5a:</a>\n",
    "---\n",
    "\n",
    "Construct a differential equation for rate of change of the mass of chlorine (in pounds) $x$ in the pool at time $t$. \n",
    "\n",
    "#### Solution to Question 5a:\n",
    "---\n",
    "\n",
    "<br> <br> <br> <br> <br>"
   ]
  },
  {
   "cell_type": "markdown",
   "id": "79a6cdec-2148-4876-84b3-66979a39e568",
   "metadata": {
    "id": "961998d8",
    "tags": []
   },
   "source": [
    "### <a name='07quest5b'>Question 5b:</a>\n",
    "---\n",
    "\n",
    "Solve the initial value problem using the differential equation in (a) and the given initial % concentration.  \n",
    "\n",
    "#### Solution to Question 5b:\n",
    "---\n",
    "\n",
    "<br> <br> <br> <br> <br>"
   ]
  },
  {
   "cell_type": "markdown",
   "id": "c5c12bea-c9af-4952-b476-3f89a713c149",
   "metadata": {
    "id": "961998d8",
    "tags": []
   },
   "source": [
    "### <a name='07quest5c'>Question 5c (Bonus Exercise):</a>\n",
    "---\n",
    "\n",
    "When will the pool water be $0.002$% chlorine? *Hint: Try using the `solve` function imported from the `sympy.solvers` package.*\n",
    "  - See [sympy.solvers](https://docs.sympy.org/latest/modules/solvers/solvers.html) documentation.\n",
    "\n",
    "\n",
    "#### Solution to Question 5c:\n",
    "---\n",
    "\n",
    "<br> <br> <br> <br> <br>"
   ]
  },
  {
   "cell_type": "code",
   "execution_count": null,
   "id": "kZlRgXzDnmij",
   "metadata": {
    "id": "kZlRgXzDnmij"
   },
   "outputs": [],
   "source": [
    "#import sympy as sym  # already imported\n",
    "#from sympy solvers import solve  # already imported\n",
    "\n",
    "t = sym.Symbol('t')\n",
    "\n",
    "###############################################\n",
    "# STUDENT TO DO:\n",
    "# Replace each ?? with an expression or value\n",
    "###############################################\n",
    "\n",
    "tsol = solve(?? - ??, t)  # solve for t\n",
    "\n",
    "print(tsol)"
   ]
  },
  {
   "cell_type": "markdown",
   "id": "YZvKIRm3wxN-",
   "metadata": {
    "id": "YZvKIRm3wxN-"
   },
   "source": [
    "# Appendix: A General Formula for Solution to the Logistic Population Model\n",
    "---\n",
    "\n",
    "The Logistic Model in general has the form:\n",
    "\n",
    "$$\\dfrac{dP}{dt} = -AP(P-L) \\quad \\mbox{with $A$ and $L$ denoting constants.}$$\n",
    "\n",
    "In [Problem 4](#07quest4), you found a solution to one such model using <font color=\"dodgerblue\">**partial fraction decomposition**</font>. Let's generalize the solution to find a convenient formula for solutions to logistic models that we can refer to.\n",
    "\n",
    "One possible process could be:\n",
    "\n",
    "1. Separate the differential equation:\n",
    "\n",
    "$$ \\frac{1}{P(P-L)} \\, dP = -A \\, dt$$\n",
    "\n",
    "2. Rewrite the fraction on the left side as a sum of two fractions with undetermined coefficients denoted $\\color{dodgerblue}{M}$ and $\\color{dodgerblue}{N}$ that we find.\n",
    "\n",
    "$$ \\left(\\frac{\\color{dodgerblue}{M}}{P} + \\frac{\\color{dodgerblue}{N}}{P-L}\\right) \\, dP = -A \\, dt$$\n",
    "\n",
    "3. Integrate both sides with respect to the appropriate variable.\n",
    "\n",
    "4. Solve for $P$ to derive an explicit solution.\n",
    "\n",
    "\n",
    "We break these steps up in the code cells below."
   ]
  },
  {
   "cell_type": "markdown",
   "id": "c_In98be19Wu",
   "metadata": {
    "id": "c_In98be19Wu"
   },
   "source": [
    "## Partial Fraction Decomposition with `SymPy`\n",
    "---\n",
    "\n",
    "The code below performs partial fraction decomposition on the left side of the differential equation (after separating).\n",
    "\n",
    "- **The function `apart` in the `SymPy` library is very handy for this!**"
   ]
  },
  {
   "cell_type": "code",
   "execution_count": null,
   "id": "MENsGbN0ymKc",
   "metadata": {
    "id": "MENsGbN0ymKc"
   },
   "outputs": [],
   "source": [
    "import sympy as sym  # import sympy\n",
    "\n",
    "t, P = sym.symbols('t, P')  # t and P are variables\n",
    "\n",
    "L = sym.symbols('L', real = True, constant = True)  # Constants\n",
    "\n",
    "left = 1/(P * (P-L))  # Left side of the equation after separating\n",
    "\n",
    "left.apart(P)  # Partial frac decomp left side\n"
   ]
  },
  {
   "cell_type": "markdown",
   "id": "1IAX71lM3jfO",
   "metadata": {
    "id": "1IAX71lM3jfO"
   },
   "source": [
    "## Integrate Both Sides\n",
    "---\n",
    "\n",
    "The code cell below uses `sympy.integrate` to evaluate integrals."
   ]
  },
  {
   "cell_type": "code",
   "execution_count": null,
   "id": "fmHZT76715eQ",
   "metadata": {
    "id": "fmHZT76715eQ"
   },
   "outputs": [],
   "source": [
    "frac1 = 1/(L * (P - L))\n",
    "frac2 = -1/(L * P)\n",
    "\n",
    "A, B = sym.symbols('A, B', real = True, constant = True)  # Constants\n",
    "\n",
    "leftint = sym.integrate(frac1, P) + sym.integrate(frac2, P)  # integrate left\n",
    "rightint = sym.integrate(-A, t) + B  # integrate right with +B added\n",
    "\n",
    "print(\"Integral on the left side with respect to P is\", leftint,\n",
    "      \"\\n \\n Integral on the right side with respect to t is\", rightint)"
   ]
  },
  {
   "cell_type": "markdown",
   "id": "nTUg4PTf7MkQ",
   "metadata": {
    "id": "nTUg4PTf7MkQ"
   },
   "source": [
    "## Finding an Explicit Form: Solve for $P$\n",
    "---\n",
    "\n",
    "We use the `solve` function from the `solvers` library in `SymPy` to find an explicit solution for $P$."
   ]
  },
  {
   "cell_type": "code",
   "execution_count": null,
   "id": "ak82rcUT52gx",
   "metadata": {
    "id": "ak82rcUT52gx"
   },
   "outputs": [],
   "source": [
    "from sympy.solvers import solve\n",
    "\n",
    "sol = solve(leftint - rightint, P)  # finds explicit solution\n",
    "\n",
    "print(\"P = \", sol)  # Prints explicit solution"
   ]
  },
  {
   "cell_type": "code",
   "execution_count": null,
   "id": "gEThKTtF_WVv",
   "metadata": {
    "id": "gEThKTtF_WVv"
   },
   "outputs": [],
   "source": [
    "sym.latex(sol)  # convert solution to latex"
   ]
  },
  {
   "cell_type": "markdown",
   "id": "AbYfkEv1ES9v",
   "metadata": {
    "id": "AbYfkEv1ES9v"
   },
   "source": [
    "## Simplifying the Explicit Solution\n",
    "---\n",
    "\n",
    "The output above gives LaTeX code for an explicit solution for $P$ in terms of $t$ (as well as constants $A$ and $L$). \n",
    "\n",
    "- The LaTeX in the output above uses a double backslash `\\\\` instead of a single backslash `\\`. \n",
    "- After replacing each `\\\\` in the LaTeX code from the output above with `\\` we get the solution below.\n",
    "- Then we simplify the right side.\n",
    "\n",
    "$$\\begin{array}{lrc}\n",
    "P &=& \\dfrac{L^{2} e^{L \\left(A t - B\\right)}}{L e^{L \\left(A t - B\\right)} - 1}\\\\\n",
    "&=& \\dfrac{L}{1- e^{-L(At-B)}}\\\\\n",
    "&=& \\dfrac{L}{1- e^{-ALt+LB}}\\\\\n",
    "&=& \\dfrac{L}{1 \\color{tomato}{-e^{LB}}e^{-\\color{dodgerblue}{AL}t}}\\\\\n",
    "&=&\\dfrac{L}{1+ \\color{tomato}{C}e^{-\\color{dodgerblue}{k}t}}\n",
    "\\end{array}$$\n",
    "\n",
    "From the work above, we have the following solution for the Logistic model:\n",
    "\n",
    "$$\\boxed{\\large{P = \\dfrac{L}{1+ \\color{tomato}{C}e^{-\\color{dodgerblue}{k}t}} \\quad \\mbox{with } \\color{dodgerblue}{k=AL}}}.$$\n",
    "\n",
    "- Note the constant $\\color{tomato}{C}$ depends on the initial condition.\n",
    "  - Set $t=0$ and $P=P_0$, and then solve for $\\color{tomato}{C}$."
   ]
  },
  {
   "cell_type": "markdown",
   "id": "5af04a34-8297-44af-9798-ec1f5ce96b2e",
   "metadata": {
    "id": "5af04a34-8297-44af-9798-ec1f5ce96b2e"
   },
   "source": [
    "# Creative Commons License Information\n",
    "---\n",
    "\n",
    "<a rel=\"license\" href=\"https://creativecommons.org/licenses/by-nc-sa/4.0/\"><img alt=\"Creative Commons License\" style=\"border-width:0\" src=\"https://i.creativecommons.org/l/by-nc-sa/4.0/80x15.png\" /></a><br /><span xmlns:dct=\"http://purl.org/dc/terms/\" property=\"dct:title\">Elementary Differential Equations</span> by <a xmlns:cc=\"http://creativecommons.org/ns#\" href=\"https://github.com/CU-Denver-MathStats-OER/ODEs\" property=\"cc:attributionName\" rel=\"cc:attributionURL\">Adam Spiegler, Jonathon Hirschi, and Dmitry Ostrovskiy</a> is licensed under a <a rel=\"license\" href=\"http://creativecommons.org/licenses/by-nc-sa/4.0/\">Creative Commons Attribution-NonCommercial-ShareAlike 4.0 International License</a>.<br />Based on a work at <a xmlns:dct=\"http://purl.org/dc/terms/\" href=\"https://github.com/CU-Denver-MathStats-OER/ODEs\" rel=\"dct:source\">https://github.com/CU-Denver-MathStats-OER/ODEs</a> and original content created by Rasmussen, C., Keene, K. A., Dunmyre, J., & Fortune, N. (2018). *Inquiry oriented differential equations: Course materials*. Available at <a href=\"https://iode.wordpress.ncsu.edu\">https://iode.wordpress.ncsu.edu</a>."
   ]
  },
  {
   "cell_type": "code",
   "execution_count": null,
   "id": "gIEhyw-mHUO1",
   "metadata": {
    "id": "gIEhyw-mHUO1"
   },
   "outputs": [],
   "source": []
  }
 ],
 "metadata": {
  "colab": {
   "collapsed_sections": [],
   "name": "07-Mixture-Applications.ipynb",
   "provenance": []
  },
  "kernelspec": {
   "display_name": "Python 3 (ipykernel)",
   "language": "python",
   "name": "python3"
  },
  "language_info": {
   "codemirror_mode": {
    "name": "ipython",
    "version": 3
   },
   "file_extension": ".py",
   "mimetype": "text/x-python",
   "name": "python",
   "nbconvert_exporter": "python",
   "pygments_lexer": "ipython3",
   "version": "3.9.13"
  },
  "toc-autonumbering": false,
  "toc-showmarkdowntxt": false,
  "toc-showtags": false
 },
 "nbformat": 4,
 "nbformat_minor": 5
}
