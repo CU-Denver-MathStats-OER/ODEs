{
 "cells": [
  {
   "cell_type": "markdown",
   "id": "cbf9aa22",
   "metadata": {
    "tags": [],
    "toc-hr-collapsed": true
   },
   "source": [
    "# Mixture Problems\n",
    "---\n",
    "\n",
    "A one-compartment system consists of\n",
    "\n",
    "- $x(t)$ that represents the amount of a substance (such as salt) at time $t$.\n",
    "- an input rate of $x$. \n",
    "- an output rate of $x$.\n",
    "\n",
    "$$\\color{blue}{\\boxed{\\large \\frac{dx}{dt} = \\mbox{input rate} - \\mbox{output rate} }}$$"
   ]
  },
  {
   "cell_type": "markdown",
   "id": "8fefd0fa",
   "metadata": {
    "tags": [],
    "toc-hr-collapsed": true
   },
   "source": [
    "## <a name='07quest1'>Question 1:</a>\n",
    "---\n",
    "\n",
    "A brine solution of salt water that has concentration $0.05$ kg per L flows at a constant rate of 6 L per minute \n",
    "into a tank which is initially contains 50 L of a 1% salt solution.   The brine solution flows out  of the tank at a rate of 4 L per minute. Let $x(t)$ denote the mass of the salt in the tank at time $t$ (in minutes). *Note that 1% salt solution means 1 kg of salt per 100 L of solution.*\n",
    "\n",
    "a. What is the input rate of $x$? <a id =\"07quest1a\"></a>\n",
    "\n",
    "### Solution to Question 1a:\n",
    "---\n",
    "\n",
    "<br> <br> <br> <br> <br> <br>\n",
    "\n",
    "b. What is the output rate of $x$? <a id =\"07quest1b\"></a>  \n",
    "\n",
    "### Solution to Question 1b:\n",
    "---\n",
    "\n",
    "<br> <br> <br> <br> <br> <br>\n",
    "\n",
    "c. What is the initial mass of the salt in the tank? <a id =\"07quest1c\"></a>\n",
    "\n",
    "### Solution to Question 1c:\n",
    "---\n",
    "\n",
    "<br> <br> <br> <br> <br> <br>\n",
    "\n",
    "d. Construct a model for this initial value problem (but do not solve it). <a id =\"07quest1d\"></a> \n",
    "\n",
    "### Solution to Question 1d:\n",
    "---\n",
    "\n",
    "<br> <br> <br> <br> <br> <br>\n",
    "\n",
    "e. What method(s) can we apply to solve the equation in (4) (but don't solve it)? <a id =\"07quest1e\"></a>\n",
    "\n",
    "### Solution to Question 1e:\n",
    "---\n",
    "\n",
    "<br> <br> <br> <br> <br> <br>\n"
   ]
  },
  {
   "cell_type": "markdown",
   "id": "801d5516",
   "metadata": {
    "tags": [],
    "toc-hr-collapsed": true
   },
   "source": [
    "# Population Models\n",
    "---\n",
    "\n",
    "The **Malthusian** law of population growth says the rate of change of the population, $\\frac{dP}{dt}$,\n",
    "is **directly proportional to the population present**, $P$, at time $t$:\n",
    "\n",
    "$$\\color{blue}{\\large \\boxed{\\frac{dP}{dt} = kP, \\quad P(0)=P_0}.}$$"
   ]
  },
  {
   "cell_type": "markdown",
   "id": "0fc60dcb",
   "metadata": {
    "tags": [],
    "toc-hr-collapsed": true
   },
   "source": [
    "## <a name='07quest2'>Question 2:</a>\n",
    "---\n",
    "\n",
    "Let $P$ denote the population of the world (in billions) $t$ years since $1960$. In 1960 the world's population was approximately 3 billion, and the population growth is model by\n",
    "$$\\frac{dP}{dt} =0.2P  , \\qquad \\ P(0)=3.$$ \n",
    "\n",
    "Solving this model gives $P(t)=3e^{0.02t}$, and predicts the population in 2021 is $10.16$ billion. \n",
    "\n",
    "Why do you think predicted value is different from the actual value? \n",
    "\n",
    "### Solution to Question 2:\n",
    "---\n",
    "\n",
    "<br> <br> <br> <br> <br> <br>\n"
   ]
  },
  {
   "cell_type": "markdown",
   "id": "cd9c7c68",
   "metadata": {
    "tags": [],
    "toc-hr-collapsed": true
   },
   "source": [
    "## The Logistic Model\n",
    "---\n",
    "\n",
    "We can construct our population model by considering:\n",
    "\n",
    "$$\\color{blue}{\\large \\frac{dP}{dt} = \\bigg( \\mbox{Birth Rate} \\bigg) - \\bigg( \\mbox{Death Rate} \\bigg).}$$\n",
    "\n",
    "Competition within the population causes the populations to decrease (disease, murder, natural disasters, war, lack of food/water). If we assume the **death rate is proportional to the total number of possible two-party interactions**, we get:\n",
    "\n",
    "$$ \\mbox{Death rate} = k_2 \\left( \\begin{array}{c} P\\\\ 2 \\end{array} \\right) = k_2 \\left( \\frac{P(P-1)}{2} \\right) .$$\n",
    "\n",
    "Note: $\\left( \\begin{array}{c} P\\\\ 2 \\end{array} \\right)$ denotes \"$P$ choose 2\", and in general we have\n",
    "$$ \\left( \\begin{array}{c} n\\\\ k \\end{array} \\right) = \\frac{n!}{k!(n-k)!}.$$\n",
    "\n",
    "Taking both the birth and death rates into account, we get the <font color=blue>Logistic model</font> for population change which we simplify:\n",
    "\n",
    "$$\\frac{dP}{dt} = \\bigg( \\hspace{1in} \\mbox{??} \\hspace{1in}  \\bigg) - \\bigg(  \\hspace{1in} \\mbox{??} \\hspace{1in} \\bigg) .$$\n"
   ]
  },
  {
   "cell_type": "markdown",
   "id": "ebb5ea8b",
   "metadata": {},
   "source": [
    "## <a name='07quest3'>Question 3:</a>\n",
    "---\n",
    "\n",
    "Replace the <mark>??</mark> in the formula above with an appropriate expression. Then show that the model above can be rewritten in the form ${\\frac{dP}{dt} = -AP(P-L)}$ where $A$ and $L$ are positive constants.\n",
    "\n",
    "### Solution to Question 3:\n",
    "---\n",
    "\n",
    "<br> <br> <br> <br> <br> <br>\n"
   ]
  },
  {
   "cell_type": "markdown",
   "id": "c4fdf2da",
   "metadata": {
    "tags": []
   },
   "source": [
    "# Practice: Population Model for Rabbits\n",
    "---\n"
   ]
  },
  {
   "cell_type": "markdown",
   "id": "c849e9b3",
   "metadata": {
    "tags": []
   },
   "source": [
    "## <a name='07quest4'>Question 4:</a>\n",
    "---\n",
    "\n",
    "A population of rabbits changes over time $t$ (in years) according to the logistic model\n",
    "$$ \\frac{dP}{dt} = 3P-\\frac{1}{20}P^2. $$\n",
    "\n",
    "a. For what initial population sizes $P_0$ will the population grow at first?  <a id =\"07quest4a\"></a>\n",
    "\n",
    "### Solution to Question 4a:\n",
    "---\n",
    "\n",
    "<br> <br> <br> <br> <br> <br>\n",
    "\n",
    "b.For what initial population sizes $P_0$ will the population decrease at first?  <a id =\"07quest4b\"></a>  \n",
    "\n",
    "### Solution to Question 4b:\n",
    "---\n",
    "\n",
    "<br> <br> <br> <br> <br> <br>\n",
    "\n",
    "c. For what initial population sizes $P_0$ will the population never change?  <a id =\"07quest4c\"></a>\n",
    "\n",
    "### Solution to Question 4c:\n",
    "---\n",
    "\n",
    "<br> <br> <br> <br> <br> <br>\n",
    "\n",
    "d. Explain, in practical terms, why answers in (a)-(c) makes sense. <a id =\"07quest4d\"></a> \n",
    "\n",
    "### Solution to Question 4d:\n",
    "---\n",
    "\n",
    "<br> <br> <br> <br> <br> <br>\n",
    "\n",
    "e. If the initial rabbit population is $P_0=P(0)=50$, find a solution to the \n",
    "initial value problem and find a formula for the population $P$ as a function of time $t$. <a id =\"07quest4e\"></a>\n",
    "---\n",
    "\n",
    "### Solution to Question 4e:\n",
    "\n",
    "<br> <br> <br> <br> <br> <br>\n"
   ]
  },
  {
   "cell_type": "markdown",
   "id": "30342752",
   "metadata": {},
   "source": [
    "# Practice: Chlorine Levels in Pool\n",
    "---\n"
   ]
  },
  {
   "cell_type": "markdown",
   "id": "961998d8",
   "metadata": {
    "tags": []
   },
   "source": [
    "## <a name='4-01quest5'>Question 5:</a>\n",
    "---\n",
    "\n",
    "A swimming pool whose volume is 10,000 gallons contains\n",
    "water that is $0.01$\\% chlorine. Starting at $t=0$, city water containing $0.001$\\% chlorine\n",
    "is pumped into the pool at a rate of 5 gal/min. The pool water flows out at the same rate. Let $x$\n",
    "denote the amount of chlorine (in pounds) in the pool $t$ minutes since water has begun being\n",
    "pumped into the pool.\n",
    "\n",
    "*Note that a concentration of $0.01$\\% chlorine solution means $0.01$ pounds of chlorine per 100 gallons of solution.*\n",
    "\n",
    "a. Construct a differential equation for rate of change of the mass of chlorine (in pounds) $x$ in the pool at time $t$. \n",
    " <a id =\"4-01quest5a\"></a>\n",
    "\n",
    "### Solution to Question 5a:\n",
    "---\n",
    "\n",
    "<br> <br> <br> <br> <br> <br>\n",
    "\n",
    "b. Solve the initial value problem using the differential equation in (a) and the given initial \\% concentration.  \n",
    " <a id =\"4-01quest5b\"></a>\n",
    "\n",
    "### Solution to Question 5b:\n",
    "---\n",
    "\n",
    "<br> <br> <br> <br> <br> <br>\n",
    "\n",
    "c. (Bonus) When will the pool water be $0.002$\\% chlorine? \n",
    " <a id =\"4-01quest5c\"></a>\n",
    "\n",
    "### Solution to Question 5c:\n",
    "---\n",
    "\n",
    "<br> <br> <br> <br> <br> <br>\n",
    "\n"
   ]
  },
  {
   "cell_type": "markdown",
   "id": "5af04a34-8297-44af-9798-ec1f5ce96b2e",
   "metadata": {},
   "source": [
    "## Creative Commons License Information\n",
    "<a rel=\"license\" href=\"https://creativecommons.org/licenses/by-nc-sa/4.0/\"><img alt=\"Creative Commons License\" style=\"border-width:0\" src=\"https://i.creativecommons.org/l/by-nc-sa/4.0/80x15.png\" /></a><br /><span xmlns:dct=\"http://purl.org/dc/terms/\" property=\"dct:title\">Elementary Differential Equations</span> by <a xmlns:cc=\"http://creativecommons.org/ns#\" href=\"https://github.com/CU-Denver-MathStats-OER/ODEs\" property=\"cc:attributionName\" rel=\"cc:attributionURL\">Adam Spiegler, Jonathon Hirschi, and Dmitry Ostrovskiy</a> is licensed under a <a rel=\"license\" href=\"http://creativecommons.org/licenses/by-nc-sa/4.0/\">Creative Commons Attribution-NonCommercial-ShareAlike 4.0 International License</a>.<br />Based on a work at <a xmlns:dct=\"http://purl.org/dc/terms/\" href=\"https://github.com/CU-Denver-MathStats-OER/ODEs\" rel=\"dct:source\">https://github.com/CU-Denver-MathStats-OER/ODEs</a> and original content created by Rasmussen, C., Keene, K. A., Dunmyre, J., & Fortune, N. (2018). *Inquiry oriented differential equations: Course materials*. Available at <a href=\"https://iode.wordpress.ncsu.edu\">https://iode.wordpress.ncsu.edu</a>."
   ]
  }
 ],
 "metadata": {
  "kernelspec": {
   "display_name": "Python 3",
   "language": "python",
   "name": "python3"
  },
  "language_info": {
   "codemirror_mode": {
    "name": "ipython",
    "version": 3
   },
   "file_extension": ".py",
   "mimetype": "text/x-python",
   "name": "python",
   "nbconvert_exporter": "python",
   "pygments_lexer": "ipython3",
   "version": "3.8.8"
  },
  "toc-autonumbering": false,
  "toc-showmarkdowntxt": false,
  "toc-showtags": false
 },
 "nbformat": 4,
 "nbformat_minor": 5
}
