{
 "cells": [
  {
   "cell_type": "markdown",
   "id": "8c7f3d70-b548-46dc-a4c8-cf0e422635e4",
   "metadata": {},
   "source": [
    "# Chapter 1: Introduction to Differential Equations\n",
    "---\n"
   ]
  },
  {
   "cell_type": "markdown",
   "id": "ce78ee18-0182-424b-812d-c653ae3b1cd7",
   "metadata": {},
   "source": [
    "## Textbook\n",
    "---\n"
   ]
  },
  {
   "cell_type": "markdown",
   "id": "a2b7c833-a523-4d81-bf06-caad24f45ba2",
   "metadata": {},
   "source": [
    "## Chapter contents \n",
    "---\n",
    "\n",
    "- [01: What is a differential equation?](01-What-is-a-Differential-Equation.ipynb)\n",
    "\n",
    "- [02: Slope Fields](02-Slope-Fields.ipynb)\n",
    "\n",
    "- [03: Phase Line](03-Phase-Line.ipynb)\n",
    "\n",
    "- [04: Euler's Method](04-Eulers-Method.ipynb)\n",
    "\n",
    "- [05: Separable Differential Equations](05-Separable-Diff-Eqs.ipynb)\n",
    "\n",
    "- [06: Integrating Factors](06-Integrating-Factors.ipynb)\n",
    "\n",
    "- [07: Application: population and mixture models](07-Mixture-Applications.ipynb)\n",
    "\n",
    "- [08: Application: heating and cooling](08-Application-Heating-and-Cooling.ipynb)\n"
   ]
  },
  {
   "cell_type": "markdown",
   "id": "03c97304-ba39-4fbd-b875-46410f1dac69",
   "metadata": {},
   "source": [
    "## Installing the `ipympl` Package\n",
    "---\n",
    "\n",
    "Run the following Python cell to install the `ipympl` package, needed for interactive visualizations. This is the general format for installing packages via the `pip` installer."
   ]
  },
  {
   "cell_type": "code",
   "execution_count": null,
   "id": "d84df496-123f-48e6-8d65-a266873cba31",
   "metadata": {},
   "outputs": [],
   "source": [
    "# Install needed packages\n",
    "!pip install ipympl"
   ]
  },
  {
   "cell_type": "markdown",
   "id": "0146f92c-ed57-4184-bb82-32a8d6e350ca",
   "metadata": {},
   "source": [
    "## Creative Commons License Information\n",
    "<a rel=\"license\" href=\"https://creativecommons.org/licenses/by-nc-sa/4.0/\"><img alt=\"Creative Commons License\" style=\"border-width:0\" src=\"https://i.creativecommons.org/l/by-nc-sa/4.0/80x15.png\" /></a><br /><span xmlns:dct=\"http://purl.org/dc/terms/\" property=\"dct:title\">Elementary Differential Equations</span> by <a xmlns:cc=\"http://creativecommons.org/ns#\" href=\"https://github.com/CU-Denver-MathStats-OER/ODEs\" property=\"cc:attributionName\" rel=\"cc:attributionURL\">Adam Spiegler, Jonathon Hirschi, and Dmitry Ostrovskiy</a> is licensed under a <a rel=\"license\" href=\"http://creativecommons.org/licenses/by-nc-sa/4.0/\">Creative Commons Attribution-NonCommercial-ShareAlike 4.0 International License</a>.<br />Based on a work at <a xmlns:dct=\"http://purl.org/dc/terms/\" href=\"https://github.com/CU-Denver-MathStats-OER/ODEs\" rel=\"dct:source\">https://github.com/CU-Denver-MathStats-OER/ODEs</a> and original content created by Rasmussen, C., Keene, K. A., Dunmyre, J., & Fortune, N. (2018). *Inquiry oriented differential equations: Course materials*. Available at <a href=\"https://iode.wordpress.ncsu.edu\">https://iode.wordpress.ncsu.edu</a>."
   ]
  }
 ],
 "metadata": {
  "kernelspec": {
   "display_name": "Python 3",
   "language": "python",
   "name": "python3"
  },
  "language_info": {
   "codemirror_mode": {
    "name": "ipython",
    "version": 3
   },
   "file_extension": ".py",
   "mimetype": "text/x-python",
   "name": "python",
   "nbconvert_exporter": "python",
   "pygments_lexer": "ipython3",
   "version": "3.8.8"
  }
 },
 "nbformat": 4,
 "nbformat_minor": 5
}
