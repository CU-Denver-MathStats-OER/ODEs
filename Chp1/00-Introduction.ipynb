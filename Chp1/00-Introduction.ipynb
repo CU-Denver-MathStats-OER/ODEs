{
 "cells": [
  {
   "cell_type": "markdown",
   "id": "8c7f3d70-b548-46dc-a4c8-cf0e422635e4",
   "metadata": {},
   "source": [
    "# Introduction to Differential Equations\n",
    "---\n",
    "\n",
    "## Chapter 1: \n",
    "---"
   ]
  },
  {
   "cell_type": "markdown",
   "id": "d1f3b403-c1cb-4cb8-8ea8-7133e7981619",
   "metadata": {
    "tags": []
   },
   "source": [
    "## Purpose/Table of Contents for Chapter\n",
    "---\n",
    "\n",
    "This chapter has a few basic goals:\n",
    "\n",
    "- To review some notation, terminology and prerequisite knowledge useful for the study of ordinary differential equations (ODEs).\n",
    "\n",
    "- To introduce various Python packages, tools, and techniques for investigating solutions (numerical or closed-form) on a computer.\n",
    "\n",
    "This chapter not only *sets the stage* for the rest of the course it also *buys students time* in getting up to speed on prerequisite material and Python programming required to do well in this course."
   ]
  },
  {
   "cell_type": "markdown",
   "id": "ce78ee18-0182-424b-812d-c653ae3b1cd7",
   "metadata": {},
   "source": [
    "### Textbook\n",
    "---\n"
   ]
  },
  {
   "cell_type": "markdown",
   "id": "341a5cba-04b6-42ee-8c44-7c181d55b3fb",
   "metadata": {},
   "source": [
    "###  Python and Jupyter Notebooks\n",
    "---\n",
    "\n",
    "**Add links to background material for jupyter and python**"
   ]
  },
  {
   "cell_type": "markdown",
   "id": "a2b7c833-a523-4d81-bf06-caad24f45ba2",
   "metadata": {},
   "source": [
    "### Chapter contents \n",
    "---\n",
    "\n",
    "- [Section 01: What is a differential equation?](01-What-is-a-Differential-Equation.ipynb)\n",
    "\n",
    "- [Section 02: Slope Fields](02-Slope-Fields.ipynb)\n",
    "\n",
    "- [Section 03: Phase Line](03-Phase-Line.ipynb)\n",
    "\n",
    "- [Section 04: Euler's Method](04-Eulers-Method.ipynb)\n",
    "\n",
    "- [Section 05: Separable Differential Equations](05-Separable-Diff-Eqs.ipynb)\n",
    "\n",
    "- [Section 06: Integrating Factors](06-Integrating-Factors.ipynb)\n",
    "\n",
    "- [Section 07: Application: population and mixture models](07-Mixture-Applications.ipynb)\n",
    "\n",
    "- [Section 08: Application: heating and cooling](08-Application-Heating-and-Cooling.ipynb)\n",
    "\n",
    "---"
   ]
  },
  {
   "cell_type": "markdown",
   "id": "03c97304-ba39-4fbd-b875-46410f1dac69",
   "metadata": {},
   "source": [
    "### Install needed software\n",
    "---\n",
    "\n",
    "Run the following Python cell to install the `ipympl` package, needed for interactive visualizations. This is the general format for installing packages via the `pip` installer."
   ]
  },
  {
   "cell_type": "code",
   "execution_count": null,
   "id": "d84df496-123f-48e6-8d65-a266873cba31",
   "metadata": {},
   "outputs": [],
   "source": [
    "# Install needed packages\n",
    "!pip install ipympl"
   ]
  },
  {
   "cell_type": "markdown",
   "id": "0146f92c-ed57-4184-bb82-32a8d6e350ca",
   "metadata": {},
   "source": [
    "## Creative Commons License Information\n",
    "<a rel=\"license\" href=\"https://creativecommons.org/licenses/by-nc-sa/4.0/\"><img alt=\"Creative Commons License\" style=\"border-width:0\" src=\"https://i.creativecommons.org/l/by-nc-sa/4.0/80x15.png\" /></a><br /><span xmlns:dct=\"http://purl.org/dc/terms/\" property=\"dct:title\">Elementary Differential Equations</span> by <a xmlns:cc=\"http://creativecommons.org/ns#\" href=\"https://github.com/CU-Denver-MathStats-OER/ODEs\" property=\"cc:attributionName\" rel=\"cc:attributionURL\">Adam Spiegler, Jonathon Hirschi, and Dmitry Ostrovskiy</a> is licensed under a <a rel=\"license\" href=\"http://creativecommons.org/licenses/by-nc-sa/4.0/\">Creative Commons Attribution-NonCommercial-ShareAlike 4.0 International License</a>.<br />Based on a work at <a xmlns:dct=\"http://purl.org/dc/terms/\" href=\"https://github.com/CU-Denver-MathStats-OER/ODEs\" rel=\"dct:source\">https://github.com/CU-Denver-MathStats-OER/ODEs</a> and original content created by Rasmussen, C., Keene, K. A., Dunmyre, J., & Fortune, N. (2018). *Inquiry oriented differential equations: Course materials*. Available at <a href=\"https://iode.wordpress.ncsu.edu\">https://iode.wordpress.ncsu.edu</a>."
   ]
  },
  {
   "cell_type": "code",
   "execution_count": null,
   "id": "504c335e-8f62-4f52-8c18-19da0265464f",
   "metadata": {},
   "outputs": [],
   "source": []
  }
 ],
 "metadata": {
  "kernelspec": {
   "display_name": "Python 3 (ipykernel)",
   "language": "python",
   "name": "python3"
  },
  "language_info": {
   "codemirror_mode": {
    "name": "ipython",
    "version": 3
   },
   "file_extension": ".py",
   "mimetype": "text/x-python",
   "name": "python",
   "nbconvert_exporter": "python",
   "pygments_lexer": "ipython3",
   "version": "3.9.12"
  }
 },
 "nbformat": 4,
 "nbformat_minor": 5
}
