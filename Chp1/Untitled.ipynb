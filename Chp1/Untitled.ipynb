{
 "cells": [
  {
   "cell_type": "markdown",
   "id": "c9e7e00d",
   "metadata": {},
   "source": [
    "# Application: Heating and Cooling\n",
    "---\n"
   ]
  },
  {
   "cell_type": "markdown",
   "id": "7113a318",
   "metadata": {},
   "source": [
    "# Cooling Coffee\n",
    "---\n",
    "\n",
    "A group of students want to develop a rate of change equation to describe the cooling rate for hot coffee in order that they can make predictions about other cups of cooling coffee. Their idea is to use a temperature probe to collect data on the temperature of the coffee as it changes over time and then to use this data to develop a rate of change equation. \n",
    "\n",
    "The data they collected is shown in the table below. The temperature $C$ (in degrees Fahrenheit) was recorded every 2 minutes over a 14 minute period. \n",
    "\n",
    "Time (min) | Temp. ( degree F) | $ \\frac{dC}{dt}$ ( degree F per min)    \n",
    ":-:|:-:|:-:\n",
    "0 | 160.3 |                                             \n",
    "2 | 120.4 |    \n",
    "4 | 98.1 |   \n",
    "6 | 84.8 |    \n",
    "8 | 78.5 |    \n",
    "10 | 74.4 |    \n",
    "12 | 72.1 |    \n",
    "14 | 71.5|    \n"
   ]
  },
  {
   "cell_type": "raw",
   "id": "10062cdd",
   "metadata": {},
   "source": [
    "## <a name='06quest1'>Question 1:</a>\n",
    "---\n",
    "\n",
    "a. Figure out a way to use this data to fill in the third column whose values approximate  $\\displaystyle\\frac{dC}{dt}$, where $C$ is the temperature of the coffee. <a id =\"06quest1a\"></a>\n",
    "\n",
    "### Solution to Question 1a:\n",
    "---\n",
    "\n",
    "<br> <br> <br> <br> <br> <br>\n",
    "\n",
    "b. Do you expect $\\displaystyle\\frac{dC}{dt}$ to depend on just the temperature $C$, on just the time $t$, or both the temperature $C$ and the time $t$? <a id =\"06quest1b\"></a>\n",
    "\n",
    "### Solution to Question 1b:\n",
    "---\n",
    "\n",
    "<br> <br> <br> <br> <br> <br>\n",
    "\n",
    "c. Sketch below your best guess for the graph of $\\displaystyle\\frac{dC}{dt}$.  <a id =\"06quest1c\"></a>\n",
    "\n",
    "### Solution to Question 1c:\n",
    "---\n",
    "\n",
    "<br> <br> <br> <br> <br> <br>\n"
   ]
  },
  {
   "cell_type": "code",
   "execution_count": 5,
   "id": "ede71eb3",
   "metadata": {
    "scrolled": true
   },
   "outputs": [
    {
     "name": "stderr",
     "output_type": "stream",
     "text": [
      "C:\\Users\\ostro\\AppData\\Local\\Temp/ipykernel_39380/743877776.py:8: UserWarning: Matplotlib is currently using module://matplotlib_inline.backend_inline, which is a non-GUI backend, so cannot show the figure.\n",
      "  fig.show()\n"
     ]
    },
    {
     "data": {
      "image/png": "[encoded data removed]",
      "text/plain": [
       "<Figure size 432x288 with 1 Axes>"
      ]
     },
     "metadata": {
      "needs_background": "light"
     },
     "output_type": "display_data"
    }
   ],
   "source": [
    "import numpy as np\n",
    "import matplotlib.pyplot as plt\n",
    "\n",
    "fig = plt.figure()\n",
    "plt.xlim(0,20)\n",
    "plt.ylim(-100,100)\n",
    "plt.title(\"\") \n",
    "fig.show()"
   ]
  },
  {
   "cell_type": "code",
   "execution_count": null,
   "id": "9a09793c",
   "metadata": {},
   "outputs": [],
   "source": []
  }
 ],
 "metadata": {
  "kernelspec": {
   "display_name": "Python 3 (ipykernel)",
   "language": "python",
   "name": "python3"
  },
  "language_info": {
   "codemirror_mode": {
    "name": "ipython",
    "version": 3
   },
   "file_extension": ".py",
   "mimetype": "text/x-python",
   "name": "python",
   "nbconvert_exporter": "python",
   "pygments_lexer": "ipython3",
   "version": "3.9.7"
  }
 },
 "nbformat": 4,
 "nbformat_minor": 5
}
