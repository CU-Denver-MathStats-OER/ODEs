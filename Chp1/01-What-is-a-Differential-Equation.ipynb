{
 "cells": [
  {
   "cell_type": "markdown",
   "id": "e2a5319e-8085-45fe-98f3-e1f451d4f31d",
   "metadata": {},
   "source": [
    "[![Open In Colab](https://colab.research.google.com/assets/colab-badge.svg)](https://githubtocolab.com/CU-Denver-MathStats-OER/ODEs/blob/main/Chp1/01-What-is-a-Differential-Equation.ipynb)\n"
   ]
  },
  {
   "cell_type": "markdown",
   "id": "307ea08a",
   "metadata": {
    "id": "307ea08a",
    "tags": []
   },
   "source": [
    "# Lab 1.1: Reading and Interpreting Differential Equations\n",
    "---\n",
    "\n",
    "<font color=\"dodgerblue\">Reading: *Notes on Diffy Q's* Sections 0.2, 0.3, and 1.1</font>\n",
    "\n",
    "Often scientists use rate of change equations in their study of population growth for one or more species. In this problem we study systems of rate of change equations designed to inform us about the future populations for two species that are either competitive (that is, both species are *harmed by* interaction) or cooperative (that is, both species *benefit from* interaction)."
   ]
  },
  {
   "cell_type": "markdown",
   "id": "d3dd7af8-5f5f-46fd-9741-1526c574ad23",
   "metadata": {
    "id": "d3dd7af8-5f5f-46fd-9741-1526c574ad23",
    "tags": [],
    "toc-hr-collapsed": true
   },
   "source": [
    "## <a name='01quest1'>Question 1:</a>\n",
    "---\n",
    "\n",
    "Which system of rate of change equations below describes a situation where the two species compete and which system describes cooperative species? Explain your reasoning.\n",
    "\n",
    "$$\n",
    "\\mbox{(i) }  \\begin{aligned}[t]\n",
    "        \\frac{dx}{dt} &= -5x +2xy\\\\\n",
    "        \\frac{dy}{dt} &= -4y +3xy\n",
    "        \\end{aligned} \n",
    "\\qquad\n",
    "\\mbox{(ii) } \\begin{aligned}[t]\n",
    "        \\frac{dx}{dt} &= 4x -2xy\\\\\n",
    "        \\frac{dy}{dt} &= 2y - xy\n",
    "        \\end{aligned}\n",
    "$$\n",
    "\n",
    "### Solution to Question 1:\n",
    "---\n",
    "\n",
    "<br> <br> <br> <br> <br>"
   ]
  },
  {
   "cell_type": "markdown",
   "id": "6551bd09-624c-4cd4-8ab3-95283f3ad082",
   "metadata": {
    "id": "6551bd09-624c-4cd4-8ab3-95283f3ad082",
    "tags": []
   },
   "source": [
    "# Graphing Solutions: A Simple Population Model\n",
    "---\n",
    "\n",
    "The previous problem dealt with a complex situation with two interacting species. To develop the ideas and tools that we will need to further analyze complex situations like these, we will simplify the situation by making the following assumptions:\n",
    "\n",
    "- There is only one species (*e.g.*, fish).\n",
    "- The species has been in its habitat (*e.g.*, a lake) for some time prior to what we call $t = 0$.\n",
    "- The species has access to unlimited resources (*e.g.*, food, space, water). \n",
    "- The species reproduces continuously."
   ]
  },
  {
   "cell_type": "markdown",
   "id": "429a08a9-efec-4732-8d33-1fd18a6ae5fa",
   "metadata": {
    "id": "73752f73-ef45-4190-a211-2871bfb49256",
    "tags": [],
    "toc-hr-collapsed": true
   },
   "source": [
    "## <a name='01quest2'>Question 2:</a>\n",
    "---\n",
    "\n",
    "Given these assumptions for a certain lake containing fish, sketch three possible population versus time graphs: one starting at $P = 10$, one starting at $P = 20$, and the third starting at $P = 30$.\n",
    "\n",
    "<img src=\"https://drive.google.com/uc?id=1bmPjXMP9xfCb6LyyEo95H2rxBfhg_0S9\"  width=\"480\" alt = \"Blank Fish Graph\">"
   ]
  },
  {
   "cell_type": "markdown",
   "id": "8be122c7-c44c-47f9-ae5a-cfc8ad955ca0",
   "metadata": {
    "id": "73752f73-ef45-4190-a211-2871bfb49256",
    "tags": [],
    "toc-hr-collapsed": true
   },
   "source": [
    "### <a name='01quest2a'>Question 2a:</a>\n",
    "---\n",
    "\n",
    "For your graph starting with $P = 10$, how does the slope vary as time increases? Explain. \n",
    "\n",
    "#### Solution to Question 2a:\n",
    "---\n",
    "\n",
    "<br> <br> <br> <br> <br>"
   ]
  },
  {
   "cell_type": "markdown",
   "id": "68bebdd3-d64e-4f4e-90d3-f2b966427ef9",
   "metadata": {
    "id": "73752f73-ef45-4190-a211-2871bfb49256",
    "tags": [],
    "toc-hr-collapsed": true
   },
   "source": [
    "### <a name='01quest2b'>Question 2b:</a>\n",
    "---\n",
    "\n",
    "For a set $P$ value, say $P = 30$, how do the slopes vary across the three graphs you drew?\n",
    "\n",
    "#### Solution to Question 2b:\n",
    "---\n",
    "\n",
    "<br> <br> <br> <br> <br>"
   ]
  },
  {
   "cell_type": "markdown",
   "id": "4de13f78-d312-41d4-9a62-214e1129c2a9",
   "metadata": {
    "id": "4de13f78-d312-41d4-9a62-214e1129c2a9",
    "tags": [],
    "toc-hr-collapsed": true
   },
   "source": [
    "## <a name='01quest3'>Question 3:</a>\n",
    "---\n",
    "\n",
    "This situation can also be modeled with a rate of change equation, \n",
    "$$\\frac{dP}{dt}=\\mbox{something}$$.  \n",
    "\n",
    "- What should the \"something\" be? \n",
    "- Should the rate of change be stated in terms of just $P$, just $t$, or both $P$ and $t$?\n",
    "- Make a conjecture about the right hand side of the rate of change equation and provide reasons for your conjecture.\n",
    "\n",
    "### Solution to Question 3:\n",
    "---\n",
    "\n",
    "<br> <br> <br> <br> <br>"
   ]
  },
  {
   "cell_type": "markdown",
   "id": "5625b432-203d-4e7b-a970-3e2237431a3a",
   "metadata": {
    "id": "5625b432-203d-4e7b-a970-3e2237431a3a",
    "tags": []
   },
   "source": [
    "# What Exactly is a Differential Equation and What are Solutions?\n",
    "---\n",
    "\n",
    "A **<font color = \"dodgerblue\">differential equation</font>** is an equation that relates an unknown function to its derivative(s). Suppose $y = y(t)$ is some unknown function, then a differential equation, would express the rate of change, $\\frac{dy}{dt}$, in terms of $y$ and/or $t$. For example, all of the following are *first order* differential equations.  \n",
    "\n",
    "$$ \\frac{dP}{dt}=kP, \\qquad \\frac{dy}{dt}=y+2t, \\qquad \\frac{dy}{dt}=t^2+5, \\qquad \\frac{dy}{dt}=\\frac{6y-2}{ty}, \\qquad \\frac{dy}{dt}=\\frac{y^2-1}{t^2+2t}$$\n",
    "\n",
    "Given a differential equation for some unknown function, **<font color = \"dodgerblue\">solutions</font>** *are functions* that satisfy the rate change equation. \n",
    "\n",
    "One way to read the differential equation $\\frac{dy}{dt} = y+2t$ aloud you would say, \"dee $y$ dee $t$ equals $y$ plus two times $t$.\" However, this does **not** relate to the *meaning* of the solution. "
   ]
  },
  {
   "cell_type": "markdown",
   "id": "2cdc2663-9172-4268-aa89-c05af6eaa4c5",
   "metadata": {
    "id": "2cdc2663-9172-4268-aa89-c05af6eaa4c5",
    "tags": []
   },
   "source": [
    "## <a name='01quest4'>Question 4:</a>\n",
    "---\n",
    "\n",
    "Is the function $y=1+t$  a solution to the differential equation $\\displaystyle\\frac{dy}{dt}=\\frac{y^2-1}{t^2+2t}$? How about the function $y=1+2t$?  How about $y = 1$?  Explain your reasoning.\n",
    "\n",
    "### Solution to Question 4:\n",
    "---\n",
    "\n",
    "<br> <br> <br> <br> <br>"
   ]
  },
  {
   "cell_type": "markdown",
   "id": "ff8bde6b-2635-4d6e-9df5-936274c9c134",
   "metadata": {
    "id": "ff8bde6b-2635-4d6e-9df5-936274c9c134",
    "tags": []
   },
   "source": [
    "## <a name='01quest5'>Question 5:</a>\n",
    "---\n",
    "\n",
    "Is the function $y=t^3+2t$ a solution to the differential equation $\\displaystyle \\frac{dy}{dt}=3y^2+2$?  Why or why not?\n",
    "\n",
    "### Solution to Question 5:\n",
    "---\n",
    "\n",
    "<br> <br> <br> <br> <br>"
   ]
  },
  {
   "cell_type": "markdown",
   "id": "3e80de79-2708-4825-8ed6-cf626303689e",
   "metadata": {
    "id": "3e80de79-2708-4825-8ed6-cf626303689e",
    "tags": []
   },
   "source": [
    "## <a name='01quest6'>Question 6:</a>\n",
    "---\n",
    "\n",
    "Determine all of the functions that satisfy the rate of change equation $\\displaystyle \\frac{dP}{dt}=0.3P$. \n",
    "\n",
    "### Solution to Question 6:\n",
    "---\n",
    "\n",
    "<br> <br> <br> <br> <br>"
   ]
  },
  {
   "cell_type": "markdown",
   "id": "6996b933-a8ef-487c-8452-b65c413cc892",
   "metadata": {
    "id": "6996b933-a8ef-487c-8452-b65c413cc892",
    "tags": []
   },
   "source": [
    "## <a name='01quest7'>Question 7:</a>\n",
    "---\n",
    "\n",
    "Determine all of the solutions to the differential equation $\\displaystyle\\frac{dy}{dt}=t^2+5$.\n",
    "\n",
    "### Solution to Question 7:\n",
    "---\n",
    "\n",
    "<br> <br> <br> <br> <br>"
   ]
  },
  {
   "cell_type": "markdown",
   "id": "56edb635-625e-48d4-adfd-320274e893ec",
   "metadata": {
    "id": "56edb635-625e-48d4-adfd-320274e893ec"
   },
   "source": [
    "# Introduction to Python\n",
    "---\n",
    "\n",
    "We make use of the [`SymPy`](https://www.sympy.org/en/index.html) package in Python to symbolically differentiate/integrate and manipulate functions via simplification or factoring routines. \n",
    "\n",
    "This allows us to (1) check any of our by-hand work, and (2) get results quicker!\n",
    "\n",
    "Below, we focus just on the differentiation aspect."
   ]
  },
  {
   "cell_type": "markdown",
   "id": "yLL9-c0-jOoc",
   "metadata": {
    "id": "yLL9-c0-jOoc"
   },
   "source": [
    "\n",
    "## Creating Symbolic Variables in `SymPy`\n",
    "---"
   ]
  },
  {
   "cell_type": "code",
   "execution_count": null,
   "id": "e5459ade-dad8-4e5c-a876-704ca9997516",
   "metadata": {
    "id": "e5459ade-dad8-4e5c-a876-704ca9997516"
   },
   "outputs": [],
   "source": [
    "import sympy as sym  # First we need to import sympy, we use the abbreviation sym"
   ]
  },
  {
   "cell_type": "markdown",
   "id": "ed5c3800-64a9-4c01-96bf-1792cc880f08",
   "metadata": {
    "id": "ed5c3800-64a9-4c01-96bf-1792cc880f08"
   },
   "source": [
    "Below we create symbolic variable `t`."
   ]
  },
  {
   "cell_type": "code",
   "execution_count": null,
   "id": "b8d4db03-1d17-4f0a-b9d6-c845e79f0fcb",
   "metadata": {
    "id": "b8d4db03-1d17-4f0a-b9d6-c845e79f0fcb"
   },
   "outputs": [],
   "source": [
    "t = sym.symbols('t')  # Creating t as symbols"
   ]
  },
  {
   "cell_type": "markdown",
   "id": "91f39187-bcc6-464e-b622-b85371f4dec5",
   "metadata": {
    "id": "91f39187-bcc6-464e-b622-b85371f4dec5"
   },
   "source": [
    "Now we use symbolic functions available within `SymPy` to create the symbolic function for $P=7e^{0.3t}$."
   ]
  },
  {
   "cell_type": "code",
   "execution_count": null,
   "id": "7fc85663-58d0-47eb-91c7-f9e0a4ff29d6",
   "metadata": {
    "id": "7fc85663-58d0-47eb-91c7-f9e0a4ff29d6"
   },
   "outputs": [],
   "source": [
    "P = 7*sym.exp(0.3*t)"
   ]
  },
  {
   "cell_type": "code",
   "execution_count": null,
   "id": "d55b475e-d7f9-41a7-b17f-033375ffa3c4",
   "metadata": {
    "id": "d55b475e-d7f9-41a7-b17f-033375ffa3c4"
   },
   "outputs": [],
   "source": [
    "P  # The standard output for a symbolic function is \"pretty\""
   ]
  },
  {
   "cell_type": "markdown",
   "id": "d4d8ce00-e158-49c9-a4e8-f7122bc330fd",
   "metadata": {
    "id": "d4d8ce00-e158-49c9-a4e8-f7122bc330fd",
    "tags": []
   },
   "source": [
    "## Computing Derivatives with `SymPy`\n",
    "---\n",
    "\n",
    "We now use `SymPy` to compute the derivatives $P$ with respect to $t$."
   ]
  },
  {
   "cell_type": "code",
   "execution_count": null,
   "id": "e47beb56-93e3-430f-ba5e-9b1d0e95ce1a",
   "metadata": {
    "id": "e47beb56-93e3-430f-ba5e-9b1d0e95ce1a"
   },
   "outputs": [],
   "source": [
    "P.diff(t,1)  # The t indicates the variable to differentiate with respect to and 1 indicates the order."
   ]
  },
  {
   "cell_type": "markdown",
   "id": "51a5d30c-0faa-4bcc-b6d8-89dfea499140",
   "metadata": {
    "id": "51a5d30c-0faa-4bcc-b6d8-89dfea499140"
   },
   "source": [
    "There are many similar ways of calculating derivatives with `SymPy`."
   ]
  },
  {
   "cell_type": "code",
   "execution_count": null,
   "id": "dc6cabac-038b-4433-bf59-dbe19ee58d9b",
   "metadata": {
    "id": "dc6cabac-038b-4433-bf59-dbe19ee58d9b"
   },
   "outputs": [],
   "source": [
    "sym.diff(P,t) # Use diff from sympy library to differentiate P with respect to t"
   ]
  },
  {
   "cell_type": "markdown",
   "id": "fedb0464-0d68-44d0-8db0-76a351bcb64a",
   "metadata": {
    "id": "fedb0464-0d68-44d0-8db0-76a351bcb64a"
   },
   "source": [
    "Higher order derivative computations are just as easily computed."
   ]
  },
  {
   "cell_type": "code",
   "execution_count": null,
   "id": "7bda14e6-fe53-4558-ac32-39164b3c37f2",
   "metadata": {
    "id": "7bda14e6-fe53-4558-ac32-39164b3c37f2"
   },
   "outputs": [],
   "source": [
    "P.diff(t,5)  # This computes a 5th order derivative."
   ]
  },
  {
   "cell_type": "markdown",
   "id": "b6169063-9c42-41e4-b5b5-554bdb5929e3",
   "metadata": {
    "id": "b6169063-9c42-41e4-b5b5-554bdb5929e3"
   },
   "source": [
    "## <a name='01quest8'>Question 8:</a>\n",
    "---\n",
    "\n",
    "Consider the function $y = 3\\sin{(2x)} - 5 \\cos{(2x)}$.\n",
    "\n",
    "Use `SymPy` to create symbolic function and find an expression for $y''$. Several blank code cells are below to get you started, but students should feel free to make more as needed as well as adding Markdown cells for notes.\n",
    "\n",
    "*Hint: First you will need to create a new symbolic variable x.* \n",
    "\n",
    "### Solution to Question 8:\n",
    "---"
   ]
  },
  {
   "cell_type": "code",
   "execution_count": null,
   "id": "4c4c9069-1d5d-45cf-b8c5-5985d00688a6",
   "metadata": {
    "id": "4c4c9069-1d5d-45cf-b8c5-5985d00688a6"
   },
   "outputs": [],
   "source": []
  },
  {
   "cell_type": "code",
   "execution_count": null,
   "id": "b305ce41-79d3-4f5f-a80f-2953b2e77eaa",
   "metadata": {
    "id": "b305ce41-79d3-4f5f-a80f-2953b2e77eaa"
   },
   "outputs": [],
   "source": []
  },
  {
   "cell_type": "markdown",
   "id": "f23ad360-6263-4fae-87e7-d584ea36b989",
   "metadata": {
    "id": "f23ad360-6263-4fae-87e7-d584ea36b989"
   },
   "source": [
    "## Integration with `SymPy`\n",
    "---\n",
    "\n",
    "`SymPy` also has an [`integrals` module](https://docs.sympy.org/latest/modules/integrals/integrals.html) for computing indefinite and definite integrals as well as integral transforms (such as Laplace and Fourier transforms). \n",
    "\n",
    "We show some examples below."
   ]
  },
  {
   "cell_type": "code",
   "execution_count": null,
   "id": "3fcee679-877d-4777-840e-447cdea67b4a",
   "metadata": {
    "id": "3fcee679-877d-4777-840e-447cdea67b4a"
   },
   "outputs": [],
   "source": [
    "t, k = sym.symbols('t, k')  # Creating t and k as symbols"
   ]
  },
  {
   "cell_type": "code",
   "execution_count": null,
   "id": "4dea6c43-c948-42b9-9835-26ed364f639b",
   "metadata": {
    "id": "4dea6c43-c948-42b9-9835-26ed364f639b"
   },
   "outputs": [],
   "source": [
    "# Note that indefinite integrals do not include the constant of integration \n",
    "\n",
    "sym.integrate(t**2 + k, t)  # Determines an antiderivative of the function $t^2+k$ with respect to t"
   ]
  },
  {
   "cell_type": "code",
   "execution_count": null,
   "id": "3b36409b-a0e0-4d68-8fe7-de753fdf894e",
   "metadata": {
    "id": "3b36409b-a0e0-4d68-8fe7-de753fdf894e"
   },
   "outputs": [],
   "source": [
    "sym.integrate(t**2 + k, k)  # Integrates with respect to k"
   ]
  },
  {
   "cell_type": "code",
   "execution_count": null,
   "id": "79a29b28-5fee-4473-9d69-20b78086e42a",
   "metadata": {
    "id": "79a29b28-5fee-4473-9d69-20b78086e42a"
   },
   "outputs": [],
   "source": [
    "sym.integrate(t**2 + k, (t, 0, 1))  # A definite integral, with respect to t, from 0 to 1"
   ]
  },
  {
   "cell_type": "markdown",
   "id": "eb36e48a-5e0b-443f-b7b6-5e4dae0fcbd9",
   "metadata": {
    "id": "eb36e48a-5e0b-443f-b7b6-5e4dae0fcbd9"
   },
   "source": [
    "## <a name='01quest9'>Question 9:</a>\n",
    "---\n",
    "\n",
    "Consider the differential equation\n",
    "$$ \\frac{dQ}{dp} = 2\\cos{(3p)}-p^3. $$\n",
    "\n",
    "Use `SymPy` find all solutions to the differential equation.  Several blank code cells are below to get you started, but students should feel free to make more as needed as well as adding Markdown cells for notes.\n",
    "\n",
    "*Hint: First you will need to create a new symbolic variable p.* \n",
    "\n",
    "### Solution to Question 9:\n",
    "---\n"
   ]
  },
  {
   "cell_type": "code",
   "execution_count": null,
   "id": "a2e30707-7178-4395-88a3-a26eeb1eb9ef",
   "metadata": {
    "id": "a2e30707-7178-4395-88a3-a26eeb1eb9ef"
   },
   "outputs": [],
   "source": []
  },
  {
   "cell_type": "code",
   "execution_count": null,
   "id": "f10d84ab-fa4b-44e4-a875-2f383d49eaea",
   "metadata": {
    "id": "f10d84ab-fa4b-44e4-a875-2f383d49eaea"
   },
   "outputs": [],
   "source": []
  },
  {
   "cell_type": "markdown",
   "id": "3606cbc0-cbe2-49bb-b8d1-29410f1e7946",
   "metadata": {
    "id": "3606cbc0-cbe2-49bb-b8d1-29410f1e7946"
   },
   "source": [
    "# Creative Commons License Information\n",
    "---\n",
    "\n",
    "<a rel=\"license\" href=\"https://creativecommons.org/licenses/by-nc-sa/4.0/\"><img alt=\"Creative Commons License\" style=\"border-width:0\" src=\"https://i.creativecommons.org/l/by-nc-sa/4.0/80x15.png\"></a>\n",
    "<br> \n",
    "<span xmlns:dct=\"http://purl.org/dc/terms/\" property=\"dct:title\">Elementary Differential Equations</span> by <a xmlns:cc=\"http://creativecommons.org/ns#\" href=\"https://github.com/CU-Denver-MathStats-OER/ODEs\" property=\"cc:attributionName\" rel=\"cc:attributionURL\">Adam Spiegler, Jonathon Hirschi, and Dmitry Ostrovskiy</a> is licensed under a <a rel=\"license\" href=\"http://creativecommons.org/licenses/by-nc-sa/4.0/\">Creative Commons Attribution-NonCommercial-ShareAlike 4.0 International License</a>.\n",
    "<br>\n",
    "Based on a work at <a xmlns:dct=\"http://purl.org/dc/terms/\" href=\"https://github.com/CU-Denver-MathStats-OER/ODEs\" rel=\"dct:source\">https://github.com/CU-Denver-MathStats-OER/ODEs</a> and original content created by Rasmussen, C., Keene, K. A., Dunmyre, J., & Fortune, N. (2018). *Inquiry oriented differential equations: Course materials*. Available at <a href=\"https://iode.sdsu.edu\">https://iode.sdsu.edu</a>."
   ]
  },
  {
   "cell_type": "code",
   "execution_count": null,
   "id": "7e987422-1779-4eda-b7b8-64e755a104d0",
   "metadata": {
    "id": "7e987422-1779-4eda-b7b8-64e755a104d0"
   },
   "outputs": [],
   "source": []
  }
 ],
 "metadata": {
  "colab": {
   "collapsed_sections": [],
   "name": "01-What-is-a-Differential-Equation.ipynb",
   "provenance": []
  },
  "kernelspec": {
   "display_name": "Python 3 (ipykernel)",
   "language": "python",
   "name": "python3"
  },
  "language_info": {
   "codemirror_mode": {
    "name": "ipython",
    "version": 3
   },
   "file_extension": ".py",
   "mimetype": "text/x-python",
   "name": "python",
   "nbconvert_exporter": "python",
   "pygments_lexer": "ipython3",
   "version": "3.9.13"
  },
  "toc-autonumbering": false,
  "toc-showmarkdowntxt": false,
  "toc-showtags": false
 },
 "nbformat": 4,
 "nbformat_minor": 5
}
