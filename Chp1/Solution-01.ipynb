{
 "cells": [
  {
   "cell_type": "markdown",
   "id": "307ea08a",
   "metadata": {
    "tags": [],
    "toc-hr-collapsed": true
   },
   "source": [
    "# Introduction to Differential Equations: Interpreting Equations\n",
    "---\n",
    "\n",
    "Often scientists use rate of change equations in their study of population growth for one or more species. In this problem we study systems of rate of change equations designed to inform us about the future populations for two species that are either competitive (that is, both species are *harmed by* interaction) or cooperative (that is, both species *benefit from* interaction)."
   ]
  },
  {
   "cell_type": "markdown",
   "id": "9dfc24cc",
   "metadata": {
    "tags": [],
    "toc-hr-collapsed": true
   },
   "source": [
    "## <a name='s01quest1'>Question 1:</a>\n",
    "---\n",
    "\n",
    "Which system of rate of change equations below describes a situation where the two species compete and which system describes cooperative species? Explain your reasoning.\n",
    "\n",
    "$$\n",
    "\\mbox{(i) }  \\begin{aligned}[t]\n",
    "        \\frac{dx}{dt} &= -5x +2xy\\\\\n",
    "        \\frac{dy}{dt} &= -4y +3xy\n",
    "        \\end{aligned} \n",
    "\\qquad\n",
    "\\mbox{(ii) } \\begin{aligned}[t]\n",
    "        \\frac{dx}{dt} &= 4x -2xy\\\\\n",
    "        \\frac{dy}{dt} &= 2y - xy\n",
    "        \\end{aligned}\n",
    "$$\n",
    "\n",
    "### Solution to Question 1:\n",
    "---\n",
    "<div class=\"alert alert-block alert-info\">\n",
    "(i) describes cooperative species, note '+' in both interaction ($xy$) terms;<br>\n",
    "(ii) describes competing species, note '-' in both interaction ($xy$) terms.</div>\n"
   ]
  },
  {
   "cell_type": "markdown",
   "id": "6551bd09-624c-4cd4-8ab3-95283f3ad082",
   "metadata": {
    "tags": [],
    "toc-hr-collapsed": true
   },
   "source": [
    "# Graphing Solutions: A Simple Population Model\n",
    "---\n",
    "\n",
    "The previous problem dealt with a complex situation with two interacting species. To develop the ideas and tools that we will need to further analyze complex situations like these, we will simplify the situation by making the following assumptions:\n",
    "\n",
    "- There is only one species (*e.g.*, fish).\n",
    "- The species has been in its habitat (*e.g.*, a lake) for some time prior to what we call $t = 0$.\n",
    "- The species has access to unlimited resources (*e.g.*, food, space, water). \n",
    "- The species reproduces continuously."
   ]
  },
  {
   "cell_type": "markdown",
   "id": "2da571f7",
   "metadata": {
    "tags": [],
    "toc-hr-collapsed": true
   },
   "source": [
    "## <a name='s01quest2'>Question 2:</a>\n",
    "---\n",
    "\n",
    "Given these assumptions for a certain lake containing fish, sketch three possible population versus time graphs: one starting at $P = 10$, one starting at $P = 20$, and the third starting at $P = 30$.\n",
    "\n",
    "<div class=\"alert alert-block alert-info\">\n",
    "<img src=\"Images/s01FishGraph.png\" width=\"480\"></div>\n",
    "     \n",
    "a. For your graph starting with $P = 10$, how does the slope vary as time increases? Explain. <a id =\"s01quest2a\"></a>\n",
    "\n",
    "### Solution to Question 2a:\n",
    "---\n",
    "\n",
    "<div class=\"alert alert-block alert-info\">\n",
    "The slope increases because the larger number of fish breeds more fish</div>\n",
    "\n",
    "b. For a set $P$ value, say $P = 30$, how do the slopes vary across the three graphs you drew? <a id =\"s01quest2b\"></a>\n",
    "\n",
    "### Solution to Question 2b:\n",
    "---\n",
    "\n",
    "<div class=\"alert alert-block alert-info\">\n",
    "They are the same </div>"
   ]
  },
  {
   "cell_type": "markdown",
   "id": "ee060d16",
   "metadata": {
    "tags": [],
    "toc-hr-collapsed": true
   },
   "source": [
    "## <a name='s01quest3'>Question 3:</a>\n",
    "---\n",
    "\n",
    "This situation can also be modeled with a rate of change equation, \n",
    "$$\\frac{dP}{dt}=\\mbox{something}$$.  \n",
    "\n",
    "- What should the \"something\" be? \n",
    "- Should the rate of change be stated in terms of just $P$, just $t$, or both $P$ and $t$?\n",
    "- Make a conjecture about the right hand side of the rate of change equation and provide reasons for your conjecture.\n",
    "\n",
    "### Solution to Question 3:\n",
    "---\n",
    "\n",
    "<div class=\"alert alert-block alert-info\">\n",
    "\n",
    "- The right side should be proportional to $P$.\n",
    "\n",
    "- Only $P$ if the conditions in the lake do not change with time because of outside factors, that is unrelated to changes in $P$.\n",
    "\n",
    "- $\\frac{dP}{dt}=kP$ if there is no limitation to fish breeding. Every fish always produces the same number of offspring.\n",
    "</div>"
   ]
  },
  {
   "cell_type": "markdown",
   "id": "aabd1466",
   "metadata": {
    "tags": []
   },
   "source": [
    "# What Exactly is a Differential Equation and What are Solutions?\n",
    "---\n",
    "\n",
    "A **differential equation** is an equation that relates an unknown function to its derivative(s). Suppose $y = y(t)$ is some unknown function, then a differential equation, would express the rate of change, $\\frac{dy}{dt}$, in terms of $y$ and/or $t$. For example, all of the following are *first order* differential equations.  \n",
    "\n",
    "$$ \\frac{dP}{dt}=kP, \\qquad \\frac{dy}{dt}=y+2t, \\qquad \\frac{dy}{dt}=t^2+5, \\qquad \\frac{dy}{dt}=\\frac{6y-2}{ty}, \\qquad \\frac{dy}{dt}=\\frac{y^2-1}{t^2+2t}$$\n",
    "\n",
    "Given a differential equation for some unknown function, **solutions** to this rate of change equation are *functions* that satisfies the rate change equation. \n",
    "\n",
    "One way to read the differential equation $\\frac{dy}{dt} = y+2t$ aloud you would say, \"dee $y$ dee $t$ equals $y$ plus two times $t$.\" However, this does **not** relate to the *meaning* of the solution. "
   ]
  },
  {
   "cell_type": "markdown",
   "id": "229a1a75",
   "metadata": {
    "tags": []
   },
   "source": [
    "## <a name='s01quest4'>Question 4:</a>\n",
    "---\n",
    "\n",
    "Is the function $y=1+t$  a solution to the differential equation $\\displaystyle\\frac{dy}{dt}=\\frac{y^2-1}{t^2+2t}$? How about the function $y=1+2t$?  How about $y = 1$?  Explain your reasoning.\n",
    "\n",
    "### Solution to Question 4:\n",
    "---\n",
    "\n",
    "<div class=\"alert alert-block alert-info\">\n",
    "\n",
    "- Try $y = 1+t$: $\\frac{dy}{dt} = 1$ and \n",
    "$\\frac{y^2-1}{t^2+2t}=\\frac{(1+t)^2-1}{t^2+2t}=\\frac{2t+t^2}{t^2+2t}=1$. Because they are the same, $y=1+t$ **is** a solution.\n",
    "\n",
    "- Try $y=1+2t$: $\\frac{dy}{dt} = 2$ and \n",
    "$\\frac{y^2-1}{t^2+2t}=\\frac{(1+2t)^2-1}{t^2+2t}=\\frac{4t+4t^2}{t^2+2t}=\\frac{4+4t}{t+2}\\neq 2$. Because they are not the same, $y=1+t$ **is not** a solution.\n",
    "\n",
    "- Try $y=1$: $\\frac{dy}{dt} = 0$ and \n",
    "$\\frac{y^2-1}{t^2+2t}=\\frac{1-1}{t^2+2t}=0$. Because they are the same, $y=1$ **is** a solution.\n",
    "</div>"
   ]
  },
  {
   "cell_type": "markdown",
   "id": "f4f7a3b9",
   "metadata": {
    "tags": []
   },
   "source": [
    "## <a name='s01quest5'>Question 5:</a>\n",
    "---\n",
    "\n",
    "Is the function $y=t^3+2t$ a solution to the differential equation $\\displaystyle \\frac{dy}{dt}=3y^2+2$?  Why or why not?\n",
    "\n",
    "### Solution to Question 5:\n",
    "---\n",
    "\n",
    "<div class=\"alert alert-block alert-info\">\n",
    "\n",
    "First, the derivative. $\\frac{dy}{dt}=(t^3+2t)'=3t^2+2$. Next, the expression on the right side.\n",
    "$3y^2+2 = 3(t^3+2t)^2 +2 = 3t^6 + 12t^4 + 12t^2 +2$. The two expressions are different. Therefore,$y=t^3+2t$ **is not** a solution. \n",
    "</div>"
   ]
  },
  {
   "cell_type": "markdown",
   "id": "d0191bce",
   "metadata": {
    "tags": []
   },
   "source": [
    "## <a name='s01quest6'>Question 6:</a>\n",
    "---\n",
    "\n",
    "Determine all of the functions that satisfy the rate of change equation $\\displaystyle \\frac{dP}{dt}=0.3P$. \n",
    "\n",
    "### Solution to Question 6:\n",
    "---\n",
    "\n",
    "<div class=\"alert alert-block alert-info\">\n",
    "\n",
    "This is an exponential growth equation\n",
    "$$P(t)=P_0 e^{0.3t}$$\n",
    "</div>"
   ]
  },
  {
   "cell_type": "markdown",
   "id": "a0324106",
   "metadata": {
    "tags": []
   },
   "source": [
    "## <a name='s01quest7'>Question 7:</a>\n",
    "---\n",
    "\n",
    "Determine all of the solutions to the differential equation $\\displaystyle\\frac{dy}{dt}=t^2+5$.\n",
    "\n",
    "### Solution to Question 7:\n",
    "---\n",
    "\n",
    "<div class=\"alert alert-block alert-info\">\n",
    "\n",
    "By integration $$y = \\int \\frac{dy}{dt} dt = \\int (t^2+5) dt = \\frac{t^3}{3}+5t +C.$$\n",
    "</div>"
   ]
  },
  {
   "cell_type": "raw",
   "id": "733ddcca",
   "metadata": {},
   "source": [
    "# Introduction to Python\n",
    "---\n",
    "\n",
    "We make use of the [`sympy`](https://www.sympy.org/en/index.html) package in Python to symbolically differentiate/integrate and manipulate functions via simplification or factoring routines. \n",
    "\n",
    "This allows us to (1) check any of our by-hand work, and (2) get results quicker!\n",
    "\n",
    "Below, we focus just on the differentiation aspect.\n",
    "\n",
    "## Creating Symbolic Variables in `sympy`\n",
    "---"
   ]
  },
  {
   "cell_type": "code",
   "execution_count": null,
   "id": "e5459ade-dad8-4e5c-a876-704ca9997516",
   "metadata": {},
   "outputs": [],
   "source": [
    "import sympy as sp  # First we need to import sympy, we use the standard sp abbreviation"
   ]
  },
  {
   "cell_type": "markdown",
   "id": "ed5c3800-64a9-4c01-96bf-1792cc880f08",
   "metadata": {},
   "source": [
    "Below we create symbolic variable `t`."
   ]
  },
  {
   "cell_type": "code",
   "execution_count": null,
   "id": "b8d4db03-1d17-4f0a-b9d6-c845e79f0fcb",
   "metadata": {},
   "outputs": [],
   "source": [
    "t = sp.symbols('t')  # Creating t as symbols"
   ]
  },
  {
   "cell_type": "markdown",
   "id": "91f39187-bcc6-464e-b622-b85371f4dec5",
   "metadata": {},
   "source": [
    "Now we use symbolic functions available within `sympy` to create the symbolic function for $P=7e^{0.3t}$."
   ]
  },
  {
   "cell_type": "code",
   "execution_count": null,
   "id": "7fc85663-58d0-47eb-91c7-f9e0a4ff29d6",
   "metadata": {},
   "outputs": [],
   "source": [
    "P = 7*sp.exp(0.3*t)"
   ]
  },
  {
   "cell_type": "code",
   "execution_count": null,
   "id": "d55b475e-d7f9-41a7-b17f-033375ffa3c4",
   "metadata": {},
   "outputs": [],
   "source": [
    "P  # The standard output for a symbolic function is \"pretty\""
   ]
  },
  {
   "cell_type": "markdown",
   "id": "d4d8ce00-e158-49c9-a4e8-f7122bc330fd",
   "metadata": {},
   "source": [
    "## Computing Derivatives with `sympy`\n",
    "---\n",
    "\n",
    "We now use `sympy` to compute the derivatives $P$ with respect to $t$."
   ]
  },
  {
   "cell_type": "code",
   "execution_count": null,
   "id": "e47beb56-93e3-430f-ba5e-9b1d0e95ce1a",
   "metadata": {},
   "outputs": [],
   "source": [
    "P.diff(t,1)  # The t indicates the variable to differentiate with respect to and 1 indicates the order."
   ]
  },
  {
   "cell_type": "markdown",
   "id": "51a5d30c-0faa-4bcc-b6d8-89dfea499140",
   "metadata": {},
   "source": [
    "There are many similar ways of calculating derivatives with `sympy`."
   ]
  },
  {
   "cell_type": "code",
   "execution_count": null,
   "id": "dc6cabac-038b-4433-bf59-dbe19ee58d9b",
   "metadata": {},
   "outputs": [],
   "source": [
    "sp.diff(P,t) # Use diff from sympy library to differentiate P with respect to t"
   ]
  },
  {
   "cell_type": "markdown",
   "id": "fedb0464-0d68-44d0-8db0-76a351bcb64a",
   "metadata": {},
   "source": [
    "Higher order derivative computations are just as easily computed."
   ]
  },
  {
   "cell_type": "code",
   "execution_count": null,
   "id": "7bda14e6-fe53-4558-ac32-39164b3c37f2",
   "metadata": {},
   "outputs": [],
   "source": [
    "P.diff(t,5)  # This computes a 5th order derivative."
   ]
  },
  {
   "cell_type": "markdown",
   "id": "b6169063-9c42-41e4-b5b5-554bdb5929e3",
   "metadata": {},
   "source": [
    "## <a name='s01quest8'>Question 8:</a>\n",
    "---\n",
    "\n",
    "Consider the function $y = 3\\sin{(2x)} - 5 \\cos{(2x)}$.\n",
    "\n",
    "Use `sympy` to create symbolic function and find an expression for $y''$. Several blank code cells are below to get you started, but students should feel free to make more as needed as well as adding Markdown cells for notes.\n",
    "\n",
    "*Hint: First you will need to create a new symbolic variable x.* \n",
    "\n",
    "### Solution to Question 8:\n",
    "---"
   ]
  },
  {
   "cell_type": "code",
   "execution_count": null,
   "id": "4c4c9069-1d5d-45cf-b8c5-5985d00688a6",
   "metadata": {},
   "outputs": [],
   "source": [
    "x = sp.symbols('x')  # Creating x as symbolic variable"
   ]
  },
  {
   "cell_type": "code",
   "execution_count": null,
   "id": "b305ce41-79d3-4f5f-a80f-2953b2e77eaa",
   "metadata": {},
   "outputs": [],
   "source": [
    "y = 3*sp.sin(2*x) - 5*sp.cos(2*x) # define function y(x)"
   ]
  },
  {
   "cell_type": "code",
   "execution_count": null,
   "id": "3d3a33a5",
   "metadata": {},
   "outputs": [],
   "source": [
    "y.diff(x,2) # calculate second derivative"
   ]
  },
  {
   "cell_type": "markdown",
   "id": "f23ad360-6263-4fae-87e7-d584ea36b989",
   "metadata": {},
   "source": [
    "## Integration with `sympy`\n",
    "---\n",
    "\n",
    "`sympy` also has an [`integrals` module](https://docs.sympy.org/latest/modules/integrals/integrals.html) for computing indefinite and definite integrals as well as integral transforms (such as Laplace and Fourier transforms). \n",
    "\n",
    "We show some examples below."
   ]
  },
  {
   "cell_type": "code",
   "execution_count": null,
   "id": "3fcee679-877d-4777-840e-447cdea67b4a",
   "metadata": {},
   "outputs": [],
   "source": [
    "t, k = sp.symbols('t, k')  # Creating t and k as symbols"
   ]
  },
  {
   "cell_type": "code",
   "execution_count": null,
   "id": "4dea6c43-c948-42b9-9835-26ed364f639b",
   "metadata": {},
   "outputs": [],
   "source": [
    "# Note that indefinite integrals do not include the constant of integration \n",
    "\n",
    "sp.integrate(t**2 + k, t)  # Determines an antiderivative of the function $t^2+k$ with respect to t"
   ]
  },
  {
   "cell_type": "code",
   "execution_count": null,
   "id": "3b36409b-a0e0-4d68-8fe7-de753fdf894e",
   "metadata": {},
   "outputs": [],
   "source": [
    "sp.integrate(t**2 + k, k)  # Integrates with respect to k"
   ]
  },
  {
   "cell_type": "code",
   "execution_count": null,
   "id": "79a29b28-5fee-4473-9d69-20b78086e42a",
   "metadata": {},
   "outputs": [],
   "source": [
    "sp.integrate(t**2 + k, (t, 0, 1))  # A definite integral, with respect to t, from 0 to 1"
   ]
  },
  {
   "cell_type": "markdown",
   "id": "eb36e48a-5e0b-443f-b7b6-5e4dae0fcbd9",
   "metadata": {},
   "source": [
    "## <a name='s01quest9'>Question 9:</a>\n",
    "---\n",
    "\n",
    "Consider the differential equation\n",
    "$$ \\frac{dQ}{dp} = 2\\cos{(3p)}-p^3. $$\n",
    "\n",
    "Use `sympy` find all solutions to the differential equation.  Several blank code cells are below to get you started, but students should feel free to make more as needed as well as adding Markdown cells for notes.\n",
    "\n",
    "*Hint: First you will need to create a new symbolic variable p.* \n",
    "\n",
    "### Solution to Question 9:\n",
    "---\n"
   ]
  },
  {
   "cell_type": "code",
   "execution_count": null,
   "id": "a2e30707-7178-4395-88a3-a26eeb1eb9ef",
   "metadata": {},
   "outputs": [],
   "source": [
    "p = sp.symbols('p')  # Creating p as symbolic variable"
   ]
  },
  {
   "cell_type": "code",
   "execution_count": null,
   "id": "f10d84ab-fa4b-44e4-a875-2f383d49eaea",
   "metadata": {},
   "outputs": [],
   "source": [
    "Q = 2*sp.cos(3*p) - p**3 # define function Q(p)"
   ]
  },
  {
   "cell_type": "code",
   "execution_count": null,
   "id": "f4fcf1d0",
   "metadata": {
    "scrolled": true
   },
   "outputs": [],
   "source": [
    "sp.integrate(Q, p)  # integrate with respect to p"
   ]
  },
  {
   "cell_type": "markdown",
   "id": "6979b069",
   "metadata": {},
   "source": [
    "<div class=\"alert alert-block alert-info\">\n",
    "\n",
    "Indefinite integration also includes an arbitrary constant. The full solution is\n",
    "$$Q(p) = -\\frac{p^4}{4}+\\frac{2\\sin(3p)}{3}+C.$$\n",
    "</div>"
   ]
  },
  {
   "cell_type": "markdown",
   "id": "5013ced7",
   "metadata": {},
   "source": [
    "## Creative Commons License Information\n",
    "<a rel=\"license\" href=\"https://creativecommons.org/licenses/by-nc-sa/4.0/\"><img alt=\"Creative Commons License\" style=\"border-width:0\" src=\"https://i.creativecommons.org/l/by-nc-sa/4.0/80x15.png\" /></a><br /><span xmlns:dct=\"http://purl.org/dc/terms/\" property=\"dct:title\">Elementary Differential Equations</span> by <a xmlns:cc=\"http://creativecommons.org/ns#\" href=\"https://github.com/CU-Denver-MathStats-OER/ODEs\" property=\"cc:attributionName\" rel=\"cc:attributionURL\">Adam Spiegler, Jonathon Hirschi, and Dmitry Ostrovskiy</a> is licensed under a <a rel=\"license\" href=\"http://creativecommons.org/licenses/by-nc-sa/4.0/\">Creative Commons Attribution-NonCommercial-ShareAlike 4.0 International License</a>.<br />Based on a work at <a xmlns:dct=\"http://purl.org/dc/terms/\" href=\"https://github.com/CU-Denver-MathStats-OER/ODEs\" rel=\"dct:source\">https://github.com/CU-Denver-MathStats-OER/ODEs</a> and original content created by Rasmussen, C., Keene, K. A., Dunmyre, J., & Fortune, N. (2018). *Inquiry oriented differential equations: Course materials*. Available at <a href=\"https://iode.wordpress.ncsu.edu\">https://iode.wordpress.ncsu.edu</a>."
   ]
  }
 ],
 "metadata": {
  "kernelspec": {
   "display_name": "Python 3 (ipykernel)",
   "language": "python",
   "name": "python3"
  },
  "language_info": {
   "codemirror_mode": {
    "name": "ipython",
    "version": 3
   },
   "file_extension": ".py",
   "mimetype": "text/x-python",
   "name": "python",
   "nbconvert_exporter": "python",
   "pygments_lexer": "ipython3",
   "version": "3.9.7"
  },
  "toc-autonumbering": false,
  "toc-showmarkdowntxt": false,
  "toc-showtags": false
 },
 "nbformat": 4,
 "nbformat_minor": 5
}
