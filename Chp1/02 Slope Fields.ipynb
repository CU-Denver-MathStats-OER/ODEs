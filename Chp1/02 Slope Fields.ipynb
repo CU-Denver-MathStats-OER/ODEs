{
 "cells": [
  {
   "cell_type": "markdown",
   "id": "3581413b-8b68-474d-84db-6ecfb5eb00a5",
   "metadata": {},
   "source": [
    "# Slope Fields\n",
    "----\n",
    "\n",
    "A **slope field** is a graphical representation of a rate of change equation. Given a rate of change equation, if we plug in particular values of $(t,y)$ then $\\dfrac{dy}{dt}$ tells you the slope of the tangent vector to the solution at that point.\n",
    "\n",
    "\n",
    "For example, consider the rate of change equation $\\dfrac{dy}{dt}=y+2t$.  At the point $(1, 3)$, the value of $\\dfrac{dy}{dt}$ is $5$. Thus, the slope field for this equation would show a vector at the point $(1, 3)$ with slope $5$.  A slope field depicts the exact slope of many such vectors, where we take each vector to be uniform length. Slope fields are useful because they provide a graphical approach for obtaining qualitatively correct graphs of the functions that satisfy a differential equation."
   ]
  },
  {
   "cell_type": "markdown",
   "id": "6e1c32fc-efa2-492c-8969-c5f5f905cdba",
   "metadata": {},
   "source": [
    "## Question 1: \n",
    "---\n",
    "\n",
    "Below is a partially completed slope field for  $\\dfrac{dP}{dt}=0.8P$.\n",
    "\n",
    "a. Plot many more tangent vectors to create a slope field. \\label{01problem7parta}\n",
    "\n",
    "b. Use your slope field to sketch in qualitatively correct graphs of the solution functions that start at $P = 0, 0.5$, and $2$, respectively. Note: the value of $P$ at an initial time (typically $t = 0$) is called an *initial condition*. \n",
    "\n",
    "c. Recall that a solution to a differential equation is a function that satisfies the differential equation. Explain how the graph with initial condition $P(0) = 1$ can graphically be thought of as a solution to the differential equation when the differential equation is represented by its slope field. \n",
    "\n",
    "![Partially Completed Slope Field and Table](02MyFirstSlopeFieldwithTable.png)"
   ]
  },
  {
   "cell_type": "markdown",
   "id": "883867d7-c06f-438b-9af9-69318a0e55c7",
   "metadata": {},
   "source": [
    "### Student Solution to Question 1:\n",
    "----\n",
    "\n",
    "<br> <br> <br> <br> <br> <br>"
   ]
  },
  {
   "cell_type": "markdown",
   "id": "35483307-dbe7-4b7f-bfce-a9eaea513243",
   "metadata": {},
   "source": [
    "## Question 2: \n",
    "---\n",
    "\n",
    "Below are seven rate of changes equations and three different slope fields. Without using technology, identify which differential equation is the best match for each slope field (thus you will have four rate of change equations left over). Explain your reasoning. \n",
    "$$\n",
    "\\text{(i) } \\frac{dy}{dt}=t-1 \\quad \\text{(ii) } \\frac{dy}{dt}=1-y^2 \\quad \\text{(iii) } \\frac{dy}{dt}=y^2-t^2 \\quad \\text{(iv) } \\frac{dy}{dt}=1-y\n",
    "$$\n",
    "\n",
    "$$\n",
    "\\text{(v) } \\frac{dy}{dt}=t^2-y^2 \\quad \\text{(vi) } \\frac{dy}{dt}=1-t \\quad \\text{(vii) } \\frac{dy}{dt}=9t^2-y^2\n",
    "$$\n",
    "\n",
    "<mark>We should add python cells to generate interactive slope fields. This worksheet can be improved to be more interactive.</mark>\n",
    "\n",
    "<!-- \\begin{enumerate*}\n",
    "\\item \\includegraphics[width=2.75in]{02/02SlopeField1.png} \\label{01problem8parta}\n",
    "\\item \\includegraphics[width=2.75in]{02/02SlopeField2.png} \\label{01problem8partb}\n",
    "\\end{enumerate*}\n",
    "\n",
    "\\begin{enumerate*}[resume]\n",
    "\\item \\includegraphics[width=2.75in]{02/02SlopeField3.png} \\label{01problem8partc}\n",
    "\\end{enumerate*}-->"
   ]
  },
  {
   "cell_type": "markdown",
   "id": "ce7262f6-0bda-4ddf-94be-0d233818af88",
   "metadata": {},
   "source": [
    "### Student Solution to Question 2:\n",
    "---\n",
    "\n",
    "<br> <br> <br> <br> <br> <br>"
   ]
  },
  {
   "cell_type": "markdown",
   "id": "de3697ac-83f8-4d0c-9639-369c20a247bf",
   "metadata": {},
   "source": [
    "## Question 3:\n",
    "----\n",
    "\n",
    "For each of the slope fields in the previous problem, sketch in graphs of several different qualitatively correct solutions. \n",
    "\n",
    "<mark>This also should be more interactive.</mark>\n"
   ]
  },
  {
   "cell_type": "markdown",
   "id": "a7b6d73c-3dc4-4a01-96ce-f424d16e2ff5",
   "metadata": {},
   "source": [
    "### Student Solution to Question 3:\n",
    "---\n",
    "\n",
    "<br> <br> <br> <br> <br> <br>"
   ]
  },
  {
   "cell_type": "code",
   "execution_count": null,
   "id": "124abc3d-d647-4846-aaf7-575a0b780b93",
   "metadata": {},
   "outputs": [],
   "source": []
  }
 ],
 "metadata": {
  "kernelspec": {
   "display_name": "Python 3",
   "language": "python",
   "name": "python3"
  },
  "language_info": {
   "codemirror_mode": {
    "name": "ipython",
    "version": 3
   },
   "file_extension": ".py",
   "mimetype": "text/x-python",
   "name": "python",
   "nbconvert_exporter": "python",
   "pygments_lexer": "ipython3",
   "version": "3.8.8"
  }
 },
 "nbformat": 4,
 "nbformat_minor": 5
}
