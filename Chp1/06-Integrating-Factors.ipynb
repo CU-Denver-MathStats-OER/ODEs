{
 "cells": [
  {
   "cell_type": "markdown",
   "id": "4b78800d-2ef5-4701-95ed-5a164aca85fb",
   "metadata": {},
   "source": [
    "[![Open In Colab](https://colab.research.google.com/assets/colab-badge.svg)](https://githubtocolab.com/CU-Denver-MathStats-OER/ODEs/blob/main/Chp1/06-Integrating-Factors.ipynb)\n"
   ]
  },
  {
   "cell_type": "markdown",
   "id": "8746c411-bf5a-429a-bafe-9f7b97412edc",
   "metadata": {
    "id": "8746c411-bf5a-429a-bafe-9f7b97412edc"
   },
   "source": [
    "# Lab 1.6: Solving Linear First Order Differential Equations\n",
    "----\n",
    "<font color='blue'>Reading: *Notes on Diffy Q's* Section 1.4</font>\n",
    "\n",
    "<br>"
   ]
  },
  {
   "cell_type": "markdown",
   "id": "c8ec4e4a-4906-4938-b732-613ee9485099",
   "metadata": {
    "id": "39848a6b-294d-4152-80c5-26dac41b4e1e"
   },
   "source": [
    "## <a name='06quest1'>Question 1: A Salt Solution in a Tank</a>\n",
    "----\n",
    "\n",
    "A very large tank initially contains 15 gallons of saltwater containing 6 pounds of salt. Saltwater containing 1 pound of salt per gallon is pumped into the top of the tank at a rate of 2 gallons per minute, while a well-mixed solution leaves the bottom of the tank at a rate of 1 gallon per minute. "
   ]
  },
  {
   "cell_type": "markdown",
   "id": "d43b1be3-e623-4437-a844-75c7e84844ef",
   "metadata": {
    "id": "39848a6b-294d-4152-80c5-26dac41b4e1e"
   },
   "source": [
    "### <a name='06quest1a'>Question 1a:</a>\n",
    "---\n",
    "\n",
    "Should the rate of change equation for this situation depend just on the amount of salt $S$ in the tank, the time $t$, or both $S$ and $t$? Explain your reasoning.\n",
    "\n",
    "#### Solution to Question 1a:\n",
    "----\n",
    "\n",
    "<br> <br> <br> <br> <br>"
   ]
  },
  {
   "cell_type": "markdown",
   "id": "6f7419a8-90ee-4463-b365-b66405411c6f",
   "metadata": {
    "id": "39848a6b-294d-4152-80c5-26dac41b4e1e"
   },
   "source": [
    "### <a name='06quest1b'>Question 1b:</a>\n",
    "---\n",
    "\n",
    "The following is a general rule of thumb for setting up rate of change equations for situations like this where there is an input and an output:\n",
    "\n",
    "<br>\n",
    "\n",
    "$$\\color{blue}{\\large \\text{rate of change } = \\text{ rate of change in } - \\text{ rate of change out}}.$$\n",
    "\n",
    "<br>\n",
    "\n",
    "Using the above rule of thumb, figure out a rate of change equation for this situation. *Hint: Think about what the units of $\\dfrac{dS}{dt}$ need to be, where $S$ is the amount of salt in the tank in pounds.*\n",
    "\n",
    "<br>\n",
    "\n",
    "#### Solution to Question 1b:\n",
    "----\n",
    "\n",
    "<br> <br> <br> <br> <br>"
   ]
  },
  {
   "cell_type": "markdown",
   "id": "0c3d9285-8fcc-4912-bc42-ba0e6c58dbd8",
   "metadata": {
    "id": "8f330c02-d88b-478b-8cea-8bd4f7937f92"
   },
   "source": [
    "# Plotting Solutions in a Slope Field\n",
    "---\n",
    "\n",
    "We cannot separate the differential equation in [Problem 1](#06quest1) to find a formula for the solution just yet, but we can use the slope field to approximate solutions graphically. \n",
    "\n",
    "Recall from [Lab 1.2 Slope Fields](https://githubtocolab.com/CU-Denver-MathStats-OER/ODEs/blob/main/Chp1/02-Slope-Fields.ipynb) we introduced the function `plot_sol()` that we can import from the `ode_tools` module. See [ODE Tools Tutorial](https://githubtocolab.com/CU-Denver-MathStats-OER/ODEs/blob/main/Chp1/ODE-Tools-Tutorial.ipynb) for a quick reference guide on using `plot_sol()` and other functions in the module `ode_tools`.\n",
    "\n",
    "- In the cells below, we first [load `ode_tools` from GitHub](#06LoadModule).\n",
    "- Then we [import `plot_sol`](#06Import) from `ode_tools`.\n",
    "- We are ready to use `plot_sol` to answer [Problem 2](#06quest2).\n"
   ]
  },
  {
   "cell_type": "markdown",
   "id": "eb17fe8d-4376-483b-82b4-80eac30a771e",
   "metadata": {
    "id": "tuvCY_YV5kMB"
   },
   "source": [
    "## <a name='LoadModule'>Loading `ode_tools` from GitHub</a>\n",
    "---\n",
    "\n",
    "- Run the code cell below to load the most up to date modules stored in GitHub.\n",
    "- You will only need to run this code cell one time during an active session."
   ]
  },
  {
   "cell_type": "code",
   "execution_count": null,
   "id": "977bd334-499c-4414-98a6-0496209895e1",
   "metadata": {},
   "outputs": [],
   "source": [
    "!pip install git+https://github.com/CU-Denver-MathStats-OER/ODEs\n",
    "from IPython.display import clear_output\n",
    "clear_output()"
   ]
  },
  {
   "cell_type": "markdown",
   "id": "QQEeNF1hOf6D",
   "metadata": {
    "id": "QQEeNF1hOf6D"
   },
   "source": [
    "## <a name='06Import'>Importing the `plot_sol()` Function</a>\n",
    "---\n",
    "\n",
    "Now that we have loaded the `ode_tools` module, we are ready to import the `plot_sol` function by running the code cell below."
   ]
  },
  {
   "cell_type": "code",
   "execution_count": null,
   "id": "BChP6QHZQ_6J",
   "metadata": {
    "executionInfo": {
     "elapsed": 1451,
     "status": "ok",
     "timestamp": 1660663680791,
     "user": {
      "displayName": "Adam Spiegler",
      "userId": "08916726237218427358"
     },
     "user_tz": 360
    },
    "id": "BChP6QHZQ_6J"
   },
   "outputs": [],
   "source": [
    "from utils.ode_tools import plot_sol"
   ]
  },
  {
   "cell_type": "markdown",
   "id": "ecae4bac-ebea-4ca0-9967-0ef046252219",
   "metadata": {
    "id": "ecae4bac-ebea-4ca0-9967-0ef046252219"
   },
   "source": [
    "## <a name='06quest2'>Question 2:</a> \n",
    "----\n",
    "\n",
    "Run the Python code cell below to create slope field for this differential equation you found in [Problem 1](#06quest1) and plot the solution with initial condition $S(0)=6$. Based on your plot, estimate the amount of salt in the tank after 15 minutes.\n",
    "\n",
    "### Solution to Question 2:\n",
    "----\n",
    "\n",
    "<br> <br> <br> \n",
    "<mark>Enter the formula for the differential equation from [Problem 1](#06quest1) in place of the ?? in the code cell below. Then run the code and answer the question based on the output.</mark>\n",
    "<br> <br> <br>"
   ]
  },
  {
   "cell_type": "code",
   "execution_count": null,
   "id": "8bc1b979-da9a-4b28-827c-58eceba3c534",
   "metadata": {
    "colab": {
     "base_uri": "https://localhost:8080/",
     "height": 282
    },
    "executionInfo": {
     "elapsed": 674,
     "status": "ok",
     "timestamp": 1660663833868,
     "user": {
      "displayName": "Adam Spiegler",
      "userId": "08916726237218427358"
     },
     "user_tz": 360
    },
    "id": "8bc1b979-da9a-4b28-827c-58eceba3c534",
    "outputId": "9cdd251f-4c36-45a1-9cd4-3abdfdb1df8e"
   },
   "outputs": [],
   "source": [
    "import numpy as np\n",
    "\n",
    "# Setup the grid\n",
    "t = np.linspace(0, 20, 21)  # np.linspace(initial, end, number_values)\n",
    "S = np.linspace(0, 30, 31)  # np.linspace(initial, end, number_values)\n",
    "\n",
    "############################################\n",
    "# STUDENT TO DO:\n",
    "# Setup the differential equation\n",
    "# Replace ?? with an appropriate expression\n",
    "############################################\n",
    "def diffeq(t, S):\n",
    "    return ??  # Use t and S for ind and dep variables\n",
    "\n",
    "# enter initial condition\n",
    "S0 = 6\n",
    "\n",
    "plot_sol(t, S, diffeq, S0)  # Plot solution with initial condition  "
   ]
  },
  {
   "cell_type": "markdown",
   "id": "7d43c3de-39f5-4809-b999-b3ca606bf88c",
   "metadata": {
    "id": "7d43c3de-39f5-4809-b999-b3ca606bf88c"
   },
   "source": [
    "# First Order Linear Differential Equations\n",
    "----\n",
    "\n",
    "The differential equation you developed for the salty tank is not separable, and therefore using the technique of separation of variables is not appropriate.\n",
    "This equation is a first order <font color='blue'>**linear differential equation**</font> , since it can be written in the form \n",
    "\n",
    "$$ a_1(x) \\frac{dy}{dx}+ a_2(x) \\cdot y=b(x),$$\n",
    "\n",
    "where $a_1(x)$, $a_2(x)$, and $b(x)$ are all continuous functions of the independent variable $x$ alone.\n",
    "\n",
    "Note if we divide both sides by $a_1(x)$, we can rewrite any first order linear differential equation in <font color='blue'>**standard form**</font>:\n",
    "\n",
    "$$\\frac{dy}{dx} + P(x)y = Q(x).$$"
   ]
  },
  {
   "cell_type": "markdown",
   "id": "0cf5c1af-1880-4d30-b30a-cbad7048a3ee",
   "metadata": {
    "id": "0cf5c1af-1880-4d30-b30a-cbad7048a3ee"
   },
   "source": [
    "# Reversing the Product Rule \n",
    "----\n",
    "\n",
    "The following technique, which we refer to as the **reverse product rule**, can be used find the general solution to a first-order linear equation."
   ]
  },
  {
   "cell_type": "markdown",
   "id": "0269fcdf-973f-49fa-ab1e-b3fe1194f502",
   "metadata": {
    "id": "0269fcdf-973f-49fa-ab1e-b3fe1194f502"
   },
   "source": [
    "## <a name='06quest3'>Question 3:</a> \n",
    "----\n",
    "\n",
    "Review the product rule as you remember it from calculus. In general symbolic terms, how do you represent the product rule? How would you describe it in words?\n",
    "\n",
    "### Solution to Question 3:\n",
    "----\n",
    "\n",
    "<br> <br> <br> <br> <br>"
   ]
  },
  {
   "cell_type": "markdown",
   "id": "040c4903-e6b3-4b8c-8625-45b3206c2d1d",
   "metadata": {
    "id": "093ccc73-19e6-4cd6-aff9-e23defc9aad5"
   },
   "source": [
    "# Constructing a Method\n",
    "----\n",
    "\n",
    "Consider the differential equation $\\dfrac{dy}{dx}+2y=3$. \n",
    "Note that this is a first order linear differential equation already in **standard form**, where $P(x)=2$ and $Q(x)=3$ are both continuous functions. \n",
    "\n",
    "The following illustrates a technique for finding the general solution to linear differential equations. The inspiration for the technique comes from a creative use of the product rule and the Fundamental Theorem of Calculus, as well as use of the previous technique of separation of variables."
   ]
  },
  {
   "cell_type": "markdown",
   "id": "514f07f1-33fc-46f8-b157-3b0ccd67c105",
   "metadata": {
    "id": "093ccc73-19e6-4cd6-aff9-e23defc9aad5"
   },
   "source": [
    "### <a name='06Step1'>Step 1:</a> \n",
    "---\n",
    "\n",
    "Use the product rule to expand $(y \\mu)'$.\n",
    "\n",
    "\n",
    "<br>\n",
    "\n",
    "$\\large{\n",
    "(y \\mu)' = ??\n",
    "}$\n",
    "\n",
    "<br><br><br>"
   ]
  },
  {
   "cell_type": "markdown",
   "id": "53134997-813d-4723-8f3a-6f5e5ddd9f60",
   "metadata": {
    "id": "093ccc73-19e6-4cd6-aff9-e23defc9aad5"
   },
   "source": [
    "### <a name='06Step2'>Step 2:</a> \n",
    "---\n",
    "\n",
    "In the equation $\\frac{dy}{dx}+2y=3$, rewrite $\\frac{dy}{dx}$ as $y'$.\n",
    "\n",
    "<br>\n",
    "\n",
    "$\\large{\n",
    "\\frac{dy}{dx}+2y=3 \\quad \\rightarrow \\quad \\boxed{y' + 2y} = 3\n",
    "}$\n",
    "\n",
    "<br><br><br>"
   ]
  },
  {
   "cell_type": "markdown",
   "id": "9f766ecb-5cd7-4189-aa70-abaf1ebafe76",
   "metadata": {
    "id": "093ccc73-19e6-4cd6-aff9-e23defc9aad5"
   },
   "source": [
    "### <a name='06Step3'>Step 3:</a> \n",
    "\n",
    "---\n",
    "\n",
    "Notice that the left-hand side of the equation in [step 2](#06step2) looks a lot like the expanded product rule but is missing the function $\\color{blue}{\\mu}$.  So multiply both sides by $\\color{blue}{\\mu}$, **a function that we will determine shortly**. \n",
    "\n",
    "<br>\n",
    "\n",
    "$\\large{\n",
    "\\color{blue}{\\mu}y' + 2y\\color{blue}{\\mu} = 3\\color{blue}{\\mu}\n",
    "}$\n",
    "\n",
    "<br><br><br>"
   ]
  },
  {
   "cell_type": "markdown",
   "id": "1f232e94-cf11-4b43-8baa-35336d715b23",
   "metadata": {
    "id": "093ccc73-19e6-4cd6-aff9-e23defc9aad5"
   },
   "source": [
    "### <a name='06Step4'>Step 4:</a> \n",
    "\n",
    "---\n",
    "\n",
    "Because, so far, $\\color{blue}{\\mu}$ is an arbitrary function, we can have $\\color{blue}{\\mu}$ satisfy any differential equation that we want. Use $\\mu' = 2\\mu$ to rewrite the left-hand side of [step 3](#06step3) to look like [step 1](#06step1).\n",
    "\n",
    "\n",
    "<br>\n",
    "\n",
    "$\\large{\n",
    "\\color{blue}{\\mu}y' + \\color{red}{??} = 3\\color{blue}{\\mu}\n",
    "}$\n",
    "\n",
    "\n",
    "<br><br><br>"
   ]
  },
  {
   "cell_type": "markdown",
   "id": "7990438c-5dfb-4422-abf0-cbd94790f2fd",
   "metadata": {
    "id": "093ccc73-19e6-4cd6-aff9-e23defc9aad5"
   },
   "source": [
    "### <a name='06Step5'>Step 5:</a> \n",
    "---\n",
    "\n",
    "Use separation of variables to solve $\\mu' = 2\\mu$.\n",
    "\n",
    "\n",
    "\n",
    "<br><br><br>"
   ]
  },
  {
   "cell_type": "markdown",
   "id": "76c10796-b22d-40d0-83c1-c80864fa6c7f",
   "metadata": {
    "id": "093ccc73-19e6-4cd6-aff9-e23defc9aad5"
   },
   "source": [
    "### <a name='06Step6'>Step 6:</a> \n",
    "---\n",
    "\n",
    "Replace $\\mu$ in the equation from [step 3](#06step3) with your solution from [step 5](#06step5) .\n",
    "\n",
    "\n",
    "\n",
    "<br><br><br>"
   ]
  },
  {
   "cell_type": "markdown",
   "id": "4814284f-4eea-4bee-8947-e1caa3f479b5",
   "metadata": {
    "id": "093ccc73-19e6-4cd6-aff9-e23defc9aad5"
   },
   "source": [
    "### <a name='06Step7'>Step 7:</a> \n",
    "---\n",
    "\n",
    "Show that the equation in [step 6](#06step6) can be rewritten as $\\left(ye^{2x}\\right)' = 3e^{2x}$. *Hint: Consider [step 1](#06step1).* \n",
    "\n",
    "\n",
    "\n",
    "<br><br><br>"
   ]
  },
  {
   "cell_type": "markdown",
   "id": "bec3468f-b7b1-465a-bfb5-0dd4c0a848c8",
   "metadata": {
    "id": "093ccc73-19e6-4cd6-aff9-e23defc9aad5"
   },
   "source": [
    "### <a name='06Step8'>Step 8:</a> \n",
    "---\n",
    "\n",
    "Write integrals with respect to $x$ on both sides.  Apply the Fundamental Theorem of Calculus. \n",
    "\n",
    "\n",
    "\n",
    "<br><br><br>"
   ]
  },
  {
   "cell_type": "markdown",
   "id": "45af78d9-fc6d-4411-9fcc-bb8e619d9f9e",
   "metadata": {
    "id": "093ccc73-19e6-4cd6-aff9-e23defc9aad5"
   },
   "source": [
    "### <a name='06Step9'>Step 9:</a> \n",
    "---\n",
    "\n",
    "Obtain an explicit solution by isolating $y(x)$.\n",
    "\n",
    "\n",
    "\n",
    "<br><br><br>"
   ]
  },
  {
   "cell_type": "markdown",
   "id": "4bb50f55-8dc2-4962-9382-1effa85b2333",
   "metadata": {
    "id": "4bb50f55-8dc2-4962-9382-1effa85b2333"
   },
   "source": [
    "## Key Observation\n",
    "----\n",
    "\n",
    "The key is finding a formula for the function $\\mu(x)$ that we multiply on both sides which allowed us to \"*reverse*\" the product rule (going from step 6 to step 7). The function $\\color{blue}{\\mu(x)}$ is called the <font color='blue'>**integrating factor**</font>.\n",
    "\n",
    "- The text *Notes of Diffy Q's* uses the notation $r(x)$ to denote the integrating factor.\n",
    "- The notation $\\mu(x)$ for the integrating factor is more commonly used, so we will stick with that notation."
   ]
  },
  {
   "cell_type": "markdown",
   "id": "447e43fe-1d76-4c63-98e8-5cccbccefea9",
   "metadata": {},
   "source": [
    "## <a name='06quest4'>Question 4:</a>\n",
    "----\n",
    "\n",
    "Find a general formula for the integrating factor. Replace the ${\\large\\color{red}{??}}$ in formula in step 1 below with your finding.\n",
    "\n",
    "### Solution to Question 4:\n",
    "----\n",
    "\n",
    "<br> <br> <mark>Complete formula in step 1 below.</mark> <br> <br>\n",
    "\n"
   ]
  },
  {
   "cell_type": "markdown",
   "id": "20c6e0b9-9621-4580-b506-9c776528fe54",
   "metadata": {
    "id": "20c6e0b9-9621-4580-b506-9c776528fe54"
   },
   "source": [
    "# Summarizing the Steps\n",
    "---\n",
    "\n",
    "0. Check that the differential equation is first order linear, and rewrite it in **standard form**:\n",
    "$$ \\frac{dy}{dx} + P(x)y = Q(x).$$\n",
    "\n",
    "1. Calculate the integrating factor using the observation that in general: <br> <br>\n",
    "\n",
    "$$\\mu(x) = {\\large\\color{red}{??}} \\qquad \\mbox{(for convenience, set the arbitrary constant $C=0$.)}$$\n",
    "\n",
    "<br> <br> <br>\n",
    "\n",
    "2. Multiply both sides of the standard form by $\\mu(x)$, and rewrite the equation as in step 5 of the previous method:\n",
    " $$\\frac{d}{dx} \\left(y \\mu(x) \\right) = \\mu(x) Q(x).$$\n",
    " \n",
    "3. Integrate both sides with respect to $x$, and solve for $y$ (if possible)."
   ]
  },
  {
   "cell_type": "markdown",
   "id": "e87354e1-3ebb-4766-b38f-f3b82f4ecdb1",
   "metadata": {
    "id": "e87354e1-3ebb-4766-b38f-f3b82f4ecdb1"
   },
   "source": [
    "## <a name='06quest5'>Question 5:</a> \n",
    "----\n",
    "\n",
    "Use the previous technique, which we refer to as the <font color='blue'>**method of integrating factors**</font> or informally the **reverse product rule**, to find the general solution for the Salty Tank differential equation from [Problem 1](#06quest1).\n",
    "\n",
    "### Solution to Question 5:\n",
    "----\n",
    "\n",
    "<br> <br> <br> <br> <br>\n",
    "\n",
    "### Checking your work to Question 5 with Python:\n",
    "----\n",
    "\n",
    "<br> <br> <mark>Complete the Python cells below.</mark> <br> <br>\n"
   ]
  },
  {
   "cell_type": "code",
   "execution_count": null,
   "id": "be18c702-1fd2-4170-9ed2-5b2c44f52afd",
   "metadata": {
    "id": "be18c702-1fd2-4170-9ed2-5b2c44f52afd"
   },
   "outputs": [],
   "source": [
    "import sympy as sym  # import sympy, we use the abbreviation sym\n",
    "\n",
    "t, S, C = sym.symbols('t, S, C')  # Creating t, S and C as symbols\n",
    "\n",
    "S = ??  # enter the symbolic formula for a solution\n",
    "\n",
    "dS = sym.diff(S,t) # Use diff from sympy library to differentiate y with respect to t\n",
    "\n",
    "left = (15 + t) * dS  # mult by sides by 15 + t\n",
    "right = ??  # enter a formula for the right side of diff eq\n",
    "\n",
    "print(\"The left side is dy/dt = \", sym.simplify(left), \n",
    "      \"\\n \\n The right side is \", sym.simplify(right))"
   ]
  },
  {
   "cell_type": "markdown",
   "id": "9ce38ef5-bf82-484a-bdc8-51f41f818022",
   "metadata": {
    "id": "cc8f6487-1421-4b34-ac25-b8e289848a0b"
   },
   "source": [
    "## <a name='06quest6'>Question 6:</a> \n",
    "----\n",
    "\n",
    "Use your solution to [Problem 5](#06quest5) to answer the questions below."
   ]
  },
  {
   "cell_type": "markdown",
   "id": "c131bfc8-a5f6-4313-b7de-6a28e4369dc9",
   "metadata": {
    "id": "cc8f6487-1421-4b34-ac25-b8e289848a0b"
   },
   "source": [
    "### <a name='06quest6a'>Question 6a:</a> \n",
    "----\n",
    "\n",
    "Find the particular solution corresponding to the initial condition $S(0) = 6$, and then use the particular solution to determine the amount of salt in the tank after 15 minutes. That is, compute $S(15)$. Your answer should be close to your estimate from [Problem 2](#06quest2). Is it? If not, you likely made an algebraic error.\n",
    "\n",
    "#### Solution to Question 6a:\n",
    "----\n",
    "\n",
    "<br> <br> <br> <br> <br>"
   ]
  },
  {
   "cell_type": "markdown",
   "id": "390513d0-06ef-417d-9a74-c7799248e90e",
   "metadata": {
    "id": "cc8f6487-1421-4b34-ac25-b8e289848a0b"
   },
   "source": [
    "### <a name='06quest6b'>Question 6b:</a> \n",
    "----\n",
    "\n",
    "What does your solution predict about the amount of salt in the tank in the long run?  How about the concentration? \n",
    "\n",
    "#### Solution to Question 6b:\n",
    "----\n",
    "\n",
    "<br> <br> <br> <br> <br>"
   ]
  },
  {
   "cell_type": "markdown",
   "id": "9d1409d0-13c2-4c93-b5a1-01c62b617a45",
   "metadata": {
    "id": "cc8f6487-1421-4b34-ac25-b8e289848a0b"
   },
   "source": [
    "### <a name='06quest6c'>Question 6c:</a> \n",
    "----\n",
    "\n",
    "Explain how you can make sense of the predictions from part (b) by using the differential equation itself.\n",
    "\n",
    "#### Solution to Question 6c:\n",
    "----\n",
    "\n",
    "<br> <br> <br> <br> <br>"
   ]
  },
  {
   "cell_type": "markdown",
   "id": "417ef03a-df7f-441f-a0c0-390f9e8b4be2",
   "metadata": {
    "id": "17f75c7e-a2e3-43b2-bd44-dcb9afed78e1"
   },
   "source": [
    "## <a name='06quest7'>Question 7:</a> \n",
    "----\n",
    "\n",
    "Decide whether each differential equation is linear, and if so write it in standard form."
   ]
  },
  {
   "cell_type": "markdown",
   "id": "0c9fa722-8555-4b24-a378-975742616fd8",
   "metadata": {
    "id": "17f75c7e-a2e3-43b2-bd44-dcb9afed78e1"
   },
   "source": [
    "### <a name='06quest7a'>Question 7a:</a> \n",
    "----\n",
    "\n",
    "$\\displaystyle x^2y'=x^2-3y$ \n",
    "\n",
    "#### Solution to Question 7a:\n",
    "----\n",
    "\n",
    "<br> <br> <br> <br> <br>"
   ]
  },
  {
   "cell_type": "markdown",
   "id": "9df37b85-1f47-47fb-8e2b-424c816608aa",
   "metadata": {
    "id": "17f75c7e-a2e3-43b2-bd44-dcb9afed78e1"
   },
   "source": [
    "### <a name='06quest7b'>Question 7b:</a> \n",
    "----\n",
    "\n",
    "$\\displaystyle 2y \\dfrac{dy}{dx} - 3y=8$\n",
    "\n",
    "#### Solution to Question 7b:\n",
    "----\n",
    "\n",
    "<br> <br> <br> <br> <br>"
   ]
  },
  {
   "cell_type": "markdown",
   "id": "afeee018-b50e-4811-994e-e5a72861ae05",
   "metadata": {
    "id": "17f75c7e-a2e3-43b2-bd44-dcb9afed78e1"
   },
   "source": [
    "### Solution to Question 7b:\n",
    "----\n",
    "\n",
    "<br> <br> <br> <br> <br> <br>"
   ]
  },
  {
   "cell_type": "markdown",
   "id": "6f680923-512d-48c8-9a36-acc00685aa4b",
   "metadata": {
    "id": "6f680923-512d-48c8-9a36-acc00685aa4b"
   },
   "source": [
    "## <a name='06quest8'>Question 8:</a> \n",
    "----\n",
    "\n",
    "Solve the differential equation.\n",
    "\n",
    "$$z\\frac{dw}{dz}+2w=5z^3$$\n",
    "\n",
    "### Solution to Question 8:\n",
    "----\n",
    "\n",
    "<br> <br> <br> <br> <br> <br>"
   ]
  },
  {
   "cell_type": "markdown",
   "id": "fd713bab-9cc7-4b61-9d80-7df4ea9f9d24",
   "metadata": {
    "id": "fd713bab-9cc7-4b61-9d80-7df4ea9f9d24"
   },
   "source": [
    "## <a name='06quest9'>Question 9:</a> \n",
    "----\n",
    "\n",
    "Solve the initial value problem.\n",
    "\n",
    "$$\\sin{x} \\frac{dy}{dx} + y \\cos{x} = x\\sin{x}, \\quad y \\left( \\frac{\\pi}{2} \\right)=2$$\n",
    "\n",
    "### Solution to Question 9:\n",
    "----\n",
    "\n",
    "<br> <br> <br> <br> <br> <br>"
   ]
  },
  {
   "cell_type": "markdown",
   "id": "26a1386d-61d3-417f-a393-3787ace04665",
   "metadata": {
    "id": "26a1386d-61d3-417f-a393-3787ace04665"
   },
   "source": [
    "# Creative Commons License Information\n",
    "---\n",
    "\n",
    "<a rel=\"license\" href=\"https://creativecommons.org/licenses/by-nc-sa/4.0/\"><img alt=\"Creative Commons License\" style=\"border-width:0\" src=\"https://i.creativecommons.org/l/by-nc-sa/4.0/80x15.png\" /></a><br /><span xmlns:dct=\"http://purl.org/dc/terms/\" property=\"dct:title\">Elementary Differential Equations</span> by <a xmlns:cc=\"http://creativecommons.org/ns#\" href=\"https://github.com/CU-Denver-MathStats-OER/ODEs\" property=\"cc:attributionName\" rel=\"cc:attributionURL\">Adam Spiegler, Jonathon Hirschi, and Dmitry Ostrovskiy</a> is licensed under a <a rel=\"license\" href=\"http://creativecommons.org/licenses/by-nc-sa/4.0/\">Creative Commons Attribution-NonCommercial-ShareAlike 4.0 International License</a>.<br />Based on a work at <a xmlns:dct=\"http://purl.org/dc/terms/\" href=\"https://github.com/CU-Denver-MathStats-OER/ODEs\" rel=\"dct:source\">https://github.com/CU-Denver-MathStats-OER/ODEs</a> and original content created by Rasmussen, C., Keene, K. A., Dunmyre, J., & Fortune, N. (2018). *Inquiry oriented differential equations: Course materials*. Available at <a href=\"https://iode.wordpress.ncsu.edu\">https://iode.wordpress.ncsu.edu</a>."
   ]
  },
  {
   "cell_type": "code",
   "execution_count": null,
   "id": "BgeLBxZZHSak",
   "metadata": {
    "id": "BgeLBxZZHSak"
   },
   "outputs": [],
   "source": []
  }
 ],
 "metadata": {
  "colab": {
   "collapsed_sections": [],
   "name": "06-Integrating-Factors.ipynb",
   "provenance": []
  },
  "kernelspec": {
   "display_name": "Python 3",
   "language": "python",
   "name": "python3"
  },
  "language_info": {
   "codemirror_mode": {
    "name": "ipython",
    "version": 3
   },
   "file_extension": ".py",
   "mimetype": "text/x-python",
   "name": "python",
   "nbconvert_exporter": "python",
   "pygments_lexer": "ipython3",
   "version": "3.8.8"
  }
 },
 "nbformat": 4,
 "nbformat_minor": 5
}
