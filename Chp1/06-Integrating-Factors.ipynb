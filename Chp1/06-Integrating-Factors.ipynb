{
 "cells": [
  {
   "cell_type": "markdown",
   "id": "8746c411-bf5a-429a-bafe-9f7b97412edc",
   "metadata": {},
   "source": [
    "# A Salty Tank\n",
    "----"
   ]
  },
  {
   "cell_type": "markdown",
   "id": "39848a6b-294d-4152-80c5-26dac41b4e1e",
   "metadata": {},
   "source": [
    "## <a name='06quest1'>Question 1:</a> \n",
    "----\n",
    "\n",
    "A very large tank initially contains 15 gallons of saltwater containing 6 pounds of salt. Saltwater containing 1 pound of salt per gallon is pumped into the top of the tank at a rate of 2 gallons per minute, while a well-mixed solution leaves the bottom of the tank at a rate of 1 gallon per minute. \n",
    "\n",
    "a. Should the rate of change equation for this situation depend just on the amount of salt $S$ in the tank, the time $t$, or both $S$ and $t$? Explain your reasoning.\n",
    "\n",
    "b. The following is a general rule of thumb for setting up rate of change equations for situations like this where there is an input and an output:\n",
    "\n",
    "$$\\text{rate of change } = \\text{ rate of change in } - \\text{ rate of change out}.$$\n",
    "\n",
    "Using the above rule of thumb, figure out a rate of change equation for this situation. *Hint: Think about what the units of $\\frac{dS}{dt}$ need to be, where $S$ is the amount of salt in the tank in pounds.*\n",
    "\n",
    "### Solution to Question 1:\n",
    "----\n",
    "\n",
    "<br> <br> <br> <br> <br> <br>"
   ]
  },
  {
   "cell_type": "markdown",
   "id": "ecae4bac-ebea-4ca0-9967-0ef046252219",
   "metadata": {},
   "source": [
    "## <a name='06quest2'>Question 2:</a> \n",
    "----\n",
    "\n",
    "Run the Python code cell below to create slope field for this differential equation and plot the solution with initial condition $S(0)=6$. Based on your plot, estimate the amount of salt in the tank after 15 minutes.\n",
    "\n",
    "### Solution to Question 2:\n",
    "----\n",
    "\n",
    "<br> <br> <br> <br> <br> <br>"
   ]
  },
  {
   "cell_type": "code",
   "execution_count": null,
   "id": "8bc1b979-da9a-4b28-827c-58eceba3c534",
   "metadata": {},
   "outputs": [],
   "source": [
    "import numpy as np\n",
    "\n",
    "# Setup the grid\n",
    "t = np.linspace(0, 20, 21)  # np.linspace(initial, end, number_values)\n",
    "x = np.linspace(0, 30, 31)  # np.linspace(initial, end, number_values)\n",
    "\n",
    "# Setup the differential equation\n",
    "def diffeq(x, t):\n",
    "    return 2 - x / (15 + t)  # Use t and x for ind and dep variables"
   ]
  },
  {
   "cell_type": "code",
   "execution_count": null,
   "id": "81bdb00f-cb74-46d9-83fd-7e19c9dc5e7b",
   "metadata": {},
   "outputs": [],
   "source": [
    "from plotsol import slope_field_ivp\n",
    "%matplotlib widget\n",
    "# Initial condition when t=start_t\n",
    "x0 = 6\n",
    "\n",
    "# Plot the slope field and solution\n",
    "slope_field_ivp(t, x, diffeq, x0)"
   ]
  },
  {
   "cell_type": "markdown",
   "id": "7d43c3de-39f5-4809-b999-b3ca606bf88c",
   "metadata": {},
   "source": [
    "# First Order Linear Differential Equations\n",
    "----\n",
    "\n",
    "The differential equation you developed for the salty tank is not separable, and therefore using the technique of separation of variables is not appropriate.\n",
    "This equation is a first order **linear** differential equation, since it can be written in the form \n",
    "\n",
    "$$ a_1(x) \\frac{dy}{dx}+ a_2(x) \\cdot y=b(x),$$\n",
    "\n",
    "where $a_1(x)$, $a_2(x)$, and $b(x)$ are all continuous functions of the independent variable $x$ alone.\n",
    "\n",
    "Note if we divide both sides by $a_1(x)$, we can rewrite any first order linear differential equation in **standard form**:\n",
    "\n",
    "$$\\frac{dy}{dx} + P(x)y = Q(x).$$"
   ]
  },
  {
   "cell_type": "markdown",
   "id": "0cf5c1af-1880-4d30-b30a-cbad7048a3ee",
   "metadata": {},
   "source": [
    "# Reversing the Product Rule \n",
    "----\n",
    "\n",
    "The following technique, which we refer to as the **reverse product rule**, can be used find the general solution to a first-order linear equation."
   ]
  },
  {
   "cell_type": "markdown",
   "id": "0269fcdf-973f-49fa-ab1e-b3fe1194f502",
   "metadata": {},
   "source": [
    "## <a name='06quest3'>Question 3:</a> \n",
    "----\n",
    "\n",
    "Review the product rule as you remember it from calculus. In general symbolic terms, how do you represent the product rule? How would you describe it in words?\n",
    "\n",
    "### Solution to Question 3:\n",
    "----\n",
    "\n",
    "<br> <br> <br> <br> <br> <br>"
   ]
  },
  {
   "cell_type": "markdown",
   "id": "093ccc73-19e6-4cd6-aff9-e23defc9aad5",
   "metadata": {},
   "source": [
    "## Constructing an Method\n",
    "----\n",
    "\n",
    "Consider the differential equation $\\dfrac{dy}{dx}+2y=3$. \n",
    "Note that this is a first order linear differential equation already in **standard form**, where $P(x)=2$ and $Q(x)=3$ are both continuous functions. \n",
    "\n",
    "The following illustrates a technique for finding the general solution to linear differential equations. The inspiration for the technique comes from a creative use of the product rule and the Fundamental Theorem of Calculus, as well as use of the previous technique of separation of variables.\n",
    "\n",
    "| Description of Step | Show your work |\n",
    "|---------------------|----------------|\n",
    "| 1. Use the product rule to expand $(y \\mu)'$. | <br> <br> <br> ?? <br> <br> <br> |\n",
    "| 2. In the equation $\\frac{dy}{dx}+2y=3$, rewrite <br> $\\frac{dy}{dx}$ as $y'$.| <br> <br> <br> ?? <br> <br> <br> |\n",
    "| 3. Notice that the left-hand side of the <br> equation in Box 1 looks a lot like the <br> expanded product rule but is missing <br> the function $\\mu$.  So multiply both sides <br> by $\\mu$, a function that we will determine <br> shortly. | <br> <br> <br> ?? <br> <br> <br> |\n",
    "| 4. Because, so far, $\\mu$ is an arbitrary <br> function, we can have $\\mu$ satisfy any <br> differential equation that we want. <br> <br> Use $\\mu' = 2\\mu$ to rewrite the left-hand <br> side of step 3 to look like step 1. | <br> <br> <br> ?? <br> <br> <br> |\n",
    "| 5. Use separation of variables to solve <br> $\\mu' = 2\\mu$. | <br> <br> <br> ?? <br> <br> <br> |\n",
    "| 6. Replace $\\mu$ in the equation from step 3 <br>  with your solution from step 5. | <br> <br> <br> ?? <br> <br> <br> |\n",
    "| 7. Show that the equation in step 6 can <br> be rewritten as $\\left(ye^{2x}\\right)' = 3e^{2x}$. <br> <br> *Hint: Consider step 1.* | <br> <br> <br> ?? <br> <br> <br> |\n",
    "| 8. Write integrals with respect to $x$ on <br> both sides.  Apply the Fundamental <br> Theorem of Calculus. | <br> <br> <br> ?? <br> <br> <br> |\n",
    "| 9. Obtain an explicit solution <br> by isolating $y(x)$. | <br> <br> <br> ?? <br> <br> <br> | "
   ]
  },
  {
   "cell_type": "markdown",
   "id": "4bb50f55-8dc2-4962-9382-1effa85b2333",
   "metadata": {},
   "source": [
    "## Key Observation\n",
    "----\n",
    "\n",
    "The key is finding a formula for the function $\\mu(x)$ that we multiply on both sides which allowed us to \"*reverse*\" the product rule (going from step 6 to step 7). The function $\\mu(x)$ is called the **integrating factor**. "
   ]
  },
  {
   "cell_type": "markdown",
   "id": "fa9f98ba-81f3-4581-a97e-ab248a372604",
   "metadata": {},
   "source": [
    "## <a name='06quest4'>Question 4:</a>\n",
    "----\n",
    "\n",
    "Find a general formula for the integrating factor. Replace the ?? in formula in step 1 with your finding.\n",
    "\n",
    "### Solution to Question 4:\n",
    "----\n",
    "\n",
    "<br> <br> Complete formula in step 1 below. <br> <br>\n",
    "\n"
   ]
  },
  {
   "cell_type": "markdown",
   "id": "20c6e0b9-9621-4580-b506-9c776528fe54",
   "metadata": {},
   "source": [
    "## Summarizing the Steps\n",
    "\n",
    "0. Check that the differential equation is first order linear, and rewrite it in **standard form**:\n",
    "$$ \\frac{dy}{dx} + P(x)y = Q(x).$$\n",
    "\n",
    "1. Calculate the integrating factor using the observation that in general: <br> <br>\n",
    "\n",
    "$$\\mu(x) = \\mbox{??}\\qquad \\mbox{(for convenience, set the abitrary constant $C=0$.)}$$\n",
    "\n",
    "<br> <br> <br>\n",
    "\n",
    "2. Multiply both sides of the standard form by $\\mu(x)$, and rewrite the equation as in step 5 of the previous method:\n",
    " $$\\frac{d}{dx} \\left(y \\mu(x) \\right) = \\mu(x) Q(x).$$\n",
    " \n",
    "3. Integrate both sides with respect to $x$, and solve for $y$ (if possible)."
   ]
  },
  {
   "cell_type": "markdown",
   "id": "e87354e1-3ebb-4766-b38f-f3b82f4ecdb1",
   "metadata": {},
   "source": [
    "## <a name='06quest5'>Question 5:</a> \n",
    "----\n",
    "\n",
    "Use the previous technique, which we refer to as the **method of integrating factors** or **reverse product rule**, to find the general solution for the Salty Tank differential equation from [Problem 1](#06quest1).\n",
    "\n",
    "### Solution to Question 5:\n",
    "----\n",
    "\n",
    "<br> <br> <br> <br> <br> <br>\n",
    "\n",
    "### Checking your work to Question 5 with Python:\n",
    "----\n",
    "\n",
    "<br> <br> <mark>Complete the Python cells below.</mark> <br> <br>\n"
   ]
  },
  {
   "cell_type": "code",
   "execution_count": null,
   "id": "be18c702-1fd2-4170-9ed2-5b2c44f52afd",
   "metadata": {},
   "outputs": [],
   "source": [
    "import sympy as sp  # import sympy, we use the standard sp abbreviation\n",
    "\n",
    "t, S, C = sp.symbols('t, S, C')  # Creating t, S and C as symbols\n",
    "\n",
    "S = ??  # enter the symbolic formula for a solution\n",
    "\n",
    "dS = sp.diff(S,t) # Use diff from sympy library to differentiate y with respect to t\n",
    "\n",
    "left = (15 + t) * dS  # mult by sides by 15 + t\n",
    "right = ??  # enter a formula for the right side of diff eq\n",
    "\n",
    "print(\"The left side is dy/dt = \", sp.simplify(left), \n",
    "      \"\\n \\n The right side is \", sp.simplify(right))"
   ]
  },
  {
   "cell_type": "markdown",
   "id": "cc8f6487-1421-4b34-ac25-b8e289848a0b",
   "metadata": {},
   "source": [
    "## <a name='06quest6'>Question 6:</a> \n",
    "----\n",
    "\n",
    "Use your solution to [Problem 5](#06quest5) to answer the questions below.\n",
    "\n",
    "a. Find the particular solution corresponding to the initial condition $S(0) = 6$, and then use the particular solution to determine the amount of salt in the tank after 15 minutes. That is, compute $S(15)$. Your answer should be close to your estimate from [Problem 2](#06quest2). Is it? If not, you likely made an algebraic error.\n",
    "\n",
    "b. What does your solution predict about the amount of salt in the tank in the long run?  How about the concentration? \n",
    "\n",
    "c. Explain how you can make sense of the predictions from part (b) by using the differential equation itself.\n",
    "\n",
    "### Solution to Question 6:\n",
    "----\n",
    "\n",
    "<br> <br> <br> <br> <br> <br>"
   ]
  },
  {
   "cell_type": "markdown",
   "id": "17f75c7e-a2e3-43b2-bd44-dcb9afed78e1",
   "metadata": {},
   "source": [
    "## <a name='06quest7'>Question 7:</a> \n",
    "----\n",
    "\n",
    "Decide whether each differential equation is linear, and if so write it in standard form.\n",
    "\n",
    "### a)   $x^2y'=x^2-3y$ \n",
    "\n",
    "\n",
    "### Solution to Question 7a:\n",
    "----\n",
    "\n",
    "<br> <br> <br> <br> <br> <br>\n",
    "\n",
    "### b)   $2y \\frac{dy}{dx} - 3y=8$ \n",
    "\n",
    "\n",
    "### Solution to Question 7b:\n",
    "----\n",
    "\n",
    "<br> <br> <br> <br> <br> <br>"
   ]
  },
  {
   "cell_type": "markdown",
   "id": "6f680923-512d-48c8-9a36-acc00685aa4b",
   "metadata": {},
   "source": [
    "## <a name='06quest8'>Question 8:</a> \n",
    "----\n",
    "\n",
    "Solve the differential equation.\n",
    "\n",
    "$$z\\frac{dw}{dz}+2w=5z^3$$\n",
    "\n",
    "### Solution to Question 8:\n",
    "----\n",
    "\n",
    "<br> <br> <br> <br> <br> <br>"
   ]
  },
  {
   "cell_type": "markdown",
   "id": "fd713bab-9cc7-4b61-9d80-7df4ea9f9d24",
   "metadata": {},
   "source": [
    "## <a name='06quest9'>Question 9:</a> \n",
    "----\n",
    "\n",
    "Solve the initial value problem.\n",
    "\n",
    "$$\\sin{x} \\frac{dy}{dx} + y \\cos{x} = x\\sin{x}, \\quad y \\left( \\frac{\\pi}{2} \\right)=2$$\n",
    "\n",
    "### Solution to Question 9:\n",
    "----\n",
    "\n",
    "<br> <br> <br> <br> <br> <br>"
   ]
  },
  {
   "cell_type": "markdown",
   "id": "26a1386d-61d3-417f-a393-3787ace04665",
   "metadata": {},
   "source": [
    "## Creative Commons License Information\n",
    "<a rel=\"license\" href=\"https://creativecommons.org/licenses/by-nc-sa/4.0/\"><img alt=\"Creative Commons License\" style=\"border-width:0\" src=\"https://i.creativecommons.org/l/by-nc-sa/4.0/80x15.png\" /></a><br /><span xmlns:dct=\"http://purl.org/dc/terms/\" property=\"dct:title\">Elementary Differential Equations</span> by <a xmlns:cc=\"http://creativecommons.org/ns#\" href=\"https://github.com/CU-Denver-MathStats-OER/ODEs\" property=\"cc:attributionName\" rel=\"cc:attributionURL\">Adam Spiegler, Jonathon Hirschi, and Dmitry Ostrovskiy</a> is licensed under a <a rel=\"license\" href=\"http://creativecommons.org/licenses/by-nc-sa/4.0/\">Creative Commons Attribution-NonCommercial-ShareAlike 4.0 International License</a>.<br />Based on a work at <a xmlns:dct=\"http://purl.org/dc/terms/\" href=\"https://github.com/CU-Denver-MathStats-OER/ODEs\" rel=\"dct:source\">https://github.com/CU-Denver-MathStats-OER/ODEs</a> and original content created by Rasmussen, C., Keene, K. A., Dunmyre, J., & Fortune, N. (2018). *Inquiry oriented differential equations: Course materials*. Available at <a href=\"https://iode.wordpress.ncsu.edu\">https://iode.wordpress.ncsu.edu</a>."
   ]
  },
  {
   "cell_type": "code",
   "execution_count": null,
   "id": "8b0f6de6-72b1-4847-bf2f-40d90c7adc30",
   "metadata": {},
   "outputs": [],
   "source": []
  }
 ],
 "metadata": {
  "kernelspec": {
   "display_name": "Python 3",
   "language": "python",
   "name": "python3"
  },
  "language_info": {
   "codemirror_mode": {
    "name": "ipython",
    "version": 3
   },
   "file_extension": ".py",
   "mimetype": "text/x-python",
   "name": "python",
   "nbconvert_exporter": "python",
   "pygments_lexer": "ipython3",
   "version": "3.8.8"
  }
 },
 "nbformat": 4,
 "nbformat_minor": 5
}
