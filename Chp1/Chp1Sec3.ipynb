{
 "cells": [
  {
   "cell_type": "markdown",
   "id": "b4464fdc-8373-49a3-8092-ca6b88589dce",
   "metadata": {},
   "source": [
    "# Introduction to Ordinary Differential Equations\n",
    "---\n",
    "\n",
    "## Chapter 1: \n",
    "---"
   ]
  },
  {
   "cell_type": "markdown",
   "id": "97ebfd68-f4bd-4b14-8380-11b37d926d09",
   "metadata": {},
   "source": [
    "## Section 1.3: Phase Lines\n",
    "---"
   ]
  },
  {
   "cell_type": "code",
   "execution_count": null,
   "id": "dd37fcba-722f-4403-a9a1-27183e90c281",
   "metadata": {},
   "outputs": [],
   "source": [
    "import numpy as np\n",
    "import matplotlib.pyplot as plt"
   ]
  },
  {
   "cell_type": "code",
   "execution_count": null,
   "id": "bfd7eb12-a979-4b27-bee4-d0de9d1af683",
   "metadata": {},
   "outputs": [],
   "source": [
    "from ipywidgets import interact, interactive, fixed, interact_manual\n",
    "import ipywidgets as widgets"
   ]
  },
  {
   "cell_type": "code",
   "execution_count": null,
   "id": "a2eaae10-816c-4eef-a627-bc18188a5bb2",
   "metadata": {},
   "outputs": [],
   "source": [
    "# Rate of change of population function\n",
    "def dpdt(p, t):\n",
    "    return p/2*(1-p/5)*(p/8-1)"
   ]
  },
  {
   "cell_type": "code",
   "execution_count": null,
   "id": "fae70e55-6b2d-44d0-83cf-83cbda19bae1",
   "metadata": {},
   "outputs": [],
   "source": [
    " # Create grid of time values\n",
    "t = np.linspace(0,5,50)\n",
    "# Set up phase line\n",
    "phase_line = np.zeros(len(t))\n",
    "# Initialize\n",
    "phase_line[0]=5.1\n",
    "for i in range(1,50):\n",
    "    phase_line[i]=phase_line[i-1]+dpdt(phase_line[i-1],t[i])\n",
    "    \n",
    "plt.plot(t, phase_line)"
   ]
  },
  {
   "cell_type": "code",
   "execution_count": null,
   "id": "75acdea5-8314-4c4e-a852-619acc4c7dbf",
   "metadata": {},
   "outputs": [],
   "source": [
    "# Plotting Function\n",
    "def plot_phase(p0, tf, npts=50):\n",
    "    \"\"\"Plots phase line of ODE\n",
    "    \n",
    "    Needs to have dpdt defined in global environment.\n",
    "     \n",
    "    Parameters\n",
    "    ----------\n",
    "     \n",
    "    p0: float\n",
    "         The initial condition of the ODE.\n",
    "     \n",
    "    tf: float\n",
    "         The final time to evaluate the ODE.\n",
    "         \n",
    "    npts: int\n",
    "         Number of time points to evaluate up until tf.\n",
    "    \"\"\"\n",
    "    \n",
    "    # Create grid of time values\n",
    "    t = np.linspace(0,tf,npts)\n",
    "    # Set up phase line\n",
    "    phase_line = np.zeros(len(t))\n",
    "    # Initialize\n",
    "    phase_line[0]=p0\n",
    "    # Calculate\n",
    "    for i in range(1,50):\n",
    "        phase_line[i]=phase_line[i-1]+dpdt(phase_line[i-1],t[i])\n",
    "    \n",
    "    plt.clf()\n",
    "    fig, ax = plt.subplots(1,1)\n",
    "    \n",
    "    ax.plot(t, phase_line)\n",
    "    ax.set_xlabel('Time (years)')\n",
    "    ax.set_ylabel('Population (hundres)')\n",
    "    ax.set_title('Phase Line for Spotted Owl Population')\n",
    "    plt.show()"
   ]
  },
  {
   "cell_type": "code",
   "execution_count": null,
   "id": "ac16e1d7-8779-434f-888d-0c81c4f06ea5",
   "metadata": {},
   "outputs": [],
   "source": [
    "# Visualization Notes: change the angle Theta to perturb u and a by different proportions.\n",
    "\n",
    "%reset -f out \n",
    "\n",
    "%matplotlib widget\n",
    "interact_manual(plot_phase, \n",
    "            p0 = widgets.FloatText(\n",
    "                value=5, description='$P_0$'),\n",
    "            tf = fixed(5),\n",
    "            npts = widgets.IntSlider(value=50, min=5, step = 1, max=100, description='$npts$')\n",
    "               )"
   ]
  }
 ],
 "metadata": {
  "kernelspec": {
   "display_name": "Python 3 (ipykernel)",
   "language": "python",
   "name": "python3"
  },
  "language_info": {
   "codemirror_mode": {
    "name": "ipython",
    "version": 3
   },
   "file_extension": ".py",
   "mimetype": "text/x-python",
   "name": "python",
   "nbconvert_exporter": "python",
   "pygments_lexer": "ipython3",
   "version": "3.9.12"
  }
 },
 "nbformat": 4,
 "nbformat_minor": 5
}
