{
 "cells": [
  {
   "cell_type": "markdown",
   "id": "3b14c021-1634-4191-a31e-e77ee8286dea",
   "metadata": {},
   "source": [
    "\\pagebegin{Analyzing Autonomous DEs: Spotted Owls}\n",
    "\n",
    "A group of biologists are making predictions about the spotted owl population in a forest in the Pacific Northwest.  The autonomous differential equation the scientist use to model the spotted owl population is $\\displaystyle \\frac{dP}{dt}=\\frac{P}{2}\\left(1-\\frac{P}{5}\\right)\\left(\\frac{P}{8}-1\\right)$, where $P$ is in hundreds of owls and $t$ is in years. The problem is that the current number of owls is only approximately known.  \n",
    "\\begin{enumerate}\n",
    "\\item Suppose the scientists estimate that currently $P$ is about 5 (i.e. there are currently about 500 owls in the forest).  Since 5 is only an estimate, they make long-term predictions of the owl population for the initial conditions $P = 4.9$, $P = 5.0$, and $P = 5.1$. \\textit{Without using a graphing calculator or other software}, determine the long-term predictions for these initial conditions based on the differential equation. Are they similar or different?  That is, will slightly different initial conditions yield only slightly different long-term predictions, or will they be radically different? Carry out a similar analysis if the current number of owls is somewhere around 8.\\label{04problem1}\n",
    "\\vspace{4in}\n",
    "\n",
    "\\item Give a one dimensional representation, \\textit{without words}, that would describe all solutions to the differential equation. \\label{04problem2}\n",
    "\n",
    "\\clearpage\n",
    "\\item A \\textbf{phase line} is the standard one-dimensional diagram that depicts the qualitative behavior of solutions to an autonomous differential equation. Label the dots and add arrows to the figure below to represent \\textbf{all} solutions to the differential equation in Problem \\ref{04problem1}. \\label{04problem3} \\\\\n",
    "\\includegraphics[width=1in]{04/04PhaseLine.png}\n",
    "\n",
    "\\item For the differential equation in problems \\ref{04problem1}-\\ref{04problem3} there are three equilibrium solutions. Recall that equilibrium solutions are constant functions that satisfy the differential equation. How do the other solution functions near each equilibrium solution behave in the long term? If you were to label each of these equilibrium solutions based on the way in which nearby solutions behave, what terms would you use and why? \\label{04problem4} \n",
    "\n",
    "\\end{enumerate}\n",
    "\n",
    "\\clearpage\n",
    "\n",
    "%\\pagebegin{Phase Lines}\n",
    "\n",
    "\\begin{enumerate}[resume]\n",
    "%\\item Dominique is working with the rate of change equation $\\frac{dP}{dt}=0.2P$  and thinks about solutions in terms of whether they are increasing, decreasing, or remaining constant. She illustrates her thinking with the phase line shown below. \n",
    "%\\begin{center}\n",
    "%\\includegraphics[width=6in]{04/04PhaseLineAndSomeVectors.pdf} \\\\\n",
    "%\\end{center}\n",
    "%\\clearpage\n",
    "%\\begin{enumerate}\n",
    "%\\item\tPlace your fingertip or other small item on the phase line at $P = 0$ and another fingertip or small item at $P = 0$ on the $P$ vs $t$ axes and imagine time moving forward. Explain, with reasons, what happens to your fingertips. \\label{04problem5parta} \\vfill\n",
    "\n",
    "%\\item\tPlace your fingertip or other small item on the phase line at $P = 1$ and another fingertip or small item at $P = 1$ on the $P$ vs $t$ axes at (0,1) and imagine time moving forward. Explain, with reasons, what happens to your fingertips. \\label{04problem5partb}   \\vfill\n",
    "\n",
    "%\\item\tPlace two fingertips or two small items on the phase line, one at $P = 1$ and the other at $P = 3$. What happens to your fingertips as time moves forward? How do your ideas relate to the corresponding $P$ versus $t$ graphs? \\label{04problem5partc}  \\vfill\n",
    "\n",
    "%\\item\tExplain how a person could think about the phase line as a one-dimensional projection of all of the two-dimensional $P(t)$ graphs of solutions. \\label{04problem5partd} \\vfill\n",
    "\n",
    "%\\end{enumerate}\n",
    "\n",
    "\\item Create an autonomous differential equation that has exactly two equilibrium solutions: $y(t)=3$ is a stable equilibrium and $y(t) = -4$ is an unstable equilibrium.\n"
   ]
  },
  {
   "cell_type": "code",
   "execution_count": null,
   "id": "a3b49010-19c1-4e51-9ae8-e899b405f24c",
   "metadata": {},
   "outputs": [],
   "source": []
  }
 ],
 "metadata": {
  "kernelspec": {
   "display_name": "Python 3",
   "language": "python",
   "name": "python3"
  },
  "language_info": {
   "codemirror_mode": {
    "name": "ipython",
    "version": 3
   },
   "file_extension": ".py",
   "mimetype": "text/x-python",
   "name": "python",
   "nbconvert_exporter": "python",
   "pygments_lexer": "ipython3",
   "version": "3.8.8"
  }
 },
 "nbformat": 4,
 "nbformat_minor": 5
}
