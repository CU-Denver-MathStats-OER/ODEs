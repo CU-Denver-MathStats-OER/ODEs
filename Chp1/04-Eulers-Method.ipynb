{
 "cells": [
  {
   "cell_type": "markdown",
   "id": "f3f3093c-f8e6-4ded-b5db-d7f0b88de5ed",
   "metadata": {
    "tags": []
   },
   "source": [
    "# Section 1.4: Numerically Approximations of Solutions\n",
    "---"
   ]
  },
  {
   "cell_type": "markdown",
   "id": "4f80f60b-e60c-4d32-81e1-715e56379286",
   "metadata": {
    "tags": []
   },
   "source": [
    "# A Rate of Change Equation for Limited Resources\n",
    "----\n",
    "\n",
    "In a previous problem we saw that the rate of change equation $\\dfrac{dP}{dt}=0.3P$ can be used to model a situation where there is one species, continuous reproduction, and unlimited resources. In most situations, however, the resources are not unlimited, so to improve the model one has to modify the rate of change equation $\\dfrac{dP}{dt}=0.3P$ to account for the fact that resources are limited. "
   ]
  },
  {
   "cell_type": "markdown",
   "id": "6269fa04-9573-4ee3-b214-5c8eedde7d73",
   "metadata": {
    "tags": []
   },
   "source": [
    "## <a name='04quest1'>Question 1:</a>\n",
    "----\n",
    "\n",
    "<a name='04quest1a'>a.</a> In what ways does the modified rate of change equation\n",
    "\n",
    "$$\\color{blue}{\\frac{dP}{dt}=0.3P\\left(1-\\frac{P}{10}\\right)}$$\n",
    "\n",
    "account for limited resources? (Think of 10 as scaled to mean 10,000 or 100,000.)\n",
    "\n",
    "<a name='04quest1b'>b.</a> How do you interpret the solution with initial condition $P(0) = 10$? \n",
    "\n",
    "### Solution to Question 1:\n",
    "----\n",
    "\n",
    "<br> <br> <br> <br> <br> <br>"
   ]
  },
  {
   "cell_type": "markdown",
   "id": "71932f29-5d3c-4090-b86c-7f17e849f0dd",
   "metadata": {
    "tags": []
   },
   "source": [
    "## <a name='04quest2'>Question 2:</a> \n",
    "---\n",
    "\n",
    "The Python code cell below imports the `slope_field()` function from the module named `ode_plot_tools.py`. Recall we introduced this function in [Worksheet 02 Slope Fields](02-Slope-Fields.ipynb). See [Plot Tools Tutorial](Plot-Tools-Tutorial.ipynb) for a quick reference on how to use `slope_field()` and other functions for Chapter 1.\n",
    "\n",
    "\n",
    "a. Enter a formula for the differential equation \n",
    "\n",
    "$$\\color{blue}{\\frac{dP}{dt}=0.3P\\left(1-\\frac{P}{10}\\right)}$$\n",
    "\n",
    "from [Problem 1](#04quest1) in place of the <mark>??</mark> in line of code where the formula for the differential equation should be entered. Then run the code to use the `slope_field()` function to plot the slope field for the differential equation. \n",
    "\n",
    "\n",
    "b. In what ways are your responses to [Problem 1](#04quest1) visible in the slope field you created in part a? \n",
    "\n",
    "\n",
    "c. In this problem, negative $P$ values do not make sense, but we can still mathematically make sense of the slope field for negative $P$ values. Explain why the slope field looks the way it does below the $t$-axis.\n",
    "\n",
    "### Solution to Question 2:\n",
    "----\n",
    "\n",
    "<br> <br> <br> <br> <br> <br>"
   ]
  },
  {
   "cell_type": "markdown",
   "id": "237cb3e9-9dc4-47f8-af5d-6cbb02c3c439",
   "metadata": {},
   "source": [
    "# <mark>Remove line of code that has formula entered</mark>"
   ]
  },
  {
   "cell_type": "code",
   "execution_count": null,
   "id": "0e9eb3b3-b365-4e50-a9b8-e9d686a05bcc",
   "metadata": {},
   "outputs": [],
   "source": [
    "import numpy as np\n",
    "from ode_plot_tools import slope_field\n",
    "\n",
    "# Define points where vectors will be plotted\n",
    "t = np.linspace(0, 7, 8)  # Independent variable, np.linspace(initial, end, number_values)\n",
    "x = np.linspace(-4, 15, 20)  # Dependent variable, np.linspace(initial, end, number_values)\n",
    "\n",
    "# Define the differential equation\n",
    "def diffeq(t, x):  # t is independent variable and x is dependent variable\n",
    "#    return ??  # enter the formula for dx/dt\n",
    "    return 0.3 * x * (1 - x/10) # Use t and x for ind and dep variables\n",
    "\n",
    "# Run the slope field plotter\n",
    "slope_field(t, x, diffeq)"
   ]
  },
  {
   "cell_type": "markdown",
   "id": "683b7164-6070-4e59-8083-1f1da581e39e",
   "metadata": {},
   "source": [
    "## <a name='04quest3'>Question 3:</a> \n",
    "----\n",
    "\n",
    "Using the differential equation from from [Problem 1](#04quest1),\n",
    "\n",
    "$$\\color{blue}{\\frac{dP}{dt}=0.3P\\left(1-\\frac{P}{10}\\right)},$$\n",
    "\n",
    "if there are initially $P(0)=2$ fish in the lake, approximately how many fish are in the lake at time $t=2$?  How did you arrive at your approximation? \n",
    "\n",
    "*Hint: Initially $\\dfrac{dP}{dt} = 0.48$, but what meaning does $0.48$ have? What are the units?* \n",
    "\n",
    "### Solution to Question 3:\n",
    "----\n",
    "\n",
    "<br> <br> <br> <br> <br> <br>"
   ]
  },
  {
   "cell_type": "markdown",
   "id": "3c752955-fbd2-4dc2-9942-4dd729454273",
   "metadata": {
    "tags": []
   },
   "source": [
    "## <a name='04quest4'>Question 4:</a> \n",
    "----\n",
    "\n",
    "The Python code cell below imports the `plot_sol()` function from the module named `ode_plot_tools.py`. Recall we introduced this function in [Worksheet 02 Slope Fields](02-Slope-Fields.ipynb). See [Plot Tools Tutorial](Plot-Tools-Tutorial.ipynb) for a quick reference on how to use `plot_sol()` and other functions for Chapter 1.\n",
    "\n",
    "Run the code cell below to use the `plot_sol()` function to check your previous answer by plotting the solution to the initial value problem \n",
    "\n",
    "$$\\color{blue}{\\frac{dP}{dt}=0.3P\\left(1-\\frac{P}{10}\\right), \\qquad P(0)=2}.$$\n",
    "\n",
    "\n",
    "### Solution to Question 3:\n",
    "----\n",
    "\n",
    "<br> <mark> Run the code cell below to check your previous answer. </mark> <br>"
   ]
  },
  {
   "cell_type": "code",
   "execution_count": null,
   "id": "86c5aa46-3865-4478-af91-19f64859f613",
   "metadata": {},
   "outputs": [],
   "source": [
    "from ode_plot_tools import plot_sol\n",
    "\n",
    "# Note t, x, and diffeq have already been defined in Problem 2\n",
    "# Enter the initial value x0. \n",
    "# Note t0 is the initial value in the vector t assigned above.\n",
    "\n",
    "x0 = 2\n",
    "\n",
    "# Run the function to create a plot\n",
    "plot_sol(t, x, diffeq, x0)"
   ]
  },
  {
   "cell_type": "markdown",
   "id": "c3525d88-5bca-4fb4-a37c-241eb57c7234",
   "metadata": {
    "tags": []
   },
   "source": [
    "# An Iterative Process to Predict Future Fish Populations\n",
    "---\n"
   ]
  },
  {
   "cell_type": "markdown",
   "id": "e3697b27-8a8b-4b6f-b277-2c6d84006111",
   "metadata": {
    "tags": []
   },
   "source": [
    "## <a name='04quest4'>Question 4:</a>\n",
    "----\n",
    "\n",
    "The population of fish in a lake is can be modeled with the differential equation from [Problem 1](#04quest1)\n",
    "\n",
    "$$\\color{blue}{\\frac{dP}{dt}=0.3P\\left(1-\\frac{P}{10}\\right)}.$$\n",
    "\n",
    "Edit the code cell below to stitch together, in a **tip to tail manner**, several tangent vectors to produce a graph of the population versus time if at time $t = 0$ we know there are 8 fish in the lake (again, think of 8 as scaled for say, 8000 or 80,000 fish).\n",
    "\n",
    "\n",
    "### Solution to Question 4:\n",
    "----\n",
    "\n",
    "<br> \n",
    "\n",
    "- <font color = \"red\">The first part of the code cell below that creates the slope field does not need to be edited.</font>\n",
    "- For each of the three commented out `plt.quiver()` commands:\n",
    "    - There are two <mark>??</mark> in each of the commented out commands that need to be replaced.\n",
    "    - Add a second vector where the tail of the first vector ends by replacing each <mark>??</mark> with an appropriate value.\n",
    "    - After adding a second vector, repeat this process to add a third vector.\n",
    "    - Repeat one more time to add a fourth vector.\n",
    "    - <mark>You do not need to edit the code below beyond uncommenting out lines of code and replacing each ??'s.</mark>\n",
    "- Optional: Consider how to improve this method so the solution is more accurate.\n",
    "\n",
    "<br> <br> "
   ]
  },
  {
   "cell_type": "code",
   "execution_count": null,
   "id": "5be62d31-2c83-4f85-bcaa-7bf4b536a0b1",
   "metadata": {},
   "outputs": [],
   "source": [
    "import matplotlib.pyplot as plt\n",
    "\n",
    "# DO NOT EDIT: Set up gride for slope field\n",
    "t = np.linspace(0, 8, 9)  \n",
    "x = np.linspace(-4, 15, 20)\n",
    "T, X = np.meshgrid(t, x)\n",
    "\n",
    "# DO NOT EDIT: Define Differential Equation\n",
    "def diffeq(t, x):  # t is independent variable and x is dependent variable\n",
    "    return 0.3 * x * (1 - x/10) # Use t and x for ind and dep variables\n",
    "dx = diffeq(T, X)\n",
    "dt = np.ones(dx.shape)\n",
    "\n",
    "# DO NOT EDIT: normalize the line segments\n",
    "dxu = dx / np.sqrt(dt**2 + dx**2)  # normalize dx\n",
    "dtu = dt / np.sqrt(dt**2 + dx**2)  # normalize dt\n",
    "    \n",
    "# DO NOT EDIT: Plot Slope Field\n",
    "plt.quiver(T, X, dtu, dxu,  # Plot a 2D field of arrows\n",
    "            units = 'xy',  # each arrow has length sqrt(((dtu)^2+(dxu)^2)) = 1\n",
    "            angles = 'xy')  # each arrow has direction from (t,x) to (t+dt, x+dx)\n",
    "\n",
    "#######################################\n",
    "# STUDENT TO DO: Add your own vectors\n",
    "# Replace each ?? with an appropriate value\n",
    "#######################################\n",
    "# Plot vectors\n",
    "plt.quiver(0, 8, 2, 2*diffeq(0, 8), color = 'b', \n",
    "           units = 'xy',\n",
    "           angles = 'xy',\n",
    "           scale = 1,\n",
    "           scale_units = 'x') \n",
    "#plt.quiver(2, ??, 2, 2*diffeq(2, ??), color = 'b', \n",
    "#           units = 'xy',\n",
    "#           angles = 'xy',\n",
    "#           scale = 1,\n",
    "#           scale_units = 'x') \n",
    "#plt.quiver(4, ??, 2, 2*diffeq(4, ??), color = 'b', \n",
    "#           units = 'xy',\n",
    "#           angles = 'xy',\n",
    "#           scale = 1,\n",
    "#           scale_units = 'x') \n",
    "#plt.quiver(6, ??, 2, 2*diffeq(6, ??), color = 'b', \n",
    "#           units = 'xy',\n",
    "#           angles = 'xy',\n",
    "#           scale = 1,\n",
    "#           scale_units = 'x') \n",
    "\n",
    "plt.show()"
   ]
  },
  {
   "cell_type": "markdown",
   "id": "7df235ec-db1d-466f-ad32-04d7c8c69fa0",
   "metadata": {
    "tags": []
   },
   "source": [
    "## <a name='04quest5'>Question 5:</a>\n",
    "----\n",
    "\n",
    "**Explain how you are thinking about rate of change in your method**. For example, is the rate of change constant over some increment? If yes, over what increment? If no, is the rate of change always changing? \n",
    "\n",
    "### Solution to Question 5:\n",
    "----\n",
    "\n",
    "<br> <br> <br> <br> <br> <br>"
   ]
  },
  {
   "cell_type": "markdown",
   "id": "becc7719-047a-4947-838e-2ee678049b36",
   "metadata": {
    "tags": []
   },
   "source": [
    "## <a name='04quest6'>Question 6:</a>\n",
    "----\n",
    "\n",
    "Using the differential equation \n",
    "\n",
    "$$\\color{blue}{\\frac{dP}{dt}= P\\left(1-\\dfrac{P}{20}\\right)}$$\n",
    "\n",
    "and initial condition $P(0) = 10$, José and Julie started the table given in the solution below to numerically keep track of their tip-to-tail method for connecting tangent vectors. Explain José's and Julie's approach and complete their table. **Round to two decimal places.**\n",
    "\n",
    "\n",
    "### Solution to Question 6:\n",
    "----\n",
    "\n",
    "<br> <br>\n",
    "<mark>Explain their approach:</mark>\n",
    "\n",
    "<br> <br> <br>\n",
    "\n",
    "<mark>Complete table below.</mark> *Hint: You may use Python to help with calculations.*\n",
    "\n",
    "| $t$ | $P$ | $\\dfrac{dP}{dt}$ |\n",
    "|-----|-----|------------------|\n",
    "| 0 | 10 | 5 |\n",
    "| 0.5 | 12.5 | <mark>??</mark> |\n",
    "| 1.5 | <mark>??</mark> | <mark>??</mark> |\n",
    "| 1.0 | <mark>??</mark> | <mark>??</mark> |\n",
    "| 1.5 | <mark>??</mark> |  |\n",
    "\n",
    "\n",
    "<br> <br> "
   ]
  },
  {
   "cell_type": "markdown",
   "id": "2d408495-cd4d-4742-8360-6ec64cb4c89f",
   "metadata": {
    "tags": []
   },
   "source": [
    "## <a name='04quest7'>Question 7:</a>\n",
    "----\n",
    "\n",
    "Using the same differential equation and initial condition as José and Julie in [Problem 6](#04quest6),\n",
    "\n",
    "\n",
    "$$\\frac{dP}{dt}=P\\left( 1-\\frac{P}{20}\\right) \\quad \\mbox{with} \\quad P(0)=10,$$\n",
    "\n",
    "Derrick and Delores started their table as shown in the solution below. Explain how Derrick and Delores' approach is different from José and Julie's and then complete their table. **Round to two decimal places.** \n",
    "\n",
    "\n",
    " \n",
    "\n",
    "### Solution to Question 7:\n",
    "----\n",
    "\n",
    "<br> <br>\n",
    "<mark>Explain how their approach is different:</mark>\n",
    "\n",
    "<br> <br> <br>\n",
    "\n",
    "<mark>Complete table below.</mark> *Hint: You may use Python to help with calculations.*\n",
    "\n",
    "| $t$ | $P$ | $\\dfrac{dP}{dt}$ |\n",
    "|-----|-----|------------------|\n",
    "| 0 | 10 | 5 |\n",
    "| 0.25 | 11.25 | <mark>??</mark> |\n",
    "| 0.5 |  <mark>??</mark> |  <mark>??</mark> |\n",
    "| 0.75 |  <mark>??</mark> |  |\n",
    "\n",
    "<br> <br> "
   ]
  },
  {
   "cell_type": "markdown",
   "id": "281c20c6-4f55-458f-8a11-937d6473db6d",
   "metadata": {
    "tags": []
   },
   "source": [
    "## <a name='04quest8'>Question 8:</a>\n",
    "----\n",
    "\n",
    "Consider the differential equation $\\color{blue}{\\dfrac{dy}{dt}=y+t}$ and initial condition $\\color{blue}{y(0) = 4}$. \n",
    "\n",
    "a. Use José and Julie's approach (using $\\Delta t = 0.5$) to find $y(1.5)$. You may find the table below useful for organizing your work.\n",
    "\n",
    "b. Edit the code cell below to plot your answer to part (a).\n",
    "\n",
    "### Solution to Question 8:\n",
    "----\n",
    "\n",
    "<br>\n",
    "\n",
    "a. <mark>Complete table below.</mark> *Hint: You may use Python to help with calculations.*\n",
    "\n",
    "| $t$ | $y$ | $\\dfrac{dy}{dt}$ | $\\Delta y$ |\n",
    "|-----|-----|------------------|------------|\n",
    "| 0 | 4 | <mark>??</mark> | <mark>??</mark> |\n",
    "| <mark>??</mark> | <mark>??</mark> | <mark>??</mark> | <mark>??</mark> |\n",
    "| <mark>??</mark> | <mark>??</mark> | <mark>??</mark> | <mark>??</mark> |\n",
    "| <mark>??</mark> | <mark>??</mark> | <mark>??</mark> | <mark>??</mark> |\n",
    "\n",
    "<br> <br> \n",
    "\n",
    "b. In the code cell below, you need to replace each ?? in the last portion of the code.\n",
    "\n",
    "- There are two <mark>??</mark> in lines of code that add the last two vectors to the plot.\n",
    "- Add a second vector where the tail of the first vector ends by replacing each <mark>??</mark> with appropriate values.\n",
    "- After adding a second vector, repeat this process to add a third vector.\n",
    "- <mark>You do not need to edit the code below beyond replacing each ??.</mark>\n"
   ]
  },
  {
   "cell_type": "code",
   "execution_count": null,
   "id": "21834875-0027-4733-9c53-91f392e77226",
   "metadata": {},
   "outputs": [],
   "source": [
    "#import matplotlib.pyplot as plt\n",
    "\n",
    "# DO NOT EDIT: Set up gride for slope field\n",
    "t = np.linspace(0, 3, 13)  \n",
    "x = np.linspace(0, 16, 17)\n",
    "T, X = np.meshgrid(t, x)\n",
    "\n",
    "# DO NOT EDIT: Define Differential Equation\n",
    "def diffeq(t, x):  # t is independent variable and x is dependent variable\n",
    "    return x + t # Use t and x for ind and dep variables\n",
    "dx = diffeq(T, X)\n",
    "dt = np.ones(dx.shape)\n",
    "\n",
    "# DO NOT EDIT: normalize the line segments\n",
    "dxu = dx / np.sqrt(dt**2 + dx**2)  # normalize dx\n",
    "dtu = dt / np.sqrt(dt**2 + dx**2)  # normalize dt\n",
    "    \n",
    "# DO NOT EDIT: Plot Slope Field\n",
    "plt.quiver(T, X, dtu, dxu,  # Plot a 2D field of arrows\n",
    "            units = 'xy',  # each arrow has length sqrt(((dtu)^2+(dxu)^2)) = 1\n",
    "            angles = 'xy')  # each arrow has direction from (t,x) to (t+dt, x+dx)\n",
    "\n",
    "#######################################\n",
    "# STUDENT TO DO: Add your own vectors\n",
    "# Replace each ?? with an appropriate value\n",
    "#######################################\n",
    "# Plot vectors\n",
    "plt.quiver(0, 4, 0.5, 2 , color = 'b', \n",
    "           units = 'xy',\n",
    "           angles = 'xy',\n",
    "           scale = 3.75,\n",
    "           scale_units = 'x') \n",
    "plt.quiver(0.5, ??, 0.5, ??, color = 'b', \n",
    "           units = 'xy',\n",
    "           angles = 'xy',\n",
    "           scale = 5.5,\n",
    "           scale_units = 'x') \n",
    "plt.quiver(1, ??, 0.5, ??, color = 'b', \n",
    "           units = 'xy',\n",
    "           angles = 'xy',\n",
    "           scale = 6.7,\n",
    "           scale_units = 'x') \n",
    "\n",
    "plt.show()"
   ]
  },
  {
   "cell_type": "markdown",
   "id": "dee9f58f-7043-48a9-9a4d-550023f57a27",
   "metadata": {},
   "source": [
    "# <mark>REMOVE SOLUTION BELOW</mark>"
   ]
  },
  {
   "cell_type": "code",
   "execution_count": null,
   "id": "1badda0a-f682-4a49-9651-acbc887d8479",
   "metadata": {},
   "outputs": [],
   "source": [
    "#import matplotlib.pyplot as plt\n",
    "\n",
    "# DO NOT EDIT: Set up gride for slope field\n",
    "t = np.linspace(0, 3, 13)  \n",
    "x = np.linspace(0, 16, 17)\n",
    "T, X = np.meshgrid(t, x)\n",
    "\n",
    "# DO NOT EDIT: Define Differential Equation\n",
    "def diffeq(t, x):  # t is independent variable and x is dependent variable\n",
    "    return x + t # Use t and x for ind and dep variables\n",
    "dx = diffeq(T, X)\n",
    "dt = np.ones(dx.shape)\n",
    "\n",
    "# DO NOT EDIT: normalize the line segments\n",
    "dxu = dx / np.sqrt(dt**2 + dx**2)  # normalize dx\n",
    "dtu = dt / np.sqrt(dt**2 + dx**2)  # normalize dt\n",
    "    \n",
    "# DO NOT EDIT: Plot Slope Field\n",
    "plt.quiver(T, X, dtu, dxu,  # Plot a 2D field of arrows\n",
    "            units = 'xy',  # each arrow has length sqrt(((dtu)^2+(dxu)^2)) = 1\n",
    "            angles = 'xy')  # each arrow has direction from (t,x) to (t+dt, x+dx)\n",
    "\n",
    "#######################################\n",
    "# STUDENT TO DO: Add your own vectors\n",
    "# Replace each ?? with an appropriate value\n",
    "#######################################\n",
    "# Plot vectors\n",
    "plt.quiver(0, 4, 0.5, 2 , color = 'b', \n",
    "           units = 'xy',\n",
    "           angles = 'xy',\n",
    "           scale = 3.75,\n",
    "           scale_units = 'x') \n",
    "plt.quiver(0.5, 6, 0.5, 3.25, color = 'b', \n",
    "           units = 'xy',\n",
    "           angles = 'xy',\n",
    "           scale = 5.5,\n",
    "           scale_units = 'x') \n",
    "plt.quiver(1, 9.25, 0.5, 5.125, color = 'b', \n",
    "           units = 'xy',\n",
    "           angles = 'xy',\n",
    "           scale = 6.7,\n",
    "           scale_units = 'x') \n",
    "\n",
    "plt.show()"
   ]
  },
  {
   "cell_type": "markdown",
   "id": "ffc58ca7-2890-4c9f-a6e2-5a0ea57505ab",
   "metadata": {
    "tags": []
   },
   "source": [
    "## <a name='04quest9'>Question 9:</a>\n",
    "----\n",
    "\n",
    "a. Is your value for $y(1.5)$ the exact value or an approximate value? Explain.\n",
    "\n",
    "b. **Generalizing your tip-to-tail approach:** Create an equation-based procedure/algorithm that would allow you to predict future $y$-values for any differential equation $\\dfrac{dy}{dt}$, any given initial condition, and any time increment.\n",
    "\n",
    "### Solution to Question 9:\n",
    "----\n",
    "\n",
    "<br> \n",
    "a. <mark>Explain.</mark>\n",
    "\n",
    "b. <mark>Write a formula.</mark>\n",
    "\n",
    "<br> <br>"
   ]
  },
  {
   "cell_type": "markdown",
   "id": "8ffba1d6-20d7-4d11-8c75-5e73ab142d69",
   "metadata": {},
   "source": [
    "## Comparing Tail to Tip Sketch with Actual Solution\n",
    "---\n",
    "\n",
    "Run the code below (no edits needed) to compare your approximation from [Problem 8](#04quest8) with the actual solution. Note the plot below is generated using the `plot_euler()` function is in the `ode_plot_tools` module. See [Plot Tools Tutorial](Plot-Tools-Tutorial.ipynb) for a quick reference on how to use `plot_euler()` and other functions for Chapter 1.\n",
    "\n",
    "1. We import the `plot_euler()` function.\n",
    "    - Like packages, you only need to import a function one time after opening a notebook.\n",
    "\n",
    "\n",
    "2. Input vectors of values for `t` and `x` (points where the vectors will be plotted) and define `diffeq`.\n",
    "\n",
    "3. Define an initial condition $(t_0, x_0) = $(`t0`, `x0`), step size $\\Delta t=$ `dt`, and number of iterations $n=$ `n`.\n",
    "\n",
    "4. We generate the plot by running the function with the command `plot_euler(t, x, diffeq, t0, x0, dt, n)`."
   ]
  },
  {
   "cell_type": "code",
   "execution_count": null,
   "id": "c5f38298-20b4-4838-8f0f-2dc8af5530b9",
   "metadata": {},
   "outputs": [],
   "source": [
    "# Import plot_euler function from ode_plot_tools module.\n",
    "from ode_plot_tools import plot_euler\n",
    "\n",
    "# Set up gride for slope field\n",
    "t = np.linspace(0, 1.5, 7)  \n",
    "x = np.linspace(0, 20, 21)\n",
    "\n",
    "# Define differential equation\n",
    "def diffeq(t, x):\n",
    "    return x + t \n",
    "\n",
    "# Define initial value, step size, and number of steps\n",
    "t0 = 0  # initial input value\n",
    "x0 = 4  # initial output value\n",
    "dt = 0.5  # step size\n",
    "n = 3  # number of steps\n",
    "\n",
    "\n",
    "plot_euler(t, x, diffeq, t0, x0, dt, n)"
   ]
  },
  {
   "cell_type": "markdown",
   "id": "a0e321ae-4caf-4632-b4a4-01c19d25295b",
   "metadata": {},
   "source": [
    "# Writing Python Code for Euler's Method\n",
    "---"
   ]
  },
  {
   "cell_type": "markdown",
   "id": "e2e15168-d6b6-4d8f-9db0-5acb3eb310ab",
   "metadata": {},
   "source": [
    "## <a name='04quest10'>Question 10:</a>\n",
    "---\n",
    "\n",
    "Consider the differential equation $\\color{blue}{\\dfrac{dy}{dt}=y+t}$ and initial condition $\\color{blue}{y(0) = 4}$. \n",
    "\n",
    "Using steps each size $\\Delta t = 0.5$, approximate $y(1.5)$ by completing the formulas in the code cell below.\n",
    "\n",
    "\n",
    "### Solution to Question 10:\n",
    "----\n",
    "\n",
    "<br> <br> <mark>Replace each ?? in the code below with an appropriate formula.</mark> <br> <br> <br> <br>\n"
   ]
  },
  {
   "cell_type": "code",
   "execution_count": null,
   "id": "7d6e215b-1cb9-43aa-ab6f-a18f8df28c1c",
   "metadata": {},
   "outputs": [],
   "source": [
    "#import numpy as np\n",
    "\n",
    "v = np.zeros(n+1)  # creates a vector of zeros where we'll store output\n",
    "dt = 0.5  # define the step size\n",
    "\n",
    "# Define diffeq\n",
    "def diffeq(t, x):  # t is independent variable and x is dependent variable\n",
    "    return x + t  # Use t and x for ind and dep variables\n",
    "\n",
    "# Initial value\n",
    "v[0] = 4  # initial condition is y_0 = 4\n",
    "\n",
    "# Result after step 1\n",
    "v[1] = ??\n",
    "\n",
    "# Result after step 2\n",
    "v[2] = ??\n",
    "\n",
    "# Result after step 3\n",
    "v[3] = ??\n",
    "\n",
    "print(\"After step 1, we have y(0.5) is approximately\", v[1],\n",
    "     \"\\n \\n After step 2, we have y(1) is approximately\", v[2],\n",
    "     \"\\n \\n After step 3, we have y(1.5) is approximately\", v[3],)\n"
   ]
  },
  {
   "cell_type": "markdown",
   "id": "6e4f6476-5d75-4236-8eb6-3a62c3fedbf3",
   "metadata": {},
   "source": [
    "# <mark> Remove the solution below </mark>"
   ]
  },
  {
   "cell_type": "code",
   "execution_count": null,
   "id": "a1a78e75-2d95-4026-b4cd-ffd11f86aae9",
   "metadata": {},
   "outputs": [],
   "source": [
    "#import numpy as np\n",
    "\n",
    "v = np.zeros(n+1)  # creates a vector of zeros where we'll store output\n",
    "dt = 0.5  # define the step size\n",
    "\n",
    "# Define diffeq\n",
    "def diffeq(t, x):  # t is independent variable and x is dependent variable\n",
    "    return x + t  # Use t and x for ind and dep variables\n",
    "\n",
    "# Initial value\n",
    "v[0] = 4  # initial condition is y_0 = 4\n",
    "\n",
    "# Result after step 1\n",
    "v[1] = v[0] + dt * diffeq(0, v[0])\n",
    "\n",
    "# Result after step 2\n",
    "v[2] = v[1] + dt * diffeq(0.5, v[1])\n",
    "\n",
    "# Result after step 3\n",
    "v[3] = v[2] + dt * diffeq(1, v[2])\n",
    "\n",
    "print(\"After step 1, we have y(0.5) is approximately\", v[1],\n",
    "     \"\\n \\n After step 2, we have y(1) is approximately\", v[2],\n",
    "     \"\\n \\n After step 3, we have y(1.5) is approximately\", v[3],)\n"
   ]
  },
  {
   "cell_type": "markdown",
   "id": "60909052-47f3-4aba-ab97-dbfeae22e981",
   "metadata": {},
   "source": [
    "## Computing Euler's Method with the `euler_method` Function\n",
    "---\n",
    "\n",
    "From the step-by-step method above, we can create a `for` loop to simplify code. In the code cell below, we import a function called `euler_method()` from the `ode_plot_tools` module that performs identical calculations as the code above. See [Plot Tools Tutorial](Plot-Tools-Tutorial.ipynb) for a quick reference on how to use `euler_method()` and other functions for Chapter 1.\n",
    "\n",
    "\n",
    "1. We import the `euler_method()` function.\n",
    "    - Like packages, you only need to import a function one time after opening a notebook.\n",
    "\n",
    "\n",
    "2. Define `diffeq`.\n",
    "\n",
    "3. Define the initial value $(t_0, x_0) =$ (`t0`, `x0`).\n",
    "\n",
    "4. Define the step size `dt` and number of steps `n`.\n",
    "\n",
    "5. Calculate each step with the function `euler_method(diffeq, t0, x0, dt, n)`."
   ]
  },
  {
   "cell_type": "code",
   "execution_count": null,
   "id": "77694ff7-a8e5-4a96-8307-61dbb71418da",
   "metadata": {},
   "outputs": [],
   "source": [
    "from ode_plot_tools import euler_method\n",
    "\n",
    "# Define diffeq\n",
    "def diffeq(t, x):  # t is independent variable and x is dependent variable\n",
    "    return x + t  # Use t and x for ind and dep variables\n",
    "\n",
    "# Initial value\n",
    "t0 = 0 # initial value of input\n",
    "x0 = 4 # initial value output when t = t_0\n",
    "\n",
    "# Step size and number of steps\n",
    "dt = 0.5\n",
    "n = 3\n",
    "\n",
    "# Apply Euler's method\n",
    "euler_method(diffeq, t0, x0, dt, n)"
   ]
  },
  {
   "cell_type": "markdown",
   "id": "eef72c8b-74f6-4e85-a4c7-a525f8ae8f77",
   "metadata": {},
   "source": [
    "## <a name='04quest11'>Question 11:</a>\n",
    "----\n",
    "\n",
    "Using the same differential equation from [Problem 10](#04quest10), experiment with the code below to estimate $y(1.5)$ accurate to one decimal place. How many steps did you use? What is the corresponding step size?\n",
    "\n",
    "### Solution to Question 11:\n",
    "----\n",
    "\n",
    "<br> <br> <mark>Replace each ?? to define appropriate values for `n` and `dt` in the code cell below.</mark> \n",
    "\n",
    "<br> <br> <br> <br>"
   ]
  },
  {
   "cell_type": "code",
   "execution_count": null,
   "id": "a2c60dff-aaaf-41b0-a142-05bc56c192cf",
   "metadata": {},
   "outputs": [],
   "source": [
    "# We are not changing the differential equation or initial conditions\n",
    "# Thus we do not need to redefine diffeq, t0, or x0\n",
    "\n",
    "# Number of steps and step size\n",
    "n = ??\n",
    "dt = ??\n",
    "\n",
    "# Apply Euler's method\n",
    "euler_method(diffeq, t0, x0, dt, n)"
   ]
  },
  {
   "cell_type": "markdown",
   "id": "18d1d039-2ef5-45e4-afca-4e601f7d27a7",
   "metadata": {},
   "source": [
    "## <a name='04quest12'>Question 12:</a>\n",
    "----\n",
    "\n",
    "Consider the differential equation $\\dfrac{dy}{dt} = y+t$. Estimate the value of $y(2)$ on the solution that passes through the point $(1, 3)$ using 10 steps. Use the `euler_method()` function in the `ode_plot_tools` module to perform the calculations.\n",
    "\n",
    "### Solution to Question 12:\n",
    "----\n",
    "\n",
    "<br> <br> <mark>Replace each ?? to define appropriate values or expressions in the code cell below.</mark> \n",
    "\n",
    "<br> <br> <br> <br>"
   ]
  },
  {
   "cell_type": "code",
   "execution_count": null,
   "id": "b671270c-1ed3-4211-a91f-aca7764254b9",
   "metadata": {},
   "outputs": [],
   "source": [
    "from ode_plot_tools import euler_method\n",
    "\n",
    "# Define diffeq\n",
    "def diffeq(t, x):  # t is independent variable and x is dependent variable\n",
    "    return ??  # Use t and x for ind and dep variables\n",
    "\n",
    "# Initial value\n",
    "t0 = ?? # initial value of input\n",
    "x0 = ?? # initial value output when t = t_0\n",
    "\n",
    "# Step size and number of steps\n",
    "dt = ??\n",
    "n = ??\n",
    "\n",
    "# Apply Euler's method\n",
    "euler_method(diffeq, t0, x0, dt, n)"
   ]
  },
  {
   "cell_type": "markdown",
   "id": "19e87daf-372f-4496-9fae-a472ab2b1924",
   "metadata": {},
   "source": [
    "## Creative Commons License Information\n",
    "<a rel=\"license\" href=\"https://creativecommons.org/licenses/by-nc-sa/4.0/\"><img alt=\"Creative Commons License\" style=\"border-width:0\" src=\"https://i.creativecommons.org/l/by-nc-sa/4.0/80x15.png\" /></a><br /><span xmlns:dct=\"http://purl.org/dc/terms/\" property=\"dct:title\">Elementary Differential Equations</span> by <a xmlns:cc=\"http://creativecommons.org/ns#\" href=\"https://github.com/CU-Denver-MathStats-OER/ODEs\" property=\"cc:attributionName\" rel=\"cc:attributionURL\">Adam Spiegler, Jonathon Hirschi, and Dmitry Ostrovskiy</a> is licensed under a <a rel=\"license\" href=\"http://creativecommons.org/licenses/by-nc-sa/4.0/\">Creative Commons Attribution-NonCommercial-ShareAlike 4.0 International License</a>.<br />Based on a work at <a xmlns:dct=\"http://purl.org/dc/terms/\" href=\"https://github.com/CU-Denver-MathStats-OER/ODEs\" rel=\"dct:source\">https://github.com/CU-Denver-MathStats-OER/ODEs</a> and original content created by Rasmussen, C., Keene, K. A., Dunmyre, J., & Fortune, N. (2018). *Inquiry oriented differential equations: Course materials*. Available at <a href=\"https://iode.wordpress.ncsu.edu\">https://iode.wordpress.ncsu.edu</a>."
   ]
  },
  {
   "cell_type": "code",
   "execution_count": null,
   "id": "714a8fce-4f16-4459-bedd-b496e7954132",
   "metadata": {
    "jupyter": {
     "source_hidden": true
    },
    "tags": []
   },
   "outputs": [],
   "source": [
    "# Given to students\n",
    "def Euler_method2(f, Delta_t, n, y_0):\n",
    "    # Assuming f is passed as a function of (t,y)\n",
    "    v = np.zeros(n+1)  # set each y_i by 0 at first\n",
    "    v[0] = y_0  # set first value to y_0\n",
    "    \n",
    "    for i in range(0, n):\n",
    "        v[i+1] = v[i] + Delta_t * f(i*Delta_t, v[i])  # Euler's method formula\n",
    "    return v"
   ]
  },
  {
   "cell_type": "markdown",
   "id": "7e7df2fc-0569-45ec-aeab-89ee5d98c88d",
   "metadata": {},
   "source": [
    "# <mark> IGNORE MATERIAL AFTER THIS POINT </mark>"
   ]
  },
  {
   "cell_type": "code",
   "execution_count": null,
   "id": "d47112c6-f117-4459-aedd-fde83d2cfb69",
   "metadata": {},
   "outputs": [],
   "source": [
    "import matplotlib.pyplot as plt\n",
    "from ipywidgets import interact, interactive, fixed, interact_manual\n",
    "import ipywidgets as widgets\n",
    "import ode_plot_tools as oplot"
   ]
  },
  {
   "cell_type": "code",
   "execution_count": null,
   "id": "d2eab116-5884-4edd-9e61-63c2fcc153e2",
   "metadata": {},
   "outputs": [],
   "source": [
    "# Setup the grid\n",
    "t = np.linspace(0, 7, 8)  # np.linspace(initial, end, number_values)\n",
    "x = np.linspace(-4, 15, 20)  # np.linspace(initial, end, number_values)\n",
    "# Setup the differential equation\n",
    "diffeq = lambda t, x: 0.3 * x * (1 - x/10)  # Use T and X for ind and dep variables\n",
    "\n",
    "%reset -f out \n",
    "\n",
    "# If running on Google Colab, then change next line to %matplotlib inline\n",
    "%matplotlib widget\n",
    "# Setup the plot and axes outside of plot_sol to enable clearing widget functionality\n",
    "fig, ax = plt.subplots(1,1, num=5)  \n",
    "\n",
    "interact_manual(oplot.plot_dt, \n",
    "            t = fixed(t),\n",
    "            x = fixed(x),\n",
    "            diffeq = fixed(diffeq),\n",
    "            dt = widgets.FloatSlider(\n",
    "                value=0.5, min=0.25, max = 4, step=0.01, description='Step Size $dt=$'),\n",
    "            t_0 = widgets.FloatText(\n",
    "                value=0, description='$t_0$'),\n",
    "            x_0 = widgets.FloatText(\n",
    "                value=13, description='$x_0$'),\n",
    "            nsteps = widgets.IntSlider(\n",
    "                value=1, min=1, max = 10, description='Number of Steps'),\n",
    "            npts = fixed(12),\n",
    "            ax = fixed(ax),\n",
    "            clear = widgets.Checkbox(value=False, description='Clear Previous')\n",
    "               )"
   ]
  },
  {
   "cell_type": "code",
   "execution_count": null,
   "id": "358791fb-be08-4ce3-ac76-719e2dae694a",
   "metadata": {},
   "outputs": [],
   "source": [
    "# Possible Solution\n",
    "def Euler_method2(f, Delta_t, n, start_t, y_0):\n",
    "    # Assuming f is passed as a function of (t,y)\n",
    "    v = np.zeros(n+1)  # set each y_i by 0 at first\n",
    "    v[0] = y_0  # set first value to y_0\n",
    "    \n",
    "    for i in range(0, n):\n",
    "        v[i+1] = v[i] + Delta_t * f(start_t + i*Delta_t, v[i])  # Euler's method formula\n",
    "    return v\n",
    "\n",
    "# define f(t,y)=dy/dt=y+t\n",
    "f = lambda t, y: y + t \n",
    "\n",
    "# this information was given\n",
    "start_t = 1  # start time\n",
    "end_t = 2  # end time\n",
    "y_0 = 3 # value of y when t=start_t\n",
    "\n",
    "# We can choose this\n",
    "n = 10 # number of steps, add 1 since start at t=0\n",
    "Delta_t = (1.5-0)/n  # Step size\n",
    "\n",
    "Euler_method2(f, Delta_t, n, start_t, y_0)"
   ]
  },
  {
   "cell_type": "markdown",
   "id": "eba49a73-1560-4c1a-befe-2577ca5ad029",
   "metadata": {},
   "source": [
    "Below is an interactive widget for visualizing how the Euler method approximates an exact solution."
   ]
  },
  {
   "cell_type": "code",
   "execution_count": null,
   "id": "15652959-1b29-4585-9b44-2f7c4db5cb12",
   "metadata": {},
   "outputs": [],
   "source": [
    "# Setup the grid\n",
    "t = np.linspace(0,2*np.pi,12)  # np.linspace(initial, end, number_values)\n",
    "x = np.linspace(-10,10,12)  # np.linspace(initial, end, number_values)\n",
    "# Setup the differential equation\n",
    "diffeq = lambda t, x: np.cos(t)  # Use T and X for ind and dep variables\n",
    "# Exact Solution, determined analytically\n",
    "def soln(t, x, x0):\n",
    "    return np.sin(t)+x0\n",
    "\n",
    "%reset -f out \n",
    "\n",
    "%matplotlib widget\n",
    "fig, ax = plt.subplots(1,1, num=5)\n",
    "\n",
    "interact_manual(oplot.plot_euler, \n",
    "            t = fixed(t),\n",
    "            x = fixed(x),\n",
    "            diffeq = fixed(diffeq),\n",
    "            t_0 = fixed(0),\n",
    "            x_0 = widgets.FloatText(\n",
    "                value=0, description='Initial Conditions $x_0$'),\n",
    "            dt = widgets.FloatSlider(\n",
    "                value=0.5, min=0.1, max = 1.5, step=0.001, description='Step Size $dt=$'),\n",
    "            n = widgets.IntSlider(\n",
    "                value=1, min=1, max = 1000, description='Number of Steps'),\n",
    "            ax = fixed(ax),\n",
    "            clear = widgets.Checkbox(value=False, description='Clear Previous')\n",
    "               )"
   ]
  },
  {
   "cell_type": "code",
   "execution_count": null,
   "id": "d18a3889-6e23-4451-af28-26c7b76ac016",
   "metadata": {},
   "outputs": [],
   "source": []
  }
 ],
 "metadata": {
  "kernelspec": {
   "display_name": "Python 3",
   "language": "python",
   "name": "python3"
  },
  "language_info": {
   "codemirror_mode": {
    "name": "ipython",
    "version": 3
   },
   "file_extension": ".py",
   "mimetype": "text/x-python",
   "name": "python",
   "nbconvert_exporter": "python",
   "pygments_lexer": "ipython3",
   "version": "3.8.8"
  }
 },
 "nbformat": 4,
 "nbformat_minor": 5
}
