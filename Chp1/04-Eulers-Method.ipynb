{
 "cells": [
  {
   "cell_type": "markdown",
   "id": "fc0267fe-8a54-4644-9962-d8363c43b8fa",
   "metadata": {},
   "source": [
    "[![Open In Colab](https://colab.research.google.com/assets/colab-badge.svg)](https://githubtocolab.com/CU-Denver-MathStats-OER/ODEs/blob/main/Chp1/04-Eulers-Method.ipynb)\n"
   ]
  },
  {
   "cell_type": "markdown",
   "id": "f3f3093c-f8e6-4ded-b5db-d7f0b88de5ed",
   "metadata": {
    "id": "f3f3093c-f8e6-4ded-b5db-d7f0b88de5ed",
    "tags": []
   },
   "source": [
    "# Lab 1.4: Numerically Approximations of Solutions\n",
    "---\n",
    "<font color=\"dodgerblue\">Reading: *Notes on Diffy Q's* Section 1.7</font>\n",
    "\n",
    "<br>"
   ]
  },
  {
   "cell_type": "markdown",
   "id": "4f80f60b-e60c-4d32-81e1-715e56379286",
   "metadata": {
    "id": "4f80f60b-e60c-4d32-81e1-715e56379286",
    "tags": []
   },
   "source": [
    "# A Rate of Change Equation for Limited Resources\n",
    "----\n",
    "\n",
    "In a previous question we saw that the rate of change equation $\\dfrac{dP}{dt}=0.3P$ can be used to model a situation where there is one species, continuous reproduction, and unlimited resources. In most situations, however, the resources are not unlimited, so to improve the model one has to modify the rate of change equation $\\dfrac{dP}{dt}=0.3P$ to account for the fact that resources are limited. "
   ]
  },
  {
   "cell_type": "markdown",
   "id": "6f7cc865-a99f-4a91-afeb-de3e6339ba88",
   "metadata": {
    "id": "6269fa04-9573-4ee3-b214-5c8eedde7d73",
    "tags": []
   },
   "source": [
    "## <a name='04quest1'>Question 1:</a>\n",
    "----\n",
    "\n",
    "Consider a modified rate of change equation for the population given by \n",
    "\n",
    "$$\\color{dodgerblue}{\\dfrac{dP}{dt}=0.3P\\left(1-\\dfrac{P}{10}\\right)}$$\n",
    "\n",
    "and answer the questions below."
   ]
  },
  {
   "cell_type": "markdown",
   "id": "c8e9384f-f7d3-4975-84c3-396e0c68640a",
   "metadata": {
    "id": "6269fa04-9573-4ee3-b214-5c8eedde7d73",
    "tags": []
   },
   "source": [
    "### <a name='04quest1a'>Question 1a:</a>\n",
    "----\n",
    "\n",
    "In what ways does the modified rate of change equation account for limited resources? (Think of 10 as scaled to mean 10,000 or 100,000.)\n",
    "\n",
    "#### Solution to Question 1a:\n",
    "----\n",
    "\n",
    "<br> <br> <br> <br> <br>"
   ]
  },
  {
   "cell_type": "markdown",
   "id": "e5ef1a7d-bde3-4c71-81ca-760d5271c3a7",
   "metadata": {
    "id": "6269fa04-9573-4ee3-b214-5c8eedde7d73",
    "tags": []
   },
   "source": [
    "### <a name='04quest1b'>Question 1b:</a>\n",
    "----\n",
    "\n",
    "How do you interpret the solution with initial condition $P(0) = 10$? \n",
    "\n",
    "#### Solution to Question 1b:\n",
    "----\n",
    "\n",
    "<br> <br> <br> <br> <br>"
   ]
  },
  {
   "cell_type": "markdown",
   "id": "1cbda810-6227-4c3b-81a4-d86b3fa3c60e",
   "metadata": {
    "id": "pQNr8zojIcF3"
   },
   "source": [
    "# <a name='04LoadModule'>Loading `ode_tools` from GitHub</a>\n",
    "---\n",
    "\n",
    "- Run the code cell below to load the most up to date modules stored in GitHub.\n",
    "- You will only need to run this code cell one time during an active session."
   ]
  },
  {
   "cell_type": "code",
   "execution_count": null,
   "id": "0fbfeaee-32b0-4774-bbbb-0e88841ed633",
   "metadata": {},
   "outputs": [],
   "source": [
    "!pip install git+https://github.com/CU-Denver-MathStats-OER/ODEs\n",
    "from IPython.display import clear_output\n",
    "clear_output()"
   ]
  },
  {
   "cell_type": "markdown",
   "id": "71932f29-5d3c-4090-b86c-7f17e849f0dd",
   "metadata": {
    "id": "71932f29-5d3c-4090-b86c-7f17e849f0dd",
    "tags": []
   },
   "source": [
    "## <a name='04quest2'>Question 2:</a> \n",
    "---\n",
    "\n",
    "The Python code cell below imports the `slope_field()` function from the `ode_tools` module. Recall we introduced this function in [Lab 1.2 Slope Fields](https://githubtocolab.com/CU-Denver-MathStats-OER/ODEs/blob/main/Chp1/02-Slope-Fields.ipynb). See [ODE Tools Tutorial](https://githubtocolab.com/CU-Denver-MathStats-OER/ODEs/blob/main/Chp1/ODE-Tools-Tutorial.ipynb) for a quick reference on how to use `slope_field()` and other functions for Chapter 1.\n",
    "\n"
   ]
  },
  {
   "cell_type": "markdown",
   "id": "Er07ZOTa6229",
   "metadata": {
    "id": "Er07ZOTa6229"
   },
   "source": [
    "### <a name='04quest2a'>Question 2a:</a>\n",
    "---\n",
    "\n",
    "Enter a formula for the differential equation \n",
    "\n",
    "$$\\color{dodgerblue}{\\frac{dP}{dt}=0.3P\\left(1-\\frac{P}{10}\\right)}$$\n",
    "\n",
    "from [Question 1](#04quest1) in place of the <mark>??</mark> in line of code where the formula for the differential equation should be entered. Then run the code to use the `slope_field()` function to plot the slope field for the differential equation. \n",
    "  - Be sure you have already loaded `ode_tools` from GitHub. See either [Loading from GitHub](#04LoadModule) instructions above.\n",
    "\n",
    "<br> \n",
    "\n",
    "#### Solution to Question 2a:\n",
    "----\n",
    "\n",
    "<br> <br>\n",
    "<mark>Edit and run the code cell below.</mark>\n",
    "<br> <br>"
   ]
  },
  {
   "cell_type": "code",
   "execution_count": null,
   "id": "z_ZLZ3IQOtGZ",
   "metadata": {
    "id": "z_ZLZ3IQOtGZ"
   },
   "outputs": [],
   "source": [
    "import numpy as np\n",
    "from utils.ode_tools import slope_field\n",
    "\n",
    "# Define points where vectors will be plotted\n",
    "t = np.linspace(0, 7, 8)  # Independent variable, np.linspace(initial, end, number_values)\n",
    "p = np.linspace(-4, 15, 20)  # Dependent variable, np.linspace(initial, end, number_values)\n",
    "\n",
    "# Define the differential equation\n",
    "def diffeq(t, p):  # t is independent variable and p is dependent variable\n",
    "    return ??  # enter the formula for dp/dt\n",
    "\n",
    "# Run the slope field plotter\n",
    "slope_field(t, p, diffeq)"
   ]
  },
  {
   "cell_type": "markdown",
   "id": "uFpTUd8I6fhG",
   "metadata": {
    "id": "uFpTUd8I6fhG"
   },
   "source": [
    "### <a name='04quest2b'>Question 2b:</a>\n",
    "---\n",
    "\n",
    "In what ways are your responses to [Question 1](#04quest1) visible in the slope field you created in [part 2a](#04quest2a)? \n",
    "\n",
    "<br> <br>\n",
    "\n",
    "#### Solution to Question 2b:\n",
    "----\n",
    "\n",
    "<br> <br> <br> <br> <br>\n"
   ]
  },
  {
   "cell_type": "markdown",
   "id": "AudlFpPB7Oor",
   "metadata": {
    "id": "AudlFpPB7Oor"
   },
   "source": [
    "### <a name='04quest2c'>Question 2c:</a>\n",
    "---\n",
    "\n",
    "In this question, negative $P$ values do not make sense, but we can still mathematically make sense of the slope field for negative $P$ values. Explain why the slope field looks the way it does below the $t$-axis.\n",
    "\n",
    "#### Solution to Question 2c:\n",
    "----\n",
    "\n",
    "<br> <br> <br> <br> <br>"
   ]
  },
  {
   "cell_type": "markdown",
   "id": "683b7164-6070-4e59-8083-1f1da581e39e",
   "metadata": {
    "id": "683b7164-6070-4e59-8083-1f1da581e39e"
   },
   "source": [
    "## <a name='04quest3'>Question 3:</a> \n",
    "----\n",
    "\n",
    "Using the differential equation from from [Question 1](#04quest1),\n",
    "\n",
    "$$\\color{dodgerblue}{\\frac{dP}{dt}=0.3P\\left(1-\\frac{P}{10}\\right)},$$\n",
    "\n",
    "and in addition we know there are initially $P(0)=2$ fish in the lake, approximately how many fish are in the lake at time $t=2$? How did you arrive at your approximation? \n",
    "\n",
    "*Hint: Initially $\\dfrac{dP}{dt} = 0.48$, but what meaning does $0.48$ have? What are the units?* \n",
    "\n",
    "### Solution to Question 3:\n",
    "----\n",
    "\n",
    "<br> <br> <br> <br> <br>"
   ]
  },
  {
   "cell_type": "markdown",
   "id": "3c752955-fbd2-4dc2-9942-4dd729454273",
   "metadata": {
    "id": "3c752955-fbd2-4dc2-9942-4dd729454273",
    "tags": []
   },
   "source": [
    "## <a name='04quest4'>Question 4:</a> \n",
    "----\n",
    "\n",
    "The Python code cell below imports the `plot_sol()` function from the module named `ode_tools`. Recall we introduced this function in [Lab 1.2 Slope Fields](https://githubtocolab.com/CU-Denver-MathStats-OER/ODEs/blob/main/Chp1/02-Slope-Fields.ipynb). See [ODE Tools Tutorial](https://githubtocolab.com/CU-Denver-MathStats-OER/ODEs/blob/main/Chp1/ODE-Tools-Tutorial.ipynb) for a quick reference on how to use `plot_sol()` and other functions for Chapter 1. \n",
    "\n",
    "Run the code cell below to use the `plot_sol()` function to check your previous answer by plotting the solution to the initial value problem \n",
    "\n",
    "$$\\color{dodgerblue}{\\frac{dP}{dt}=0.3P\\left(1-\\frac{P}{10}\\right), \\qquad P(0)=2}.$$\n",
    "\n",
    "\n",
    "### Solution to Question 4:\n",
    "----\n",
    "\n",
    "<br> <br> <mark> Run the code cell below to check your previous answer. </mark> <br> <br>"
   ]
  },
  {
   "cell_type": "code",
   "execution_count": null,
   "id": "86c5aa46-3865-4478-af91-19f64859f613",
   "metadata": {
    "id": "86c5aa46-3865-4478-af91-19f64859f613"
   },
   "outputs": [],
   "source": [
    "from utils.ode_tools import plot_sol\n",
    "\n",
    "# Note t, p, and diffeq have already been defined in Question 2\n",
    "# Enter the initial values t0 and p0 \n",
    "\n",
    "t0 = 0\n",
    "p0 = 2\n",
    "\n",
    "# Run the function to create a plot\n",
    "plot_sol(t, p, diffeq, t0, p0)"
   ]
  },
  {
   "cell_type": "markdown",
   "id": "c3525d88-5bca-4fb4-a37c-241eb57c7234",
   "metadata": {
    "id": "c3525d88-5bca-4fb4-a37c-241eb57c7234",
    "tags": []
   },
   "source": [
    "# An Iterative Process to Predict Future Fish Populations\n",
    "---\n"
   ]
  },
  {
   "cell_type": "markdown",
   "id": "e3697b27-8a8b-4b6f-b277-2c6d84006111",
   "metadata": {
    "id": "e3697b27-8a8b-4b6f-b277-2c6d84006111",
    "tags": []
   },
   "source": [
    "## <a name='04quest5'>Question 5:</a>\n",
    "----\n",
    "\n",
    "The population of fish in a lake is can be modeled with the differential equation from [Question 1](#04quest1)\n",
    "\n",
    "$$\\color{dodgerblue}{\\frac{dP}{dt}=0.3P\\left(1-\\frac{P}{10}\\right)}.$$\n",
    "\n",
    "Edit the code cell below to stitch together, in a **tip to tail manner**, several tangent vectors to produce a graph of the population versus time if at time $t = 0$ we know there are 8 fish in the lake (again, think of 8 as scaled for say, 8000 or 80,000 fish).\n",
    "\n",
    "\n",
    "### Solution to Question 5:\n",
    "----\n",
    "\n",
    "<br> \n",
    "\n",
    "- <font color = \"tomato\">The first part of the code cell below that creates the slope field does not need to be edited.</font>\n",
    "- For each of the three commented out `plt.quiver()` commands:\n",
    "    - There are two <mark>??</mark> in each of the commented out commands that need to be replaced.\n",
    "    - Add a second vector where the tail of the first vector ends by replacing each <mark>??</mark> with an appropriate value.\n",
    "    - After adding a second vector, repeat this process to add a third vector.\n",
    "    - Repeat one more time to add a fourth vector.\n",
    "    - <mark>You do not need to edit the code below beyond uncommenting out lines of code and replacing each ??'s.</mark>\n",
    "- Optional: Consider how to improve this method so the solution is more accurate.\n",
    "\n",
    "<br> <br> "
   ]
  },
  {
   "cell_type": "code",
   "execution_count": null,
   "id": "5be62d31-2c83-4f85-bcaa-7bf4b536a0b1",
   "metadata": {
    "id": "5be62d31-2c83-4f85-bcaa-7bf4b536a0b1"
   },
   "outputs": [],
   "source": [
    "import matplotlib.pyplot as plt\n",
    "\n",
    "# DO NOT EDIT: Set up gride for slope field\n",
    "t = np.linspace(0, 8, 9)  \n",
    "p = np.linspace(-4, 15, 20)\n",
    "T, P = np.meshgrid(t, p)\n",
    "\n",
    "# DO NOT EDIT: Define Differential Equation\n",
    "def diffeq(t, p):  # t is independent variable and p is dependent variable\n",
    "    return 0.3 * p * (1 - p/10) # Use t and p for ind and dep variables\n",
    "dp = diffeq(T, P)\n",
    "dt = np.ones(dp.shape)\n",
    "\n",
    "# DO NOT EDIT: normalize the line segments\n",
    "dpu = dp / np.sqrt(dt**2 + dp**2)  # normalize dp\n",
    "dtu = dt / np.sqrt(dt**2 + dp**2)  # normalize dt\n",
    "    \n",
    "# DO NOT EDIT: Plot Slope Field\n",
    "plt.quiver(T, P, dtu, dpu,  # Plot a 2D field of arrows\n",
    "            units = 'xy',  \n",
    "            angles = 'xy')\n",
    "\n",
    "#######################################\n",
    "# STUDENT TO DO: Add your own vectors\n",
    "# Replace each ?? with an appropriate value\n",
    "#######################################\n",
    "# Plot vectors\n",
    "plt.quiver(0, 8, 2, 2*diffeq(0, 8), color = 'b', \n",
    "           angles = 'xy',\n",
    "           scale = 1,\n",
    "           scale_units = 'xy') \n",
    "#plt.quiver(2, ??, 2, 2*diffeq(2, ??), color = 'b', \n",
    "#           angles = 'xy',\n",
    "#           scale = 1,\n",
    "#           scale_units = 'x') \n",
    "#plt.quiver(4, ??, 2, 2*diffeq(4, ??), color = 'b', \n",
    "#           angles = 'xy',\n",
    "#           scale = 1,\n",
    "#           scale_units = 'xy') \n",
    "#plt.quiver(6, ??, 2, 2*diffeq(6, ??), color = 'b', \n",
    "#           angles = 'xy',\n",
    "#           scale = 1,\n",
    "#           scale_units = 'xy') \n",
    "\n",
    "plt.show()"
   ]
  },
  {
   "cell_type": "markdown",
   "id": "7df235ec-db1d-466f-ad32-04d7c8c69fa0",
   "metadata": {
    "id": "7df235ec-db1d-466f-ad32-04d7c8c69fa0",
    "tags": []
   },
   "source": [
    "## <a name='04quest6'>Question 6:</a>\n",
    "----\n",
    "\n",
    "**Explain how you are thinking about rate of change in your method**. For example, is the rate of change constant over some increment? If yes, over what increment? If no, is the rate of change always changing? \n",
    "\n",
    "### Solution to Question 6:\n",
    "----\n",
    "\n",
    "<br> <br> <br> <br> <br>"
   ]
  },
  {
   "cell_type": "markdown",
   "id": "becc7719-047a-4947-838e-2ee678049b36",
   "metadata": {
    "id": "becc7719-047a-4947-838e-2ee678049b36",
    "tags": []
   },
   "source": [
    "## <a name='04quest7'>Question 7:</a>\n",
    "----\n",
    "\n",
    "Using the differential equation \n",
    "\n",
    "$$\\color{dodgerblue}{\\frac{dP}{dt}= P\\left(1-\\dfrac{P}{20}\\right)}$$\n",
    "\n",
    "and initial condition $P(0) = 10$, José and Julie started the table given in the solution below to numerically keep track of their tip-to-tail method for connecting tangent vectors. Explain José's and Julie's approach and complete their table. **Round to two decimal places.**\n",
    "\n",
    "\n",
    "### Solution to Question 7:\n",
    "----\n",
    "\n",
    "<br> <br>\n",
    "<mark>Explain their approach:</mark>\n",
    "\n",
    "<br> <br>\n",
    "\n",
    "<mark>Complete table below.</mark> *Hint: You may use Python to help with calculations.*\n",
    "\n",
    "| $\\large t$ | $\\large P$ | $\\large \\dfrac{dP}{dt}$ |\n",
    "|-----|-----|------------------|\n",
    "| 0 | 10 | 5 |\n",
    "| 0.5 | 12.5 | <mark>??</mark> |\n",
    "| 1.5 | <mark>??</mark> | <mark>??</mark> |\n",
    "| 1.0 | <mark>??</mark> | <mark>??</mark> |\n",
    "| 1.5 | <mark>??</mark> |  |\n",
    "\n",
    "\n",
    "<br> <br> "
   ]
  },
  {
   "cell_type": "markdown",
   "id": "2d408495-cd4d-4742-8360-6ec64cb4c89f",
   "metadata": {
    "id": "2d408495-cd4d-4742-8360-6ec64cb4c89f",
    "tags": []
   },
   "source": [
    "## <a name='04quest8'>Question 8:</a>\n",
    "----\n",
    "\n",
    "Using the same differential equation and initial condition as José and Julie in [Question 7](#04quest7),\n",
    "\n",
    "\n",
    "$$\\frac{dP}{dt}=P\\left( 1-\\frac{P}{20}\\right) \\quad \\mbox{with} \\quad P(0)=10,$$\n",
    "\n",
    "Derrick and Delores started their table as shown in the solution below. Explain how Derrick and Delores' approach is different from José and Julie's and then complete their table. **Round to two decimal places.** \n",
    "\n",
    "\n",
    " \n",
    "\n",
    "### Solution to Question 8:\n",
    "----\n",
    "\n",
    "<br> <br>\n",
    "<mark>Explain how their approach is different:</mark>\n",
    "\n",
    "<br> <br>\n",
    "\n",
    "<mark>Complete table below.</mark> *Hint: You may use Python to help with calculations.*\n",
    "\n",
    "| $t$ | $P$ | $\\dfrac{dP}{dt}$ |\n",
    "|-----|-----|------------------|\n",
    "| 0 | 10 | 5 |\n",
    "| 0.25 | 11.25 | <mark>??</mark> |\n",
    "| 0.5 |  <mark>??</mark> |  <mark>??</mark> |\n",
    "| 0.75 |  <mark>??</mark> |  |\n",
    "\n",
    "<br> <br> "
   ]
  },
  {
   "cell_type": "markdown",
   "id": "281c20c6-4f55-458f-8a11-937d6473db6d",
   "metadata": {
    "id": "281c20c6-4f55-458f-8a11-937d6473db6d",
    "tags": []
   },
   "source": [
    "## <a name='04quest9'>Question 9:</a>\n",
    "----\n",
    "\n",
    "Consider the differential equation $\\color{dodgerblue}{\\dfrac{dy}{dt}=y+t}$ and initial condition $\\color{dodgerblue}{y(0) = 4}$. \n",
    "\n",
    "a. Use José and Julie's approach (using $\\Delta t = 0.5$) to find $y(1.5)$. You may find the table below useful for organizing your work.\n",
    "\n",
    "b. Edit the code cell below to plot your answer to part (a).\n",
    "\n",
    "### Solution to Question 9:\n",
    "----\n",
    "\n",
    "<br>\n",
    "\n",
    "a. <mark>Complete table below.</mark> *Hint: You may use Python to help with calculations.*\n",
    "\n",
    "| $t$ | $y$ | $\\dfrac{dy}{dt}$ | $\\Delta y$ |\n",
    "|-----|-----|------------------|------------|\n",
    "| 0 | 4 | <mark>??</mark> | <mark>??</mark> |\n",
    "| <mark>??</mark> | <mark>??</mark> | <mark>??</mark> | <mark>??</mark> |\n",
    "| <mark>??</mark> | <mark>??</mark> | <mark>??</mark> | <mark>??</mark> |\n",
    "| <mark>??</mark> | <mark>??</mark> | <mark>??</mark> | <mark>??</mark> |\n",
    "\n",
    "<br> <br> \n",
    "\n",
    "b. In the code cell below, you need to replace each ?? in the last portion of the code.\n",
    "\n",
    "- There are two <mark>??</mark> in lines of code that add the last two vectors to the plot.\n",
    "- Add a second vector where the tail of the first vector ends by replacing each <mark>??</mark> with appropriate values.\n",
    "- After adding a second vector, repeat this process to add a third vector.\n",
    "- <mark>You do not need to edit the code below beyond replacing each ??.</mark>\n"
   ]
  },
  {
   "cell_type": "code",
   "execution_count": null,
   "id": "21834875-0027-4733-9c53-91f392e77226",
   "metadata": {
    "id": "21834875-0027-4733-9c53-91f392e77226"
   },
   "outputs": [],
   "source": [
    "#import matplotlib.pyplot as plt\n",
    "\n",
    "# DO NOT EDIT: Set up grid for slope field\n",
    "t = np.linspace(0, 3, 13)  \n",
    "y = np.linspace(0, 16, 17)\n",
    "T, Y = np.meshgrid(t, y)\n",
    "\n",
    "# DO NOT EDIT: Define Differential Equation\n",
    "def diffeq(t, y):  # t is independent variable and y is dependent variable\n",
    "    return y + t # Use t and y for ind and dep variables\n",
    "dy = diffeq(T, Y)\n",
    "dt = np.ones(dy.shape)\n",
    "\n",
    "# DO NOT EDIT: normalize the line segments\n",
    "dyu = dy / np.sqrt(dt**2 + dy**2)  # normalize dy\n",
    "dtu = dt / np.sqrt(dt**2 + dy**2)  # normalize dt\n",
    "    \n",
    "# DO NOT EDIT: Plot Slope Field\n",
    "plt.quiver(T, Y, dtu, dyu,  # Plot a 2D field of arrows\n",
    "            units = 'xy', \n",
    "            angles = 'xy')\n",
    "\n",
    "#######################################\n",
    "# STUDENT TO DO: Add your own vectors\n",
    "# Replace each ?? with an appropriate value\n",
    "#######################################\n",
    "# Plot vectors\n",
    "plt.quiver(0, 4, 0.5, 2 , color = 'b', \n",
    "           angles = 'xy',\n",
    "           scale = 1,\n",
    "           scale_units = 'xy') \n",
    "plt.quiver(0.5, ??, 0.5, ??, color = 'b', \n",
    "           angles = 'xy',\n",
    "           scale = 1,\n",
    "           scale_units = 'xy') \n",
    "plt.quiver(1, ??, 0.5, ??, color = 'b', \n",
    "           angles = 'xy',\n",
    "           scale = 1,\n",
    "           scale_units = 'xy') \n",
    "\n",
    "plt.show()"
   ]
  },
  {
   "cell_type": "markdown",
   "id": "ffc58ca7-2890-4c9f-a6e2-5a0ea57505ab",
   "metadata": {
    "id": "ffc58ca7-2890-4c9f-a6e2-5a0ea57505ab",
    "tags": []
   },
   "source": [
    "## <a name='04quest10'>Question 10:</a>\n",
    "----\n",
    "\n",
    "a. Is your value for $y(1.5)$ the exact value or an approximate value? Explain.\n",
    "\n",
    "<br>\n",
    "\n",
    "b. **Generalizing your tip-to-tail approach:** Create an equation-based procedure/algorithm that would allow you to predict future $y$-values for any differential equation $\\dfrac{dy}{dt}$, any given initial condition, and any time increment.\n",
    "\n",
    "<br>\n",
    "\n",
    "### Solution to Question 10:\n",
    "----\n",
    "\n",
    "<br> \n",
    "a. <mark>Explain.</mark>\n",
    "\n",
    "b. <mark>Write a formula.</mark>\n",
    "\n",
    "<br> <br>"
   ]
  },
  {
   "cell_type": "markdown",
   "id": "8ffba1d6-20d7-4d11-8c75-5e73ab142d69",
   "metadata": {
    "id": "8ffba1d6-20d7-4d11-8c75-5e73ab142d69"
   },
   "source": [
    "## Comparing Tail to Tip Sketch with Actual Solution\n",
    "---\n",
    "\n",
    "Run the code below (no edits needed) to compare your approximation from [Question 9](#04quest9) with the actual solution. Note the plot below is generated using the `plot_euler()` function is in the `ode_tools` module. See [ODE Tools Tutorial](https://githubtocolab.com/CU-Denver-MathStats-OER/ODEs/blob/main/Chp1/ODE-Tools-Tutorial.ipynb) for a quick reference on how to use `plot_euler()` and other functions for Chapter 1.\n",
    "\n",
    "1. Input vectors of values for `t` and `x` (points where the vectors will be plotted) and define `diffeq`.\n",
    "\n",
    "2. Define an initial condition $(t_0, x_0) =$(`t0`, `x0`), step size $\\Delta t=$ `dt`, and number of iterations $n=$ `n`.\n",
    "\n",
    "3. We import the `plot_euler()` function.\n",
    "    - Be sure you have already [loaded the module from GitHub ](#04LoadModule).\n",
    "    - Like packages, you only need to import a function one time after opening a notebook.\n",
    "\n",
    "4. We generate the plot by running the function with the command `plot_euler(t, x, diffeq, t0, x0, dt, n)`."
   ]
  },
  {
   "cell_type": "code",
   "execution_count": null,
   "id": "c5f38298-20b4-4838-8f0f-2dc8af5530b9",
   "metadata": {
    "id": "c5f38298-20b4-4838-8f0f-2dc8af5530b9"
   },
   "outputs": [],
   "source": [
    "# Import plot_euler function from utils.ode_tools module.\n",
    "from utils.ode_tools import plot_euler\n",
    "\n",
    "# Set up gride for slope field\n",
    "t = np.linspace(0, 1.5, 7)  \n",
    "y = np.linspace(0, 20, 21)\n",
    "\n",
    "# Define differential equation\n",
    "def diffeq(t, y):\n",
    "    return y + t \n",
    "\n",
    "# Define initial value, step size, and number of steps\n",
    "t0 = 0  # initial input value\n",
    "y0 = 4  # initial output value\n",
    "dt = 0.5  # step size\n",
    "n = 3  # number of steps\n",
    "\n",
    "\n",
    "plot_euler(t, y, diffeq, t0, y0, dt, n)"
   ]
  },
  {
   "cell_type": "markdown",
   "id": "a0e321ae-4caf-4632-b4a4-01c19d25295b",
   "metadata": {
    "id": "a0e321ae-4caf-4632-b4a4-01c19d25295b"
   },
   "source": [
    "# Writing Python Code for Euler's Method\n",
    "---"
   ]
  },
  {
   "cell_type": "markdown",
   "id": "e2e15168-d6b6-4d8f-9db0-5acb3eb310ab",
   "metadata": {
    "id": "e2e15168-d6b6-4d8f-9db0-5acb3eb310ab"
   },
   "source": [
    "## <a name='04quest11'>Question 11:</a>\n",
    "---\n",
    "\n",
    "Consider the differential equation $\\color{dodgerblue}{\\dfrac{dy}{dt}=y+t}$ and initial condition $\\color{dodgerblue}{y(0) = 4}$. \n",
    "\n",
    "Using steps each size $\\Delta t = 0.5$, approximate $y(1.5)$ by completing the formulas in the code cell below.\n",
    "\n",
    "\n",
    "### Solution to Question 11:\n",
    "----\n",
    "\n",
    "<br> <br> <mark>Replace each ?? in the code below with an appropriate formula.</mark> <br> <br> <br> <br>\n"
   ]
  },
  {
   "cell_type": "code",
   "execution_count": null,
   "id": "7d6e215b-1cb9-43aa-ab6f-a18f8df28c1c",
   "metadata": {
    "id": "7d6e215b-1cb9-43aa-ab6f-a18f8df28c1c"
   },
   "outputs": [],
   "source": [
    "#import numpy as np\n",
    "\n",
    "v = np.zeros(n+1)  # creates a vector of zeros where we'll store output\n",
    "dt = 0.5  # define the step size\n",
    "\n",
    "# Define diffeq\n",
    "def diffeq(t, y):  # t is independent variable and y is dependent variable\n",
    "    return y + t  # Use t and y for ind and dep variables\n",
    "\n",
    "# Initial value\n",
    "v[0] = 4  # initial condition is y_0 = 4\n",
    "\n",
    "# Result after step 1\n",
    "v[1] = ??\n",
    "\n",
    "# Result after step 2\n",
    "v[2] = ??\n",
    "\n",
    "# Result after step 3\n",
    "v[3] = ??\n",
    "\n",
    "print(\"After step 1, we have y(0.5) is approximately\", v[1],\n",
    "     \"\\n \\n After step 2, we have y(1) is approximately\", v[2],\n",
    "     \"\\n \\n After step 3, we have y(1.5) is approximately\", v[3],)\n"
   ]
  },
  {
   "cell_type": "markdown",
   "id": "60909052-47f3-4aba-ab97-dbfeae22e981",
   "metadata": {
    "id": "60909052-47f3-4aba-ab97-dbfeae22e981"
   },
   "source": [
    "## Computing Euler's Method with the `euler_method` Function\n",
    "---\n",
    "\n",
    "The step-by-step method derived above is called <font color=\"dodgerblue\">**Euler's method**</font>. In the code cell below, we import a function called `euler_method()` from the `ode_tools` module that performs identical calculations as the code above. See [ODE Tools Tutorial](https://githubtocolab.com/CU-Denver-MathStats-OER/ODEs/blob/main/Chp1/ODE-Tools-Tutorial.ipynb) for a quick reference on how to use `euler_method()` and other functions for Chapter 1.\n",
    "\n",
    "\n",
    "\n",
    "1. Define `diffeq`.\n",
    "\n",
    "2. Define the initial value $(t_0, x_0) =$ (`t0`, `x0`).\n",
    "\n",
    "3. Define the step size `dt` and number of steps `n`.\n",
    "\n",
    "4. We import the `euler_method()` function.\n",
    "    - Be sure you have already [loaded the module from GitHub ](#04LoadModule).\n",
    "    - Like packages, you only need to import a function one time after opening a notebook.\n",
    " \n",
    "5. Calculate each step with the function `euler_method(diffeq, t0, x0, dt, n)`."
   ]
  },
  {
   "cell_type": "code",
   "execution_count": null,
   "id": "77694ff7-a8e5-4a96-8307-61dbb71418da",
   "metadata": {
    "id": "77694ff7-a8e5-4a96-8307-61dbb71418da"
   },
   "outputs": [],
   "source": [
    "from utils.ode_tools import euler_method\n",
    "\n",
    "# Define diffeq\n",
    "def diffeq(t, y):  # t is independent variable and y is dependent variable\n",
    "    return y + t  # Use t and y for ind and dep variables\n",
    "\n",
    "# Initial value\n",
    "t0 = 0 # initial value of input\n",
    "y0 = 4 # initial value output when t = t_0\n",
    "\n",
    "# Step size and number of steps\n",
    "dt = 0.5\n",
    "n = 3\n",
    "\n",
    "# Apply Euler's method\n",
    "euler_method(diffeq, t0, y0, dt, n)"
   ]
  },
  {
   "cell_type": "markdown",
   "id": "eef72c8b-74f6-4e85-a4c7-a525f8ae8f77",
   "metadata": {
    "id": "eef72c8b-74f6-4e85-a4c7-a525f8ae8f77"
   },
   "source": [
    "## <a name='04quest12'>Question 12:</a>\n",
    "----\n",
    "\n",
    "Using the same differential equation from [Question 11](#04quest11), experiment with the code below to estimate $y(1.5)$ accurate to one decimal place. How many steps did you use? What is the corresponding step size?\n",
    "\n",
    "### Solution to Question 12:\n",
    "----\n",
    "\n",
    "<br> <br> <mark>Replace each ?? to define appropriate values for `n` and `dt` in the code cell below.</mark> \n",
    "\n",
    "<br> <br> <br> <br>"
   ]
  },
  {
   "cell_type": "code",
   "execution_count": null,
   "id": "a2c60dff-aaaf-41b0-a142-05bc56c192cf",
   "metadata": {
    "id": "a2c60dff-aaaf-41b0-a142-05bc56c192cf"
   },
   "outputs": [],
   "source": [
    "# We are not changing the differential equation or initial conditions\n",
    "# Thus we do not need to redefine diffeq, t0, or y0\n",
    "\n",
    "# Number of steps and step size\n",
    "n = ??\n",
    "dt = ??\n",
    "\n",
    "# Apply Euler's method\n",
    "euler_method(diffeq, t0, y0, dt, n)"
   ]
  },
  {
   "cell_type": "markdown",
   "id": "18d1d039-2ef5-45e4-afca-4e601f7d27a7",
   "metadata": {
    "id": "18d1d039-2ef5-45e4-afca-4e601f7d27a7"
   },
   "source": [
    "## <a name='04quest13'>Question 13:</a>\n",
    "----\n",
    "\n",
    "Consider the differential equation $\\dfrac{dy}{dt} = y+t$. Estimate the value of $y(2)$ on the solution that passes through the point $(1, 3)$ using 10 steps. Use the `euler_method()` function in the `ode_tools` module to perform the calculations.\n",
    "\n",
    "### Solution to Question 13:\n",
    "----\n",
    "\n",
    "<br> <br> <mark>Replace each ?? to define appropriate values or expressions in the code cell below.</mark> \n",
    "\n",
    "<br> <br> <br> <br>"
   ]
  },
  {
   "cell_type": "code",
   "execution_count": null,
   "id": "b671270c-1ed3-4211-a91f-aca7764254b9",
   "metadata": {
    "id": "b671270c-1ed3-4211-a91f-aca7764254b9"
   },
   "outputs": [],
   "source": [
    "# Define diffeq\n",
    "def diffeq(t, y):  # t is independent variable and y is dependent variable\n",
    "    return ??  # Use t and y for ind and dep variables\n",
    "\n",
    "# Initial value\n",
    "t0 = ?? # initial value of input\n",
    "y0 = ?? # initial value output when t = t_0\n",
    "\n",
    "# Step size and number of steps\n",
    "dt = ??\n",
    "n = ??\n",
    "\n",
    "# Apply Euler's method\n",
    "euler_method(diffeq, t0, y0, dt, n)"
   ]
  },
  {
   "cell_type": "markdown",
   "id": "19e87daf-372f-4496-9fae-a472ab2b1924",
   "metadata": {
    "id": "19e87daf-372f-4496-9fae-a472ab2b1924"
   },
   "source": [
    "# Creative Commons License Information\n",
    "---\n",
    "\n",
    "<a rel=\"license\" href=\"https://creativecommons.org/licenses/by-nc-sa/4.0/\"><img alt=\"Creative Commons License\" style=\"border-width:0\" src=\"https://i.creativecommons.org/l/by-nc-sa/4.0/80x15.png\" /></a><br /><span xmlns:dct=\"http://purl.org/dc/terms/\" property=\"dct:title\">*Exploring Differential Equations*</span> by <a xmlns:cc=\"http://creativecommons.org/ns#\" href=\"https://github.com/CU-Denver-MathStats-OER/ODEs\" property=\"cc:attributionName\" rel=\"cc:attributionURL\">Adam Spiegler</a> is licensed under a <a rel=\"license\" href=\"http://creativecommons.org/licenses/by-nc-sa/4.0/\">Creative Commons Attribution-NonCommercial-ShareAlike 4.0 International License</a>.<br />Based on a work at <a xmlns:dct=\"http://purl.org/dc/terms/\" href=\"https://github.com/CU-Denver-MathStats-OER/ODEs\" rel=\"dct:source\">https://github.com/CU-Denver-MathStats-OER/ODEs</a> and original content created by Rasmussen, C., Keene, K. A., Dunmyre, J., & Fortune, N. (2018). *Inquiry oriented differential equations: Course materials*. Available at <a href=\"https://iode.sdsu.edu\">https://iode.sdsu.edu</a>."
   ]
  },
  {
   "cell_type": "code",
   "execution_count": null,
   "id": "m-pHH3HaHFmD",
   "metadata": {
    "id": "m-pHH3HaHFmD"
   },
   "outputs": [],
   "source": []
  }
 ],
 "metadata": {
  "colab": {
   "collapsed_sections": [],
   "name": "04-Eulers-Method.ipynb",
   "provenance": []
  },
  "kernelspec": {
   "display_name": "Python 3",
   "language": "python",
   "name": "python3"
  },
  "language_info": {
   "codemirror_mode": {
    "name": "ipython",
    "version": 3
   },
   "file_extension": ".py",
   "mimetype": "text/x-python",
   "name": "python",
   "nbconvert_exporter": "python",
   "pygments_lexer": "ipython3",
   "version": "3.8.8"
  }
 },
 "nbformat": 4,
 "nbformat_minor": 5
}
