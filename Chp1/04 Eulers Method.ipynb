{
 "cells": [
  {
   "cell_type": "markdown",
   "id": "451b6e3f-8ea3-4d27-b1a3-16aae2c39093",
   "metadata": {
    "tags": []
   },
   "source": [
    "# A Rate of Change Equation for Limited Resources\n",
    "----\n",
    "\n",
    "In a previous problem we saw that the rate of change equation $\\dfrac{dP}{dt}=0.3P$ can be used to model a situation where there is one species, continuous reproduction, and unlimited resources. In most situations, however, the resources are not unlimited, so to improve the model one has to modify the rate of change equation $\\dfrac{dP}{dt}=0.3P$ to account for the fact that resources are limited. "
   ]
  },
  {
   "cell_type": "markdown",
   "id": "1559c494-8316-41e4-8e42-bb3a96d4aad6",
   "metadata": {
    "tags": []
   },
   "source": [
    "## <a name='04quest1'>Question 1:</a>\n",
    "----\n",
    "\n",
    "<a name='04quest1a'>a.</a> In what ways does the modified rate of change equation \\label{03problem1parta}\n",
    "\\[ \\frac{dP}{dt}=0.3P\\left(1-\\frac{P}{10}\\right) \\] account for limited resources? (Think of 10 as scaled to mean 10,000 or 100,000)\n",
    "\n",
    "<a name='04quest1b'>b.</a> How do you interpret the solution with initial condition $P(0) = 10$? \n",
    "\n",
    "<a name='04quest1c'>c.</a> Open the Slope Field Viewer, \\href{https://ggbm.at/ZGeeGQbp}{\\underline{https://ggbm.at/ZGeeGQbp}},\n",
    "and plot the slope field for \n",
    "\n",
    "$$ \\frac{dP}{dt}=0.3P\\left(1-\\frac{P}{10}\\right).$$\n",
    "\n",
    "(Note: In the Slope Field Viewer you will need to use the variable $y$ instead of $P$, and you may want to change the viewing window using the button on the right of the applet.) In what ways are your responses to parts \\ref{03problem1parta} and \\ref{03problem1partb} visible in the slope field? \\label{03problem1partc}\n",
    "\n",
    "<!-- \\vspace{-1in}\\hspace{-0.75in}\\includegraphics[width=0.5in]{03/03SlopeFieldViewerQR.png}\n",
    "\\vfill -->\n",
    "\n",
    "<a name='04quest1d'>d.</a> In this problem, negative $P$ values do not make sense, but we can still mathematically make sense of the slope field for negative $P$ values. Explain why the slope field looks the way it does below the $t$-axis.\n",
    "\n",
    "### Solution to Question 1:\n",
    "----\n",
    "\n",
    "<br> <br> <br> <br> <br> <br>"
   ]
  },
  {
   "cell_type": "markdown",
   "id": "3c752955-fbd2-4dc2-9942-4dd729454273",
   "metadata": {
    "tags": []
   },
   "source": [
    "## <a name='04quest2'>Question 2:</a> \n",
    "----\n",
    "\n",
    "If there are initially $P(0)=2$ fish in the lake, approximately how many fish are in the lake at time $t=2$?  How did you arrive at your approximation? (Hint: Initially $\\frac{dP}{dt} = 0.48$, but what meaning does $0.48$ have?) \n",
    "\n",
    "### Solution to Question 1:\n",
    "----\n",
    "\n",
    "<br> <br> <br> <br> <br> <br>"
   ]
  },
  {
   "cell_type": "markdown",
   "id": "c3525d88-5bca-4fb4-a37c-241eb57c7234",
   "metadata": {
    "tags": []
   },
   "source": [
    "# Using a Slope Field to Predict Future Fish Populations\n",
    "----\n",
    "\n",
    "Below is a slope field for the rate of change equation $\\dfrac{dP}{dt}=0.3P\\left(1-\\frac{P}{10}\\right).$ "
   ]
  },
  {
   "cell_type": "code",
   "execution_count": 37,
   "id": "8e7481f4-03fc-409a-b0f0-6c8b9e25b9b7",
   "metadata": {},
   "outputs": [
    {
     "data": {
      "image/png": "[encoded data removed]",
      "text/plain": [
       "<Figure size 432x288 with 1 Axes>"
      ]
     },
     "metadata": {
      "needs_background": "light"
     },
     "output_type": "display_data"
    }
   ],
   "source": [
    "import numpy as np\n",
    "import matplotlib.pyplot as plt\n",
    "\n",
    "# np.linspace(initial, end, number_values)\n",
    "t = np.linspace(0, 5, 6)\n",
    "x = np.linspace(0, 12, 13)\n",
    "\n",
    "T, X = np.meshgrid(t, x)  # create rectangular grid with points\n",
    "\n",
    "dx = 0.3 * X * (1 - X/10)  # dx = dx/dt \n",
    "dt = np.ones(dx.shape)  # dt = an array of 1's with same dimension as dv\n",
    "\n",
    "# normalize the line segments\n",
    "dxu = dx / np.sqrt(dt**2 + dx**2)  # normalize dx\n",
    "dtu = dt / np.sqrt(dt**2 + dx**2)  # normalize dt\n",
    "\n",
    "def slope_field():\n",
    "    plt.quiver(T, X, dtu, dxu,  # Plot a 2D field of arrows\n",
    "               units = 'xy',  # each arrow has length sqrt(((dtu)^2+(dxu)^2)) = 1\n",
    "               #angles = 'xy',  # each arrow has direction from (t,x) to (t+dt, x+dx)\n",
    "               width = .05,  # sets the width of each arrow\n",
    "               color = 'red')  # sets the color of each arrow\n",
    "    plt.title('Slope Field for P\\'(t) ' r'$= 0.3P \\left(1 - \\dfrac{P}{10} \\right)$', size = 16)\n",
    "    plt.show()\n",
    "    \n",
    "slope_field()"
   ]
  },
  {
   "cell_type": "markdown",
   "id": "e3697b27-8a8b-4b6f-b277-2c6d84006111",
   "metadata": {
    "tags": []
   },
   "source": [
    "## <a name='04quest3'>Question 3:</a>\n",
    "----\n",
    "\n",
    "a. On the slope field above, stitch together in a tip to tail manner several tangent vectors to produce a graph of the population versus time if at time $t = 0$ we know there are 8 fish in the lake (again, think of 8 as scaled for say, 8000 or 80,000).\n",
    "\n",
    "b. <mark>Let's add a similar way to visualize several steps of Eulers.</mark> \n",
    "\n",
    "- Reproduce your technique as much as possible using the Slope Field Stitcher applet, [old solution stitcher applet used](https://ggbm.at/FZn4WHeU).  You can use the arrow buttons to move the initial vector around, and then create subsequent vectors to stitch on using the appropriate button. \\label{03problem3partb}\n",
    "- [Nice Python Stuff](https://pythonnumericalmethods.berkeley.edu/notebooks/chapter22.03-The-Euler-Method.html)\n",
    "- Or we check in with Troy.\n",
    "\n",
    "### Solution to Question 3:\n",
    "----\n",
    "\n",
    "<br> <br> <br> <br> <br> <br>"
   ]
  },
  {
   "cell_type": "markdown",
   "id": "7df235ec-db1d-466f-ad32-04d7c8c69fa0",
   "metadata": {
    "tags": []
   },
   "source": [
    "## <a name='04quest4'>Question 4:</a>\n",
    "----\n",
    "\n",
    "Explain how you are thinking about rate of change **in your method**. For example, is the rate of change constant over some increment? If yes, over what increment? If no, is the rate of change always changing? \n",
    "\n",
    "### Solution to Question 4:\n",
    "----\n",
    "\n",
    "<br> <br> <br> <br> <br> <br>"
   ]
  },
  {
   "cell_type": "markdown",
   "id": "becc7719-047a-4947-838e-2ee678049b36",
   "metadata": {
    "tags": []
   },
   "source": [
    "## <a name='04quest5'>Question 5:</a>\n",
    "----\n",
    "\n",
    "Using the differential equation $\\dfrac{dP}{dt}=P\\left(1-\\dfrac{P}{20}\\right)$ and initial condition $P(0) = 10$, José and Julie started the following table to numerically keep track of their tip-to-tail method for connecting tangent vectors. Explain José's and Julie's approach and complete their table. **Round to two decimal places.**\n",
    "\n",
    "| $t$ | $P$ | $\\dfrac{dP}{dt}$ |\n",
    "|-----|-----|------------------|\n",
    "| 0 | 10 | 5 |\n",
    "| 0.5 | 12.5 | ?? |\n",
    "| 1.5 | ?? | ?? |\n",
    "| 1.0 | ?? | ?? |\n",
    "| 1.5 | ?? | ?? |\n",
    "\n",
    "### Solution to Question 5:\n",
    "----\n",
    "\n",
    "<br> <br> <br> <br> <br> <br>"
   ]
  },
  {
   "cell_type": "markdown",
   "id": "2d408495-cd4d-4742-8360-6ec64cb4c89f",
   "metadata": {
    "tags": []
   },
   "source": [
    "## <a name='04quest6'>Question 6:</a>\n",
    "----\n",
    "\n",
    "Using the same differential equation and initial condition as José and Julie, Derrick and Delores started their table as shown below. Explain how Derrick and Delores' approach is different from José and Julie's and then complete their table. **Round to two decimal places.** \n",
    "\n",
    "$$\\frac{dP}{dt}=P\\left( 1-\\frac{P}{20}\\right)$$\n",
    " \n",
    "| $t$ | $P$ | $\\dfrac{dP}{dt}$ |\n",
    "|-----|-----|------------------|\n",
    "| 0 | 10 | 5 |\n",
    "| 0.25 | 11.25 | ?? |\n",
    "| 0.5 | ?? | ?? |\n",
    "| 0.75 | ?? | ?? |\n",
    "\n",
    "\n",
    "\n",
    "### Solution to Question 6:\n",
    "----\n",
    "\n",
    "<br> <br> <br> <br> <br> <br>"
   ]
  },
  {
   "cell_type": "markdown",
   "id": "32919986-ad99-4ee3-afe0-f35327696dfe",
   "metadata": {
    "tags": []
   },
   "source": [
    "## <a name='04quest7'>Question 7:</a>\n",
    "----\n",
    "\n",
    "a. Consider the differential equation $\\dfrac{dy}{dt}=y+t$ and initial condition $y(0) = 4$. Use José and Julie's approach to find $y(1.5)$. <mark>Add Python code to help generate a plot</mark> that shows your work graphically and in a table of values. \n",
    "\n",
    "b. Is your value for $y(1.5)$ the exact value or an approximate value? Explain.\n",
    "\n",
    "c. **Generalizing your tip-to-tail approach:** Create an equation-based procedure/algorithm that would allow you to predict future $y$-values for any differential equation $\\dfrac{dy}{dt}$, any given initial condition, and any time increment.\n",
    "\n",
    "### Solution to Question 7:\n",
    "----\n",
    "\n",
    "<br> <br> <br> <br> <br> <br>"
   ]
  },
  {
   "cell_type": "markdown",
   "id": "86796bc1-25e2-4627-9cb6-ee1a696de996",
   "metadata": {},
   "source": [
    "# Writing Python Code for Euler's Method\n",
    "----\n",
    "\n",
    "In three successive code cells below, we break up Euler's method as follows:\n",
    "\n",
    "1. Import required packages.\n",
    "2. Apply the algorithm for Euler's Method in general.\n",
    "3. Define the diff eq, initial value, number of steps, and step size."
   ]
  },
  {
   "cell_type": "code",
   "execution_count": 39,
   "id": "674825cc-6430-4e04-938f-369df96f10ee",
   "metadata": {},
   "outputs": [],
   "source": [
    "import numpy as np\n",
    "import matplotlib.pyplot as plt"
   ]
  },
  {
   "cell_type": "code",
   "execution_count": 79,
   "id": "db9497f1-d6b2-4ccf-bdba-36cd2668fbf5",
   "metadata": {},
   "outputs": [],
   "source": [
    "def Euler_method(f, Delta_t, n, y_0):\n",
    "    # Assuming f is passed as a function of (t,y)\n",
    "    v = np.zeros(n+1)  # set each y_i by 0 at first\n",
    "    v[0] = y_0  # set first value to y_0\n",
    "    \n",
    "    for i in range(0, n):\n",
    "        v[i+1] = v[i] + Delta_t * f(i*Delta_t, v[i])  # Euler's method formula\n",
    "    return v"
   ]
  },
  {
   "cell_type": "code",
   "execution_count": 78,
   "id": "fe03f0c5-dc3c-4bee-a8d9-d7ed10596c7e",
   "metadata": {},
   "outputs": [
    {
     "data": {
      "text/plain": [
       "array([ 4.   ,  6.   ,  9.25 , 14.375])"
      ]
     },
     "execution_count": 78,
     "metadata": {},
     "output_type": "execute_result"
    }
   ],
   "source": [
    "# revisiting qustion 7\n",
    "\n",
    "# define f(t,y)=dy/dt=y+t\n",
    "f = lambda t, y: y + t \n",
    "\n",
    "# this information was given\n",
    "start_t = 0  # start time\n",
    "end_t = 1.5  # end time\n",
    "y_0 = 4 # value of y when t=start_t\n",
    "\n",
    "# We can choose this\n",
    "n = 3 # number of steps, add 1 since start at t=0\n",
    "Delta_t = (1.5-0)/n  # Step size\n",
    "\n",
    "Euler_method(f, Delta_t, n, y_0)"
   ]
  },
  {
   "cell_type": "markdown",
   "id": "eef72c8b-74f6-4e85-a4c7-a525f8ae8f77",
   "metadata": {},
   "source": [
    "## <a name='04quest8'>Question 8:</a>\n",
    "----\n",
    "\n",
    "Experiment with the code below to estimate $y(1.5)$ accurate to one decimal place. How many steps did you use? What is the corresponding step size?\n",
    "\n",
    "### Solution to Question 8:\n",
    "----\n",
    "\n",
    "<br> <br>"
   ]
  },
  {
   "cell_type": "code",
   "execution_count": 82,
   "id": "13c7751f-e6ff-40bf-9b35-b5e265e355c3",
   "metadata": {},
   "outputs": [
    {
     "data": {
      "text/plain": [
       "array([ 4.        ,  4.002     ,  4.00400125, ..., 19.8786633 ,\n",
       "       19.88935213, 19.90004656])"
      ]
     },
     "execution_count": 82,
     "metadata": {},
     "output_type": "execute_result"
    }
   ],
   "source": [
    "# Make sure you have already run previous code cells!\n",
    "\n",
    "# define f(t,y)=dy/dt=y+t\n",
    "f = lambda t, y: y + t \n",
    "\n",
    "# this information was given\n",
    "start_t = 0  # start time\n",
    "end_t = 1.5  # end time\n",
    "y_0 = 4 # value of y when t=start_t\n",
    "\n",
    "# We can choose this\n",
    "n = 3 # number of steps, add 1 since start at t=0\n",
    "Delta_t = (1.5-0)/n  # Step size\n",
    "\n",
    "Euler_method(f, Delta_t, n, y_0)"
   ]
  },
  {
   "cell_type": "markdown",
   "id": "18d1d039-2ef5-45e4-afca-4e601f7d27a7",
   "metadata": {},
   "source": [
    "## <a name='04quest8'>Question 9:</a>\n",
    "----\n",
    "\n",
    "The `Euler_method()` function we created earlier assumes initially $t=0$. Adjust the `Euler_method()` function from earlier to estimate $y(2)$ on the solution that passes through the point $(1, 3)$ for the differential equation $\\dfrac{dy}{dt} = y+t$ using 10 steps.\n",
    "\n",
    "### Solution to Question 9:\n",
    "----\n",
    "\n",
    "<br> <br>"
   ]
  },
  {
   "cell_type": "code",
   "execution_count": 83,
   "id": "714a8fce-4f16-4459-bedd-b496e7954132",
   "metadata": {},
   "outputs": [],
   "source": [
    "# Given to students\n",
    "def Euler_method2(f, Delta_t, n, y_0):\n",
    "    # Assuming f is passed as a function of (t,y)\n",
    "    v = np.zeros(n+1)  # set each y_i by 0 at first\n",
    "    v[0] = y_0  # set first value to y_0\n",
    "    \n",
    "    for i in range(0, n):\n",
    "        v[i+1] = v[i] + Delta_t * f(i*Delta_t, v[i])  # Euler's method formula\n",
    "    return v"
   ]
  },
  {
   "cell_type": "code",
   "execution_count": 86,
   "id": "24585236-35f8-4f72-b2dc-2e88f5bedce2",
   "metadata": {},
   "outputs": [
    {
     "data": {
      "text/plain": [
       "array([ 3.        ,  3.6       ,  4.3125    ,  5.154375  ,  6.14503125,\n",
       "        7.30678594,  8.66530383, 10.2500994 , 12.09511431, 14.23938146,\n",
       "       16.72778868])"
      ]
     },
     "execution_count": 86,
     "metadata": {},
     "output_type": "execute_result"
    }
   ],
   "source": [
    "# Possible Solution\n",
    "def Euler_method2(f, Delta_t, n, start_t, y_0):\n",
    "    # Assuming f is passed as a function of (t,y)\n",
    "    v = np.zeros(n+1)  # set each y_i by 0 at first\n",
    "    v[0] = y_0  # set first value to y_0\n",
    "    \n",
    "    for i in range(0, n):\n",
    "        v[i+1] = v[i] + Delta_t * f(start_t + i*Delta_t, v[i])  # Euler's method formula\n",
    "    return v\n",
    "\n",
    "# define f(t,y)=dy/dt=y+t\n",
    "f = lambda t, y: y + t \n",
    "\n",
    "# this information was given\n",
    "start_t = 1  # start time\n",
    "end_t = 2  # end time\n",
    "y_0 = 3 # value of y when t=start_t\n",
    "\n",
    "# We can choose this\n",
    "n = 10 # number of steps, add 1 since start at t=0\n",
    "Delta_t = (1.5-0)/n  # Step size\n",
    "\n",
    "Euler_method2(f, Delta_t, n, start_t, y_0)"
   ]
  },
  {
   "cell_type": "markdown",
   "id": "a4044bce-4695-408d-bbc8-04a3213d6e68",
   "metadata": {},
   "source": [
    "## Creative Commons License Information\n",
    "<a rel=\"license\" href=\"https://creativecommons.org/licenses/by-nc-sa/4.0/\"><img alt=\"Creative Commons License\" style=\"border-width:0\" src=\"https://i.creativecommons.org/l/by-nc-sa/4.0/80x15.png\" /></a><br /><span xmlns:dct=\"http://purl.org/dc/terms/\" property=\"dct:title\">Elementary Differential Equations</span> by <a xmlns:cc=\"http://creativecommons.org/ns#\" href=\"https://github.com/CU-Denver-MathStats-OER/ODEs\" property=\"cc:attributionName\" rel=\"cc:attributionURL\">Adam Spiegler, Jonathon Hirschi, and Dmitry Ostrovskiy</a> is licensed under a <a rel=\"license\" href=\"http://creativecommons.org/licenses/by-nc-sa/4.0/\">Creative Commons Attribution-NonCommercial-ShareAlike 4.0 International License</a>.<br />Based on a work at <a xmlns:dct=\"http://purl.org/dc/terms/\" href=\"https://github.com/CU-Denver-MathStats-OER/ODEs\" rel=\"dct:source\">https://github.com/CU-Denver-MathStats-OER/ODEs</a> and original content created by Rasmussen, C., Keene, K. A., Dunmyre, J., & Fortune, N. (2018). *Inquiry oriented differential equations: Course materials*. Available at <a href=\"https://iode.wordpress.ncsu.edu\">https://iode.wordpress.ncsu.edu</a>."
   ]
  },
  {
   "cell_type": "code",
   "execution_count": null,
   "id": "d18a3889-6e23-4451-af28-26c7b76ac016",
   "metadata": {},
   "outputs": [],
   "source": []
  }
 ],
 "metadata": {
  "kernelspec": {
   "display_name": "Python 3",
   "language": "python",
   "name": "python3"
  },
  "language_info": {
   "codemirror_mode": {
    "name": "ipython",
    "version": 3
   },
   "file_extension": ".py",
   "mimetype": "text/x-python",
   "name": "python",
   "nbconvert_exporter": "python",
   "pygments_lexer": "ipython3",
   "version": "3.8.8"
  }
 },
 "nbformat": 4,
 "nbformat_minor": 5
}
