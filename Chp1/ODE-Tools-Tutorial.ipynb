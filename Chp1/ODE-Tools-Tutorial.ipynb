{
 "cells": [
  {
   "cell_type": "markdown",
   "id": "0214686a-d711-4434-bc8e-194568e9e475",
   "metadata": {
    "id": "0214686a-d711-4434-bc8e-194568e9e475"
   },
   "source": [
    "# Quick Reference for Python Functions: Chapter 1 \n",
    "---\n",
    "\n",
    "This notebook demonstrates the use of the `ode_tools` Python module.\n",
    "\n",
    "- The actual Python code for each function can be found in the file named <font color='blue'>**ode_tools.py**</font> located in the directory <font color='blue'>**../utils**</font>.\n",
    "- **Good news!** <font color='blue'>The functions defined in **ode_plot_tools.py** are coded and ready for use with no mofications needed to the source file!</font>\n",
    "  - You do not even have to view the source file to understand how to use and adjust the functions to fit your needs.\n",
    "- See the documentation below for a \"Quick Reference Guide\" to working with functions in the `ode_plot_tools` module.\n"
   ]
  },
  {
   "cell_type": "markdown",
   "id": "POjCozN4EsOB",
   "metadata": {
    "id": "POjCozN4EsOB"
   },
   "source": [
    "\n",
    "# <a name='TOC'>Table of Contents</a>\n",
    "\n",
    "---\n",
    "**[Section 1.](#Sec1) Setting up your file structure.**\n",
    "- **Working in Google Colab:** You will need to mount your Drive and then set the file path. [See Colab Path Setup Section](#SetPathColab).\n",
    "- **Working in Jupyter:** You will need to set the file path. [See Jupyter Path Setup Section](#SetPathJup).\n",
    "  - The process is slightly different depending on whether you use Google Colab of Jupyter.\n",
    "  - Each time you reopen a notebook, you will need to set the path in order to import functions from `ode_tools`.\n",
    "  - Once you open and set the path in a notebook, you do not need to reset the path unless you lose your connection.\n",
    "\n",
    "**[Section 2.](#Sec2) Plotting Slope Fields with `slope_field(t, x, diffeq)`.**\n",
    "\n",
    "\n",
    "**[Section 3.](#Sec3) Plotting the solution with a given initial condition with `plot_sol(t, x, diffeq, xo)`.**\n",
    "\n",
    "**[Section 4.](#Sec4) Numerical approximations using Euler's method with `euler_method(diffeq, t0, x0, dt, n)`.**\n",
    "\n",
    "**[Section 5.](#Sec5) Visualizing Euler's method approximations with `plot_euler(t, x, diffeq, t0, x0, dt, n)`.**"
   ]
  },
  {
   "cell_type": "markdown",
   "id": "pQNr8zojIcF3",
   "metadata": {
    "id": "pQNr8zojIcF3"
   },
   "source": [
    "# <a name='Sec1'>Section 1: Setting the Path</a>\n",
    "---\n",
    "\n",
    "- See [Google Colab instructions](#SetPathColab) below.\n",
    "- See [Jupyter instructions](#SetPathJup) after the Colab instructions."
   ]
  },
  {
   "cell_type": "markdown",
   "id": "FEbG8ohD_zUb",
   "metadata": {
    "id": "FEbG8ohD_zUb"
   },
   "source": [
    "## <a name='SetPathColab'>Setting a Path in Google Colab</a>\n",
    "---\n",
    "- <mark>If you are using Jupyter, skip this section.</mark>\n",
    "\n",
    "In Google Colab, there are three steps:\n",
    "\n",
    "1. [Mount Google Drive](#MountDrive) in your Colab notebook.\n",
    "2. Authorize Colab to access your Google Drive account.\n",
    "3. [Set the Path](#SysColab)."
   ]
  },
  {
   "cell_type": "markdown",
   "id": "nJPWVvfRKYyR",
   "metadata": {
    "id": "nJPWVvfRKYyR"
   },
   "source": [
    "### <a name='AuthColab'>Mount and Authorize Access to Google Drive</a>\n",
    "---\n",
    "\n",
    "If you are working with this notebook in Google Colab, to access the `ode_tools` module, you need to first mount your Google Drive.\n",
    "\n",
    "- <mark>**The code cell below will mount Google Drive in Colab.**</mark>\n",
    "- <mark>Then you will need to authorize Colab to access your Drive.</mark>\n",
    "- If you are using Jupyter, skip this section."
   ]
  },
  {
   "cell_type": "code",
   "execution_count": null,
   "id": "9_nD_RSB_zUm",
   "metadata": {
    "id": "9_nD_RSB_zUm"
   },
   "outputs": [],
   "source": [
    "# Run this cell if you are using Google Colab\n",
    "# Do NOT run if you are using Jupyter\n",
    "\n",
    "# Allow Colab to access your Google Drive files\n",
    "from google.colab import drive\n",
    "drive.mount('/content/drive')"
   ]
  },
  {
   "cell_type": "markdown",
   "id": "l7fIwrCz_zUn",
   "metadata": {
    "id": "l7fIwrCz_zUn"
   },
   "source": [
    "### <a name='SysColab'>Finding and Setting Your Path in Google Colab</a>\n",
    "---\n",
    "\n",
    "- <mark>If you are using Jupyter, skip this section.</mark>\n",
    "\n",
    "**If you are working with this notebook in Google Colab**, then you will need to define the path to the <font color='blue'>**../utils**</font> folder in order to import functions from `ode_tools`.\n",
    "\n",
    "- In the code cell below, you can see the path is currently set to <font color='blue'>**<span>&#47;</span>content/drive/MyDrive/MATH 3200 Colab/utils**</font>\n",
    "- You may need to adjust this path to your file structure. To identify your path:\n",
    "  1. Click on the file icon on the left side of the screen.\n",
    "  2. From the files menu on the left, find the **utils** folder that should be inside the main folder named **MATH 3200 Colab**.\n",
    "  3. Move your pointer over the **utils** folder, click on the three dots, and select the option **Copy path**.\n",
    "  4. Set the path with `sys.path.append('paste_your_path')`. Be sure your path is specified inside single quotes.\n",
    "\n",
    "<mark>The code cell below will set the path in Google Colab.</mark>"
   ]
  },
  {
   "cell_type": "code",
   "execution_count": null,
   "id": "yRXsjeaP_zUo",
   "metadata": {
    "id": "yRXsjeaP_zUo"
   },
   "outputs": [],
   "source": [
    "# Only run this cell if using Google Colab.\n",
    "# Do not run this cell if using Jupyter.\n",
    "import sys\n",
    "\n",
    "# Set the path to the folder with module ode_tools.py\n",
    "# Adjust the path according to your file structure in Drive\n",
    "sys.path.append('/content/drive/MyDrive/MATH 3200 Colab/utils')"
   ]
  },
  {
   "cell_type": "markdown",
   "id": "Ycp9G5PN_zUo",
   "metadata": {
    "id": "Ycp9G5PN_zUo"
   },
   "source": [
    "## <a name='SetPathJup'>Setting a Path in Jupyter</a>\n",
    "---\n",
    "\n",
    "- <mark>If you are using Google Colab, skip this section.</mark>\n",
    "\n",
    "**If you are working with this notebook in Jupyter**, then you will need to define the path to the <font color='blue'>**../utils**</font> folder in order to import functions from `ode_tools`.\n",
    "\n",
    "<mark>The code cell below will set the path in Jupyter.</mark>"
   ]
  },
  {
   "cell_type": "code",
   "execution_count": null,
   "id": "rxifzI0s_zUo",
   "metadata": {
    "id": "rxifzI0s_zUo"
   },
   "outputs": [],
   "source": [
    "# Only run this cell if using Jupyter.\n",
    "# Do not run this cell if using Google Colab.\n",
    "import sys\n",
    "\n",
    "sys.path.append('../utils')"
   ]
  },
  {
   "cell_type": "markdown",
   "id": "82afbadd-2bcc-4a11-8204-ba78978187b0",
   "metadata": {
    "id": "82afbadd-2bcc-4a11-8204-ba78978187b0"
   },
   "source": [
    "#<a name='Sec2'> Section 2: Plotting Slope Fields with `slope_field(t, x, diffeq)`</a>\n",
    "---\n",
    "\n",
    "A function named `slope_field()` plots a slope field for a differential equation over a specified range of values for the indpendent and dependent variables. \n",
    "\n",
    "- We use `t` for the independent variable.\n",
    "- We use `x` for the dependent variable.\n",
    "- We use `diffeq` for the differential equation."
   ]
  },
  {
   "cell_type": "markdown",
   "id": "RIgh_PtPXSbG",
   "metadata": {
    "id": "RIgh_PtPXSbG"
   },
   "source": [
    "\n",
    "## How to Plot with `slope_field(t, x, diffeq)`\n",
    "---\n",
    "\n",
    "1. Input vectors of values for `t` and `x` (points where the vectors will be plotted) and define `diffeq`.\n",
    "\n"
   ]
  },
  {
   "cell_type": "code",
   "execution_count": null,
   "id": "ef5379bd-fe08-4579-a4a7-97d4f4bf4f78",
   "metadata": {
    "id": "ef5379bd-fe08-4579-a4a7-97d4f4bf4f78"
   },
   "outputs": [],
   "source": [
    "import numpy as np\n",
    "\n",
    "# Setup the grid\n",
    "t = np.linspace(0,10,11)  # np.linspace(initial, end, number_values)\n",
    "x = np.linspace(40,60,10)  # np.linspace(initial, end, number_values)\n",
    "\n",
    "# Setup the differential equation\n",
    "def diffeq(t, x):\n",
    "    return 9.8 - (x / 5) "
   ]
  },
  {
   "cell_type": "markdown",
   "id": "c9e-3SyuXlpJ",
   "metadata": {
    "id": "c9e-3SyuXlpJ"
   },
   "source": [
    "\n",
    "2. We import the `slope_field()` function.\n",
    "  - Like packages, you only need to import a function one time after opening a notebook.\n",
    "  - <mark>Be sure you have first correctly set the path to the file **ode_tools.py**</mark>.\n",
    "  - If you get an error message, it is likely an error with the path, refer to [Section 1: Setting the Path](#Sec1)\n"
   ]
  },
  {
   "cell_type": "code",
   "execution_count": null,
   "id": "72aee871-014c-47d4-906f-23a5f491df69",
   "metadata": {
    "id": "72aee871-014c-47d4-906f-23a5f491df69"
   },
   "outputs": [],
   "source": [
    "from ode_tools import slope_field  # Only need to run one time"
   ]
  },
  {
   "cell_type": "markdown",
   "id": "apFXg1I6ZKfI",
   "metadata": {
    "id": "apFXg1I6ZKfI"
   },
   "source": [
    "\n",
    "3. We generate the slope field by running the function with the command `slope_field(t, x, diffeq)`.\n"
   ]
  },
  {
   "cell_type": "code",
   "execution_count": null,
   "id": "smOb2dMGXu5u",
   "metadata": {
    "id": "smOb2dMGXu5u"
   },
   "outputs": [],
   "source": [
    "# inputs t, x, and diffeq defined above\n",
    "\n",
    "slope_field(t, x, diffeq)  # Plot slope field of diffeq"
   ]
  },
  {
   "cell_type": "markdown",
   "id": "NUE698UuZFTb",
   "metadata": {
    "id": "NUE698UuZFTb"
   },
   "source": [
    "\n",
    "## Each time you want to plot a new slope field:\n",
    "---\n",
    "\n",
    "- Redefine `t`, `x`, and/or `diffeq` as needed.\n",
    "- Then run the command `slope_field(t, x, diffeq)`."
   ]
  },
  {
   "cell_type": "markdown",
   "id": "1ec2053d-0fdf-4aeb-8387-f6404eaad83e",
   "metadata": {
    "id": "1ec2053d-0fdf-4aeb-8387-f6404eaad83e"
   },
   "source": [
    "# <a name='Sec3'>Section 3: Plotting Solutions to Initial Value Problems with `plot_sol()`</a>\n",
    "---\n",
    "\n",
    "A function named `plot_sol(t, x, diffeq, x0)` plots a slope field as well as the solution that passes thru a given initial condition.\n",
    "\n",
    "- We use `t` for the independent variable.\n",
    "- We use `x` for the dependent variable.\n",
    "- We use `diffeq` for the differential equation.\n",
    "- We use `x0` to denote the output at the initial value of `t`.\n",
    "\n"
   ]
  },
  {
   "cell_type": "markdown",
   "id": "e128hOrycUqF",
   "metadata": {
    "id": "e128hOrycUqF"
   },
   "source": [
    "## How to Plot with `plot_sol(t, x, diffeq, x0)`\n",
    "---\n",
    "\n",
    "\n",
    "1. Specifying the inputs for `plot_sol(t, x, diffeq, x0)`\n",
    "\n"
   ]
  },
  {
   "cell_type": "code",
   "execution_count": null,
   "id": "EFgUQzGWbsVw",
   "metadata": {
    "id": "EFgUQzGWbsVw"
   },
   "outputs": [],
   "source": [
    "import numpy as np\n",
    "\n",
    "# Setup the grid\n",
    "t = np.linspace(0,10,11)  # np.linspace(initial, end, number_values)\n",
    "x = np.linspace(40,60,10)  # np.linspace(initial, end, number_values)\n",
    "\n",
    "# Setup the differential equation\n",
    "def diffeq(t, x):\n",
    "    return 9.8 - (x / 5) \n",
    "\n",
    "# enter initial condition\n",
    "x0 = 42"
   ]
  },
  {
   "cell_type": "markdown",
   "id": "g9FAZH_Abvol",
   "metadata": {
    "id": "g9FAZH_Abvol"
   },
   "source": [
    "2. Import the `plot_sol()` function.\n",
    "  - Like packages, you only need to import a function one time after opening a notebook.\n",
    "  - <mark>Be sure you have first correctly set the path to the file **ode_tools.py**</mark>.\n",
    "  - If you get an error message, it is likely an error with the path, refer to [Section 1: Setting the Path](#Sec1)\n"
   ]
  },
  {
   "cell_type": "code",
   "execution_count": null,
   "id": "a77f34e7-3b90-4132-a943-919dbee120c8",
   "metadata": {
    "id": "a77f34e7-3b90-4132-a943-919dbee120c8"
   },
   "outputs": [],
   "source": [
    "from ode_tools import plot_sol  # Import function"
   ]
  },
  {
   "cell_type": "markdown",
   "id": "BX7uIZRRbwtZ",
   "metadata": {
    "id": "BX7uIZRRbwtZ"
   },
   "source": [
    "\n",
    "3. We generate the slope field by running the function with the command `plot_sol(t, x, diffeq, x0)`."
   ]
  },
  {
   "cell_type": "code",
   "execution_count": null,
   "id": "b7005c76-b458-4d2d-851d-280471554452",
   "metadata": {
    "id": "b7005c76-b458-4d2d-851d-280471554452"
   },
   "outputs": [],
   "source": [
    "# t, x, diffeq, and x0 have been defined above\n",
    "\n",
    "plot_sol(t, x, diffeq, x0)  # Plot solution with initial condition  "
   ]
  },
  {
   "cell_type": "markdown",
   "id": "wOR-A_5Cbgxl",
   "metadata": {
    "id": "wOR-A_5Cbgxl"
   },
   "source": [
    "## Each time you want to plot a new solution:\n",
    "---\n",
    "\n",
    "- Redefine `t`, `x`, `diffeq`, and/or `x0` as needed.\n",
    "- Then run the command `plot_sol(t, x, diffeq, x0)`."
   ]
  },
  {
   "cell_type": "markdown",
   "id": "340e4b4f-b859-4151-9541-8c27eba9617b",
   "metadata": {
    "id": "340e4b4f-b859-4151-9541-8c27eba9617b"
   },
   "source": [
    "# <a name='Sec4'>Section 4: Euler's Method with `euler_method()`</a>\n",
    "---\n",
    "\n",
    "A function named `euler_method()` computes $n$ steps of Euler's method each with identical step size $\\Delta t = dt$.\n",
    "\n",
    "- We use `diffeq` for the differential equation.\n",
    "- We use `t0` for the initial value of the independent variable.\n",
    "- We use `x0` for corresponding value of the dependent variable at time `t0`.\n",
    "- We use `dt` to denote the step size $\\Delta t$.\n",
    "- We use `n` to denote the number of steps $n$."
   ]
  },
  {
   "cell_type": "markdown",
   "id": "0Bx3V0Qmd8fC",
   "metadata": {
    "id": "0Bx3V0Qmd8fC"
   },
   "source": [
    "## How to Approximate with `euler_method(diffeq, t0, x0, dt, n)`\n",
    "---\n",
    "\n",
    "1. Define `diffeq`.\n",
    "\n",
    "2. Define the initial value $(t_0, x_0) =$ (`t0`, `x0`).\n",
    "\n",
    "3. Define the step size $\\Delta t$ as `dt`, and the number of steps `n`.\n",
    "\n"
   ]
  },
  {
   "cell_type": "code",
   "execution_count": null,
   "id": "DmYl7yMJeDLf",
   "metadata": {
    "id": "DmYl7yMJeDLf"
   },
   "outputs": [],
   "source": [
    "# Define diffeq\n",
    "def diffeq(t, x):  # t is independent variable and x is dependent variable\n",
    "    return x + t  # Use t and x for ind and dep variables\n",
    "\n",
    "# Initial value\n",
    "t0 = 0 # initial value of input\n",
    "x0 = 4 # initial value output when t = t_0\n",
    "\n",
    " \n",
    "dt = 0.5  # Step size\n",
    "n = 3  # number of steps"
   ]
  },
  {
   "cell_type": "markdown",
   "id": "QoqS72WkcQA2",
   "metadata": {
    "id": "QoqS72WkcQA2"
   },
   "source": [
    "4. We import the `euler_method()` function.\n",
    "  - Like packages, you only need to import a function one time after opening a notebook.\n",
    "  - <mark>Be sure you have first correctly set the path to the file **ode_tools.py**</mark>.\n",
    "  - If you get an error message, it is likely an error with the path, refer to [Section 1: Setting the Path](#Sec1)\n"
   ]
  },
  {
   "cell_type": "code",
   "execution_count": null,
   "id": "75fc4695-4894-4f4c-91b5-0ffe8a3a9021",
   "metadata": {
    "id": "75fc4695-4894-4f4c-91b5-0ffe8a3a9021"
   },
   "outputs": [],
   "source": [
    "from ode_tools import euler_method"
   ]
  },
  {
   "cell_type": "markdown",
   "id": "bEHkwU0JeAX6",
   "metadata": {
    "id": "bEHkwU0JeAX6"
   },
   "source": [
    "\n",
    "5. Calculate each step with the function `euler_method(diffeq, t0, x0, dt, n)`.\n"
   ]
  },
  {
   "cell_type": "code",
   "execution_count": null,
   "id": "tkFxPHepeFFP",
   "metadata": {
    "id": "tkFxPHepeFFP"
   },
   "outputs": [],
   "source": [
    "# diffeq, t0, x0, dt, and n have been defined above\n",
    "\n",
    "euler_method(diffeq, t0, x0, dt, n) # Apply Euler's method"
   ]
  },
  {
   "cell_type": "markdown",
   "id": "ty8U8kFSflHp",
   "metadata": {
    "id": "ty8U8kFSflHp"
   },
   "source": [
    "## Each time you want to apply Euler's method:\n",
    "---\n",
    "\n",
    "- Redefine `diffeq`, `t0`, `x0`, `dt`, and/or `n` as needed.\n",
    "- Then run the command `euler_method(diffeq, t0, x0, dt, n)`."
   ]
  },
  {
   "cell_type": "markdown",
   "id": "b171da2a-5eb8-4dde-8828-68c56e3b45a5",
   "metadata": {
    "id": "b171da2a-5eb8-4dde-8828-68c56e3b45a5"
   },
   "source": [
    "# <a name='Sec5'>Section 5: Visualizing Euler's Method with `plot_euler()`</a>\n",
    "---\n",
    "\n",
    "A function named `plot_method()` graphically compares numerical approximations from Euler's method with the actual solutions. \n",
    "\n",
    "- We use `t` for the independent variable.\n",
    "- We use `x` for the dependent variable.\n",
    "- We use `diffeq` for the differential equation.\n",
    "- We use `t0` for the initial value of the independent variable.\n",
    "- We use `x0` to denote the output at the initial value of `t`.\n",
    "- We use `dt` to denote the step size $\\Delta t$.\n",
    "- We use `n` to denote the number of steps $n$.\n",
    "\n",
    "\n"
   ]
  },
  {
   "cell_type": "markdown",
   "id": "XZFDPOpnghmK",
   "metadata": {
    "id": "XZFDPOpnghmK"
   },
   "source": [
    "\n",
    "\n",
    "## How to Use `plot_euler(t, x, diffeq, t0, x0, dt, n)`\n",
    "---\n",
    "\n",
    "1. Input vectors of values for `t` and `x` (points where the vectors will be plotted) and define `diffeq`.\n",
    "\n",
    "2. Define an initial condition $(t_0, x_0) = $(`t0`, `x0`).\n",
    "\n",
    "3. Define the step size $\\Delta t=$ `dt`, and number of iterations $n=$ `n`.\n"
   ]
  },
  {
   "cell_type": "code",
   "execution_count": null,
   "id": "q3uUormKhvm5",
   "metadata": {
    "id": "q3uUormKhvm5"
   },
   "outputs": [],
   "source": [
    "import numpy as np\n",
    "\n",
    "# Set up gride for slope field\n",
    "t = np.linspace(0, 1.5, 7)  \n",
    "x = np.linspace(0, 20, 21)\n",
    "\n",
    "# Define differential equation\n",
    "def diffeq(t, x):\n",
    "    return x + t \n",
    "\n",
    "# Define initial value\n",
    "t0 = 0  # initial input value\n",
    "x0 = 4  # initial output value\n",
    "\n",
    "# Define step size and n\n",
    "dt = 0.5  # step size\n",
    "n = 3  # number of steps"
   ]
  },
  {
   "cell_type": "markdown",
   "id": "BuoxgSifhpdZ",
   "metadata": {
    "id": "BuoxgSifhpdZ"
   },
   "source": [
    "\n",
    "\n",
    "\n",
    "4. We import the `plot_euler()` function.\n",
    "  - Like packages, you only need to import a function one time after opening a notebook.\n",
    "  - <mark>Be sure you have first correctly set the path to the file **ode_tools.py**</mark>.\n",
    "  - If you get an error message, it is likely an error with the path, refer to [Section 1: Setting the Path](#Sec1)\n"
   ]
  },
  {
   "cell_type": "code",
   "execution_count": null,
   "id": "cb8dbbc4-e315-4275-8fec-33032bfca8f2",
   "metadata": {
    "id": "cb8dbbc4-e315-4275-8fec-33032bfca8f2"
   },
   "outputs": [],
   "source": [
    "# Import plot_euler function from ode_plot_tools module.\n",
    "\n",
    "from ode_tools import plot_euler"
   ]
  },
  {
   "cell_type": "markdown",
   "id": "sXZHwT3kiloJ",
   "metadata": {
    "id": "sXZHwT3kiloJ"
   },
   "source": [
    "\n",
    "\n",
    "5. Generate the plot by running the function with the command `plot_euler(t, x, diffeq, t0, x0, dt, n)`."
   ]
  },
  {
   "cell_type": "code",
   "execution_count": null,
   "id": "3aede766-1137-4608-9b30-858ce53ecd63",
   "metadata": {
    "id": "3aede766-1137-4608-9b30-858ce53ecd63"
   },
   "outputs": [],
   "source": [
    "# t, x, diffeq, t0, x0, dt, and n have been defined above\n",
    "\n",
    "plot_euler(t, x, diffeq, t0, x0, dt, n)  # create plot of euler approx"
   ]
  },
  {
   "cell_type": "markdown",
   "id": "g5JvyDMDiBwt",
   "metadata": {
    "id": "g5JvyDMDiBwt"
   },
   "source": [
    "## Each time you want to Create a New Plot with `plot_euler()`:\n",
    "---\n",
    "\n",
    "- Redefine `t`, `x`, `diffeq`, `t0`, `x0`, `dt`, and/or `n` as needed.\n",
    "- Then run the command `plot_euler(t, x, diffeq, t0, x0, dt, n)`."
   ]
  },
  {
   "cell_type": "markdown",
   "id": "3606cbc0-cbe2-49bb-b8d1-29410f1e7946",
   "metadata": {
    "id": "3606cbc0-cbe2-49bb-b8d1-29410f1e7946"
   },
   "source": [
    "# Creative Commons License Information\n",
    "---\n",
    "\n",
    "<a rel=\"license\" href=\"https://creativecommons.org/licenses/by-nc-sa/4.0/\"><img alt=\"Creative Commons License\" style=\"border-width:0\" src=\"https://i.creativecommons.org/l/by-nc-sa/4.0/80x15.png\" /></a><br /><span xmlns:dct=\"http://purl.org/dc/terms/\" property=\"dct:title\">Elementary Differential Equations</span> by <a xmlns:cc=\"http://creativecommons.org/ns#\" href=\"https://github.com/CU-Denver-MathStats-OER/ODEs\" property=\"cc:attributionName\" rel=\"cc:attributionURL\">Adam Spiegler, Jonathon Hirschi, and Dmitry Ostrovskiy</a> is licensed under a <a rel=\"license\" href=\"http://creativecommons.org/licenses/by-nc-sa/4.0/\">Creative Commons Attribution-NonCommercial-ShareAlike 4.0 International License</a>.<br />"
   ]
  },
  {
   "cell_type": "code",
   "execution_count": null,
   "id": "kMK7cOz9G4Q-",
   "metadata": {
    "id": "kMK7cOz9G4Q-"
   },
   "outputs": [],
   "source": []
  }
 ],
 "metadata": {
  "colab": {
   "collapsed_sections": [],
   "name": "ODE-Tools-Tutorial.ipynb",
   "provenance": [],
   "toc_visible": true
  },
  "kernelspec": {
   "display_name": "Python 3",
   "language": "python",
   "name": "python3"
  },
  "language_info": {
   "codemirror_mode": {
    "name": "ipython",
    "version": 3
   },
   "file_extension": ".py",
   "mimetype": "text/x-python",
   "name": "python",
   "nbconvert_exporter": "python",
   "pygments_lexer": "ipython3",
   "version": "3.8.8"
  }
 },
 "nbformat": 4,
 "nbformat_minor": 5
}
