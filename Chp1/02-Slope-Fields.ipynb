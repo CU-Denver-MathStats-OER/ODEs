{
 "cells": [
  {
   "cell_type": "markdown",
   "id": "3581413b-8b68-474d-84db-6ecfb5eb00a5",
   "metadata": {},
   "source": [
    "# Slope Fields\n",
    "----\n",
    "\n",
    "A **slope field** is a graphical representation of a rate of change equation. Given a rate of change equation, if we plug in particular values of $(t,y)$ then $\\dfrac{dy}{dt}$ tells you the slope of the tangent vector to the solution at that point.\n",
    "\n",
    "\n",
    "For example, consider the rate of change equation $\\dfrac{dy}{dt}=y+2t$.  At the point $(1, 3)$, the value of $\\dfrac{dy}{dt}$ is $5$. Thus, the slope field for this equation would show a vector at the point $(1, 3)$ with slope $5$.  A slope field depicts the exact slope of many such vectors, where we take each vector to be uniform length. Slope fields are useful because they provide a graphical approach for obtaining qualitatively correct graphs of the functions that satisfy a differential equation."
   ]
  },
  {
   "cell_type": "markdown",
   "id": "6e1c32fc-efa2-492c-8969-c5f5f905cdba",
   "metadata": {},
   "source": [
    "## <a name='02quest1'>Question 1:</a> \n",
    "---\n",
    "\n",
    "Below is a partially completed slope field for  $\\dfrac{dP}{dt}=0.8P$.\n",
    "\n",
    "a. Plot many more tangent vectors to create a slope field.\n",
    "\n",
    "b. Use your slope field to sketch in qualitatively correct graphs of the solution functions that start at $P = 0, 0.5$, and $2$, respectively. Note: the value of $P$ at an initial time (typically $t = 0$) is called an *initial condition*. \n",
    "\n",
    "c. Recall that a solution to a differential equation is a function that satisfies the differential equation. Explain how the graph with initial condition $P(0) = 1$ can graphically be thought of as a solution to the differential equation when the differential equation is represented by its slope field. \n",
    "\n",
    "![Partially Completed Slope Field and Table](Images/02MyFirstSlopeFieldwithTable.png)\n",
    "\n",
    "### Solution to Question 1:\n",
    "----\n",
    "\n",
    "<br> <br> <br> <br> <br> <br>"
   ]
  },
  {
   "cell_type": "markdown",
   "id": "35483307-dbe7-4b7f-bfce-a9eaea513243",
   "metadata": {},
   "source": [
    "## <a name='02quest2'>Question 2:</a> \n",
    "---\n",
    "\n",
    "Below are seven differential equations and three different slope fields. **Without using technology**, identify which differential equation is the best match for each slope field (thus you will have four rate of change equations left over). **Explain your reasoning.** \n",
    "\n",
    "$$\n",
    "\\text{(i) } \\frac{dy}{dt}=t-1 \\quad \\text{(ii) } \\frac{dy}{dt}=1-y^2 \\quad \\text{(iii) } \\frac{dy}{dt}=y^2-t^2 \\quad \\text{(iv) } \\frac{dy}{dt}=1-y\n",
    "$$\n",
    "\n",
    "$$\n",
    "\\text{(v) } \\frac{dy}{dt}=t^2-y^2 \\quad \\text{(vi) } \\frac{dy}{dt}=1-t \\quad \\text{(vii) } \\frac{dy}{dt}=9t^2-y^2\n",
    "$$\n",
    "\n",
    "\n",
    "|Slope Field 1 | Slope Field 2 | Slope Field 3|\n",
    "|--------------|---------------|--------------|\n",
    "![Slope Field 1](Images/02SlopeField1.png) | ![Slope Field 2](Images/02SlopeField2.png) | ![Slope Field 3](Images/02SlopeField3.png)\n",
    "\n",
    "### Solution to Question 2:\n",
    "---\n",
    "\n",
    "<br> <br> <br> <br> <br> <br>"
   ]
  },
  {
   "cell_type": "markdown",
   "id": "de3697ac-83f8-4d0c-9639-369c20a247bf",
   "metadata": {
    "tags": []
   },
   "source": [
    "## <a name='02quest3'>Question 3:</a> \n",
    "----\n",
    "\n",
    "For each of the slope fields in the previous problem, sketch in graphs of several different qualitatively correct solutions. **Do not use any technology to answer this question.** \n",
    "\n",
    "### Solution to Question 3:\n",
    "----\n",
    "\n",
    "<br> <br> <br> <br> <br> <br>\n"
   ]
  },
  {
   "cell_type": "markdown",
   "id": "8df77abd-91cc-4b47-ae3c-3c502f3800e3",
   "metadata": {},
   "source": [
    "# Plotting Slope Fields in Python\n",
    "----\n",
    "\n",
    "Recall that to create a slope field we can follow the following routine:\n",
    "\n",
    "1. Pick a point $(t, x)$ and evaluate the differential equation $\\frac{dx}{dt}$ at that point.\n",
    "2. Draw a line segement (of uniform length) with slope $m=\\frac{dx}{dt}$.\n",
    "3. Repeat.\n",
    "\n",
    "Below we go through code that generates a slope field for the differential equation\n",
    "$$\\frac{dx}{dt} = 9.8 - \\frac{x}{5}.$$"
   ]
  },
  {
   "cell_type": "markdown",
   "id": "02426e2a-3710-4c7a-a306-ace1ef05a764",
   "metadata": {},
   "source": [
    "## Importing Packages\n",
    "----\n",
    "\n",
    "First we import two packages we frequently will use:\n",
    "\n",
    "- NumPy is a package that is convenient for working with multidimensional arrays (such as vectors and matrices). See [NumPy help documentation](https://numpy.org/doc/stable/user/whatisnumpy.html).\n",
    "- Matplotlib is package useful for creating static, animated, and interactive visualizations. See [Matplotlib help documentation](https://numpy.org/doc/stable/user/whatisnumpy.html).\n",
    "- The `pyplot` subpackage in `matplotlib` that is a great tool in computational math. See [pyplot help documentation](https://matplotlib.org/stable/api/_as_gen/matplotlib.pyplot.html). "
   ]
  },
  {
   "cell_type": "markdown",
   "id": "b89e41f7-dd56-4870-83ec-c90e30de8a55",
   "metadata": {},
   "source": [
    "## Setting Up the Grid\n",
    "----\n",
    "\n",
    "The code cell below creates a grid of point $(t,x)$ at which we will plot a line segment in the slope field.\n",
    "\n",
    "- First set the step sizes for both x and t to be 1.\n",
    "- Generate vector of $t$-values starting at $t=1$ and ending at $t=10$ (Use `end = 11` to stop at $t=10$).\n",
    "- Generate vector of $x$-values starting at $x=40$ and ending at $x=60$ (Use `end = 61` to stop at $x=60$).\n",
    "- Then we create grid of points $(t,x)$."
   ]
  },
  {
   "cell_type": "code",
   "execution_count": 1,
   "id": "00d6cf38-2c07-425a-bf4e-b6d61143565c",
   "metadata": {},
   "outputs": [],
   "source": [
    "import numpy as np\n",
    "import matplotlib.pyplot as plt\n",
    "\n",
    "# np.linspace(initial, end, number_values)\n",
    "t = np.linspace(1,10,10)\n",
    "x = np.linspace(40,60,10)\n",
    "\n",
    "T, X = np.meshgrid(t, x)  # create rectangular grid with points"
   ]
  },
  {
   "cell_type": "markdown",
   "id": "3a36796f-fe6d-4d06-a96d-52bc6d44f370",
   "metadata": {},
   "source": [
    "## Defining the Differential Equation\n",
    "\n",
    "The code cell below defines the differential equation $\\dfrac{dx}{dt} = 9.8 - \\dfrac{x}{5}$ in a standard way in Python, though it may seem odd to us at first.\n",
    "\n",
    "- We define the derivative $\\frac{dx}{dt}$ as a fraction with numerator dx and denominator dt. \n",
    "    - **However, let's be very clear that a derivative is not a fraction.**\n",
    "    - Rather a derivative is the limit of a fraction as the denominator gets smaller and smaller.\n",
    "- The slopes in our field will be line segments with $dt = 1$ and $dx = 9.8 - \\frac{x}{5}$.\n",
    "- `dt = np.ones(dv.shape`) creates an array of 1's with same dimensions as array `dv`.\n"
   ]
  },
  {
   "cell_type": "code",
   "execution_count": 2,
   "id": "96c00453-e191-4b91-ba28-b5bd36bf71c1",
   "metadata": {},
   "outputs": [],
   "source": [
    "dx = 9.8 - (X / 5)  # dx = dx/dt \n",
    "dt = np.ones(dx.shape)  # dt = an array of 1's with same dimension as dx"
   ]
  },
  {
   "cell_type": "markdown",
   "id": "993526f5-a656-493d-bd1f-8c1de2818362",
   "metadata": {},
   "source": [
    "## Plotting a Field of Line Segments\n",
    "----\n",
    "\n",
    "Below we plot a first attempt at a slope field that we define as `slope_field()`.\n",
    "\n",
    "- `plt.quiver(T, X, dt, dx, ...)` plots a 2-dim field of arrows evaluating dx/dt at each pair (T, X).\n",
    "- See the [help documentation for plt.quiver](https://matplotlib.org/stable/api/_as_gen/matplotlib.pyplot.quiver.html) for more details.\n",
    "- We will need to customize the plot using additional options to create a **slope field**.\n",
    "- These options have been excluded at first. The question below will have you explore why and how we apply these options."
   ]
  },
  {
   "cell_type": "markdown",
   "id": "49b11ee1-5b64-4b73-b6ec-99b0ba4ac870",
   "metadata": {},
   "source": [
    "<a name='02quest4'>Question 4:</a> \n",
    "----\n",
    "\n",
    "Run the code cell below to use `plt.quiver()`to create a first attempt at a slope field for the differential equation $\\dfrac{dx}{dt} = 9.8 - \\dfrac{x}{5}$.\n",
    "\n",
    "Comment on any features of the resulting plot that we may need to customize to create a more standard looking slope field.\n",
    "\n",
    "### Solution to Question 4:\n",
    "----\n",
    "\n",
    "<br> <br> <br> <br> <br> <br>\n"
   ]
  },
  {
   "cell_type": "code",
   "execution_count": 3,
   "id": "9c6f7963-318d-438f-a250-3b0b4ea05724",
   "metadata": {
    "tags": []
   },
   "outputs": [
    {
     "data": {
      "image/png": "[encoded data removed]",
      "text/plain": [
       "<Figure size 432x288 with 1 Axes>"
      ]
     },
     "metadata": {
      "needs_background": "light"
     },
     "output_type": "display_data"
    }
   ],
   "source": [
    "plt.quiver(T, X, dt, dx)  # Plot a 2D field of arrows\n",
    "plt.title('Slope Field for x\\'(t) = 9.8 - x/5', size =16)\n",
    "plt.show()"
   ]
  },
  {
   "cell_type": "markdown",
   "id": "c50734aa-a62b-4a55-8d47-6e22ed58c8b7",
   "metadata": {},
   "source": [
    "<a name='02quest5'>Question 5:</a> \n",
    "----\n",
    "\n",
    "See [help documentation for quiver](https://matplotlib.org/stable/api/_as_gen/matplotlib.pyplot.quiver.html) and answer the questions below about the options used to customize the plot. Explain what each option does.\n",
    "\n",
    "\n",
    "### Solution to Question 5:\n",
    "----\n",
    "\n",
    "\n",
    "<br> <br> "
   ]
  },
  {
   "cell_type": "code",
   "execution_count": null,
   "id": "b3abab58-8345-4a29-bf3e-2b3bcab461a3",
   "metadata": {},
   "outputs": [],
   "source": [
    "plt.quiver(T, X, dt, dx,  # Plot a 2D field of arrows\n",
    "               units='xy',  # add your comment??\n",
    "               angles='xy',  # add your comment??\n",
    "               width = .08,  # add your comment??\n",
    "               color='blue') # add your comment??\n",
    "plt.title('Slope Field for x\\'(t) = 9.8 - x/5', size =16)\n",
    "plt.show()"
   ]
  },
  {
   "cell_type": "code",
   "execution_count": null,
   "id": "e4958c70-0acc-431a-a0c6-a7b43d7fbfc1",
   "metadata": {
    "tags": []
   },
   "outputs": [],
   "source": [
    "plt.quiver(T, X, dt, dx,  # Plot a 2D field of arrows\n",
    "            units='xy',  # each arrow has length sqrt(((dt)^2+(dx)^2))\n",
    "            angles='xy',  # each arrow has direction from (t,x) to (t+dt, x+dx)\n",
    "            width = .08,  # sets the width of each arrow\n",
    "            color='blue') # sets the color of each arrow\n",
    "\n",
    "plt.title('Slope Field for x\\'(t) = 9.8 - x/5')\n",
    "plt.show()"
   ]
  },
  {
   "cell_type": "markdown",
   "id": "847af158-452a-47a0-b308-4fcb126c6829",
   "metadata": {},
   "source": [
    "## Normalizing the Lengths of the Line Segments\n",
    "\n",
    "- Slope fields are used to indicate the slope of the tangent line to the graph of a solution at each point in the grid.\n",
    "- We only care about the direction of the line segments.\n",
    "- The length of the segment is not relevant, so we typically plot each line segment with the same length\n",
    "- When we plot a vector with run $= dt$ and rise $= dx$, the length of the vector is $\\sqrt{ (dt)^2 + (dx)^2}$.\n",
    "- Rather than plot vector $\\langle dt, dx \\rangle$ we plot normalized vectors:\n",
    "\n",
    "$$\\left< \\frac{dt}{\\sqrt{ (dt)^2 + (dx)^2}}, \\frac{dx}{\\sqrt{ (dt)^2 + (dx)^2}} \\right>$$\n"
   ]
  },
  {
   "cell_type": "code",
   "execution_count": null,
   "id": "99edbbe7-3149-4423-a172-f7504e2c8d77",
   "metadata": {},
   "outputs": [],
   "source": [
    "# normalize the line segments\n",
    "dxu = dx / np.sqrt(dt**2 + dx**2)  # normalize dx\n",
    "dtu = dt / np.sqrt(dt**2 + dx**2)  # normalize dt\n",
    "    \n",
    "\n",
    "plt.quiver(T, X, dtu, dxu,  # Plot a 2D field of arrows\n",
    "            units = 'xy',  # each arrow has length sqrt(((dtu)^2+(dxu)^2)) = 1\n",
    "            angles = 'xy',  # each arrow has direction from (t,x) to (t+dt, x+dx)\n",
    "            width = .08,  # sets the width of each arrow\n",
    "            color = 'red')  # sets the color of each arrow\n",
    "plt.title('Normalized Slope Field for x\\'(t) = 9.8 - x/5', size =16)\n",
    "plt.show()"
   ]
  },
  {
   "cell_type": "markdown",
   "id": "20b7f88e-2229-431e-8380-74d5c0689007",
   "metadata": {},
   "source": [
    "## Writing a Python function\n",
    "\n",
    "Python functions are useful when you are reusing a block of code repeatedly. Just like in math, functions produce a set of outputs given a set of inputs. The data we pass to a function are called **parameters**.\n",
    "\n",
    "Let's represent a differential equation with a Python function. Notice that for the differential equation we have been working with, $\\dfrac{dx}{dt} = 9.8 - \\dfrac{x}{5}$, the slope is not a function of time. Therefore, we can write a function that only takes $x$ as the only input parameter."
   ]
  },
  {
   "cell_type": "code",
   "execution_count": null,
   "id": "8b3352a8-e8a0-4a59-a567-2269b5c84743",
   "metadata": {},
   "outputs": [],
   "source": [
    "# Function to calculate dx/dt at a given x value\n",
    "def dxdt(x):\n",
    "    return 9.8 - (x / 5)"
   ]
  },
  {
   "cell_type": "markdown",
   "id": "b33aab20-009c-40b3-a115-76562c029101",
   "metadata": {},
   "source": [
    "Let's check a couple of values. The slope is positive at $x\\approx 40$. The slope is zero when $\\frac{x}{5}=9.8$."
   ]
  },
  {
   "cell_type": "code",
   "execution_count": null,
   "id": "bf2e8f94-4330-48c5-b6b6-7ea4571d58e4",
   "metadata": {},
   "outputs": [],
   "source": [
    "# You can explicitly state the argument to the function\n",
    "dxdt(x=9.8*5)"
   ]
  },
  {
   "cell_type": "code",
   "execution_count": null,
   "id": "9a388388-6a3d-42c0-b5b1-3e680f4ffcf5",
   "metadata": {},
   "outputs": [],
   "source": [
    "# If you do not specify the argument, the order in which they appear is used\n",
    "dxdt(40)"
   ]
  },
  {
   "cell_type": "markdown",
   "id": "efbbe7a4-6443-4a83-95d4-0c76b5bcda0c",
   "metadata": {},
   "source": [
    "We can also evaluate the function for an array of x values."
   ]
  },
  {
   "cell_type": "code",
   "execution_count": null,
   "id": "be9e8d58-8ba5-437b-902e-d26ac7b0ebda",
   "metadata": {},
   "outputs": [],
   "source": [
    "t = np.linspace(1,10,10)\n",
    "x = np.linspace(40,60,10)\n",
    "\n",
    "dxdt(x)"
   ]
  },
  {
   "cell_type": "markdown",
   "id": "dd0a6202-36f4-4e6f-95c5-84252a1370f9",
   "metadata": {},
   "source": [
    "Functions can also be written more compactly with the `lambda` notation."
   ]
  },
  {
   "cell_type": "code",
   "execution_count": null,
   "id": "f81f3811-5e0d-4129-a10c-2eb390c385c2",
   "metadata": {},
   "outputs": [],
   "source": [
    "dxdt = lambda x: 9.8 - (x / 5)\n",
    "\n",
    "dxdt(40)"
   ]
  },
  {
   "cell_type": "markdown",
   "id": "b0be2de2-ded3-497c-92cc-053cedbe7b14",
   "metadata": {},
   "source": [
    "# <a name='slope-field-plotter'>Defining a Slope Field Plotter Function</a>\n",
    "\n",
    "We now have the tools to build our own function for plotting slope fields. The calculations and Python commands to plot a slope field for a differential equation depend on three inputs:\n",
    "\n",
    "1. What is the range of values to include for the independent variable that we define as `t`?\n",
    "2. What is the range of values to include for the dependent variable that we define as `x`?\n",
    "3. What is the differential equation we'd like to plot that we define as `diffeq`?\n",
    "\n",
    "The code cell below defines a function called `slope_field(t, x, diffeq)`. The function `slope_field(t, x, diffeq)` has the three inputs we need to define in order to plot a slope field."
   ]
  },
  {
   "cell_type": "code",
   "execution_count": null,
   "id": "cc1073a5-15ec-44d9-aaa3-50b41ff1c1b9",
   "metadata": {},
   "outputs": [],
   "source": [
    "def slope_field(t, x, diffeq, \n",
    "                units = 'xy', \n",
    "                angles = 'xy', \n",
    "                width = .08, \n",
    "                color = 'black'):\n",
    "    T, X = np.meshgrid(t, x)  # create rectangular grid with points\n",
    "    slopes = diffeq(X, T)\n",
    "    dt = np.ones(slopes.shape)  # dt = an array of 1's with same dimension as diffeq\n",
    "    dxu = slopes / np.sqrt(dt**2 + slopes**2)  # normalize dx\n",
    "    dtu = dt / np.sqrt(dt**2 + slopes**2)  # normalize dt\n",
    "    plt.quiver(T, X, dtu, dxu,  # Plot a 2D field of arrows\n",
    "               units = units,  \n",
    "               angles = angles,  # each arrow has direction from (t,x) to (t+dt, x+dx)\n",
    "               width = width,  # sets the width of each arrow from user inputs\n",
    "               color = color)  # sets the color of each arrow from user inputs\n",
    "    \n",
    "    plt.show"
   ]
  },
  {
   "cell_type": "markdown",
   "id": "b0603ecd-db1e-44a2-be5f-6bd547c0ae04",
   "metadata": {},
   "source": [
    "## Plotting a Slope Field with `slope_field()`\n",
    "\n",
    "In the code cell below, we simply define the range of values for the independent ($t$) and dependent ($x$) variables and input the differential equation we'd like to plot.\n",
    "\n",
    "Then we create the slope field by simply running the command `slope_field(t, x, diffeq)`."
   ]
  },
  {
   "cell_type": "code",
   "execution_count": null,
   "id": "552ad843-7c23-4bf1-9fca-c7872d22a11a",
   "metadata": {},
   "outputs": [],
   "source": [
    "# Setup the grid\n",
    "t = np.linspace(1,10,10)  # np.linspace(initial, end, number_values)\n",
    "x = np.linspace(40,60,10)  # np.linspace(initial, end, number_values)\n",
    "T, X = np.meshgrid(t, x)  # create rectangular grid with points\n",
    "\n",
    "# Setup the differential equation\n",
    "def diffeq(x, t):\n",
    "    return 9.8 - (x / 5) \n",
    "\n",
    "# Plot the slope field\n",
    "slope_field(t, x, diffeq, width=.08)"
   ]
  },
  {
   "cell_type": "markdown",
   "id": "208cdac2-11e4-41d6-9cc9-90ab02fa0591",
   "metadata": {},
   "source": [
    "## Chaning the Default Options of `slope_field()`\n",
    "\n",
    "If we want to change any of the default options, we simply input them into the `slope_field()`.\n"
   ]
  },
  {
   "cell_type": "code",
   "execution_count": null,
   "id": "aff1e037-6684-42c6-a487-3ac5797a0283",
   "metadata": {},
   "outputs": [],
   "source": [
    "# Change color to blue\n",
    "slope_field(t, x, diffeq, color='blue')"
   ]
  },
  {
   "cell_type": "markdown",
   "id": "398de3d6-508c-43cf-ba01-4057fe13cfbd",
   "metadata": {},
   "source": [
    "## <a name='02quest6'>Question 6:</a> \n",
    "----\n",
    "\n",
    "Plot each of the four differential equations whose slope fields were not plotted in [question 2](#02quest2).\n",
    "\n",
    "\n",
    "### Solution to Question 6:\n",
    "----\n",
    "\n",
    "<br> <br>"
   ]
  },
  {
   "cell_type": "code",
   "execution_count": null,
   "id": "391cdf81-e480-4b01-b0b0-d468d395ca2a",
   "metadata": {},
   "outputs": [],
   "source": [
    "# plot missing slope field 1\n",
    "\n",
    "# Setup the grid\n",
    "t = np.linspace(??, ??, ??)  # np.linspace(initial, end, number_values)\n",
    "x = np.linspace(??, ??, ??)  # np.linspace(initial, end, number_values)\n",
    "T, X = np.meshgrid(t, x)  # create rectangular grid with points\n",
    "\n",
    "# Setup the differential equation\n",
    "diffeq = ??  # Use T and X for ind and dep variables\n",
    "\n",
    "# Plot the slope field\n",
    "slope_field(t, x, diffeq)"
   ]
  },
  {
   "cell_type": "code",
   "execution_count": null,
   "id": "29b44149-999e-4eb0-8504-2291ae887e46",
   "metadata": {},
   "outputs": [],
   "source": [
    "# plot missing slope field 2\n",
    "\n",
    "# Setup the grid\n",
    "t = np.linspace(??, ??, ??)  # np.linspace(initial, end, number_values)\n",
    "x = np.linspace(??, ??, ??)  # np.linspace(initial, end, number_values)\n",
    "T, X = np.meshgrid(t, x)  # create rectangular grid with points\n",
    "\n",
    "# Setup the differential equation\n",
    "diffeq = ??  # Use T and X for ind and dep variables\n",
    "\n",
    "# Plot the slope field\n",
    "slope_field(t, x, diffeq)"
   ]
  },
  {
   "cell_type": "code",
   "execution_count": null,
   "id": "76efd472-636f-47d6-969f-437f83db7138",
   "metadata": {},
   "outputs": [],
   "source": [
    "# plot missing slope field 3\n",
    "\n",
    "# Setup the grid\n",
    "t = np.linspace(??, ??, ??)  # np.linspace(initial, end, number_values)\n",
    "x = np.linspace(??, ??, ??)  # np.linspace(initial, end, number_values)\n",
    "T, X = np.meshgrid(t, x)  # create rectangular grid with points\n",
    "\n",
    "# Setup the differential equation\n",
    "diffeq = ??  # Use T and X for ind and dep variables\n",
    "\n",
    "# Plot the slope field\n",
    "slope_field(t, x, diffeq)"
   ]
  },
  {
   "cell_type": "code",
   "execution_count": null,
   "id": "5f93df45-ae41-48df-8dd2-7ecff9700684",
   "metadata": {},
   "outputs": [],
   "source": [
    "# plot missing slope field 4\n",
    "\n",
    "# Setup the grid\n",
    "t = np.linspace(??, ??, ??)  # np.linspace(initial, end, number_values)\n",
    "x = np.linspace(??, ??, ??)  # np.linspace(initial, end, number_values)\n",
    "T, X = np.meshgrid(t, x)  # create rectangular grid with points\n",
    "\n",
    "# Setup the differential equation\n",
    "diffeq = ??  # Use T and X for ind and dep variables\n",
    "\n",
    "# Plot the slope field\n",
    "slope_field(t, x, diffeq)"
   ]
  },
  {
   "cell_type": "markdown",
   "id": "9d91f99d-c574-4cca-89a8-1719e3e006e8",
   "metadata": {
    "tags": []
   },
   "source": [
    "## Plotting the Solution Given an Initial Condition\n",
    "----\n",
    "\n",
    "<mark>Insert basic instructions for students to add a solution to the previous slope field.</mark>"
   ]
  },
  {
   "cell_type": "code",
   "execution_count": null,
   "id": "9fbfbbe3-10c5-44dd-8e72-8c836791b1b4",
   "metadata": {},
   "outputs": [],
   "source": [
    "from ipywidgets import interact, interactive, fixed, interact_manual\n",
    "import ipywidgets as widgets\n",
    "import slopefields"
   ]
  },
  {
   "cell_type": "code",
   "execution_count": null,
   "id": "358402ed-7cd3-4d43-92d4-0ac6314bfa6d",
   "metadata": {},
   "outputs": [],
   "source": [
    "# Plot Slope field and solution given analytical solution\n",
    "def plot_sol(t, x, diffeq, sol, initial, npts=100, clear=True):\n",
    "    fig, ax = plt.subplots(1,1)\n",
    "    if clear:\n",
    "        plt.clf()\n",
    "    slopefields.slope_field(t, x, diffeq, width=.1, ax = ax)\n",
    "    \n",
    "    # Set up phase line\n",
    "    phase_line = np.zeros(len(t))\n",
    "    # Initialize\n",
    "    phase_line[0]=initial\n",
    "\n",
    "    x0=initial\n",
    "    tt = np.linspace(t.min(),t.max(),100)\n",
    "    ax.plot(0, sol(tt[0], x0, x0), 'bo', label='Initial Conditions: $x_0=$'+str(x0))\n",
    "    ax.plot(tt, sol(tt, x, x0), 'b')\n",
    "    ax.legend(loc=1)\n",
    "    \n",
    "    plt.show()"
   ]
  },
  {
   "cell_type": "code",
   "execution_count": null,
   "id": "c1ba6ba1-239d-46eb-be64-4a7b3f05e28b",
   "metadata": {},
   "outputs": [],
   "source": [
    "# Setup the grid\n",
    "t = np.linspace(0,5*np.pi,12)  # np.linspace(initial, end, number_values)\n",
    "x = np.linspace(-10,10,12)  # np.linspace(initial, end, number_values)\n",
    "# Setup the differential equation\n",
    "diffeq = lambda x, t: np.cos(t)  # Use T and X for ind and dep variables\n",
    "# Exact Solution\n",
    "def soln(t, x, x0):\n",
    "    return np.sin(t)+x0\n",
    "\n",
    "\n",
    "%reset -f out \n",
    "\n",
    "%matplotlib widget\n",
    "interact_manual(plot_sol, \n",
    "            t = fixed(t),\n",
    "            x = fixed(x),\n",
    "            diffeq = fixed(diffeq),\n",
    "            sol = fixed(soln),\n",
    "            initial = widgets.FloatText(\n",
    "                value=0, description='Initial Conditions $x_0$'),\n",
    "            npts = fixed(12),\n",
    "            clear = widgets.Checkbox(value=False, description='Clear Previous')\n",
    "               )"
   ]
  },
  {
   "cell_type": "markdown",
   "id": "cd6481fb-c3ed-4ab3-b40f-9e5b0a215a4d",
   "metadata": {},
   "source": [
    "## Would be nice to have an interactive for plotting solutions\n",
    "\n",
    "Here are some applets which migh tbe nice to emulate:\n",
    "\n",
    "- [Currently used GeoGebra App](https://www.geogebra.org/m/ZGeeGQbp)\n",
    "\n",
    "- [Another slope field applet](https://www.geogebra.org/m/Pd4Hn4BR)"
   ]
  },
  {
   "cell_type": "markdown",
   "id": "8ca960b0-4101-4ee4-a156-35001eeb74b7",
   "metadata": {},
   "source": [
    "## Creative Commons License Information\n",
    "<a rel=\"license\" href=\"https://creativecommons.org/licenses/by-nc-sa/4.0/\"><img alt=\"Creative Commons License\" style=\"border-width:0\" src=\"https://i.creativecommons.org/l/by-nc-sa/4.0/80x15.png\" /></a><br /><span xmlns:dct=\"http://purl.org/dc/terms/\" property=\"dct:title\">Elementary Differential Equations</span> by <a xmlns:cc=\"http://creativecommons.org/ns#\" href=\"https://github.com/CU-Denver-MathStats-OER/ODEs\" property=\"cc:attributionName\" rel=\"cc:attributionURL\">Adam Spiegler, Jonathon Hirschi, and Dmitry Ostrovskiy</a> is licensed under a <a rel=\"license\" href=\"http://creativecommons.org/licenses/by-nc-sa/4.0/\">Creative Commons Attribution-NonCommercial-ShareAlike 4.0 International License</a>.<br />Based on a work at <a xmlns:dct=\"http://purl.org/dc/terms/\" href=\"https://github.com/CU-Denver-MathStats-OER/ODEs\" rel=\"dct:source\">https://github.com/CU-Denver-MathStats-OER/ODEs</a> and original content created by Rasmussen, C., Keene, K. A., Dunmyre, J., & Fortune, N. (2018). *Inquiry oriented differential equations: Course materials*. Available at <a href=\"https://iode.wordpress.ncsu.edu\">https://iode.wordpress.ncsu.edu</a>."
   ]
  }
 ],
 "metadata": {
  "kernelspec": {
   "display_name": "Python 3 (ipykernel)",
   "language": "python",
   "name": "python3"
  },
  "language_info": {
   "codemirror_mode": {
    "name": "ipython",
    "version": 3
   },
   "file_extension": ".py",
   "mimetype": "text/x-python",
   "name": "python",
   "nbconvert_exporter": "python",
   "pygments_lexer": "ipython3",
   "version": "3.9.7"
  }
 },
 "nbformat": 4,
 "nbformat_minor": 5
}
