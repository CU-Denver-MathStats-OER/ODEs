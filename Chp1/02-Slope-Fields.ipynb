{
 "cells": [
  {
   "cell_type": "markdown",
   "id": "3581413b-8b68-474d-84db-6ecfb5eb00a5",
   "metadata": {},
   "source": [
    "# Slope Fields\n",
    "----\n",
    "\n",
    "A **slope field** is a graphical representation of a rate of change equation. Given a rate of change equation, if we plug in particular values of $(t,y)$ then $\\dfrac{dy}{dt}$ tells you the slope of the tangent vector to the solution at that point.\n",
    "\n",
    "\n",
    "For example, consider the rate of change equation $\\dfrac{dy}{dt}=y+2t$.  At the point $(1, 3)$, the value of $\\dfrac{dy}{dt}$ is $5$. Thus, the slope field for this equation would show a vector at the point $(1, 3)$ with slope $5$.  A slope field depicts the exact slope of many such vectors, where we take each vector to be uniform length. Slope fields are useful because they provide a graphical approach for obtaining qualitatively correct graphs of the functions that satisfy a differential equation."
   ]
  },
  {
   "cell_type": "markdown",
   "id": "f2d0bceb-b0a3-4a41-82fa-c4fd1c1703bd",
   "metadata": {},
   "source": [
    "## <a name='02quest1'>Question 1:</a> \n",
    "---\n",
    "\n",
    "In the code cell below a partially completed slope field for  $\\dfrac{dP}{dt}=0.8P$ is provided.\n",
    "\n",
    "a. Plot many more tangent vectors to create a slope field.\n",
    "\n",
    "b. Use your slope field to sketch in qualitatively correct graphs of the solution functions that start at $P = 0, 0.5$, and $2$, respectively. Note: the value of $P$ at an initial time (typically $t = 0$) is called an *initial condition*. \n",
    "\n",
    "c. Recall that a solution to a differential equation is a function that satisfies the differential equation. Explain how the graph with initial condition $P(0) = 1$ can graphically be thought of as a solution to the differential equation when the differential equation is represented by its slope field. \n",
    "\n",
    "<!-- ![Partially Completed Slope Field and Table](Images/02MyFirstSlopeFieldwithTable.png) -->\n",
    "\n",
    "### Solution to Question 1:\n",
    "----\n",
    "\n",
    "<br> \n",
    "\n",
    "Complete the table below to identify more vectors in the slope field.\n",
    "\n",
    "| $$t$$ | $$P$$ | $$\\frac{dP}{dt} = 0.8P$$|\n",
    "|-----|-----|-------------------------|\n",
    "| 0 | 0 | 0 |\n",
    "| 0 | 2 | 1.6 |\n",
    "| 1 | 1 | 0.8 |\n",
    "| <mark>??</mark> |  <mark>??</mark> | <mark>??</mark> |\n",
    "| <mark>??</mark> |  <mark>??</mark> | <mark>??</mark> |\n",
    "| <mark>??</mark> |  <mark>??</mark> | <mark>??</mark> |\n",
    "| <mark>??</mark> |  <mark>??</mark> | <mark>??</mark> |\n",
    "| <mark>??</mark> |  <mark>??</mark> | <mark>??</mark> |\n",
    "| <mark>??</mark> |  <mark>??</mark> | <mark>??</mark> |\n",
    "| <mark>??</mark> |  <mark>??</mark> | <mark>??</mark> |\n",
    "\n",
    "<br> <br>\n",
    "Then plot the vectors by editing the code cell below.\n",
    "<br> <br> "
   ]
  },
  {
   "cell_type": "code",
   "execution_count": null,
   "id": "5e1a07f9-9fc7-4db0-9212-da27622a47d8",
   "metadata": {},
   "outputs": [],
   "source": [
    "import matplotlib.pyplot as plt\n",
    "\n",
    "# Plot vectors\n",
    "plt.quiver(0, 0, 1, 0, color = 'b')  # plots vector at (0,0) with slope 0/1 = 0 \n",
    "plt.quiver(0, 2, 1, 0.8, color = 'b')  # plots vector at (0,2) with slope 0.8/1 = 0.8\n",
    "plt.quiver(1, 1, 1, 1.6, color = 'b')  # plots vector at (1,1) with slope 1.6/1 = 1.6\n",
    "\n",
    "# Uncomment out each line and add your vectors to the plot\n",
    "#plt.quiver(??, ??, 1, ??, color = 'b')  # add your vector 1\n",
    "#plt.quiver(??, ??, 1, ??, color = 'b')  # add your vector 2\n",
    "#plt.quiver(??, ??, 1, ??, color = 'b')  # add your vector 3\n",
    "#plt.quiver(??, ??, 1, ??, color = 'b')  # add your vector 4\n",
    "#plt.quiver(??, ??, 1, ??, color = 'b')  # add your vector 5\n",
    "#plt.quiver(??, ??, 1, ??, color = 'b')  # add your vector 6\n",
    "#plt.quiver(??, ??, 1, ??, color = 'b')  # add your vector 7\n",
    "\n",
    "# Set limits on x and y axes\n",
    "plt.xlim([-0.1, 4.5])\n",
    "plt.ylim([-0.1, 4.5])\n",
    "\n",
    "# Label axes\n",
    "plt.xlabel(\"t\", fontsize=16)\n",
    "plt.ylabel(\"P\", fontsize=16)\n",
    "\n",
    "# Add a grid and axes to plot\n",
    "plt.grid(True, which='both')\n",
    "plt.axvline(x=0, color='k')\n",
    "plt.axhline(y=0, color='k')\n",
    "\n",
    "plt.show()"
   ]
  },
  {
   "cell_type": "markdown",
   "id": "35483307-dbe7-4b7f-bfce-a9eaea513243",
   "metadata": {},
   "source": [
    "## <a name='02quest2'>Question 2:</a> \n",
    "---\n",
    "\n",
    "Below are seven differential equations and three different slope fields. **Without using technology**, identify which differential equation is the best match for each slope field (thus you will have four rate of change equations left over). **Explain your reasoning.** \n",
    "\n",
    "$$\n",
    "\\text{(i) } \\frac{dy}{dt}=t-1 \\quad \\text{(ii) } \\frac{dy}{dt}=1-y^2 \\quad \\text{(iii) } \\frac{dy}{dt}=y^2-t^2 \\quad \\text{(iv) } \\frac{dy}{dt}=1-y\n",
    "$$\n",
    "\n",
    "$$\n",
    "\\text{(v) } \\frac{dy}{dt}=t^2-y^2 \\quad \\text{(vi) } \\frac{dy}{dt}=1-t \\quad \\text{(vii) } \\frac{dy}{dt}=9t^2-y^2\n",
    "$$\n",
    "\n",
    "\n",
    "|Slope Field 1 | Slope Field 2 | Slope Field 3|\n",
    "|--------------|---------------|--------------|\n",
    "![Slope Field 1](Images/02SlopeField1.png) | ![Slope Field 2](Images/02SlopeField2.png) | ![Slope Field 3](Images/02SlopeField3.png)\n",
    "\n",
    "### Solution to Question 2:\n",
    "---\n",
    "\n",
    "<br> <br> <br> <br> <br> <br>"
   ]
  },
  {
   "cell_type": "markdown",
   "id": "de3697ac-83f8-4d0c-9639-369c20a247bf",
   "metadata": {
    "tags": []
   },
   "source": [
    "## <a name='02quest3'>Question 3:</a> \n",
    "----\n",
    "\n",
    "For each of the slope fields in the previous problem, sketch in graphs of several different qualitatively correct solutions. **Do not use any technology to answer this question.** \n",
    "\n",
    "### Solution to Question 3:\n",
    "----\n",
    "\n",
    "<br> <br> <br> <br> <br> <br>\n"
   ]
  },
  {
   "cell_type": "markdown",
   "id": "8df77abd-91cc-4b47-ae3c-3c502f3800e3",
   "metadata": {},
   "source": [
    "# Plotting Slope Fields in Python\n",
    "----\n",
    "\n",
    "Recall that to create a slope field we can follow the following routine:\n",
    "\n",
    "1. Pick a point $(t, x)$ and evaluate the differential equation $\\frac{dx}{dt}$ at that point.\n",
    "2. Draw a line segement (of uniform length) with slope $m=\\frac{dx}{dt}$.\n",
    "3. Repeat.\n",
    "\n",
    "Below we go through code that generates a slope field for the differential equation\n",
    "$$\\frac{dx}{dt} = 9.8 - \\frac{x}{5}.$$"
   ]
  },
  {
   "cell_type": "markdown",
   "id": "02426e2a-3710-4c7a-a306-ace1ef05a764",
   "metadata": {},
   "source": [
    "## Importing Packages\n",
    "----\n",
    "\n",
    "First we import two packages we frequently will use:\n",
    "\n",
    "- NumPy is a package that is convenient for working with multidimensional arrays (such as vectors and matrices). See [NumPy help documentation](https://numpy.org/doc/stable/user/whatisnumpy.html).\n",
    "- Matplotlib is package useful for creating static, animated, and interactive visualizations. See [Matplotlib help documentation](https://numpy.org/doc/stable/user/whatisnumpy.html).\n",
    "- The `pyplot` subpackage in `matplotlib` that is a great tool in computational math. See [pyplot help documentation](https://matplotlib.org/stable/api/_as_gen/matplotlib.pyplot.html). "
   ]
  },
  {
   "cell_type": "markdown",
   "id": "b89e41f7-dd56-4870-83ec-c90e30de8a55",
   "metadata": {},
   "source": [
    "## Setting Up the Grid\n",
    "----\n",
    "\n",
    "The code cell below creates a grid of point $(t,x)$ at which we will plot a line segment in the slope field.\n",
    "\n",
    "- First set the step sizes for both x and t to be 1.\n",
    "- Generate vector of $t$-values starting at $t=1$ and ending at $t=10$ (Use `end = 11` to stop at $t=10$).\n",
    "- Generate vector of $x$-values starting at $x=40$ and ending at $x=60$ (Use `end = 61` to stop at $x=60$).\n",
    "- Then we create grid of points $(t,x)$."
   ]
  },
  {
   "cell_type": "code",
   "execution_count": null,
   "id": "00d6cf38-2c07-425a-bf4e-b6d61143565c",
   "metadata": {},
   "outputs": [],
   "source": [
    "import numpy as np\n",
    "import matplotlib.pyplot as plt\n",
    "\n",
    "# np.linspace(initial, end, number_values)\n",
    "t = np.linspace(0,10,11)\n",
    "x = np.linspace(40,60,10)\n",
    "\n",
    "T, X = np.meshgrid(t, x)  # create rectangular grid with points"
   ]
  },
  {
   "cell_type": "markdown",
   "id": "3a36796f-fe6d-4d06-a96d-52bc6d44f370",
   "metadata": {},
   "source": [
    "## Defining the Differential Equation\n",
    "\n",
    "The code cell below defines the differential equation $\\dfrac{dx}{dt} = 9.8 - \\dfrac{x}{5}$ in a standard way in Python, though it may seem odd to us at first.\n",
    "\n",
    "- We define the derivative $\\frac{dx}{dt}$ as a fraction with numerator dx and denominator dt. \n",
    "    - **However, let's be very clear that a derivative is not a fraction.**\n",
    "    - Rather a derivative is the limit of a fraction as the denominator gets smaller and smaller.\n",
    "- The slopes in our field will be line segments with $dt = 1$ and $dx = 9.8 - \\frac{x}{5}$.\n",
    "- `dt = np.ones(dv.shape`) creates an array of 1's with same dimensions as array `dv`.\n"
   ]
  },
  {
   "cell_type": "code",
   "execution_count": null,
   "id": "96c00453-e191-4b91-ba28-b5bd36bf71c1",
   "metadata": {},
   "outputs": [],
   "source": [
    "dx = 9.8 - (X / 5)  # dx = dx/dt \n",
    "dt = np.ones(dx.shape)  # dt = an array of 1's with same dimension as dx"
   ]
  },
  {
   "cell_type": "markdown",
   "id": "993526f5-a656-493d-bd1f-8c1de2818362",
   "metadata": {},
   "source": [
    "## Plotting a Field of Line Segments\n",
    "----\n",
    "\n",
    "Below we plot a first attempt at a slope field that we define as `slope_field()`.\n",
    "\n",
    "- `plt.quiver(T, X, dt, dx, ...)` plots a 2-dim field of arrows evaluating dx/dt at each pair (T, X).\n",
    "- See the [help documentation for plt.quiver](https://matplotlib.org/stable/api/_as_gen/matplotlib.pyplot.quiver.html) for more details.\n",
    "- We will need to customize the plot using additional options to create a **slope field**.\n",
    "- These options have been excluded at first. The question below will have you explore why and how we apply these options."
   ]
  },
  {
   "cell_type": "markdown",
   "id": "49b11ee1-5b64-4b73-b6ec-99b0ba4ac870",
   "metadata": {},
   "source": [
    "<a name='02quest4'>Question 4:</a> \n",
    "----\n",
    "\n",
    "Run the code cell below to use `plt.quiver()`to create a first attempt at a slope field for the differential equation $\\dfrac{dx}{dt} = 9.8 - \\dfrac{x}{5}$.\n",
    "\n",
    "Comment on any features of the resulting plot that we may need to customize to create a more standard looking slope field.\n",
    "\n",
    "### Solution to Question 4:\n",
    "----\n",
    "\n",
    "<br> <br> <br> <br> <br> <br>\n"
   ]
  },
  {
   "cell_type": "code",
   "execution_count": null,
   "id": "9c6f7963-318d-438f-a250-3b0b4ea05724",
   "metadata": {
    "tags": []
   },
   "outputs": [],
   "source": [
    "plt.quiver(T, X, dt, dx)  # Plot a 2D field of arrows\n",
    "plt.title('Slope Field for x\\'(t) = 9.8 - x/5', size =16)\n",
    "plt.show()"
   ]
  },
  {
   "cell_type": "markdown",
   "id": "c50734aa-a62b-4a55-8d47-6e22ed58c8b7",
   "metadata": {},
   "source": [
    "<a name='02quest5'>Question 5:</a> \n",
    "----\n",
    "\n",
    "See [help documentation for quiver](https://matplotlib.org/stable/api/_as_gen/matplotlib.pyplot.quiver.html) and answer the questions below about the options used to customize the plot. Explain what each option does.\n",
    "\n",
    "\n",
    "### Solution to Question 5:\n",
    "----\n",
    "\n",
    "\n",
    "<br> <br> "
   ]
  },
  {
   "cell_type": "code",
   "execution_count": null,
   "id": "b3abab58-8345-4a29-bf3e-2b3bcab461a3",
   "metadata": {},
   "outputs": [],
   "source": [
    "plt.quiver(T, X, dt, dx,  # Plot a 2D field of arrows\n",
    "               units='xy',  # add your comment??\n",
    "               angles='xy',  # add your comment??\n",
    "               width = .08,  # add your comment??\n",
    "               color='blue') # add your comment??\n",
    "plt.title('Slope Field for x\\'(t) = 9.8 - x/5', size =16)\n",
    "plt.show()"
   ]
  },
  {
   "cell_type": "code",
   "execution_count": null,
   "id": "e4958c70-0acc-431a-a0c6-a7b43d7fbfc1",
   "metadata": {
    "tags": []
   },
   "outputs": [],
   "source": [
    "plt.quiver(T, X, dt, dx,  # Plot a 2D field of arrows\n",
    "            units='xy',  # each arrow has length sqrt(((dt)^2+(dx)^2))\n",
    "            angles='xy',  # each arrow has direction from (t,x) to (t+dt, x+dx)\n",
    "            width = .08,  # sets the width of each arrow\n",
    "            color='blue') # sets the color of each arrow\n",
    "\n",
    "plt.title('Slope Field for x\\'(t) = 9.8 - x/5')\n",
    "plt.show()"
   ]
  },
  {
   "cell_type": "markdown",
   "id": "847af158-452a-47a0-b308-4fcb126c6829",
   "metadata": {},
   "source": [
    "## Normalizing the Lengths of the Line Segments\n",
    "\n",
    "- Slope fields are used to indicate the slope of the tangent line to the graph of a solution at each point in the grid.\n",
    "- We only care about the direction of the line segments.\n",
    "- The length of the segment is not relevant, so we typically plot each line segment with the same length\n",
    "- When we plot a vector with run $= dt$ and rise $= dx$, the length of the vector is $\\sqrt{ (dt)^2 + (dx)^2}$.\n",
    "- Rather than plot vector $\\langle dt, dx \\rangle$ we plot normalized vectors:\n",
    "\n",
    "$$\\left< \\frac{dt}{\\sqrt{ (dt)^2 + (dx)^2}}, \\frac{dx}{\\sqrt{ (dt)^2 + (dx)^2}} \\right>$$\n"
   ]
  },
  {
   "cell_type": "code",
   "execution_count": null,
   "id": "99edbbe7-3149-4423-a172-f7504e2c8d77",
   "metadata": {},
   "outputs": [],
   "source": [
    "# normalize the line segments\n",
    "dxu = dx / np.sqrt(dt**2 + dx**2)  # normalize dx\n",
    "dtu = dt / np.sqrt(dt**2 + dx**2)  # normalize dt\n",
    "    \n",
    "\n",
    "plt.quiver(T, X, dtu, dxu,  # Plot a 2D field of arrows\n",
    "            units = 'xy',  # each arrow has length sqrt(((dtu)^2+(dxu)^2)) = 1\n",
    "            angles = 'xy',  # each arrow has direction from (t,x) to (t+dt, x+dx)\n",
    "            width = .08,  # sets the width of each arrow\n",
    "            color = 'red')  # sets the color of each arrow\n",
    "plt.title('Normalized Slope Field for x\\'(t) = 9.8 - x/5', size =16)\n",
    "plt.show()"
   ]
  },
  {
   "cell_type": "markdown",
   "id": "b0be2de2-ded3-497c-92cc-053cedbe7b14",
   "metadata": {},
   "source": [
    "# <a name='slope-field-plotter'>Defining a Slope Field Plotter</a>\n",
    "\n",
    "We now have the tools to build our own function for plotting slope fields. The calculations and Python commands to plot a slope field for a differential equation depend on three inputs:\n",
    "\n",
    "1. What is the range of values to include for the independent variable that we define as `t`?\n",
    "2. What is the range of values to include for the dependent variable that we define as `x`?\n",
    "3. What is the differential equation we'd like to plot that we define as `diffeq`?\n",
    "\n",
    "In the code cell below, we simply define the range of values for the independent ($t$) and dependent ($x$) variables and input the differential equation `diffeq` we'd like to plot."
   ]
  },
  {
   "cell_type": "code",
   "execution_count": null,
   "id": "133aec5f-ab3f-4281-b6e4-b277a6abbfdc",
   "metadata": {},
   "outputs": [],
   "source": [
    "# Setup the grid\n",
    "t = np.linspace(0,10,11)  # np.linspace(initial, end, number_values)\n",
    "x = np.linspace(40,60,10)  # np.linspace(initial, end, number_values)\n",
    "T, X = np.meshgrid(t, x)  # create rectangular grid with points\n",
    "\n",
    "# Setup the differential equation\n",
    "def diffeq(x, t):\n",
    "    return 9.8 - (x / 5) "
   ]
  },
  {
   "cell_type": "markdown",
   "id": "07c7c43f-9672-499a-8d63-e61c9f13fb55",
   "metadata": {},
   "source": [
    "## Plotting a Slope Field with `slope_field()`\n",
    "---\n",
    "\n",
    "We now import a slope_field function that lives inside a module named `ode_plot_tools.py`. \n",
    "\n",
    "- You do NOT need to open, view, or edit the code inside the module `ode_plot_tools.py`. \n",
    "- First we import the `slope_field` function. We only need to do this one time.\n",
    "- Then we create the slope field by simply running the command `slope_field(t, x, diffeq)`."
   ]
  },
  {
   "cell_type": "code",
   "execution_count": null,
   "id": "ab193f95-0b8b-4480-a39a-7e86d4b4aa40",
   "metadata": {},
   "outputs": [],
   "source": [
    "from ode_plot_tools import slope_field  # Only need to import one time.\n",
    "\n",
    "slope_field(t, x, diffeq)"
   ]
  },
  {
   "cell_type": "markdown",
   "id": "208cdac2-11e4-41d6-9cc9-90ab02fa0591",
   "metadata": {},
   "source": [
    "## Changing the Default Options of `slope_field()`\n",
    "\n",
    "If we want to change any of the default options, we simply input them into the `slope_field()`.\n"
   ]
  },
  {
   "cell_type": "code",
   "execution_count": null,
   "id": "aff1e037-6684-42c6-a487-3ac5797a0283",
   "metadata": {},
   "outputs": [],
   "source": [
    "# Change color to blue\n",
    "slope_field(t, x, diffeq, color='blue')"
   ]
  },
  {
   "cell_type": "markdown",
   "id": "398de3d6-508c-43cf-ba01-4057fe13cfbd",
   "metadata": {},
   "source": [
    "## <a name='02quest6'>Question 6:</a> \n",
    "----\n",
    "\n",
    "Plot each of the four differential equations whose slope fields were not plotted in [question 2](#02quest2).\n",
    "\n",
    "\n",
    "### Solution to Question 6:\n",
    "----\n",
    "\n",
    "<br> <br>"
   ]
  },
  {
   "cell_type": "code",
   "execution_count": null,
   "id": "391cdf81-e480-4b01-b0b0-d468d395ca2a",
   "metadata": {},
   "outputs": [],
   "source": [
    "# plot missing slope field 1\n",
    "\n",
    "# Setup the grid\n",
    "t = np.linspace(??, ??, ??)  # np.linspace(initial, end, number_values)\n",
    "x = np.linspace(??, ??, ??)  # np.linspace(initial, end, number_values)\n",
    "T, X = np.meshgrid(t, x)  # create rectangular grid with points\n",
    "\n",
    "# Setup the differential equation\n",
    "diffeq = ??  # Use T and X for ind and dep variables\n",
    "\n",
    "# Plot the slope field\n",
    "slope_field(t, x, diffeq)"
   ]
  },
  {
   "cell_type": "code",
   "execution_count": null,
   "id": "29b44149-999e-4eb0-8504-2291ae887e46",
   "metadata": {},
   "outputs": [],
   "source": [
    "# plot missing slope field 2\n",
    "\n",
    "# Setup the grid\n",
    "t = np.linspace(??, ??, ??)  # np.linspace(initial, end, number_values)\n",
    "x = np.linspace(??, ??, ??)  # np.linspace(initial, end, number_values)\n",
    "T, X = np.meshgrid(t, x)  # create rectangular grid with points\n",
    "\n",
    "# Setup the differential equation\n",
    "diffeq = ??  # Use T and X for ind and dep variables\n",
    "\n",
    "# Plot the slope field\n",
    "slope_field(t, x, diffeq)"
   ]
  },
  {
   "cell_type": "code",
   "execution_count": null,
   "id": "76efd472-636f-47d6-969f-437f83db7138",
   "metadata": {},
   "outputs": [],
   "source": [
    "# plot missing slope field 3\n",
    "\n",
    "# Setup the grid\n",
    "t = np.linspace(??, ??, ??)  # np.linspace(initial, end, number_values)\n",
    "x = np.linspace(??, ??, ??)  # np.linspace(initial, end, number_values)\n",
    "T, X = np.meshgrid(t, x)  # create rectangular grid with points\n",
    "\n",
    "# Setup the differential equation\n",
    "diffeq = ??  # Use T and X for ind and dep variables\n",
    "\n",
    "# Plot the slope field\n",
    "slope_field(t, x, diffeq)"
   ]
  },
  {
   "cell_type": "code",
   "execution_count": null,
   "id": "5f93df45-ae41-48df-8dd2-7ecff9700684",
   "metadata": {},
   "outputs": [],
   "source": [
    "# plot missing slope field 4\n",
    "\n",
    "# Setup the grid\n",
    "t = np.linspace(??, ??, ??)  # np.linspace(initial, end, number_values)\n",
    "x = np.linspace(??, ??, ??)  # np.linspace(initial, end, number_values)\n",
    "T, X = np.meshgrid(t, x)  # create rectangular grid with points\n",
    "\n",
    "# Setup the differential equation\n",
    "diffeq = ??  # Use T and X for ind and dep variables\n",
    "\n",
    "# Plot the slope field\n",
    "slope_field(t, x, diffeq)"
   ]
  },
  {
   "cell_type": "markdown",
   "id": "8f330c02-d88b-478b-8cea-8bd4f7937f92",
   "metadata": {},
   "source": [
    "# Plotting Solutions in Slope Field\n",
    "\n",
    "We have been approximating the graphs of solutions to an initial value problem by following the directions indicated in the slope field. Below is a modified slope field function called `slope_field_ivp`.'\n",
    "\n",
    "- We add a new input, `x0` which is the **initial value**.\n",
    "- **Initial value means value of $x$ at the starting value of $t$**.\n",
    "    - In the code, we use $x$ to denote dependent variable and $t$ for independent.\n",
    "    - The starting value of $t$ is the starting $t$-value: `t = np.linspace(start_t, ...)`\n",
    "    - Thus `x0` is value of $x$ when $t =$ `start_t`."
   ]
  },
  {
   "cell_type": "code",
   "execution_count": null,
   "id": "b9cfea94-8675-4350-bd46-5fa14d5a6476",
   "metadata": {},
   "outputs": [],
   "source": [
    "from scipy.integrate import odeint\n",
    "\n",
    "def slope_field_ivp(t, x, diffeq, x0, \n",
    "                units = 'xy', \n",
    "                angles = 'xy', \n",
    "                width = .08, \n",
    "                color = 'black'):\n",
    "    T, X = np.meshgrid(t, x)  # create rectangular grid with points\n",
    "    slopes = diffeq(X, T)\n",
    "    dt = np.ones(slopes.shape)  # dt = an array of 1's with same dimension as diffeq\n",
    "    dxu = slopes / np.sqrt(dt**2 + slopes**2)  # normalize dx\n",
    "    dtu = dt / np.sqrt(dt**2 + slopes**2)  # normalize dt\n",
    "    # new lines of code\n",
    "    ts = np.linspace(int(t[0]), int(t[-1]), 100)\n",
    "    xsol = odeint(diffeq, x0, ts)  # Solves first order ode with x(0) = x0\n",
    "    plt.quiver(T, X, dtu, dxu,  # Plot a 2D field of arrows\n",
    "               units = units,  \n",
    "               angles = angles,  # each arrow has direction from (t,x) to (t+dt, x+dx)\n",
    "               width = width,  # sets the width of each arrow from user inputs\n",
    "               color = color)  # sets the color of each arrow from user inputs\n",
    "    # new line of code\n",
    "    plt.plot(ts, xsol, '-', color = 'red')  # plot solution\n",
    "    plt.show"
   ]
  },
  {
   "cell_type": "code",
   "execution_count": null,
   "id": "919fc649-be31-4a60-9795-6592eb591989",
   "metadata": {},
   "outputs": [],
   "source": [
    "# plot solution with initial condition x(0) = 42\n",
    "%matplotlib widget\n",
    "# Setup the grid\n",
    "t = np.linspace(0,10,11)  # note the start_t value\n",
    "x = np.linspace(40,60,10)\n",
    "\n",
    "# Setup the differential equation\n",
    "def diffeq(x, t):\n",
    "    return 9.8 - (x / 5) \n",
    "\n",
    "# Initial condition when t=start_t\n",
    "x0 = 42\n",
    "\n",
    "# Plot the slope field and solution\n",
    "slope_field_ivp(t, x, diffeq, x0)"
   ]
  },
  {
   "cell_type": "markdown",
   "id": "7db3914c-bed7-45d9-8b8d-c583c34c4462",
   "metadata": {},
   "source": [
    "## <a name='02quest7'>Question 7:</a> \n",
    "----\n",
    "\n",
    "Use the slope field plotter widget below to sketch the slope field of\n",
    "\n",
    "$$\\frac{dy}{dt}=t^2-y^2$$\n",
    "\n",
    "as well as the solution through the point $y(-3)=-1$.\n",
    "\n",
    "\n",
    "### Solution to Question 7:\n",
    "----\n",
    "\n",
    "<mark> solution has been added below. remove from student copy later.</mark>\n",
    "\n",
    "<br> <br> Complete the code block below <br> <br>"
   ]
  },
  {
   "cell_type": "code",
   "execution_count": null,
   "id": "bc880516-baca-40e4-9893-9287a9ce316f",
   "metadata": {},
   "outputs": [],
   "source": [
    "%matplotlib widget\n",
    "# plot solution with initial condition x(0) = 42\n",
    "\n",
    "# Setup the grid\n",
    "t = np.linspace(??, ??, ??)  # note the start_t value\n",
    "x = np.linspace(??, ??, ??)\n",
    "\n",
    "# Setup the differential equation\n",
    "def diffeq(x, t):\n",
    "    return ??\n",
    "\n",
    "# Initial condition when t=start_t\n",
    "x0 = ??\n",
    "\n",
    "# Plot the slope field and solution\n",
    "slope_field_ivp(t, x, diffeq, x0)"
   ]
  },
  {
   "cell_type": "markdown",
   "id": "f2b4bcb0-357b-49f0-b597-bf99aedec39e",
   "metadata": {},
   "source": [
    "# Old Materials That Will Not Included in Final"
   ]
  },
  {
   "cell_type": "code",
   "execution_count": null,
   "id": "cc1073a5-15ec-44d9-aaa3-50b41ff1c1b9",
   "metadata": {},
   "outputs": [],
   "source": [
    "# Old Code: We'll read in the module instead\n",
    "def slope_field(t, x, diffeq, \n",
    "                units = 'xy', \n",
    "                angles = 'xy', \n",
    "                width = .08, \n",
    "                color = 'black'):\n",
    "    T, X = np.meshgrid(t, x)  # create rectangular grid with points\n",
    "    slopes = diffeq(X, T)\n",
    "    dt = np.ones(slopes.shape)  # dt = an array of 1's with same dimension as diffeq\n",
    "    dxu = slopes / np.sqrt(dt**2 + slopes**2)  # normalize dx\n",
    "    dtu = dt / np.sqrt(dt**2 + slopes**2)  # normalize dt\n",
    "    plt.quiver(T, X, dtu, dxu,  # Plot a 2D field of arrows\n",
    "               units = units,  \n",
    "               angles = angles,  # each arrow has direction from (t,x) to (t+dt, x+dx)\n",
    "               width = width,  # sets the width of each arrow from user inputs\n",
    "               color = color)  # sets the color of each arrow from user inputs\n",
    "    \n",
    "    plt.show"
   ]
  },
  {
   "cell_type": "code",
   "execution_count": null,
   "id": "3feeeacc-918d-4e1c-9246-e612660b562f",
   "metadata": {},
   "outputs": [],
   "source": [
    "%matplotlib widget\n",
    "# plot solution with initial condition x(0) = 42\n",
    "\n",
    "# Setup the grid\n",
    "t = np.linspace(-3, 3, 14)  # note the start_t value\n",
    "x = np.linspace(-3, 3, 14)\n",
    "\n",
    "# Setup the differential equation\n",
    "def diffeq(x, t):\n",
    "    return t**2 - x**2\n",
    "\n",
    "# Initial condition when t=start_t\n",
    "x0 = -1\n",
    "\n",
    "# Plot the slope field and solution\n",
    "slope_field_ivp(t, x, diffeq, x0, width = 0.03)"
   ]
  },
  {
   "cell_type": "markdown",
   "id": "b5778ef8-b80e-4624-99e7-c918eb968f37",
   "metadata": {},
   "source": [
    "# Appendix: Writing a Python function\n",
    "\n",
    "Python functions are useful when you are reusing a block of code repeatedly. Just like in math, functions produce a set of outputs given a set of inputs. The data we pass to a function are called **parameters**.\n",
    "\n",
    "Let's represent a differential equation with a Python function. Notice that for the differential equation we have been working with, $\\dfrac{dx}{dt} = 9.8 - \\dfrac{x}{5}$, the slope is not a function of time. Therefore, we can write a function that only takes $x$ as the only input parameter."
   ]
  },
  {
   "cell_type": "code",
   "execution_count": null,
   "id": "e327552d-a93e-4574-8d64-90745712b907",
   "metadata": {},
   "outputs": [],
   "source": [
    "# Function to calculate dx/dt at a given x value\n",
    "def dxdt(x):\n",
    "    return 9.8 - (x / 5)"
   ]
  },
  {
   "cell_type": "markdown",
   "id": "a86e5629-dbcb-447f-b185-6f20c571ec68",
   "metadata": {},
   "source": [
    "Let's check a couple of values. The slope is positive at $x\\approx 40$. The slope is zero when $\\frac{x}{5}=9.8$."
   ]
  },
  {
   "cell_type": "code",
   "execution_count": null,
   "id": "96ef891b-e083-4882-b056-182e26aa5649",
   "metadata": {
    "tags": []
   },
   "outputs": [],
   "source": [
    "# You can explicitly state the argument to the function\n",
    "dxdt(x=9.8*5)"
   ]
  },
  {
   "cell_type": "code",
   "execution_count": null,
   "id": "87f25d7b-ea8e-482e-aa3f-9e48f6e6ca5f",
   "metadata": {
    "tags": []
   },
   "outputs": [],
   "source": [
    "# If you do not specify the argument, the order in which they appear is used\n",
    "dxdt(40)"
   ]
  },
  {
   "cell_type": "markdown",
   "id": "1c3ab3c3-ee72-4c86-8c1d-1dfeaa5aac32",
   "metadata": {},
   "source": [
    "We can also evaluate the function for an array of x values."
   ]
  },
  {
   "cell_type": "code",
   "execution_count": null,
   "id": "aba932b6-18bd-4ab1-9980-ffa4c4a83742",
   "metadata": {},
   "outputs": [],
   "source": [
    "t = np.linspace(1,10,10)\n",
    "x = np.linspace(40,60,10)\n",
    "\n",
    "dxdt(x)"
   ]
  },
  {
   "cell_type": "markdown",
   "id": "b4938ec9-9ef8-43e0-b14f-acfbbc78558d",
   "metadata": {},
   "source": [
    "Functions can also be written more compactly with the `lambda` notation."
   ]
  },
  {
   "cell_type": "code",
   "execution_count": null,
   "id": "4a761926-811a-42d2-9a8c-b4ed52fe24e4",
   "metadata": {},
   "outputs": [],
   "source": [
    "dxdt = lambda x: 9.8 - (x / 5)\n",
    "\n",
    "dxdt(40)"
   ]
  },
  {
   "cell_type": "markdown",
   "id": "cc74b195-6107-4402-8639-d20cdd189622",
   "metadata": {
    "tags": []
   },
   "source": [
    "## Plotting the Solution Given an Initial Condition\n",
    "----\n",
    "\n",
    "Below is a block of code for visualizing solutions to a differential equation given an initial condition. Using the python **widget**, try changing the initial condition and see how the corresponding solution changes."
   ]
  },
  {
   "cell_type": "code",
   "execution_count": null,
   "id": "4898c989-6b42-47e2-b2d8-0cc0216c0abd",
   "metadata": {},
   "outputs": [],
   "source": [
    "from ipywidgets import interact, interactive, fixed, interact_manual\n",
    "import ipywidgets as widgets\n",
    "import ode_plot_tools as oplot"
   ]
  },
  {
   "cell_type": "code",
   "execution_count": null,
   "id": "c61a3651-33dd-4041-aeab-8737acb74bea",
   "metadata": {
    "tags": []
   },
   "outputs": [],
   "source": [
    "# Setup the grid\n",
    "t = np.linspace(0,5*np.pi,12)  # np.linspace(initial, end, number_values)\n",
    "x = np.linspace(-10,10,12)  # np.linspace(initial, end, number_values)\n",
    "# Setup the differential equation\n",
    "diffeq = lambda x, t: np.cos(t)  # Use t and x for ind and dep variables\n",
    "\n",
    "%reset -f out \n",
    "\n",
    "%matplotlib widget\n",
    "# Setup the plot\n",
    "fig, ax = plt.subplots(1,1, num=5)\n",
    "\n",
    "interact_manual(oplot.plot_sol, \n",
    "            t = fixed(t),\n",
    "            x = fixed(x),\n",
    "            diffeq = fixed(diffeq),\n",
    "            x0 = widgets.FloatText(\n",
    "                value=0, description='Initial Conditions $x_0$'),\n",
    "            ax = fixed(ax),\n",
    "            npts = fixed(100),\n",
    "            clear = widgets.Checkbox(value=False, description='Clear Previous')\n",
    "               )"
   ]
  },
  {
   "cell_type": "code",
   "execution_count": null,
   "id": "a9f97ae0-dc38-4f65-a319-5d941ac4720e",
   "metadata": {},
   "outputs": [],
   "source": [
    "# values of independent and dependent variables\n",
    "t = np.linspace(??, ??, ??)  # ind variable\n",
    "x = np.linspace(??, ??, ??)  # dep variable\n",
    "\n",
    "# Setup the differential equation\n",
    "# DO WE NEED LAMBDA FUNCTION FOR THIS??\n",
    "diffeq = lambda x, t: ??  # Use t and x for ind and dep variables\n",
    "\n",
    "\n",
    "%reset -f out \n",
    "\n",
    "%matplotlib widget\n",
    "interact_manual(plot_sol, \n",
    "            t = fixed(t),\n",
    "            x = fixed(x),\n",
    "            diffeq = fixed(diffeq),\n",
    "            x0 = widgets.FloatText(\n",
    "                value=0, description='Initial Conditions $x_0$'),\n",
    "            npts = fixed(12),\n",
    "            clear = widgets.Checkbox(value=False, description='Clear Previous')\n",
    "               )"
   ]
  },
  {
   "cell_type": "markdown",
   "id": "8ca960b0-4101-4ee4-a156-35001eeb74b7",
   "metadata": {},
   "source": [
    "## Creative Commons License Information\n",
    "<a rel=\"license\" href=\"https://creativecommons.org/licenses/by-nc-sa/4.0/\"><img alt=\"Creative Commons License\" style=\"border-width:0\" src=\"https://i.creativecommons.org/l/by-nc-sa/4.0/80x15.png\" /></a><br /><span xmlns:dct=\"http://purl.org/dc/terms/\" property=\"dct:title\">Elementary Differential Equations</span> by <a xmlns:cc=\"http://creativecommons.org/ns#\" href=\"https://github.com/CU-Denver-MathStats-OER/ODEs\" property=\"cc:attributionName\" rel=\"cc:attributionURL\">Adam Spiegler, Jonathon Hirschi, and Dmitry Ostrovskiy</a> is licensed under a <a rel=\"license\" href=\"http://creativecommons.org/licenses/by-nc-sa/4.0/\">Creative Commons Attribution-NonCommercial-ShareAlike 4.0 International License</a>.<br />Based on a work at <a xmlns:dct=\"http://purl.org/dc/terms/\" href=\"https://github.com/CU-Denver-MathStats-OER/ODEs\" rel=\"dct:source\">https://github.com/CU-Denver-MathStats-OER/ODEs</a> and original content created by Rasmussen, C., Keene, K. A., Dunmyre, J., & Fortune, N. (2018). *Inquiry oriented differential equations: Course materials*. Available at <a href=\"https://iode.wordpress.ncsu.edu\">https://iode.wordpress.ncsu.edu</a>."
   ]
  },
  {
   "cell_type": "code",
   "execution_count": null,
   "id": "59bb7ca5-f1d0-4806-879a-2ba5f7d932f8",
   "metadata": {},
   "outputs": [],
   "source": []
  }
 ],
 "metadata": {
  "kernelspec": {
   "display_name": "Python 3",
   "language": "python",
   "name": "python3"
  },
  "language_info": {
   "codemirror_mode": {
    "name": "ipython",
    "version": 3
   },
   "file_extension": ".py",
   "mimetype": "text/x-python",
   "name": "python",
   "nbconvert_exporter": "python",
   "pygments_lexer": "ipython3",
   "version": "3.8.8"
  }
 },
 "nbformat": 4,
 "nbformat_minor": 5
}
