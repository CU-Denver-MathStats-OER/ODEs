{
 "cells": [
  {
   "cell_type": "markdown",
   "id": "3581413b-8b68-474d-84db-6ecfb5eb00a5",
   "metadata": {},
   "source": [
    "# Section 1.2: Slope Fields\n",
    "----\n",
    "\n",
    "A **<font color = \"blue\">slope field</font>** is a graphical representation of a rate of change equation. Given a rate of change equation, if we plug in particular values of $(t,y)$ then $\\dfrac{dy}{dt}$ tells you the slope of the tangent vector to the solution at that point.\n",
    "\n",
    "\n",
    "For example, consider the rate of change equation $\\dfrac{dy}{dt}=y+2t$.  At the point $(1, 3)$, the value of $\\dfrac{dy}{dt}$ is $5$. Thus, the slope field for this equation would show a vector at the point $(1, 3)$ with slope $5$.  A slope field depicts the exact slope of many such vectors, where we take each vector to be uniform length. Slope fields are useful because they provide a graphical approach for obtaining qualitatively correct graphs of the functions that satisfy a differential equation."
   ]
  },
  {
   "cell_type": "markdown",
   "id": "f2d0bceb-b0a3-4a41-82fa-c4fd1c1703bd",
   "metadata": {},
   "source": [
    "## <a name='02quest1'>Question 1:</a> \n",
    "---\n",
    "\n",
    "In the code cell below a partially completed slope field for  $\\dfrac{dP}{dt}=0.8P$ is provided.\n",
    "\n",
    "a. Plot many more tangent vectors to create a slope field.\n",
    "\n",
    "b. Use your slope field to sketch qualitatively correct graphs of the solution functions that start at $P = 0, 0.5$, and $2$, respectively. Note: the value of $P$ at an initial time (typically $t = 0$) is called an **initial condition**. \n",
    "\n",
    "c. Recall that a solution to a differential equation is a function that satisfies the differential equation. Explain how the graph with initial condition $P(0) = 1$ can graphically be thought of as a solution to the differential equation when the differential equation is represented by its slope field. \n",
    "\n",
    "<!-- ![Partially Completed Slope Field and Table](Images/02MyFirstSlopeFieldwithTable.png) -->\n",
    "\n",
    "### Solution to Question 1:\n",
    "----\n",
    "\n",
    "<br> \n",
    "\n",
    "Complete the table below to identify more vectors in the slope field.\n",
    "\n",
    "| $$t$$ | $$P$$ | $$\\frac{dP}{dt} = 0.8P$$|\n",
    "|-----|-----|-------------------------|\n",
    "| 0 | 0 | 0 |\n",
    "| 0 | 2 | 1.6 |\n",
    "| 1 | 1 | 0.8 |\n",
    "| <mark>??</mark> |  <mark>??</mark> | <mark>??</mark> |\n",
    "| <mark>??</mark> |  <mark>??</mark> | <mark>??</mark> |\n",
    "| <mark>??</mark> |  <mark>??</mark> | <mark>??</mark> |\n",
    "| <mark>??</mark> |  <mark>??</mark> | <mark>??</mark> |\n",
    "| <mark>??</mark> |  <mark>??</mark> | <mark>??</mark> |\n",
    "\n",
    "\n",
    "<br> <br>\n",
    "<mark>Then plot the vectors by editing the code cell below.</mark>\n",
    "<br> <br> "
   ]
  },
  {
   "cell_type": "code",
   "execution_count": null,
   "id": "5e1a07f9-9fc7-4db0-9212-da27622a47d8",
   "metadata": {},
   "outputs": [],
   "source": [
    "import matplotlib.pyplot as plt\n",
    "\n",
    "# Plot vectors\n",
    "plt.quiver(0, 0, 1, 0, color = 'b')  # plots vector at (0,0) with slope 0/1 = 0 \n",
    "plt.quiver(0, 2, 1, 0.8, color = 'b')  # plots vector at (0,2) with slope 0.8/1 = 0.8\n",
    "plt.quiver(1, 1, 1, 1.6, color = 'b')  # plots vector at (1,1) with slope 1.6/1 = 1.6\n",
    "\n",
    "#########################################################################\n",
    "#STUDENT TO DO: Uncomment out each line and add your vectors to the plot\n",
    "#########################################################################\n",
    "#plt.quiver(??, ??, 1, ??, color = 'b')  # add your vector 1\n",
    "#plt.quiver(??, ??, 1, ??, color = 'b')  # add your vector 2\n",
    "#plt.quiver(??, ??, 1, ??, color = 'b')  # add your vector 3\n",
    "#plt.quiver(??, ??, 1, ??, color = 'b')  # add your vector 4\n",
    "#plt.quiver(??, ??, 1, ??, color = 'b')  # add your vector 5\n",
    "\n",
    "# Set limits on x and y axes\n",
    "plt.xlim([-0.1, 4.5])\n",
    "plt.ylim([-0.1, 4.5])\n",
    "\n",
    "# Label axes\n",
    "plt.xlabel(\"t\", fontsize=16)\n",
    "plt.ylabel(\"P\", fontsize=16)\n",
    "\n",
    "# Add a grid and axes to plot\n",
    "plt.grid(True, which='both')\n",
    "plt.axvline(x=0, color='k')\n",
    "plt.axhline(y=0, color='k')\n",
    "\n",
    "plt.show()"
   ]
  },
  {
   "cell_type": "markdown",
   "id": "35483307-dbe7-4b7f-bfce-a9eaea513243",
   "metadata": {},
   "source": [
    "## <a name='02quest2'>Question 2:</a> \n",
    "---\n",
    "\n",
    "Below are seven differential equations and three different slope fields. **Without using technology**, identify which differential equation is the best match for each slope field (thus you will have four rate of change equations left over). **Explain your reasoning.** \n",
    "\n",
    "$$\n",
    "\\text{(i) } \\frac{dy}{dt}=t-1 \\quad \\text{(ii) } \\frac{dy}{dt}=1-y^2 \\quad \\text{(iii) } \\frac{dy}{dt}=y^2-t^2 \\quad \\text{(iv) } \\frac{dy}{dt}=1-y\n",
    "$$\n",
    "\n",
    "$$\n",
    "\\text{(v) } \\frac{dy}{dt}=t^2-y^2 \\quad \\text{(vi) } \\frac{dy}{dt}=1-t \\quad \\text{(vii) } \\frac{dy}{dt}=9t^2-y^2\n",
    "$$\n",
    "\n",
    "\n",
    "|Slope Field 1 | Slope Field 2 | Slope Field 3|\n",
    "|--------------|---------------|--------------|\n",
    "![Slope Field 1](Images/02SlopeField1.png) | ![Slope Field 2](Images/02SlopeField2.png) | ![Slope Field 3](Images/02SlopeField3.png)\n",
    "\n",
    "### Solution to Question 2:\n",
    "---\n",
    "\n",
    "<br> <br> <br> <br> <br> <br>"
   ]
  },
  {
   "cell_type": "markdown",
   "id": "de3697ac-83f8-4d0c-9639-369c20a247bf",
   "metadata": {
    "tags": []
   },
   "source": [
    "## <a name='02quest3'>Question 3:</a> \n",
    "----\n",
    "\n",
    "For each of the slope fields in the previous problem, sketch in graphs of several different qualitatively correct solutions. **Do not use any technology to answer this question.** \n",
    "\n",
    "### Solution to Question 3:\n",
    "----\n",
    "\n",
    "<br> <br> <br> <br> <br> <br>\n"
   ]
  },
  {
   "cell_type": "markdown",
   "id": "8df77abd-91cc-4b47-ae3c-3c502f3800e3",
   "metadata": {},
   "source": [
    "# Plotting Slope Fields in Python\n",
    "----\n",
    "\n",
    "Recall that to create a slope field we can follow the following routine:\n",
    "\n",
    "1. Pick a point $(t, x)$ and evaluate the differential equation $\\frac{dx}{dt}$ at that point.\n",
    "2. Draw a line segement (of uniform length) with slope $m=\\frac{dx}{dt}$.\n",
    "3. Repeat.\n",
    "\n",
    "Below we go through code that generates a slope field for the differential equation\n",
    "$$\\frac{dx}{dt} = 9.8 - \\frac{x}{5}.$$"
   ]
  },
  {
   "cell_type": "markdown",
   "id": "02426e2a-3710-4c7a-a306-ace1ef05a764",
   "metadata": {},
   "source": [
    "## Importing Packages\n",
    "----\n",
    "\n",
    "First we import two packages we frequently will use:\n",
    "\n",
    "- **<font color = \"blue\">NumPy</font>** is a package that is convenient for working with multidimensional arrays (such as vectors and matrices). See [NumPy help documentation](https://numpy.org/doc/stable/user/whatisnumpy.html).\n",
    "- **<font color = \"blue\">Matplotlib</font>** we **already imported in the first code cell above**. It is package useful for creating static, animated, and interactive visualizations. See [Matplotlib help documentation](https://numpy.org/doc/stable/user/whatisnumpy.html).\n",
    "    - The `pyplot` subpackage in `matplotlib` that is a great tool in computational math. See [pyplot help documentation](https://matplotlib.org/stable/api/_as_gen/matplotlib.pyplot.html). "
   ]
  },
  {
   "cell_type": "code",
   "execution_count": null,
   "id": "5b77df78-bdd5-4440-aa2d-ca201df68de7",
   "metadata": {},
   "outputs": [],
   "source": [
    "import numpy as np\n",
    "# import matplotlib.pyplot as plt  # already imported"
   ]
  },
  {
   "cell_type": "markdown",
   "id": "b89e41f7-dd56-4870-83ec-c90e30de8a55",
   "metadata": {},
   "source": [
    "## Setting Up the Grid\n",
    "----\n",
    "\n",
    "The code cell below creates a set of points $(t,x)$ at which we will plot a line segment in the slope field.\n",
    "\n",
    "- Generate vector of $11$ evenly spaced $t$-values starting at $t=0$ and ending at $t=10$.\n",
    "- Generate vector of $10$ evenly spaced $x$-values starting at $x=40$ and ending at $x=60$\n",
    "- You choose range of values and how many slopes you want to plot in your slope field."
   ]
  },
  {
   "cell_type": "code",
   "execution_count": null,
   "id": "00d6cf38-2c07-425a-bf4e-b6d61143565c",
   "metadata": {},
   "outputs": [],
   "source": [
    "# np.linspace(initial, end, number_values)\n",
    "t = np.linspace(0,10,11)\n",
    "x = np.linspace(40,60,10)"
   ]
  },
  {
   "cell_type": "markdown",
   "id": "3a36796f-fe6d-4d06-a96d-52bc6d44f370",
   "metadata": {},
   "source": [
    "## Defining the Differential Equation\n",
    "---\n",
    "\n",
    "In the code cell below, we define the differential equation `diffeq` whose slope field will be plotted. **By default, we still use $t$ to denote the independent variable and $x$ the dependent variable.**"
   ]
  },
  {
   "cell_type": "code",
   "execution_count": null,
   "id": "96c00453-e191-4b91-ba28-b5bd36bf71c1",
   "metadata": {},
   "outputs": [],
   "source": [
    "# Define the differential equation\n",
    "\n",
    "def diffeq(t, x):  # t is independent variable and x is dependent variable\n",
    "    return 9.8 - (x / 5)  # enter the formula for dx/dt"
   ]
  },
  {
   "cell_type": "markdown",
   "id": "72e16b8c-27bb-4350-87b6-75e5251388db",
   "metadata": {},
   "source": [
    "## Plotting a Slope Field with `slope_field()`\n",
    "---\n",
    "\n",
    "We now import a function named `slope_field()` that lives inside a module named `ode_plot_tools`. \n",
    "\n",
    "- The actual Python code can be found in the file named **ode_plot_tools.py**.\n",
    "- <font color = \"red\">You do NOT need to open, view, or edit the code in the file **ode_plot_tools.py**.</font> \n",
    "\n",
    "\n",
    "1. We import the `slope_field()` function.\n",
    "    - Like packages, you only need to import a function one time after opening a notebook.\n",
    "\n",
    "\n",
    "2. Input vectors of values for `t` and `x` (points where the vectors will be plotted) and define `diffeq`.\n",
    "    - Note this step has been commented out in the code cell below since we have already defined `t`, `x`, and `diffeq` in previous code cells above.\n",
    "    - If you have skipped over those cells, you will need to uncomment out the lines of code where `t`, `x`, and `diffeq` are defined.\n",
    "\n",
    "\n",
    "3. We generate the slope field by running the function with the command `slope_field(t, x, diffeq)`."
   ]
  },
  {
   "cell_type": "code",
   "execution_count": null,
   "id": "f38fbe97-697f-4eb5-aab1-b28acdf0d6a5",
   "metadata": {},
   "outputs": [],
   "source": [
    "from ode_plot_tools import slope_field  # Only need to import one time.\n",
    "\n",
    "# np.linspace(initial, end, number_values)\n",
    "#t = np.linspace(0,10,11)\n",
    "#x = np.linspace(40,60,10)\n",
    "\n",
    "# Setup the differential equation\n",
    "#def diffeq(t, x):  # t is independent variable and x is dependent variable\n",
    "#    return 9.8 - (x / 5)  # enter the formula for dx/dt\n",
    "\n",
    "# Run the slope field plotter\n",
    "slope_field(t, x, diffeq)"
   ]
  },
  {
   "cell_type": "markdown",
   "id": "50391ead-43d3-4f6e-98e5-7e59f72d281e",
   "metadata": {},
   "source": [
    "## Plotting a Different Slope Field\n",
    "---\n",
    "\n",
    "Next we use `slope_field()` to generate a plot of the slope corresponding to\n",
    "\n",
    "$$\\color{blue}{\\frac{dy}{dq} = 4q^2 - y^2}.$$\n",
    "\n",
    "We initially choose to plot the slope field over $-5 \\leq q \\leq 5$ and $-5 \\leq y \\leq 5$.\n",
    "\n",
    "- Note in the `slope_field()` function $t$ and $x$ are used to denote the independent and dependent variables, respectively.\n",
    "\n",
    "    - In this example, $q$ is the independent variable. **We use $t$ in place of $q$ in our formula.**\n",
    "    - In this example, $y$ is the dependent variable. **We use $x$ in place of $y$ in our formula.**\n",
    "    - The differential equation below is identical to the original differential equation above, just stated in terms of the default variables $t$ and $x$.\n",
    "\n",
    "$$\\color{blue}{\\frac{dx}{dt} = 4t^2 - x^2}$$"
   ]
  },
  {
   "cell_type": "code",
   "execution_count": null,
   "id": "55e56844-9f7c-4e74-baf0-ac5c705c2261",
   "metadata": {},
   "outputs": [],
   "source": [
    "# np.linspace(initial, end, number_values)\n",
    "t = np.linspace(-5, 5, 11)  # pick 11 values from t=q=-5 to t=q=5\n",
    "x = np.linspace(-5, 5, 11)  # pick 11 values from x=y=-5 to x=y=5\n",
    "\n",
    "# Define a new differential equation\n",
    "def diffeq(t, x):  # x and t are dependent and independent variables\n",
    "    return 4*t**2 - x**2  # formula for dx/dt = dy/dq"
   ]
  },
  {
   "cell_type": "markdown",
   "id": "9b188864-4f47-40a9-a4a6-5a608f656ede",
   "metadata": {},
   "source": [
    "### Now We're Ready to Run `slope_field()`\n",
    "---\n",
    "\n",
    "Now that we have defined the three inputs need for the `slope_field()` function, we can generate a new slope field with the simple one line below."
   ]
  },
  {
   "cell_type": "code",
   "execution_count": null,
   "id": "bb9b650a-336f-4ee9-af74-49d0399ccc34",
   "metadata": {},
   "outputs": [],
   "source": [
    "slope_field(t, x, diffeq)"
   ]
  },
  {
   "cell_type": "markdown",
   "id": "208cdac2-11e4-41d6-9cc9-90ab02fa0591",
   "metadata": {},
   "source": [
    "## Changing the Color of Vectors\n",
    "---\n",
    "\n",
    "If we want to change any of the default options, we simply input new options into the `slope_field()` function.\n",
    "\n",
    "- The default color for the vectors is `color = 'black'`. If you want black arrows, you do not need to specify any color.\n",
    "- To change the color of the vectors, add the option `color = 'color_name'` inside `slope_field()` as illustrated in the code cell below."
   ]
  },
  {
   "cell_type": "code",
   "execution_count": null,
   "id": "aff1e037-6684-42c6-a487-3ac5797a0283",
   "metadata": {},
   "outputs": [],
   "source": [
    "# Change color to blue\n",
    "slope_field(t, x, diffeq, color='blue')"
   ]
  },
  {
   "cell_type": "markdown",
   "id": "398de3d6-508c-43cf-ba01-4057fe13cfbd",
   "metadata": {},
   "source": [
    "## <a name='02quest4'>Question 4:</a> \n",
    "----\n",
    "\n",
    "Plot each of the four differential equations whose slope fields were not plotted in [question 2](#02quest2).\n",
    "\n",
    "\n",
    "### Solution to Question 4:\n",
    "----\n",
    "\n",
    "<br> <br> <mark>Repace each ?? in each of the four code cells below to plot each slope field.</mark> <br> <br>"
   ]
  },
  {
   "cell_type": "code",
   "execution_count": null,
   "id": "391cdf81-e480-4b01-b0b0-d468d395ca2a",
   "metadata": {},
   "outputs": [],
   "source": [
    "# plot missing slope field 1\n",
    "\n",
    "# Define points where vectors will be plotted\n",
    "t = np.linspace(??, ??, ??)  # Independent variable, np.linspace(initial, end, number_values)\n",
    "x = np.linspace(??, ??, ??)  # Dependent variable, np.linspace(initial, end, number_values)\n",
    "\n",
    "# Define the differential equation\n",
    "def diffeq(t, x):  # t is independent variable and x is dependent variable\n",
    "    return ??  # enter the formula for dx/dt\n",
    "\n",
    "# Run the slope field plotter\n",
    "slope_field(t, x, diffeq)"
   ]
  },
  {
   "cell_type": "code",
   "execution_count": null,
   "id": "29b44149-999e-4eb0-8504-2291ae887e46",
   "metadata": {},
   "outputs": [],
   "source": [
    "# plot missing slope field 2\n",
    "\n",
    "# Define points where vectors will be plotted\n",
    "t = np.linspace(??, ??, ??)  # Independent variable, np.linspace(initial, end, number_values)\n",
    "x = np.linspace(??, ??, ??)  # Dependent variable, np.linspace(initial, end, number_values)\n",
    "\n",
    "# Define the differential equation\n",
    "def diffeq(t, x):  # t is independent variable and x is dependent variable\n",
    "    return ??  # enter the formula for dx/dt\n",
    "\n",
    "# Run the slope field plotter\n",
    "slope_field(t, x, diffeq)"
   ]
  },
  {
   "cell_type": "code",
   "execution_count": null,
   "id": "76efd472-636f-47d6-969f-437f83db7138",
   "metadata": {},
   "outputs": [],
   "source": [
    "# plot missing slope field 3\n",
    "\n",
    "# Define points where vectors will be plotted\n",
    "t = np.linspace(??, ??, ??)  # Independent variable, np.linspace(initial, end, number_values)\n",
    "x = np.linspace(??, ??, ??)  # Dependent variable, np.linspace(initial, end, number_values)\n",
    "\n",
    "# Define the differential equation\n",
    "def diffeq(t, x):  # t is independent variable and x is dependent variable\n",
    "    return ??  # enter the formula for dx/dt\n",
    "\n",
    "# Run the slope field plotter\n",
    "slope_field(t, x, diffeq)"
   ]
  },
  {
   "cell_type": "code",
   "execution_count": null,
   "id": "5f93df45-ae41-48df-8dd2-7ecff9700684",
   "metadata": {},
   "outputs": [],
   "source": [
    "# plot missing slope field 4\n",
    "\n",
    "# Define points where vectors will be plotted\n",
    "t = np.linspace(??, ??, ??)  # Independent variable, np.linspace(initial, end, number_values)\n",
    "x = np.linspace(??, ??, ??)  # Dependent variable, np.linspace(initial, end, number_values)\n",
    "\n",
    "# Define the differential equation\n",
    "def diffeq(t, x):  # t is independent variable and x is dependent variable\n",
    "    return ??  # enter the formula for dx/dt\n",
    "\n",
    "# Run the slope field plotter\n",
    "slope_field(t, x, diffeq)"
   ]
  },
  {
   "cell_type": "markdown",
   "id": "8f330c02-d88b-478b-8cea-8bd4f7937f92",
   "metadata": {},
   "source": [
    "# Plotting Solutions in a Slope Field\n",
    "---\n",
    "\n",
    "We have seen that slope fields are useful for sketching graphs to approximate solutions that pass thru certain points. The arrows should be approximately tangent to the curve we sketch. In addition to the `slope_field()` function we used earlier, the `ode_plot_tools.py` module defines other functions. We can import a function named `plot_sol()` to plot a slope field as well as the solution that passes thru a given point.\n",
    "\n",
    "There is a function named `plot_sol()` that lives inside a module named `ode_plot_tools`. \n",
    "\n",
    "- <font color = \"red\">The actual Python code can be found in the file named **ode_plot_tools.py**, which we do not need to open or edit.</font>\n",
    "\n",
    "1. We import the `plot_sol()` function.\n",
    "    - Like packages, you only need to import a function one time after opening a notebook.\n",
    "\n",
    "\n",
    "2. Input vectors of values for `t` and `x` (points where the vectors will be plotted) and define `diffeq`.\n",
    "\n",
    "\n",
    "3. <font color = \"blue\">Define an initial condition $(t_0, x_0)$.\n",
    "    - The value for $t_0$ is by default the start value of `t` that has already been defined in step 2. \n",
    "        - We do NOT define a new variable for $t_0$ since this is already defined in step 2.\n",
    "    - The initial value of the dependent variable $x_0$ is stored in the variable named `x0`.</font>\n",
    "\n",
    "\n",
    "4. We generate the slope field by running the function with the command `plot_sol(t, x, diffeq, x0)`."
   ]
  },
  {
   "cell_type": "code",
   "execution_count": null,
   "id": "1f99a601-c190-4e4b-9e65-b7a13cf14b66",
   "metadata": {},
   "outputs": [],
   "source": [
    "from ode_plot_tools import plot_sol  # Only need to import the function once\n",
    "\n",
    "# Define points where vectors will be plotted\n",
    "t = np.linspace(0,10,11)  # Independent variable, np.linspace(initial, end, number_values)\n",
    "x = np.linspace(40,60,10)  # Dependent variable, np.linspace(initial, end, number_values)\n",
    "\n",
    "# Define the differential equation\n",
    "def diffeq(t, x):  # t is independent variable and x is dependent variable\n",
    "    return 9.8 - (x / 5)  # enter the formula for dx/dt\n",
    "\n",
    "# Enter the initial value x0. \n",
    "# Note t0 is the initial value in the vector t assigned above.\n",
    "\n",
    "x0 = 45\n",
    "\n",
    "# Run the function to create a plot\n",
    "plot_sol(t, x, diffeq, x0)"
   ]
  },
  {
   "cell_type": "markdown",
   "id": "7db3914c-bed7-45d9-8b8d-c583c34c4462",
   "metadata": {},
   "source": [
    "## <a name='02quest5'>Question 5:</a> \n",
    "----\n",
    "\n",
    "Use the `plot_sol()` function to create a plot of the slope field and solution to the initial value problem\n",
    "\n",
    "$$\\color{blue}{\\frac{dy}{dq} = 4q^2 - y^2, \\qquad y(-2)=3}.$$\n",
    "\n",
    "\n",
    "### Solution to Question 5:\n",
    "----\n",
    "\n",
    "<br> <br> <mark>Complete the code block below.</mark> <br> <br>"
   ]
  },
  {
   "cell_type": "code",
   "execution_count": null,
   "id": "bc880516-baca-40e4-9893-9287a9ce316f",
   "metadata": {},
   "outputs": [],
   "source": [
    "#from ode_plot_tools import plot_sol  # Only need to import the function once\n",
    "\n",
    "# Define points where vectors will be plotted\n",
    "t = np.linspace(??, ??, ??)  # Independent variable, np.linspace(initial, end, number_values)\n",
    "x = np.linspace(??, ??, ??)  # Dependent variable, np.linspace(initial, end, number_values)\n",
    "\n",
    "# Define the differential equation\n",
    "def diffeq(t, x):  # t is independent variable and x is dependent variable\n",
    "    return ??  # enter the formula for dx/dt\n",
    "\n",
    "# Enter the initial value x0. \n",
    "# Note t0 is the initial value in the vector t assigned above.\n",
    "\n",
    "x0 = ??\n",
    "\n",
    "# Run the function to create a plot\n",
    "plot_sol(t, x, diffeq, x0)"
   ]
  },
  {
   "cell_type": "markdown",
   "id": "cb2ba149-6d35-4e12-94e4-f7e28b83c32e",
   "metadata": {},
   "source": [
    "# <mark> REMOVE SOLUTION BELOW</mark>\n",
    "\n",
    "Solution is left here for now just to show how this function is working. Looks pretty good!"
   ]
  },
  {
   "cell_type": "code",
   "execution_count": null,
   "id": "2aa9dd60-1e16-424a-a7b4-e06cd5625494",
   "metadata": {},
   "outputs": [],
   "source": [
    "#from ode_plot_tools import plot_sol  # Only need to import the function once\n",
    "\n",
    "# Define points where vectors will be plotted\n",
    "t = np.linspace(-2,5,8)  # Independent variable, np.linspace(initial, end, number_values)\n",
    "x = np.linspace(-5,5,11)  # Dependent variable, np.linspace(initial, end, number_values)\n",
    "\n",
    "# Define the differential equation\n",
    "def diffeq(t, x):  # t is independent variable and x is dependent variable\n",
    "    return 4*t**2 - x**2  # enter the formula for dx/dt\n",
    "\n",
    "# Enter the initial value x0. \n",
    "# Note t0 is the initial value in the vector t assigned above.\n",
    "\n",
    "x0 = 3\n",
    "\n",
    "# Run the function to create a plot\n",
    "plot_sol(t, x, diffeq, x0)"
   ]
  },
  {
   "cell_type": "markdown",
   "id": "6a5b3804-3ede-4196-9678-c0a2031ceba6",
   "metadata": {},
   "source": [
    "## Creative Commons License Information\n",
    "<a rel=\"license\" href=\"https://creativecommons.org/licenses/by-nc-sa/4.0/\"><img alt=\"Creative Commons License\" style=\"border-width:0\" src=\"https://i.creativecommons.org/l/by-nc-sa/4.0/80x15.png\" /></a><br /><span xmlns:dct=\"http://purl.org/dc/terms/\" property=\"dct:title\">Elementary Differential Equations</span> by <a xmlns:cc=\"http://creativecommons.org/ns#\" href=\"https://github.com/CU-Denver-MathStats-OER/ODEs\" property=\"cc:attributionName\" rel=\"cc:attributionURL\">Adam Spiegler, Jonathon Hirschi, and Dmitry Ostrovskiy</a> is licensed under a <a rel=\"license\" href=\"http://creativecommons.org/licenses/by-nc-sa/4.0/\">Creative Commons Attribution-NonCommercial-ShareAlike 4.0 International License</a>.<br />Based on a work at <a xmlns:dct=\"http://purl.org/dc/terms/\" href=\"https://github.com/CU-Denver-MathStats-OER/ODEs\" rel=\"dct:source\">https://github.com/CU-Denver-MathStats-OER/ODEs</a> and original content created by Rasmussen, C., Keene, K. A., Dunmyre, J., & Fortune, N. (2018). *Inquiry oriented differential equations: Course materials*. Available at <a href=\"https://iode.wordpress.ncsu.edu\">https://iode.wordpress.ncsu.edu</a>."
   ]
  },
  {
   "cell_type": "markdown",
   "id": "f2b4bcb0-357b-49f0-b597-bf99aedec39e",
   "metadata": {},
   "source": [
    "# <mark>IGNORE EVERYTHING AFTER THIS POINT.</mark>\n",
    "\n",
    "Everthing after this point was from older versions and likely to be unused and deleted from final version."
   ]
  },
  {
   "cell_type": "markdown",
   "id": "47821861-01a4-4532-82c7-5fabef761266",
   "metadata": {},
   "source": [
    "## Plotting a Field of Line Segments\n",
    "----\n",
    "\n",
    "Below we plot a first attempt at a slope field that we define as `slope_field()`.\n",
    "\n",
    "- `plt.quiver(T, X, dt, dx, ...)` plots a 2-dim field of arrows evaluating dx/dt at each pair (T, X).\n",
    "- See the [help documentation for plt.quiver](https://matplotlib.org/stable/api/_as_gen/matplotlib.pyplot.quiver.html) for more details.\n",
    "- We will need to customize the plot using additional options to create a **slope field**.\n",
    "- These options have been excluded at first. The question below will have you explore why and how we apply these options."
   ]
  },
  {
   "cell_type": "markdown",
   "id": "58b763a5-e409-44b5-956f-99d9f07d6185",
   "metadata": {},
   "source": [
    "<a name='02quest4'>Question 4:</a> \n",
    "----\n",
    "\n",
    "Run the code cell below to use `plt.quiver()`to create a first attempt at a slope field for the differential equation $\\dfrac{dx}{dt} = 9.8 - \\dfrac{x}{5}$.\n",
    "\n",
    "Comment on any features of the resulting plot that we may need to customize to create a more standard looking slope field.\n",
    "\n",
    "### Solution to Question 4:\n",
    "----\n",
    "\n",
    "<br> <br> <br> <br> <br> <br>\n"
   ]
  },
  {
   "cell_type": "code",
   "execution_count": null,
   "id": "f3d0c244-20c9-490b-bdb7-47f26e2f8e9e",
   "metadata": {
    "tags": []
   },
   "outputs": [],
   "source": [
    "plt.quiver(T, X, dt, dx)  # Plot a 2D field of arrows\n",
    "plt.title('Slope Field for x\\'(t) = 9.8 - x/5', size =16)\n",
    "plt.show()"
   ]
  },
  {
   "cell_type": "markdown",
   "id": "ac62a2aa-526c-4a75-a131-5617efd3e34b",
   "metadata": {},
   "source": [
    "## <a name='02quest5'>Question 5:</a> \n",
    "----\n",
    "\n",
    "See [help documentation for quiver](https://matplotlib.org/stable/api/_as_gen/matplotlib.pyplot.quiver.html) and answer the questions below about the options used to customize the plot. Explain what each option does.\n",
    "\n",
    "\n",
    "### Solution to Question 5:\n",
    "----\n",
    "\n",
    "\n",
    "<br> <br> "
   ]
  },
  {
   "cell_type": "code",
   "execution_count": null,
   "id": "be7ae0be-7378-473e-be17-a9af2491bd38",
   "metadata": {},
   "outputs": [],
   "source": [
    "plt.quiver(T, X, dt, dx,  # Plot a 2D field of arrows\n",
    "               units='xy',  # add your comment??\n",
    "               angles='xy',  # add your comment??\n",
    "               width = .08,  # add your comment??\n",
    "               color='blue') # add your comment??\n",
    "plt.title('Slope Field for x\\'(t) = 9.8 - x/5', size =16)\n",
    "plt.show()"
   ]
  },
  {
   "cell_type": "code",
   "execution_count": null,
   "id": "be0ddb89-b060-486d-8cbd-2b7a32e443d9",
   "metadata": {
    "tags": []
   },
   "outputs": [],
   "source": [
    "plt.quiver(T, X, dt, dx,  # Plot a 2D field of arrows\n",
    "            units='xy',  # each arrow has length sqrt(((dt)^2+(dx)^2))\n",
    "            angles='xy',  # each arrow has direction from (t,x) to (t+dt, x+dx)\n",
    "            width = .08,  # sets the width of each arrow\n",
    "            color='blue') # sets the color of each arrow\n",
    "\n",
    "plt.title('Slope Field for x\\'(t) = 9.8 - x/5')\n",
    "plt.show()"
   ]
  },
  {
   "cell_type": "markdown",
   "id": "06c57e39-06a4-48e1-92c6-32e09f3bdec9",
   "metadata": {},
   "source": [
    "## Normalizing the Lengths of the Line Segments\n",
    "---\n",
    "\n",
    "- Slope fields are used to indicate the slope of the tangent line to the graph of a solution at each point in the grid.\n",
    "- We only care about the direction of the line segments.\n",
    "- The length of the segment is not relevant, so we typically plot each line segment with the same length\n",
    "- When we plot a vector with run $= dt$ and rise $= dx$, the length of the vector is $\\sqrt{ (dt)^2 + (dx)^2}$.\n",
    "- Rather than plot vector $\\langle dt, dx \\rangle$ we plot normalized vectors:\n",
    "\n",
    "$$\\left< \\frac{dt}{\\sqrt{ (dt)^2 + (dx)^2}}, \\frac{dx}{\\sqrt{ (dt)^2 + (dx)^2}} \\right>$$\n"
   ]
  },
  {
   "cell_type": "code",
   "execution_count": null,
   "id": "9844d4a3-3b37-41ea-9bd3-31040c5bceea",
   "metadata": {},
   "outputs": [],
   "source": [
    "# normalize the line segments\n",
    "dxu = dx / np.sqrt(dt**2 + dx**2)  # normalize dx\n",
    "dtu = dt / np.sqrt(dt**2 + dx**2)  # normalize dt\n",
    "    \n",
    "\n",
    "plt.quiver(T, X, dtu, dxu,  # Plot a 2D field of arrows\n",
    "            units = 'xy',  # each arrow has length sqrt(((dtu)^2+(dxu)^2)) = 1\n",
    "            angles = 'xy',  # each arrow has direction from (t,x) to (t+dt, x+dx)\n",
    "            width = .08,  # sets the width of each arrow\n",
    "            color = 'red')  # sets the color of each arrow\n",
    "plt.title('Normalized Slope Field for x\\'(t) = 9.8 - x/5', size =16)\n",
    "plt.show()"
   ]
  },
  {
   "cell_type": "code",
   "execution_count": null,
   "id": "cc1073a5-15ec-44d9-aaa3-50b41ff1c1b9",
   "metadata": {},
   "outputs": [],
   "source": [
    "# Old Code: We'll read in the module instead\n",
    "def slope_field(t, x, diffeq, \n",
    "                units = 'xy', \n",
    "                angles = 'xy', \n",
    "                width = .08, \n",
    "                color = 'black'):\n",
    "    T, X = np.meshgrid(t, x)  # create rectangular grid with points\n",
    "    slopes = diffeq(X, T)\n",
    "    dt = np.ones(slopes.shape)  # dt = an array of 1's with same dimension as diffeq\n",
    "    dxu = slopes / np.sqrt(dt**2 + slopes**2)  # normalize dx\n",
    "    dtu = dt / np.sqrt(dt**2 + slopes**2)  # normalize dt\n",
    "    plt.quiver(T, X, dtu, dxu,  # Plot a 2D field of arrows\n",
    "               units = units,  \n",
    "               angles = angles,  # each arrow has direction from (t,x) to (t+dt, x+dx)\n",
    "               width = width,  # sets the width of each arrow from user inputs\n",
    "               color = color)  # sets the color of each arrow from user inputs\n",
    "    \n",
    "    plt.show"
   ]
  },
  {
   "cell_type": "code",
   "execution_count": null,
   "id": "3feeeacc-918d-4e1c-9246-e612660b562f",
   "metadata": {},
   "outputs": [],
   "source": [
    "%matplotlib widget\n",
    "# plot solution with initial condition x(0) = 42\n",
    "\n",
    "# Setup the grid\n",
    "t = np.linspace(-3, 3, 14)  # note the start_t value\n",
    "x = np.linspace(-3, 3, 14)\n",
    "\n",
    "# Setup the differential equation\n",
    "def diffeq(x, t):\n",
    "    return t**2 - x**2\n",
    "\n",
    "# Initial condition when t=start_t\n",
    "x0 = -1\n",
    "\n",
    "# Plot the slope field and solution\n",
    "slope_field_ivp(t, x, diffeq, x0, width = 0.03)"
   ]
  },
  {
   "cell_type": "code",
   "execution_count": null,
   "id": "3f253b46-c87d-40d2-8fc4-7ffc449a561c",
   "metadata": {},
   "outputs": [],
   "source": [
    "from scipy.integrate import odeint\n",
    "\n",
    "def slope_field_ivp(t, x, diffeq, x0, \n",
    "                units = 'xy', \n",
    "                angles = 'xy', \n",
    "                width = .08, \n",
    "                color = 'black'):\n",
    "    T, X = np.meshgrid(t, x)  # create rectangular grid with points\n",
    "    slopes = diffeq(X, T)\n",
    "    dt = np.ones(slopes.shape)  # dt = an array of 1's with same dimension as diffeq\n",
    "    dxu = slopes / np.sqrt(dt**2 + slopes**2)  # normalize dx\n",
    "    dtu = dt / np.sqrt(dt**2 + slopes**2)  # normalize dt\n",
    "    # new lines of code\n",
    "    ts = np.linspace(int(t[0]), int(t[-1]), 100)\n",
    "    xsol = odeint(diffeq, x0, ts)  # Solves first order ode with x(0) = x0\n",
    "    plt.quiver(T, X, dtu, dxu,  # Plot a 2D field of arrows\n",
    "               units = units,  \n",
    "               angles = angles,  # each arrow has direction from (t,x) to (t+dt, x+dx)\n",
    "               width = width,  # sets the width of each arrow from user inputs\n",
    "               color = color)  # sets the color of each arrow from user inputs\n",
    "    # new line of code\n",
    "    plt.plot(ts, xsol, '-', color = 'red')  # plot solution\n",
    "    plt.show()"
   ]
  },
  {
   "cell_type": "code",
   "execution_count": null,
   "id": "79efa902-20bd-4651-a770-d2e1d05a6afd",
   "metadata": {},
   "outputs": [],
   "source": [
    "# plot solution with initial condition x(0) = 42\n",
    "%matplotlib inline\n",
    "# Setup the grid\n",
    "t = np.linspace(0,10,11)  # note the start_t value\n",
    "x = np.linspace(40,60,10)\n",
    "\n",
    "# Setup the differential equation\n",
    "def diffeq(x, t):\n",
    "    return 9.8 - (x / 5) \n",
    "\n",
    "# Initial condition when t=start_t\n",
    "x0 = 42\n",
    "\n",
    "# Plot the slope field and solution\n",
    "slope_field_ivp(t, x, diffeq, x0)"
   ]
  },
  {
   "cell_type": "markdown",
   "id": "b5778ef8-b80e-4624-99e7-c918eb968f37",
   "metadata": {},
   "source": [
    "# Appendix: Writing a Python function\n",
    "\n",
    "Python functions are useful when you are reusing a block of code repeatedly. Just like in math, functions produce a set of outputs given a set of inputs. The data we pass to a function are called **parameters**.\n",
    "\n",
    "Let's represent a differential equation with a Python function. Notice that for the differential equation we have been working with, $\\dfrac{dx}{dt} = 9.8 - \\dfrac{x}{5}$, the slope is not a function of time. Therefore, we can write a function that only takes $x$ as the only input parameter."
   ]
  },
  {
   "cell_type": "code",
   "execution_count": null,
   "id": "e327552d-a93e-4574-8d64-90745712b907",
   "metadata": {},
   "outputs": [],
   "source": [
    "# Function to calculate dx/dt at a given x value\n",
    "def dxdt(x):\n",
    "    return 9.8 - (x / 5)"
   ]
  },
  {
   "cell_type": "markdown",
   "id": "a86e5629-dbcb-447f-b185-6f20c571ec68",
   "metadata": {},
   "source": [
    "Let's check a couple of values. The slope is positive at $x\\approx 40$. The slope is zero when $\\frac{x}{5}=9.8$."
   ]
  },
  {
   "cell_type": "code",
   "execution_count": null,
   "id": "96ef891b-e083-4882-b056-182e26aa5649",
   "metadata": {
    "tags": []
   },
   "outputs": [],
   "source": [
    "# You can explicitly state the argument to the function\n",
    "dxdt(x=9.8*5)"
   ]
  },
  {
   "cell_type": "code",
   "execution_count": null,
   "id": "87f25d7b-ea8e-482e-aa3f-9e48f6e6ca5f",
   "metadata": {
    "tags": []
   },
   "outputs": [],
   "source": [
    "# If you do not specify the argument, the order in which they appear is used\n",
    "dxdt(40)"
   ]
  },
  {
   "cell_type": "markdown",
   "id": "1c3ab3c3-ee72-4c86-8c1d-1dfeaa5aac32",
   "metadata": {},
   "source": [
    "We can also evaluate the function for an array of x values."
   ]
  },
  {
   "cell_type": "code",
   "execution_count": null,
   "id": "aba932b6-18bd-4ab1-9980-ffa4c4a83742",
   "metadata": {},
   "outputs": [],
   "source": [
    "t = np.linspace(1,10,10)\n",
    "x = np.linspace(40,60,10)\n",
    "\n",
    "dxdt(x)"
   ]
  },
  {
   "cell_type": "markdown",
   "id": "b4938ec9-9ef8-43e0-b14f-acfbbc78558d",
   "metadata": {},
   "source": [
    "Functions can also be written more compactly with the `lambda` notation."
   ]
  },
  {
   "cell_type": "code",
   "execution_count": null,
   "id": "4a761926-811a-42d2-9a8c-b4ed52fe24e4",
   "metadata": {},
   "outputs": [],
   "source": [
    "dxdt = lambda x: 9.8 - (x / 5)\n",
    "\n",
    "dxdt(40)"
   ]
  },
  {
   "cell_type": "markdown",
   "id": "cc74b195-6107-4402-8639-d20cdd189622",
   "metadata": {
    "tags": []
   },
   "source": [
    "## Plotting the Solution Given an Initial Condition\n",
    "----\n",
    "\n",
    "Below is a block of code for visualizing solutions to a differential equation given an initial condition. Using the python **widget**, try changing the initial condition and see how the corresponding solution changes."
   ]
  },
  {
   "cell_type": "code",
   "execution_count": null,
   "id": "4898c989-6b42-47e2-b2d8-0cc0216c0abd",
   "metadata": {},
   "outputs": [],
   "source": [
    "from ipywidgets import interact, interactive, fixed, interact_manual\n",
    "import ipywidgets as widgets\n",
    "import ode_plot_tools as oplot"
   ]
  },
  {
   "cell_type": "code",
   "execution_count": null,
   "id": "c61a3651-33dd-4041-aeab-8737acb74bea",
   "metadata": {
    "tags": []
   },
   "outputs": [],
   "source": [
    "# Setup the grid\n",
    "t = np.linspace(0,5*np.pi,12)  # np.linspace(initial, end, number_values)\n",
    "x = np.linspace(-10,10,12)  # np.linspace(initial, end, number_values)\n",
    "# Setup the differential equation\n",
    "diffeq = lambda x, t: np.cos(t)  # Use t and x for ind and dep variables\n",
    "\n",
    "%reset -f out \n",
    "\n",
    "# If running on Google Colab, then change next line to %matplotlib inline\n",
    "%matplotlib widget\n",
    "# Setup the plot and axes outside of plot_sol to enable clearing widget functionality\n",
    "fig, ax = plt.subplots(1,1, num=5)  \n",
    "\n",
    "interact_manual(oplot.plot_sol, \n",
    "            t = fixed(t),\n",
    "            x = fixed(x),\n",
    "            diffeq = fixed(diffeq),\n",
    "            x0 = widgets.FloatText(\n",
    "                value=0, description='Initial Conditions $x_0$'),\n",
    "            npts = fixed(100),\n",
    "            ax = fixed(ax),\n",
    "            clear = widgets.Checkbox(value=False, description='Clear Previous')\n",
    "               )"
   ]
  },
  {
   "cell_type": "code",
   "execution_count": null,
   "id": "a9f97ae0-dc38-4f65-a319-5d941ac4720e",
   "metadata": {},
   "outputs": [],
   "source": [
    "# values of independent and dependent variables\n",
    "t = np.linspace(??, ??, ??)  # ind variable\n",
    "x = np.linspace(??, ??, ??)  # dep variable\n",
    "\n",
    "# Setup the differential equation\n",
    "# DO WE NEED LAMBDA FUNCTION FOR THIS??\n",
    "diffeq = lambda x, t: ??  # Use t and x for ind and dep variables\n",
    "\n",
    "\n",
    "%reset -f out \n",
    "\n",
    "%matplotlib widget\n",
    "interact_manual(plot_sol, \n",
    "            t = fixed(t),\n",
    "            x = fixed(x),\n",
    "            diffeq = fixed(diffeq),\n",
    "            x0 = widgets.FloatText(\n",
    "                value=0, description='Initial Conditions $x_0$'),\n",
    "            npts = fixed(12),\n",
    "            clear = widgets.Checkbox(value=False, description='Clear Previous')\n",
    "               )"
   ]
  },
  {
   "cell_type": "code",
   "execution_count": null,
   "id": "59bb7ca5-f1d0-4806-879a-2ba5f7d932f8",
   "metadata": {},
   "outputs": [],
   "source": []
  }
 ],
 "metadata": {
  "kernelspec": {
   "display_name": "Python 3",
   "language": "python",
   "name": "python3"
  },
  "language_info": {
   "codemirror_mode": {
    "name": "ipython",
    "version": 3
   },
   "file_extension": ".py",
   "mimetype": "text/x-python",
   "name": "python",
   "nbconvert_exporter": "python",
   "pygments_lexer": "ipython3",
   "version": "3.8.8"
  }
 },
 "nbformat": 4,
 "nbformat_minor": 5
}
