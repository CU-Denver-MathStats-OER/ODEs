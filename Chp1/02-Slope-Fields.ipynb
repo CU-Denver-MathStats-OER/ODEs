{
 "cells": [
  {
   "cell_type": "markdown",
   "id": "af328aa4-6c16-448d-88ac-a951cfe05837",
   "metadata": {},
   "source": [
    "[![Open In Colab](https://colab.research.google.com/assets/colab-badge.svg)](https://githubtocolab.com/CU-Denver-MathStats-OER/ODEs/blob/main/Chp1/02-Slope-Fields.ipynb)\n"
   ]
  },
  {
   "cell_type": "markdown",
   "id": "3581413b-8b68-474d-84db-6ecfb5eb00a5",
   "metadata": {
    "id": "3581413b-8b68-474d-84db-6ecfb5eb00a5",
    "tags": []
   },
   "source": [
    "# Lab 1.2: Slope Fields\n",
    "----\n",
    "\n",
    "<font color=\"dodgerblue\">Reading: *Notes on Diffy Q's* Section 1.2</font>\n",
    "\n",
    "<br>\n",
    "\n",
    "A <font color=\"dodgerblue\">**slope field**</font> is a graphical representation of a rate of change equation. Given a rate of change equation, if we plug in particular values of $(t,y)$ then $\\dfrac{dy}{dt}$ tells you the slope of the tangent vector to the solution at that point.\n",
    "\n",
    "\n",
    "For example, consider the rate of change equation $\\dfrac{dy}{dt}=y+2t$.  At the point $(1, 3)$, the value of $\\dfrac{dy}{dt}$ is $5$. Thus, the slope field for this equation would show a vector at the point $(1, 3)$ with slope $5$.  A slope field depicts the exact slope of many such vectors, where we take each vector to be uniform length. Slope fields are useful because they provide a graphical approach for obtaining qualitatively correct graphs of the functions that satisfy a differential equation."
   ]
  },
  {
   "cell_type": "markdown",
   "id": "c6805ae3-21ac-403e-918c-4348ef1ffbd8",
   "metadata": {
    "id": "f2d0bceb-b0a3-4a41-82fa-c4fd1c1703bd"
   },
   "source": [
    "## <a name='02quest1'>Question 1:</a> \n",
    "---\n",
    "\n",
    "In the code cell below a partially completed slope field for  $\\dfrac{dP}{dt}=0.8P$ is provided.\n"
   ]
  },
  {
   "cell_type": "code",
   "execution_count": null,
   "id": "bb493a1c-85d5-43cc-9792-0bcb35fccd32",
   "metadata": {
    "colab": {
     "base_uri": "https://localhost:8080/",
     "height": 284
    },
    "executionInfo": {
     "elapsed": 517,
     "status": "ok",
     "timestamp": 1660152172107,
     "user": {
      "displayName": "Adam Spiegler",
      "userId": "08916726237218427358"
     },
     "user_tz": 360
    },
    "id": "5e1a07f9-9fc7-4db0-9212-da27622a47d8",
    "outputId": "d493674f-ab6a-4e73-fd73-e2bbf9ded0bb"
   },
   "outputs": [],
   "source": [
    "import matplotlib.pyplot as plt\n",
    "\n",
    "# Plot vectors\n",
    "plt.quiver(0, 0, 1, 0, color = 'b')  # plots vector at (0,0) with slope 0/1 = 0 \n",
    "plt.quiver(0, 2, 1, 1.6, color = 'b')  # plots vector at (0,2) with slope 1.6/1 = 1.6\n",
    "plt.quiver(-1, -1, 1, -0.8, color = 'b')  # plots vector at (-1,-1) with slope -0.8/1 = -0.8\n",
    "\n",
    "# Set limits on x and y axes\n",
    "plt.xlim([-3.5, 3.5])\n",
    "plt.ylim([-3.5, 3.5])\n",
    "\n",
    "# Label axes\n",
    "plt.xlabel(\"t\", fontsize=16)\n",
    "plt.ylabel(\"P\", fontsize=16)\n",
    "\n",
    "# Add a grid and axes to plot\n",
    "plt.grid(True, which='both')\n",
    "plt.axvline(x=0, color='k')\n",
    "plt.axhline(y=0, color='k')\n",
    "\n",
    "plt.show()"
   ]
  },
  {
   "cell_type": "markdown",
   "id": "8c69c53a-a3a8-45b7-bb1a-f71d9a755c43",
   "metadata": {
    "id": "f2d0bceb-b0a3-4a41-82fa-c4fd1c1703bd"
   },
   "source": [
    "### <a name='02quest1a'>Question 1a:</a> \n",
    "---\n",
    "\n",
    "Plot many more tangent vectors to create a slope field.\n",
    "\n",
    "#### Solution to Question 1a:\n",
    "----\n",
    "\n",
    "Complete the table below to identify more vectors in the slope field.\n",
    "\n",
    "| $$\\large t$$ | $$\\large P$$ | $$\\large \\dfrac{dP}{dt} = 0.8P$$|\n",
    "|-----|-----|-------------------------|\n",
    "| 0 | 0 | 0 |\n",
    "| 0 | 2 | 1.6 |\n",
    "| -1 | -1 | -0.8 |\n",
    "| <mark>??</mark> |  <mark>??</mark> | <mark>??</mark> |\n",
    "| <mark>??</mark> |  <mark>??</mark> | <mark>??</mark> |\n",
    "| <mark>??</mark> |  <mark>??</mark> | <mark>??</mark> |\n",
    "| <mark>??</mark> |  <mark>??</mark> | <mark>??</mark> |\n",
    "| <mark>??</mark> |  <mark>??</mark> | <mark>??</mark> |\n",
    "\n",
    "\n",
    "<br> <br>\n",
    "<mark>Then plot the vectors by editing the code cell below.</mark>\n",
    "<br> <br> "
   ]
  },
  {
   "cell_type": "code",
   "execution_count": null,
   "id": "5e1a07f9-9fc7-4db0-9212-da27622a47d8",
   "metadata": {
    "colab": {
     "base_uri": "https://localhost:8080/",
     "height": 284
    },
    "executionInfo": {
     "elapsed": 517,
     "status": "ok",
     "timestamp": 1660152172107,
     "user": {
      "displayName": "Adam Spiegler",
      "userId": "08916726237218427358"
     },
     "user_tz": 360
    },
    "id": "5e1a07f9-9fc7-4db0-9212-da27622a47d8",
    "outputId": "d493674f-ab6a-4e73-fd73-e2bbf9ded0bb"
   },
   "outputs": [],
   "source": [
    "import matplotlib.pyplot as plt\n",
    "\n",
    "# Plot vectors\n",
    "plt.quiver(0, 0, 1, 0, color = 'b')  # plots vector at (0,0) with slope 0/1 = 0 \n",
    "plt.quiver(0, 2, 1, 1.6, color = 'b')  # plots vector at (0,2) with slope 1.6/1 = 1.6\n",
    "plt.quiver(-1, -1, 1, -0.8, color = 'b')  # plots vector at (-1,-1) with slope -0.8/1 = -0.8\n",
    "\n",
    "#########################################################################\n",
    "#STUDENT TO DO: Uncomment out each line and add your vectors to the plot\n",
    "#########################################################################\n",
    "#plt.quiver(??, ??, 1, ??, color = 'b')  # add your vector 1\n",
    "#plt.quiver(??, ??, 1, ??, color = 'b')  # add your vector 2\n",
    "#plt.quiver(??, ??, 1, ??, color = 'b')  # add your vector 3\n",
    "#plt.quiver(??, ??, 1, ??, color = 'b')  # add your vector 4\n",
    "#plt.quiver(??, ??, 1, ??, color = 'b')  # add your vector 5\n",
    "\n",
    "# Set limits on x and y axes\n",
    "plt.xlim([-3.5, 3.5])\n",
    "plt.ylim([-3.5, 3.5])\n",
    "\n",
    "# Label axes\n",
    "plt.xlabel(\"t\", fontsize=16)\n",
    "plt.ylabel(\"P\", fontsize=16)\n",
    "\n",
    "# Add a grid and axes to plot\n",
    "plt.grid(True, which='both')\n",
    "plt.axvline(x=0, color='k')\n",
    "plt.axhline(y=0, color='k')\n",
    "\n",
    "plt.show()"
   ]
  },
  {
   "cell_type": "markdown",
   "id": "4f3af2ca-f7c3-499c-9062-e2526d09bdaf",
   "metadata": {
    "id": "f2d0bceb-b0a3-4a41-82fa-c4fd1c1703bd"
   },
   "source": [
    "### <a name='02quest1b'>Question 1b:</a> \n",
    "---\n",
    "\n",
    "Use your slope field to sketch qualitatively correct graphs of the solution functions that start at $P = 0, -1$, and $2$, respectively. Note: the value of $P$ at an initial time (typically $t = 0$) is called an **initial condition**. \n",
    "\n",
    "#### Solution to Question 1b:\n",
    "----\n",
    "\n",
    "<br>  "
   ]
  },
  {
   "cell_type": "markdown",
   "id": "ba9c0819-46f1-48bd-abd8-17e9b476aa8d",
   "metadata": {
    "id": "f2d0bceb-b0a3-4a41-82fa-c4fd1c1703bd"
   },
   "source": [
    "### <a name='02quest1c'>Question 1c:</a> \n",
    "---\n",
    "\n",
    "Recall that a solution to a differential equation is a function that satisfies the differential equation. Explain how the graph with initial condition $P(0) = 1$ can graphically be thought of as a solution to the differential equation when the differential equation is represented by its slope field. \n",
    "\n",
    "\n",
    "#### Solution to Question 1c:\n",
    "----\n",
    "\n",
    "\n",
    "<br>  \n",
    "<br>  \n",
    "<br> "
   ]
  },
  {
   "cell_type": "markdown",
   "id": "35483307-dbe7-4b7f-bfce-a9eaea513243",
   "metadata": {
    "id": "35483307-dbe7-4b7f-bfce-a9eaea513243"
   },
   "source": [
    "## <a name='02quest2'>Question 2:</a> \n",
    "---\n",
    "\n",
    "Below are seven differential equations and three different slope fields. **Without using technology**, identify which differential equation is the best match for each slope field (thus you will have four rate of change equations left over). **Explain your reasoning.** \n",
    "\n",
    "$$\n",
    "\\text{(i) } \\frac{dy}{dt}=t-1 \\quad \\text{(ii) } \\frac{dy}{dt}=1-y^2 \\quad \\text{(iii) } \\frac{dy}{dt}=y^2-t^2 \\quad \\text{(iv) } \\frac{dy}{dt}=1-y\n",
    "$$\n",
    "\n",
    "$$\n",
    "\\text{(v) } \\frac{dy}{dt}=t^2-y^2 \\quad \\text{(vi) } \\frac{dy}{dt}=1-t \\quad \\text{(vii) } \\frac{dy}{dt}=9t^2-y^2\n",
    "$$\n",
    "\n",
    "\n",
    "|Slope Field 1 | Slope Field 2 | Slope Field 3|\n",
    "|--------------|---------------|--------------|\n",
    "<img src=\"https://drive.google.com/uc?id=1aCcNN8T-uGVL0RhwH8k97ucjOf-7_8s4\" width = 300 alt='Slope Field 1'> | <img src=\"https://drive.google.com/uc?id=1Jt98xnNDZofxz0NImSD2NTezJkfYhFt6\" width=300 alt='Slope Field 2'> | <img src=\"https://drive.google.com/uc?id=1Tq5MTbqMnEoZMpW7s7BHPNT1OCAH2mv4\" width=300 alt='Slope Field 3'>\n",
    "\n",
    "\n",
    "### Solution to Question 2:\n",
    "---\n",
    "\n",
    "<br> \n",
    "\n",
    "- Slope field 1 matches equation <mark>??</mark>\n",
    "\n",
    "- Slope field 2 matches equation <mark>??</mark>\n",
    "\n",
    "- Slope field 3 matches equation <mark>??</mark>\n",
    "\n",
    "\n",
    "<br> <br> <br>"
   ]
  },
  {
   "cell_type": "markdown",
   "id": "de3697ac-83f8-4d0c-9639-369c20a247bf",
   "metadata": {
    "id": "de3697ac-83f8-4d0c-9639-369c20a247bf",
    "tags": []
   },
   "source": [
    "## <a name='02quest3'>Question 3:</a> \n",
    "----\n",
    "\n",
    "For each of the slope fields in the previous problem, sketch in graphs of several different qualitatively correct solutions. **Do not use any technology to answer this question.** \n",
    "\n",
    "### Solution to Question 3:\n",
    "----\n",
    "\n",
    "<br> <br> <mark>Sketch your answers on the slope fields above.</mark><br> <br> <br> <br>\n"
   ]
  },
  {
   "cell_type": "markdown",
   "id": "8df77abd-91cc-4b47-ae3c-3c502f3800e3",
   "metadata": {
    "id": "8df77abd-91cc-4b47-ae3c-3c502f3800e3"
   },
   "source": [
    "# Plotting Slope Fields in Python\n",
    "----\n",
    "\n",
    "Recall that to create a slope field we can follow the following routine:\n",
    "\n",
    "1. Pick a point $(t, x)$ and evaluate the differential equation $\\frac{dx}{dt}$ at that point.\n",
    "2. Draw a line segment (of uniform length) with slope $m=\\frac{dx}{dt}$.\n",
    "3. Repeat.\n",
    "\n",
    "Below we go through code that generates a slope field for the differential equation\n",
    "\n",
    "$$\\frac{dx}{dt} = 9.8 - \\frac{x}{5}.$$"
   ]
  },
  {
   "cell_type": "markdown",
   "id": "02426e2a-3710-4c7a-a306-ace1ef05a764",
   "metadata": {
    "id": "02426e2a-3710-4c7a-a306-ace1ef05a764"
   },
   "source": [
    "## Importing Packages\n",
    "----\n",
    "\n",
    "First we import two packages we frequently will use:\n",
    "\n",
    "- <font color=\"dodgerblue\">**NumPy**</font> is a package that is convenient for working with multidimensional arrays (such as vectors and matrices). See [NumPy help documentation](https://numpy.org/doc/stable/user/whatisnumpy.html).\n",
    "- <font color=\"dodgerblue\">**Matplotlib**</font> we **already imported in the first code cell above**. It is package useful for creating static, animated, and interactive visualizations. See [Matplotlib help documentation](https://numpy.org/doc/stable/user/whatisnumpy.html).\n",
    "    - The `pyplot` subpackage in `matplotlib` that is a great tool in computational math. See [pyplot help documentation](https://matplotlib.org/stable/api/_as_gen/matplotlib.pyplot.html). "
   ]
  },
  {
   "cell_type": "code",
   "execution_count": null,
   "id": "5b77df78-bdd5-4440-aa2d-ca201df68de7",
   "metadata": {
    "id": "5b77df78-bdd5-4440-aa2d-ca201df68de7"
   },
   "outputs": [],
   "source": [
    "import numpy as np"
   ]
  },
  {
   "cell_type": "markdown",
   "id": "b89e41f7-dd56-4870-83ec-c90e30de8a55",
   "metadata": {
    "id": "b89e41f7-dd56-4870-83ec-c90e30de8a55"
   },
   "source": [
    "## Setting Up the Grid\n",
    "----\n",
    "\n",
    "The code cell below creates a set of points $(t,x)$ at which we will plot a line segment in the slope field.\n",
    "\n",
    "- Generate vector of $11$ evenly spaced $t$-values starting at $t=0$ and ending at $t=10$.\n",
    "- Generate vector of $10$ evenly spaced $x$-values starting at $x=40$ and ending at $x=60$\n",
    "- You choose range of values and how many slopes you want to plot in your slope field."
   ]
  },
  {
   "cell_type": "code",
   "execution_count": null,
   "id": "00d6cf38-2c07-425a-bf4e-b6d61143565c",
   "metadata": {
    "id": "00d6cf38-2c07-425a-bf4e-b6d61143565c"
   },
   "outputs": [],
   "source": [
    "# np.linspace(initial, end, number_values)\n",
    "t = np.linspace(0,10,11)\n",
    "x = np.linspace(40,60,10)"
   ]
  },
  {
   "cell_type": "markdown",
   "id": "3a36796f-fe6d-4d06-a96d-52bc6d44f370",
   "metadata": {
    "id": "3a36796f-fe6d-4d06-a96d-52bc6d44f370"
   },
   "source": [
    "## Defining the Differential Equation\n",
    "---\n",
    "\n",
    "In the code cell below, we define the differential equation `diffeq` whose slope field will be plotted. **By default, we still use $t$ to denote the independent variable and $x$ the dependent variable.**"
   ]
  },
  {
   "cell_type": "code",
   "execution_count": null,
   "id": "96c00453-e191-4b91-ba28-b5bd36bf71c1",
   "metadata": {
    "id": "96c00453-e191-4b91-ba28-b5bd36bf71c1"
   },
   "outputs": [],
   "source": [
    "# Define the differential equation\n",
    "\n",
    "def diffeq(t, x):  # t is independent variable and x is dependent variable\n",
    "    return 9.8 - (x / 5)  # enter the formula for dx/dt"
   ]
  },
  {
   "cell_type": "markdown",
   "id": "72e16b8c-27bb-4350-87b6-75e5251388db",
   "metadata": {
    "id": "72e16b8c-27bb-4350-87b6-75e5251388db"
   },
   "source": [
    "## Plotting a Slope Field with `slope_field()`\n",
    "---\n",
    "\n",
    "We now import a function named `slope_field()` that lives inside a module named `ode_tools` stored in GitHub. \n",
    "\n",
    "- See [Quick Reference Guide on How to Use Python Functions for Chapter 1](https://githubtocolab.com/CU-Denver-MathStats-OER/ODEs/blob/main/Chp1/ODE-Tools-Tutorial.ipynb) for more detailed instructions.\n",
    "- The actual Python code can be found in the file named **ode_tools.py**.\n",
    "- <font color = \"tomato\">You do NOT need to open, view, or edit the code in the file **ode_tools.py** found in the utils folder.</font> \n",
    "\n",
    "1. Input vectors of values for `t` and `x` (points where the vectors will be plotted) and define `diffeq`.\n",
    "    - Note this step has been performed in the previous code cells.\n",
    "\n",
    "2. Load `ode_tools` Module from GitHub.\n",
    "\n",
    "3. We import the `slope_field()` function.\n",
    "    - You will need to load the `ode_tools` module from GitHub described in Step 2.\n",
    "    - Like packages, you only need to import a function one time after opening a notebook.\n",
    "\n",
    "4. We generate the slope field by running the function with the command `slope_field(t, x, diffeq)`."
   ]
  },
  {
   "cell_type": "markdown",
   "id": "tuvCY_YV5kMB",
   "metadata": {
    "id": "tuvCY_YV5kMB"
   },
   "source": [
    "### <a name='LoadModule'>Loading `ode_tools` from GitHub</a>\n",
    "---\n",
    "\n",
    "- Run the code cell below to load the most up to date modules stored in GitHub.\n",
    "- You will only need to run this code cell one time during an active session."
   ]
  },
  {
   "cell_type": "code",
   "execution_count": null,
   "id": "75da3e08-81ab-47ca-975f-e94f57562674",
   "metadata": {},
   "outputs": [],
   "source": [
    "!pip install git+https://github.com/CU-Denver-MathStats-OER/ODEs\n",
    "from IPython.display import clear_output\n",
    "clear_output()"
   ]
  },
  {
   "cell_type": "markdown",
   "id": "ycAmBv8K_Zss",
   "metadata": {
    "id": "ycAmBv8K_Zss"
   },
   "source": [
    "### Importing the `slope_field` Plotting Function\n",
    "---\n",
    "\n",
    "After you followed the instructions above and set your file path, you are now ready to import the `slope_field` function from the `ode_tools` module. \n",
    "\n",
    "<mark>Now all remaining code cells will work in both Google Colab and Jupyter!</mark>\n",
    "\n",
    "**Run the code cell below to generate the plot of the slope field.**\n",
    "\n",
    "- Note we have already defined arrays `t` and `x` in previous cell.\n",
    "- We have already defined `diffeq` in a previous cell.\n",
    "- Thus the lines of code are commented out below."
   ]
  },
  {
   "cell_type": "code",
   "execution_count": null,
   "id": "f38fbe97-697f-4eb5-aab1-b28acdf0d6a5",
   "metadata": {
    "id": "f38fbe97-697f-4eb5-aab1-b28acdf0d6a5"
   },
   "outputs": [],
   "source": [
    "from utils.ode_tools import slope_field  # Only need to import one time.\n",
    "\n",
    "# np.linspace(initial, end, number_values)\n",
    "#t = np.linspace(0,10,11)\n",
    "#x = np.linspace(40,60,10)\n",
    "\n",
    "# Setup the differential equation\n",
    "#def diffeq(t, x):  # t is independent variable and x is dependent variable\n",
    "#    return 9.8 - (x / 5)  # enter the formula for dx/dt\n",
    "\n",
    "# Run the slope field plotter\n",
    "slope_field(t, x, diffeq)"
   ]
  },
  {
   "cell_type": "markdown",
   "id": "50391ead-43d3-4f6e-98e5-7e59f72d281e",
   "metadata": {
    "id": "50391ead-43d3-4f6e-98e5-7e59f72d281e"
   },
   "source": [
    "## Plotting a Different Slope Field\n",
    "---\n",
    "\n",
    "Next we use `slope_field()` to generate a plot of the slope corresponding to\n",
    "\n",
    "$$\\color{dodgerblue}{\\frac{dy}{dq} = 4q^2 - y^2}.$$\n",
    "\n",
    "We initially choose to plot the slope field over $-5 \\leq q \\leq 5$ and $-5 \\leq y \\leq 5$.\n",
    "\n",
    "- Note in the `slope_field()` function $t$ and $x$ are used to denote the independent and dependent variables, respectively.\n",
    "\n",
    "- We can change the letters that we use so the code matches our equation."
   ]
  },
  {
   "cell_type": "code",
   "execution_count": null,
   "id": "55e56844-9f7c-4e74-baf0-ac5c705c2261",
   "metadata": {
    "id": "55e56844-9f7c-4e74-baf0-ac5c705c2261"
   },
   "outputs": [],
   "source": [
    "# np.linspace(initial, end, number_values)\n",
    "t = np.linspace(-5, 5, 11)  # pick 11 values from q=-5 to q=5\n",
    "x = np.linspace(-5, 5, 11)  # pick 11 values from y=-5 to y=5\n",
    "\n",
    "# Define a new differential equation\n",
    "def diffeq(q, y):  # x and t are dependent and independent variables\n",
    "    return 4*q**2 - y**2  # formula for dy/dq"
   ]
  },
  {
   "cell_type": "markdown",
   "id": "9b188864-4f47-40a9-a4a6-5a608f656ede",
   "metadata": {
    "id": "9b188864-4f47-40a9-a4a6-5a608f656ede"
   },
   "source": [
    "### Now We're Ready to Run `slope_field()`\n",
    "---\n",
    "\n",
    "Now that we have defined the three inputs need for the `slope_field()` function, we can generate a new slope field with the simple one line below."
   ]
  },
  {
   "cell_type": "code",
   "execution_count": null,
   "id": "bb9b650a-336f-4ee9-af74-49d0399ccc34",
   "metadata": {
    "id": "bb9b650a-336f-4ee9-af74-49d0399ccc34"
   },
   "outputs": [],
   "source": [
    "slope_field(q, y, diffeq)"
   ]
  },
  {
   "cell_type": "markdown",
   "id": "208cdac2-11e4-41d6-9cc9-90ab02fa0591",
   "metadata": {
    "id": "208cdac2-11e4-41d6-9cc9-90ab02fa0591"
   },
   "source": [
    "## Changing the Color of Vectors\n",
    "---\n",
    "\n",
    "If we want to change any of the default options, we simply input new options into the `slope_field()` function.\n",
    "\n",
    "- The default color for the vectors is `color = 'black'`. If you want black arrows, you do not need to specify any color.\n",
    "- To change the color of the vectors, add the option `color = 'color_name'` inside `slope_field()` as illustrated in the code cell below."
   ]
  },
  {
   "cell_type": "code",
   "execution_count": null,
   "id": "aff1e037-6684-42c6-a487-3ac5797a0283",
   "metadata": {
    "id": "aff1e037-6684-42c6-a487-3ac5797a0283"
   },
   "outputs": [],
   "source": [
    "# Change color to blue\n",
    "slope_field(q, y, diffeq, color='blue')"
   ]
  },
  {
   "cell_type": "markdown",
   "id": "398de3d6-508c-43cf-ba01-4057fe13cfbd",
   "metadata": {
    "id": "398de3d6-508c-43cf-ba01-4057fe13cfbd"
   },
   "source": [
    "## <a name='02quest4'>Question 4:</a> \n",
    "----\n",
    "\n",
    "Plot each of the four differential equations whose slope fields were not plotted in [question 2](#02quest2).\n",
    "\n",
    "\n",
    "### Solution to Question 4:\n",
    "----\n",
    "\n",
    "<br> <br> <mark>Replace each ?? in each of the four code cells below to plot each slope field.</mark> <br> <br>"
   ]
  },
  {
   "cell_type": "code",
   "execution_count": null,
   "id": "391cdf81-e480-4b01-b0b0-d468d395ca2a",
   "metadata": {
    "id": "391cdf81-e480-4b01-b0b0-d468d395ca2a"
   },
   "outputs": [],
   "source": [
    "# plot missing slope field 1\n",
    "\n",
    "# Define points where vectors will be plotted\n",
    "t = np.linspace(??, ??, ??)  # Independent variable, np.linspace(initial, end, number_values)\n",
    "y = np.linspace(??, ??, ??)  # Dependent variable, np.linspace(initial, end, number_values)\n",
    "\n",
    "# Define the differential equation\n",
    "def diffeq(t, y):  # t is independent variable and y is dependent variable\n",
    "    return ??  # enter the formula for dy/dt\n",
    "\n",
    "# Run the slope field plotter\n",
    "slope_field(t, y, diffeq)"
   ]
  },
  {
   "cell_type": "code",
   "execution_count": null,
   "id": "d9527902-cad8-45bc-9d38-e2f633e5d41d",
   "metadata": {
    "id": "391cdf81-e480-4b01-b0b0-d468d395ca2a"
   },
   "outputs": [],
   "source": [
    "# plot missing slope field 2\n",
    "\n",
    "# Define points where vectors will be plotted\n",
    "t = np.linspace(??, ??, ??)  # Independent variable, np.linspace(initial, end, number_values)\n",
    "y = np.linspace(??, ??, ??)  # Dependent variable, np.linspace(initial, end, number_values)\n",
    "\n",
    "# Define the differential equation\n",
    "def diffeq(t, y):  # t is independent variable and y is dependent variable\n",
    "    return ??  # enter the formula for dy/dt\n",
    "\n",
    "# Run the slope field plotter\n",
    "slope_field(t, y, diffeq)"
   ]
  },
  {
   "cell_type": "code",
   "execution_count": null,
   "id": "85c0484f-398e-4061-aa5d-b206f7de9537",
   "metadata": {
    "id": "391cdf81-e480-4b01-b0b0-d468d395ca2a"
   },
   "outputs": [],
   "source": [
    "# plot missing slope field 3\n",
    "\n",
    "# Define points where vectors will be plotted\n",
    "t = np.linspace(??, ??, ??)  # Independent variable, np.linspace(initial, end, number_values)\n",
    "y = np.linspace(??, ??, ??)  # Dependent variable, np.linspace(initial, end, number_values)\n",
    "\n",
    "# Define the differential equation\n",
    "def diffeq(t, y):  # t is independent variable and y is dependent variable\n",
    "    return ??  # enter the formula for dy/dt\n",
    "\n",
    "# Run the slope field plotter\n",
    "slope_field(t, y, diffeq)"
   ]
  },
  {
   "cell_type": "code",
   "execution_count": null,
   "id": "7dbcfef7-7e35-4077-855c-bde9a7250c13",
   "metadata": {
    "id": "391cdf81-e480-4b01-b0b0-d468d395ca2a"
   },
   "outputs": [],
   "source": [
    "# plot missing slope field 4\n",
    "\n",
    "# Define points where vectors will be plotted\n",
    "t = np.linspace(??, ??, ??)  # Independent variable, np.linspace(initial, end, number_values)\n",
    "y = np.linspace(??, ??, ??)  # Dependent variable, np.linspace(initial, end, number_values)\n",
    "\n",
    "# Define the differential equation\n",
    "def diffeq(t, y):  # t is independent variable and y is dependent variable\n",
    "    return ??  # enter the formula for dy/dt\n",
    "\n",
    "# Run the slope field plotter\n",
    "slope_field(t, y, diffeq)"
   ]
  },
  {
   "cell_type": "markdown",
   "id": "8f330c02-d88b-478b-8cea-8bd4f7937f92",
   "metadata": {
    "id": "8f330c02-d88b-478b-8cea-8bd4f7937f92"
   },
   "source": [
    "# Plotting Solutions in a Slope Field\n",
    "---\n",
    "\n",
    "We have seen that slope fields are useful for sketching graphs to approximate solutions that pass thru certain points. The arrows should be approximately tangent to the curve we sketch. In addition to the `slope_field()` function we used earlier, the `ode_tools` module defines other functions. We can import a function named `plot_sol()` to plot a slope field as well as the solution that passes thru a given point.\n",
    "\n",
    "There is a function named `plot_sol()` that lives inside a module named `ode_tools`. \n",
    "\n",
    "\n",
    "- See [Quick Reference Guide on How to Use Python Functions for Chapter 1](https://githubtocolab.com/CU-Denver-MathStats-OER/ODEs/blob/main/Chp1/ODE-Tools-Tutorial.ipynb) for more detailed instructions.\n",
    "\n",
    "1. Input vectors of values for `t` and `x` (points where the vectors will be plotted) and define `diffeq`.\n",
    "\n",
    "\n",
    "2. <font color = \"dodgerblue\">Define an initial condition $(t_0, x_0)$.\n",
    "    - The initial value of $t$ stored in the variable named `t0`.\n",
    "    - The initial value of $x$ is stored in the variable named `x0`.</font> <br>\n",
    "3. If you have not already done so, load the `ode_tools` module from GitHub. See [Loading from GitHub Instructions](#LoadModule).\n",
    "    - <mark>If you already loaded `ode_tools` from GitHub when using the `slope_field()` function, you can skip this step.</mark>\n",
    "\n",
    "4. Import the `plot_sol()` function.\n",
    "    - Like packages, you only need to import a function one time after opening a notebook.\n",
    "\n",
    "5. Generate the slope field by running the function with the command `plot_sol(t, x, diffeq, t0, x0)`.\n"
   ]
  },
  {
   "cell_type": "code",
   "execution_count": null,
   "id": "1f99a601-c190-4e4b-9e65-b7a13cf14b66",
   "metadata": {
    "id": "1f99a601-c190-4e4b-9e65-b7a13cf14b66"
   },
   "outputs": [],
   "source": [
    "from utils.ode_tools import plot_sol  # Only need to import the function once\n",
    "\n",
    "# Define points where vectors will be plotted\n",
    "t = np.linspace(0,10,11)  # Independent variable, np.linspace(initial, end, number_values)\n",
    "x = np.linspace(40,60,10)  # Dependent variable, np.linspace(initial, end, number_values)\n",
    "\n",
    "# Define the differential equation\n",
    "def diffeq(t, x):  # t is independent variable and x is dependent variable\n",
    "    return 9.8 - (x / 5)  # enter the formula for dx/dt\n",
    "\n",
    "# Enter t0, the initial value of t\n",
    "# Enter x0, the value of x at t0\n",
    "t0 = 2\n",
    "x0 = 55\n",
    "\n",
    "# Run the function to create a plot\n",
    "plot_sol(t, x, diffeq, t0, x0)"
   ]
  },
  {
   "cell_type": "markdown",
   "id": "7db3914c-bed7-45d9-8b8d-c583c34c4462",
   "metadata": {
    "id": "7db3914c-bed7-45d9-8b8d-c583c34c4462"
   },
   "source": [
    "## <a name='02quest5'>Question 5:</a> \n",
    "----\n",
    "\n",
    "Use the `plot_sol()` function to create a plot of the slope field and solution to the initial value problem\n",
    "\n",
    "$$\\color{dodgerblue}{\\frac{dy}{dq} = 4q^2 - y^2, \\qquad y(-2)=3}.$$\n",
    "\n",
    "\n",
    "### Solution to Question 5:\n",
    "----\n",
    "\n",
    "<br> <br> <mark>Complete the code block below.</mark> <br> <br>"
   ]
  },
  {
   "cell_type": "code",
   "execution_count": null,
   "id": "bc880516-baca-40e4-9893-9287a9ce316f",
   "metadata": {
    "id": "bc880516-baca-40e4-9893-9287a9ce316f"
   },
   "outputs": [],
   "source": [
    "#from utils.ode_tools import plot_sol  # Only need to import the function once\n",
    "\n",
    "# Define points where vectors will be plotted\n",
    "q = np.linspace(??, ??, ??)  # Independent variable, np.linspace(initial, end, number_values)\n",
    "y = np.linspace(??, ??, ??)  # Dependent variable, np.linspace(initial, end, number_values)\n",
    "\n",
    "# Define the differential equation\n",
    "def diffeq(q, y):  # q is independent variable and y is dependent variable\n",
    "    return ??  # enter the formula for dy/dq\n",
    "\n",
    "# Enter q0, the initial value of q\n",
    "# Enter y0, the value of y at q0\n",
    "q0 = ??\n",
    "y0 = ??\n",
    "\n",
    "# Run the function to create a plot\n",
    "plot_sol(q, y, diffeq, q0, y0)"
   ]
  },
  {
   "cell_type": "markdown",
   "id": "6a5b3804-3ede-4196-9678-c0a2031ceba6",
   "metadata": {
    "id": "6a5b3804-3ede-4196-9678-c0a2031ceba6"
   },
   "source": [
    "# Creative Commons License Information\n",
    "---\n",
    "\n",
    "<a rel=\"license\" href=\"https://creativecommons.org/licenses/by-nc-sa/4.0/\"><img alt=\"Creative Commons License\" style=\"border-width:0\" src=\"https://i.creativecommons.org/l/by-nc-sa/4.0/80x15.png\" /></a><br /><span xmlns:dct=\"http://purl.org/dc/terms/\" property=\"dct:title\">Elementary Differential Equations</span> by <a xmlns:cc=\"http://creativecommons.org/ns#\" href=\"https://github.com/CU-Denver-MathStats-OER/ODEs\" property=\"cc:attributionName\" rel=\"cc:attributionURL\">Adam Spiegler, Jonathon Hirschi, and Dmitry Ostrovskiy</a> is licensed under a <a rel=\"license\" href=\"http://creativecommons.org/licenses/by-nc-sa/4.0/\">Creative Commons Attribution-NonCommercial-ShareAlike 4.0 International License</a>.<br />Based on a work at <a xmlns:dct=\"http://purl.org/dc/terms/\" href=\"https://github.com/CU-Denver-MathStats-OER/ODEs\" rel=\"dct:source\">https://github.com/CU-Denver-MathStats-OER/ODEs</a> and original content created by Rasmussen, C., Keene, K. A., Dunmyre, J., & Fortune, N. (2018). *Inquiry oriented differential equations: Course materials*. Available at <a href=\"https://iode.sdsu.edu\">https://iode.sdsu.edu</a>."
   ]
  },
  {
   "cell_type": "code",
   "execution_count": null,
   "id": "rYlubj5fGrEA",
   "metadata": {
    "id": "rYlubj5fGrEA"
   },
   "outputs": [],
   "source": []
  }
 ],
 "metadata": {
  "colab": {
   "collapsed_sections": [],
   "name": "02-Slope-Fields.ipynb",
   "provenance": []
  },
  "kernelspec": {
   "display_name": "Python 3 (ipykernel)",
   "language": "python",
   "name": "python3"
  },
  "language_info": {
   "codemirror_mode": {
    "name": "ipython",
    "version": 3
   },
   "file_extension": ".py",
   "mimetype": "text/x-python",
   "name": "python",
   "nbconvert_exporter": "python",
   "pygments_lexer": "ipython3",
   "version": "3.9.13"
  }
 },
 "nbformat": 4,
 "nbformat_minor": 5
}
