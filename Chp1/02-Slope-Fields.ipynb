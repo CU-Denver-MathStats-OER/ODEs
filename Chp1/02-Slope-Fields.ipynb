{
 "cells": [
  {
   "cell_type": "markdown",
   "id": "3581413b-8b68-474d-84db-6ecfb5eb00a5",
   "metadata": {
    "id": "3581413b-8b68-474d-84db-6ecfb5eb00a5"
   },
   "source": [
    "# Lab 1.2: Slope Fields\n",
    "----\n",
    "\n",
    "<font color='blue'>Reading: *Notes on Diffy Q's* Section 1.2</font>\n",
    "\n",
    "<br>\n",
    "\n",
    "A <font color='blue'>**slope field**</font> is a graphical representation of a rate of change equation. Given a rate of change equation, if we plug in particular values of $(t,y)$ then $\\dfrac{dy}{dt}$ tells you the slope of the tangent vector to the solution at that point.\n",
    "\n",
    "\n",
    "For example, consider the rate of change equation $\\dfrac{dy}{dt}=y+2t$.  At the point $(1, 3)$, the value of $\\dfrac{dy}{dt}$ is $5$. Thus, the slope field for this equation would show a vector at the point $(1, 3)$ with slope $5$.  A slope field depicts the exact slope of many such vectors, where we take each vector to be uniform length. Slope fields are useful because they provide a graphical approach for obtaining qualitatively correct graphs of the functions that satisfy a differential equation."
   ]
  },
  {
   "cell_type": "markdown",
   "id": "f2d0bceb-b0a3-4a41-82fa-c4fd1c1703bd",
   "metadata": {
    "id": "f2d0bceb-b0a3-4a41-82fa-c4fd1c1703bd"
   },
   "source": [
    "## <a name='02quest1'>Question 1:</a> \n",
    "---\n",
    "\n",
    "In the code cell below a partially completed slope field for  $\\dfrac{dP}{dt}=0.8P$ is provided.\n",
    "\n",
    "a. Plot many more tangent vectors to create a slope field.\n",
    "\n",
    "b. Use your slope field to sketch qualitatively correct graphs of the solution functions that start at $P = 0, 0.5$, and $2$, respectively. Note: the value of $P$ at an initial time (typically $t = 0$) is called an **initial condition**. \n",
    "\n",
    "c. Recall that a solution to a differential equation is a function that satisfies the differential equation. Explain how the graph with initial condition $P(0) = 1$ can graphically be thought of as a solution to the differential equation when the differential equation is represented by its slope field. \n",
    "\n",
    "<!-- ![Partially Completed Slope Field and Table](Images/02MyFirstSlopeFieldwithTable.png) -->\n",
    "\n",
    "### Solution to Question 1:\n",
    "----\n",
    "\n",
    "<br> \n",
    "\n",
    "Complete the table below to identify more vectors in the slope field.\n",
    "\n",
    "| $$\\large t$$ | $$\\large P$$ | $$\\large \\dfrac{dP}{dt} = 0.8P$$|\n",
    "|-----|-----|-------------------------|\n",
    "| 0 | 0 | 0 |\n",
    "| 0 | 2 | 1.6 |\n",
    "| 1 | 1 | 0.8 |\n",
    "| <mark>??</mark> |  <mark>??</mark> | <mark>??</mark> |\n",
    "| <mark>??</mark> |  <mark>??</mark> | <mark>??</mark> |\n",
    "| <mark>??</mark> |  <mark>??</mark> | <mark>??</mark> |\n",
    "| <mark>??</mark> |  <mark>??</mark> | <mark>??</mark> |\n",
    "| <mark>??</mark> |  <mark>??</mark> | <mark>??</mark> |\n",
    "\n",
    "\n",
    "<br> <br>\n",
    "<mark>Then plot the vectors by editing the code cell below.</mark>\n",
    "<br> <br> "
   ]
  },
  {
   "cell_type": "code",
   "execution_count": null,
   "id": "5e1a07f9-9fc7-4db0-9212-da27622a47d8",
   "metadata": {
    "colab": {
     "base_uri": "https://localhost:8080/",
     "height": 284
    },
    "executionInfo": {
     "elapsed": 517,
     "status": "ok",
     "timestamp": 1660152172107,
     "user": {
      "displayName": "Adam Spiegler",
      "userId": "08916726237218427358"
     },
     "user_tz": 360
    },
    "id": "5e1a07f9-9fc7-4db0-9212-da27622a47d8",
    "outputId": "d493674f-ab6a-4e73-fd73-e2bbf9ded0bb"
   },
   "outputs": [],
   "source": [
    "import matplotlib.pyplot as plt\n",
    "\n",
    "# Plot vectors\n",
    "plt.quiver(0, 0, 1, 0, color = 'b')  # plots vector at (0,0) with slope 0/1 = 0 \n",
    "plt.quiver(0, 2, 1, 0.8, color = 'b')  # plots vector at (0,2) with slope 0.8/1 = 0.8\n",
    "plt.quiver(1, 1, 1, 1.6, color = 'b')  # plots vector at (1,1) with slope 1.6/1 = 1.6\n",
    "\n",
    "#########################################################################\n",
    "#STUDENT TO DO: Uncomment out each line and add your vectors to the plot\n",
    "#########################################################################\n",
    "#plt.quiver(??, ??, 1, ??, color = 'b')  # add your vector 1\n",
    "#plt.quiver(??, ??, 1, ??, color = 'b')  # add your vector 2\n",
    "#plt.quiver(??, ??, 1, ??, color = 'b')  # add your vector 3\n",
    "#plt.quiver(??, ??, 1, ??, color = 'b')  # add your vector 4\n",
    "#plt.quiver(??, ??, 1, ??, color = 'b')  # add your vector 5\n",
    "\n",
    "# Set limits on x and y axes\n",
    "plt.xlim([-0.1, 4.5])\n",
    "plt.ylim([-0.1, 4.5])\n",
    "\n",
    "# Label axes\n",
    "plt.xlabel(\"t\", fontsize=16)\n",
    "plt.ylabel(\"P\", fontsize=16)\n",
    "\n",
    "# Add a grid and axes to plot\n",
    "plt.grid(True, which='both')\n",
    "plt.axvline(x=0, color='k')\n",
    "plt.axhline(y=0, color='k')\n",
    "\n",
    "plt.show()"
   ]
  },
  {
   "cell_type": "markdown",
   "id": "35483307-dbe7-4b7f-bfce-a9eaea513243",
   "metadata": {
    "id": "35483307-dbe7-4b7f-bfce-a9eaea513243"
   },
   "source": [
    "## <a name='02quest2'>Question 2:</a> \n",
    "---\n",
    "\n",
    "Below are seven differential equations and three different slope fields. **Without using technology**, identify which differential equation is the best match for each slope field (thus you will have four rate of change equations left over). **Explain your reasoning.** \n",
    "\n",
    "$$\n",
    "\\text{(i) } \\frac{dy}{dt}=t-1 \\quad \\text{(ii) } \\frac{dy}{dt}=1-y^2 \\quad \\text{(iii) } \\frac{dy}{dt}=y^2-t^2 \\quad \\text{(iv) } \\frac{dy}{dt}=1-y\n",
    "$$\n",
    "\n",
    "$$\n",
    "\\text{(v) } \\frac{dy}{dt}=t^2-y^2 \\quad \\text{(vi) } \\frac{dy}{dt}=1-t \\quad \\text{(vii) } \\frac{dy}{dt}=9t^2-y^2\n",
    "$$\n",
    "\n",
    "\n",
    "|Slope Field 1 | Slope Field 2 | Slope Field 3|\n",
    "|--------------|---------------|--------------|\n",
    "<img src=\"https://drive.google.com/uc?id=1aCcNN8T-uGVL0RhwH8k97ucjOf-7_8s4\" width = 300 alt='Slope Field 1'> | <img src=\"https://drive.google.com/uc?id=1Jt98xnNDZofxz0NImSD2NTezJkfYhFt6\" width=300 alt='Slope Field 2'> | <img src=\"https://drive.google.com/uc?id=1Tq5MTbqMnEoZMpW7s7BHPNT1OCAH2mv4\" width=300 alt='Slope Field 3'>\n",
    "\n",
    "### Solution to Question 2:\n",
    "---\n",
    "\n",
    "<br> <br> \n",
    "\n",
    "- Slope field 1 matches equation <mark>??</mark>\n",
    "\n",
    "- Slope field 2 matches equation <mark>??</mark>\n",
    "\n",
    "- Slope field 3 matches equation <mark>??</mark>\n",
    "\n",
    "\n",
    "<br> <br> <br> <br>"
   ]
  },
  {
   "cell_type": "markdown",
   "id": "de3697ac-83f8-4d0c-9639-369c20a247bf",
   "metadata": {
    "id": "de3697ac-83f8-4d0c-9639-369c20a247bf",
    "tags": []
   },
   "source": [
    "## <a name='02quest3'>Question 3:</a> \n",
    "----\n",
    "\n",
    "For each of the slope fields in the previous problem, sketch in graphs of several different qualitatively correct solutions. **Do not use any technology to answer this question.** \n",
    "\n",
    "### Solution to Question 3:\n",
    "----\n",
    "\n",
    "<br> <br> <mark>Sketch your answers on the slope fields above.</mark><br> <br> <br> <br>\n"
   ]
  },
  {
   "cell_type": "markdown",
   "id": "8df77abd-91cc-4b47-ae3c-3c502f3800e3",
   "metadata": {
    "id": "8df77abd-91cc-4b47-ae3c-3c502f3800e3"
   },
   "source": [
    "# Plotting Slope Fields in Python\n",
    "----\n",
    "\n",
    "Recall that to create a slope field we can follow the following routine:\n",
    "\n",
    "1. Pick a point $(t, x)$ and evaluate the differential equation $\\frac{dx}{dt}$ at that point.\n",
    "2. Draw a line segment (of uniform length) with slope $m=\\frac{dx}{dt}$.\n",
    "3. Repeat.\n",
    "\n",
    "Below we go through code that generates a slope field for the differential equation\n",
    "$$\\frac{dx}{dt} = 9.8 - \\frac{x}{5}.$$"
   ]
  },
  {
   "cell_type": "markdown",
   "id": "02426e2a-3710-4c7a-a306-ace1ef05a764",
   "metadata": {
    "id": "02426e2a-3710-4c7a-a306-ace1ef05a764"
   },
   "source": [
    "## Importing Packages\n",
    "----\n",
    "\n",
    "First we import two packages we frequently will use:\n",
    "\n",
    "- <font color='blue'>**NumPy**</font> is a package that is convenient for working with multidimensional arrays (such as vectors and matrices). See [NumPy help documentation](https://numpy.org/doc/stable/user/whatisnumpy.html).\n",
    "- <font color='blue'>**Matplotlib**</font> we **already imported in the first code cell above**. It is package useful for creating static, animated, and interactive visualizations. See [Matplotlib help documentation](https://numpy.org/doc/stable/user/whatisnumpy.html).\n",
    "    - The `pyplot` subpackage in `matplotlib` that is a great tool in computational math. See [pyplot help documentation](https://matplotlib.org/stable/api/_as_gen/matplotlib.pyplot.html). "
   ]
  },
  {
   "cell_type": "code",
   "execution_count": null,
   "id": "5b77df78-bdd5-4440-aa2d-ca201df68de7",
   "metadata": {
    "id": "5b77df78-bdd5-4440-aa2d-ca201df68de7"
   },
   "outputs": [],
   "source": [
    "import numpy as np"
   ]
  },
  {
   "cell_type": "markdown",
   "id": "b89e41f7-dd56-4870-83ec-c90e30de8a55",
   "metadata": {
    "id": "b89e41f7-dd56-4870-83ec-c90e30de8a55"
   },
   "source": [
    "## Setting Up the Grid\n",
    "----\n",
    "\n",
    "The code cell below creates a set of points $(t,x)$ at which we will plot a line segment in the slope field.\n",
    "\n",
    "- Generate vector of $11$ evenly spaced $t$-values starting at $t=0$ and ending at $t=10$.\n",
    "- Generate vector of $10$ evenly spaced $x$-values starting at $x=40$ and ending at $x=60$\n",
    "- You choose range of values and how many slopes you want to plot in your slope field."
   ]
  },
  {
   "cell_type": "code",
   "execution_count": null,
   "id": "00d6cf38-2c07-425a-bf4e-b6d61143565c",
   "metadata": {
    "id": "00d6cf38-2c07-425a-bf4e-b6d61143565c"
   },
   "outputs": [],
   "source": [
    "# np.linspace(initial, end, number_values)\n",
    "t = np.linspace(0,10,11)\n",
    "x = np.linspace(40,60,10)"
   ]
  },
  {
   "cell_type": "markdown",
   "id": "3a36796f-fe6d-4d06-a96d-52bc6d44f370",
   "metadata": {
    "id": "3a36796f-fe6d-4d06-a96d-52bc6d44f370"
   },
   "source": [
    "## Defining the Differential Equation\n",
    "---\n",
    "\n",
    "In the code cell below, we define the differential equation `diffeq` whose slope field will be plotted. **By default, we still use $t$ to denote the independent variable and $x$ the dependent variable.**"
   ]
  },
  {
   "cell_type": "code",
   "execution_count": null,
   "id": "96c00453-e191-4b91-ba28-b5bd36bf71c1",
   "metadata": {
    "id": "96c00453-e191-4b91-ba28-b5bd36bf71c1"
   },
   "outputs": [],
   "source": [
    "# Define the differential equation\n",
    "\n",
    "def diffeq(t, x):  # t is independent variable and x is dependent variable\n",
    "    return 9.8 - (x / 5)  # enter the formula for dx/dt"
   ]
  },
  {
   "cell_type": "markdown",
   "id": "72e16b8c-27bb-4350-87b6-75e5251388db",
   "metadata": {
    "id": "72e16b8c-27bb-4350-87b6-75e5251388db"
   },
   "source": [
    "## Plotting a Slope Field with `slope_field()`\n",
    "---\n",
    "\n",
    "We now import a function named `slope_field()` that lives inside a module named `ode_tools` inside the folder `utils`. \n",
    "\n",
    "- The actual Python code can be found in the file named **ode_tools.py**.\n",
    "- <font color = \"red\">You do NOT need to open, view, or edit the code in the file **ode_tools.py** found in the utils folder.</font> \n",
    "\n",
    "1. Input vectors of values for `t` and `x` (points where the vectors will be plotted) and define `diffeq`.\n",
    "  - Note this step has been performed in the previous code cells.\n",
    "\n",
    "2. Set the file path to the module file named <font color='blue'>**ode_tools.py**</font> located in the directory <font color='blue'>**../utils**</font>. See separate instructions for Colab and Jupyter. \n",
    "  - Colab users will need to first [Mount Google Drive](#MountDrive) and then [Set the Path in Colab](#ColabPath). See instructions below.\n",
    "  - Jupyter users have a different command to [Set the Path in Jupyter](#JupPath).\n",
    "  - The instructions are also found in [ODE Tools Tutorial Notebook](ODE-Tools-Tutorial.ipynb).\n",
    "\n",
    "3. We import the `slope_field()` function.\n",
    "    - You will need to first set your file path as described in Step 2.\n",
    "    - Like packages, you only need to import a function one time after opening a notebook.\n",
    "\n",
    "4. We generate the slope field by running the function with the command `slope_field(t, x, diffeq)`."
   ]
  },
  {
   "cell_type": "markdown",
   "id": "tuvCY_YV5kMB",
   "metadata": {
    "id": "tuvCY_YV5kMB"
   },
   "source": [
    "### <a name='MountDrive'>Mounting Google Drive in Colab</a> (Skip if Using Jupyter)\n",
    "---\n",
    "\n",
    "If you are working with this notebook in Google Colab, to access the `ode_tools` module, you need to first mount your Google Drive.\n",
    "\n",
    "- <mark>**Run the code cell below if you are using Google Colab.**</mark>\n",
    "- **DO NOT RUN the code cell if you are using Jupyter**.\n"
   ]
  },
  {
   "cell_type": "code",
   "execution_count": null,
   "id": "x1Jqa8QY4CNv",
   "metadata": {
    "id": "x1Jqa8QY4CNv"
   },
   "outputs": [],
   "source": [
    "# Run this cell if you are using Google Colab\n",
    "# Do NOT run if you are using Jupyter\n",
    "\n",
    "# Allow Colab to access your Google Drive files\n",
    "from google.colab import drive\n",
    "drive.mount('/content/drive')"
   ]
  },
  {
   "cell_type": "markdown",
   "id": "Yvthy-_06SMj",
   "metadata": {
    "id": "Yvthy-_06SMj"
   },
   "source": [
    "### <a name='ColabPath'>Setting the File Path for Google Colab Users</a>\n",
    "---\n",
    "\n",
    "The file **ode_tools.py** is located in the **utils** folder. Thus, we need to direct Python to this folder in order to access the functions defined in the `ode_tools` module. \n",
    "\n",
    "- <mark>If you are using Jupyter, skip this section and jump to the next section to set your path in Jupyter.</mark>\n",
    "\n",
    "**If you are working with this notebook in Google Colab**, then you will need to define the path to the utils folder.\n",
    "\n",
    "- In the code cell below, you can see the path in my Drive is <font color='blue'>**<span>&#47;</span>content/drive/MyDrive/MATH 3200 Colab/utils**</font>\n",
    "- You may need to adjust this path to your file structure. To identify your path:\n",
    "  1. Click on the file icon on the left side of the screen.\n",
    "  2. Find the **utils** folder that should be inside the main folder named **MATH 3200 Colab**.\n",
    "  3. Hover over the **utils** folder, click on the three dots, and choose the option **Copy path**.\n",
    "  4. Paste your path inside the single quotes in the `sys.path.append('paste_your_path_here')`."
   ]
  },
  {
   "cell_type": "code",
   "execution_count": null,
   "id": "QrdkO1E448Wd",
   "metadata": {
    "id": "QrdkO1E448Wd"
   },
   "outputs": [],
   "source": [
    "# Only run this cell if using Google Colab.\n",
    "# Do not run this cell if using Jupyter.\n",
    "import sys\n",
    "\n",
    "# Set the path to the folder with module ode_tools.py\n",
    "# Adjust the path according to your file structure in Drive\n",
    "sys.path.append('/content/drive/MyDrive/MATH 3200 Colab/utils')"
   ]
  },
  {
   "cell_type": "markdown",
   "id": "EDLcOpra-ie1",
   "metadata": {
    "id": "EDLcOpra-ie1"
   },
   "source": [
    "### <a name='JupPath'>Setting the File Path for Jupyter Users</a>\n",
    "---\n",
    "\n",
    "The file **ode_tools.py** is located in the **utils** folder. Thus, we need to direct Python to this folder in order to access the functions defined in the `ode_tools` module. \n",
    "\n",
    "- <mark>If you are using Google Colab, skip this section as you should have already set your path above..</mark>\n",
    "\n",
    "**If you are working with this notebook in Google Colab, run the code cell below to set your file path. Do not edit the code.**"
   ]
  },
  {
   "cell_type": "code",
   "execution_count": null,
   "id": "R-xG--qt-3J2",
   "metadata": {
    "id": "R-xG--qt-3J2"
   },
   "outputs": [],
   "source": [
    "# Only run this cell if using Jupyter.\n",
    "# Do not run this cell if using Google Colab.\n",
    "import sys\n",
    "\n",
    "sys.path.append('../utils')"
   ]
  },
  {
   "cell_type": "markdown",
   "id": "ycAmBv8K_Zss",
   "metadata": {
    "id": "ycAmBv8K_Zss"
   },
   "source": [
    "## Importing the `slope_field` Plotting Function\n",
    "---\n",
    "\n",
    "After you followed the instructions above and set your file path, you are now ready to import the `slope_field` function from the `ode_tools` module. \n",
    "\n",
    "<mark>Now all remaining code cells will work in both Google Colab and Jupyter!</mark>\n",
    "\n",
    "**Run the code cell below to generate the plot of the slope field.**\n",
    "\n",
    "- Note we have already defined arrays `t` and `x` in previous cell.\n",
    "- We have already defined `diffeq` in a previous cell.\n",
    "- Thus the lines of code are commented out below."
   ]
  },
  {
   "cell_type": "code",
   "execution_count": null,
   "id": "f38fbe97-697f-4eb5-aab1-b28acdf0d6a5",
   "metadata": {
    "id": "f38fbe97-697f-4eb5-aab1-b28acdf0d6a5"
   },
   "outputs": [],
   "source": [
    "from ode_tools import slope_field  # Only need to import one time.\n",
    "\n",
    "# np.linspace(initial, end, number_values)\n",
    "#t = np.linspace(0,10,11)\n",
    "#x = np.linspace(40,60,10)\n",
    "\n",
    "# Setup the differential equation\n",
    "#def diffeq(t, x):  # t is independent variable and x is dependent variable\n",
    "#    return 9.8 - (x / 5)  # enter the formula for dx/dt\n",
    "\n",
    "# Run the slope field plotter\n",
    "slope_field(t, x, diffeq)"
   ]
  },
  {
   "cell_type": "markdown",
   "id": "50391ead-43d3-4f6e-98e5-7e59f72d281e",
   "metadata": {
    "id": "50391ead-43d3-4f6e-98e5-7e59f72d281e"
   },
   "source": [
    "## Plotting a Different Slope Field\n",
    "---\n",
    "\n",
    "Next we use `slope_field()` to generate a plot of the slope corresponding to\n",
    "\n",
    "$$\\color{blue}{\\frac{dy}{dq} = 4q^2 - y^2}.$$\n",
    "\n",
    "We initially choose to plot the slope field over $-5 \\leq q \\leq 5$ and $-5 \\leq y \\leq 5$.\n",
    "\n",
    "- Note in the `slope_field()` function $t$ and $x$ are used to denote the independent and dependent variables, respectively.\n",
    "\n",
    "    - In this example, $q$ is the independent variable. **We use $t$ in place of $q$ in our formula.**\n",
    "    - In this example, $y$ is the dependent variable. **We use $x$ in place of $y$ in our formula.**\n",
    "    - The differential equation below is identical to the original differential equation above, just stated in terms of the default variables $t$ and $x$.\n",
    "\n",
    "$$\\color{blue}{\\frac{dx}{dt} = 4t^2 - x^2}$$"
   ]
  },
  {
   "cell_type": "code",
   "execution_count": null,
   "id": "55e56844-9f7c-4e74-baf0-ac5c705c2261",
   "metadata": {
    "id": "55e56844-9f7c-4e74-baf0-ac5c705c2261"
   },
   "outputs": [],
   "source": [
    "# np.linspace(initial, end, number_values)\n",
    "t = np.linspace(-5, 5, 11)  # pick 11 values from t=q=-5 to t=q=5\n",
    "x = np.linspace(-5, 5, 11)  # pick 11 values from x=y=-5 to x=y=5\n",
    "\n",
    "# Define a new differential equation\n",
    "def diffeq(t, x):  # x and t are dependent and independent variables\n",
    "    return 4*t**2 - x**2  # formula for dx/dt = dy/dq"
   ]
  },
  {
   "cell_type": "markdown",
   "id": "9b188864-4f47-40a9-a4a6-5a608f656ede",
   "metadata": {
    "id": "9b188864-4f47-40a9-a4a6-5a608f656ede"
   },
   "source": [
    "### Now We're Ready to Run `slope_field()`\n",
    "---\n",
    "\n",
    "Now that we have defined the three inputs need for the `slope_field()` function, we can generate a new slope field with the simple one line below."
   ]
  },
  {
   "cell_type": "code",
   "execution_count": null,
   "id": "bb9b650a-336f-4ee9-af74-49d0399ccc34",
   "metadata": {
    "id": "bb9b650a-336f-4ee9-af74-49d0399ccc34"
   },
   "outputs": [],
   "source": [
    "slope_field(t, x, diffeq)"
   ]
  },
  {
   "cell_type": "markdown",
   "id": "208cdac2-11e4-41d6-9cc9-90ab02fa0591",
   "metadata": {
    "id": "208cdac2-11e4-41d6-9cc9-90ab02fa0591"
   },
   "source": [
    "## Changing the Color of Vectors\n",
    "---\n",
    "\n",
    "If we want to change any of the default options, we simply input new options into the `slope_field()` function.\n",
    "\n",
    "- The default color for the vectors is `color = 'black'`. If you want black arrows, you do not need to specify any color.\n",
    "- To change the color of the vectors, add the option `color = 'color_name'` inside `slope_field()` as illustrated in the code cell below."
   ]
  },
  {
   "cell_type": "code",
   "execution_count": null,
   "id": "aff1e037-6684-42c6-a487-3ac5797a0283",
   "metadata": {
    "id": "aff1e037-6684-42c6-a487-3ac5797a0283"
   },
   "outputs": [],
   "source": [
    "# Change color to blue\n",
    "slope_field(t, x, diffeq, color='blue')"
   ]
  },
  {
   "cell_type": "markdown",
   "id": "398de3d6-508c-43cf-ba01-4057fe13cfbd",
   "metadata": {
    "id": "398de3d6-508c-43cf-ba01-4057fe13cfbd"
   },
   "source": [
    "## <a name='02quest4'>Question 4:</a> \n",
    "----\n",
    "\n",
    "Plot each of the four differential equations whose slope fields were not plotted in [question 2](#02quest2).\n",
    "\n",
    "\n",
    "### Solution to Question 4:\n",
    "----\n",
    "\n",
    "<br> <br> <mark>Replace each ?? in each of the four code cells below to plot each slope field.</mark> <br> <br>"
   ]
  },
  {
   "cell_type": "code",
   "execution_count": null,
   "id": "391cdf81-e480-4b01-b0b0-d468d395ca2a",
   "metadata": {
    "id": "391cdf81-e480-4b01-b0b0-d468d395ca2a"
   },
   "outputs": [],
   "source": [
    "# plot missing slope field 1\n",
    "\n",
    "# Define points where vectors will be plotted\n",
    "t = np.linspace(??, ??, ??)  # Independent variable, np.linspace(initial, end, number_values)\n",
    "x = np.linspace(??, ??, ??)  # Dependent variable, np.linspace(initial, end, number_values)\n",
    "\n",
    "# Define the differential equation\n",
    "def diffeq(t, x):  # t is independent variable and x is dependent variable\n",
    "    return ??  # enter the formula for dx/dt\n",
    "\n",
    "# Run the slope field plotter\n",
    "slope_field(t, x, diffeq)"
   ]
  },
  {
   "cell_type": "code",
   "execution_count": null,
   "id": "29b44149-999e-4eb0-8504-2291ae887e46",
   "metadata": {
    "id": "29b44149-999e-4eb0-8504-2291ae887e46"
   },
   "outputs": [],
   "source": [
    "# plot missing slope field 2\n",
    "\n",
    "# Define points where vectors will be plotted\n",
    "t = np.linspace(??, ??, ??)  # Independent variable, np.linspace(initial, end, number_values)\n",
    "x = np.linspace(??, ??, ??)  # Dependent variable, np.linspace(initial, end, number_values)\n",
    "\n",
    "# Define the differential equation\n",
    "def diffeq(t, x):  # t is independent variable and x is dependent variable\n",
    "    return ??  # enter the formula for dx/dt\n",
    "\n",
    "# Run the slope field plotter\n",
    "slope_field(t, x, diffeq)"
   ]
  },
  {
   "cell_type": "code",
   "execution_count": null,
   "id": "76efd472-636f-47d6-969f-437f83db7138",
   "metadata": {
    "id": "76efd472-636f-47d6-969f-437f83db7138"
   },
   "outputs": [],
   "source": [
    "# plot missing slope field 3\n",
    "\n",
    "# Define points where vectors will be plotted\n",
    "t = np.linspace(??, ??, ??)  # Independent variable, np.linspace(initial, end, number_values)\n",
    "x = np.linspace(??, ??, ??)  # Dependent variable, np.linspace(initial, end, number_values)\n",
    "\n",
    "# Define the differential equation\n",
    "def diffeq(t, x):  # t is independent variable and x is dependent variable\n",
    "    return ??  # enter the formula for dx/dt\n",
    "\n",
    "# Run the slope field plotter\n",
    "slope_field(t, x, diffeq)"
   ]
  },
  {
   "cell_type": "code",
   "execution_count": null,
   "id": "5f93df45-ae41-48df-8dd2-7ecff9700684",
   "metadata": {
    "id": "5f93df45-ae41-48df-8dd2-7ecff9700684"
   },
   "outputs": [],
   "source": [
    "# plot missing slope field 4\n",
    "\n",
    "# Define points where vectors will be plotted\n",
    "t = np.linspace(??, ??, ??)  # Independent variable, np.linspace(initial, end, number_values)\n",
    "x = np.linspace(??, ??, ??)  # Dependent variable, np.linspace(initial, end, number_values)\n",
    "\n",
    "# Define the differential equation\n",
    "def diffeq(t, x):  # t is independent variable and x is dependent variable\n",
    "    return ??  # enter the formula for dx/dt\n",
    "\n",
    "# Run the slope field plotter\n",
    "slope_field(t, x, diffeq)"
   ]
  },
  {
   "cell_type": "markdown",
   "id": "8f330c02-d88b-478b-8cea-8bd4f7937f92",
   "metadata": {
    "id": "8f330c02-d88b-478b-8cea-8bd4f7937f92"
   },
   "source": [
    "# Plotting Solutions in a Slope Field\n",
    "---\n",
    "\n",
    "We have seen that slope fields are useful for sketching graphs to approximate solutions that pass thru certain points. The arrows should be approximately tangent to the curve we sketch. In addition to the `slope_field()` function we used earlier, the `ode_tools` module defines other functions. We can import a function named `plot_sol()` to plot a slope field as well as the solution that passes thru a given point.\n",
    "\n",
    "There is a function named `plot_sol()` that lives inside a module named `ode_tools`. \n",
    "\n",
    "\n",
    "1. Input vectors of values for `t` and `x` (points where the vectors will be plotted) and define `diffeq`.\n",
    "\n",
    "\n",
    "2. <font color = \"blue\">Define an initial condition $(t_0, x_0)$.\n",
    "    - The initial value of $t$ stored in the variable named `t0`.\n",
    "    - The initial value of $x$ is stored in the variable named `x0`.</font> <br>\n",
    "3. If you have not already done so, set the file path. See [Colab Instructions](#MountDrive) or [Jupyter Instructions](#JupPath).\n",
    "  - <mark>If you already set the file path when using the `slope_field()` function, you can skip this step.</mark>\n",
    "\n",
    "4. Import the `plot_sol()` function.\n",
    "    - Like packages, you only need to import a function one time after opening a notebook.\n",
    "\n",
    "5. Generate the slope field by running the function with the command `plot_sol(t, x, diffeq, t0, x0)`.\n",
    "  - <mark>Be sure you have already set the path to the utils folder in the previous code cells.</mark>\n",
    "\n",
    "- <font color = \"red\">The actual Python code can be found in the file named **ode_tools.py**, which we do not need to open or edit.</font>"
   ]
  },
  {
   "cell_type": "code",
   "execution_count": null,
   "id": "1f99a601-c190-4e4b-9e65-b7a13cf14b66",
   "metadata": {
    "id": "1f99a601-c190-4e4b-9e65-b7a13cf14b66"
   },
   "outputs": [],
   "source": [
    "from ode_tools import plot_sol  # Only need to import the function once\n",
    "\n",
    "# Define points where vectors will be plotted\n",
    "t = np.linspace(0,10,11)  # Independent variable, np.linspace(initial, end, number_values)\n",
    "x = np.linspace(40,60,10)  # Dependent variable, np.linspace(initial, end, number_values)\n",
    "\n",
    "# Define the differential equation\n",
    "def diffeq(t, x):  # t is independent variable and x is dependent variable\n",
    "    return 9.8 - (x / 5)  # enter the formula for dx/dt\n",
    "\n",
    "# Enter t0, the initial value of t\n",
    "# Enter x0, the value of x at t0\n",
    "t0 = 2\n",
    "x0 = 55\n",
    "\n",
    "# Run the function to create a plot\n",
    "plot_sol(t, x, diffeq, t0, x0)"
   ]
  },
  {
   "cell_type": "markdown",
   "id": "7db3914c-bed7-45d9-8b8d-c583c34c4462",
   "metadata": {
    "id": "7db3914c-bed7-45d9-8b8d-c583c34c4462"
   },
   "source": [
    "## <a name='02quest5'>Question 5:</a> \n",
    "----\n",
    "\n",
    "Use the `plot_sol()` function to create a plot of the slope field and solution to the initial value problem\n",
    "\n",
    "$$\\color{blue}{\\frac{dy}{dq} = 4q^2 - y^2, \\qquad y(-2)=3}.$$\n",
    "\n",
    "\n",
    "### Solution to Question 5:\n",
    "----\n",
    "\n",
    "<br> <br> <mark>Complete the code block below.</mark> <br> <br>"
   ]
  },
  {
   "cell_type": "code",
   "execution_count": null,
   "id": "bc880516-baca-40e4-9893-9287a9ce316f",
   "metadata": {
    "id": "bc880516-baca-40e4-9893-9287a9ce316f"
   },
   "outputs": [],
   "source": [
    "#from utils.ode_tools import plot_sol  # Only need to import the function once\n",
    "\n",
    "# Define points where vectors will be plotted\n",
    "t = np.linspace(??, ??, ??)  # Independent variable, np.linspace(initial, end, number_values)\n",
    "x = np.linspace(??, ??, ??)  # Dependent variable, np.linspace(initial, end, number_values)\n",
    "\n",
    "# Define the differential equation\n",
    "def diffeq(t, x):  # t is independent variable and x is dependent variable\n",
    "    return ??  # enter the formula for dx/dt\n",
    "\n",
    "# Enter t0, the initial value of t\n",
    "# Enter x0, the value of x at t0\n",
    "t0 = ??\n",
    "x0 = ??\n",
    "\n",
    "# Run the function to create a plot\n",
    "plot_sol(t, x, diffeq, t0, x0)"
   ]
  },
  {
   "cell_type": "markdown",
   "id": "6a5b3804-3ede-4196-9678-c0a2031ceba6",
   "metadata": {
    "id": "6a5b3804-3ede-4196-9678-c0a2031ceba6"
   },
   "source": [
    "# Creative Commons License Information\n",
    "---\n",
    "\n",
    "<a rel=\"license\" href=\"https://creativecommons.org/licenses/by-nc-sa/4.0/\"><img alt=\"Creative Commons License\" style=\"border-width:0\" src=\"https://i.creativecommons.org/l/by-nc-sa/4.0/80x15.png\" /></a><br /><span xmlns:dct=\"http://purl.org/dc/terms/\" property=\"dct:title\">Elementary Differential Equations</span> by <a xmlns:cc=\"http://creativecommons.org/ns#\" href=\"https://github.com/CU-Denver-MathStats-OER/ODEs\" property=\"cc:attributionName\" rel=\"cc:attributionURL\">Adam Spiegler, Jonathon Hirschi, and Dmitry Ostrovskiy</a> is licensed under a <a rel=\"license\" href=\"http://creativecommons.org/licenses/by-nc-sa/4.0/\">Creative Commons Attribution-NonCommercial-ShareAlike 4.0 International License</a>.<br />Based on a work at <a xmlns:dct=\"http://purl.org/dc/terms/\" href=\"https://github.com/CU-Denver-MathStats-OER/ODEs\" rel=\"dct:source\">https://github.com/CU-Denver-MathStats-OER/ODEs</a> and original content created by Rasmussen, C., Keene, K. A., Dunmyre, J., & Fortune, N. (2018). *Inquiry oriented differential equations: Course materials*. Available at <a href=\"https://iode.wordpress.ncsu.edu\">https://iode.wordpress.ncsu.edu</a>."
   ]
  },
  {
   "cell_type": "code",
   "execution_count": null,
   "id": "rYlubj5fGrEA",
   "metadata": {
    "id": "rYlubj5fGrEA"
   },
   "outputs": [],
   "source": []
  }
 ],
 "metadata": {
  "colab": {
   "collapsed_sections": [],
   "name": "02-Slope-Fields.ipynb",
   "provenance": []
  },
  "kernelspec": {
   "display_name": "Python 3",
   "language": "python",
   "name": "python3"
  },
  "language_info": {
   "codemirror_mode": {
    "name": "ipython",
    "version": 3
   },
   "file_extension": ".py",
   "mimetype": "text/x-python",
   "name": "python",
   "nbconvert_exporter": "python",
   "pygments_lexer": "ipython3",
   "version": "3.8.8"
  }
 },
 "nbformat": 4,
 "nbformat_minor": 5
}
