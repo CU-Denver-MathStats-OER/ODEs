{
 "cells": [
  {
   "cell_type": "markdown",
   "id": "af328aa4-6c16-448d-88ac-a951cfe05837",
   "metadata": {},
   "source": [
    "[![Open In Colab](https://colab.research.google.com/assets/colab-badge.svg)](https://githubtocolab.com/CU-Denver-MathStats-OER/ODEs/blob/main/Chp1/02-Slope-Fields.ipynb)\n"
   ]
  },
  {
   "cell_type": "markdown",
   "id": "bc7d480a-3fa3-4f40-9514-2c8b8e0542e8",
   "metadata": {
    "id": "3581413b-8b68-474d-84db-6ecfb5eb00a5",
    "tags": []
   },
   "source": [
    "\n",
    "# Lab 1.2: Slope Fields\n",
    "\n",
    "----\n",
    "\n",
    "<font color=\"dodgerblue\">Reading: *Notes on Diffy Q's* Section 1.2</font>\n",
    "\n",
    "<br>\n",
    "\n",
    "A <font color=\"dodgerblue\">**slope field**</font> is a graphical representation of a rate of change equation. Given a rate of change equation, if we plug in particular values of $(t,y)$ then $\\dfrac{dy}{dt}$ tells you the slope of the tangent vector to the solution at that point.\n",
    "\n",
    "\n",
    "For example, consider the rate of change equation $\\dfrac{dy}{dt}=\\dfrac{t^2y}{4}$.  \n",
    "\n",
    "- At the point $(1, 4)$, the value of $\\dfrac{dy}{dt}$ is $\\dfrac{dy}{dt}=\\dfrac{(1)^2(4)}{4} =1$. \n",
    "- Thus, the slope field for this equation would show a vector at the point $(1, 4)$ with slope $1$.  \n",
    "\n",
    "A slope field depicts the exact slope of many such vectors, where we take each vector to be uniform length. Slope fields are useful because they provide a graphical approach for obtaining qualitatively correct graphs of the functions that satisfy a differential equation."
   ]
  },
  {
   "cell_type": "markdown",
   "id": "452148ed-7958-4c34-a85b-e767f5980c43",
   "metadata": {
    "tags": []
   },
   "source": [
    "\n",
    "## <a name=\"02quest1\">Question 1:</a>\n",
    "\n",
    "---\n",
    "\n",
    "Compute the slope of the solution to \n",
    "$$\\dfrac{dy}{dt}= \\dfrac{t^2y}{4}$$\n",
    "passing through each of the given points. \n",
    "\n",
    "- $(2,-2)$\n",
    "- $(0, -1)$ \n",
    "- $(2,-2)$ \n",
    "- $(-3,-2)$\n",
    "\n",
    "### Solution to Question 1:\n",
    "\n",
    "---\n",
    "\n",
    "<br>  \n",
    "<br>  \n",
    "<br>  \n"
   ]
  },
  {
   "cell_type": "markdown",
   "id": "80e2b083-8635-4ed5-8a4f-f335b572cc07",
   "metadata": {},
   "source": [
    "\n",
    "## Slope Field for Question 1\n",
    "\n",
    "---\n",
    "\n",
    "- The figure on the left shows the corresponding vectors at the points $(1,4)$, $(2,-2)$, $(0, -1)$, $(2,-2)$, and $(-3,-2)$.\n",
    "- The figure on the right gives a more complete slope field with several solutions added.\n",
    "- See the [Appendix](#02append) for the code used to generate the figures below.\n",
    "\n",
    "<img src=\"https://raw.githubusercontent.com/CU-Denver-MathStats-OER/ODEs/main/Chp1/Images/02fig-somevecs.png\"  alt = \"Vectors from Question 1\" width=\"45%\"> &nbsp; &nbsp; &nbsp; &nbsp; &nbsp; <img src=\"https://raw.githubusercontent.com/CU-Denver-MathStats-OER/ODEs/main/Chp1/Images/02fig-vf-sols.png\"  alt = \"A More Complete Slope Fields with Solutions\" width=\"45%\">\n",
    "\n",
    "\n",
    "\n"
   ]
  },
  {
   "cell_type": "markdown",
   "id": "87653cb4-617f-47fd-9ce5-3d40bf970604",
   "metadata": {},
   "source": [
    "\n",
    "## <a name=\"02quest2\">Question 2:</a>\n",
    "\n",
    "---\n",
    "\n",
    "Describe the \"long-run behavior\" of the solution to $\\dfrac{dy}{dt}= \\dfrac{t^2y}{4}$ that to passes through the given point.\n",
    "\n",
    "a.  $y=-1$ when $t=0$\n",
    "\n",
    "b.  $y(-4) = 1$\n",
    "\n",
    "c.  $(2, 0)$\n",
    "\n",
    "\n",
    "### Solution to Question 2:\n",
    "\n",
    "---\n",
    "\n",
    "<br>  \n",
    "<br>  \n",
    "<br>  \n"
   ]
  },
  {
   "cell_type": "markdown",
   "id": "e62075f5-63d0-42ce-a566-2a6c26429e65",
   "metadata": {
    "id": "35483307-dbe7-4b7f-bfce-a9eaea513243"
   },
   "source": [
    "## <a name='02quest3'>Question 3:</a> \n",
    "---\n",
    "\n",
    "Below are seven differential equations and three different slope fields. **Without using technology**, identify which differential equation is the best match for each slope field (thus you will have four rate of change equations left over). **Explain your reasoning.** \n",
    "\n",
    "$$\n",
    "\\text{(i) } \\frac{dy}{dt}=t-1 \\quad \\text{(ii) } \\frac{dy}{dt}=1-y^2 \\quad \\text{(iii) } \\frac{dy}{dt}=y^2-t^2 \\quad \\text{(iv) } \\frac{dy}{dt}=1-y\n",
    "$$\n",
    "\n",
    "$$\n",
    "\\text{(v) } \\frac{dy}{dt}=t^2-y^2 \\quad \\text{(vi) } \\frac{dy}{dt}=1-t \\quad \\text{(vii) } \\frac{dy}{dt}=9t^2-y^2\n",
    "$$\n",
    "\n",
    "\n",
    "|Slope Field 1 | Slope Field 2 | Slope Field 3|\n",
    "|--------------|---------------|--------------|\n",
    "<img src=\"https://raw.githubusercontent.com/CU-Denver-MathStats-OER/ODEs/main/Chp1/Images/02SlopeField1.png\" width = 300 alt='Slope Field 1'> | <img src=\"https://raw.githubusercontent.com/CU-Denver-MathStats-OER/ODEs/main/Chp1/Images/02SlopeField2.png\" width=300 alt='Slope Field 2'> | <img src=\"https://raw.githubusercontent.com/CU-Denver-MathStats-OER/ODEs/main/Chp1/Images/02SlopeField3.png\" width=300 alt='Slope Field 3'>\n",
    "\n",
    "\n",
    "### Solution to Question 3:\n",
    "---\n",
    "\n",
    "<br> \n",
    "\n",
    "- Slope field 1 matches equation <mark>??</mark>\n",
    "\n",
    "- Slope field 2 matches equation <mark>??</mark>\n",
    "\n",
    "- Slope field 3 matches equation <mark>??</mark>\n",
    "\n",
    "\n",
    "<br> <br> <br>"
   ]
  },
  {
   "cell_type": "markdown",
   "id": "9f7d648e-fccf-4005-bde2-c55fe4b9bdec",
   "metadata": {
    "id": "de3697ac-83f8-4d0c-9639-369c20a247bf",
    "tags": []
   },
   "source": [
    "## <a name='02quest4'>Question 4:</a> \n",
    "----\n",
    "\n",
    "For each of the slope fields in [Question 3](#02quest3), sketch in graphs of several different qualitatively correct solutions. **Do not use any technology to answer this question.** \n",
    "\n",
    "### Solution to Question 4:\n",
    "----\n",
    "\n",
    "<br>  \n",
    "<br>  \n",
    "<mark>Sketch your answers on the slope fields above.</mark>  \n",
    "<br>  \n",
    "<br>"
   ]
  },
  {
   "cell_type": "markdown",
   "id": "0ccea77e-2cfc-4d6e-8b4d-876b075dd33a",
   "metadata": {
    "id": "8df77abd-91cc-4b47-ae3c-3c502f3800e3"
   },
   "source": [
    "\n",
    "# Plotting Slope Fields in Python\n",
    "\n",
    "----\n",
    "\n",
    "To create a slope field we can follow the following routine:\n",
    "\n",
    "1. Pick a point $(t, y)$ and evaluate the differential equation $\\frac{dy}{dt}$ at that point.\n",
    "2. Draw a line segment (of uniform length) with slope $m=\\frac{dy}{dt}$ at the point $(t, y)$.\n",
    "3. Repeat many times.\n",
    "\n",
    "We will use a function named `slope_field()` whose code is found in the module `ode_tools.py` that is saved in GitHub.\n"
   ]
  },
  {
   "cell_type": "markdown",
   "id": "e43e4c1e-e468-4090-ad65-c9fb1b4530c9",
   "metadata": {
    "id": "tuvCY_YV5kMB",
    "tags": []
   },
   "source": [
    "\n",
    "## <a name='02LoadModule'>Loading `ode_tools` from GitHub</a>\n",
    "\n",
    "---\n",
    "\n",
    "- Run the code cell below to load the `ode_tools` module stored in GitHub.\n",
    "- You will only need to run this code cell one time during an active session.\n",
    "- The code cell below will take a couple of seconds to run. You can ignore the output while the code is running."
   ]
  },
  {
   "cell_type": "code",
   "execution_count": null,
   "id": "ffcbf24b-cae2-4da7-b1b6-0dae51390496",
   "metadata": {},
   "outputs": [],
   "source": [
    "!pip install git+https://github.com/CU-Denver-MathStats-OER/ODEs\n",
    "from IPython.display import clear_output\n",
    "clear_output()"
   ]
  },
  {
   "cell_type": "markdown",
   "id": "3838ce79-3175-4a54-ac28-4dc845ba2b7c",
   "metadata": {
    "id": "ycAmBv8K_Zss"
   },
   "source": [
    "\n",
    "## Importing the `slope_field()` Function\n",
    "\n",
    "---\n",
    "\n",
    "Next, import the `slope_field()` function from the `ode_tools` module. You will only need to run this command one time during an active session.\n",
    "\n"
   ]
  },
  {
   "cell_type": "code",
   "execution_count": null,
   "id": "e27aa39f-34fa-41cc-8ebb-049842f98b91",
   "metadata": {
    "id": "f38fbe97-697f-4eb5-aab1-b28acdf0d6a5",
    "tags": []
   },
   "outputs": [],
   "source": [
    "from utils.ode_tools import slope_field  # Only need to import one time."
   ]
  },
  {
   "cell_type": "markdown",
   "id": "5fedec47-e7f3-4f1f-adac-6a782a1fe775",
   "metadata": {
    "id": "72e16b8c-27bb-4350-87b6-75e5251388db",
    "tags": []
   },
   "source": [
    "## Importing Packages\n",
    "\n",
    "---\n",
    "\n",
    "We need to import two additional use packages in order to plot slope fields with the `slope_field()` function: \n",
    "\n",
    "- <font color=\"dodgerblue\">**NumPy**</font> is a package that is convenient for working with multidimensional arrays (such as vectors and matrices). See [NumPy help documentation](https://numpy.org/doc/stable/user/whatisnumpy.html).\n",
    "- <font color=\"dodgerblue\">**Matplotlib**</font> is a package useful for creating static, animated, and interactive visualizations. See [Matplotlib help documentation](https://numpy.org/doc/stable/user/whatisnumpy.html).\n",
    "    - The `pyplot` subpackage in `matplotlib` that is a great tool in computational math. See [pyplot help documentation](https://matplotlib.org/stable/api/_as_gen/matplotlib.pyplot.html). \n",
    "- You only need to import each package one time during an active session."
   ]
  },
  {
   "cell_type": "code",
   "execution_count": null,
   "id": "ce888a2c-1db9-4847-8e1f-435409d56826",
   "metadata": {},
   "outputs": [],
   "source": [
    "import numpy as np\n",
    "import matplotlib.pyplot as plt"
   ]
  },
  {
   "cell_type": "markdown",
   "id": "699ba436-54c0-4e68-918a-05aa3bd60006",
   "metadata": {
    "id": "72e16b8c-27bb-4350-87b6-75e5251388db",
    "tags": []
   },
   "source": [
    "\n",
    "## Plotting Slope Fields with `slope_field()`\n",
    "\n",
    "---\n",
    "\n",
    "After importing the the packages above, we are ready to create a plot for the slope field of $\\dfrac{dy}{dt}=\\dfrac{t^2y}{4}$.\n",
    "\n",
    "1. Define arrays `t` and `y` to set up the grid where each vector will be plotted. The function `np.linspace(initial, end, number)` creates an array of `number` evenly spaced values between `initial` and `end`. \n",
    "2. Define the differential equation `diffeq(t, y)`. \n",
    "3. Generate the slope field with the command `slope_field(t, y, diffeq)`.\n",
    "\n",
    "See [Quick Reference Guide on How to Use Python Functions for Chapter 1](https://githubtocolab.com/CU-Denver-MathStats-OER/ODEs/blob/main/Chp1/ODE-Tools-Tutorial.ipynb) for more detailed instructions. \n"
   ]
  },
  {
   "cell_type": "code",
   "execution_count": null,
   "id": "c0a775a8-213e-4e8b-8098-7fcdffb22ad8",
   "metadata": {
    "id": "f38fbe97-697f-4eb5-aab1-b28acdf0d6a5"
   },
   "outputs": [],
   "source": [
    "# Set up the grid where each vector will be plotted\n",
    "t = np.linspace(-5, 5, 21)  # picks 21 evenly spaced values between t=-5 and t=5\n",
    "y = np.linspace(-5, 5, 21)  # picks 21 evenly spaced values between y=-5 and y=5\n",
    "\n",
    "# Setup the differential equation\n",
    "def diffeq(t, y):  # t is independent variable and y is dependent variable\n",
    "    return 0.25 * t**2 * y  # enter the formula for dy/dt\n",
    "\n",
    "# Run the slope field plotter\n",
    "slope_field(t, y, diffeq)"
   ]
  },
  {
   "cell_type": "markdown",
   "id": "102795b0-c806-4c60-a6ca-bd6e2871f39f",
   "metadata": {
    "id": "50391ead-43d3-4f6e-98e5-7e59f72d281e"
   },
   "source": [
    "\n",
    "## Plotting a Different Slope Field\n",
    "\n",
    "---\n",
    "\n",
    "Next we use `slope_field()` to generate a plot of the slope corresponding to\n",
    "\n",
    "$$\\color{dodgerblue}{\\frac{dx}{dq} = 4q^2 - x^2}.$$\n",
    "\n",
    "We initially choose to plot the slope field over $-5 \\leq q \\leq 5$ and $-5 \\leq x \\leq 5$. Note when defining `diffeq` and using the `slope_field()` function we can change the letters for the independent and dependent variables to $q$ and $x$, respectively."
   ]
  },
  {
   "cell_type": "code",
   "execution_count": null,
   "id": "b93af8f6-3f08-450a-ba7a-c7e87f76ac11",
   "metadata": {
    "id": "55e56844-9f7c-4e74-baf0-ac5c705c2261"
   },
   "outputs": [],
   "source": [
    "# np.linspace(initial, end, number_values)\n",
    "q = np.linspace(-5, 5, 21)  # pick 21 values from q=-5 to q=5\n",
    "x = np.linspace(-5, 5, 21)  # pick 21 values from x=-5 to x=5\n",
    "\n",
    "# Define a new differential equation\n",
    "def diffeq(q, x):  # q and x are independent and dependent variables\n",
    "    return 4 * q**2 - x**2  # formula for dx/dq"
   ]
  },
  {
   "cell_type": "markdown",
   "id": "2b09c33e-7b31-4513-8121-5fd2d19f8ecf",
   "metadata": {
    "id": "9b188864-4f47-40a9-a4a6-5a608f656ede"
   },
   "source": [
    "\n",
    "### Running `slope_field()`\n",
    "\n",
    "---\n",
    "\n",
    "Now that we have defined the differential equation and indicated where the vectors will be plotted, we can generate a new slope field using `slope_field()`. The code below also changes the color of the vectors from the default color (black) to green."
   ]
  },
  {
   "cell_type": "code",
   "execution_count": null,
   "id": "2449a3aa-286a-4334-a47c-db4d9fd2a9e0",
   "metadata": {
    "id": "bb9b650a-336f-4ee9-af74-49d0399ccc34"
   },
   "outputs": [],
   "source": [
    "slope_field(q, x, diffeq, color='green')"
   ]
  },
  {
   "cell_type": "markdown",
   "id": "1ec636e2-ed39-46a8-ba3c-2cb7e72bc746",
   "metadata": {
    "id": "398de3d6-508c-43cf-ba01-4057fe13cfbd"
   },
   "source": [
    "\n",
    "## <a name='02quest5'>Question 5:</a> \n",
    "\n",
    "----\n",
    "\n",
    "Plot each of the four differential equations whose slope fields were not plotted in [Question 3](#02quest3).\n",
    "\n",
    "\n",
    "### Solution to Question 5:\n",
    "\n",
    "----\n",
    "\n",
    "<br>  \n",
    "<br>  \n",
    "<mark>Replace each ?? in each of the four code cells below to plot each slope field.</mark>\n",
    "<br> \n",
    "<br>"
   ]
  },
  {
   "cell_type": "code",
   "execution_count": null,
   "id": "4f7f69ed-5408-4833-b828-f7a40bef6648",
   "metadata": {
    "id": "391cdf81-e480-4b01-b0b0-d468d395ca2a"
   },
   "outputs": [],
   "source": [
    "# plot missing slope field 1\n",
    "\n",
    "# Define points where vectors will be plotted\n",
    "t = np.linspace(??, ??, ??)  # Independent variable, np.linspace(initial, end, number_values)\n",
    "y = np.linspace(??, ??, ??)  # Dependent variable, np.linspace(initial, end, number_values)\n",
    "\n",
    "# Define the differential equation\n",
    "def diffeq(t, y):  # t is independent variable and y is dependent variable\n",
    "    return ??  # enter the formula for dy/dt\n",
    "\n",
    "# Run the slope field plotter\n",
    "slope_field(t, y, diffeq)"
   ]
  },
  {
   "cell_type": "code",
   "execution_count": null,
   "id": "64282ec2-cb56-4481-b5a6-3bed05de6f80",
   "metadata": {
    "id": "391cdf81-e480-4b01-b0b0-d468d395ca2a"
   },
   "outputs": [],
   "source": [
    "# plot missing slope field 2\n",
    "\n",
    "# Define points where vectors will be plotted\n",
    "t = np.linspace(??, ??, ??)  # Independent variable, np.linspace(initial, end, number_values)\n",
    "y = np.linspace(??, ??, ??)  # Dependent variable, np.linspace(initial, end, number_values)\n",
    "\n",
    "# Define the differential equation\n",
    "def diffeq(t, y):  # t is independent variable and y is dependent variable\n",
    "    return ??  # enter the formula for dy/dt\n",
    "\n",
    "# Run the slope field plotter\n",
    "slope_field(t, y, diffeq)"
   ]
  },
  {
   "cell_type": "code",
   "execution_count": null,
   "id": "4b90fc8d-a1de-437a-8f14-fd5d29b00455",
   "metadata": {
    "id": "391cdf81-e480-4b01-b0b0-d468d395ca2a"
   },
   "outputs": [],
   "source": [
    "# plot missing slope field 3\n",
    "\n",
    "# Define points where vectors will be plotted\n",
    "t = np.linspace(??, ??, ??)  # Independent variable, np.linspace(initial, end, number_values)\n",
    "y = np.linspace(??, ??, ??)  # Dependent variable, np.linspace(initial, end, number_values)\n",
    "\n",
    "# Define the differential equation\n",
    "def diffeq(t, y):  # t is independent variable and y is dependent variable\n",
    "    return ??  # enter the formula for dy/dt\n",
    "\n",
    "# Run the slope field plotter\n",
    "slope_field(t, y, diffeq)"
   ]
  },
  {
   "cell_type": "code",
   "execution_count": null,
   "id": "c6708da2-76df-4d9c-b458-888768e5eb8c",
   "metadata": {
    "id": "391cdf81-e480-4b01-b0b0-d468d395ca2a"
   },
   "outputs": [],
   "source": [
    "# plot missing slope field 4\n",
    "\n",
    "# Define points where vectors will be plotted\n",
    "t = np.linspace(??, ??, ??)  # Independent variable, np.linspace(initial, end, number_values)\n",
    "y = np.linspace(??, ??, ??)  # Dependent variable, np.linspace(initial, end, number_values)\n",
    "\n",
    "# Define the differential equation\n",
    "def diffeq(t, y):  # t is independent variable and y is dependent variable\n",
    "    return ??  # enter the formula for dy/dt\n",
    "\n",
    "# Run the slope field plotter\n",
    "slope_field(t, y, diffeq)"
   ]
  },
  {
   "cell_type": "markdown",
   "id": "7504a33c-9bec-4aa7-ae44-d9628b9c95d9",
   "metadata": {
    "id": "8f330c02-d88b-478b-8cea-8bd4f7937f92"
   },
   "source": [
    "\n",
    "# Adding a Solution to a Slope Field\n",
    "\n",
    "---\n",
    "\n"
   ]
  },
  {
   "cell_type": "markdown",
   "id": "e69bf203-2282-4411-afba-2f7a0669000d",
   "metadata": {
    "id": "8f330c02-d88b-478b-8cea-8bd4f7937f92"
   },
   "source": [
    "\n",
    "## Importing `plot_sol()`\n",
    "\n",
    "---\n",
    "\n",
    "We have seen that slope fields are useful for sketching graphs to approximate solutions that pass through certain points. The arrows should be approximately tangent to the curve we sketch. In addition to the `slope_field()` function we used earlier, the `ode_tools` module defines other functions we will use this semester. **We next import the function `plot_sol()` to plot a slope field as well as the solution that passes through a given point.**"
   ]
  },
  {
   "cell_type": "code",
   "execution_count": null,
   "id": "ca95c2c4-0b68-40cf-bc3f-2de6c4032705",
   "metadata": {},
   "outputs": [],
   "source": [
    "from utils.ode_tools import plot_sol  # Only need to import the function once"
   ]
  },
  {
   "cell_type": "markdown",
   "id": "e273de34-737c-46ac-b816-78ab2f21ca7f",
   "metadata": {
    "id": "8f330c02-d88b-478b-8cea-8bd4f7937f92"
   },
   "source": [
    "\n",
    "## Using the `plot_sol()` Function\n",
    "\n",
    "---\n",
    "\n",
    "After importing the the `plot_sol()` function from `ode_tools` and the NumPy and Matplotlib packages, we are ready to create a plot for the slope field of $\\dfrac{dy}{dt}=\\dfrac{t^2y}{4}$ with the graph of the solution through the point $(-2,2)$.\n",
    "\n",
    "1. Use `np.linspace()` to define arrays `t` and `y` to set up the grid where each vector will be plotted. \n",
    "2. Define the differential equation `diffeq(t, y)`. \n",
    "3. <font color = \"dodgerblue\">Define an initial condition $(t_0, y_0)$.\n",
    "    - The initial value of $t$ stored in the variable named `t0`.\n",
    "    - The initial value of $y$ is stored in the variable named `y0`.</font> \n",
    "4. Generate the slope field with the command `plot_sol(t, y, diffeq, t0, y0)`.\n",
    "\n",
    "See [Quick Reference Guide on How to Use Python Functions for Chapter 1](https://githubtocolab.com/CU-Denver-MathStats-OER/ODEs/blob/main/Chp1/ODE-Tools-Tutorial.ipynb) for more detailed instructions. \n",
    "\n",
    "\n"
   ]
  },
  {
   "cell_type": "code",
   "execution_count": null,
   "id": "1112a6b5-f542-4d37-bcc7-31ba42aed44b",
   "metadata": {
    "id": "1f99a601-c190-4e4b-9e65-b7a13cf14b66"
   },
   "outputs": [],
   "source": [
    "#from utils.ode_tools import plot_sol  # Only need to import the function once\n",
    "\n",
    "# Define points where vectors will be plotted\n",
    "t = np.linspace(-5, 5, 21)  \n",
    "x = np.linspace(-5, 5, 21)\n",
    "\n",
    "# Define the differential equation\n",
    "def diffeq(t, y):  # t is independent variable and y is dependent variable\n",
    "    return 0.25 * t**2 * y  # enter the formula for dy/dt\n",
    "\n",
    "# Enter t0, the initial value of t\n",
    "# Enter y0, the value of y at t0\n",
    "t0 = -2\n",
    "y0 = 2\n",
    "\n",
    "# Run the function to create a plot\n",
    "plot_sol(t, y, diffeq, t0, y0)"
   ]
  },
  {
   "cell_type": "markdown",
   "id": "dd72d6a4-0f4d-4f54-99f4-ff43a2c82fe0",
   "metadata": {
    "id": "7db3914c-bed7-45d9-8b8d-c583c34c4462"
   },
   "source": [
    "\n",
    "## <a name='02quest6'>Question 6:</a> \n",
    "\n",
    "----\n",
    "\n",
    "Use the `plot_sol()` function to create a plot of the slope field and solution passing through the given point.\n",
    "\n",
    "$$\\color{dodgerblue}{\\frac{dx}{dq} = 4q^2 - x^2, \\qquad x(-2)=3}.$$\n",
    "\n",
    "\n",
    "### Solution to Question 6:\n",
    "\n",
    "----\n",
    "\n",
    "<br>  \n",
    "<br>  \n",
    "<mark>Complete the code block below.</mark>\n",
    "<br>  \n",
    "<br>"
   ]
  },
  {
   "cell_type": "code",
   "execution_count": null,
   "id": "5d137dbc-b86b-4b70-8085-4ac5181ef3c0",
   "metadata": {
    "id": "bc880516-baca-40e4-9893-9287a9ce316f"
   },
   "outputs": [],
   "source": [
    "#from utils.ode_tools import plot_sol  # Only need to import the function once\n",
    "\n",
    "# Define points where vectors will be plotted\n",
    "q = np.linspace(??, ??, ??)  \n",
    "x = np.linspace(??, ??, ??)  \n",
    "\n",
    "# Define the differential equation\n",
    "def diffeq(q, x):  # q is independent variable and x is dependent variable\n",
    "    return ??  # enter the formula for dx/dq\n",
    "\n",
    "# Enter q0, the initial value of q\n",
    "# Enter x0, the value of x at q0\n",
    "q0 = ??\n",
    "x0 = ??\n",
    "\n",
    "# Run the function to create a plot\n",
    "plot_sol(q, x, diffeq, q0, x0)"
   ]
  },
  {
   "cell_type": "markdown",
   "id": "e4b01b8d-7f0a-43d7-bd0e-eeb7c0e8259a",
   "metadata": {},
   "source": [
    "\n",
    "# <a name=\"02append\">Appendix: Code for Plots After Question 1</a>\n",
    "\n",
    "---\n",
    "\n",
    "The code cells below generate the figure illustrating the solution to [Question 1](#02quest1)."
   ]
  },
  {
   "cell_type": "code",
   "execution_count": null,
   "id": "e060d5dc-8f8a-4088-8b37-942e5214c926",
   "metadata": {},
   "outputs": [],
   "source": [
    "# import required packages\n",
    "import matplotlib.pyplot as plt\n",
    "import numpy as np\n",
    "from scipy.integrate import odeint, solve_ivp  # numerical ode solver"
   ]
  },
  {
   "cell_type": "code",
   "execution_count": null,
   "id": "df09c610-a902-448f-af1e-503d22ac739d",
   "metadata": {},
   "outputs": [],
   "source": [
    "# Plot 5 vectors in slope field\n",
    "plt.quiver(1, 4, 1, 1, color = 'green')  # Plot vector at (1,4) with slope dy/dt = 1/1 = 1 \n",
    "plt.quiver(2, -2, 1, -2, color = 'blue')  # Plot vector at (2,-2) with slope dy/dt = -2/1 = -2  \n",
    "plt.quiver(-3, -2, 1, -4.5, color = 'blue')  # Plot vector at (-3,-2) with slope dy/dt = -4.5/1 = -4.5 \n",
    "plt.quiver(-2, 1.9, 1, 2, color = 'blue')  # Plot vector at (-2,2) with slope dy/dt = 2/1 = 2 \n",
    "plt.quiver(0, -1, 1, 0, color = 'blue')  # Plot vector at (0,-1) with slope dy/dt = 0/1 = 0 \n",
    "\n",
    "# Set limits on horizontal and vertical axes\n",
    "plt.xlim([-5, 5])\n",
    "plt.ylim([-5, 5])\n",
    "\n",
    "# Label axes\n",
    "plt.xlabel(r\"$t$\", fontsize=14)\n",
    "plt.ylabel(r\"$y$\", fontsize=14)\n",
    "\n",
    "# Add a grid and axes to plot\n",
    "plt.xticks(np.linspace(-5,5,11))\n",
    "plt.yticks(np.linspace(-5,5,11))\n",
    "plt.grid(True, which='both')\n",
    "plt.axvline(x=0, color='black')\n",
    "plt.axhline(y=0, color='black')\n",
    "\n",
    "plt.show()"
   ]
  },
  {
   "cell_type": "code",
   "execution_count": null,
   "id": "69516114-3363-46fe-92ec-ea1601f27d57",
   "metadata": {},
   "outputs": [],
   "source": [
    "# Solutions to diff eq\n",
    "t = np.linspace(-5, 5, 50)  # time interval for solution plots\n",
    "y0 = np.array([0.00011, -0.000030732613, -0.000568])  # initial conditions when t=-5\n",
    "\n",
    "# Define diff eq\n",
    "def model(y, t):  # t is independent variable and y is dependent variable\n",
    "    dydt = 0.25 * t**2 * y  # enter the formula for dy/dt\n",
    "    return dydt\n",
    "\n",
    "# solve the IVP 1\n",
    "sol1 = odeint(model, y0[0], t)\n",
    "# solve the IVP 2\n",
    "sol2 = odeint(model, y0[1], t)\n",
    "# solve the IVP 3\n",
    "sol3 = odeint(model, y0[2], t)"
   ]
  },
  {
   "cell_type": "code",
   "execution_count": null,
   "id": "d1c063fc-650c-465a-9f11-a4d4013e1f5f",
   "metadata": {
    "tags": []
   },
   "outputs": [],
   "source": [
    "# Plot the 3 solutions\n",
    "plt.plot(t, sol1, color='green', linestyle='dashed', linewidth=1.0)\n",
    "plt.plot(t, sol2, color='red', linestyle='dashed', linewidth=1.0)\n",
    "plt.plot(t, sol3, color='purple', linestyle='dashed', linewidth=1.0)\n",
    "\n",
    "# Plot vectors 5 vectors\n",
    "plt.quiver(1, 4, 1, 1, color = 'green')  # plots vector at (1,4) with slope 1/1 = 1 \n",
    "plt.quiver(2, -2, 1, -2, color = 'blue')  # plots vector at (2,-2) with slope -2/1 = -2\n",
    "plt.quiver(-3, -2, 1, -4.5, color = 'blue')  # plots vector at (-3,-2) with slope -4.5/1 = -4.5\n",
    "plt.quiver(-2, 1.9, 1, 2, color = 'blue')  # plots vector at (-2,1.9) with slope 2/1 = 2\n",
    "plt.quiver(0, -1, 1, 0, color = 'blue')  # plots vector at (0,-1) with slope 0/1 = 0\n",
    "\n",
    "# Set limits on x and y axes\n",
    "plt.xlim([-5, 5])\n",
    "plt.ylim([-5, 5])\n",
    "\n",
    "# Label axes\n",
    "plt.xlabel(r\"$t$\", fontsize=14)\n",
    "plt.ylabel(r\"$y$\", fontsize=14)\n",
    "\n",
    "# Add a grid and axes to plot\n",
    "plt.xticks(np.linspace(-5,5,11))\n",
    "plt.yticks(np.linspace(-5,5,11))\n",
    "plt.grid(True, which='both')\n",
    "plt.axvline(x=0, color='black')\n",
    "plt.axhline(y=0, color='black')\n",
    "\n",
    "plt.show()"
   ]
  },
  {
   "cell_type": "code",
   "execution_count": null,
   "id": "811d92d8-c83e-4b9a-ab4b-964c1b358941",
   "metadata": {},
   "outputs": [],
   "source": [
    "fig = plt.figure()\n",
    "\n",
    "# Plot a more complete slope field\n",
    "X, Y = np.meshgrid(np.linspace(-5, 5, 21), np.linspace(-5, 5, 21))\n",
    "U = 1.0\n",
    "V = 0.25 * Y * X ** 2\n",
    "# Normalize arrows\n",
    "N = np.sqrt(U ** 2 + V ** 2)\n",
    "U = U / N\n",
    "V = V / N\n",
    "plt.quiver(X, Y, U, V, angles=\"xy\")\n",
    "\n",
    "# Plot 3 solutions\n",
    "plt.plot(t, sol1, color='green', linewidth=1.5)\n",
    "plt.plot(t, sol2, color='red', linewidth=1.5)\n",
    "plt.plot(t, sol3, color='purple', linewidth=1.5)\n",
    "\n",
    "\n",
    "# Plot 5 vectors\n",
    "plt.quiver(1, 4, 1, 1, color = 'blue')  # plots vector at (1,4) with slope 1/1 = 1 \n",
    "plt.quiver(2, -2, 1, -2, color = 'blue')  # plots vector at (2,-2) with slope -2/1 = -2\n",
    "plt.quiver(-3, -2, 1, -4.5, color = 'blue')  # plots vector at (-3,-2) with slope -4.5/1 = -4.5\n",
    "plt.quiver(-2, 1.9, 1, 2, color = 'blue')  # plots vector at (-2,1.9) with slope 2/1 = 2\n",
    "plt.quiver(0, -1, 1, 0, color = 'blue')  # plots vector at (0,-1) with slope 0/1 = 0\n",
    "\n",
    "# Add a grid and axes to plot\n",
    "plt.xticks(np.linspace(-5,5,11))\n",
    "plt.yticks(np.linspace(-5,5,11))\n",
    "plt.grid(True, which='both')\n",
    "plt.axvline(x=0, color='black')\n",
    "plt.axhline(y=0, color='black')\n",
    "\n",
    "plt.xlim([-5, 5])\n",
    "plt.ylim([-5, 5])\n",
    "plt.xlabel(r\"$t$\")\n",
    "plt.ylabel(r\"$y$\")"
   ]
  },
  {
   "cell_type": "markdown",
   "id": "6a5b3804-3ede-4196-9678-c0a2031ceba6",
   "metadata": {
    "id": "6a5b3804-3ede-4196-9678-c0a2031ceba6"
   },
   "source": [
    "# Creative Commons License Information\n",
    "---\n",
    "\n",
    "<a rel=\"license\" href=\"https://creativecommons.org/licenses/by-nc-sa/4.0/\"><img alt=\"Creative Commons License\" style=\"border-width:0\" src=\"https://i.creativecommons.org/l/by-nc-sa/4.0/80x15.png\" /></a><br /><span xmlns:dct=\"http://purl.org/dc/terms/\" property=\"dct:title\">*Exploring Differential Equations*</span> by <a xmlns:cc=\"http://creativecommons.org/ns#\" href=\"https://github.com/CU-Denver-MathStats-OER/ODEs\" property=\"cc:attributionName\" rel=\"cc:attributionURL\">Adam Spiegler</a> is licensed under a <a rel=\"license\" href=\"http://creativecommons.org/licenses/by-nc-sa/4.0/\">Creative Commons Attribution-NonCommercial-ShareAlike 4.0 International License</a>.<br />Based on a work at <a xmlns:dct=\"http://purl.org/dc/terms/\" href=\"https://github.com/CU-Denver-MathStats-OER/ODEs\" rel=\"dct:source\">https://github.com/CU-Denver-MathStats-OER/ODEs</a> and original content created by Rasmussen, C., Keene, K. A., Dunmyre, J., & Fortune, N. (2018). *Inquiry oriented differential equations: Course materials*. Available at <a href=\"https://iode.sdsu.edu\">https://iode.sdsu.edu</a>."
   ]
  }
 ],
 "metadata": {
  "colab": {
   "collapsed_sections": [],
   "name": "02-Slope-Fields.ipynb",
   "provenance": []
  },
  "kernelspec": {
   "display_name": "Python 3 (ipykernel)",
   "language": "python",
   "name": "python3"
  },
  "language_info": {
   "codemirror_mode": {
    "name": "ipython",
    "version": 3
   },
   "file_extension": ".py",
   "mimetype": "text/x-python",
   "name": "python",
   "nbconvert_exporter": "python",
   "pygments_lexer": "ipython3",
   "version": "3.9.13"
  }
 },
 "nbformat": 4,
 "nbformat_minor": 5
}
