{
 "cells": [
  {
   "cell_type": "markdown",
   "id": "218c5f43",
   "metadata": {},
   "source": [
    "# Introduction to the Laplace Transform\n",
    "---\n",
    "\n",
    "One of the basic problem solving techniques in mathematics is to \n",
    "\n",
    " - transform a difficult problem into an easier one, \n",
    " - solve the easier problem, and \n",
    " - then use its solution to obtain a solution of the original problem.\n",
    "\n",
    "For example, the reverse product rule (method of integrating factor) is used to transform a linear first order differential equation into an easier problem we can solve. In this chapter we study the method of ***Laplace transforms***, which is one example of this technique. Like the method of integrating factors, Laplace transforms are ***integral operators***. Solving by the method of Laplace transforms: \n",
    "\n",
    " - Can be used to solve higher order linear differential equations. \n",
    " - Can be applied for more complicated forcing functions. \n",
    " - Requires initial conditions. "
   ]
  },
  {
   "cell_type": "markdown",
   "id": "f04b7576",
   "metadata": {},
   "source": [
    "The ***improper integral*** of $g$ over $\\lbrack a , \\infty )$ is defined as\n",
    "\n",
    "$$ \\int_a^{\\infty} g(t) \\ dt = \\lim_{N \\to \\infty} \\int_a^N g(t) \\ dt.$$\n",
    "\n",
    " - We say the improper integral ***converges*** if the limit exists.\n",
    " - Otherwise we say the improper integral ***diverges***.\n",
    "\n",
    "## <a name='20quest1'>Question 1:</a>\n",
    "---\n",
    "\n",
    "Determine whether $\\displaystyle \\int_0^{\\infty} e^{-2t} \\ dt$ converges or diverges.\n",
    "\n",
    "### Solution to Question 1:\n",
    "---\n",
    "\n",
    "<br> <br> <br> <br> <br> <br>"
   ]
  },
  {
   "cell_type": "markdown",
   "id": "d37fb18d",
   "metadata": {},
   "source": [
    "# Definition of the  Laplace Transform\n",
    "---\n",
    "\n",
    "Let $f(t)$ be a function on $\\lbrack 0 , \\infty )$. The ***Laplace transform*** of $f$ is the function $F$ defined by\n",
    "\n",
    "$$ \\mathcal{L} \\left\\{ f \\right\\} = F(s) = \\int_0^{\\infty} e^{-st}f(t) \\ dt .$$\n",
    "\n",
    " - The domain of $F(s)$ is all values of $s$ for which the integral converges.\n",
    " - The functions $f$ and $F$ form a \\textbf{transform pair}.\n",
    "\n",
    "## <a name='20quest2'>Question 2:</a>\n",
    "---\n",
    "\n",
    "Find and state the domain of the Laplace transform $F(s)=\\mathcal{L} \\left\\{ f(t) \\right\\}$.\n",
    " \n",
    "a. $f(t) = 2$, $t \\geq 0$ <a id =\"20quest2a\"></a>\n",
    "\n",
    "### Solution to Question 1a:\n",
    "---\n",
    "\n",
    "<br> <br> <br> <br> <br> <br>\n",
    " \n",
    "b. $f(t) = t$ <a id =\"20quest2b\"></a>\n",
    "\n",
    "### Solution to Question 1b:\n",
    "---\n",
    "\n",
    "<br> <br> <br> <br> <br> <br>\n",
    " \n",
    "c. $f(t) = e^{3t}$ <a id =\"20quest2c\"></a>\n",
    "\n",
    "### Solution to Question 1c:\n",
    "---\n",
    "\n",
    "<br> <br> <br> <br> <br> <br>\n",
    " \n",
    "\n",
    "d.  $g(t) = \\cos{(bt)}$ where $b \\ne 0$ is a constant. <a id =\"20quest2d\"></a>\n",
    "\n",
    "### Solution to Question 1d:\n",
    "---\n",
    "\n",
    "<br> <br> <br> <br> <br> <br>\n",
    "\n",
    "e. $\\displaystyle f(t) = \\left\\{ \\begin{array}{ll} \n",
    "5 \\ \\ & 0 < t < 2 \\\\\n",
    "e^{8t} \\ \\ & t >2 \\end{array} \\right.$ <a id =\"20quest2e\"></a>\n",
    "\n",
    "### Solution to Question 1e:\n",
    "---\n",
    "\n",
    "<br> <br> <br> <br> <br> <br>\n",
    " \n"
   ]
  },
  {
   "cell_type": "markdown",
   "id": "48ba1982",
   "metadata": {},
   "source": [
    "# Common Laplace Transforms\n",
    "---\n",
    "\n",
    "| $$f(t)$$                      | $$F(s) = \\mathcal{L} \\left\\{ f(t) \\right\\}$$         |\n",
    "|:-|:-|\n",
    "| $$f(t)=1$$                    | $$F(s)=\\frac{1}{s}, \\ s > 0$$          |\n",
    "| $$f(t)=e^{at}$$               | $$F(s) = \\frac{1}{s-a}, \\ s > a$$      |\n",
    "| $$f(t)=t^n, \\ n=1,2, \\ldots$$ | $$F(s) = \\frac{n!}{s^{n+1}}, \\ s > 0$$ |\n",
    "| $$f(t)=\\sin{(bt)}$$           | $$F(s) = \\frac{b}{s^2+b^2}, \\ s > 0$$  |\n",
    "| $$f(t)=\\cos{(bt)}$$           | $$F(s) = \\frac{s}{s^2+b^2}, \\ s > 0$$  |\n"
   ]
  },
  {
   "cell_type": "markdown",
   "id": "3606cbc0-cbe2-49bb-b8d1-29410f1e7946",
   "metadata": {},
   "source": [
    "## Creative Commons License Information\n",
    "<a rel=\"license\" href=\"https://creativecommons.org/licenses/by-nc-sa/4.0/\"><img alt=\"Creative Commons License\" style=\"border-width:0\" src=\"https://i.creativecommons.org/l/by-nc-sa/4.0/80x15.png\" /></a><br /><span xmlns:dct=\"http://purl.org/dc/terms/\" property=\"dct:title\">Elementary Differential Equations</span> by <a xmlns:cc=\"http://creativecommons.org/ns#\" href=\"https://github.com/CU-Denver-MathStats-OER/ODEs\" property=\"cc:attributionName\" rel=\"cc:attributionURL\">Adam Spiegler, Jonathon Hirschi, and Dmitry Ostrovskiy</a> is licensed under a <a rel=\"license\" href=\"http://creativecommons.org/licenses/by-nc-sa/4.0/\">Creative Commons Attribution-NonCommercial-ShareAlike 4.0 International License</a>.<br />Based on a work at <a xmlns:dct=\"http://purl.org/dc/terms/\" href=\"https://github.com/CU-Denver-MathStats-OER/ODEs\" rel=\"dct:source\">https://github.com/CU-Denver-MathStats-OER/ODEs</a> and original content created by Rasmussen, C., Keene, K. A., Dunmyre, J., & Fortune, N. (2018). *Inquiry oriented differential equations: Course materials*. Available at <a href=\"https://iode.wordpress.ncsu.edu\">https://iode.wordpress.ncsu.edu</a>."
   ]
  }
 ],
 "metadata": {
  "kernelspec": {
   "display_name": "Python 3 (ipykernel)",
   "language": "python",
   "name": "python3"
  },
  "language_info": {
   "codemirror_mode": {
    "name": "ipython",
    "version": 3
   },
   "file_extension": ".py",
   "mimetype": "text/x-python",
   "name": "python",
   "nbconvert_exporter": "python",
   "pygments_lexer": "ipython3",
   "version": "3.9.7"
  },
  "toc-autonumbering": false,
  "toc-showmarkdowntxt": false,
  "toc-showtags": false
 },
 "nbformat": 4,
 "nbformat_minor": 5
}
