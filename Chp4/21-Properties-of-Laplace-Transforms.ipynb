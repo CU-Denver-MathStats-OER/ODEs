{
 "cells": [
  {
   "cell_type": "markdown",
   "id": "be73d740-d112-4805-ae35-1beb97cc925a",
   "metadata": {},
   "source": [
    "[![Open In Colab](https://colab.research.google.com/assets/colab-badge.svg)](https://githubtocolab.com/CU-Denver-MathStats-OER/ODEs/blob/main/Chp4/21-Properties-of-Laplace-Transforms.ipynb)\n"
   ]
  },
  {
   "cell_type": "markdown",
   "id": "a9e055e7-708a-44a6-a343-3d0a3debd53f",
   "metadata": {},
   "source": [
    "# Lab 4.2: Properties of the Laplace Transform\n",
    "---\n",
    "\n",
    "<font color=\"dodgerblue\">Reading: *Notes on Diffy Q's* Section 6.1 Part A and Section 6.2</font>\n",
    "\n",
    "\n",
    "Recall in the materials for [Worksheet 20 Introduction to Laplace Transforms](https://githubtocolab.com/CU-Denver-MathStats-OER/ODEs/blob/main/Chp4/20-Introduction-to-Laplace-Transforms.ipynb) we used the definition of the Laplace transform,\n",
    "\n",
    "$$\\Large{\\color{dodgerblue}{ \\mathscr{L} \\left\\{ f \\right\\} = F(s) = \\int_0^{\\infty} e^{-st}f(t) \\ dt}},$$\n",
    "\n",
    "to find the Laplace transform of some common functions. For example, we showed that:\n",
    "\n",
    "- $\\mathscr{L} \\left\\{ t \\right\\} = \\dfrac{1}{s^2}$ for $s > 0$.\n",
    "- $\\mathscr{L} \\left\\{ e^{at} \\right\\} = \\dfrac{1}{s-a}$ for $s > a$.\n",
    "\n",
    "In this worksheet, **we will explore some properties that Laplace transforms** statisfy that will allow us to use what we know already know about $\\mathscr{L} \\left\\{ t \\right\\}$ and $\\mathscr{L} \\left\\{ e^{at} \\right\\}$ to evaluate Laplace transforms such as:\n",
    "\n",
    "- $\\large {\\color{dodgerblue}{\\mathscr{L} \\left\\{ t + e^{at} \\right\\} = \\mbox{??}}}$\n",
    "\n",
    "- $\\large {\\color{dodgerblue}{\\mathscr{L} \\left\\{ te^{at} \\right\\} =\\mbox{??}}}$\n"
   ]
  },
  {
   "cell_type": "markdown",
   "id": "13607936-35c0-4580-a884-fc495e9a474c",
   "metadata": {},
   "source": [
    "# Properties of a Linear Transform\n",
    "---"
   ]
  },
  {
   "cell_type": "markdown",
   "id": "61c51654-db33-4734-91c5-dfc23e77e06e",
   "metadata": {},
   "source": [
    "## <a name='21quest1'>Question 1:</a>\n",
    "---\n",
    "\n",
    "Let $f$, $f_1$, and $f_2$ be functions whose Laplace transform exists for $s > \\alpha$ and let $c$ be a constant. Then for $s > \\alpha$, prove the properties in parts a and b. More generally, a transformation that satistfies the two properties below is a <font color=\"dodgerblue\">**linear transform**</font>.\n",
    "\n",
    "<a id =\"21quest2a\">a.</a> $\\color{dodgerblue}{\\large \\mathscr{L} \\left\\{ f_1 + f_2 \\right\\} = \\mathscr{L} \\left\\{ f_1 \\right\\} + \\mathscr{L} \\left\\{ f_2 \\right\\}}$. \n",
    "\n",
    "### Solution to Question 1a:\n",
    "---\n",
    "\n",
    "<br> <br> <br> <br> <br> <br>\n",
    "\n",
    "<a id =\"20quest2b\">b.</a> $\\color{dodgerblue}{\\large \\mathscr{L} \\left\\{ cf \\right\\} = c \\mathscr{L} \\left\\{ f \\right\\}}$. \n",
    "\n",
    "### Solution to Question 1b:\n",
    "---\n",
    "\n",
    "<br> <br> <br> <br> <br> <br>"
   ]
  },
  {
   "cell_type": "markdown",
   "id": "b46ebc01-f44d-4725-8ead-8dde4e490e52",
   "metadata": {},
   "source": [
    "# Shifting Property: Laplace Transform of  $g(t)=e^{at}f(t)$\n",
    "---"
   ]
  },
  {
   "cell_type": "markdown",
   "id": "c7cf2e11-496f-4015-9eb3-4686917b9f57",
   "metadata": {},
   "source": [
    "## <a name='21quest2'>Question 2:</a>\n",
    "---\n",
    "\n",
    "If the Laplace transform $\\mathscr{L}\\{ f(t) \\} =F(s)$ exist for $s > \\alpha$, then show that\n",
    "\n",
    "$$\\color{dodgerblue}{\\large \\mathscr{L}\\{ e^{at}f(t) \\}= F(s-a), \\ \\ \\mbox{for } s > \\alpha + a}.$$ \n",
    "\n",
    "### Solution to Question 2:\n",
    "---\n",
    "\n",
    "<br> <br> <br> <br> <br> <br>"
   ]
  },
  {
   "cell_type": "markdown",
   "id": "7b0d674d-765d-4084-bd70-c6bc96a94152",
   "metadata": {},
   "source": [
    "## <a name='21quest3'>Question 3:</a>\n",
    "---\n",
    "\n",
    "Using the [shifting property from Problem 2](#21quest2) and the fact that $\\mathscr{L} \\{ \\cos{(bt)} \\} = \\dfrac{s}{s^2+b^2}$ for $s >0$, find $\\color{dodgerblue}{\\large \\mathscr{L} \\left\\{ e^{at} \\cos{(bt)} \\right\\}}$.\n",
    "\n",
    "### Solution to Question 3:\n",
    "---\n",
    "\n",
    "<br> <br> <br> <br> <br> <br>"
   ]
  },
  {
   "cell_type": "markdown",
   "id": "5de9523c-b9c2-4116-94a3-727c6b653406",
   "metadata": {},
   "source": [
    "## <a name = \"21PythonLaplace\">Revisiting Laplace Transforms with `SymPy`</a>\n",
    "---\n",
    "\n",
    "In [Worksheet 20 Introduction to Laplace Transforms](https://githubtocolab.com/CU-Denver-MathStats-OER/ODEs/blob/main/Chp4/20-Introduction-to-Laplace-Transforms.ipynb) we used the `SymPy` library in Python to help verify and check our work with Laplace transforms. \n",
    "\n",
    "1. Run the first code cell below to create a Laplace transform function.\n",
    "2. Then run the second code cell to check your previous answer."
   ]
  },
  {
   "cell_type": "code",
   "execution_count": null,
   "id": "87ab0c99-8f93-4131-888a-b2485193b5fb",
   "metadata": {},
   "outputs": [],
   "source": [
    "import sympy as sym\n",
    "from sympy.abc import s,t\n",
    "\n",
    "a = sym.symbols('a', real=True, nonzero=True)\n",
    "b = sym.symbols('b', real=True, nonzero=True)\n",
    "\n",
    "def L(f):\n",
    "    return sym.laplace_transform(f, t, s, noconds=True)"
   ]
  },
  {
   "cell_type": "code",
   "execution_count": null,
   "id": "61efb1cb-a07d-4aba-9a38-50c0f1aafdcb",
   "metadata": {},
   "outputs": [],
   "source": [
    "f = sym.exp(a*t) *  sym.cos(b*t)  # define your function with respect to t\n",
    "\n",
    "L(f)"
   ]
  },
  {
   "cell_type": "markdown",
   "id": "41604d6f-c471-45f5-b732-8bc400b04023",
   "metadata": {},
   "source": [
    "# Laplace Transform of Derivatives \n",
    "---\n",
    "\n",
    "A function is of <font color = \"dodgerblue\">**exponential order $\\alpha$**</font> if there exists positive constants $C$ and $T$ such that\n",
    "\n",
    "$$\\color{dodgerblue}{\\large \\left| f(t) \\right| < Ce^{\\alpha t} \\ \\ \\mbox{for all } t > T}.$$\n",
    "\n",
    "For example:\n",
    "\n",
    " - $f(t) = \\cos{(5t)}e^{7t}$ has exponential order $\\alpha = 7$.\n",
    " - $f(t)=e^{t^2}$ does not have an exponential order."
   ]
  },
  {
   "cell_type": "markdown",
   "id": "006be9cc-0213-415b-9740-09c2dd47fa39",
   "metadata": {},
   "source": [
    "## <a name='21quest4'>Question 4:</a>\n",
    "---\n",
    "\n",
    "If $f(t)$ is continuous on $\\lbrack 0, \\infty )$ and $f'(t)$ is piecewise continuous on $\\lbrack 0, \\infty )$ with\n",
    "both exponential order $\\alpha$, then prove for $s > \\alpha$,\n",
    "\n",
    "$$\\color{dodgerblue}{\\large \\mathscr{L} \\left\\{ f'(t) \\right\\} = s \\mathscr{L} \\left\\{ f(t) \\right\\} - f(0) = sF(s)-f(0)}.$$ \n",
    "\n",
    "### Solution to Question 4:\n",
    "---\n",
    "\n",
    "<br> <br> <br> <br> <br> <br>"
   ]
  },
  {
   "cell_type": "markdown",
   "id": "d257cf7e-1a5b-47b8-88be-96e529144127",
   "metadata": {},
   "source": [
    "## <a name='21quest5'>Question 5:</a>\n",
    "---\n",
    "\n",
    "Using the property from [Problem 4](#21quest4) and the fact that $\\mathscr{L} \\left\\{ \\cos{(bt)} \\right\\} = \\frac{s}{s^2+b^2}$ for $s >0$, find $\\color{dodgerblue}{\\large \\mathscr{L} \\left\\{ \\sin{(bt)} \\right\\}}$. \n",
    "\n",
    "Then check your answer using the Laplace transform function `L(f)` defined in [Revisiting Laplace Transforms with `SymPy`](#21PythonLaplace).\n",
    "\n",
    "### Solution to Question 5:\n",
    "---\n",
    "\n",
    "<br> <br> <br> <mark> After using the properties, verify your result using the code cell below.</mark> <br> <br> <br>"
   ]
  },
  {
   "cell_type": "code",
   "execution_count": null,
   "id": "52401018-9c08-46f3-819c-1e02597bf448",
   "metadata": {},
   "outputs": [],
   "source": [
    "#############################################################\n",
    "# STUDENT TO DO: \n",
    "# Replace the ?? with an approrpriate expression\n",
    "# Be sure you have already created the L(f) fucntion\n",
    "#############################################################\n",
    "\n",
    "f = ??  # define your function with respect to t\n",
    "\n",
    "L(f)"
   ]
  },
  {
   "cell_type": "markdown",
   "id": "757c1c33-9ae6-4b92-9b17-81670d41b0c1",
   "metadata": {},
   "source": [
    "## <a name='21quest6'>Question 6:</a>\n",
    "---\n",
    "\n",
    "If $\\mathscr{L} \\left\\{ f(t) \\right\\} = F(s)$ for all $s > \\alpha$, using the property from [Problem 4](#21quest4), show that\n",
    "\n",
    "$$\\color{dodgerblue}{\\large \\mathscr{L} \\left\\{ f''(t) \\right\\} =s^2F(s)-sf(0)-f'(0) \\quad \\mbox{for all } s > \\alpha .}$$\n",
    "\n",
    "### Solution to Question 6:\n",
    "---\n",
    "\n",
    "<br> <br> <br> <br> <br> <br>"
   ]
  },
  {
   "cell_type": "markdown",
   "id": "7d8f60aa-b626-42a2-ba06-b84eb00ea930",
   "metadata": {},
   "source": [
    "## <font color = \"mediumseagreen\"><a name='21quest7'>Optional Proof Practice: Question 7</a></font>\n",
    "---\n",
    "\n",
    "<font color = \"mediumseagreen\">Using <font color=\"dodgerblue\">**induction**</font> show that</font>\n",
    "\n",
    "$$\\color{dodgerblue}{\\large \\mathscr{L} \\left\\{ f^{(n)} \\right\\} = s^n \\mathscr{L} \\left\\{ f \\right\\} - s^{n-1} f(0) - s^{n-2} f'(0) - \\ldots - f^{(n-1)}(0).}$$\n",
    "\n",
    "### <font color = \"mediumseagreen\">Solution to Question 7:</font>\n",
    "---\n",
    "\n",
    "    \n",
    "<br> <br> <br> <br> <br> <br>"
   ]
  },
  {
   "cell_type": "markdown",
   "id": "ef2c964d-5bd0-48b9-9cf1-b553b1153677",
   "metadata": {},
   "source": [
    "## <font color=\"mediumseagreen\"><a name='21quest8'>Optional Proof Practice: Question 8</a></font>\n",
    "---\n",
    "\n",
    "<font color = \"mediumseagreen\">Let $F(s) = \\mathscr{L} \\left\\{ f \\right\\}$ and assume $f(t)$ is piecewise continuous on $\\lbrack 0, \\infty )$ and of exponential order $\\alpha$.\n",
    "Prove that for $s > \\alpha$ if follows that</font>\n",
    "\n",
    "$$\\color{dodgerblue}{\\large \\mathscr{L} \\left\\{ t^nf(t) \\right\\} = (-1)^n \\frac{d^nF}{ds^n}.}$$\n",
    "\n",
    "### <font color = \"mediumseagreen\">Solution to Question 8:</font>\n",
    "---\n",
    "\n",
    "<br> <br> <br> <br> <br> <br>"
   ]
  },
  {
   "cell_type": "markdown",
   "id": "adc97bd3-d6f4-4b75-8308-96bf976f0210",
   "metadata": {},
   "source": [
    "## <a name='21quest9'>Question 9:</a>\n",
    "---\n",
    "\n",
    "Using the definition of the Laplace transform, the result that $\\mathscr{L} \\left\\{ e^{at} \\right\\} = \\dfrac{1}{s-a}$ for $s>a$ and the property above, find a formula for  $\\color{dodgerblue}{\\large \\mathscr{L} \\left\\{ t^n e^{at} \\right\\}}$. \n",
    "\n",
    "Then check your answer using the Laplace transform function `L(f)` defined in [Revisiting Laplace Transforms with `SymPy`](#21PythonLaplace).\n",
    "\n",
    "\n",
    "### Solution to Question 9:\n",
    "---\n",
    "\n",
    "<br> <br> <br> \n",
    "<mark> After using the properties, verify your result using the code cell below.</mark>\n",
    "<br> <br> <br>"
   ]
  },
  {
   "cell_type": "code",
   "execution_count": null,
   "id": "1208b7b2-e76a-4b91-8a36-8f12e57ee425",
   "metadata": {},
   "outputs": [],
   "source": [
    "#############################################################\n",
    "# STUDENT TO DO: \n",
    "# Replace the ?? with an approrpriate expression\n",
    "# Be sure you have already created the L(f) fucntion\n",
    "#############################################################\n",
    "\n",
    "n = sym.symbols('n', integer=True, positive=True)\n",
    "\n",
    "f = ??  # define your function with respect to t\n",
    "\n",
    "L(f)"
   ]
  },
  {
   "cell_type": "markdown",
   "id": "d9a23d39",
   "metadata": {},
   "source": [
    "# <a name='21LaplaceTable'>Common Laplace Transforms</a>\n",
    "---\n",
    "\n",
    "Below is a table of updated table of common Laplace transforms pairs. \n",
    "\n",
    "| $\\displaystyle \\large f(t)$ | $\\displaystyle \\large F(s) = \\mathscr{L} \\left\\{ f(t) \\right\\}$ |\n",
    "|-----------------------------|-----------------------------------------------------------------|\n",
    "| $\\displaystyle \\large f(t)=1$ | $\\displaystyle \\large F(s)=\\frac{1}{s}, \\ s > 0$ |\n",
    "| $\\displaystyle\\large f(t)=e^{at}$ | $\\displaystyle \\large F(s) = \\frac{1}{s-a}, \\ s > a$ |\n",
    "| $\\displaystyle \\large f(t)=t^n, \\ n=1,2, \\ldots$ | $\\displaystyle \\large F(s) = \\frac{n!}{s^{n+1}}, \\ s > 0$ |\n",
    "| $\\displaystyle \\large f(t)=\\sin{(bt)}$ | $\\displaystyle \\large F(s) = \\frac{b}{s^2+b^2}, \\ s > 0$ |\n",
    "| $\\displaystyle \\large f(t)=\\cos{(bt)}$ | $\\displaystyle \\large F(s) = \\frac{s}{s^2+b^2}, \\ s > 0$ |\n",
    "| $\\displaystyle \\large e^{at}t^n, \\ n=1,2, \\ldots$ | $\\displaystyle \\large F(s) = \\frac{n!}{(s-a)^{n+1}}, \\ s > a$ |\n",
    "| $\\displaystyle \\large e^{at}\\sin{(bt)}$ | $\\displaystyle \\large F(s) = \\frac{b}{(s-a)^2+b^2}, \\ s > a$ |\n",
    "| $\\displaystyle \\large e^{at}\\cos{(bt)}$ | $\\displaystyle \\large F(s) = \\frac{s-a}{(s-a)^2+b^2}, \\ s > a$ |"
   ]
  },
  {
   "cell_type": "markdown",
   "id": "57c2ea68",
   "metadata": {},
   "source": [
    "# <a name='21PropTable'>Properties of Laplace Transforms</a>\n",
    "---\n",
    "\n",
    "\n",
    "<a name='21Prop1'>1.</a> $\\color{dodgerblue}{\\mathscr{L} \\left\\{ cf(t) \\right\\} = c  \\mathscr{L} \\left\\{ f(t) \\right\\}}$, where $c$ is a constant. See [Problem 1b](#21quest1).\n",
    "\n",
    "<a name='21Prop2'>2.</a> $\\color{dodgerblue}{\\mathscr{L} \\left\\{ f_1(t) + f_2(t) \\right\\} = \\mathscr{L} \\left\\{ f_1(t) \\right\\} + \\mathscr{L} \\left\\{ f_2(t)\\right\\}}$. See [Problem 1a](#21quest1).\n",
    "\n",
    "<a name='21Prop3'>3.</a> If $F(s) = \\mathscr{L} \\left\\{ f(t) \\right\\}$ exists for all $s > \\alpha$, then $\\color{dodgerblue}{\\displaystyle \\mathscr{L} \\left\\{ e^{at} f(t) \\right\\} = F(s-a)}$ for all $s>\\alpha + a$.  See [Problem 2](#21quest2).\n",
    "\n",
    "<a name='21Prop4'>4.</a> If $F(s) =\\mathscr{L} \\left\\{ f(t) \\right\\}$ exists for all $s > \\alpha$, then for all $s>\\alpha$ (see [Problem 7](#21quest7)),\n",
    "\n",
    "$$\\color{dodgerblue}{\\mathscr{L} \\left\\{ f^{(n)}(t) \\right\\} = s^n \\mathscr{L} \\{ f(t) \\}-s^{n-1} f(0)- s^{n-2} f'(0) - \\ldots - f^{(n-1)}(0)}.$$ \n",
    "\n",
    "<a name='21Prop5'>5.</a> If $F(s) =\\mathscr{L} \\left\\{ f(t) \\right\\}$ exists for all $s > \\alpha$, then (see [Problem 8](#21quest8))\n",
    "\n",
    "$$\\color{dodgerblue}{\\mathscr{L} \\left\\{ t^n f(t) \\right\\} = (-1)^n \\frac{d^nF}{ds^n} \\mbox{ for all } s > \\alpha}.$$\n"
   ]
  },
  {
   "cell_type": "markdown",
   "id": "3606cbc0-cbe2-49bb-b8d1-29410f1e7946",
   "metadata": {},
   "source": [
    "## Creative Commons License Information\n",
    "<a rel=\"license\" href=\"https://creativecommons.org/licenses/by-nc-sa/4.0/\"><img alt=\"Creative Commons License\" style=\"border-width:0\" src=\"https://i.creativecommons.org/l/by-nc-sa/4.0/80x15.png\" /></a><br /><span xmlns:dct=\"http://purl.org/dc/terms/\" property=\"dct:title\">*Exploring Differential Equations*</span> by <a xmlns:cc=\"http://creativecommons.org/ns#\" href=\"https://github.com/CU-Denver-MathStats-OER/ODEs\" property=\"cc:attributionName\" rel=\"cc:attributionURL\">Adam Spiegler</a> is licensed under a <a rel=\"license\" href=\"http://creativecommons.org/licenses/by-nc-sa/4.0/\">Creative Commons Attribution-NonCommercial-ShareAlike 4.0 International License</a>.<br />Based on a work at <a xmlns:dct=\"http://purl.org/dc/terms/\" href=\"https://github.com/CU-Denver-MathStats-OER/ODEs\" rel=\"dct:source\">https://github.com/CU-Denver-MathStats-OER/ODEs</a> and original content created by Rasmussen, C., Keene, K. A., Dunmyre, J., & Fortune, N. (2018). *Inquiry oriented differential equations: Course materials*. Available at <a href=\"https://iode.sdsu.edu\">https://iode.sdsu.edu</a>."
   ]
  }
 ],
 "metadata": {
  "kernelspec": {
   "display_name": "Python 3",
   "language": "python",
   "name": "python3"
  },
  "language_info": {
   "codemirror_mode": {
    "name": "ipython",
    "version": 3
   },
   "file_extension": ".py",
   "mimetype": "text/x-python",
   "name": "python",
   "nbconvert_exporter": "python",
   "pygments_lexer": "ipython3",
   "version": "3.8.8"
  },
  "toc-autonumbering": false,
  "toc-showmarkdowntxt": false,
  "toc-showtags": false
 },
 "nbformat": 4,
 "nbformat_minor": 5
}
