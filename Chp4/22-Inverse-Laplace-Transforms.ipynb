{
 "cells": [
  {
   "cell_type": "markdown",
   "id": "65586736-1dde-4530-9742-90de12cc65da",
   "metadata": {},
   "source": [
    "[![Open In Colab](https://colab.research.google.com/assets/colab-badge.svg)](https://githubtocolab.com/CU-Denver-MathStats-OER/ODEs/blob/main/Chp4/22-Inverse-Laplace-Transforms.ipynb)\n"
   ]
  },
  {
   "cell_type": "markdown",
   "id": "57ffd558-1ce2-4335-a010-5afccc451ba3",
   "metadata": {},
   "source": [
    "# Lab 4.3: Inverse Laplace Transforms\n",
    "---\n",
    "\n",
    "<font color=\"dodgerblue\">Reading: *Notes on Diffy Q's* Section 6.1 Part B</font>\n",
    "\n"
   ]
  },
  {
   "cell_type": "markdown",
   "id": "4b08b7d9-b58f-4d35-9941-4201bc222213",
   "metadata": {},
   "source": [
    "## Inverses, What Are They Good For?\n",
    "---\n",
    "\n",
    "When analyzing a differential equation, it is important to *read* and *interpret* the differential equation in practical terms when the variables represent physical quantities. For example, let $s(t)$ denotes the position (measured in cm. from its initial position) of a particle $t$ seconds from now. If the particle's position is modeled by the differential equation\n",
    "\n",
    "$$s' - 200\\sin{t} = 0 \\qquad s(0) = 0,$$\n",
    "\n",
    "then we know the particle's velocity is oscillating over time. \n",
    "\n",
    "- Initially the particle is at rest ($s'(0)=0$).\n",
    "- Then the particle moves to the right ($s'(t) > 0$).\n",
    "- The particle stops at $t=\\frac{\\pi}{2}$ seconds, and turns around.\n",
    "- The particle then moves to the left (when $s'(t) < 0$) for a bit before turning around at $t=\\pi$ seconds\n",
    "- And so on.\n",
    "\n",
    "\n",
    "Let $y=s(t)$ denote the position of a particle at time $t$. We can find its velocity by applying the derivative, which maps a function to its rate of change.\n",
    "\n",
    "In the case of the differential equation above, we would like to go in the opposite direction. Given a formula for the derivative $s'$, we would like to find its corresponding position $s(t)$. To solve the differential equation, we can:\n",
    "\n",
    "1. Apply the **inverse operation (integration)** to both sides. \n",
    "\n",
    "$$ \\int (s'(t) - 200\\sin{t}) \\, dt  = \\int 0 \\, dt \\quad \\longrightarrow \\quad s(t) + 200 \\cos{t} = C$$\n",
    "\n",
    "2. Then solve for $s(t)$ using the initial position and algebra.\n",
    "\n",
    "$$s(t) = -200 \\cos{t} + 200$$\n",
    "\n",
    "Similar to the derivative, the Laplace transform is a mapping of one function $f(t)$ to another function, its Laplace transform $\\color{dodgerblue}{F(s)= \\mathscr{L} \\left\\{ f \\right\\}}$. In [Worksheet 23 (the next worksheet)](https://githubtocolab.com/CU-Denver-MathStats-OER/ODEs/blob/main/Chp4/23-Solving-IVP-with-Laplace-Transforms.ipynb), we will explore how Laplace transforms help us solve differential equations. Before focusing our efforts back on differential equations, in this notebook we will practice transforming functions in the opposite direction with the  <font color=\"dodgerblue\">**inverse Laplace transform**</font>."
   ]
  },
  {
   "cell_type": "markdown",
   "id": "67bebc03-124b-44b8-9998-b8cebbf90b8f",
   "metadata": {},
   "source": [
    "## Reviewing the Laplace Transform\n",
    "---\n",
    "\n",
    "So far we have explored Laplace transforms in [Worksheet 20](https://githubtocolan.com/CU-Denver-MathStats-OER/ODEs/blob/main/Chp4/20-Introduction-to-Laplace-Transforms.ipynb) and some useful properties of Laplace transforms in [Worksheet 21](https://githubtocolab.com/CU-Denver-MathStats-OER/ODEs/blob/main/Chp4/21-Properties-of-Laplace-Transforms.ipynb). The main results of these investigations are summarized in [Appendix A](#22LaplaceTable) and [Appendix B](#22PropTable).\n",
    "\n",
    "Before defining the inverse Laplace transform and applying this concept to solve differential equations, let's first refresh ourselves of key properties of the Laplace transform that will be particularly useful when solving differential equations.\n",
    "\n",
    "For example, [Property 1](#22Prop1) and [Property 2](#22Prop2) tell us that the Laplace transform is a <font color=\"dodgerblue\">**linear transform**</font>,\n",
    "\n",
    "$$\\color{dodgerblue}{\\mathscr{L} \\left\\{ c_1 f_1(t) + c_2 f_2(t) \\right\\} = c_1 \\mathscr{L} \\left\\{ f_1(t) \\right\\} + c_2 \\mathscr{L} \\left\\{ f_2(t) \\right\\}}.$$\n"
   ]
  },
  {
   "cell_type": "markdown",
   "id": "71095c3f-b674-4b7e-8a40-a1ec5f583408",
   "metadata": {},
   "source": [
    "## <a name='22quest1'>Question 1:</a> \n",
    "---\n",
    "\n",
    "\n",
    "Describe properties [3](#22Prop3) and [5](#22Prop5) in practical terms.\n",
    "\n",
    "\n",
    "### Solution to Question 1:\n",
    "---\n",
    "\n",
    "[Property 3](#22Prop3) : Multiplying $f(t)$ by $e^{at}$ and then taking the Laplace transform has what kind of effect on $\\mathscr{L} \\left\\{ f(t) \\right\\}$?\n",
    "   \n",
    "<br> <br> \n",
    "<mark>Explain in practicel terms. For example, $\\mathscr{L} \\left\\{ e^{at} f(t) \\right\\}$ can be described as a transformation (shift, compression, and/or reflection) of $F(s)=\\mathscr{L} \\left\\{ f(t) \\right\\}$.</mark>\n",
    "<br> <br> <br> <br>\n",
    "\n",
    "[Property 5](#22Prop5) : Multiplying $f(t)$ by $t^n$ and then taking the Laplace transform has what kind of effect on $\\mathscr{L} \\left\\{ f(t) \\right\\}$?\n",
    "   \n",
    "<br> <br> \n",
    "<mark>Explain in practicel terms. For example, $\\mathscr{L} \\left\\{ t^n f(t) \\right\\}$ is equal to applying what operation(s) to $F(s)=\\mathscr{L} \\left\\{ f(t) \\right\\}$.</mark>\n",
    "<br> <br> <br> <br>"
   ]
  },
  {
   "cell_type": "markdown",
   "id": "78edabf5-6b3b-46a6-9611-ead9f074b1d4",
   "metadata": {},
   "source": [
    "# Solving Differential Equations with Laplace Transforms\n",
    "---\n",
    "\n",
    "One of the basic problem solving techniques in mathematics is to \n",
    "\n",
    " - <font color=\"dodgerblue\">transform a difficult problem into an easier one,</font>\n",
    " - <font color='tomato'>solve the easier problem,</font> and \n",
    " - <font color='mediumseagreen'>then use its solution to obtain a solution of the original problem.</font>\n",
    "\n",
    "\n",
    "Let's apply this technique to differential equations by applying the following steps:\n",
    "\n",
    "<font color=\"dodgerblue\">Step 1: Apply the Laplace transform of both sides of the differential equation.</font>\n",
    "\n",
    "- This transforms the differential equation to an algebraic equation.\n",
    "\n",
    "<font color='tomato'>Step 2: Rearrange and group like terms to solve for $\\mathscr{L}\\{y(t)\\}=Y(s)$.</font>\n",
    "\n",
    "- Solving an algebraic equation is generally easier than a differential equation.\n",
    "\n",
    "<font color='mediumseagreen'>Step 3: Take the inverse Laplace transform and solve for $y(t) = \\mathscr{L}^{-1}\\{Y(x) \\}$.</font>\n",
    "\n",
    "- Undo the first step by applying the inverse Laplace transform to obtain a solution to the original differential equation.\n",
    "\n",
    "\n",
    "<mark>Before we focus our attention on the inverse Laplace transform in Step 3, let's first demonstrate how this three step process can be put into practice with the example in [Problem 2](#22quest2) below.</mark>"
   ]
  },
  {
   "cell_type": "markdown",
   "id": "a0d77ec6-45c2-4de0-b9e1-15c28975d63b",
   "metadata": {},
   "source": [
    "## <a name='22quest2'>Question 2:</a>\n",
    "---\n",
    "\n",
    "Solve $y''-y=-t$ with $y(0)=0$ and $y'(0)=1$. \n",
    "\n",
    "<mark>Note in [Step 3](#22quest2c), we will apply the **inverse Laplace transform** to $Y(s)$ in order to identify $y(t) = \\mathscr{L}^{-1} \\{ Y(s) \\}$.</mark>"
   ]
  },
  {
   "cell_type": "markdown",
   "id": "6125745d-aaef-4ea5-9fdc-32d79c36650c",
   "metadata": {},
   "source": [
    "### <a id =\"22quest2a\">**Question 2 Step 1:**</a> \n",
    "---\n",
    "\n",
    "Using the [properties](#22PropTable), apply the Laplace transform to both sides: \n",
    "\n",
    "$$ \\mathscr{L} \\{ y'' -y \\} = \\mathscr{L} \\{ -t \\} .$$ \n",
    "\n",
    "#### Solution to Question 2 Step 1:\n",
    "---\n",
    "\n",
    "<br> <br> <br> <br> "
   ]
  },
  {
   "cell_type": "markdown",
   "id": "8155a347-668f-4dce-8bfe-38f33bb9f809",
   "metadata": {},
   "source": [
    "### <a id =\"22quest2b\">**Question 2 Step 2:**</a> \n",
    "---\n",
    "\n",
    "Using your result from [Step 1](#22quest2a), solve for $\\mathscr{L} \\{ y(t) \\}=Y(s)$.\n",
    "\n",
    "#### Solution to Question 2 Step 2:\n",
    "---\n",
    "\n",
    "<br> <br> <br> <br> "
   ]
  },
  {
   "cell_type": "markdown",
   "id": "4b4a7fe6-cf3d-4f30-89f5-2a75929acb66",
   "metadata": {},
   "source": [
    "### <a id =\"22quest2c\">**Question 2 Step 3:**</a> \n",
    "---\n",
    "\n",
    "Use the [table of common Laplace transforms](#22LaplaceTable) to identify a function $y(t)$ that has $\\mathscr{L} \\{ y(t) \\}=Y(s)$.\n",
    "\n",
    "#### Solution to Question 2 Step 3:\n",
    "---\n",
    "\n",
    "<br> <br> <br> <br> "
   ]
  },
  {
   "cell_type": "markdown",
   "id": "439b39da-4c42-41dc-b6c3-a3e6afe38a4f",
   "metadata": {},
   "source": [
    "# The Inverse Laplace Transform\n",
    "---\n",
    "\n",
    "Given $F(s)$, if there is a function $f(t)$ that is continuous on $\\lbrack 0 , \\infty )$ and satisfies $\\mathscr{L} \\{ f \\} = F(s)$, then\n",
    "we say $f(t)$ is the <font color=\"dodgerblue\">**inverse Laplace transform**</font> of $F(s)$ which is denoted by\n",
    "\n",
    "$$\\color{dodgerblue}{\\large f(t) = \\mathscr{L}^{-1} \\{ F(s) \\} }.$$"
   ]
  },
  {
   "cell_type": "markdown",
   "id": "df19b53e-e1fe-4420-996c-f57a939f79fc",
   "metadata": {},
   "source": [
    "## <a name='22quest3'>Question 3:</a>\n",
    "---\n",
    "\n",
    "In parts (a)-(d), find the inverse Laplace transform of the function $F(s)$. \n",
    "\n",
    "*Hint: First decide whether $f(t)$ is of the form $t^n$, $\\cos{(bt)}$, $\\sin{(bt)}$, or $e^{at}$.*"
   ]
  },
  {
   "cell_type": "markdown",
   "id": "26ff2f46-3e16-4b0a-ab90-732bd3b762ee",
   "metadata": {},
   "source": [
    "### Question 3a:\n",
    "---\n",
    "\n",
    "$\\displaystyle F(s) = \\frac{1}{s^2}$\n",
    "\n",
    "#### Solution to Question 3a:\n",
    "---\n",
    "\n",
    "<br> <br> <br> <br> "
   ]
  },
  {
   "cell_type": "markdown",
   "id": "bba0096d-539b-4f3a-9789-9c14cb8b2510",
   "metadata": {},
   "source": [
    "### Question 3b:\n",
    "---\n",
    "\n",
    "$\\displaystyle F(s) = \\frac{2}{s^2+4}$\n",
    "\n",
    "#### Solution to Question 3b:\n",
    "---\n",
    "\n",
    "<br> <br> <br> <br>"
   ]
  },
  {
   "cell_type": "markdown",
   "id": "d344e8b1-5ae6-4c0e-adfb-4abcb0f21ba3",
   "metadata": {},
   "source": [
    "### Question 3c:\n",
    "---\n",
    "\n",
    "$\\displaystyle F(s) = \\frac{4s}{s^2+9}$\n",
    "\n",
    "#### Solution to Question 3c:\n",
    "---\n",
    "\n",
    "<br> <br> <br> <br>"
   ]
  },
  {
   "cell_type": "markdown",
   "id": "7d5529a6-09fc-4d4e-8dc9-5da9c37f6443",
   "metadata": {},
   "source": [
    "### Question 3d: \n",
    "---\n",
    "\n",
    "$\\displaystyle F(s) = \\frac{2}{s+6}$ \n",
    "\n",
    "#### Solution to Question 3d:\n",
    "---\n",
    "\n",
    "<br> <br> <br> <br>\n",
    "  "
   ]
  },
  {
   "cell_type": "markdown",
   "id": "524a2fe7-eb07-4098-952a-1d1c77067bef",
   "metadata": {},
   "source": [
    "# <a name='22InvL'>Inverse Laplace Transforms with `SymPy`</a>\n",
    "---\n",
    "\n",
    "We can use the `sympy.inverse_laplace_transform(F,s,t)` function from the `SymPy` library to check our work.\n",
    "\n",
    "- `sympy.laplace_transform_(F,s,t)`.\n",
    "    - We use `s` as the variable in the resulting transform $F(s)$.\n",
    "    - We use `t` as the variable in $f(t)$.\n",
    "    - The function will return the inverse Laplace transform (if it exists) $f(t)$.\n",
    "- For a review of Laplace transforms using `sympy.laplace_transform()`, see the section on [Computing Laplace Transforms in Python](20-Introduction-to-Laplace-Transforms.ipynb#20LaplacePython) from Worksheet 20.\n",
    "\n",
    "Below are a couple of additional resources for help with Laplace transforms with `SymPy`.\n",
    "\n",
    "- For more examples with `sympy.inverse_laplace_transform_()`, [here's a good resource](https://dynamics-and-control.readthedocs.io/en/latest/1_Dynamics/3_Linear_systems/Laplace%20transforms.html)\n",
    "- For official documentation, see [SymPy Doc](https://docs.sympy.org/latest/modules/integrals/integrals.html)"
   ]
  },
  {
   "cell_type": "code",
   "execution_count": null,
   "id": "b1c7d954-65d3-4000-9888-027e99e180ed",
   "metadata": {},
   "outputs": [],
   "source": [
    "import sympy as sym\n",
    "from sympy.abc import s,t\n",
    "\n",
    "# Just run this code cell. Do Not Edit.\n",
    "\n",
    "# Define the Laplace transform function\n",
    "def L(f):\n",
    "    return sym.laplace_transform(f, t, s)\n",
    "\n",
    "# Define the inverse Laplace transform function\n",
    "def invL(F):\n",
    "    return sym.inverse_laplace_transform(F, s, t)"
   ]
  },
  {
   "cell_type": "markdown",
   "id": "4294e597-f61c-4da7-91c5-ef7c10deb1d1",
   "metadata": {},
   "source": [
    "## <a name='22quest4'>Question 4:</a>\n",
    "---\n",
    "\n",
    "Using the inverse Laplace transform function `invL(F)` to verify your answers in [Problem 3](#22quest3). Below are the formulas from parts (a)-(d) from [Problem 3](#22quest3)\n",
    "\n",
    "a. $\\displaystyle F(s) = \\frac{1}{s^2}$\n",
    "\n",
    "b. $\\displaystyle F(s) = \\frac{2}{s^2+4}$\n",
    "\n",
    "c. $\\displaystyle F(s) = \\frac{4s}{s^2+9}$\n",
    "\n",
    "d. $\\displaystyle F(s) = \\frac{2}{s+6}$ \n",
    "\n",
    "<br>\n",
    "\n",
    "### Solution to Question 4:\n",
    "---\n",
    "\n",
    "<mark> In each of the four code cells below, replace the `??` in the code cell below with an appropriate expression to verify your each of your four answers to each part of [Problem 3](#22quest3). Be sure you have run the previous code cell to define `invL(F)` before trying to run the code cells below.</mark>\n",
    "<br> <br>"
   ]
  },
  {
   "cell_type": "markdown",
   "id": "18816a61-f889-48b5-9d97-172fd571e052",
   "metadata": {},
   "source": [
    "#### Solution to Question 4a:\n",
    "---\n"
   ]
  },
  {
   "cell_type": "code",
   "execution_count": null,
   "id": "b6297f58-c34f-4391-8bb1-9cf95929152b",
   "metadata": {},
   "outputs": [],
   "source": [
    "#############################################################\n",
    "# STUDENT TO DO: \n",
    "# Replace the ?? with an approrpriate expression\n",
    "#############################################################\n",
    "\n",
    "F = ??  # define your function with respect to s\n",
    "\n",
    "invL(F)"
   ]
  },
  {
   "cell_type": "markdown",
   "id": "836f07ab-118a-4f8e-9c1a-c18b5f3794c9",
   "metadata": {},
   "source": [
    "#### Solution to Question 4b:\n",
    "---\n"
   ]
  },
  {
   "cell_type": "code",
   "execution_count": null,
   "id": "2803d60d-2e94-4469-8a0b-f30385aa6263",
   "metadata": {},
   "outputs": [],
   "source": [
    "#############################################################\n",
    "# STUDENT TO DO: \n",
    "# Replace the ?? with an approrpriate expression\n",
    "#############################################################\n",
    "\n",
    "F = ??  # define your function with respect to s\n",
    "\n",
    "invL(F)"
   ]
  },
  {
   "cell_type": "markdown",
   "id": "09110779-a61d-47ad-ac08-28abcd924bf3",
   "metadata": {},
   "source": [
    "#### Solution to Question 4c:\n",
    "---\n"
   ]
  },
  {
   "cell_type": "code",
   "execution_count": null,
   "id": "fbdab79d-5d9b-4f74-b547-cf3400c443e2",
   "metadata": {},
   "outputs": [],
   "source": [
    "#############################################################\n",
    "# STUDENT TO DO: \n",
    "# Replace the ?? with an approrpriate expression\n",
    "#############################################################\n",
    "\n",
    "F = ??  # define your function with respect to s\n",
    "\n",
    "invL(F)"
   ]
  },
  {
   "cell_type": "markdown",
   "id": "6182a8e8-7ca5-4dd5-b0af-dcfb82703414",
   "metadata": {},
   "source": [
    "#### Solution to Question 4d:\n",
    "---\n"
   ]
  },
  {
   "cell_type": "code",
   "execution_count": null,
   "id": "40ccacd5-650b-43f1-bf33-fb625172e478",
   "metadata": {},
   "outputs": [],
   "source": [
    "#############################################################\n",
    "# STUDENT TO DO: \n",
    "# Replace the ?? with an approrpriate expression\n",
    "#############################################################\n",
    "\n",
    "F = ??  # define your function with respect to s\n",
    "\n",
    "invL(F)"
   ]
  },
  {
   "cell_type": "markdown",
   "id": "70a2497a-20b9-481a-800c-784407eccfe1",
   "metadata": {},
   "source": [
    "## What's the Deal with $\\theta(t)$?\n",
    "---\n",
    "\n",
    "The <font color=\"dodgerblue\">**Heaviside function**</font> is denoted by $\\theta(t)$ in the output above. The Heaviside function is defined by\n",
    "\n",
    "$$\\color{dodgerblue}{\\large \\theta(t) = \\left\\{ \\begin{array}{ll}\n",
    "0, & t < 0 \\\\\n",
    "1, & t \\geq 0 \n",
    "\\end{array} \\right.}$$\n",
    "\n",
    "Run the code cell below to plot the graph of the Heaviside funtion."
   ]
  },
  {
   "cell_type": "code",
   "execution_count": null,
   "id": "25da6a45-18e6-4e12-acce-e237500d27de",
   "metadata": {},
   "outputs": [],
   "source": [
    "sym.plot(sym.Heaviside(t));"
   ]
  },
  {
   "cell_type": "markdown",
   "id": "a8f71189-0d4a-4d45-a3fa-150f80692ee8",
   "metadata": {},
   "source": [
    "## Heaviside Function and Inverse Laplace Transforms\n",
    "---\n",
    "\n",
    "The Heaviside function can be thought of as a signal that switches a function on by default at time $t=0$. $\\theta(t)$ is useful when expressing inverse Laplace transforms since we only consider the (forward) Laplace transform of $f(t)$ on the domain $t \\geq 0$. \n",
    "\n",
    "For conciseness, we typically write $\\mathscr{L}^{-1} \\left\\{ \\frac{2}{s+6} \\right\\} = 2e^{-6t}$ which has domain $(-\\infty, \\infty)$.\n",
    "\n",
    "- However, we only consider $\\mathscr{L} \\left\\{ 2e^{-6t} \\right\\}$ on the interval $t \\leq 0$.\n",
    "- Thus, $f(t) = \\mathscr{L}^{-1} \\left\\{ F(s) \\right\\}$ should only be considered over the interval $t \\geq 0$.\n",
    "- We can mulitply by the Heaviside function to \"turn the function on\" at $t=0$.\n",
    "\n",
    "$$\\color{dodgerblue}{\\large f(t) \\theta(t) = \\left\\{ \\begin{array}{ll}\n",
    "0, & t < 0 \\\\\n",
    "2e^{-6t}, & t \\geq 0 \n",
    "\\end{array} \\right.}$$\n",
    "\n",
    "**For conciseness, when typing or writing inverse Laplace transform we simply write $\\mathbf{f(t) = 2e^{-6t}}$, and do not also write that the function is $0$ when $t <0$.**\n",
    "\n",
    "<mark>Run the code cell below to plot the graph of $y=2e^{-6t}\\theta(t)$.</mark>"
   ]
  },
  {
   "cell_type": "code",
   "execution_count": null,
   "id": "107c2198-9f6b-4521-a35d-14f3cc83784e",
   "metadata": {},
   "outputs": [],
   "source": [
    "# Modified from \n",
    "# https://dynamics-and-control.readthedocs.io/en/latest/1_Dynamics/3_Linear_systems/Laplace%20transforms.html\n",
    "\n",
    "a = sym.symbols('a')\n",
    "\n",
    "F = 2/(s + 6)\n",
    "f = 2*sym.exp(-6*t)\n",
    "\n",
    "p = sym.plot(f.subs({a: 0}), invL(F).subs({a: 0}),\n",
    "               xlim=(-0.5, 1), ylim=(0, 3), show=False)\n",
    "p[1].line_color = 'red'\n",
    "p.show()"
   ]
  },
  {
   "cell_type": "markdown",
   "id": "c6be8d9a-5064-41a5-bddb-4ef30cd574fd",
   "metadata": {},
   "source": [
    "## <a name='22quest5'>Question 5:</a>\n",
    "---\n",
    "\n",
    "Find the inverse Laplace transform of $\\displaystyle F(s) = \\frac{s+2}{s^2+4s+11}$ by answering the questions below.  "
   ]
  },
  {
   "cell_type": "markdown",
   "id": "60c1e736-b9aa-4681-ae87-a4241b532cc8",
   "metadata": {},
   "source": [
    "### Question 5a: \n",
    "---\n",
    "\n",
    "Complete the square for the expression in the denominator of $F(s)$ to find possible values for $a$ and $b$ such that $s^2+4s+11=(s-a)^2+b$.\n",
    "\n",
    "#### Solution to Question 5a:\n",
    "---\n",
    "\n",
    "<br> <br> <br> <br> "
   ]
  },
  {
   "cell_type": "markdown",
   "id": "e8ee34d9-70e8-4f15-bfc9-ff7cb8039582",
   "metadata": {},
   "source": [
    "### Question 5b:\n",
    "---\n",
    "\n",
    "Use the [table of common Laplace transforms](#22LaplaceTable) to identify $\\mathscr{L}^{-1} \\{ F(s)\\}$.\n",
    "\n",
    "#### Solution to Question 5b:\n",
    "---\n",
    "\n",
    "<br> <br> <br> <br> "
   ]
  },
  {
   "cell_type": "markdown",
   "id": "66a38f8a-4eea-47dd-8812-b5e2b875e4da",
   "metadata": {},
   "source": [
    "## <a name='22quest6'>Question 6:</a>\n",
    "---\n",
    "\n",
    "Using the inverse Laplace transform function `invL(F)` to verify your answer in [Problem 5](#22quest5).\n",
    "\n",
    "### Solution to Question 6:\n",
    "---\n",
    "\n",
    "\n",
    "<mark>Replace the `??` in the code cell below with an appropriate expression to check your previous answer. </mark>\n",
    "\n",
    "<br> <br>\n"
   ]
  },
  {
   "cell_type": "code",
   "execution_count": null,
   "id": "5450ea5e-8ee9-4a85-9508-352677e902c8",
   "metadata": {},
   "outputs": [],
   "source": [
    "#############################################################\n",
    "# STUDENT TO DO: \n",
    "# Replace the ?? with an approrpriate expression\n",
    "#############################################################\n",
    "\n",
    "F = ??  # define your function with respect to s\n",
    "\n",
    "invL(F)"
   ]
  },
  {
   "cell_type": "markdown",
   "id": "03726aaa-afdb-498f-98a9-f80a1d88b041",
   "metadata": {},
   "source": [
    "## <a name='22quest7'>Question 7:</a>\n",
    "---\n",
    "\n",
    "Find the inverse Laplace transform of $\\displaystyle F(s) = \\frac{5s-10}{s^2-3s-4}$.\n",
    "\n",
    "### Solution to Question 7:\n",
    "---\n",
    "\n",
    "<br> <br> <br> <br>"
   ]
  },
  {
   "cell_type": "markdown",
   "id": "b7ca3433-1c9c-4785-bf5f-3544921f3541",
   "metadata": {},
   "source": [
    "## <a name='22quest8'>Question 8:</a>\n",
    "---\n",
    "\n",
    "Find the inverse Laplace transform of $\\displaystyle F(s) = \\frac{3s-15}{2s^2-4s+10}$.\n",
    "\n",
    "### Solution to Question 8:\n",
    "---\n",
    "\n",
    "<br> <br> <br> <br>\n",
    " "
   ]
  },
  {
   "cell_type": "markdown",
   "id": "5ae486a5-cbea-49a3-93e9-f7f5e798afd1",
   "metadata": {},
   "source": [
    "## <a name='22quest9'>Question 9:</a>\n",
    "---\n",
    "\n",
    "Find the inverse Laplace transform of $\\displaystyle F(s) = \\frac{-5s-36}{(s+2)(s^2+9)}$.\n",
    "\n",
    "### Solution to Question 9:\n",
    "---\n",
    "\n",
    "<br> <br> <br> <br> "
   ]
  },
  {
   "cell_type": "markdown",
   "id": "d46eec5e-0ae2-484c-8b08-d83e6e17fad4",
   "metadata": {},
   "source": [
    "## <a name='22quest10'>Question 10:</a>\n",
    "---\n",
    "\n",
    "Using the inverse Laplace transform function `invL(F)` to verify your answers in [Problem 7](#22quest7), [Problem 8](#22quest8), and [Problem 9](#22quest9).\n",
    "\n",
    "### Solution to Question 10:\n",
    "---\n",
    "\n",
    "<br> <br>\n",
    "<mark>Replace the `??` in each of the three code cells below with an appropriate expression to check your previous answers. </mark>\n",
    "<br> <br>\n"
   ]
  },
  {
   "cell_type": "markdown",
   "id": "7fb9bbae-ebbf-4ad7-bf4e-93ac11540330",
   "metadata": {},
   "source": [
    "#### Solution to Question 10a: Checking Solution to Question 7\n",
    "---\n",
    "\n",
    "Find the inverse Laplace transform of $\\displaystyle F(s) = \\frac{5s-10}{s^2-3s-4}$.\n"
   ]
  },
  {
   "cell_type": "code",
   "execution_count": null,
   "id": "ce8ba510-95f6-4796-ae44-ef5509dd097d",
   "metadata": {},
   "outputs": [],
   "source": [
    "#############################################################\n",
    "# STUDENT TO DO: \n",
    "# Replace the ?? with an approrpriate expression\n",
    "#############################################################\n",
    "\n",
    "F = ??  # define your function with respect to s\n",
    "\n",
    "invL(F)"
   ]
  },
  {
   "cell_type": "markdown",
   "id": "24c9a9ae-2c35-405b-8abe-e393b3670972",
   "metadata": {},
   "source": [
    "#### Solution to Question 10b: Checking Solution to Question 8\n",
    "---\n",
    "\n",
    "Find the inverse Laplace transform of $\\displaystyle F(s) = \\frac{3s-15}{2s^2-4s+10}$.\n"
   ]
  },
  {
   "cell_type": "code",
   "execution_count": null,
   "id": "66f61e23-9086-41dd-9d8b-49e0db7043ac",
   "metadata": {},
   "outputs": [],
   "source": [
    "#############################################################\n",
    "# STUDENT TO DO: \n",
    "# Replace the ?? with an approrpriate expression\n",
    "#############################################################\n",
    "\n",
    "F = ??  # define your function with respect to s\n",
    "\n",
    "invL(F)"
   ]
  },
  {
   "cell_type": "markdown",
   "id": "1530e075-3884-4d9b-99eb-0abb458d12d9",
   "metadata": {},
   "source": [
    "#### Solution to Question 10c: Checking Solution to Question 9\n",
    "---\n",
    "\n",
    "Find the inverse Laplace transform of $\\displaystyle F(s) = \\frac{-5s-36}{(s+2)(s^2+9)}$.\n"
   ]
  },
  {
   "cell_type": "code",
   "execution_count": null,
   "id": "c18608a7-9cf4-4ee6-bff2-387ad02ed897",
   "metadata": {},
   "outputs": [],
   "source": [
    "#############################################################\n",
    "# STUDENT TO DO: \n",
    "# Replace the ?? with an approrpriate expression\n",
    "#############################################################\n",
    "\n",
    "F = ??  # define your function with respect to s\n",
    "\n",
    "invL(F)"
   ]
  },
  {
   "cell_type": "markdown",
   "id": "529c9eb2-1674-414e-b413-168c46b129fb",
   "metadata": {},
   "source": [
    "# Appendix A: <a name='22LaplaceTable'>Common Laplace Transforms</a>\n",
    "---\n",
    "\n",
    "\n",
    "| $\\displaystyle \\large f(t)$ | $\\displaystyle \\large F(s) = \\mathscr{L} \\left\\{ f(t) \\right\\}$ |\n",
    "|-----------------------------|-----------------------------------------------------------------|\n",
    "| $\\displaystyle \\large f(t)=1$ | $\\displaystyle \\large F(s)=\\frac{1}{s}, \\ s > 0$ |\n",
    "| $\\displaystyle\\large f(t)=e^{at}$ | $\\displaystyle \\large F(s) = \\frac{1}{s-a}, \\ s > a$ |\n",
    "| $\\displaystyle \\large f(t)=t^n, \\ n=1,2, \\ldots$ | $\\displaystyle \\large F(s) = \\frac{n!}{s^{n+1}}, \\ s > 0$ |\n",
    "| $\\displaystyle \\large f(t)=\\sin{(bt)}$ | $\\displaystyle \\large F(s) = \\frac{b}{s^2+b^2}, \\ s > 0$ |\n",
    "| $\\displaystyle \\large f(t)=\\cos{(bt)}$ | $\\displaystyle \\large F(s) = \\frac{s}{s^2+b^2}, \\ s > 0$ |\n",
    "| $\\displaystyle \\large e^{at}t^n, \\ n=1,2, \\ldots$ | $\\displaystyle \\large F(s) = \\frac{n!}{(s-a)^{n+1}}, \\ s > a$ |\n",
    "| $\\displaystyle \\large e^{at}\\sin{(bt)}$ | $\\displaystyle \\large F(s) = \\frac{b}{(s-a)^2+b^2}, \\ s > a$ |\n",
    "| $\\displaystyle \\large e^{at}\\cos{(bt)}$ | $\\displaystyle \\large F(s) = \\frac{s-a}{(s-a)^2+b^2}, \\ s > a$ |"
   ]
  },
  {
   "cell_type": "markdown",
   "id": "9dd00da7-a518-4e18-bb9c-05e42c21c83d",
   "metadata": {},
   "source": [
    "# Appendix B: <a name='22PropTable'>Properties of Laplace Transforms</a>\n",
    "---\n",
    "\n",
    "\n",
    "<a name='22Prop1'>1.</a> $\\color{dodgerblue}{\\mathscr{L} \\left\\{ cf(t) \\right\\} = c  \\mathscr{L} \\left\\{ f(t) \\right\\}}$, where $c$ is a constant.\n",
    "\n",
    "<a name='22Prop2'>2.</a> $\\color{dodgerblue}{\\mathscr{L} \\left\\{ f_1(t) + f_2(t) \\right\\} = \\mathscr{L} \\left\\{ f_1(t) \\right\\} + \\mathscr{L} \\left\\{ f_2(t)\\right\\}}$.\n",
    "\n",
    "<a name='22Prop3'>3.</a> If $F(s) = \\mathscr{L} \\left\\{ f(t) \\right\\}$ exists for all $s > \\alpha$, then $\\color{dodgerblue}{\\displaystyle \\mathscr{L} \\left\\{ e^{at} f(t) \\right\\} = F(s-a)}$ for all $s>\\alpha + a$. \n",
    "\n",
    "<a name='22Prop4'>4.</a> If $F(s) =\\mathscr{L} \\left\\{ f(t) \\right\\}$ exists for all $s > \\alpha$, then for all $s>\\alpha$,\n",
    "\n",
    "$$\\color{dodgerblue}{\\mathscr{L} \\left\\{ f^{(n)}(t) \\right\\} = s^n \\mathscr{L} \\{ f(t) \\}-s^{n-1} f(0)- s^{n-2} f'(0) - \\ldots - f^{(n-1)}(0)}.$$ \n",
    "\n",
    "<a name='22Prop5'>5.</a> If $F(s) =\\mathscr{L} \\left\\{ f(t) \\right\\}$ exists for all $s > \\alpha$, then \n",
    "\n",
    "$$\\color{dodgerblue}{\\mathscr{L} \\left\\{ t^n f(t) \\right\\} = (-1)^n \\frac{d^nF}{ds^n} \\mbox{ for all } s > \\alpha}.$$\n"
   ]
  },
  {
   "cell_type": "markdown",
   "id": "3606cbc0-cbe2-49bb-b8d1-29410f1e7946",
   "metadata": {},
   "source": [
    "## Creative Commons License Information\n",
    "<a rel=\"license\" href=\"https://creativecommons.org/licenses/by-nc-sa/4.0/\"><img alt=\"Creative Commons License\" style=\"border-width:0\" src=\"https://i.creativecommons.org/l/by-nc-sa/4.0/80x15.png\" /></a><br /><span xmlns:dct=\"http://purl.org/dc/terms/\" property=\"dct:title\">Elementary Differential Equations</span> by <a xmlns:cc=\"http://creativecommons.org/ns#\" href=\"https://github.com/CU-Denver-MathStats-OER/ODEs\" property=\"cc:attributionName\" rel=\"cc:attributionURL\">Adam Spiegler, Jonathon Hirschi, and Dmitry Ostrovskiy</a> is licensed under a <a rel=\"license\" href=\"http://creativecommons.org/licenses/by-nc-sa/4.0/\">Creative Commons Attribution-NonCommercial-ShareAlike 4.0 International License</a>.<br />Based on a work at <a xmlns:dct=\"http://purl.org/dc/terms/\" href=\"https://github.com/CU-Denver-MathStats-OER/ODEs\" rel=\"dct:source\">https://github.com/CU-Denver-MathStats-OER/ODEs</a> and original content created by Rasmussen, C., Keene, K. A., Dunmyre, J., & Fortune, N. (2018). *Inquiry oriented differential equations: Course materials*. Available at <a href=\"https://iode.wordpress.ncsu.edu\">https://iode.wordpress.ncsu.edu</a>."
   ]
  }
 ],
 "metadata": {
  "kernelspec": {
   "display_name": "Python 3 (ipykernel)",
   "language": "python",
   "name": "python3"
  },
  "language_info": {
   "codemirror_mode": {
    "name": "ipython",
    "version": 3
   },
   "file_extension": ".py",
   "mimetype": "text/x-python",
   "name": "python",
   "nbconvert_exporter": "python",
   "pygments_lexer": "ipython3",
   "version": "3.9.13"
  },
  "toc-autonumbering": false,
  "toc-showmarkdowntxt": false,
  "toc-showtags": false
 },
 "nbformat": 4,
 "nbformat_minor": 5
}
