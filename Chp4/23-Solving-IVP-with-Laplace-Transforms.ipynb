{
 "cells": [
  {
   "cell_type": "markdown",
   "id": "14f5f18a",
   "metadata": {},
   "source": [
    "# Common Laplace Transforms and Properties\n",
    "---\n",
    "\n",
    "| $$f(t)$$                       | $$F(s) = \\mathcal{L} \\left\\{ f(t) \\right\\}$$         |\n",
    "|:-|:-|\n",
    "| $$f(t)=1$$                     | $$F(s)=\\frac{1}{s}, \\ s > 0$$          |\n",
    "| $$f(t)=e^{at}$$                | $$F(s) = \\frac{1}{s-a}, \\ s > a$$      |\n",
    "| $$f(t)=t^n, \\ n=1,2, \\ldots$$  | $$F(s) = \\frac{n!}{s^{n+1}}, \\ s > 0$$ |\n",
    "| $$f(t)=\\sin{(bt)}$$            | $$F(s) = \\frac{b}{s^2+b^2}, \\ s > 0$$  |\n",
    "| $$f(t)=\\cos{(bt)}$$            | $$F(s) = \\frac{s}{s^2+b^2}, \\ s > 0$$  |\n",
    "| $$e^{at}t^n, \\ n=1,2, \\ldots$$ | $$F(s) = \\frac{n!}{(s-a)^{n+1}}, \\ s > a$$ |\n",
    "| $$e^{at}\\sin{(bt)}$$           | $$ F(s) = \\frac{b}{(s-a)^2+b^2}, \\ s > a$$ |\n",
    "| $$e^{at}\\cos{(bt)}$$           | $$ F(s) = \\frac{s-a}{(s-a)^2+b^2}, \\ s > a$$ |\n",
    "\n",
    "\n",
    "# Properties\n",
    "\n",
    "1) $\\mathscr{L} \\left\\{ cf(t) \\right\\} = c  \\mathscr{L} \\left\\{ f(t) \\right\\}$, where $c$ is a constant. \n",
    "\n",
    "2) $\\mathscr{L} \\left\\{ f_1(t) + f_2(t) \\right\\} = \\mathscr{L} \\left\\{ f_1(t) \\right\\} + \\mathscr{L} \\left\\{ f_2(t)\\right\\}$ \n",
    "\n",
    "3) If $F(s) = \\mathscr{L} \\left\\{ f(t) \\right\\}$ exists for all $s > \\alpha$, then $\\displaystyle \\mathscr{L} \\left\\{ e^{at} f(t) \\right\\} = F(s-a)$ for all $s>\\alpha + a$. \n",
    "\n",
    "4) If $F(s) =\\mathscr{L} \\left\\{ f(t) \\right\\}$ exists for all $s > \\alpha$, then for all $s>\\alpha$,\n",
    "\n",
    "$$ \\mathscr{L} \\left\\{ f^{(n)}(t) \\right\\} = s^n \\mathscr{L} \\{ f(t) \\}-s^{n-1} f(0)- s^{n-2} f'(0) - \\ldots - f^{(n-1)}(0).$$ \n",
    "\n",
    "5) If $F(s) =\\mathscr{L} \\left\\{ f(t) \\right\\}$ exists for all $s > \\alpha$, then \n",
    "$$ \\mathscr{L} \\left\\{ t^n f(t) \\right\\} = (-1)^n \\frac{d^nF}{ds^n} \\mbox{ for all } s > \\alpha.$$\n"
   ]
  },
  {
   "cell_type": "markdown",
   "id": "9dc20267",
   "metadata": {},
   "source": [
    "# Solving ODE's with Laplace Transform\n",
    "---\n",
    "\n",
    "Step 1: Take the Laplace transform of both sides. Refer to properties.\n",
    "Step 2: Rearrange and group like terms to solve for $\\mathcal{L}\\{y(t)\\}=Y(s)$\n",
    "Step 3: Take the inverse Laplace transform and solve for $y(t) = \\mathcal{L}^{-1}\\{Y(x) \\}$.\n",
    "\n",
    "## <a name='23quest1'>Question 1:</a>\n",
    "---\n",
    "\n",
    "Solve the initial value problem using Laplace Transforms (not previous methods).  \n",
    "\n",
    "a. $y''-2y'+5y=0$ with $y(0)=2$ and $y'(0)=4$. <a id =\"23quest1a\"></a>\n",
    "\n",
    "### Solution to Question 1a:\n",
    "---\n",
    "\n",
    "<br> <br> <br> <br> <br> <br>\n",
    "\n",
    "b. $y''-y'-2y=0$ with $y(0)=-2$ and $y'(0)=5$. <a id =\"23quest1b\"></a>\n",
    "\n",
    "### Solution to Question 1b:\n",
    "---\n",
    "\n",
    "<br> <br> <br> <br> <br> <br>\n",
    "\n",
    "c. $y''-4y'-5y=4e^{3t}$ with $y(0)=2$ and $y'(0)=7$. <a id =\"23quest1c\"></a>\n",
    "\n",
    "### Solution to Question 1c:\n",
    "---\n",
    "\n",
    "<br> <br> <br> <br> <br> <br>\n",
    "\n",
    "d. $ty''-ty'+y=2$ with $y(0)=2$ and $y'(0)=-1$. <a id =\"23quest1d\"></a>\n",
    "\n",
    "### Solution to Question 1d:\n",
    "---\n",
    "\n",
    "<br> <br> <br> <br> <br> <br>\n",
    "\n",
    "e. $y''+ty'-y=0$ with $y(0)=0$ and $y'(0)=3$. <a id =\"23quest1e\"></a>\n",
    "\n",
    "### Solution to Question 1e:\n",
    "---\n",
    "\n",
    "<br> <br> <br> <br> <br> <br>\n"
   ]
  },
  {
   "cell_type": "markdown",
   "id": "0b06223d-34a2-43dd-9f2c-e6e7cbb3a5c4",
   "metadata": {},
   "source": [
    "## Creative Commons License Information\n",
    "<a rel=\"license\" href=\"https://creativecommons.org/licenses/by-nc-sa/4.0/\"><img alt=\"Creative Commons License\" style=\"border-width:0\" src=\"https://i.creativecommons.org/l/by-nc-sa/4.0/80x15.png\" /></a><br /><span xmlns:dct=\"http://purl.org/dc/terms/\" property=\"dct:title\">Elementary Differential Equations</span> by <a xmlns:cc=\"http://creativecommons.org/ns#\" href=\"https://github.com/CU-Denver-MathStats-OER/ODEs\" property=\"cc:attributionName\" rel=\"cc:attributionURL\">Adam Spiegler, Jonathon Hirschi, and Dmitry Ostrovskiy</a> is licensed under a <a rel=\"license\" href=\"http://creativecommons.org/licenses/by-nc-sa/4.0/\">Creative Commons Attribution-NonCommercial-ShareAlike 4.0 International License</a>.<br />Based on a work at <a xmlns:dct=\"http://purl.org/dc/terms/\" href=\"https://github.com/CU-Denver-MathStats-OER/ODEs\" rel=\"dct:source\">https://github.com/CU-Denver-MathStats-OER/ODEs</a> and original content created by Rasmussen, C., Keene, K. A., Dunmyre, J., & Fortune, N. (2018). *Inquiry oriented differential equations: Course materials*. Available at <a href=\"https://iode.wordpress.ncsu.edu\">https://iode.wordpress.ncsu.edu</a>."
   ]
  }
 ],
 "metadata": {
  "kernelspec": {
   "display_name": "Python 3 (ipykernel)",
   "language": "python",
   "name": "python3"
  },
  "language_info": {
   "codemirror_mode": {
    "name": "ipython",
    "version": 3
   },
   "file_extension": ".py",
   "mimetype": "text/x-python",
   "name": "python",
   "nbconvert_exporter": "python",
   "pygments_lexer": "ipython3",
   "version": "3.9.7"
  },
  "toc-autonumbering": false,
  "toc-showmarkdowntxt": false,
  "toc-showtags": false
 },
 "nbformat": 4,
 "nbformat_minor": 5
}
