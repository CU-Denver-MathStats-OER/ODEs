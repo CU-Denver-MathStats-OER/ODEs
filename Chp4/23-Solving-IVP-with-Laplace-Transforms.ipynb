{
 "cells": [
  {
   "cell_type": "markdown",
   "id": "40215553-24be-449d-9280-b04c7c4e75d4",
   "metadata": {},
   "source": [
    "# Solving ODE's with Laplace Transforms\n",
    "---\n",
    "\n",
    "Let's focus our exploration with Laplace transforms on their application to differential equations. We can apply the Laplace transform to solve differential equations with a frequently used problem solving strategy:\n",
    "\n",
    "<font color='blue'>Step 1: Transform a difficult problem into an easier one.</font> \n",
    "\n",
    "<font color='blue'>Step 2: Solve the easier problem.</font>\n",
    "\n",
    "<font color='blue'>Step 3: Use the previous solution to obtain a solution to the original problem.</font>\n",
    "\n",
    "We will walk through each step to solve the differential equation\n",
    "\n",
    "$$\\color{blue}{y''-2y'+5y=0 \\quad \\mbox{with} \\quad y(0)=2 \\mbox{ and } y'(0)=4}.$$"
   ]
  },
  {
   "cell_type": "markdown",
   "id": "6beeb6cf-9422-460a-b44e-1311696a0645",
   "metadata": {},
   "source": [
    "## <font color='blue'>Step 1: Transform a difficult problem into an easier one.</font>\n",
    "---\n",
    "\n",
    "- Apply the Laplace transform of both sides of the differential equation.\n",
    "- Refer to [Table of Common Laplace Transforms in Appendix A](#23LaplaceTable) and [Properties in Appendix B](#23PropTable).\n",
    "- The function `sympy.laplace_transform(f,t,s)` may be useful in some cases.\n",
    "- **The initial conditions for $y(0)$ and $y'(0)$ will be important.**\n",
    "\n",
    "\n",
    "$$\\begin{array}{rcll}\n",
    "\\mathscr{L} \\left\\{ y''-2y'+5y \\right\\} &=& \\mathscr{L} \\left\\{ 0 \\right\\} & \\color{red}{\\mbox{Apply $\\mathscr{L}$ to both sides.}} \\\\\n",
    "\\mathscr{L} \\left\\{ y'' \\right\\} -2\\mathscr{L} \\left\\{y'\\right\\} + 5 \\mathscr{L} \\left\\{ y \\right\\} &=& \\mathscr{L} \\left\\{ 0 \\right\\} & \\color{red}{\\mbox{Applying properties 1 and 2 on left side.}}\\\\\n",
    "\\mathscr{L} \\left\\{ y'' \\right\\} -2\\mathscr{L} \\left\\{y'\\right\\} + 5 Y(s) &=& 0  & \\color{red}{\\mbox{a. justification ??}}\\\\\n",
    "\\big( s^2Y(s)-sy(0)-y'(0) \\big) - 2 \\big( sY(s) - y(0) \\big) + 5 Y(s) &=& 0  & \\color{red}{\\mbox{b. justification ??}}\\\\\n",
    "\\big( s^2Y(s)-2s-4 \\big) - 2 \\big( sY(s) - 2 \\big) + 5 Y(s) &=& 0  & \\color{red}{\\mbox{c. justification ??}}\\\\\n",
    "\\end{array}\n",
    "$$"
   ]
  },
  {
   "cell_type": "markdown",
   "id": "6c0accbf-5bd5-4976-a978-df24fa4b07c2",
   "metadata": {},
   "source": [
    "<a name='23quest1'>Question 1:</a>\n",
    "---\n",
    "    \n",
    "Justify each of the steps labeled a, b and c in the work above.\n",
    "\n",
    "### Solution to Question 1:\n",
    "---\n",
    "\n",
    "<br>\n",
    "\n",
    "a. <mark>??</mark>\n",
    "\n",
    "b. <mark>??</mark>\n",
    "\n",
    "c. <mark>??</mark>\n",
    "\n",
    "<br> <br>\n"
   ]
  },
  {
   "cell_type": "markdown",
   "id": "7e1025ea-94b5-489c-aa28-97f72a3cb1d6",
   "metadata": {},
   "source": [
    "## <font color='blue'>Step 2: Solve the easier problem.</font>\n",
    "---\n",
    "\n",
    "- Rearrange and group like terms.\n",
    "- Then solve for $Y(s)$.\n",
    "\n",
    "\n",
    "$$\\begin{array}{rcll}\n",
    "\\big( s^2Y(s)-2s-4 \\big) - 2 \\big( sY(s) - 2 \\big) + 5 Y(s) &=& 0  & \\color{red}{\\mbox{Result from Step 1}}\\\\\n",
    "\\big( s^2Y(s) - 2sY(s) +5Y(s) \\big) - 2s &=& 0  & \\color{red}{\\mbox{a. justification ??}}\\\\\n",
    "(s^2 - 2s +5)Y(s) &=& 2s  & \\color{red}{\\mbox{b. justification ??}}\\\\\n",
    "Y(s) &=& \\dfrac{2s}{s^2-2s+5}  & \\color{red}{\\mbox{c. justification ??}}\\\\\n",
    "\\end{array}$$"
   ]
  },
  {
   "cell_type": "markdown",
   "id": "1b4a6600-ea0a-4d26-955e-ba3000d5d156",
   "metadata": {},
   "source": [
    "<a name='23quest2'>Question 2:</a>\n",
    "---\n",
    "    \n",
    "Justify each of the steps labeled a, b and c in the work above.\n",
    "\n",
    "### Solution to Question 2:\n",
    "---\n",
    "\n",
    "<br>\n",
    "\n",
    "a. <mark>??</mark>\n",
    "\n",
    "b. <mark>??</mark>\n",
    "\n",
    "c. <mark>??</mark>\n",
    "\n",
    "<br> <br>\n",
    "\n"
   ]
  },
  {
   "cell_type": "markdown",
   "id": "e479809f-0229-4f7e-93c0-71df759ba620",
   "metadata": {},
   "source": [
    "## <font color='blue'>Step 3: Use the previous solution to obtain a solution of the original problem.</font>\n",
    "---\n",
    "\n",
    "\n",
    "- Take the inverse Laplace transform and solve for $y(t) = \\mathscr{L}^{-1}\\{Y(x) \\}$.\n",
    "- The function `sympy.inverse_laplace_transform(F,s,t)` will be helpful!\n",
    "\n",
    "A solution to the original differential equation is a function $y(t)$ whose Laplace transform is $Y(s)$ from Step 2. **Thus we apply the inverse Laplace transfrom to the result from Step 2 and solve for $y(t)$.**\n",
    "\n",
    "$$\\begin{array}{rcll}\n",
    "\\mathscr{L}^{-1} \\left\\{ Y(s) \\right\\} &=& \\mathscr{L}^{-1} \\left\\{ \\dfrac{2s}{s^2-2s+5} \\right\\} & \\color{red}{\\mbox{Applying $\\mathscr{L}^{-1}$ to both sides.}}\\\\\n",
    "y(t) &=& \\mathscr{L}^{-1} \\left\\{ \\dfrac{2s}{(s-1)^2 + 4} \\right\\} & \\color{red}{\\mbox{a. justification ??}}\\\\\n",
    "y(t) &=& 2 \\mathscr{L}^{-1} \\left\\{ \\dfrac{s}{(s-1)^2 + 4} \\right\\} & \\color{red}{\\mbox{b. justification ??}}\\\\\n",
    "y(t) &=& 2 \\mathscr{L}^{-1} \\left\\{ \\dfrac{s-1+1}{(s-1)^2 + 4} \\right\\} & \\color{red}{\\mbox{c. justification ??}}\\\\\n",
    "y(t) &=& 2 \\mathscr{L}^{-1} \\left\\{ \\dfrac{s-1}{(s-1)^2 + 4} +  \\dfrac{1}{(s-1)^2 + 4} \\right\\} & \\color{red}{\\mbox{d. justification ??}}\\\\\n",
    "y(t) &=& 2 \\mathscr{L}^{-1} \\left\\{ \\dfrac{s-1}{(s-1)^2 + 4} \\right\\} + 2 \\mathscr{L}^{-1} \\left\\{ \\dfrac{1}{(s-1)^2 + 4} \\right\\} & \\color{red}{\\mbox{e. justification ??}}\\\\\n",
    "y(t) &=& 2 \\mathscr{L}^{-1} \\left\\{ \\dfrac{s-1}{(s-1)^2 + 4} \\right\\} + \\mathscr{L}^{-1} \\left\\{ \\dfrac{2}{(s-1)^2 + 4} \\right\\} & \\color{red}{\\mbox{f. justification ??}}\\\\\n",
    "y(t) &=& 2e^t\\cos{(2t)}+ e^t\\sin{(2t)} & \\color{red}{\\mbox{g. justification ??}}\\\\\n",
    "\\end{array}$$\n"
   ]
  },
  {
   "cell_type": "markdown",
   "id": "852c68e6-7525-41c1-84d9-01f00f4bc5cb",
   "metadata": {},
   "source": [
    "<a name='23quest3'>Question 3:</a>\n",
    "---\n",
    "    \n",
    "Justify each of the steps labeled a to g in the work above.\n",
    "\n",
    "### Solution to Question 3:\n",
    "---\n",
    "\n",
    "<br>\n",
    "\n",
    "a. <mark>??</mark>\n",
    "\n",
    "b. <mark>??</mark>\n",
    "\n",
    "c. <mark>??</mark>\n",
    "\n",
    "d. <mark>??</mark>\n",
    "\n",
    "e. <mark>??</mark>\n",
    "\n",
    "f. <mark>??</mark>\n",
    "\n",
    "g. <mark>??</mark>\n",
    "\n",
    "<br> <br>"
   ]
  },
  {
   "cell_type": "markdown",
   "id": "740978ff-fbc8-4404-9b06-a648108f3cab",
   "metadata": {},
   "source": [
    "## <a name='23quest4'>Question 4:</a>\n",
    "---\n",
    "\n",
    "In Problems [1](#23quest1), [2](#23quest2), and [3](#23quest3) we apply the Laplace transform to solve the differential equation \n",
    "\n",
    "$$y''-2y'+5y=0 \\quad \\mbox{with} \\quad y(0)=2 \\mbox{ and } y'(0)=4,$$\n",
    "\n",
    "and we discovered the solution\n",
    "\n",
    "$$y(t) = 2e^t\\cos{(2t)}+ e^t\\sin{(2t)}.$$\n",
    "\n",
    "**a. What other method(s) for solving differential equations could we use to solve this differential equation?**\n",
    "\n",
    "### Solution to Question 4a:\n",
    "---\n",
    "\n",
    "<br> <br> <br> <br> <br> <br>\n",
    "\n",
    "**b. Based on your answer to part a, explain why the for of the solution is not surprising.**\n",
    "\n",
    "### Solution to Question 4b:\n",
    "---\n",
    "\n",
    "<br> <br> <br> <br> <br> <br>\n",
    "\n",
    "**c. What are some of the pros and cons of using the Laplace transforms to solve the differential equation compared to the method you identified in part a?**\n",
    "\n",
    "### Solution to Question 4c:\n",
    "---\n",
    "\n",
    "<br> <br> <br> <br> <br> <br>"
   ]
  },
  {
   "cell_type": "markdown",
   "id": "39edbccd-2944-4fa3-8118-4adeaefc237b",
   "metadata": {},
   "source": [
    "# Solving ODE's with Laplace Transforms and `SymPy`\n",
    "---\n",
    "\n",
    "As you may have gathered, using the Laplace transform to solve differential equations may present some challenges at each step. In particular, finding the inverse Laplace transform of $Y(s)$ in the last step involved the most work. We can use the built-in Laplace transform functions in `SymPy` to help with some of the work.\n",
    "\n",
    "-  For a review of Laplace transforms using `sympy.laplace_transform_(f,t,s)`, see the section on [Computing Laplace Transforms in Python](20-Introduction-to-Laplace-Transforms.ipynb#20LaplacePython) from Worksheet 20.\n",
    "- For a review of inverse Laplace transforms using `sympy.inverse_laplace_transform(F,s,t)`, see the section on [Inverse Laplace Transforms with `SymPy`](22-Inverse-Laplace-Transforms.ipynb#22InvL) from Worksheet 22.\n",
    "\n",
    "Below are a couple of additional resources for help with Laplace transforms with `SymPy`.\n",
    "\n",
    "- For official documentation, see [SymPy Doc](https://docs.sympy.org/latest/modules/integrals/integrals.html)\n",
    "- Here is [another helpful resource](https://dynamics-and-control.readthedocs.io/en/latest/1_Dynamics/3_Linear_systems/Laplace%20transforms.html).\n",
    "\n",
    "<mark>**Run the code cell below to define the Laplace transform function `L(f)` and inverse Laplace transform function `invL(F)`.**</mark>\n"
   ]
  },
  {
   "cell_type": "code",
   "execution_count": null,
   "id": "bc165213-4acf-4c2a-b623-c3b0531bfc0b",
   "metadata": {},
   "outputs": [],
   "source": [
    "import sympy as sym\n",
    "from sympy.abc import s,t\n",
    "\n",
    "# Just run this code cell. Do Not Edit.\n",
    "\n",
    "# Define the Laplace transform function\n",
    "def L(f):\n",
    "    return sym.inverse_laplace_transform(f, s, t)\n",
    "\n",
    "# Define the inverse Laplace transform function\n",
    "def invL(F):\n",
    "    return sym.inverse_laplace_transform(F, s, t)"
   ]
  },
  {
   "cell_type": "markdown",
   "id": "aed8db38-e3de-47d8-89f2-34494f1763ea",
   "metadata": {},
   "source": [
    "## <a name='23quest5'>Question 5:</a>\n",
    "---\n",
    "\n",
    "In [Problem 3](#23quest3), you explain the algebra and properties of inverse Laplace transforms applied in Step 3 of solving a differential equation with the Laplace transform. Below is a recap of the result.\n",
    "\n",
    "**What is a function $y(t)$ whose Laplace tranform is $Y(s) = \\dfrac{2s}{s^2-2s+5}$?**\n",
    "\n",
    "$$\\begin{array}{rcl}\n",
    "\\mathscr{L}^{-1} \\left\\{ Y(s) \\right\\} &=& \\mathscr{L}^{-1} \\left\\{ \\dfrac{2s}{s^2-2s+5} \\right\\} \\\\\n",
    "\\vdots & = & \\vdots \\\\\n",
    "y(t) &=& 2e^t\\cos{(2t)}+ e^t\\sin{(2t)}\\\\\n",
    "\\end{array}$$\n",
    "\n",
    "\n",
    "<mark>Edit the code cell below to use `SymPy` to solve for $y(t)$ and verify the previous answer. Be sure you first run the previous code cell to import `SymPy` and Laplace transform functions.</mark>\n",
    "\n",
    "### Solution to Question 5:\n",
    "---\n",
    "\n",
    "<br> <br> <mark>Edit the code cell below.</mark> <br> <br>\n"
   ]
  },
  {
   "cell_type": "code",
   "execution_count": null,
   "id": "efd5522f-0869-43f2-a1c7-05484a8cb42b",
   "metadata": {},
   "outputs": [],
   "source": [
    "#############################################################\n",
    "# STUDENT TO DO: \n",
    "# Replace the ?? with an approrpriate expression\n",
    "#############################################################\n",
    "\n",
    "F =   # define your function Y(s) with respect to s\n",
    "\n",
    "invL(F)  # Solve for y(t)"
   ]
  },
  {
   "cell_type": "markdown",
   "id": "1ad87b93-aef1-43dd-82c0-c1221b74c82e",
   "metadata": {},
   "source": [
    "## <a name='23quest6'>Question 6: Checking Your Answer in Python</a>\n",
    "---\n",
    "\n",
    "We applied Laplace transforms to solve the differential equation \n",
    "\n",
    "$$y''-2y'+5y=0 \\quad \\mbox{with} \\quad y(0)=2 \\mbox{ and } y'(0)=4,$$\n",
    "\n",
    "and we discovered the solution\n",
    "\n",
    "$$y(t) = 2e^t\\cos{(2t)}+ e^t\\sin{(2t)}.$$\n",
    "\n",
    "<mark>Edit the code cell below to use `SymPy` to plug $y(t)$ into the differential equation to verify it satisfies the differential equation.</mark>\n",
    "\n",
    "\n",
    "### Solution to Question 6:\n",
    "---\n",
    "\n",
    "<br> <br> <mark>Edit the code cell below.</mark> <br> <br>"
   ]
  },
  {
   "cell_type": "code",
   "execution_count": null,
   "id": "a93fcffb-c25b-4397-9fe5-4ddf012e1440",
   "metadata": {},
   "outputs": [],
   "source": [
    "#############################################################\n",
    "# STUDENT TO DO: \n",
    "# Replace the ?? with an approrpriate expression\n",
    "#############################################################\n",
    "\n",
    "y = ??\n",
    "\n",
    "dy = y.diff(t, 1)  # compute y'\n",
    "ddy = y.diff(t, 2)  # compute y''\n",
    "\n",
    "#############################################################\n",
    "# STUDENT TO DO: \n",
    "# Replace the ?? with an approrpriate expression\n",
    "#############################################################\n",
    "\n",
    "left = sym.simplify(??)\n",
    "right = 0\n",
    "\n",
    "print(\"The left side is dy/dt = \", left, \n",
    "      \"\\n \\n The right side is \", right)"
   ]
  },
  {
   "cell_type": "markdown",
   "id": "1ec422f6-e76f-4180-b2d1-c928a8972cdc",
   "metadata": {},
   "source": [
    "## <a name='23quest7'>Question 7:</a>\n",
    "---\n",
    "\n",
    "Solve the initial value problem using the Laplace Transform. You may use Python as much (or as little) as you like. \n",
    "\n",
    "$$y''-y'-2y=0 \\quad \\mbox{with} \\quad y(0)=-2 \\mbox{ and } y'(0)=5.$$\n",
    "\n",
    "### Solution to Question 7:\n",
    "---\n",
    "\n",
    "<br> <br> \n",
    "<mark>It is recommended to do some work by hand and use Python to help with part of the process. Feel free to add some Python code cells below. </mark>\n",
    "<br> <br> <br> <br>"
   ]
  },
  {
   "cell_type": "code",
   "execution_count": null,
   "id": "1f7e7a09-c6bb-4d1b-9f3b-6ecb6be3f87a",
   "metadata": {},
   "outputs": [],
   "source": []
  },
  {
   "cell_type": "markdown",
   "id": "1ae29de8-6803-4014-8857-0269709647a1",
   "metadata": {},
   "source": [
    "## <a name='23quest8'>Question 8:</a>\n",
    "---\n",
    "\n",
    "Solve the initial value problem using Laplace Transforms. You may use Python as much (or as little) as you like. \n",
    "\n",
    "$$y''-4y'-5y=4e^{3t} \\quad \\mbox{with} \\quad y(0)=2 \\mbox{ and } y'(0)=7.$$\n",
    "\n",
    "### Solution to Question 8:\n",
    "---\n",
    "\n",
    "<br> <br> \n",
    "<mark>It is recommended to do some work by hand and use Python to help with part of the process. Feel free to add some Python code cells below. </mark>\n",
    "<br> <br> <br> <br>"
   ]
  },
  {
   "cell_type": "code",
   "execution_count": null,
   "id": "e47527cf-8fb7-479f-9340-4ee314c0af14",
   "metadata": {},
   "outputs": [],
   "source": []
  },
  {
   "cell_type": "markdown",
   "id": "0a0032fe-ae16-46fa-88ea-25fb3936f89e",
   "metadata": {},
   "source": [
    "## <a name='23quest9'>Question 9:</a>\n",
    "---\n",
    "\n",
    "Solve the initial value problem using Laplace Transforms. You may use Python as much (or as little) as you like. \n",
    "\n",
    "$$ty''-ty'+y=2 \\quad \\mbox{with} \\quad y(0)=2 \\mbox{ and } y'(0)=-1.$$\n",
    "\n",
    "### Solution to Question 9:\n",
    "---\n",
    "\n",
    "<br> <br> \n",
    "<mark>It is recommended to do some work by hand and use Python to help with part of the process. Feel free to add some Python code cells below. </mark>\n",
    "<br> <br> <br> <br>"
   ]
  },
  {
   "cell_type": "code",
   "execution_count": null,
   "id": "78d1231c-92a4-4029-90f2-eb4c4955b1c9",
   "metadata": {},
   "outputs": [],
   "source": []
  },
  {
   "cell_type": "markdown",
   "id": "70b5ce52-c158-4e39-a529-806fcdfabe64",
   "metadata": {},
   "source": [
    "## <a name='23quest10'>Question 10:</a>\n",
    "---\n",
    "\n",
    "Solve the initial value problem using Laplace Transforms. You may use Python as much (or as little) as you like. \n",
    "\n",
    "$$y''+ty'-y=0 \\quad \\mbox{with} \\quad y(0)=0 \\mbox{ and } y'(0)=3.$$\n",
    "\n",
    "### Solution to Question 10:\n",
    "---\n",
    "\n",
    "<br> <br> \n",
    "<mark>It is recommended to do some work by hand and use Python to help with part of the process. Feel free to add some Python code cells below. </mark>\n",
    "<br> <br> <br> <br>\n"
   ]
  },
  {
   "cell_type": "code",
   "execution_count": null,
   "id": "383388f6-ff2a-4e96-9f18-cb655db1c758",
   "metadata": {},
   "outputs": [],
   "source": []
  },
  {
   "cell_type": "markdown",
   "id": "9e4e9bba-f7c5-4627-84a4-4131d175fd19",
   "metadata": {},
   "source": [
    "# Appendix A: <a name='23LaplaceTable'>Common Laplace Transforms</a>\n",
    "---\n",
    "\n",
    "\n",
    "| $\\displaystyle \\large f(t)$ | $\\displaystyle \\large F(s) = \\mathscr{L} \\left\\{ f(t) \\right\\}$ |\n",
    "|-----------------------------|-----------------------------------------------------------------|\n",
    "| $\\displaystyle \\large f(t)=1$ | $\\displaystyle \\large F(s)=\\frac{1}{s}, \\ s > 0$ |\n",
    "| $\\displaystyle\\large f(t)=e^{at}$ | $\\displaystyle \\large F(s) = \\frac{1}{s-a}, \\ s > a$ |\n",
    "| $\\displaystyle \\large f(t)=t^n, \\ n=1,2, \\ldots$ | $\\displaystyle \\large F(s) = \\frac{n!}{s^{n+1}}, \\ s > 0$ |\n",
    "| $\\displaystyle \\large f(t)=\\sin{(bt)}$ | $\\displaystyle \\large F(s) = \\frac{b}{s^2+b^2}, \\ s > 0$ |\n",
    "| $\\displaystyle \\large f(t)=\\cos{(bt)}$ | $\\displaystyle \\large F(s) = \\frac{s}{s^2+b^2}, \\ s > 0$ |\n",
    "| $\\displaystyle \\large e^{at}t^n, \\ n=1,2, \\ldots$ | $\\displaystyle \\large F(s) = \\frac{n!}{(s-a)^{n+1}}, \\ s > a$ |\n",
    "| $\\displaystyle \\large e^{at}\\sin{(bt)}$ | $\\displaystyle \\large F(s) = \\frac{b}{(s-a)^2+b^2}, \\ s > a$ |\n",
    "| $\\displaystyle \\large e^{at}\\cos{(bt)}$ | $\\displaystyle \\large F(s) = \\frac{s-a}{(s-a)^2+b^2}, \\ s > a$ |"
   ]
  },
  {
   "cell_type": "markdown",
   "id": "99ee4164-7b68-4b23-b1d1-846f2781a702",
   "metadata": {},
   "source": [
    "# Appendix B: <a name='23PropTable'>Properties of Laplace Transforms</a>\n",
    "---\n",
    "\n",
    "\n",
    "<a name='23Prop1'>1.</a> $\\color{blue}{\\mathscr{L} \\left\\{ cf(t) \\right\\} = c  \\mathscr{L} \\left\\{ f(t) \\right\\}}$, where $c$ is a constant.\n",
    "\n",
    "<a name='23Prop2'>2.</a> $\\color{blue}{\\mathscr{L} \\left\\{ f_1(t) + f_2(t) \\right\\} = \\mathscr{L} \\left\\{ f_1(t) \\right\\} + \\mathscr{L} \\left\\{ f_2(t)\\right\\}}$.\n",
    "\n",
    "<a name='23Prop3'>3.</a> If $F(s) = \\mathscr{L} \\left\\{ f(t) \\right\\}$ exists for all $s > \\alpha$, then $\\color{blue}{\\displaystyle \\mathscr{L} \\left\\{ e^{at} f(t) \\right\\} = F(s-a)}$ for all $s>\\alpha + a$. \n",
    "\n",
    "<a name='23Prop4'>4.</a> If $F(s) =\\mathscr{L} \\left\\{ f(t) \\right\\}$ exists for all $s > \\alpha$, then for all $s>\\alpha$,\n",
    "\n",
    "$$\\color{blue}{\\mathscr{L} \\left\\{ f^{(n)}(t) \\right\\} = s^n \\mathscr{L} \\{ f(t) \\}-s^{n-1} f(0)- s^{n-2} f'(0) - \\ldots - f^{(n-1)}(0)}.$$ \n",
    "\n",
    "<a name='23Prop5'>5.</a> If $F(s) =\\mathscr{L} \\left\\{ f(t) \\right\\}$ exists for all $s > \\alpha$, then \n",
    "\n",
    "$$\\color{blue}{\\mathscr{L} \\left\\{ t^n f(t) \\right\\} = (-1)^n \\frac{d^nF}{ds^n} \\mbox{ for all } s > \\alpha}.$$\n"
   ]
  },
  {
   "cell_type": "markdown",
   "id": "e43b2676-289c-4fdb-b2f4-ce866b354f2f",
   "metadata": {},
   "source": [
    "## Creative Commons License Information\n",
    "<a rel=\"license\" href=\"https://creativecommons.org/licenses/by-nc-sa/4.0/\"><img alt=\"Creative Commons License\" style=\"border-width:0\" src=\"https://i.creativecommons.org/l/by-nc-sa/4.0/80x15.png\" /></a><br /><span xmlns:dct=\"http://purl.org/dc/terms/\" property=\"dct:title\">Elementary Differential Equations</span> by <a xmlns:cc=\"http://creativecommons.org/ns#\" href=\"https://github.com/CU-Denver-MathStats-OER/ODEs\" property=\"cc:attributionName\" rel=\"cc:attributionURL\">Adam Spiegler, Jonathon Hirschi, and Dmitry Ostrovskiy</a> is licensed under a <a rel=\"license\" href=\"http://creativecommons.org/licenses/by-nc-sa/4.0/\">Creative Commons Attribution-NonCommercial-ShareAlike 4.0 International License</a>.<br />Based on a work at <a xmlns:dct=\"http://purl.org/dc/terms/\" href=\"https://github.com/CU-Denver-MathStats-OER/ODEs\" rel=\"dct:source\">https://github.com/CU-Denver-MathStats-OER/ODEs</a> and original content created by Rasmussen, C., Keene, K. A., Dunmyre, J., & Fortune, N. (2018). *Inquiry oriented differential equations: Course materials*. Available at <a href=\"https://iode.wordpress.ncsu.edu\">https://iode.wordpress.ncsu.edu</a>."
   ]
  },
  {
   "cell_type": "markdown",
   "id": "9a00dbbe-5609-4393-b32e-667d0e1c63e3",
   "metadata": {},
   "source": [
    "# <mark>IGNORE: MATERIALS BELOW ARE A WORK IN PROGRESS</mark>"
   ]
  },
  {
   "cell_type": "markdown",
   "id": "6cc92f06-c5cc-40f5-8fc5-1c27dbd016e8",
   "metadata": {},
   "source": [
    "# Revisiting the Mass-Spring Oscillator\n",
    "---\n",
    "\n",
    "Recall if we have a <font color = 'green'>mass $m$</font> kg that is connected to a spring with  <font color = 'blue'>stiffness coefficient $k$</font> kg/sec$^2$, and moves over a surface with <font color='red'>friction coefficient $b$</font> kg/sec, then the position of the mass at time, $y(t)$, is modeled by the second order differential equation\n",
    "\n",
    "$$\\large \\color{green}{m}y''+\\color{red}{b}y'+\\color{blue}{k}y=0; \\qquad y(0)=s_0, \\quad y'(0)=v_0.$$\n",
    "\n",
    "![Mass-Spring Oscillator](../Chp2/Images/10mass-spring.png)\n",
    "\n",
    "\n",
    "<quote>What if we relax the assumption that the coefficients $\\color{green}{m}$, $\\color{red}{b}$,  $\\color{blue}{k}$ are all constant? What if the coefficients change with time?</quote>\n",
    "\n",
    "$$\\large \\color{green}{m(t)}y''+\\color{red}{b(t)}y'+\\color{blue}{k(t)}y=0; \\qquad y(0)=s_0, \\quad y'(0)=v_0.$$\n",
    "\n",
    "\n",
    "- **We cannot solve the differential equation above by finding roots of a characteristic equation.**\n",
    "- **We can apply the Laplace transform to solve the differential equation!**\n"
   ]
  },
  {
   "cell_type": "markdown",
   "id": "9a6c6b58-f94e-4615-aa28-3c96ffc61c75",
   "metadata": {},
   "source": [
    "## <a name='23quest11'>Question 11:</a>\n",
    "---\n",
    "\n",
    "Explain what it means in physical terms if the:\n",
    "\n",
    "a. Coefficient $m(t)$ changes with time. Describe a physical situation of when this might occur.\n",
    "\n",
    "### Solution to Question 11a:\n",
    "---\n",
    "\n",
    "<br> <br> <br> <br> <br> <br>\n",
    "\n",
    "b. Coefficient $b(t)$ changes with time. Describe a physical situation of when this might occur.\n",
    "\n",
    "### Solution to Question 11b:\n",
    "---\n",
    "\n",
    "<br> <br> <br> <br> <br> <br>\n",
    "\n",
    "c. Coefficient $k(t)$ changes with time. Describe a physical situation of when this might occur.\n",
    "\n",
    "### Solution to Question 11c:\n",
    "---\n",
    "\n",
    "<br> <br> <br> <br> <br> <br>\n"
   ]
  },
  {
   "cell_type": "markdown",
   "id": "88c2098a-8c36-4e37-8e4f-a99266c9ab64",
   "metadata": {},
   "source": [
    "## Mass-Spring Motion on a Surface with Changing Friction\n",
    "---\n",
    "\n",
    "If the mass-spring system is oscillating over an icy surface in an environment with changing temperature, then it would be more accurate to model the system with a friction coefficient that changes over time, $b(t)$.  \n",
    "\n",
    "For example, when ice melts, it releases a thin layer of moisture that makes the surface more slippery at first, and the friction of the icy surface decreases. However, as the ice melts more and more, the surface will turn into slushy water which has much more friction.\n"
   ]
  },
  {
   "cell_type": "markdown",
   "id": "061ee10a-96ad-48c4-82bf-ca02f0fbdae4",
   "metadata": {},
   "source": [
    "## <a name='23quest12'>Question 12:</a>\n",
    "---\n",
    "\n",
    "The differential equation below models a mass-spring system\n",
    "\n",
    "$$\\large y''+ 5ty'+ 2y=0; \\qquad y(0)=0, \\quad y'(0)=10.$$\n",
    "\n",
    "\n",
    "Solve the differential equation.\n",
    "\n",
    "### Solution to Question 12:\n",
    "---\n",
    "\n",
    "<br> <br> <br> <br> \n",
    "<mark>It is recommended to do some work by hand and use Python to help with part of the process. Feel free to add some Python code cells below. </mark>\n",
    "<br> <br> <br> <br>"
   ]
  },
  {
   "cell_type": "markdown",
   "id": "4221a496-fbd9-4cab-a808-a8af19e51746",
   "metadata": {},
   "source": [
    "# <mark>SOLUTION TO QUESTION 12 BELOW</mark>\n",
    "---"
   ]
  },
  {
   "cell_type": "markdown",
   "id": "409e161a-0b1b-40c1-89eb-8a0b696d6596",
   "metadata": {},
   "source": [
    "## <font color='blue'>Step 1: Transform a difficult problem into an easier one.</font>\n",
    "---\n",
    "\n",
    "$$\\begin{array}{rcl}\n",
    "\\mathscr{L} \\left\\{ y''+ 5ty'+ 2y \\right\\} &=& \\mathscr{L} \\left\\{ 0 \\right\\}  \\\\\n",
    "\\mathscr{L} \\left\\{ y'' \\right\\} +5 \\mathscr{L} \\left\\{ty'\\right\\} + 2 \\mathscr{L} \\left\\{ y \\right\\} &=& \\mathscr{L} \\left\\{ 0 \\right\\} \\\\\n",
    "\\mathscr{L} \\left\\{ y'' \\right\\} + 5 \\bigg( (-1) \\dfrac{d}{ds} \\big( \\mathscr{L} \\left\\{y'\\right\\} \\big) \\bigg) + 2 Y(s) &=& 0 \\\\\n",
    "\\big( s^2Y(s)-sy(0)-y'(0) \\big) - 5 \\dfrac{d}{ds} \\big( sY(s) - y(0) \\big) + 2 Y(s) &=& 0 \\\\\n",
    "\\big( s^2Y(s) - 10 \\big) - 5 \\big( Y(s) + s Y'(s)\\big) + 2 Y(s) &=& 0\\\\\n",
    "-5s Y'(s) + (s^2 -5 +2)Y(s) &=& 10 \\\\\n",
    "-5s Y'(s) + (s^2 -3)Y(s) &=& 10 \\\\\n",
    "\\end{array}\n",
    "$$\n",
    "\n",
    "This is not easy, but if we look on the bright side, the resulting equation is a first order differential equation. Moreover, the first order differential equation is linear, so we can try solving it using the reverse product rule. It's easier than the problem we started with!"
   ]
  },
  {
   "cell_type": "markdown",
   "id": "c85775c5-1f41-4280-aec5-b671e365e204",
   "metadata": {},
   "source": [
    "## <font color='blue'>Step 2: Solve the easier problem.</font>\n",
    "---\n",
    "\n",
    "Writing the differential equation $-5s Y'(s) + (s^2 -3)Y(s) = 10$ in standard form gives\n",
    "\n",
    "$$Y'(s) + \\left( \\frac{-s}{5} + \\frac{3}{5s} \\right) Y(s) = \\frac{-2}{s}$$\n",
    "\n"
   ]
  },
  {
   "cell_type": "code",
   "execution_count": null,
   "id": "c29f72fa-4ff1-4d01-91af-23735a3f3cea",
   "metadata": {},
   "outputs": [],
   "source": [
    "sym.integrate(-s/5 + 3/(5*s) , s)"
   ]
  },
  {
   "cell_type": "markdown",
   "id": "98455a23-f782-426c-8aee-7c061b1113c3",
   "metadata": {},
   "source": [
    "Thus, we have\n",
    "\n",
    "$$\\mu = e^{-\\frac{s^2}{10}+ \\frac{3}{5} \\ln{s}} = s^{\\frac{3}{5}} e^{-\\frac{s^2}{10}}.$$\n",
    "\n",
    "Solving the linear first order differential equation using the integrating factor $\\mu$ gives:\n",
    "\n",
    "$$\\begin{array}{lcr}\n",
    "\\dfrac{d}{ds} \\bigg( \\left( s^{\\frac{3}{5}} e^{-\\frac{s^2}{10}} \\right) Y(s) \\bigg) &=& \\left( s^{\\frac{3}{5}} e^{-\\frac{s^2}{10}} \\right) \\bigg( \\frac{-2}{s} \\bigg) \\\\\n",
    "\\bigg( \\left( s^{\\frac{3}{5}} e^{-\\frac{s^2}{10}} \\right) Y(s) \\bigg) &=& -2 \\displaystyle{\\int s^{-2/5} e^{-s^2/10} \\, ds }\\\\\n",
    "\\end{array}$$"
   ]
  },
  {
   "cell_type": "code",
   "execution_count": null,
   "id": "48c15a6b-14b5-4745-a311-3a9c9f073f49",
   "metadata": {},
   "outputs": [],
   "source": [
    "sym.simplify(invL(s**(-3/5) * sym.exp(s**2/10) * sym.integrate(s**(-2/5) * sym.exp(-s**2/10), s)))"
   ]
  },
  {
   "cell_type": "markdown",
   "id": "f202d799-f57a-46e1-b874-1507a4739366",
   "metadata": {},
   "source": [
    "## Mass-Spring Motion on a Surface with Changing Friction\n",
    "---\n",
    "\n",
    "- When setting a mathematical model, we often begin with simplier model. \n",
    "    - For example, by assuming mass, friction, and stiffness of spring do not change over time.\n",
    "    - The simplier the model, the easier it is to study the behavior of solutions.\n",
    "    - However, the assumptions may affect how accurate our model is at predicting actual behavior. \n",
    "- Once we better understand how a simplified model behaves, we can then relax some of our original assumptions so our model is more accurate.\n",
    " \n",
    " \n",
    "For example, if the mass-spring system is oscillating over an icy surface in an environment with changing temperature, then it would be more accurate to model the system with a friction coefficient that changes over time. Let $b(t)$ denote the friction coefficient for such a system, where now the friction does depend on time. \n",
    "\n",
    "When the ice is melting, it releases a thin layer of moisture that makes the surface more slippery at first. Thus the friction of the icy surface will decrease. However, as the ice melts more and more, the surface will turn into slushy water which has much more friction.\n",
    "\n",
    "- Rather than assuming constant friction, it would be more accurate if our model accounts for the changing friction.\n",
    "- In the case of an icy surface this is melting and freezing over time, we could model the friction with a trig function. \n",
    "\n",
    "\n",
    "by making initial assumptions that may avoid some compl av\n",
    "\n",
    "Let's investigate what happens if we relax this assumption. \n",
    "\n",
    "\n",
    "\n"
   ]
  }
 ],
 "metadata": {
  "kernelspec": {
   "display_name": "Python 3",
   "language": "python",
   "name": "python3"
  },
  "language_info": {
   "codemirror_mode": {
    "name": "ipython",
    "version": 3
   },
   "file_extension": ".py",
   "mimetype": "text/x-python",
   "name": "python",
   "nbconvert_exporter": "python",
   "pygments_lexer": "ipython3",
   "version": "3.8.8"
  },
  "toc-autonumbering": false,
  "toc-showmarkdowntxt": false,
  "toc-showtags": false
 },
 "nbformat": 4,
 "nbformat_minor": 5
}
