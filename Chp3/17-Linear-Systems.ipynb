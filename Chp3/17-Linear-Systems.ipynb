{
 "cells": [
  {
   "cell_type": "markdown",
   "id": "e6855027-0535-441f-badd-a14825150325",
   "metadata": {},
   "source": [
    "[![Open In Colab](https://colab.research.google.com/assets/colab-badge.svg)](https://githubtocolab.com/CU-Denver-MathStats-OER/ODEs/blob/main/Chp3/17-Linear-Systems.ipynb)\n"
   ]
  },
  {
   "cell_type": "markdown",
   "id": "f2cf42e1",
   "metadata": {},
   "source": [
    "# Lab 3.4: Interconnected Populations\n",
    "---\n",
    "\n",
    "<font color=\"dodgerblue\">Reading: *Notes on Diffy Q's* Section 3.2, Section 3.3, and Section 3.4</font>\n",
    "\n",
    "\n"
   ]
  },
  {
   "cell_type": "markdown",
   "id": "5e74242e-20b6-4d1b-9b76-199656bf7445",
   "metadata": {},
   "source": [
    "## <a name='17quest1'>Question 1:</a>\n",
    "---\n",
    "\n",
    "Let $x(t)$ denote the number of bacteria in a colony (labeled Colony 1) at time $t$ hours since noon. Let $y(t)$ denote the number of bacteria in a separate colony (labeled Colony 2) at time $t$ hours since noon. The size of populations $x$ and $y$ can be modeled by system of differential equations \n",
    "\n",
    "$$\\begin{align}\n",
    "\\frac{dx}{dt} &= 3x\\\\\n",
    "\\frac{dy}{dt} &= -2y\n",
    "\\end{align}$$"
   ]
  },
  {
   "cell_type": "markdown",
   "id": "e694cfc7-b59e-4d0b-b027-a8140831d32c",
   "metadata": {},
   "source": [
    "### <a name='17quest1a'>Question 1a:</a>\n",
    "---\n",
    "\n",
    "Explain in practical terms how each of the populations is changing over time. Are the two populations interacting? What happens to the size of each colony in the long run?\n",
    "\n",
    "#### Solution to Question 1a:\n",
    "---\n",
    "\n",
    "<br> <br> <br>"
   ]
  },
  {
   "cell_type": "markdown",
   "id": "8eb232f1-dd4f-4b5f-b353-5bdff39258d3",
   "metadata": {},
   "source": [
    "### <a name='17quest1b'>Question 1b:</a>\n",
    "---\n",
    "\n",
    "Solve each of the differential equations and give general solutions for $x$ and $y$.\n",
    "\n",
    "\n",
    "#### Solution to Question 1b:\n",
    "---\n",
    "\n",
    "<br> <br> <br>"
   ]
  },
  {
   "cell_type": "markdown",
   "id": "bb048856-76b9-4402-aa98-2d61511e40e1",
   "metadata": {},
   "source": [
    "# Modeling Interacting Populations\n",
    "---"
   ]
  },
  {
   "cell_type": "markdown",
   "id": "6b256766-ce59-4283-80f3-e74329e95520",
   "metadata": {},
   "source": [
    "## <a name='17quest2'>Question 2:</a>\n",
    "---\n",
    "\n",
    "Now imagine Colony 1 and Colony 2 are arranged such that the size of populations $x$ and $y$ can be modeled by system of differential equations \n",
    "\n",
    "$$\\begin{align}\n",
    "\\frac{dx}{dt} &= 3x+10y\\\\\n",
    "\\frac{dy}{dt} &= -2y\n",
    "\\end{align}$$"
   ]
  },
  {
   "cell_type": "markdown",
   "id": "2919d820-1f30-460e-8db8-5e6cfeb4b649",
   "metadata": {},
   "source": [
    "### <a name='17quest2a'>Question 2a:</a>\n",
    "---\n",
    "\n",
    "Explain in practical terms how each of the populations is changing over time. Are the two populations interacting? What happens to the size of each colony in the long run?\n",
    "\n",
    "#### Solution to Question 2a:\n",
    "---\n",
    "\n",
    "<br> <br> <br>"
   ]
  },
  {
   "cell_type": "markdown",
   "id": "ea2ecd98-c390-493e-8870-dab6c7200bf8",
   "metadata": {},
   "source": [
    "### <a name='17quest2b'>Question 2b:</a>\n",
    "---\n",
    "\n",
    "Notice the solution for $y$ is the same for this modified setup. Give an educated guess for the general form of the expression for the new solution for $x(t)$.\n",
    "\n",
    "\n",
    "#### Solution to Question 2b:\n",
    "---\n",
    "\n",
    "<br> <br> <br>"
   ]
  },
  {
   "cell_type": "markdown",
   "id": "25d49e34-5246-4b5c-9bfa-493fb9261157",
   "metadata": {},
   "source": [
    "### <a name='17quest2c'>Question 2c:</a>\n",
    "---\n",
    "\n",
    "Substitute your answer in [Question 2b](#17quest2b) as well as the original solution for $y(t)$ in [Question 1b](#17quest1b) into the differential equation for $x$,\n",
    "\n",
    "$$\\frac{dx}{dt} = 3x+10y,$$\n",
    "\n",
    "and find the general solution for $x$.\n",
    "\n",
    "### Solution to Question 2c:\n",
    "---\n",
    "\n",
    "<br> <br> <br>"
   ]
  },
  {
   "cell_type": "markdown",
   "id": "28f6f9c1-ee00-496d-80d9-a204e964d231",
   "metadata": {},
   "source": [
    "# Linear Systems of Differential Equations\n",
    "---"
   ]
  },
  {
   "cell_type": "markdown",
   "id": "f7fcf832-a0ce-4fdf-8f53-9af869b06c6b",
   "metadata": {},
   "source": [
    "## <a name='17quest3'>Question 3:</a>\n",
    "---\n",
    "\n",
    "If we consider a general system of differential equations of the form\n",
    "\n",
    "$$\\begin{align}\n",
    "x' &= ax+by \\\\\n",
    "y' &= cx+dy\n",
    "\\end{align}$$\n",
    "\n",
    "then we can generalize our approach in the previous example by guessing solutions of the form\n",
    "\n",
    "$$x(t) = C_1 e^{r_1t} + C_2 e^{r_2t} \\qquad \\mbox{and} \\qquad y(t) = C_3e^{r_1t} + C_4 e^{r_2t},$$\n",
    "\n",
    "where we note there is some dependence between constant $C_1$ and $C_3$ and constants $C_2$ and $C_4$. **Explain how we might interpret the meaning of the constants $r_1$ and $r_2$ in practical terms.** \n",
    "\n",
    "### Solution to Question 3:\n",
    "---\n",
    "\n",
    "<br> <br> <br>"
   ]
  },
  {
   "cell_type": "markdown",
   "id": "cd5134bf-0c5e-4ec4-8076-9366513eb9b9",
   "metadata": {},
   "source": [
    "## <a name='17quest4'>Question 4:</a>\n",
    "---\n",
    "\n",
    "By plugging the guess for $x$ and $y$ into the differential equation $x'= ax+by$ you can derive two equations that the values $r_1$ and $r_2$ must satisfy. Replace each ?? with an appropriate expression to give the two equations. \n",
    "\n",
    "*Hint: Run the code cell below to help save some time with the calculus and algebraic manipulations.*\n",
    "\n",
    "### Solution to Question 4:\n",
    "---\n",
    "\n",
    "$r_1 C_1 = ??$\n",
    "\n",
    "<br>\n",
    "\n",
    "$r_2 C_2 = ??$ \n",
    "\n",
    "<br> "
   ]
  },
  {
   "cell_type": "code",
   "execution_count": null,
   "id": "a8aa5dea-350a-41c4-acd6-4d666e1a0f88",
   "metadata": {},
   "outputs": [],
   "source": [
    "import sympy as sym\n",
    "\n",
    "# Creating symbols\n",
    "r1, r2, C1, C2, C3, C4, a, b, t, x, y = sym.symbols('r1, r2, C1, C2, C3, C4, a, b, t, x, y')  \n",
    "\n",
    "x = C1 * sym.exp(r1 * t) + C2 * sym.exp(r2 * t)  # General solution for x\n",
    "y = C3 * sym.exp(r1 * t) + C4 * sym.exp(r2 * t)  # General solution for y\n",
    "\n",
    "\n",
    "left = x.diff(t,1)  # find formula for x' on left side\n",
    "right = sym.simplify(a*x + b*y)  # simplify right side\n",
    "\n",
    "print(\"The left side is \", left,\n",
    "     \"\\n \\n The right side side is \", right)"
   ]
  },
  {
   "cell_type": "markdown",
   "id": "9a12133e-b276-4463-a0bf-7b0ded967f6d",
   "metadata": {},
   "source": [
    "## <a name='17quest5'>Question 5:</a>\n",
    "---\n",
    "\n",
    "Similar to [Question 4](#17quest4), by plugging the guess for $x$ and $y$ into the differential equation $y'= cx+dy$ you can derive two equations that the values $r_1$ and $r_2$ must satisfy. Replace each ?? with an appropriate expression to give the two equations. \n",
    "\n",
    "\n",
    "*Hint: Run the code cell below to help save some time with the calculus and algebraic manipulations.*\n",
    "\n",
    "### Solution to Question 5:\n",
    "---\n",
    "\n",
    "$r_1 C_3 = ??$\n",
    "\n",
    "<br>\n",
    "\n",
    "$r_2 C_4 = ??$ \n",
    "\n",
    "<br> "
   ]
  },
  {
   "cell_type": "code",
   "execution_count": null,
   "id": "11b46610-17fa-44a5-a19d-df570be55242",
   "metadata": {},
   "outputs": [],
   "source": [
    "#import sympy as sym  # only need to import once\n",
    "\n",
    "# Creating symbols\n",
    "r1, r2, C1, C2, C3, C4, c, d, t, x, y = sym.symbols('r1, r2, C1, C2, C3, C4, c, d, t, x, y')  \n",
    "\n",
    "x = C1 * sym.exp(r1 * t) + C2 * sym.exp(r2 * t)  # General solution for x\n",
    "y = C3 * sym.exp(r1 * t) + C4 * sym.exp(r2 * t)  # General solution for y\n",
    "\n",
    "\n",
    "left = y.diff(t,1)  # find formula for x' on left side\n",
    "right = sym.simplify(c*x + d*y)  # simplify right side\n",
    "\n",
    "print(\"The left side is \", left,\n",
    "     \"\\n \\n The right side side is \", right)"
   ]
  },
  {
   "cell_type": "markdown",
   "id": "019dfad3-0e9f-48ae-b591-842763c218d2",
   "metadata": {},
   "source": [
    "## <a name='17quest6'>Question 6:</a>\n",
    "---\n",
    "\n",
    "From [Question 4](#17quest4) and [Question 5](#17quest5), we get a system of two equations that $r_1$ must simultaneously satisfy. Write the resulting system of two equations below.\n",
    "\n",
    "\n",
    "### Solution to Question 6:\n",
    "---\n",
    "\n",
    "<br>\n",
    "\n",
    "$r_1 C_1 = ??$\n",
    "\n",
    "<br>\n",
    "\n",
    "$r_1 C_3 = ??$\n",
    "\n",
    "<br> "
   ]
  },
  {
   "cell_type": "markdown",
   "id": "aaa2dc07-0fa9-4dab-b1d7-44fb75700197",
   "metadata": {},
   "source": [
    "# Essentials of Linear Algebra\n",
    "---\n",
    "\n",
    "An $m \\times n$ <font color=\"dodgerblue\">**matrix**</font> is a rectangular array of numbers with $m$ rows and $n$ columns. For example\n",
    "\n",
    "$$\\begin{bmatrix} \n",
    "3 & -2 & 7 \\\\ \n",
    "-12 & 0 & 5 \n",
    "\\end{bmatrix}$$\n",
    "\n",
    "is a 2 by 3 matrix since it has 2 rows and 3 columns."
   ]
  },
  {
   "cell_type": "markdown",
   "id": "88b0aced-c56c-40ea-8c5c-083645ec50ac",
   "metadata": {},
   "source": [
    "## Multiplication of a Matrix by a Scalar\n",
    "---\n",
    "\n",
    "We can multiple a scalar (a regular number) and a matrix by simply multiplying each value in the matrix by the scalar. For example:\n",
    "\n",
    "$$2 \\begin{bmatrix} \n",
    "3 & -2 & 7 \\\\ \n",
    "-12 & 0 & 5\n",
    "\\end{bmatrix} = \n",
    "\\begin{bmatrix}\n",
    "6 & -4 & 14 \\\\\n",
    "-24 & 0 & 10\n",
    "\\end{bmatrix}\n",
    "\\qquad \\mbox{and} \\qquad\n",
    "\\lambda \\begin{bmatrix} C_1 \\\\ C_3 \\end{bmatrix} = \n",
    "\\begin{bmatrix} \\lambda C_1 \\\\ \\lambda C_3  \\end{bmatrix}$$ "
   ]
  },
  {
   "cell_type": "markdown",
   "id": "bcdb1b4b-bf76-4293-8673-cf9b27dade62",
   "metadata": {},
   "source": [
    "## Adding Matrices\n",
    "---\n",
    "\n",
    "We can add two $m$ by $n$ matrices $A$ and $B$ by adding values in the same row and column, for example\n",
    "\n",
    "$$\\begin{bmatrix}\n",
    "3 & -2 & 7 \\\\\n",
    "-12 & 0 & 5\n",
    "\\end{bmatrix} + \\begin{bmatrix} \n",
    "0 & 2 & -4 \\\\\n",
    "10 & -3 & 4 \n",
    "\\end{bmatrix} =  \\begin{bmatrix} \n",
    "3 & 0 & 3 \\\\\n",
    "-2 & -3 & 9\n",
    "\\end{bmatrix} .$$\n",
    "\n",
    "**Note as a result of this definition we cannot add two matrices if they have different dimensions.**"
   ]
  },
  {
   "cell_type": "markdown",
   "id": "48dc21a0-06d9-44f1-b26a-5177fda5a7af",
   "metadata": {},
   "source": [
    "## Multiplication of Matrices\n",
    "---\n",
    "\n",
    "Multiplication of two matrices is a little more complicated. Let $A$ denote an $m$ by $n$ matrix and $B$ denote an $n$ by $p$ matrix, then we have\n",
    "\n",
    "$$AB = \\begin{bmatrix}\n",
    "\\color{dodgerblue}{\\mathbf{a_{11}}} & \\color{dodgerblue}{\\mathbf{a_{12}}} & \\color{dodgerblue}{\\mathbf{\\ldots}} & \\color{dodgerblue}{\\mathbf{a_{1n}}} \\\\\n",
    "a_{21} & a_{22} & \\ldots & a_{2n} \\\\\n",
    "\\vdots & \\vdots & & \\vdots \\\\\n",
    "a_{m1} & a_{m2} & \\mathbf{\\ldots} & a_{mn} \n",
    "\\end{bmatrix}\n",
    "\\begin{bmatrix} \n",
    "b_{11} & \\color{dodgerblue}{\\mathbf{b_{12}}} & \\ldots & b_{1p} \\\\\n",
    "b_{21} & \\color{dodgerblue}{\\mathbf{b_{22}}} & \\ldots & b_{2p} \\\\\n",
    "\\vdots & \\color{dodgerblue}{\\mathbf{ \\vdots }} & & \\vdots \\\\\n",
    "b_{n1} & \\color{dodgerblue}{\\mathbf{b_{n2}}} & \\ldots & b_{np}\n",
    "\\end{bmatrix} = \\begin{bmatrix}\n",
    "c_{11} & \\color{dodgerblue}{\\mathbf{c_{12}}} & \\ldots & c_{1p} \\\\\n",
    "c_{21} & c_{22} & \\ldots & c_{2p} \\\\\n",
    "\\vdots & \\vdots & & \\vdots \\\\\n",
    "c_{m1} & c_{m2} & \\ldots & b_{mp}\n",
    "\\end{bmatrix}$$\n",
    "\n",
    "where entry $c_{ij}$ in the $i^{\\mbox{th}}$ row and $j^{\\mbox{th}}$ column of the product is found by\n",
    "multiplying and adding entries of the $i^{\\mbox{th}}$ row of $A$ and the $j^{\\mbox{th}}$ column\n",
    "of $B$ as follows:\n",
    "\n",
    "$$c_{ij} = a_{i1}b_{1j} + a_{i2}b_{2j} + \\ldots + a_{in}b_{nj} = \\sum_{k = 1}^n a_{ik}b_{kj}.$$\n",
    "\n",
    "**Note that as a result of this definition $\\mathbf{AB}$ is only defined if the number of columns of $\\mathbf{A}$ matches\n",
    "the number of rows of $\\mathbf{B}$.**"
   ]
  },
  {
   "cell_type": "markdown",
   "id": "24d5ab9f-fbff-495d-99a4-da305360149b",
   "metadata": {},
   "source": [
    "## Matrix Arithmetic in Python Using Sympy\n",
    "---\n",
    "\n",
    "The `sympy` package can be used to perform matrix operations such as multiplication and addition.\n",
    "\n",
    "- We enter matrices using `sym.Matrix([ [row1], [row2], ... , [last_row] ])`.\n",
    "\n",
    "- We can find the size of a matrix using `sym.shape(M)`.\n",
    "\n",
    "- We can add two matrices $M$ and $N$ (assuming they are the same size) using `M + N`.\n",
    "\n",
    "- We can multiply scalar $c$ and matrix $M$ with `c * M`.\n",
    "\n",
    "- We can multiply two matrices $M$ and $N$ (assuming the have the appropriate sizes) with `M * N`.\n",
    "\n",
    "The code cells below verify the calculations in the examples above as well as an example of matrix multiplication.\n"
   ]
  },
  {
   "cell_type": "markdown",
   "id": "d7adbbdf-a372-45a5-a9be-2b60cb71a9cb",
   "metadata": {},
   "source": [
    "### Creating Matrices\n",
    "---\n"
   ]
  },
  {
   "cell_type": "code",
   "execution_count": null,
   "id": "6b16ff42-e0f9-4f61-b347-873305c696eb",
   "metadata": {},
   "outputs": [],
   "source": [
    "#import sympy as sym  # we have already imported sympy\n",
    "\n",
    "# Create a 2 by 3 matrix M\n",
    "M = sym.Matrix([[3, -2, 7],\n",
    "          [-12, 0, 5]])\n",
    "\n",
    "# Create a 2 by 3 matrix N\n",
    "N = sym.Matrix([[0, 2, -4],\n",
    "          [10, -3, 4]])\n",
    "\n",
    "# Create a 3 by 2 matrix P\n",
    "P = sym.Matrix([[5, 2], \n",
    "          [-1, 8],\n",
    "          [6, -3]])"
   ]
  },
  {
   "cell_type": "markdown",
   "id": "23eb60f4-10ab-4c71-95ee-879aadfc12b8",
   "metadata": {},
   "source": [
    "### Scalar Multiplication\n",
    "---\n"
   ]
  },
  {
   "cell_type": "code",
   "execution_count": null,
   "id": "e7e09f79-bf6a-4cd6-a413-449975f08a65",
   "metadata": {},
   "outputs": [],
   "source": [
    "# Scalar multiplication example\n",
    "\n",
    "2 * M"
   ]
  },
  {
   "cell_type": "markdown",
   "id": "562e0a19-e62d-4b44-b37c-7f5ecd6bb61f",
   "metadata": {},
   "source": [
    "### Adding Matrices\n",
    "---\n"
   ]
  },
  {
   "cell_type": "code",
   "execution_count": null,
   "id": "40d0ea12-04ae-435f-8f26-699d10a4a604",
   "metadata": {},
   "outputs": [],
   "source": [
    "# Matrix Addition\n",
    "\n",
    "M + N\n",
    "\n",
    "# See what happens if you try the command below\n",
    "# M + P"
   ]
  },
  {
   "cell_type": "markdown",
   "id": "8b9f56c5-ed14-4182-b2fd-0df4f32666cf",
   "metadata": {},
   "source": [
    "### Matrix Multiplication\n",
    "---\n"
   ]
  },
  {
   "cell_type": "code",
   "execution_count": null,
   "id": "2872d216-1b93-47d7-8518-a327238fd210",
   "metadata": {},
   "outputs": [],
   "source": [
    "# Matrix Multiplication\n",
    "\n",
    "M * P\n",
    "\n",
    "# See what happens if you try the command below\n",
    "# M * N"
   ]
  },
  {
   "cell_type": "markdown",
   "id": "d4841d77-eb8f-4c42-9e95-bea2f378ca03",
   "metadata": {},
   "source": [
    "## <a name='17quest7'>Question 7:</a>\n",
    "---\n",
    "\n",
    "Compute the product $AB$ for the matrices:\n",
    "\n",
    "$$A =  \\begin{bmatrix} 3 & 2 & -1  \\\\ -7 & 0 & 5 \\end{bmatrix}\n",
    "\\qquad \\mbox{and} \\qquad\n",
    "B = \\begin{bmatrix} 1 \\\\ 2 \\\\ -1 \\end{bmatrix}$$\n",
    "\n",
    "Feel free to compute by hand or using Python by inserting a code cell to do the calculations.\n",
    "\n",
    "### Solution to Question 7:\n",
    "---\n",
    "\n",
    "<br>\n",
    "\n",
    "$$AB = \\begin{bmatrix}\n",
    "?? \\\\\n",
    "?? \n",
    "\\end{bmatrix}$$\n",
    "\n",
    "<br>"
   ]
  },
  {
   "cell_type": "markdown",
   "id": "909f75cc-8a8c-4480-aa15-262991d3e654",
   "metadata": {},
   "source": [
    "## <a name='17quest8'>Question 8:</a>\n",
    "---\n",
    "\n",
    "Compute the product $AB$ for the matrices:\n",
    "\n",
    "$$A =  \\begin{bmatrix} a & b \\\\ c & d \\end{bmatrix}\n",
    "\\qquad \\mbox{and} \\qquad\n",
    "B = \\begin{bmatrix} C_1 \\\\ C_2 \\end{bmatrix}$$\n",
    "\n",
    "Feel free to compute by hand or using Python by inserting a code cell to do the calculations.\n",
    "\n",
    "### Solution to Question 8:\n",
    "---\n",
    "\n",
    "<br>\n",
    "\n",
    "$$AB = \\begin{bmatrix}\n",
    "?? \\\\\n",
    "?? \n",
    "\\end{bmatrix}$$\n",
    "\n",
    "<br>"
   ]
  },
  {
   "cell_type": "markdown",
   "id": "0907d6b8-72af-42b6-aaca-1fa3fbd8a293",
   "metadata": {},
   "source": [
    "# Matrix Terminology\n",
    "---\n",
    "\n",
    "Some important terminology when working with matrices:\n",
    "\n",
    "- A matrix that has only one column is often called a <font color=\"dodgerblue\">**column vector**</font>.\n",
    "- A column vector that is a column of all zeros is called the <font color=\"dodgerblue\">**zero vector**</font> and denoted <font color=\"dodgerblue\">$\\mathbf{0}$ or $\\vec{0}$</font> in order to distinguish itself from the scalar value 0.\n",
    "- An $n \\times n$ matrix (same number of rows and columns) is called a <font color=\"dodgerblue\">**square matrix**</font>."
   ]
  },
  {
   "cell_type": "markdown",
   "id": "0236e45c-583d-452e-83ac-9a63792b3856",
   "metadata": {},
   "source": [
    "## <a name='17quest9'>Question 9:</a>\n",
    "---\n",
    "\n",
    "Give the matrix $A$ such that the system of equations for $r_1$ in [Question 6](#17quest6) can be written in matrix form as\n",
    "\n",
    "$$A \\begin{bmatrix}  C_1 \\\\ C_3   \\end{bmatrix} = r_1  \\begin{bmatrix} C_1 \\\\ C_3  \\end{bmatrix}.$$\n",
    "\n",
    "### Solution to Question 9:\n",
    "---\n",
    "\n",
    "<br> \n",
    "\n",
    "$$A = \\begin{bmatrix} \n",
    "?? & ??\\\\\n",
    "?? & ??\n",
    "\\end{bmatrix}$$\n",
    "\n",
    "<br>"
   ]
  },
  {
   "cell_type": "markdown",
   "id": "23155785-fafd-4a4a-bcc5-4d7c30ea1f3c",
   "metadata": {},
   "source": [
    "# Expressing Systems in Matrix Form\n",
    "---\n",
    "\n",
    "Let $\\mathbf{x'}$ denote a column vector of derivatives such as\n",
    "\n",
    "$$\\mathbf{x'} =  \\begin{bmatrix} \\dfrac{dx_1}{dt} \\\\ \\dfrac{dx_2}{dt} \\\\ \\dfrac{dx_3}{dt} \\end{bmatrix}.$$"
   ]
  },
  {
   "cell_type": "markdown",
   "id": "d7bfd475-91be-4ac4-b2ac-d971cb5a8956",
   "metadata": {},
   "source": [
    "## <a name='17quest10'>Question 10:</a>\n",
    "---\n",
    "\n",
    "Give the matrix $A$ such that the system of differential equations below can be written in the form $\\mathbf{x'} = A \\mathbf{x}$.\n",
    "\n",
    "\n",
    "$$\\begin{array}{rl}\n",
    "\\dfrac{dx_1}{dt} &= 4 x_1 + 7 x_2 - x_3 \\\\\n",
    "\\dfrac{dx_2}{dt} &= -2x_1-11x_3\\\\\n",
    "\\dfrac{dx_3}{dt} &= 8x_3-x_2\n",
    "\\end{array}$$\n",
    "\n",
    "### Solution to Question 10:\n",
    "---\n",
    "\n",
    "$$\\begin{bmatrix} \\dfrac{dx_1}{dt} \\\\ \\dfrac{dx_2}{dt} \\\\ \\dfrac{dx_3}{dt} \\end{bmatrix} = \n",
    "\\begin{bmatrix}\n",
    "?? & ?? & ?? \\\\\n",
    "?? & ?? & ?? \\\\\n",
    "?? & ?? & ?? \n",
    "\\end{bmatrix}\n",
    "\\begin{bmatrix} x_1 \\\\ x_2 \\\\ x_3 \\end{bmatrix}.$$\n",
    "\n",
    "<br> "
   ]
  },
  {
   "cell_type": "markdown",
   "id": "302e837d-4d0c-4437-80d4-b4fe0b187074",
   "metadata": {},
   "source": [
    "## <a name='17quest11'>Question 11:</a>\n",
    "---\n",
    "\n",
    "Express the system below in matrix form.\n",
    "\n",
    "\n",
    "$$\\begin{array}{rl}\n",
    "x' &= \\cos{(2t)}x + \\sin{(2t)}z\\\\\n",
    "y' &= e^ty \\\\\n",
    "z' &= \\sin{(2t)}x + \\cos{(2t)}z\n",
    "\\end{array}$$\n",
    "\n",
    "### Solution to Question 11:\n",
    "---\n",
    "\n",
    "$$\\begin{bmatrix} x' \\\\ y' \\\\ z' \\end{bmatrix} = \n",
    "\\begin{bmatrix}\n",
    "?? & ?? & ?? \\\\\n",
    "?? & ?? & ?? \\\\\n",
    "?? & ?? & ?? \n",
    "\\end{bmatrix}\n",
    "\\begin{bmatrix} x \\\\ y \\\\ z \\end{bmatrix}.$$\n",
    "\n",
    "<br>"
   ]
  },
  {
   "cell_type": "markdown",
   "id": "6cb43917-ba6d-4c4d-a475-4b2600726af1",
   "metadata": {},
   "source": [
    "# Eigenvalues of a $2 \\times 2$ Matrix\n",
    "---\n",
    "\n",
    "We say a scalar $\\lambda$ is an <font color=\"dodgerblue\">**eigenvalue**</font> of a square matrix $A$ if there exists a nonzero vector $\\mathbf{v}$ such that $A\\mathbf{v} = \\lambda \\mathbf{v}$. The eigenvalues of matrix have many useful applications and interpretations. We will see in the context of differential equations, they can tell us very important information about how the solutions behave.\n",
    "\n",
    "We will mostly be working with a system of two differential equations, so it will suffice to restrict our attention to the case where $A$ is a $2 \\times 2$ matrix, but the discussion below can be generalized to deal with much larger systems. In the $2 \\times 2$ case, $\\lambda$ is an eigenvalue of $A$ if there exists a nonzero vector $\\mathbf{v}$ such that \n",
    "\n",
    "$$\\begin{align}\n",
    "\\lambda \\mathbf{v} &= \\begin{bmatrix} a & b  \\\\ c & d \\end{bmatrix} \\mathbf{v} \\\\\n",
    " \\textbf{0} &= \\begin{bmatrix} a & b  \\\\ c & d \\end{bmatrix} \\mathbf{v} - \\lambda \\mathbf{v} \\\\\n",
    " \\textbf{0} &= \\begin{bmatrix} a & b  \\\\ c & d \\end{bmatrix}  \\mathbf{v} - \\begin{bmatrix} \\lambda & 0  \\\\ 0 & \\lambda \\end{bmatrix}  \\mathbf{v} \\\\\n",
    " \\textbf{0} &= \\begin{bmatrix} a-\\lambda & b  \\\\ c & d-\\lambda \\end{bmatrix} \\mathbf{v} \n",
    " \\end{align}$$\n",
    " \n",
    "Using linear algebra, we can show that $\\lambda$ is an eigenvalue of $A$ if and only if\n",
    "\n",
    "$$ \\mbox{det} \\left(  \\begin{bmatrix} a-\\lambda & b  \\\\ c & d-\\lambda \\end{bmatrix} \\right) = \\color{dodgerblue}{(a-\\lambda)(d-\\lambda) - bc = 0}.$$\n",
    "\n",
    "- Note the resulting quadratic equation (in $\\lambda$) is called the <font color=\"dodgerblue\">**characteristic equation**</font> for $A$.\n",
    "\n",
    "- **We can find eigenvalues of square matrices**, but not matrices whose number of rows and columns are not equal."
   ]
  },
  {
   "cell_type": "markdown",
   "id": "e6f9f72d-79eb-45fc-8f2e-04ef13562f0d",
   "metadata": {},
   "source": [
    "## Finding Eigenvalues with Sympy\n",
    "---\n",
    "\n",
    "Let $M$ denote a square matrix.\n",
    "\n",
    "- To find the characteristic polynomial corresponding $M$, use `M.charpoly()`.\n",
    "- To find the eigenvalues of $M$, use the command `M.eigenvals()`.\n",
    "\n",
    "### Example: Finding Eigenvalues of $3 \\times 3$ Matrix\n",
    "---\n",
    "\n",
    "Consider the $3 \\times 3$ matrix\n",
    "\n",
    "$$M = \\begin{bmatrix} \n",
    "-13 & -8 & -4 \\\\\n",
    "12 & 7 & 4\\\\\n",
    "24 & 16 & 7\n",
    "\\end{bmatrix}$$\n",
    "\n",
    "- In the first code cell below, we find the eigenvalues by finding the zeros of the characteristic equation.\n",
    "- In the second code cell below, we check our eigenvalues using `sym.eigenvals(M)`.\n"
   ]
  },
  {
   "cell_type": "code",
   "execution_count": null,
   "id": "d3669df9-cfcd-494a-ae14-096f8c0336bb",
   "metadata": {},
   "outputs": [],
   "source": [
    "# Finding Eigenvalues with Characteristic Polynomials\n",
    "\n",
    "# import sympy as sym  # we have already imported\n",
    "\n",
    "# Note the lambda is reserved, so we misspell on purpose\n",
    "lamda = sym.symbols('lamda')  \n",
    "\n",
    "# Define matrix M\n",
    "M = sym.Matrix([[-13, -8, -4],\n",
    "                [12, 7, 4], \n",
    "                [24, 16, 7]])\n",
    "\n",
    "# Find characteristic polynomial of M\n",
    "p = M.charpoly(lamda)\n",
    "\n",
    "# Factor the characteristic equation\n",
    "sym.factor(p.as_expr())"
   ]
  },
  {
   "cell_type": "code",
   "execution_count": null,
   "id": "80d2ee6f-444c-477a-8730-83cea5e3ca83",
   "metadata": {},
   "outputs": [],
   "source": [
    "# Checking our previous result\n",
    "\n",
    "M.eigenvals()"
   ]
  },
  {
   "cell_type": "markdown",
   "id": "5ae133e9-194c-4f70-937d-127fcbf8b80f",
   "metadata": {},
   "source": [
    "# <a name='17Steps'>A Step by Step Process For Solving Linear Systems of ODES</a>\n",
    "---\n",
    "\n",
    "Recall the model for bacteria populations $x$ and $y$ in Colony 1 and Colony 2 in [Question 2](#17quest2). Follow the steps\n",
    "below to find general solutions to the system\n",
    "\n",
    "$$\\begin{align}\n",
    "\\frac{dx}{dt} &= 3x+10y \\\\\n",
    "\\frac{dy}{dt} &= -2y\n",
    "\\end{align}.$$"
   ]
  },
  {
   "cell_type": "markdown",
   "id": "e0a803e5-d93d-4b11-8b25-a9452b850303",
   "metadata": {},
   "source": [
    "## <a name='17step1'>Step 1:</a>\n",
    "---\n",
    "\n",
    "Write the system in matrix form and identify the matrix $A$.\n",
    "\n",
    "### Solution to Step 1:\n",
    "---\n",
    "\n",
    "<br> \n",
    "\n",
    "$$A = \\begin{bmatrix}\n",
    "?? & ?? \\\\\n",
    "?? & ??\n",
    "\\end{bmatrix}$$\n",
    "\n",
    "<br> "
   ]
  },
  {
   "cell_type": "markdown",
   "id": "34827cdb-3de2-44b1-a46b-d41f3ef78b53",
   "metadata": {},
   "source": [
    "## <a name='17step2'>Step 2:</a>\n",
    "---\n",
    "\n",
    "Determine the characteristic equation.\n",
    "\n",
    "*Hint: You may find the equation by hand or by inserting a code cell to help with the calculation.*\n",
    "\n",
    "### Solution to Step 2:\n",
    "---\n",
    "\n",
    "<br> <br> <br> "
   ]
  },
  {
   "cell_type": "markdown",
   "id": "7b6b8344-5404-44a6-aa91-6cc7148c24bb",
   "metadata": {},
   "source": [
    "## <a name='17step3'>Step 3:</a>\n",
    "---\n",
    "\n",
    "Solve the characteristic equation. \n",
    "\n",
    "*Hint: You may solve the equation by hand or by inserting a code cell to help with the calculation.*\n",
    "\n",
    "### Solution to Step 3:\n",
    "---\n",
    "\n",
    "<br> <br> <br> "
   ]
  },
  {
   "cell_type": "markdown",
   "id": "de79cfe5-9f9d-4ceb-939b-38ba60f8b5a7",
   "metadata": {},
   "source": [
    "## <a name='17step4'>Step 4:</a>\n",
    "---\n",
    "\n",
    "Give a general solution for $x(t)$. \n",
    "\n",
    "### Solution to Step 4:\n",
    "---\n",
    "\n",
    "<br> <br> <br> "
   ]
  },
  {
   "cell_type": "markdown",
   "id": "1afba52b-9273-43db-98e6-f43f6073bd8a",
   "metadata": {},
   "source": [
    "## <a name='17step5'>Step 5:</a>\n",
    "---\n",
    "\n",
    "Plug your solution for $x(t)$ into the differential equation $x'$ and solve for $y(t)$. \n",
    "\n",
    "### Solution to Step 5:\n",
    "---\n",
    "\n",
    "<br> <br> <br>"
   ]
  },
  {
   "cell_type": "markdown",
   "id": "ec845f9a-1de7-4573-a2b0-fa237b1ac74d",
   "metadata": {},
   "source": [
    "# Practice Questions\n",
    "---"
   ]
  },
  {
   "cell_type": "markdown",
   "id": "e1e96cd7-fb2b-43d5-977f-923ddbca8281",
   "metadata": {},
   "source": [
    "## <a name=\"17quest12\">Question 12:</a>\n",
    "---\n",
    "\n",
    "Find a general solution to the system of differential equations.\n",
    "\n",
    "$$\\begin{array}{l} x'=-\\frac{20}{9}x-\\frac{8}{9}y\\\\ y'=-\\frac{4}{9}x-\\frac{34}{9}y\\end{array}$$ \n",
    "\n",
    "### Solution to Question 12:\n",
    "---\n",
    "\n",
    "<br> <br> <br> <br>"
   ]
  },
  {
   "cell_type": "markdown",
   "id": "15adc517-d39d-4002-b192-d0a5e7c0c501",
   "metadata": {},
   "source": [
    "## <a name=\"17quest13\">Question 13:</a>\n",
    "---\n",
    "\n",
    "Find a general solution to the system of differential equations.\n",
    "\n",
    "$$\\begin{array}{l} x'=x-y\\\\ y'=2x-y\\end{array}$$\n",
    "\n",
    "\n",
    "### Solution to Question 13:\n",
    "---\n",
    "\n",
    "<br> <br> <br> <br>"
   ]
  },
  {
   "cell_type": "markdown",
   "id": "06c1d22e-e84e-42a4-9c94-dd6a33fe3b31",
   "metadata": {},
   "source": [
    "## <a name=\"17quest14\">Question 14:</a>\n",
    "---\n",
    "\n",
    "Find a general solution to the system of differential equations.\n",
    "\n",
    "$$\\begin{array}{l}x'=12x-3y\\\\y'=3x+6y \\end{array}$$\n",
    "\n",
    "### Solution to Question 14:\n",
    "---\n",
    "\n",
    "<br> <br> <br> <br>"
   ]
  },
  {
   "cell_type": "markdown",
   "id": "ac241233-653d-45d6-a0f2-4302324edbe9",
   "metadata": {},
   "source": [
    "## <a name=\"17quest15\">Question 15:</a>\n",
    "---\n",
    "\n",
    "Find a general solution to the system of differential equations.\n",
    "\n",
    "$$\\begin{array}{l} x' =4x+5y\\\\y'=-x+2y \\end{array}$$\n",
    "\n",
    "### Solution to Question 15:\n",
    "---\n",
    "\n",
    "<br> <br> <br> <br>"
   ]
  },
  {
   "cell_type": "markdown",
   "id": "191d29b7-5c57-4b01-95ae-523f8298a2a8",
   "metadata": {},
   "source": [
    "## <a name=\"17quest16\">Question 16:</a>\n",
    "---\n",
    "\n",
    "Find a general solution to the system of differential equations.\n",
    "\n",
    "$$\\begin{array}{l} x'=4x+21y\\\\y'=-2x-8y\\end{array}$$\n",
    "\n",
    "### Solution to Question 16:\n",
    "---\n",
    "\n",
    "<br> <br> <br> <br>"
   ]
  },
  {
   "cell_type": "markdown",
   "id": "625e40c1-b650-47d9-b703-672ebddb5540",
   "metadata": {},
   "source": [
    "## <a name=\"17quest17\">Question 17:</a>\n",
    "---\n",
    "\n",
    "Find a general solution to the system of differential equations.\n",
    "\n",
    "$$\\begin{array}{l} x'=2x+2y\\\\y'=x+3y \\end{array}$$\n",
    "\n",
    "### Solution to Question 17:\n",
    "---\n",
    "\n",
    "<br> <br> <br> <br>"
   ]
  },
  {
   "cell_type": "markdown",
   "id": "2ee306ec",
   "metadata": {},
   "source": [
    "# Creative Commons License Information\n",
    "\n",
    "---\n",
    "\n",
    "<a rel=\"license\" href=\"https://creativecommons.org/licenses/by-nc-sa/4.0/\"><img alt=\"Creative Commons License\" style=\"border-width:0\" src=\"https://i.creativecommons.org/l/by-nc-sa/4.0/80x15.png\" /></a><br /><span xmlns:dct=\"http://purl.org/dc/terms/\" property=\"dct:title\">*Exploring Differential Equations*</span> by <a xmlns:cc=\"http://creativecommons.org/ns#\" href=\"https://github.com/CU-Denver-MathStats-OER/ODEs\" property=\"cc:attributionName\" rel=\"cc:attributionURL\">Adam Spiegler</a> is licensed under a <a rel=\"license\" href=\"http://creativecommons.org/licenses/by-nc-sa/4.0/\">Creative Commons Attribution-NonCommercial-ShareAlike 4.0 International License</a>.<br />Based on a work at <a xmlns:dct=\"http://purl.org/dc/terms/\" href=\"https://github.com/CU-Denver-MathStats-OER/ODEs\" rel=\"dct:source\">https://github.com/CU-Denver-MathStats-OER/ODEs</a> and original content created by Rasmussen, C., Keene, K. A., Dunmyre, J., & Fortune, N. (2018). *Inquiry oriented differential equations: Course materials*. Available at <a href=\"https://iode.sdsu.edu\">https://iode.sdsu.edu</a>."
   ]
  }
 ],
 "metadata": {
  "kernelspec": {
   "display_name": "Python 3",
   "language": "python",
   "name": "python3"
  },
  "language_info": {
   "codemirror_mode": {
    "name": "ipython",
    "version": 3
   },
   "file_extension": ".py",
   "mimetype": "text/x-python",
   "name": "python",
   "nbconvert_exporter": "python",
   "pygments_lexer": "ipython3",
   "version": "3.8.8"
  }
 },
 "nbformat": 4,
 "nbformat_minor": 5
}
