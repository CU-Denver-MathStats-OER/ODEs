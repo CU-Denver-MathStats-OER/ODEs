{
 "cells": [
  {
   "cell_type": "markdown",
   "id": "6c68c59b-08ed-4cea-ac4d-3e07d98b41ce",
   "metadata": {},
   "source": [
    "[![Open In Colab](https://colab.research.google.com/assets/colab-badge.svg)](https://githubtocolab.com/CU-Denver-MathStats-OER/ODEs/blob/main/Chp3/16-Phase-Plane.ipynb)\n"
   ]
  },
  {
   "cell_type": "markdown",
   "id": "a7bfec72-b994-4f55-9518-c532f1fc4cdb",
   "metadata": {},
   "source": [
    "# Lab 3.3: Phase Plane Equations \n",
    "---\n",
    "\n",
    "<font color='blue'>Reading: [PhasePlane.pdf](https://ucdenver.instructure.com/courses/487741/files/17437147/download?download_frd=1) posted on Canvas</font>\n",
    "\n",
    "\n",
    "Consider a system of two differential equations:\n",
    "\n",
    "$$\\begin{aligned}\n",
    "\\frac{dx}{dt} &=f(x,y) \\\\\n",
    "\\frac{dy}{dt} &=g(x,y)\n",
    "\\end{aligned}$$\n",
    "\n",
    "Recall from the chain rule we have\n",
    "$$ \\frac{dy}{dx} \\frac{dx}{dt} = \\frac{dy}{dt},$$\n",
    "which gives the <font color = \"blue\">**phase plane equation**</font>\n",
    "$$\\color{blue}{\\boxed{\\large \\frac{dy}{dx} = \\frac{ \\frac{dy}{dt}}{\\frac{dx}{dt}} = \\frac{g(x,y)}{f(x,y)}}}.$$"
   ]
  },
  {
   "cell_type": "markdown",
   "id": "0fbfd89f-d4fc-425b-ab36-78f46f440470",
   "metadata": {},
   "source": [
    "## <a name='16quest1'>Question 1:</a>\n",
    "---\n",
    "\n",
    "Write and solve the corresponding phase plane equation for  the system\n",
    "\n",
    "$$\\begin{aligned}\n",
    "\\frac{dx}{dt} &=7y \\\\\n",
    "\\frac{dy}{dt} &=-2x\n",
    "\\end{aligned}$$\n",
    "\n",
    "### Solution to Question 1:\n",
    "---\n",
    "\n",
    "<br> <br> <br> <br> <br> <br>"
   ]
  },
  {
   "cell_type": "markdown",
   "id": "220a4b7c-0dd1-4bcb-9720-7a8a6451bf8c",
   "metadata": {},
   "source": [
    "## <a name='16quest2'>Question 2:</a>\n",
    "---\n",
    "\n",
    "Make a sketch of several solutions in the phase plane, include arrows to indicate how solutions behave with respect to time.\n",
    "\n",
    "### Solution to Question 2:\n",
    "---\n",
    "\n",
    "<br> <br> <br> <br> <br> <br>"
   ]
  },
  {
   "cell_type": "code",
   "execution_count": 1,
   "id": "e244bb24-b3fa-480c-8254-c260e0cc7e10",
   "metadata": {},
   "outputs": [
    {
     "data": {
      "image/png": "[encoded data removed]",
      "text/plain": [
       "<Figure size 432x288 with 1 Axes>"
      ]
     },
     "metadata": {
      "needs_background": "light"
     },
     "output_type": "display_data"
    }
   ],
   "source": [
    "import sympy as sym\n",
    "import matplotlib.pyplot as plt\n",
    "\n",
    "sym.var('x y')\n",
    "plot1 = sym.plot_implicit(x**2 + 7/2*y**2-1, show = False, line_color = 'b')\n",
    "plot2 = sym.plot_implicit(x**2 + 7/2*y**2-4, show = False, line_color = 'r')\n",
    "plot3 = sym.plot_implicit(x**2 + 7/2*y**2-9, show = False, line_color = 'g')\n",
    "plot1.append(plot2[0])\n",
    "plot1.append(plot3[0])\n",
    "plot1.show()"
   ]
  },
  {
   "cell_type": "markdown",
   "id": "e6a7e57d-496b-4bf9-be5b-932057b10752",
   "metadata": {},
   "source": [
    "# Equilibrium Solutions\n",
    "---\n",
    "\n",
    "A point $(x_0,y_0)$ is called an <font color = \"blue\">**equilibrium**</font> (or critical point) of the system \n",
    "\n",
    "$$\\begin{aligned}\n",
    "\\frac{dx}{dt} &=f(x,y) \\\\\n",
    "\\frac{dy}{dt} &=g(x,y)\n",
    "\\end{aligned}$$\n",
    "\n",
    "if both $f(x_0,y_0)=0$ and $g(x_0,y_0)=0$.\n",
    "\n",
    "\n",
    "The corresponding solution $(x(t),y(t)) = (x_0,y_0)$ is called an <font color = \"blue\">**equilibrium solution**</font>."
   ]
  },
  {
   "cell_type": "markdown",
   "id": "f77ac20d-f408-407b-9035-70e4a9c04896",
   "metadata": {},
   "source": [
    "## <a name='16quest3'>Question 3:</a>\n",
    "---\n",
    "\n",
    "Find the equilibrium to the system\n",
    "\n",
    "$$\\begin{array}{l}\n",
    "\\dfrac{dx}{dt} =2x-y+8 \\\\\n",
    "\\dfrac{dy}{dt} =3x+6\n",
    "\\end{array}.$$\n",
    "\n",
    "\n",
    "### Solution to Question 3:\n",
    "---\n",
    "\n",
    "<br> <br> <br> <br> <br> <br>"
   ]
  },
  {
   "cell_type": "markdown",
   "id": "81ce1502-79db-4726-b8f3-fd39b6f085bf",
   "metadata": {},
   "source": [
    "## <a name='16quest4'>Question 4:</a>\n",
    "---\n",
    "Find the equilibrium to the system\n",
    "\n",
    "$$\\begin{array}{l}\n",
    "\\dfrac{dx}{dt} =y^2-xy \\\\\n",
    "\\dfrac{dy}{dt} =2xy-4\n",
    "\\end{array}.$$\n",
    "\n",
    "### Solution to Question 4:\n",
    "---\n",
    "\n",
    "<br> <br> <br> <br> <br> <br>"
   ]
  },
  {
   "cell_type": "markdown",
   "id": "8d60ee5b-2bf9-4ae0-8bb0-bbcf699538d6",
   "metadata": {},
   "source": [
    "## <a name='16quest5'>Question 5:</a>\n",
    "---\n",
    "\n",
    "Find the equilibrium. Then find and solve the phase plane equation.\n",
    "\n",
    "$$\\begin{array}{l}\n",
    "\\dfrac{dx}{dt} =6x \\\\\n",
    "\\dfrac{dy}{dt} =3y\n",
    "\\end{array}$$\n",
    "\n",
    "### Solution to Question 5:\n",
    "---\n",
    "\n",
    "<br> <br> <br> <br> <br> <br>"
   ]
  },
  {
   "cell_type": "markdown",
   "id": "6a937941-ef40-482d-ae41-b3f4b0ed8b63",
   "metadata": {},
   "source": [
    "## <a name='16quest6'>Question 6:</a>\n",
    "---\n",
    "\n",
    "Find the equilibrium. Then find and solve the phase plane equation.\n",
    "\n",
    "$$\\begin{array}{l}\n",
    "\\dfrac{dx}{dt} =4-4y \\\\\n",
    "\\dfrac{dy}{dt} =-4x\n",
    "\\end{array}$$\n",
    "\n",
    "### Solution to Question 6:\n",
    "---\n",
    "\n",
    "<br> <br> <br> <br> <br> <br>"
   ]
  },
  {
   "cell_type": "markdown",
   "id": "f059d0d9-a7e4-40e2-a7d9-092d372b56b5",
   "metadata": {},
   "source": [
    "## <a name='16quest7'>Question 7:</a>\n",
    "---\n",
    "\n",
    "Find the equilibrium. Then find and solve the phase plane equation.\n",
    "\n",
    "$$\\begin{array}{l}\n",
    "\\dfrac{dx}{dt} =2y^2-y \\\\\n",
    "\\dfrac{dy}{dt} =x^2y\n",
    "\\end{array}$$\n",
    "\n",
    "### Solution to Question 7:\n",
    "---\n",
    "\n",
    "<br> <br> <br> <br> <br> <br>"
   ]
  },
  {
   "cell_type": "markdown",
   "id": "eac79591-9a15-48d1-b7f2-2aa4ff53e125",
   "metadata": {},
   "source": [
    "# Appendix: Plotting with `phase_portrait`\n",
    "---\n",
    "\n",
    "In the code cells below:\n",
    "\n",
    "- First set your file path to the `ode_tools` module.\n",
    "- Then from `ode_tools` module we import `phase_portrait`.\n"
   ]
  },
  {
   "cell_type": "markdown",
   "id": "36acd2bb-ad6f-4750-8e0c-c0c0f3680dd2",
   "metadata": {},
   "source": [
    "## Setting the Path in Google Colab\n",
    "---\n",
    "\n",
    "### <a name='MountDrive'>Mounting Google Drive in Colab</a> (Skip if Using Jupyter)\n",
    "---\n",
    "\n",
    "If you are working with this notebook in Google Colab, to access the `ode_tools` module, you need to first mount your Google Drive.\n",
    "\n",
    "- <mark>**Run the code cell below if you are using Google Colab.**</mark>\n",
    "- **DO NOT RUN the code cell if you are using Jupyter**.\n",
    "\n"
   ]
  },
  {
   "cell_type": "code",
   "execution_count": 2,
   "id": "c1147878-34e6-42b5-9e6f-ed1fd966e638",
   "metadata": {
    "id": "x1Jqa8QY4CNv"
   },
   "outputs": [
    {
     "ename": "ModuleNotFoundError",
     "evalue": "No module named 'google.colab'",
     "output_type": "error",
     "traceback": [
      "\u001b[0;31m---------------------------------------------------------------------------\u001b[0m",
      "\u001b[0;31mModuleNotFoundError\u001b[0m                       Traceback (most recent call last)",
      "\u001b[0;32m<ipython-input-2-955e2b005323>\u001b[0m in \u001b[0;36m<module>\u001b[0;34m\u001b[0m\n\u001b[1;32m      3\u001b[0m \u001b[0;34m\u001b[0m\u001b[0m\n\u001b[1;32m      4\u001b[0m \u001b[0;31m# Allow Colab to access your Google Drive files\u001b[0m\u001b[0;34m\u001b[0m\u001b[0;34m\u001b[0m\u001b[0;34m\u001b[0m\u001b[0m\n\u001b[0;32m----> 5\u001b[0;31m \u001b[0;32mfrom\u001b[0m \u001b[0mgoogle\u001b[0m\u001b[0;34m.\u001b[0m\u001b[0mcolab\u001b[0m \u001b[0;32mimport\u001b[0m \u001b[0mdrive\u001b[0m\u001b[0;34m\u001b[0m\u001b[0;34m\u001b[0m\u001b[0m\n\u001b[0m\u001b[1;32m      6\u001b[0m \u001b[0mdrive\u001b[0m\u001b[0;34m.\u001b[0m\u001b[0mmount\u001b[0m\u001b[0;34m(\u001b[0m\u001b[0;34m'/content/drive'\u001b[0m\u001b[0;34m)\u001b[0m\u001b[0;34m\u001b[0m\u001b[0;34m\u001b[0m\u001b[0m\n",
      "\u001b[0;31mModuleNotFoundError\u001b[0m: No module named 'google.colab'"
     ]
    }
   ],
   "source": [
    "# Run this cell if you are using Google Colab\n",
    "# Do NOT run if you are using Jupyter\n",
    "\n",
    "# Allow Colab to access your Google Drive files\n",
    "from google.colab import drive\n",
    "drive.mount('/content/drive')"
   ]
  },
  {
   "cell_type": "markdown",
   "id": "cb6efc00-11ca-45f5-b9ac-60f1bd611c7f",
   "metadata": {
    "id": "Yvthy-_06SMj"
   },
   "source": [
    "### <a name='ColabPath'>Setting the File Path for Google Colab Users</a>\n",
    "---\n",
    "\n",
    "The file **ode_tools.py** is located in the **utils** folder. Thus, we need to direct Python to this folder in order to access the functions defined in the `ode_tools` module. \n",
    "\n",
    "- <mark>If you are using Jupyter, skip this section and jump to the next section to set your path in Jupyter.</mark>\n",
    "\n",
    "**If you are working with this notebook in Google Colab**, then you will need to define the path to the utils folder.\n",
    "\n",
    "- In the code cell below, you can see the path in my Drive is <font color='blue'>**<span>&#47;</span>content/drive/MyDrive/MATH 3200 Colab/utils**</font>"
   ]
  },
  {
   "cell_type": "code",
   "execution_count": null,
   "id": "363d9abe-2d9d-4d09-b9e7-958480ca54ab",
   "metadata": {
    "id": "QrdkO1E448Wd"
   },
   "outputs": [],
   "source": [
    "# Only run this cell if using Google Colab.\n",
    "# Do not run this cell if using Jupyter.\n",
    "import sys\n",
    "\n",
    "# Set the path to the folder with module ode_tools.py\n",
    "# Adjust the path according to your file structure in Drive\n",
    "sys.path.append('/content/drive/MyDrive/MATH 3200 Colab/utils')"
   ]
  },
  {
   "cell_type": "markdown",
   "id": "0218070e-35e4-44c5-9909-28857abc5294",
   "metadata": {
    "id": "EDLcOpra-ie1"
   },
   "source": [
    "## <a name='JupPath'>Setting the File Path for Jupyter Users</a>\n",
    "---\n",
    "\n",
    "The file **ode_tools.py** is located in the **utils** folder. Thus, we need to direct Python to this folder in order to access the functions defined in the `ode_tools` module. \n",
    "\n",
    "- <mark>If you are using Google Colab, skip this section as you should have already set your path above..</mark>\n",
    "\n",
    "**If you are working with this notebook in Google Colab, run the code cell below to set your file path. Do not edit the code.**"
   ]
  },
  {
   "cell_type": "code",
   "execution_count": null,
   "id": "58b05e9b-c076-4983-87f6-a0a6308f9003",
   "metadata": {
    "id": "R-xG--qt-3J2"
   },
   "outputs": [],
   "source": [
    "# Only run this cell if using Jupyter.\n",
    "# Do not run this cell if using Google Colab.\n",
    "import sys\n",
    "\n",
    "sys.path.append('../utils')"
   ]
  },
  {
   "cell_type": "markdown",
   "id": "4981422b-9eaf-4713-9e43-bdff682a9f02",
   "metadata": {
    "id": "ycAmBv8K_Zss"
   },
   "source": [
    "## Importing the `phase_portrait` Plotting Function\n",
    "---\n",
    "\n",
    "After you followed the instructions above and set your file path, you are now ready to import the `phase_portrait` function from the `ode_tools` module. "
   ]
  },
  {
   "cell_type": "code",
   "execution_count": null,
   "id": "9cfce156-ab93-49f9-89f9-d9c43ef5e0f6",
   "metadata": {
    "id": "f38fbe97-697f-4eb5-aab1-b28acdf0d6a5"
   },
   "outputs": [],
   "source": [
    "from ode_tools import phase_portrait  # Only need to import one time."
   ]
  },
  {
   "cell_type": "markdown",
   "id": "5f191507-91ae-4b5c-bdcd-87db6cd54f5e",
   "metadata": {},
   "source": [
    "## Defining the System of Differential Equations\n",
    "---\n",
    "\n",
    "We use $y_1$ and $y_2$ as the generic symbols for the two dependent variables.\n",
    "\n",
    "$$\\begin{align}\n",
    "\\frac{dy_1}{dt} &= f_1(y_1, y_2)\\\\\n",
    "\\frac{dy_2}{dt} &= f_2(y_1, y_2)\n",
    "\\end{align}$$\n",
    "\n",
    "\n",
    "Below, we enter the system we analyzed in [Problem 1](#16quest1).\n",
    "\n",
    "$$\\begin{aligned}\n",
    "\\frac{dx}{dt} &=7y \\\\\n",
    "\\frac{dy}{dt} &=-2x\n",
    "\\end{aligned}$$\n",
    "\n"
   ]
  },
  {
   "cell_type": "code",
   "execution_count": null,
   "id": "fda46192-7b82-4e8d-ad1d-90a4296abe30",
   "metadata": {},
   "outputs": [],
   "source": [
    "import numpy as np\n",
    "\n",
    "# Set viewing window\n",
    "\n",
    "y1 = np.linspace(-5.0, 5.0, 20)  # y1 is horizontal axis\n",
    "y2 = np.linspace(-5.0, 5.0, 20)  # y2 is vertical axis\n",
    "\n",
    "def f(Y, t):\n",
    "    y1, y2 = Y\n",
    "    return [7*y2 , -2*y1]  # enter f_1(y1, y2) and f_2(y1,y2)"
   ]
  },
  {
   "cell_type": "markdown",
   "id": "3d088a0f-7385-4377-a794-5283447a7f5f",
   "metadata": {},
   "source": [
    "## Plotting with `phase_portrait`\n",
    "---\n",
    "\n"
   ]
  },
  {
   "cell_type": "code",
   "execution_count": null,
   "id": "772a324b-f62f-435a-a3fa-753e2348fac5",
   "metadata": {},
   "outputs": [],
   "source": [
    "# Plots a phase portrait\n",
    "phase_portrait(y1, y2, f)"
   ]
  },
  {
   "cell_type": "markdown",
   "id": "6f8ab299-a192-4af1-b94a-37bf7177f156",
   "metadata": {},
   "source": [
    "## Each Time You Want A New Plot\n",
    "---\n",
    "\n",
    "- Be sure you have already set the file path to `ode_tools` and imported `phase_portrait`.\n",
    "- Redefine your viewing window for `y1` and `y2`.\n",
    "- Redfine the system of differential equations `f`.\n",
    "- Run `phase_portrait()`\n"
   ]
  },
  {
   "cell_type": "markdown",
   "id": "45cbf536-313f-4646-84fe-1a5717c87e5d",
   "metadata": {},
   "source": [
    "## Creative Commons License Information\n",
    "<a rel=\"license\" href=\"https://creativecommons.org/licenses/by-nc-sa/4.0/\"><img alt=\"Creative Commons License\" style=\"border-width:0\" src=\"https://i.creativecommons.org/l/by-nc-sa/4.0/80x15.png\" /></a><br /><span xmlns:dct=\"http://purl.org/dc/terms/\" property=\"dct:title\">Elementary Differential Equations</span> by <a xmlns:cc=\"http://creativecommons.org/ns#\" href=\"https://github.com/CU-Denver-MathStats-OER/ODEs\" property=\"cc:attributionName\" rel=\"cc:attributionURL\">Adam Spiegler, Jonathon Hirschi, and Dmitry Ostrovskiy</a> is licensed under a <a rel=\"license\" href=\"http://creativecommons.org/licenses/by-nc-sa/4.0/\">Creative Commons Attribution-NonCommercial-ShareAlike 4.0 International License</a>.<br />Based on a work at <a xmlns:dct=\"http://purl.org/dc/terms/\" href=\"https://github.com/CU-Denver-MathStats-OER/ODEs\" rel=\"dct:source\">https://github.com/CU-Denver-MathStats-OER/ODEs</a> and original content created by Rasmussen, C., Keene, K. A., Dunmyre, J., & Fortune, N. (2018). *Inquiry oriented differential equations: Course materials*. Available at <a href=\"https://iode.wordpress.ncsu.edu\">https://iode.wordpress.ncsu.edu</a>."
   ]
  }
 ],
 "metadata": {
  "kernelspec": {
   "display_name": "Python 3",
   "language": "python",
   "name": "python3"
  },
  "language_info": {
   "codemirror_mode": {
    "name": "ipython",
    "version": 3
   },
   "file_extension": ".py",
   "mimetype": "text/x-python",
   "name": "python",
   "nbconvert_exporter": "python",
   "pygments_lexer": "ipython3",
   "version": "3.8.8"
  }
 },
 "nbformat": 4,
 "nbformat_minor": 5
}
