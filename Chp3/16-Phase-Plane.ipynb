{
 "cells": [
  {
   "cell_type": "markdown",
   "id": "a7bfec72-b994-4f55-9518-c532f1fc4cdb",
   "metadata": {},
   "source": [
    "# Phase Plane Equations \n",
    "---\n",
    "\n",
    "Consider a system of two differential equations:\n",
    "\n",
    "$$\\begin{aligned}\n",
    "\\frac{dx}{dt} &=f(x,y) \\\\\n",
    "\\frac{dy}{dt} &=g(x,y)\n",
    "\\end{aligned}$$\n",
    "\n",
    "Recall from the chain rule we have\n",
    "$$ \\frac{dy}{dx} \\frac{dx}{dt} = \\frac{dy}{dt},$$\n",
    "which gives the <font color = \"blue\">**phase plane equation**</font>\n",
    "$$\\color{blue}{\\boxed{\\large \\frac{dy}{dx} = \\frac{ \\frac{dy}{dt}}{\\frac{dx}{dt}} = \\frac{g(x,y)}{f(x,y)}}}.$$"
   ]
  },
  {
   "cell_type": "markdown",
   "id": "0fbfd89f-d4fc-425b-ab36-78f46f440470",
   "metadata": {},
   "source": [
    "## <a name='16quest1'>Question 1:</a>\n",
    "---\n",
    "\n",
    "Write and solve the corresponding phase plane equation for  the system\n",
    "\n",
    "$$\\begin{aligned}\n",
    "\\frac{dx}{dt} &=7y \\\\\n",
    "\\frac{dy}{dt} &=-2x\n",
    "\\end{aligned}$$\n",
    "\n",
    "### Solution to Question 1:\n",
    "---\n",
    "\n",
    "<br> <br> <br> <br> <br> <br>"
   ]
  },
  {
   "cell_type": "markdown",
   "id": "220a4b7c-0dd1-4bcb-9720-7a8a6451bf8c",
   "metadata": {},
   "source": [
    "## <a name='16quest2'>Question 2:</a>\n",
    "---\n",
    "\n",
    "Make a sketch of several solutions in the phase plane, include arrows to indicate how solutions behave with respect to time.\n",
    "\n",
    "### Solution to Question 2:\n",
    "---\n",
    "\n",
    "<br> <br> <br> <br> <br> <br>"
   ]
  },
  {
   "cell_type": "code",
   "execution_count": null,
   "id": "e244bb24-b3fa-480c-8254-c260e0cc7e10",
   "metadata": {},
   "outputs": [],
   "source": [
    "import sympy as sym\n",
    "import matplotlib.pyplot as plt\n",
    "\n",
    "sym.var('x y')\n",
    "plot1 = sym.plot_implicit(x**2 + 7/2*y**2-1, show = False, line_color = 'b')#, legend = True, label = \"C=1\")\n",
    "plot2 = sym.plot_implicit(x**2 + 7/2*y**2-4, show = False, line_color = 'r')#, legend = True, label = \"C=1\")\n",
    "plot3 = sym.plot_implicit(x**2 + 7/2*y**2-9, show = False, line_color = 'g')#, legend = True, label = \"C=1\")\n",
    "plot1.append(plot2[0])\n",
    "plot1.append(plot3[0])\n",
    "plot1.show()"
   ]
  },
  {
   "cell_type": "markdown",
   "id": "e6a7e57d-496b-4bf9-be5b-932057b10752",
   "metadata": {},
   "source": [
    "# Equilibrium Solutions\n",
    "---\n",
    "\n",
    "A point $(x_0,y_0)$ is called an <font color = \"blue\">**equilibrium**</font> (or critical point) of the system \n",
    "\n",
    "$$\\begin{aligned}\n",
    "\\frac{dx}{dt} &=f(x,y) \\\\\n",
    "\\frac{dy}{dt} &=g(x,y)\n",
    "\\end{aligned}$$\n",
    "\n",
    "if both $f(x_0,y_0)=0$ and $g(x_0,y_0)=0$.\n",
    "\n",
    "\n",
    "The corresponding solution $(x(t),y(t)) = (x_0,y_0)$ is called an <font color = \"blue\">**equilibrium solution**</font>."
   ]
  },
  {
   "cell_type": "markdown",
   "id": "f77ac20d-f408-407b-9035-70e4a9c04896",
   "metadata": {},
   "source": [
    "## <a name='16quest3'>Question 3:</a>\n",
    "---\n",
    "\n",
    "Find the equilibrium to the system\n",
    "\n",
    "$$\\begin{array}{l}\n",
    "\\dfrac{dx}{dt} =2x-y+8 \\\\\n",
    "\\dfrac{dy}{dt} =3x+6\n",
    "\\end{array}.$$\n",
    "\n",
    "\n",
    "### Solution to Question 3:\n",
    "---\n",
    "\n",
    "<br> <br> <br> <br> <br> <br>"
   ]
  },
  {
   "cell_type": "markdown",
   "id": "81ce1502-79db-4726-b8f3-fd39b6f085bf",
   "metadata": {},
   "source": [
    "## <a name='16quest4'>Question 4:</a>\n",
    "---\n",
    "Find the equilibrium to the system\n",
    "\n",
    "$$\\begin{array}{l}\n",
    "\\dfrac{dx}{dt} =y^2-xy \\\\\n",
    "\\dfrac{dy}{dt} =2xy-4\n",
    "\\end{array}.$$\n",
    "\n",
    "### Solution to Question 4:\n",
    "---\n",
    "\n",
    "<br> <br> <br> <br> <br> <br>"
   ]
  },
  {
   "cell_type": "markdown",
   "id": "8d60ee5b-2bf9-4ae0-8bb0-bbcf699538d6",
   "metadata": {},
   "source": [
    "## <a name='16quest5'>Question 5:</a>\n",
    "---\n",
    "\n",
    "Find the equilibrium. Then find and solve the phase plane equation.\n",
    "\n",
    "$$\\begin{array}{l}\n",
    "\\dfrac{dx}{dt} =6x \\\\\n",
    "\\dfrac{dy}{dt} =3y\n",
    "\\end{array}$$\n",
    "\n",
    "### Solution to Question 5:\n",
    "---\n",
    "\n",
    "<br> <br> <br> <br> <br> <br>"
   ]
  },
  {
   "cell_type": "markdown",
   "id": "6a937941-ef40-482d-ae41-b3f4b0ed8b63",
   "metadata": {},
   "source": [
    "## <a name='16quest6'>Question 6:</a>\n",
    "---\n",
    "\n",
    "Find the equilibrium. Then find and solve the phase plane equation.\n",
    "\n",
    "$$\\begin{array}{l}\n",
    "\\dfrac{dx}{dt} =4-4y \\\\\n",
    "\\dfrac{dy}{dt} =-4x\n",
    "\\end{array}$$\n",
    "\n",
    "### Solution to Question 6:\n",
    "---\n",
    "\n",
    "<br> <br> <br> <br> <br> <br>"
   ]
  },
  {
   "cell_type": "markdown",
   "id": "f059d0d9-a7e4-40e2-a7d9-092d372b56b5",
   "metadata": {},
   "source": [
    "## <a name='16quest7'>Question 7:</a>\n",
    "---\n",
    "\n",
    "Find the equilibrium. Then find and solve the phase plane equation.\n",
    "\n",
    "$$\\begin{array}{l}\n",
    "\\dfrac{dx}{dt} =2y^2-y \\\\\n",
    "\\dfrac{dy}{dt} =x^2y\n",
    "\\end{array}$$\n",
    "\n",
    "### Solution to Question 7:\n",
    "---\n",
    "\n",
    "<br> <br> <br> <br> <br> <br>"
   ]
  },
  {
   "cell_type": "markdown",
   "id": "45cbf536-313f-4646-84fe-1a5717c87e5d",
   "metadata": {},
   "source": [
    "## Creative Commons License Information\n",
    "<a rel=\"license\" href=\"https://creativecommons.org/licenses/by-nc-sa/4.0/\"><img alt=\"Creative Commons License\" style=\"border-width:0\" src=\"https://i.creativecommons.org/l/by-nc-sa/4.0/80x15.png\" /></a><br /><span xmlns:dct=\"http://purl.org/dc/terms/\" property=\"dct:title\">Elementary Differential Equations</span> by <a xmlns:cc=\"http://creativecommons.org/ns#\" href=\"https://github.com/CU-Denver-MathStats-OER/ODEs\" property=\"cc:attributionName\" rel=\"cc:attributionURL\">Adam Spiegler, Jonathon Hirschi, and Dmitry Ostrovskiy</a> is licensed under a <a rel=\"license\" href=\"http://creativecommons.org/licenses/by-nc-sa/4.0/\">Creative Commons Attribution-NonCommercial-ShareAlike 4.0 International License</a>.<br />Based on a work at <a xmlns:dct=\"http://purl.org/dc/terms/\" href=\"https://github.com/CU-Denver-MathStats-OER/ODEs\" rel=\"dct:source\">https://github.com/CU-Denver-MathStats-OER/ODEs</a> and original content created by Rasmussen, C., Keene, K. A., Dunmyre, J., & Fortune, N. (2018). *Inquiry oriented differential equations: Course materials*. Available at <a href=\"https://iode.wordpress.ncsu.edu\">https://iode.wordpress.ncsu.edu</a>."
   ]
  }
 ],
 "metadata": {
  "kernelspec": {
   "display_name": "Python 3",
   "language": "python",
   "name": "python3"
  },
  "language_info": {
   "codemirror_mode": {
    "name": "ipython",
    "version": 3
   },
   "file_extension": ".py",
   "mimetype": "text/x-python",
   "name": "python",
   "nbconvert_exporter": "python",
   "pygments_lexer": "ipython3",
   "version": "3.8.8"
  }
 },
 "nbformat": 4,
 "nbformat_minor": 5
}
