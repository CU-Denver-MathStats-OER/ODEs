{
 "cells": [
  {
   "cell_type": "markdown",
   "id": "6c3f51d7-7bda-4e54-8c95-d3aee6098437",
   "metadata": {},
   "source": [
    "# Vector Fields\n",
    "---\n",
    "\n",
    "Slope fields are a convenient way to visualize solutions to a single differential equation. For systems of autonomous differential equations the equivalent representation is a **vector field**. Similar to a slope field, a vector field shows a selection of vectors with the correct slope but with a normalized length. \n",
    "\n",
    "For example, the code below generates the vector field for the rabbit-fox population example\n",
    "\n",
    "$$\\begin{aligned}\n",
    "\\frac{dR}{dt} &= 3R-1.4RF\\\\\n",
    "\\frac{dF}{dt} &= -F+0.8RF\n",
    "\\end{aligned}$$\n",
    "\n",
    "from worksheet [14-Introduction-to-Systems](14-Introduction-to-Systems.ipynb)."
   ]
  },
  {
   "cell_type": "code",
   "execution_count": null,
   "id": "96678f21-2e9a-4ce8-934f-ec526495ca12",
   "metadata": {},
   "outputs": [],
   "source": [
    "import matplotlib.pyplot as plt\n",
    "import numpy as np\n",
    "\n",
    "def fieldplot(f,g,xmin,xmax,ymin,ymax,color='b',aspect=None,nx=20,boostarrows=1.):\n",
    "\n",
    "    xr = xmax-xmin\n",
    "    yr = ymax-ymin\n",
    "    ny = int(nx*yr/xr)\n",
    "    if aspect!=None:\n",
    "        plt.subplot(111,aspect=aspect)\n",
    "    X,Y = np.meshgrid( np.linspace(xmin,xmax,nx), np.linspace(ymin,ymax,ny) )\n",
    "    X = X.flatten()\n",
    "    Y = Y.flatten()\n",
    "    U = f(X,Y)\n",
    "    V = g(X,Y)\n",
    "    #print(U)\n",
    "    #print(V)\n",
    "    # scale length of arrows - note arrowhead is added beyond the end of the line segment\n",
    "    h = boostarrows*0.9*min(xr/float(nx-1)/abs(U).max(),yr/float(ny-1)/abs(V).max())\n",
    "    Xp = X + h*U\n",
    "    Yp = Y + h*V\n",
    "    arrowsX = np.vstack((X,Xp))\n",
    "    arrowsY = np.vstack((Y,Yp))\n",
    "    head_width  = 0.005*xr\n",
    "    head_length = head_width/0.6\n",
    "    for x,y,u,v in zip(X,Y,U,V):\n",
    "        plt.arrow( x,y, h*u,h*v, fc=color, ec=color, alpha=0.5, width=head_width/5, head_width=head_width, head_length=head_length )\n",
    "    plt.xlim(xmin,xmax) # plot ranges strangely are [0,1] x [0,1] otherwise\n",
    "    plt.ylim(ymin,ymax)"
   ]
  },
  {
   "cell_type": "code",
   "execution_count": null,
   "id": "122a6779-e4ea-4fd4-b26e-1df063c72413",
   "metadata": {},
   "outputs": [],
   "source": [
    "def f(x,y): return  3*x - 1.4*x*y\n",
    "def g(x,y): return -y + 0.8*x*y\n",
    "\n",
    "fieldplot(f,g,-0.5,3,-0.5,3,aspect=1)\n",
    "plt.show()"
   ]
  },
  {
   "cell_type": "markdown",
   "id": "6a272b60-2170-487d-99aa-dde06cf4d3aa",
   "metadata": {},
   "source": [
    "# <a name='15quest1'>Question 1:</a>\n",
    "---\n",
    "\n",
    "On the axes below where $x$ and $y$ both range from -3 to 3, plot by hand a vector field for the system of differential equations \n",
    "$$\\begin{aligned}\n",
    "\\frac{dx}{dt} &= y-x\\\\\n",
    "\\frac{dy}{dt} &= -y\\\\\n",
    "\\end{aligned}$$\n",
    "and sketch in several solution graphs in the phase plane. \n",
    "\n",
    "### Solution to Question 1:\n",
    "---\n",
    "\n",
    "<br>\n",
    "\n",
    "<img src=\"Images/15VectorField1.png\" width=\"360\">\n",
    "\n",
    "<br> <br>"
   ]
  },
  {
   "cell_type": "markdown",
   "id": "a40d12c5-c1b3-4979-95ea-7cafaaebaa87",
   "metadata": {},
   "source": [
    "# Nullclines and Isoclines\n",
    "\n",
    "You may have noticed in [Problem 1](#15quest1) that along $x = 0$ all the vectors have the same slope. Similarly for vectors along the $y = x$. \n",
    "\n",
    "- Any line or curve along which vectors all have the same slope is called an **isocline**. \n",
    "- An isocline where $\\dfrac{dx}{dt} = 0$ is called an **$\\mathbf{x}$-nullcline** because the horizontal component of the vector is zero, and hence the vector points straight up or down. \n",
    "- An isocline where $\\dfrac{dy}{dt} = 0$ is called a **$\\mathbf{y}$-nullcline** because the vertical component of the vector is zero and hence the vector points left or right. "
   ]
  },
  {
   "cell_type": "markdown",
   "id": "ae6c2bbe-074c-407a-be36-8a5e53b0e466",
   "metadata": {},
   "source": [
    "# <a name='15quest2'>Question 2:</a>\n",
    "---\n",
    "\n",
    "On a grid from $-4$ to $4$ for both axes, plot all nullclines for the rabbit-fox system. Note we now use $x$ for rabbits and $y$ for foxes.  Then comment on how the nullclines point to the cyclic nature of the Rabbit-Fox system.\n",
    "\n",
    "$$\\begin{aligned}\n",
    "\\frac{dx}{dt} &= 3x-1.4xy\\\\\n",
    "\\frac{dy}{dt} &= -y+0.8xy \n",
    "\\end{aligned}$$\n",
    "\n",
    "### Solution to Question 2:\n",
    "---\n",
    "\n",
    "<br>\n",
    "\n",
    "<img src=\"Images/15VectorField2.png\" width=\"360\">\n",
    "\n",
    "<br> <br> <br> <br> <br> <br>"
   ]
  },
  {
   "cell_type": "markdown",
   "id": "27bde947-bcda-41a1-9571-b523131a09d9",
   "metadata": {},
   "source": [
    "# <a name='15quest3'>Question 3:</a>\n",
    "---\n",
    "\n",
    "A certain system of differential equations for the variables $R$ and $S$ describes the interaction of rabbits and sheep grazing in the same field.  On the phase plane below, dashed lines show the $R$ and $S$ nullclines along with their corresponding vectors.\n",
    "\n",
    "<img src=\"Images/15Nullclines.png\" width=\"360\">\n",
    "\n",
    "\n",
    "a. Identify the $R$ nullclines and explain how you know.\n",
    "\n",
    "### Solution to Question 3a:\n",
    "---\n",
    "\n",
    "<br> <br> <br> <br> <br> <br>\n",
    "\n",
    "b. Identify the $S$ nullclines and explain how you know.\n",
    "\n",
    "### Solution to Question 3b:\n",
    "---\n",
    "\n",
    "<br> <br> <br> <br> <br> <br>\n",
    "\n",
    "c. Identify all equilibrium points.\n",
    "\n",
    "### Solution to Question 3c:\n",
    "---\n",
    "\n",
    "<br> <br> <br> <br> <br> <br>\n",
    "\n",
    "d. Notice that the nullclines carve out 4 different regions of the first quadrant of the $RS$ plane.  In each of these 4 regions, add a prototypical-vector that represents the vectors in that region. That is, if you think the both $R$ and $S$ are increasing in a certain region then, draw a vector pointing up and to the right for that region. \n",
    "\n",
    "### Solution to Question 3d:\n",
    "---\n",
    "\n",
    "<br> <br> <br> <br> <br> <br>\n",
    "\n",
    "e. What does this system seem to predict will happen to the rabbits and sheep in this field in the long run? \n",
    "\n",
    "### Solution to Question 3e:\n",
    "---\n",
    "\n",
    "<br> <br> <br> <br> <br> <br>"
   ]
  },
  {
   "cell_type": "markdown",
   "id": "8d627ae7-8581-4e83-a32e-225497641026",
   "metadata": {},
   "source": []
  },
  {
   "cell_type": "markdown",
   "id": "3606cbc0-cbe2-49bb-b8d1-29410f1e7946",
   "metadata": {},
   "source": [
    "## Creative Commons License Information\n",
    "<a rel=\"license\" href=\"https://creativecommons.org/licenses/by-nc-sa/4.0/\"><img alt=\"Creative Commons License\" style=\"border-width:0\" src=\"https://i.creativecommons.org/l/by-nc-sa/4.0/80x15.png\" /></a><br /><span xmlns:dct=\"http://purl.org/dc/terms/\" property=\"dct:title\">Elementary Differential Equations</span> by <a xmlns:cc=\"http://creativecommons.org/ns#\" href=\"https://github.com/CU-Denver-MathStats-OER/ODEs\" property=\"cc:attributionName\" rel=\"cc:attributionURL\">Adam Spiegler, Jonathon Hirschi, and Dmitry Ostrovskiy</a> is licensed under a <a rel=\"license\" href=\"http://creativecommons.org/licenses/by-nc-sa/4.0/\">Creative Commons Attribution-NonCommercial-ShareAlike 4.0 International License</a>.<br />Based on a work at <a xmlns:dct=\"http://purl.org/dc/terms/\" href=\"https://github.com/CU-Denver-MathStats-OER/ODEs\" rel=\"dct:source\">https://github.com/CU-Denver-MathStats-OER/ODEs</a> and original content created by Rasmussen, C., Keene, K. A., Dunmyre, J., & Fortune, N. (2018). *Inquiry oriented differential equations: Course materials*. Available at <a href=\"https://iode.wordpress.ncsu.edu\">https://iode.wordpress.ncsu.edu</a>."
   ]
  }
 ],
 "metadata": {
  "kernelspec": {
   "display_name": "Python 3",
   "language": "python",
   "name": "python3"
  },
  "language_info": {
   "codemirror_mode": {
    "name": "ipython",
    "version": 3
   },
   "file_extension": ".py",
   "mimetype": "text/x-python",
   "name": "python",
   "nbconvert_exporter": "python",
   "pygments_lexer": "ipython3",
   "version": "3.8.8"
  },
  "toc-autonumbering": false,
  "toc-showmarkdowntxt": false,
  "toc-showtags": false
 },
 "nbformat": 4,
 "nbformat_minor": 5
}
