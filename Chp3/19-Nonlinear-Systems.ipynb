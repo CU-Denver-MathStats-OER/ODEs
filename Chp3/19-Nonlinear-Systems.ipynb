{
 "cells": [
  {
   "cell_type": "markdown",
   "id": "e0cc05bf-efeb-4fe5-be40-8967c17c3f39",
   "metadata": {},
   "source": [
    "[![Open In Colab](https://colab.research.google.com/assets/colab-badge.svg)](https://githubtocolab.com/CU-Denver-MathStats-OER/ODEs/blob/main/Chp3/19-Nonlinear-Systems.ipynb)\n"
   ]
  },
  {
   "cell_type": "markdown",
   "id": "eb2548f7-6c9a-417d-ae8a-4930be44424d",
   "metadata": {
    "toc-hr-collapsed": true
   },
   "source": [
    "# Lab 3.6: Dynamics of Non-Linear Systems\n",
    "---\n",
    "\n",
    "<font color=\"dodgerblue\">Reading: *Notes on Diffy Q's* Section 8.1, Section 8.2, and Section 8.3</font>\n",
    "\n",
    "# Pendulum\n",
    "---\n",
    "\n",
    "A mass $m$ is attached to a point on the ceiling by a rod with length $L$, and it is allowed to swing along a circlular path.\n",
    "\n",
    "<a title=\"Chetvorno, Public domain, via Wikimedia Commons\" href=\"https://commons.wikimedia.org/wiki/File:Simple_gravity_pendulum.svg\"><img width=\"240\" alt=\"Simple gravity pendulum\" src=\"https://upload.wikimedia.org/wikipedia/commons/thumb/b/b2/Simple_gravity_pendulum.svg/512px-Simple_gravity_pendulum.svg.png\"></a>\n",
    "\n",
    "Image Credit: <a href=\"https://commons.wikimedia.org/wiki/File:Simple_gravity_pendulum.svg\">Chetvorno</a>, Public domain, via Wikimedia Commons\n",
    "\n",
    "\n",
    "If a <font color=\"dodgerblue\">**pendulum**</font> is displaced from its equilibrium position, gravity will move the mass back towards its equilibrium position.\n",
    "\n",
    "- Let $\\color{dodgerblue}{\\theta}$ denote the <font color=\"dodgerblue\">angular position</font> (in radians) of the mass.\n",
    "    - <font color=\"dodgerblue\">Equilibrium position</font> is $\\color{dodgerblue}{\\theta =0}$.\n",
    "- Let $\\color{tomato}{v = \\dfrac{d\\theta}{dt}}$ denote the <font color=\"tomato\">angular velocity</font> (radians per sec) of the mass.\n",
    "\n",
    "\n",
    "\n"
   ]
  },
  {
   "cell_type": "markdown",
   "id": "209754d4-72c0-40e5-8786-a0d9f5eea450",
   "metadata": {},
   "source": [
    "## <a name='19quest1'>Question 1:</a>\n",
    "---\n",
    "\n",
    "For each of the initial conditions given below, answer the following questions.\n",
    "\n",
    "- **Describe how both the pendulum's position and angular velocity change over time.**\n",
    "- **Sketch a possible graph to illustrate the relation between $\\theta$ and $v$ over time.**\n",
    "    - Plot values of $\\theta$ on the horizontal axis.\n",
    "    - Plot values of $v$ on the vertical axis.\n",
    "- If you need a hint or want to check your work, see [Hint for Question 1](#19hint1).\n",
    "\n",
    "\n",
    "### <a name=\"19quest1a\">Question 1a:</a>\n",
    "---\n",
    "\n",
    "Initial conditions $\\theta(0)=\\frac{\\pi}{6}$ and $v(0)=0$.\n",
    "\n",
    "#### Solution to Question 1a:\n",
    "---\n",
    "\n",
    "<br> <br> <br>"
   ]
  },
  {
   "cell_type": "markdown",
   "id": "c739c285-b8ec-41f7-ba44-21cabf686997",
   "metadata": {},
   "source": [
    "### <a name=\"19quest1b\">Question 1b:</a>\n",
    "---\n",
    "\n",
    "Initial conditions $\\theta(0)= -\\frac{5 \\pi}{6}$ and $v(0)=0$.\n",
    "\n",
    "#### Solution to Question 1b:\n",
    "---\n",
    "\n",
    "<br> <br> <br>"
   ]
  },
  {
   "cell_type": "markdown",
   "id": "db03b704-3d80-41dc-a5b1-648c3e07f677",
   "metadata": {},
   "source": [
    "### <a name=\"19quest1c\">Question 1c:</a>\n",
    "---\n",
    "\n",
    "Initial conditions $\\theta(0)=0$ and $v(0)=0.05$ radians per second (very small velocity).\n",
    "\n",
    "#### Solution to Question 1c:\n",
    "---\n",
    "\n",
    "<br> <br> <br>"
   ]
  },
  {
   "cell_type": "markdown",
   "id": "15ea5efd-0fa5-49f3-b308-b0b81516c5b0",
   "metadata": {},
   "source": [
    "### <a name=\"19quest1d\">Question 1d:</a>\n",
    "---\n",
    "\n",
    "Initial conditions $\\theta(0)=0$ and $v(0)=50$ radians per second (very large velocity).\n",
    "\n",
    "#### Solution to Question 1d:\n",
    "---\n",
    "\n",
    "<br> <br> <br>"
   ]
  },
  {
   "cell_type": "markdown",
   "id": "15339247-1180-4f39-8a94-0e720ff70587",
   "metadata": {},
   "source": [
    "## <a name='19quest2'>Question 2:</a>\n",
    "---\n",
    "\n",
    "**How many equilibrium solutions does a pendulum have?**\n",
    "\n",
    "- Where are the equilibrium located in the $\\theta v$-plane where we plotted solutions in [Question 1](#19quest1)? \n",
    "- How would you classify the stablility of the equilibrium?\n",
    "\n",
    "### Solution to Question 2:\n",
    "---\n",
    "\n",
    "<br> <br> <br> "
   ]
  },
  {
   "cell_type": "markdown",
   "id": "db06d513-d0b0-494d-b02e-3f515f250fa1",
   "metadata": {
    "tags": []
   },
   "source": [
    "# Equation of Motion for a Pendulum\n",
    "\n",
    "---\n",
    "\n",
    "<!-- <a title=\"Gurjete Ukaj, CC BY-SA 3.0 &lt;https://creativecommons.org/licenses/by-sa/3.0&gt;, via Wikimedia Commons\" href=\"https://commons.wikimedia.org/wiki/File:Pendulum.gif\"><img width=\"256\" alt=\"Pendulum\" src=\"https://upload.wikimedia.org/wikipedia/commons/c/c9/Pendulum.gif\"></a>\n",
    "\n",
    "Image Credit: <a href=\"https://commons.wikimedia.org/wiki/File:Pendulum.gif\">Gurjete Ukaj</a>, <a href=\"https://creativecommons.org/licenses/by-sa/3.0\">CC BY-SA 3.0</a>, via Wikimedia Commons \n",
    "-->\n",
    "\n",
    "**There are two forces acting on bob of the pendulum:**\n",
    "\n",
    "1. The <font color=\"dodgerblue\">**force due to gravity**</font> is given by $F_g (\\theta)= -mg\\sin{\\theta}$ where $\\color{dodgerblue}{m}$ denotes the <font color=\"dodgerblue\">mass</font> of the bob and $\\color{mediumseagreen}{g}$ denotes the <font color=\"mediumseagreen\">gravity</font> constant.\n",
    "2. The <font color=\"dodgerblue\">**frictional force**</font> is given by $F_f (\\theta) = -b L \\frac{d\\theta}{dt}$, where $\\color{tomato}{b}$ denotes the <font color=\"tomato\">damping</font> coefficient and $\\color{mediumseagreen}{L}$ the <font color=\"mediumseagreen\">length</font> of the pendulum.\n",
    "\n",
    "**The force generated by the bob at the end of the pendulum is given by:**\n",
    "\n",
    "$$F = {\\color{dodgerblue}{m}} a = {\\color{dodgerblue}{m}} \\frac{d^2s}{dt^2} = {\\color{dodgerblue}{m}} \\left( {\\color{mediumseagreen}{L}} \\frac{d^2 \\theta}{dt^2} \\right).$$\n",
    "\n",
    "- $s=\\theta \\cdot L$ denotes distance (arc length).\n",
    "\n",
    "**By balancing the forces, we get the following model for the motion of the simple pendulum:**\n",
    "\n",
    "$$\\frac{d^2 \\theta}{dt^2} + \\frac{{\\color{tomato}{b}}}{{\\color{dodgerblue}{m}}}  \\frac{d\\theta}{dt} + \\frac{{\\color{mediumseagreen}{g}}}{{\\color{mediumseagreen}{L}}} \\sin{\\theta}=0.$$\n",
    "\n",
    "- [See video for a derivation of this equation](https://youtu.be/LXofJXviIWM)."
   ]
  },
  {
   "cell_type": "markdown",
   "id": "d4313840-615a-4037-aada-956d0eb12bb5",
   "metadata": {
    "toc-hr-collapsed": true
   },
   "source": [
    "## A Non-Linear Differential Equation \n",
    "---\n",
    "\n",
    "If we let $v = \\frac{d \\theta}{dt}$ denote the velocity of the pendulum, set the length $\\color{mediumseagreen}{L = g= 9.8}$, mass $\\color{dodgerblue}{m=5}$ and damping coefficient $\\color{tomato}{b=1}$, the second-order differential equation above becomes\n",
    "\n",
    "$$\\frac{d^2 \\theta}{dt^2} + 0.2 \\frac{d \\theta}{dt} + {\\color{tomato}{\\sin{\\theta}}} = 0.$$\n",
    "\n",
    "\n",
    "- Note this *almost* looks like a mass-spring system $my'' + by' + ky = 0$.\n",
    "- If the last term $\\color{tomato}{\\sin{\\theta}}$ was $\\theta$ instead, we would have the same dynamics.\n",
    "- The $\\color{tomato}{\\sin{\\theta}}$ term means the differential equation is <font color=\"tomato\">**non-linear**</font>."
   ]
  },
  {
   "cell_type": "markdown",
   "id": "a8925ee4-1c7d-46e9-9463-0e74d6236e72",
   "metadata": {},
   "source": [
    "## Expressing as a System of First Order Differential Equations\n",
    "---\n",
    "\n",
    "If we let $\\color{dodgerblue}{\\dfrac{d \\theta}{dt}=v}$, then we have $\\color{tomato}{\\dfrac{d^2 \\theta}{dt^2}=\\dfrac{dv}{dt}}$, and the second order differential equation ${\\color{tomato}{\\dfrac{d^2 \\theta}{dt^2}}} + 0.2 {\\color{dodgerblue}{\\dfrac{d \\theta}{dt}}} + \\sin{\\theta} = 0$ can be rewritten as a first order differntial equation.\n",
    "\n",
    "$${\\color{tomato}{\\frac{dv}{dt}}} + 0.2 {\\color{dodgerblue}{v}} + \\sin{\\theta} = 0.$$\n",
    "\n",
    "Thus, the second order differential equation is equivalent to the <font color=\"dodgerblue\">**non-linear system of two first order differential equations**:</font>\n",
    "\n",
    "$$\\begin{align}\n",
    "\\color{dodgerblue}{\\frac{d\\theta}{dt}} & \\color{dodgerblue}{=v} \\\\\n",
    "{\\color{tomato}{\\frac{dv}{dt}}} &=-0.2 {\\color{dodgerblue}{v}}-\\sin(\\theta)\n",
    "\\end{align}$$\n",
    "\n"
   ]
  },
  {
   "cell_type": "markdown",
   "id": "3c9fed27-fe50-4e1f-a3e5-34f2a02e3ca1",
   "metadata": {},
   "source": [
    "## <a name='19quest3'>Question 3:</a>\n",
    "---\n",
    "\n",
    "The system of differential equations for the pendulum has how many equilibrium solutions? \n",
    "\n",
    "- What are the equilibrium? Give answers as pairs $(\\theta, v)$.\n",
    "- Based on your intuition with pendulums, determine whether each equilibrium is stable, unstable, or semi-stable?\n",
    "- How do your answers compare with your answers to [Question 2](#19quest2)?\n",
    "\n",
    "$$\\begin{align}\n",
    "\\frac{d\\theta}{dt} & =v \\\\\n",
    "\\frac{dv}{dt} &=-0.2v-\\sin(\\theta)\n",
    "\\end{align}$$\n",
    "\n",
    "### Solution to Question 3:\n",
    "---\n",
    "\n",
    "<br> <br> <br>"
   ]
  },
  {
   "cell_type": "markdown",
   "id": "8e5dc677-3e6d-451f-a786-60585055df17",
   "metadata": {},
   "source": [
    "## <a name='19quest4'>Question 4:</a>\n",
    "---\n",
    "\n",
    "You might recall that if $\\theta$ is small, $\\sin(\\theta) \\approx \\theta$. Explain why this is true and then use this fact to approximate the above system with a linear system and classify the equilibrium solution at the origin.\n",
    "\n",
    "\n",
    "### Solution to Question 4:\n",
    "---\n",
    "\n",
    "<br> <br> <br>"
   ]
  },
  {
   "cell_type": "markdown",
   "id": "3e6ce6fb-3f1b-486a-9786-b8887ff24e0a",
   "metadata": {},
   "source": [
    "## <a name=\"19quest5\">Question 5:</a>\n",
    "---\n",
    "\n",
    "If initially we push the mass with velocity $v$ from its equilibrium position $\\theta=0$, approxiamte the range of initial velocities $v$ that will result in the pendulum making exactly one complete rotation before eventually coming to rest.\n",
    "\n",
    "\n",
    "### Solution to Question 5:\n",
    "---\n",
    "\n",
    "<mark>If needed, change the initial conditions and view window for the phase plane plot!</mark>\n",
    "\n",
    "<br> <br> <br>"
   ]
  },
  {
   "cell_type": "code",
   "execution_count": null,
   "id": "58d30ce8-f4a1-427b-a3d9-4b1ee2b22273",
   "metadata": {},
   "outputs": [],
   "source": [
    "# import the ode.tools module from github\n",
    "!pip install git+https://github.com/CU-Denver-MathStats-OER/ODEs\n",
    "from IPython.display import clear_output\n",
    "clear_output()"
   ]
  },
  {
   "cell_type": "code",
   "execution_count": null,
   "id": "646e19a9-170c-4c51-b557-41d7d06dc8a5",
   "metadata": {
    "id": "f38fbe97-697f-4eb5-aab1-b28acdf0d6a5"
   },
   "outputs": [],
   "source": [
    "from utils.ode_tools import plot_phase_sol  # Only need to import one time.\n",
    "import numpy as np  # only need to import once"
   ]
  },
  {
   "cell_type": "code",
   "execution_count": null,
   "id": "938b3255-1c8f-41a0-9713-e65eafc1b6da",
   "metadata": {},
   "outputs": [],
   "source": [
    "# Set viewing window\n",
    "\n",
    "x = np.linspace(-10.0, 10.0, 21)  # theta is horizontal axis\n",
    "y = np.linspace(-4.0, 4.0, 21)  # v is vertical axis\n",
    "\n",
    "# Define system of odes\n",
    "def f(Y, t):\n",
    "    x, y = Y\n",
    "    return [y , -0.2*y - np.sin(x)]  # enter f_1(theta, v) and f_2(theta ,v)\n",
    "\n",
    "# Enter range of time\n",
    "tspan = np.linspace(0, 50, 200) # range of time to visualize solution\n",
    "\n",
    "# Enter initial values\n",
    "x0 = 0  # initial value of theta is set to 0\n",
    "y0 = 3  # initial value of v\n",
    "\n",
    "# Plots a solution in phase plane\n",
    "plot_phase_sol(x, y, f, tspan, x0, y0)"
   ]
  },
  {
   "cell_type": "markdown",
   "id": "1917ad6f-7909-4d55-9a88-601c449d3ddc",
   "metadata": {},
   "source": [
    "## <a name=\"19quest6\">Question 6:</a>\n",
    "---\n",
    "\n",
    "Based on the phase plane portraits you explored in [Question 5](#19quest5), do you believe the equilibrium at $(\\theta, v) = (\\pi, 0)$ is stable, unstable, or semi-stable? Is this analysis consisten with your intuition? \n",
    "\n",
    "\n",
    "### Solution to Question 6:\n",
    "---\n",
    "\n",
    "\n",
    "<br> <br> <br>"
   ]
  },
  {
   "cell_type": "markdown",
   "id": "d6b4f89f-e04b-49ee-8766-2ff8c1689e0b",
   "metadata": {
    "tags": [],
    "toc-hr-collapsed": true
   },
   "source": [
    "# Trust in Your Analysis!\n",
    "---"
   ]
  },
  {
   "cell_type": "code",
   "execution_count": null,
   "id": "a60a2bc9-bac7-4e10-8377-6a771c40847d",
   "metadata": {
    "tags": []
   },
   "outputs": [],
   "source": [
    "from IPython.display import YouTubeVideo\n",
    "\n",
    "YouTubeVideo('77ZF50ve6rs', start=143, width=400)"
   ]
  },
  {
   "cell_type": "markdown",
   "id": "c33b3d5c-a3d7-4cea-a342-64cf03904f58",
   "metadata": {},
   "source": [
    "# Linearization and Linear Stability Analysis\n",
    "---\n",
    "\n",
    "We can perform <font color=\"dodgerblue\">**linear stability analysis**</font> on a system of two or more variables, such as the one in the previous pendulum question. Consider a function $f(x,y)$, then recall from multivariable calculus we find a formula for the <font color=\"dodgerblue\">**linearization of $f(x,y)$ around the point $(x_0,y_0)$**</font> using the formula:\n",
    "\n",
    "$$f(x,y) \\approx L(x,y) = f(x_0,y_0) + f_x(x_0,y_0)({\\color{dodgerblue}{x-x_0}}) + f_y(x_0,y_0)({\\color{tomato}{y-y_0}}).$$\n",
    "\n",
    "- Let $(x,y)=(x_0 + {\\color{dodgerblue}{u}}, y_0 + {\\color{tomato}{v}})$ denote a point close to $(x_0,y_0)$.\n",
    "- Note that we have $\\color{dodgerblue}{u = x-x_0 = \\Delta x}$ and $\\color{tomato}{v = y - y_0 = \\Delta y}$.\n",
    "- We can rewrite the linearization $L(x,y)$ in terms of $({\\color{dodgerblue}{u}},{\\color{tomato}{v}})$.\n",
    "\n",
    "\n",
    "$$f(x,y) \\approx L({\\color{dodgerblue}{u}}, {\\color{tomato}{v}}) = f(x_0,y_0) + f_x(x_0,y_0){\\color{dodgerblue}{u}} + f_y(x_0,y_0){\\color{tomato}{v}}.$$"
   ]
  },
  {
   "cell_type": "markdown",
   "id": "d393690f-5758-47a3-8a2b-5eb8d3bda477",
   "metadata": {},
   "source": [
    "## Linearizing a System at an Equilibrium\n",
    "---\n",
    "\n",
    "Let $(x_0, y_0)$ be an equilibrium of the system\n",
    "\n",
    "$$\\begin{align}\n",
    "\\frac{dx}{dt} &= f(x,y) \\\\\n",
    "\\frac{dy}{dt} &= g(x,y)\n",
    "\\end{align}.$$\n",
    "\n",
    "\n",
    "- If we linearize at an equilibrium at $(x_0, y_0)$, then both $f(x_0, y_0) =0$ and $g(x_0, y_0) =0$.\n",
    "- The resulting linearizations $L_g$ and $L_f$ for $f$ and $g$, respectively will be of the form\n",
    "\n",
    "$$L_f(u,v) = {\\color{dodgerblue}{f_x(x_0, y_0)}}u + {\\color{tomato}{f_y(x_0, y_0)}}v = {\\color{dodgerblue}{a}}u + {\\color{tomato}{b}}v \\qquad \\mbox{and} \\qquad\n",
    " L_g(u,v) = {\\color{mediumseagreen}{g_x(x_0, y_0)}}u + {\\color{mediumpurple}{g_y(x_0, y_0)}}v = {\\color{mediumseagreen}{c}}u + {\\color{mediumpurple}{d}}v$$\n",
    "\n",
    "The <font color=\"dodgerblue\">**linearized system of differential equations**</font> at equilibrium $(x_0,y_0)$ is therefore\n",
    "\n",
    "$$\\begin{align}\n",
    "\\frac{dx}{dt} &= L_f(u,v) = {\\color{dodgerblue}{a}}u + {\\color{tomato}{b}}v\\\\\n",
    "\\frac{dy}{dt} &= L_g(u,v) = {\\color{mediumseagreen}{c}}u + {\\color{mediumpurple}{d}}v\n",
    "\\end{align}.$$\n",
    "\n",
    "\n",
    "Our derivatives are expressed with respect to the original variables $x$ and $y$, but the equations are now expressed with respect to variables $u$ and $v$. We have one last substitution to perform.\n",
    "\n",
    "$$\\mbox{if } u = x - x_0 \\mbox{, then } \\dfrac{du}{dt} = \\dfrac{dx}{dt} \\qquad \\mbox{similarly} \\qquad \\mbox{if } v = y - y_0 \\mbox{, then } \\dfrac{dv}{dt} = \\dfrac{dy}{dt}.$$\n",
    "\n",
    "Thus, we obtain a linearized system of differential equations:\n",
    "\n",
    "$$\\begin{align}\n",
    "\\frac{du}{dt} &= {\\color{dodgerblue}{a}}u + {\\color{tomato}{b}}v\\\\\n",
    "\\frac{dv}{dt} &= {\\color{mediumseagreen}{c}}u + {\\color{mediumpurple}{d}}v\n",
    "\\end{align}.$$\n",
    "\n",
    "- <font color=\"dodgerblue\">The behavior of the non-linear system near equilibrium $(x_0, y_0)$ is the same as the behavior of the linearized system near the origin $(0,0)$.</font>\n",
    "- The linearized system near $(x_0, y_0)$ <font color=\"tomato\">cannot be used to analyze solutions that are not close $(x_0, y_0)$.</font>\n",
    "\n",
    "\n",
    "\n"
   ]
  },
  {
   "cell_type": "markdown",
   "id": "a786a702-9c17-4a46-8ef2-6a0f53277729",
   "metadata": {},
   "source": [
    "##  Expressing the Linearized System in Matrix Form \n",
    "---\n",
    "\n",
    "We can express the linearized system in matrix form\n",
    "\n",
    "$$\\begin{array}{l}\n",
    "& \\dfrac{du}{dt} = {\\color{dodgerblue}{a}}u + {\\color{tomato}{b}}v\\\\\n",
    "& \\dfrac{dv}{dt} = {\\color{mediumseagreen}{c}}u + {\\color{mediumpurple}{d}}v\n",
    "\\end{array} \n",
    "\\qquad \\longrightarrow \\qquad\n",
    "\\begin{bmatrix}\n",
    "\\frac{du}{dt} \\\\\n",
    "\\frac{dv}{dt}\n",
    "\\end{bmatrix} = \n",
    "\\begin{bmatrix}\n",
    "{\\color{dodgerblue}{a}} & {\\color{tomato}{b}} \\\\\n",
    "{\\color{mediumseagreen}{c}} & {\\color{mediumpurple}{d}}\n",
    "\\end{bmatrix}\n",
    "\\begin{bmatrix} u \\\\ v \\end{bmatrix}.$$\n",
    "\n",
    "\n",
    "The coefficients of the linearized system of differential equations are the partial derivatives of $f$ and $g$ evaluated at the equilibrium $(x_0, y_0)$:\n",
    "\n",
    "$${\\color{dodgerblue}{a=f_x(x_0, y_0)}}, \\qquad {\\color{tomato}{b=f_y(x_0, y_0)}}, \\qquad {\\color{mediumseagreen}{c=g_x(x_0, y_0)}}, \\qquad {\\color{mediumpurple}{d=g_y(x_0, y_0)}}.$$\n",
    "\n",
    "Therefore, the linearized system of differential equations can be written as\n",
    "\n",
    "$$\\begin{bmatrix}\n",
    "\\frac{du}{dt} \\\\\n",
    "\\frac{dv}{dt}\n",
    "\\end{bmatrix} = \n",
    "\\begin{bmatrix}\n",
    "{\\color{dodgerblue}{f_x(x_0, y_0)}} & {\\color{tomato}{f_y(x_0, y_0)}} \\\\\n",
    "{\\color{mediumseagreen}{g_x(x_0, y_0)}} & {\\color{mediumpurple}{g_y(x_0, y_0)}}\n",
    "\\end{bmatrix}\n",
    "\\begin{bmatrix} u \\\\ v \\end{bmatrix}$$"
   ]
  },
  {
   "cell_type": "markdown",
   "id": "fd1d6cfe-5b9b-48a4-b36b-6640bb1194e5",
   "metadata": {},
   "source": [
    "### The Jacobian Matrix\n",
    "---\n",
    "\n",
    "The matrix\n",
    "\n",
    "$$J_{(x_0, y_0)} = \\begin{bmatrix}\n",
    "{\\color{dodgerblue}{f_x(x_0, y_0)}} & {\\color{tomato}{f_y(x_0, y_0)}} \\\\\n",
    "{\\color{mediumseagreen}{g_x(x_0, y_0)}} & {\\color{mediumpurple}{g_y(x_0, y_0)}}\n",
    "\\end{bmatrix}$$\n",
    "\n",
    "is called the <font color=\"dodgerblue\">**Jacobian matrix**</font>. "
   ]
  },
  {
   "cell_type": "markdown",
   "id": "7db6f395-bd2e-4551-9e02-f40ef7151cd3",
   "metadata": {},
   "source": [
    "## Stability Analysis for Non-Linear Systems\n",
    "\n",
    "---\n",
    "\n",
    "Consider a non-linear system of first order differential equations\n",
    "\n",
    "$$\\begin{align}\n",
    "\\frac{dx}{dt} &= f(x,y) \\\\\n",
    "\\frac{dy}{dt} &= g(x,y)\n",
    "\\end{align}.$$\n",
    "\n",
    "\n",
    "\n",
    "**<font color=\"dodgerblue\">Step 1:</font>** Find all equilibrium points.\n",
    "\n",
    "**<font color=\"dodgerblue\">Step 2:</font>** Find expressions for Partial Derivatives $f_x$, $f_y$, $g_x$, and $g_y$.\n",
    "\n",
    "**<font color=\"dodgerblue\">Step 3:</font>** Find the Jacobian matrix for a selected equilibrium $(x_0, y_0)$.\n",
    "\n",
    "**<font color=\"dodgerblue\">Step 4:</font>** Find eigenvalues and eigenvectors for the Jacobian to sketch the phase plane near $(x_0, y_0)$.\n",
    "\n",
    "<font color=\"dodgerblue\">**Repeat for all equilibrium if desired.**</font>\n",
    "\n"
   ]
  },
  {
   "cell_type": "markdown",
   "id": "99c2d3fb-2366-45f3-88a1-b4b56b01db65",
   "metadata": {},
   "source": [
    "## <a name=\"19quest7\">Question 7:</a>\n",
    "---\n",
    "\n",
    "Consider the system of differential equations\n",
    "\n",
    "$$\\begin{align}\n",
    "\\frac{dx}{dt} &= 1-x^2 \\\\\n",
    "\\frac{dy}{dt} &= -3x -3y.\n",
    "\\end{align}$$\n",
    "\n",
    "Note the system has two equilibria, at $(1,-1)$ and $(-1,1)$.  **Linearize the system at $(1,-1)$, and determine whether the equilibrium is stable, unstable, or semi-stable.**\n",
    "\n",
    "\n",
    "### Solution to Question 7:\n",
    "---\n",
    "\n",
    "<br> <br> <br>"
   ]
  },
  {
   "cell_type": "markdown",
   "id": "b418e86a-743e-41b7-b3b5-db15f909d13b",
   "metadata": {},
   "source": [
    "## <a name=\"19quest8\">Question 8:</a>\n",
    "---\n",
    "\n",
    "Consider the system of differential equations\n",
    "\n",
    "$$\\begin{align}\n",
    "\\frac{dx}{dt} &= 1-x^2 \\\\\n",
    "\\frac{dy}{dt} &= -3x -3y.\n",
    "\\end{align}$$\n",
    "\n",
    "**Linearize the system at the other equilibrium $(-1,1)$, and determine whether that equilibrium is stable, unstable, or semi-stable.**\n",
    "\n",
    "\n",
    "### Solution to Question 8:\n",
    "---\n",
    "\n",
    "<br> <br> <br>"
   ]
  },
  {
   "cell_type": "markdown",
   "id": "42f96c16",
   "metadata": {},
   "source": [
    "## <a name='19quest9'>Question 9:</a>\n",
    "---\n",
    "\n",
    "Consider again\n",
    "\n",
    "$$\\begin{align}\n",
    "\\frac{dx}{dt} &= 1-x^2 \\\\\n",
    "\\frac{dy}{dt} &= -3x -3y\n",
    "\\end{align}$$\n",
    "\n",
    "Combine your results from [Question 7](#19quest7) and [Question 8](#19quest8), to sketch a possible phase plane for the system of differential equations. \n",
    "\n",
    "- Does an analysis of the system using nullclines corroborate your linear stability analysis?\n",
    "- Sketch the phase plane portrait using the `phase_portrait` function.\n",
    "\n",
    "### Solution to Question 9:\n",
    "---\n",
    "\n",
    "<br> <br> <br>\n"
   ]
  },
  {
   "cell_type": "code",
   "execution_count": null,
   "id": "e87dd863-345e-4ba9-a43d-ca547d44705b",
   "metadata": {},
   "outputs": [],
   "source": [
    "from utils.ode_tools import phase_portrait  # only need to import one time\n",
    "#import numpy as np  # only need to import one time\n",
    "\n",
    "# Set viewing window\n",
    "x = np.linspace(-5.0, 5.0, 21)  \n",
    "y = np.linspace(-5.0, 5.0, 21)\n",
    "\n",
    "def f(Y, t):\n",
    "    x, y = Y\n",
    "    return [??,\n",
    "            ??]  \n",
    "\n",
    "# Plots a phase portrait\n",
    "phase_portrait(x, y, f)"
   ]
  },
  {
   "cell_type": "markdown",
   "id": "d084fe6d-8649-40c5-97c1-38caf9a1e270",
   "metadata": {},
   "source": [
    "## <a name='19quest10'>Question 10:</a>\n",
    "---\n",
    "\n",
    "Use linear stability analysis to classify the critical points you found in the pendulum system. \n",
    "\n",
    "$$\\begin{align}\n",
    "\\frac{d\\theta}{dt} &=v \\\\\n",
    "\\frac{dv}{dt} &= -0.2v - \\sin(\\theta)\n",
    "\\end{align}$$\n",
    "\n",
    "\n",
    "### Solution to Question 10:\n",
    "---\n",
    "\n",
    "<br> <br> <br>"
   ]
  },
  {
   "cell_type": "markdown",
   "id": "bc9c73d7-14ff-42bf-94f7-41f709c1f102",
   "metadata": {},
   "source": [
    "## <a name=\"19quest11\">Question 11:</a>\n",
    "---\n",
    "\n",
    "\n",
    "Use linear stability analysis to classify each of the critical points for the system of differential equations below. \n",
    "\n",
    "$$\\begin{align}\n",
    "\\dfrac{dx}{dt} &= 4x-2xy\\\\\n",
    "\\dfrac{dy}{dt} &= 6y+2xy\n",
    "\\end{align}$$\n",
    "\n",
    "### Solution to Question 11:\n",
    "---\n",
    "\n",
    "<br> <br> <br>\n"
   ]
  },
  {
   "cell_type": "markdown",
   "id": "687625f4-7423-40e9-a45d-79ff68992bc1",
   "metadata": {},
   "source": [
    "# Appendix I: Plotting with `phase_portrait` and `plot_phase_sol`\n",
    "---\n",
    "\n",
    "In the code cells below:\n",
    "\n",
    "- First load the `ode_tools` module from GitHub.\n",
    "- Then from the `ode_tools` module we import `phase_portrait` and/or `plot_phase_sol`.\n",
    "\n"
   ]
  },
  {
   "cell_type": "markdown",
   "id": "caecf01d-e66c-4602-9e84-3212aa947934",
   "metadata": {
    "id": "tuvCY_YV5kMB"
   },
   "source": [
    "## <a name='LoadModule'>Loading `ode_tools` from GitHub</a>\n",
    "---\n",
    "\n",
    "- Run the code cell below to load the most up to date modules stored in GitHub.\n",
    "- You will only need to run this code cell one time during an active session."
   ]
  },
  {
   "cell_type": "code",
   "execution_count": null,
   "id": "3ae25bfb-5796-4197-99fa-6b4832bfe773",
   "metadata": {},
   "outputs": [],
   "source": [
    "!pip install git+https://github.com/CU-Denver-MathStats-OER/ODEs\n",
    "from IPython.display import clear_output\n",
    "clear_output()"
   ]
  },
  {
   "cell_type": "markdown",
   "id": "3ca1bd95-3fcf-47e8-8007-d04d4595b240",
   "metadata": {},
   "source": [
    "## Plot Phase Portrait with `phase_portrait`\n",
    "---"
   ]
  },
  {
   "cell_type": "markdown",
   "id": "82155de9-1dae-4ab3-961c-228373b35664",
   "metadata": {
    "id": "ycAmBv8K_Zss"
   },
   "source": [
    "### Importing the `phase_portrait` Plotting Function\n",
    "---\n",
    "\n",
    "After you run the code cell above to load the `ode_tools` module from GitHub you are now ready to import the `phase_portrait` function. "
   ]
  },
  {
   "cell_type": "code",
   "execution_count": null,
   "id": "c3655989-65b5-4636-95dd-94c34a45d756",
   "metadata": {
    "id": "f38fbe97-697f-4eb5-aab1-b28acdf0d6a5"
   },
   "outputs": [],
   "source": [
    "from utils.ode_tools import phase_portrait  # Only need to import one time."
   ]
  },
  {
   "cell_type": "markdown",
   "id": "38f793ff-4bbb-4ed7-be68-6ec708258ba4",
   "metadata": {},
   "source": [
    "### Defining the System of Differential Equations\n",
    "---\n",
    "\n",
    "We use $x$ and $y$ as the generic symbols for the two dependent variables.\n",
    "\n",
    "$$\\begin{align}\n",
    "\\frac{dx}{dt} &= f_1(x, y)\\\\\n",
    "\\frac{dy}{dt} &= f_2(x, y)\n",
    "\\end{align}$$\n",
    "\n",
    "\n",
    "Below, we enter the system we analyzed in [Question 3](#19quest3).\n",
    "\n",
    "$$\\begin{aligned}\n",
    "\\frac{d\\theta}{dt} &=v \\\\\n",
    "\\frac{dv}{dt} &= -0.2v - \\sin{\\theta}\n",
    "\\end{aligned}$$\n",
    "\n"
   ]
  },
  {
   "cell_type": "code",
   "execution_count": null,
   "id": "b429f25c-b253-424b-9020-49d5703e96b5",
   "metadata": {},
   "outputs": [],
   "source": [
    "import numpy as np\n",
    "\n",
    "# Set viewing window\n",
    "\n",
    "x = np.linspace(-10.0, 10.0, 21)  # theta is horizontal axis\n",
    "y = np.linspace(-2.0, 2.0, 21)  # v is vertical axis\n",
    "\n",
    "def f(Y, t):\n",
    "    x, y = Y\n",
    "    return [y , -0.2*y - np.sin(x)]  # enter f_1(theta, v) and f_2(theta ,v)"
   ]
  },
  {
   "cell_type": "markdown",
   "id": "e7558923-2e15-4993-876f-e57be063593f",
   "metadata": {},
   "source": [
    "### Plotting with `phase_portrait`\n",
    "---\n",
    "\n"
   ]
  },
  {
   "cell_type": "code",
   "execution_count": null,
   "id": "85d5dfa8-729e-4d35-bace-b3406916cfdd",
   "metadata": {},
   "outputs": [],
   "source": [
    "# Plots a phase portrait\n",
    "phase_portrait(x, y, f)"
   ]
  },
  {
   "cell_type": "markdown",
   "id": "2b693a4e-b6b1-4567-b6b0-6a8a481cd71d",
   "metadata": {},
   "source": [
    "## Plot Phase Portrait with `plot_phase_sol`\n",
    "---"
   ]
  },
  {
   "cell_type": "markdown",
   "id": "d1b3a00c-042c-48c6-8a2c-1dcb84c52a05",
   "metadata": {
    "id": "ycAmBv8K_Zss"
   },
   "source": [
    "### Importing the `plot_phase_sol` Plotting Function\n",
    "---\n",
    "\n",
    "After you have loaded the `ode_tools` module from GitHub you are now ready to import the `phase_portrait_sol` function. "
   ]
  },
  {
   "cell_type": "code",
   "execution_count": null,
   "id": "e7950fd1-78d6-4265-bb48-1c27e953aeee",
   "metadata": {
    "id": "f38fbe97-697f-4eb5-aab1-b28acdf0d6a5"
   },
   "outputs": [],
   "source": [
    "from utils.ode_tools import plot_phase_sol  # Only need to import one time."
   ]
  },
  {
   "cell_type": "markdown",
   "id": "fe9e3d8f-aa18-4f25-a879-125987dc6070",
   "metadata": {},
   "source": [
    "### Defining the System of Differential Equations and Initial Conditions\n",
    "---\n",
    "\n",
    "Below, we enter the system we analyzed in [Question 1a](#19quest1a) with initial conditions $\\theta(0) = \\frac{\\pi}{6}$ and $v(0)=0$.\n",
    "\n",
    "$$\\begin{aligned}\n",
    "\\frac{d\\theta}{dt} &= v \\\\\n",
    "\\frac{dv}{dt} &=-0.2v - \\sin{\\theta}\n",
    "\\end{aligned}$$\n",
    "\n"
   ]
  },
  {
   "cell_type": "code",
   "execution_count": null,
   "id": "56112aa2-b915-44ca-afb3-96f1fc477ee3",
   "metadata": {},
   "outputs": [],
   "source": [
    "import numpy as np\n",
    "\n",
    "# Set viewing window\n",
    "\n",
    "x = np.linspace(-3, 3, 21)  # theta is horizontal axis\n",
    "y = np.linspace(-1.0, 1.0, 21)  # v is vertical axis\n",
    "\n",
    "def f(Y, t):\n",
    "    x, y = Y\n",
    "    return [y , -0.2*y - np.sin(x)]  # enter f_1(theta, v) and f_2(theta ,v)\n",
    "\n",
    "# Enter range of time\n",
    "tspan = np.linspace(0, 50, 200) # range of time to visualize solution\n",
    "\n",
    "# Enter initial values\n",
    "x0 = np.pi / 6  # initial value of theta\n",
    "y0 = 0  # initial value of v"
   ]
  },
  {
   "cell_type": "markdown",
   "id": "a9bf3f39-bd8d-4797-b71d-b306a69eeef6",
   "metadata": {},
   "source": [
    "### Plotting with `phase_portrait_sol`\n",
    "---\n",
    "\n"
   ]
  },
  {
   "cell_type": "code",
   "execution_count": null,
   "id": "0ef97519-b641-4d05-b552-3cc2d55019d3",
   "metadata": {},
   "outputs": [],
   "source": [
    "# Plots a phase portrait\n",
    "plot_phase_sol(x, y, f, tspan, x0, y0)"
   ]
  },
  {
   "cell_type": "markdown",
   "id": "82a5a4e8-76b4-46e6-a4bb-9921a6c491bc",
   "metadata": {},
   "source": [
    "# <a name=\"19hint1\">Appendix II: Hint for Question 1</a>\n",
    "---\n",
    "\n",
    "\n",
    "<a title=\"Jacopo Bertolotti, CC0, via Wikimedia Commons\" href=\"https://commons.wikimedia.org/wiki/File:Phase_space_of_a_simple_pendulum.gif\"><img width=\"512\" alt=\"Phase space of a simple pendulum\" src=\"https://upload.wikimedia.org/wikipedia/commons/9/90/Phase_space_of_a_simple_pendulum.gif\"></a>\n",
    "\n",
    "\n",
    "\n",
    "Image credit: <a href=\"https://commons.wikimedia.org/wiki/File:Phase_space_of_a_simple_pendulum.gif\">Jacopo Bertolotti</a>, CC0, via Wikimedia Commons"
   ]
  },
  {
   "cell_type": "markdown",
   "id": "45cbf536-313f-4646-84fe-1a5717c87e5d",
   "metadata": {},
   "source": [
    "# Creative Commons License Information\n",
    "\n",
    "---\n",
    "\n",
    "<a rel=\"license\" href=\"https://creativecommons.org/licenses/by-nc-sa/4.0/\"><img alt=\"Creative Commons License\" style=\"border-width:0\" src=\"https://i.creativecommons.org/l/by-nc-sa/4.0/80x15.png\" /></a><br /><span xmlns:dct=\"http://purl.org/dc/terms/\" property=\"dct:title\">*Exploring Differential Equations*</span> by <a xmlns:cc=\"http://creativecommons.org/ns#\" href=\"https://github.com/CU-Denver-MathStats-OER/ODEs\" property=\"cc:attributionName\" rel=\"cc:attributionURL\">Adam Spiegler</a> is licensed under a <a rel=\"license\" href=\"http://creativecommons.org/licenses/by-nc-sa/4.0/\">Creative Commons Attribution-NonCommercial-ShareAlike 4.0 International License</a>.<br />Based on a work at <a xmlns:dct=\"http://purl.org/dc/terms/\" href=\"https://github.com/CU-Denver-MathStats-OER/ODEs\" rel=\"dct:source\">https://github.com/CU-Denver-MathStats-OER/ODEs</a> and original content created by Rasmussen, C., Keene, K. A., Dunmyre, J., & Fortune, N. (2018). *Inquiry oriented differential equations: Course materials*. Available at <a href=\"https://iode.sdsu.edu\">https://iode.sdsu.edu</a>."
   ]
  }
 ],
 "metadata": {
  "kernelspec": {
   "display_name": "Python 3 (ipykernel)",
   "language": "python",
   "name": "python3"
  },
  "language_info": {
   "codemirror_mode": {
    "name": "ipython",
    "version": 3
   },
   "file_extension": ".py",
   "mimetype": "text/x-python",
   "name": "python",
   "nbconvert_exporter": "python",
   "pygments_lexer": "ipython3",
   "version": "3.8.17"
  }
 },
 "nbformat": 4,
 "nbformat_minor": 5
}
