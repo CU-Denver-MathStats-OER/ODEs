{
 "cells": [
  {
   "cell_type": "markdown",
   "id": "203bae52-5962-43db-98bc-cb002e795a18",
   "metadata": {},
   "source": [
    "# Quick Reference for Phase Portraits\n",
    "\n",
    "This notebook demonstrates the use of plotting functions to visualize phase portraits for systems of ODEs."
   ]
  },
  {
   "cell_type": "code",
   "execution_count": null,
   "id": "1d8ce902-f01f-4b99-87fd-88bbc1bfb72a",
   "metadata": {},
   "outputs": [],
   "source": [
    "# Set up environment\n",
    "import numpy as np\n",
    "import matplotlib.pyplot as plt\n",
    "import sys\n",
    "sys.path.insert(0, '..')"
   ]
  },
  {
   "cell_type": "markdown",
   "id": "d657d024-c7c0-4a02-8929-d85b8318b549",
   "metadata": {},
   "source": [
    "## Plotting a Phase Portrait\n",
    "\n",
    "The following example utilizes an undamped pendulum with no external forcing."
   ]
  },
  {
   "cell_type": "code",
   "execution_count": null,
   "id": "35a743e5-f600-4ca2-b9a4-d5999defd268",
   "metadata": {},
   "outputs": [],
   "source": [
    "def f(Y, t):\n",
    "    y1, y2 = Y\n",
    "    return [y2, -np.sin(y1)]"
   ]
  },
  {
   "cell_type": "code",
   "execution_count": null,
   "id": "2e52e604-535c-4b14-8100-e578761768fb",
   "metadata": {},
   "outputs": [],
   "source": [
    "from utils.ode_tools import phase_portrait\n",
    "\n",
    "y1 = np.linspace(-2.0, 8.0, 20)\n",
    "y2 = np.linspace(-2.0, 2.0, 20)\n",
    "phase_portrait(y1, y2,f)"
   ]
  },
  {
   "cell_type": "markdown",
   "id": "208a8712-0ebe-47b2-87e4-d3602486c036",
   "metadata": {},
   "source": [
    "## Plotting a Solution in a Phase Plane\n",
    "\n",
    "Given a set of initial conditions, visualize the solution in the phase plane given some range of times."
   ]
  },
  {
   "cell_type": "code",
   "execution_count": null,
   "id": "50673889-31b1-48e6-b571-207fbb6abe82",
   "metadata": {},
   "outputs": [],
   "source": [
    "from utils.ode_tools import plot_phase_sol\n",
    "\n",
    "tspan = np.linspace(0, 50, 200) # range of time to visualize solution\n",
    "\n",
    "fig1, ax1 = plt.subplots(figsize=(12,8))\n",
    "\n",
    "plot_phase_sol(y1, y2, f, tspan, v1_0=0, v2_0=1, ax=ax1)\n",
    "plot_phase_sol(y1, y2, f, tspan, v1_0=0, v2_0=2, ax=ax1, add_phase_plane=False)\n",
    "plot_phase_sol(y1, y2, f, tspan, v1_0=0, v2_0=0, ax=ax1, add_phase_plane=False)"
   ]
  },
  {
   "cell_type": "markdown",
   "id": "30ae55d7-5b2a-4bea-b215-5e6675926228",
   "metadata": {},
   "source": [
    "## Predator Prey Model\n",
    "\n",
    "Using the above tools, we can visualize solutions to a simple predator-prey model."
   ]
  },
  {
   "cell_type": "code",
   "execution_count": null,
   "id": "0f0084be-314a-4563-9e84-35fbf3ffb668",
   "metadata": {},
   "outputs": [],
   "source": [
    "# Definition of parameters\n",
    "a = 1.  # natural growth rate of rabbits\n",
    "b = 0.1  # natural dying rate of rabbits\n",
    "c = 1.5  # natural dying rate of fox\n",
    "d = 0.75  # factor describes how many rabbits create new fox\n",
    "\n"
   ]
  },
  {
   "cell_type": "code",
   "execution_count": null,
   "id": "52d7b45d-b8eb-44a0-928c-354e766fa1a1",
   "metadata": {},
   "outputs": [],
   "source": [
    "# Growth rate of foxes and rabbits\n",
    "def dxdt(X, t=0):\n",
    "    return np.array([ a*X[0] -   b*X[0]*X[1] ,\n",
    "                  -c*X[1] + d*b*X[0]*X[1] ])\n",
    "\n",
    "def d2xdt2(X, t=0):\n",
    "    \"\"\" Return the Jacobian matrix evaluated in X. \"\"\"\n",
    "    return np.array([[a -b*X[1],   -b*X[0]     ],\n",
    "                  [b*d*X[1] ,   -c +b*d*X[0]] ])"
   ]
  },
  {
   "cell_type": "code",
   "execution_count": null,
   "id": "0cc5c5e6-df74-4030-b7c3-84494631cecc",
   "metadata": {},
   "outputs": [],
   "source": [
    "from scipy.integrate import odeint\n",
    "tspan = np.linspace(0, 15,  1000)              # time\n",
    "X0 = np.array([10, 5])                     # initials conditions: 10 rabbits and 5 foxes\n",
    "X, infodict = odeint(dxdt, X0, tspan, full_output=True)"
   ]
  },
  {
   "cell_type": "code",
   "execution_count": null,
   "id": "f099c107-f10b-4bb3-91d0-368ccf53fad4",
   "metadata": {},
   "outputs": [],
   "source": [
    "# Plot Ranges\n",
    "r = np.linspace(0, 60, 20)\n",
    "f = np.linspace(0, 40, 20)\n",
    "# Initial conditions\n",
    "r0=6\n",
    "f0=3\n",
    "\n",
    "fig2, ax2 = plt.subplots(figsize=(12,8))\n",
    "\n",
    "plot_phase_sol(r, f, dxdt, tspan, 6, 3, ax=ax2)\n",
    "plot_phase_sol(r, f, dxdt, tspan, 9, 4, ax=ax2, add_phase_plane=False)\n",
    "plot_phase_sol(r, f, dxdt, tspan, 12, 6, ax=ax2, add_phase_plane=False)\n",
    "plot_phase_sol(r, f, dxdt, tspan, 15, 8, ax=ax2, add_phase_plane=False)"
   ]
  },
  {
   "cell_type": "code",
   "execution_count": null,
   "id": "bfd7a495-0f44-4471-9ecf-b088ba1c08b4",
   "metadata": {},
   "outputs": [],
   "source": [
    "## Plot together\n",
    "fig, axs = plt.subplots(2, 1, figsize=(12,12), gridspec_kw={'height_ratios': [3, 2]})\n",
    "\n",
    "# Phase Portraits\n",
    "plot_phase_sol(r, f, dxdt, tspan, 6, 3, ax=axs[0])\n",
    "\n",
    "# ax1.plot([0, 1], [0, 1])\n",
    "# plot_phase_sol(r, f, dxdt, tspan, 6, 3, ax=ax2)\n",
    "\n",
    "# Change over time\n",
    "rabbits, foxes = X.T\n",
    "t = tspan\n",
    "f1 = plt.figure()\n",
    "axs[1].plot(t, rabbits, 'r-', label='Rabbits')\n",
    "axs[1].plot(t, foxes  , 'b-', label='Foxes')\n",
    "axs[1].grid()\n",
    "axs[1].legend(loc='best')\n",
    "axs[1].set_xlabel('time')\n",
    "axs[1].set_ylabel('population')\n",
    "axs[1].set_title('Evolution of fox and rabbit populations')"
   ]
  },
  {
   "cell_type": "code",
   "execution_count": null,
   "id": "be457849-1928-4198-a72b-52ca9ec20dd7",
   "metadata": {},
   "outputs": [],
   "source": []
  }
 ],
 "metadata": {
  "kernelspec": {
   "display_name": "Python 3 (ipykernel)",
   "language": "python",
   "name": "python3"
  },
  "language_info": {
   "codemirror_mode": {
    "name": "ipython",
    "version": 3
   },
   "file_extension": ".py",
   "mimetype": "text/x-python",
   "name": "python",
   "nbconvert_exporter": "python",
   "pygments_lexer": "ipython3",
   "version": "3.9.12"
  }
 },
 "nbformat": 4,
 "nbformat_minor": 5
}
