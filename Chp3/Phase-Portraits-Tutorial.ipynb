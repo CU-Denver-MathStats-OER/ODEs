{
 "cells": [
  {
   "cell_type": "markdown",
   "id": "f56d7450-b126-4fef-9ded-a31fcaa1320f",
   "metadata": {},
   "source": [
    "[![Open In Colab](https://colab.research.google.com/assets/colab-badge.svg)](https://githubtocolab.com/CU-Denver-MathStats-OER/ODEs/blob/main/Chp3/Phase-Portraits-Tutorial.ipynb)\n"
   ]
  },
  {
   "cell_type": "markdown",
   "id": "203bae52-5962-43db-98bc-cb002e795a18",
   "metadata": {},
   "source": [
    "# Quick Reference for Phase Plane Portraits: Chapter 3\n",
    "---\n",
    "\n",
    "\n",
    "This notebook demonstrates the use of functions related to phase plane portraits from the `ode_tools` Python module.\n",
    "\n",
    "- The actual Python code for each function can be found in the file named <font color='blue'>**ode_tools.py**</font> located in the directory <font color='blue'>**../utils**</font> (or wherevever you have previously saved this file).\n",
    "- **Good news!** <font color='blue'>The functions defined in **ode_plot_tools.py** are coded and ready for use with no mofications needed to the source file!</font>\n",
    "  - You do not even have to view the source file to understand how to use and adjust the functions to fit your needs.\n",
    "- See the documentation below for a \"Quick Reference Guide\" to working with phase plane portrait functions in the `ode_plot_tools` module.\n",
    "\n"
   ]
  },
  {
   "cell_type": "markdown",
   "id": "0f5f5e73-cd2e-4ada-ac14-ec648839ae76",
   "metadata": {
    "id": "POjCozN4EsOB"
   },
   "source": [
    "# <a name='TOC'>Table of Contents</a>\n",
    "---\n",
    "\n",
    "**[Section 1.](#Sec1) Setting up your file structure.**\n",
    "- **Working in Google Colab:** You will need to mount your Drive and then set the file path. [See Colab Path Setup Section](#SetPathColab).\n",
    "- **Working in Jupyter:** You will need to set the file path. [See Jupyter Path Setup Section](#SetPathJup).\n",
    "  - The process is slightly different depending on whether you use Google Colab of Jupyter.\n",
    "  - Each time you reopen a notebook, you will need to set the path in order to import functions from `ode_tools`.\n",
    "  - Once you open and set the path in a notebook, you do not need to reset the path unless you lose your connection.\n",
    "\n",
    "**[Section 2.](#Sec2) Plotting Phase Plane Portrait with `phase_portrait(x, y, f)`.**\n",
    "\n",
    "\n",
    "**[Section 3.](#Sec3) Adding a Solution to a Phase Plane Portrait with `plot_phase_sol(x, y, f, tspan, x0, y0)`.**\n",
    "\n"
   ]
  },
  {
   "cell_type": "markdown",
   "id": "2b6bc2af-ca1b-4d7e-abd7-69d89a0cbaef",
   "metadata": {
    "id": "pQNr8zojIcF3"
   },
   "source": [
    "# <a name='Sec1'>Section 1: Setting the Path</a>\n",
    "---\n",
    "\n",
    "- See [Google Colab instructions](#SetPathColab) below.\n",
    "- See [Jupyter instructions](#SetPathJup) after the Colab instructions."
   ]
  },
  {
   "cell_type": "markdown",
   "id": "60832a7b-7bc2-4350-8263-d15b2a9fabb2",
   "metadata": {
    "id": "FEbG8ohD_zUb"
   },
   "source": [
    "## <a name='SetPathColab'>Setting a Path in Google Colab</a>\n",
    "---\n",
    "- <mark>If you are using Jupyter, skip this section.</mark>\n",
    "\n",
    "In Google Colab, there are three steps:\n",
    "\n",
    "1. [Mount Google Drive](#MountDrive) in your Colab notebook.\n",
    "2. Authorize Colab to access your Google Drive account.\n",
    "3. [Set the Path](#SysColab)."
   ]
  },
  {
   "cell_type": "markdown",
   "id": "22581b17-63a8-460b-9fac-bdea46f68127",
   "metadata": {
    "id": "nJPWVvfRKYyR"
   },
   "source": [
    "### <a name='AuthColab'>Mount and Authorize Access to Google Drive</a>\n",
    "---\n",
    "\n",
    "If you are working with this notebook in Google Colab, to access the `ode_tools` module, you need to first mount your Google Drive.\n",
    "\n",
    "- <mark>**The code cell below will mount Google Drive in Colab.**</mark>\n",
    "- <mark>Then you will need to authorize Colab to access your Drive.</mark>\n",
    "- If you are using Jupyter, skip this section."
   ]
  },
  {
   "cell_type": "code",
   "execution_count": null,
   "id": "d04bb692-4372-4429-b3a6-245c53390374",
   "metadata": {
    "id": "9_nD_RSB_zUm"
   },
   "outputs": [],
   "source": [
    "# Run this cell if you are using Google Colab\n",
    "# Do NOT run if you are using Jupyter\n",
    "\n",
    "# Allow Colab to access your Google Drive files\n",
    "from google.colab import drive\n",
    "drive.mount('/content/drive')"
   ]
  },
  {
   "cell_type": "markdown",
   "id": "c956a984-43df-4d02-a434-46b0d95f5205",
   "metadata": {
    "id": "l7fIwrCz_zUn"
   },
   "source": [
    "### <a name='SysColab'>Finding and Setting Your Path in Google Colab</a>\n",
    "---\n",
    "\n",
    "- <mark>If you are using Jupyter, skip this section.</mark>\n",
    "\n",
    "**If you are working with this notebook in Google Colab**, then you will need to define the path to the <font color='blue'>**../utils**</font> folder in order to import functions from `ode_tools`.\n",
    "\n",
    "- In the code cell below, you can see the path is currently set to <font color='blue'>**<span>&#47;</span>content/drive/MyDrive/MATH 3200 Colab/utils**</font>\n",
    "- You may need to adjust this path to your file structure. To identify your path:\n",
    "  1. Click on the file icon on the left side of the screen.\n",
    "  2. From the files menu on the left, find the **utils** folder that should be inside the main folder named **MATH 3200 Colab**.\n",
    "  3. Move your pointer over the **utils** folder, click on the three dots, and select the option **Copy path**.\n",
    "  4. Set the path with `sys.path.append('paste_your_path')`. Be sure your path is specified inside single quotes.\n",
    "\n",
    "<mark>The code cell below will set the path in Google Colab.</mark>"
   ]
  },
  {
   "cell_type": "code",
   "execution_count": null,
   "id": "a18fd3d1-9e8b-4194-873c-2e6ebfbbf5dd",
   "metadata": {
    "id": "yRXsjeaP_zUo"
   },
   "outputs": [],
   "source": [
    "# Only run this cell if using Google Colab.\n",
    "# Do not run this cell if using Jupyter.\n",
    "import sys\n",
    "\n",
    "# Set the path to the folder with module ode_tools.py\n",
    "# Adjust the path according to your file structure in Drive\n",
    "sys.path.append('/content/drive/MyDrive/MATH 3200 Colab/utils')"
   ]
  },
  {
   "cell_type": "markdown",
   "id": "0bb373bc-418b-4f87-8f8f-9b06cd42e4c9",
   "metadata": {
    "id": "Ycp9G5PN_zUo"
   },
   "source": [
    "## <a name='SetPathJup'>Setting a Path in Jupyter</a>\n",
    "---\n",
    "\n",
    "- <mark>If you are using Google Colab, skip this section.</mark>\n",
    "\n",
    "**If you are working with this notebook in Jupyter**, then you will need to define the path to the <font color='blue'>**../utils**</font> folder in order to import functions from `ode_tools`.\n",
    "\n",
    "<mark>The code cell below will set the path in Jupyter.</mark>"
   ]
  },
  {
   "cell_type": "code",
   "execution_count": null,
   "id": "ce8d9384-a567-43f5-ac87-0d454de65988",
   "metadata": {
    "id": "rxifzI0s_zUo"
   },
   "outputs": [],
   "source": [
    "# Only run this cell if using Jupyter.\n",
    "# Do not run this cell if using Google Colab.\n",
    "import sys\n",
    "\n",
    "sys.path.append('../utils')"
   ]
  },
  {
   "cell_type": "markdown",
   "id": "d657d024-c7c0-4a02-8929-d85b8318b549",
   "metadata": {},
   "source": [
    "# <a name=\"Sec2\">Section 2:  Plotting a Phase Plane Portrait</a>\n",
    "---\n",
    "\n",
    "A function named `phase_portrait()` plots a phase plane portrait (vector field) for a system of first order differential equations over a specified range of values for the dependent variables $x$ and $y$. \n",
    "\n",
    "- We use `x` for dependent variable 1.\n",
    "- We use `y` for dependent variable 2.\n",
    "- We use the function `f(Y, t)` for the system of differential equations.\n",
    "    - The output of this function is a vector.\n",
    "    - The first entry is a formula for the first differential equation $\\dfrac{dx}{dt}$.\n",
    "    - The second entry is a formula for the second differential equation $\\dfrac{dy}{dt}$."
   ]
  },
  {
   "cell_type": "markdown",
   "id": "2a709915-1ac1-4700-afc3-b15ad4dd19de",
   "metadata": {
    "id": "RIgh_PtPXSbG"
   },
   "source": [
    "## How to Plot with `phase_portrait(x, y, f)`\n",
    "---\n",
    "\n",
    "Consider plotting the system the of differential equations below in the phase plane with a window of $0 \\leq x \\leq 5$ and $0 \\leq y \\leq 5$.\n",
    "\n",
    "$$\\begin{array}{l}\n",
    "\\dfrac{dx}{dt} = 3x-1.4xy \\\\\n",
    "\\dfrac{dy}{dt} = -y + 0.8xy\\\\\n",
    "\\end{array}$$\n",
    "\n",
    "\n",
    "1. Input vectors of values for the dependent variables `x` and `y`.\n",
    "\n",
    "    - In the code cell below, we set up a grid of equally spaced values along the intervals $0 \\leq x \\leq 5$ and $0 \\leq y \\leq 5$.\n",
    "\n",
    "\n",
    "2. Define the system of two differential equations `f(Y,t)`.\n",
    "\n",
    "    - In the code cell below, we enter the system of differential equations above.    \n",
    "    - The formula for $\\frac{dx}{dt}=3x-1.4xy$ is entered as `3*x - 1.4*x*y`. \n",
    "    - The formula for $\\frac{dy}{dt}=-y+0.8xy$ is entered as `-y + 0.8*x*y`.\n",
    "\n",
    "\n"
   ]
  },
  {
   "cell_type": "code",
   "execution_count": null,
   "id": "d5c86e66-995f-48d2-8161-8c3ffd7a2e7c",
   "metadata": {},
   "outputs": [],
   "source": [
    "import numpy as np\n",
    "\n",
    "# Set plot range\n",
    "x = np.linspace(0.0, 5.0, 20)  # range of values for x\n",
    "y = np.linspace(0.0, 5.0, 20)  # range of values for y\n",
    "\n",
    "# Enter differential equation\n",
    "def f(Y, t):\n",
    "    x, y = Y\n",
    "    return [3*x - 1.4*x*y,  # formula for dx/dt\n",
    "            -y + 0.8*x*y]  # formula for dy/dt"
   ]
  },
  {
   "cell_type": "markdown",
   "id": "98854869-06fa-4871-bfba-3f976bd9043c",
   "metadata": {
    "id": "g9FAZH_Abvol"
   },
   "source": [
    "3. Import the `phase_portrait` function.\n",
    "\n",
    "  - Like packages, you only need to import a function one time after opening a notebook.\n",
    "  - <mark>Be sure you have first correctly set the path to the file **ode_tools.py**</mark>.\n",
    "  - If you get an error message, it is likely an error with the path, refer to [Section 1: Setting the Path](#Sec1)"
   ]
  },
  {
   "cell_type": "code",
   "execution_count": null,
   "id": "262d1a29-f3bd-412e-8251-e7763d1004db",
   "metadata": {
    "id": "f38fbe97-697f-4eb5-aab1-b28acdf0d6a5"
   },
   "outputs": [],
   "source": [
    "from ode_tools import phase_portrait  # Only need to import one time."
   ]
  },
  {
   "cell_type": "markdown",
   "id": "74a27822-a479-4d52-b5b5-802107c73afb",
   "metadata": {
    "id": "BX7uIZRRbwtZ"
   },
   "source": [
    "4. We generate the slope field by running the function with the command `phase_portrait(x, y, f)`."
   ]
  },
  {
   "cell_type": "code",
   "execution_count": null,
   "id": "b4ca8e27-8879-4fcd-8d35-13c41377a235",
   "metadata": {
    "id": "b7005c76-b458-4d2d-851d-280471554452"
   },
   "outputs": [],
   "source": [
    "# Plots a phase portrait\n",
    "\n",
    "phase_portrait(x, y, f)"
   ]
  },
  {
   "cell_type": "markdown",
   "id": "42acc671-30d7-44ba-9e02-79dc60c58f70",
   "metadata": {
    "id": "wOR-A_5Cbgxl"
   },
   "source": [
    "## Each time you want to plot a new solution:\n",
    "---\n",
    "\n",
    "- Redefine `x`, `y`, and `f(Y, t)` as needed.\n",
    "- Then run the command `phase_portrait(x, y, f)`."
   ]
  },
  {
   "cell_type": "markdown",
   "id": "208a8712-0ebe-47b2-87e4-d3602486c036",
   "metadata": {},
   "source": [
    "# <a name=\"Sec3\">Section 3: Adding a Solution to a Phase Plane Portrait</a>\n",
    "---\n",
    "\n",
    "A function named `plot_phase_sol` plots particular solutions in a phase plane portrait (vector field) for a system of first order differential equations over a specified range of values for the indpendent and dependent variables. \n",
    "\n",
    "- We use `x` for dependent variable 1.\n",
    "- We use `y` for dependent variable 2.\n",
    "- We use the function `f(Y, t)` for the system of differential equations.\n",
    "    - The output of this function is a vector.\n",
    "    - The first entry is a formula for the first differential equation $\\dfrac{dx}{dt}$.\n",
    "    - The second entry is a formula for the second differential equation $\\dfrac{dy}{dt}$.\n",
    "- We use `tspan` for the range of time to visualize the solution.\n",
    "- We use `x0` for the initial value of the first dependent variable $x$.\n",
    "- We use `y0` for the initial value of the first dependent variable $y$."
   ]
  },
  {
   "cell_type": "markdown",
   "id": "c152a493-a198-4ba6-8315-80a0cb8a288c",
   "metadata": {
    "id": "RIgh_PtPXSbG"
   },
   "source": [
    "## How to Plot with `plot_phase_sol(x, y, f, tspan, x0, y0)`\n",
    "---\n",
    "\n",
    "Consider plotting the solution to the system the of differential equations below with initial condition $(x(0),y(0)) = (2,3)$ in the phase plane with over a window of $0 \\leq x \\leq 5$ and $0 \\leq y \\leq 5$.\n",
    "\n",
    "$$\\begin{array}{l}\n",
    "\\dfrac{dx}{dt} = 3x-1.4xy \\\\\n",
    "\\dfrac{dy}{dt} = -y + 0.8xy\\\\\n",
    "\\end{array}$$\n",
    "\n",
    "\n",
    "1. Input vectors of values for the dependent variables `x` and `y`.\n",
    "\n",
    "    - In the code cell below, we set up a grid of equally spaced values along the intervals $0 \\leq x \\leq 5$ and $0 \\leq y \\leq 5$.\n",
    "\n",
    "\n",
    "2. Define the system of two differential equations `f(Y,t)`.\n",
    "\n",
    "    - In the code cell below, we enter the system of differential equations above.    \n",
    "    - The formula for $\\frac{dx}{dt}=3x-1.4xy$ is entered as `3*x - 1.4*x*y`. \n",
    "    - The formula for $\\frac{dy}{dt}=-y+0.8xy$ is entered as `-y + 0.8*x*y`.\n",
    "\n",
    "3. Enter the range of time over which the solution will be plotted using `tspan`.\n",
    "\n",
    "4. Enter the initial value for $x$ at $t=0$ as `x0`. \n",
    "\n",
    "5. Enter the initial value for $y$ at $t=0$ as `y0`. "
   ]
  },
  {
   "cell_type": "code",
   "execution_count": null,
   "id": "1479d04a-0f4e-4244-a698-e72a4f9cd619",
   "metadata": {},
   "outputs": [],
   "source": [
    "import numpy as np\n",
    "\n",
    "# Set plot range\n",
    "x = np.linspace(0.0, 5.0, 20)  # range of values for x\n",
    "y = np.linspace(0.0, 5.0, 20)  # range of values for y\n",
    "\n",
    "# Enter differential equation\n",
    "def f(Y, t):\n",
    "    x, y = Y\n",
    "    return [3*x - 1.4*x*y,  # formula for dx/dt\n",
    "            -y + 0.8*x*y]  # formula for dy/dt\n",
    "\n",
    "# Enter range of time\n",
    "tspan = np.linspace(0, 50, 200) # range of time to visualize solution\n",
    "\n",
    "# Enter initial values\n",
    "x0 = 2  # initial value of x\n",
    "y0 = 3  # initial value of y"
   ]
  },
  {
   "cell_type": "markdown",
   "id": "532b13a1-2245-4fcb-b121-8c951b5fd255",
   "metadata": {
    "id": "g9FAZH_Abvol"
   },
   "source": [
    "6. Import the `plot_phase_sol` function.\n",
    "\n",
    "  - Like packages, you only need to import a function one time after opening a notebook.\n",
    "  - <mark>Be sure you have first correctly set the path to the file **ode_tools.py**</mark>.\n",
    "  - If you get an error message, it is likely an error with the path, refer to [Section 1: Setting the Path](#Sec1)"
   ]
  },
  {
   "cell_type": "code",
   "execution_count": null,
   "id": "2e7c1783-5a01-4334-a2c7-37efc9ba5fa3",
   "metadata": {
    "id": "f38fbe97-697f-4eb5-aab1-b28acdf0d6a5"
   },
   "outputs": [],
   "source": [
    "from ode_tools import plot_phase_sol  # Only need to import one time."
   ]
  },
  {
   "cell_type": "markdown",
   "id": "35b377e7-63e9-4f6b-b238-8eb89baec828",
   "metadata": {
    "id": "BX7uIZRRbwtZ"
   },
   "source": [
    "7. We generate the slope field by running the function with the command `plot_phase_sol(x, y, f, tspan, x0, y0)`."
   ]
  },
  {
   "cell_type": "code",
   "execution_count": null,
   "id": "43a4028e-0df1-45c5-aa83-339ab8687b6d",
   "metadata": {
    "id": "b7005c76-b458-4d2d-851d-280471554452"
   },
   "outputs": [],
   "source": [
    "# Plots a solution in a phase plane portrait\n",
    "\n",
    "plot_phase_sol(x, y, f, tspan, x0, y0)"
   ]
  },
  {
   "cell_type": "markdown",
   "id": "e75b457a-6556-4a97-bf5a-cbefcd68407e",
   "metadata": {
    "id": "wOR-A_5Cbgxl"
   },
   "source": [
    "## Each Time You Want To Plot A New Solution:\n",
    "---\n",
    "\n",
    "- Redefine `x`, `y`, `f(Y, t)`, `tspan`, `x0`, and `y0` as needed.\n",
    "- Then run the command `plot_phase_sol(x, y, f, tspan, x0, y0)`."
   ]
  }
 ],
 "metadata": {
  "kernelspec": {
   "display_name": "Python 3",
   "language": "python",
   "name": "python3"
  },
  "language_info": {
   "codemirror_mode": {
    "name": "ipython",
    "version": 3
   },
   "file_extension": ".py",
   "mimetype": "text/x-python",
   "name": "python",
   "nbconvert_exporter": "python",
   "pygments_lexer": "ipython3",
   "version": "3.8.8"
  }
 },
 "nbformat": 4,
 "nbformat_minor": 5
}
