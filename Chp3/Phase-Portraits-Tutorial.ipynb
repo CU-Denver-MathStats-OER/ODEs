{
 "cells": [
  {
   "cell_type": "markdown",
   "id": "f56d7450-b126-4fef-9ded-a31fcaa1320f",
   "metadata": {},
   "source": [
    "[![Open In Colab](https://colab.research.google.com/assets/colab-badge.svg)](https://githubtocolab.com/CU-Denver-MathStats-OER/ODEs/blob/main/Chp3/Phase-Portraits-Tutorial.ipynb)\n"
   ]
  },
  {
   "cell_type": "markdown",
   "id": "203bae52-5962-43db-98bc-cb002e795a18",
   "metadata": {},
   "source": [
    "# Quick Reference: Chapter 3 Phase Plane Portraits \n",
    "---\n",
    "\n",
    "\n",
    "This notebook demonstrates the use of functions related to phase plane portraits from the `ode_tools` Python module.\n",
    "\n",
    "- The actual Python code for each function can be found in the file named <font color='blue'>**ode_tools.py**</font> located in the directory <font color='blue'>**../utils**</font> (or wherevever you have previously saved this file).\n",
    "- **Good news!** <font color='blue'>The functions defined in **ode_plot_tools.py** are coded and ready for use with no mofications needed to the source file!</font>\n",
    "  - You do not even have to view the source file to understand how to use and adjust the functions to fit your needs.\n",
    "- See the documentation below for a \"Quick Reference Guide\" to working with phase plane portrait functions in the `ode_tools` module.\n",
    "\n"
   ]
  },
  {
   "cell_type": "markdown",
   "id": "0f5f5e73-cd2e-4ada-ac14-ec648839ae76",
   "metadata": {
    "id": "POjCozN4EsOB"
   },
   "source": [
    "# <a name='TOC'>Table of Contents</a>\n",
    "---\n",
    "\n",
    "**[Section 1.](#Sec1) Loading `ode_tools` from GitHub**\n",
    "\n",
    "**[Section 2.](#Sec2) Plotting Phase Plane Portrait with `phase_portrait()`.**\n",
    "\n",
    "\n",
    "**[Section 3.](#Sec3) Adding a Solution to a Phase Plane Portrait with `plot_phase_sol()`.**\n",
    "\n"
   ]
  },
  {
   "cell_type": "markdown",
   "id": "e65e14a4-d0c7-4739-90c7-063ae9122ef1",
   "metadata": {
    "id": "pQNr8zojIcF3"
   },
   "source": [
    "# <a name='Sec1'>Section 1: Loading `ode_tools` from GitHub</a>\n",
    "---\n",
    "\n",
    "- Run the code cell below to load the most up to date modules stored in GitHub.\n",
    "- You will only need to run this code cell one time during an active session."
   ]
  },
  {
   "cell_type": "code",
   "execution_count": null,
   "id": "4b5c23a0-b958-435a-9081-31d170977320",
   "metadata": {},
   "outputs": [],
   "source": [
    "!pip install git+https://github.com/CU-Denver-MathStats-OER/ODEs\n",
    "from IPython.display import clear_output\n",
    "clear_output()"
   ]
  },
  {
   "cell_type": "markdown",
   "id": "d657d024-c7c0-4a02-8929-d85b8318b549",
   "metadata": {},
   "source": [
    "# <a name=\"Sec2\">Section 2:  Plotting a Phase Plane Portrait</a>\n",
    "---\n",
    "\n",
    "A function named `phase_portrait()` plots a phase plane portrait (vector field) for a system of first order differential equations over a specified range of values for the dependent variables $x$ and $y$. \n",
    "\n",
    "- We use `x` for dependent variable 1.\n",
    "- We use `y` for dependent variable 2.\n",
    "- We use the function `f(Y, t)` for the system of differential equations.\n",
    "    - The output of this function is a vector.\n",
    "    - The first entry is a formula for the first differential equation $\\dfrac{dx}{dt}$.\n",
    "    - The second entry is a formula for the second differential equation $\\dfrac{dy}{dt}$."
   ]
  },
  {
   "cell_type": "markdown",
   "id": "2a709915-1ac1-4700-afc3-b15ad4dd19de",
   "metadata": {
    "id": "RIgh_PtPXSbG"
   },
   "source": [
    "## How to Plot with `phase_portrait(x, y, f)`\n",
    "---\n",
    "\n",
    "Consider plotting the system the of differential equations below in the phase plane with a window of $0 \\leq x \\leq 5$ and $0 \\leq y \\leq 5$.\n",
    "\n",
    "$$\\begin{array}{l}\n",
    "\\dfrac{dx}{dt} = 3x-1.4xy \\\\\n",
    "\\dfrac{dy}{dt} = -y + 0.8xy\\\\\n",
    "\\end{array}$$\n",
    "\n",
    "\n",
    "1. Input vectors of values for the dependent variables `x` and `y`.\n",
    "\n",
    "    - In the code cell below, we set up a grid of equally spaced values along the intervals $0 \\leq x \\leq 5$ and $0 \\leq y \\leq 5$.\n",
    "\n",
    "\n",
    "2. Define the system of two differential equations `f(Y,t)`.\n",
    "\n",
    "    - In the code cell below, we enter the system of differential equations above.    \n",
    "    - The formula for $\\frac{dx}{dt}=3x-1.4xy$ is entered as `3*x - 1.4*x*y`. \n",
    "    - The formula for $\\frac{dy}{dt}=-y+0.8xy$ is entered as `-y + 0.8*x*y`.\n",
    "\n",
    "\n"
   ]
  },
  {
   "cell_type": "code",
   "execution_count": null,
   "id": "d5c86e66-995f-48d2-8161-8c3ffd7a2e7c",
   "metadata": {},
   "outputs": [],
   "source": [
    "import numpy as np\n",
    "\n",
    "# Set plot range\n",
    "x = np.linspace(0.0, 5.0, 20)  # range of values for x\n",
    "y = np.linspace(0.0, 5.0, 20)  # range of values for y\n",
    "\n",
    "# Enter differential equation\n",
    "def f(Y, t):\n",
    "    x, y = Y\n",
    "    return [3*x - 1.4*x*y,  # formula for dx/dt\n",
    "            -y + 0.8*x*y]  # formula for dy/dt"
   ]
  },
  {
   "cell_type": "markdown",
   "id": "98854869-06fa-4871-bfba-3f976bd9043c",
   "metadata": {
    "id": "g9FAZH_Abvol"
   },
   "source": [
    "3. Import the `phase_portrait` function.\n",
    "\n",
    "  - Like packages, you only need to import a function one time after opening a notebook.\n",
    "  - <mark>Be sure you have first loaded **ode_tools.py** from GitHub.</mark>.\n",
    "  - If you get an error message, it is likely you forgot to first load the `ode_tools` module from GitHub. See [Section 1: Loading `ode_tools` from GitHub](#Sec1)"
   ]
  },
  {
   "cell_type": "code",
   "execution_count": null,
   "id": "262d1a29-f3bd-412e-8251-e7763d1004db",
   "metadata": {
    "id": "f38fbe97-697f-4eb5-aab1-b28acdf0d6a5"
   },
   "outputs": [],
   "source": [
    "from utils.ode_tools import phase_portrait  # Only need to import one time."
   ]
  },
  {
   "cell_type": "markdown",
   "id": "74a27822-a479-4d52-b5b5-802107c73afb",
   "metadata": {
    "id": "BX7uIZRRbwtZ"
   },
   "source": [
    "4. We generate the slope field by running the function with the command `phase_portrait(x, y, f)`."
   ]
  },
  {
   "cell_type": "code",
   "execution_count": null,
   "id": "b4ca8e27-8879-4fcd-8d35-13c41377a235",
   "metadata": {
    "id": "b7005c76-b458-4d2d-851d-280471554452"
   },
   "outputs": [],
   "source": [
    "# Plots a phase portrait\n",
    "\n",
    "phase_portrait(x, y, f)"
   ]
  },
  {
   "cell_type": "markdown",
   "id": "42acc671-30d7-44ba-9e02-79dc60c58f70",
   "metadata": {
    "id": "wOR-A_5Cbgxl"
   },
   "source": [
    "## Each time you want to plot a new solution:\n",
    "---\n",
    "\n",
    "- Redefine `x`, `y`, and `f(Y, t)` as needed.\n",
    "- Then run the command `phase_portrait(x, y, f)`."
   ]
  },
  {
   "cell_type": "markdown",
   "id": "208a8712-0ebe-47b2-87e4-d3602486c036",
   "metadata": {},
   "source": [
    "# <a name=\"Sec3\">Section 3: Adding a Solution to a Phase Plane Portrait</a>\n",
    "---\n",
    "\n",
    "A function named `plot_phase_sol` plots particular solutions in a phase plane portrait (vector field) for a system of first order differential equations over a specified range of values for the indpendent and dependent variables. \n",
    "\n",
    "- We use `x` for dependent variable 1.\n",
    "- We use `y` for dependent variable 2.\n",
    "- We use the function `f(Y, t)` for the system of differential equations.\n",
    "    - The output of this function is a vector.\n",
    "    - The first entry is a formula for the first differential equation $\\dfrac{dx}{dt}$.\n",
    "    - The second entry is a formula for the second differential equation $\\dfrac{dy}{dt}$.\n",
    "- We use `tspan` for the range of time to visualize the solution.\n",
    "- We use `x0` for the initial value of the first dependent variable $x$.\n",
    "- We use `y0` for the initial value of the first dependent variable $y$."
   ]
  },
  {
   "cell_type": "markdown",
   "id": "c152a493-a198-4ba6-8315-80a0cb8a288c",
   "metadata": {
    "id": "RIgh_PtPXSbG"
   },
   "source": [
    "## How to Plot with `plot_phase_sol(x, y, f, tspan, x0, y0)`\n",
    "---\n",
    "\n",
    "Consider plotting the solution to the system the of differential equations below with initial condition $(x(0),y(0)) = (2,3)$ in the phase plane with over a window of $0 \\leq x \\leq 5$ and $0 \\leq y \\leq 5$.\n",
    "\n",
    "$$\\begin{array}{l}\n",
    "\\dfrac{dx}{dt} = 3x-1.4xy \\\\\n",
    "\\dfrac{dy}{dt} = -y + 0.8xy\\\\\n",
    "\\end{array}$$\n",
    "\n",
    "\n",
    "1. Input vectors of values for the dependent variables `x` and `y`.\n",
    "\n",
    "    - In the code cell below, we set up a grid of equally spaced values along the intervals $0 \\leq x \\leq 5$ and $0 \\leq y \\leq 5$.\n",
    "\n",
    "\n",
    "2. Define the system of two differential equations `f(Y,t)`.\n",
    "\n",
    "    - In the code cell below, we enter the system of differential equations above.    \n",
    "    - The formula for $\\frac{dx}{dt}=3x-1.4xy$ is entered as `3*x - 1.4*x*y`. \n",
    "    - The formula for $\\frac{dy}{dt}=-y+0.8xy$ is entered as `-y + 0.8*x*y`.\n",
    "\n",
    "3. Enter the range of time over which the solution will be plotted using `tspan`.\n",
    "\n",
    "4. Enter the initial value for $x$ at $t=0$ as `x0`. \n",
    "\n",
    "5. Enter the initial value for $y$ at $t=0$ as `y0`. "
   ]
  },
  {
   "cell_type": "code",
   "execution_count": null,
   "id": "1479d04a-0f4e-4244-a698-e72a4f9cd619",
   "metadata": {},
   "outputs": [],
   "source": [
    "import numpy as np\n",
    "\n",
    "# Set plot range\n",
    "x = np.linspace(0.0, 5.0, 20)  # range of values for x\n",
    "y = np.linspace(0.0, 5.0, 20)  # range of values for y\n",
    "\n",
    "# Enter differential equation\n",
    "def f(Y, t):\n",
    "    x, y = Y\n",
    "    return [3*x - 1.4*x*y,  # formula for dx/dt\n",
    "            -y + 0.8*x*y]  # formula for dy/dt\n",
    "\n",
    "# Enter range of time\n",
    "tspan = np.linspace(0, 50, 200) # range of time to visualize solution\n",
    "\n",
    "# Enter initial values\n",
    "x0 = 2  # initial value of x\n",
    "y0 = 3  # initial value of y"
   ]
  },
  {
   "cell_type": "markdown",
   "id": "532b13a1-2245-4fcb-b121-8c951b5fd255",
   "metadata": {
    "id": "g9FAZH_Abvol"
   },
   "source": [
    "6. Import the `plot_phase_sol` function.\n",
    "\n",
    "  - Like packages, you only need to import a function one time after opening a notebook.\n",
    "  - <mark>Be sure you have first loaded **ode_tools.py** from GitHub.</mark>.\n",
    "  - If you get an error message, it is likely you forgot to first load the `ode_tools` module from GitHub. See [Section 1: Loading `ode_tools` from GitHub](#Sec1)"
   ]
  },
  {
   "cell_type": "code",
   "execution_count": null,
   "id": "2e7c1783-5a01-4334-a2c7-37efc9ba5fa3",
   "metadata": {
    "id": "f38fbe97-697f-4eb5-aab1-b28acdf0d6a5"
   },
   "outputs": [],
   "source": [
    "from utils.ode_tools import plot_phase_sol  # Only need to import one time."
   ]
  },
  {
   "cell_type": "markdown",
   "id": "35b377e7-63e9-4f6b-b238-8eb89baec828",
   "metadata": {
    "id": "BX7uIZRRbwtZ"
   },
   "source": [
    "7. We generate the slope field by running the function with the command `plot_phase_sol(x, y, f, tspan, x0, y0)`."
   ]
  },
  {
   "cell_type": "code",
   "execution_count": null,
   "id": "43a4028e-0df1-45c5-aa83-339ab8687b6d",
   "metadata": {
    "id": "b7005c76-b458-4d2d-851d-280471554452"
   },
   "outputs": [],
   "source": [
    "# Plots a solution in a phase plane portrait\n",
    "\n",
    "plot_phase_sol(x, y, f, tspan, x0, y0)"
   ]
  },
  {
   "cell_type": "markdown",
   "id": "e75b457a-6556-4a97-bf5a-cbefcd68407e",
   "metadata": {
    "id": "wOR-A_5Cbgxl"
   },
   "source": [
    "## Each Time You Want To Plot A New Solution:\n",
    "---\n",
    "\n",
    "- Redefine `x`, `y`, `f(Y, t)`, `tspan`, `x0`, and `y0` as needed.\n",
    "- Then run the command `plot_phase_sol(x, y, f, tspan, x0, y0)`."
   ]
  }
 ],
 "metadata": {
  "kernelspec": {
   "display_name": "Python 3",
   "language": "python",
   "name": "python3"
  },
  "language_info": {
   "codemirror_mode": {
    "name": "ipython",
    "version": 3
   },
   "file_extension": ".py",
   "mimetype": "text/x-python",
   "name": "python",
   "nbconvert_exporter": "python",
   "pygments_lexer": "ipython3",
   "version": "3.8.8"
  }
 },
 "nbformat": 4,
 "nbformat_minor": 5
}
