{
 "cells": [
  {
   "cell_type": "markdown",
   "id": "203bae52-5962-43db-98bc-cb002e795a18",
   "metadata": {},
   "source": [
    "# Quick Reference for Phase Portraits\n",
    "\n",
    "This notebook demonstrates the use of plotting functions to visualize phase portraits for systems of ODEs."
   ]
  },
  {
   "cell_type": "code",
   "execution_count": null,
   "id": "1d8ce902-f01f-4b99-87fd-88bbc1bfb72a",
   "metadata": {},
   "outputs": [],
   "source": [
    "# Set up environment\n",
    "import numpy as np\n",
    "import matplotlib.pyplot as plt\n",
    "from scipy.integrate import odeint\n",
    "import sys\n",
    "sys.path.insert(0, '..')"
   ]
  },
  {
   "cell_type": "markdown",
   "id": "acfe45b9-02da-4946-b8e8-381e181e0197",
   "metadata": {},
   "source": [
    "## Visualizing Solutions to Systems\n",
    "\n",
    "The following example uses the predator-prey model for rabbits and foxes.\n",
    "\n",
    "### 3-Dimensional Solution"
   ]
  },
  {
   "cell_type": "code",
   "execution_count": null,
   "id": "11dfde47-5237-427c-91ce-46cc49f32e40",
   "metadata": {},
   "outputs": [],
   "source": [
    "# Definition of parameters\n",
    "a = 1.  # natural growth rate of rabbits\n",
    "b = 0.1  # natural dying rate of rabbits\n",
    "c = 1.5  # natural dying rate of fox\n",
    "d = 0.75  # factor describes how many rabbits create new fox\n",
    "X0 = np.array([10, 5])  # initials conditions: 10 rabbits and 5 foxes\n",
    "tspan = np.linspace(0, 15,  1000)  # time to evaluate solution\n",
    "\n",
    "# Define differential equation\n",
    "def dxdt(X, t, a,b,c,d):\n",
    "    \n",
    "    return np.array([\n",
    "        a*X[0] - b*X[0]*X[1],\n",
    "        -c*X[1] + d*b*X[0]*X[1]\n",
    "    ])"
   ]
  },
  {
   "cell_type": "code",
   "execution_count": null,
   "id": "fe55b4ed-2d2b-41cd-87be-a5f5692e80d3",
   "metadata": {},
   "outputs": [],
   "source": [
    "X = odeint(dxdt, X0, t=tspan, args = (a,b,c,d)) # solve system"
   ]
  },
  {
   "cell_type": "code",
   "execution_count": null,
   "id": "99ee30ad-8e21-46b2-8780-ebc2c1c66839",
   "metadata": {},
   "outputs": [],
   "source": [
    "plt.figure(figsize=(8, 8))\n",
    "ax = plt.axes(projection='3d')\n",
    "\n",
    "ax.plot3D(tspan, X[:,0], X[:,1])\n",
    "ax.set_xlabel('Time')\n",
    "ax.set_ylabel('Rabbits')\n",
    "ax.set_zlabel('Foxes')\n",
    "\n",
    "plt.tight_layout()"
   ]
  },
  {
   "cell_type": "markdown",
   "id": "ee8627f4-fa53-4d3a-acfb-73c8dc1e5fc8",
   "metadata": {},
   "source": [
    "### 2-D Projections"
   ]
  },
  {
   "cell_type": "markdown",
   "id": "212e3f4a-cee0-4a88-81ed-af11e9f79e63",
   "metadata": {},
   "source": [
    "#### Rabbits v. Time"
   ]
  },
  {
   "cell_type": "code",
   "execution_count": null,
   "id": "a1a3efb1-e600-4feb-a76c-da6ed70b9593",
   "metadata": {},
   "outputs": [],
   "source": [
    "fig = plt.figure(figsize=(12,6))\n",
    "\n",
    "ax1 = fig.add_subplot(1, 2, 1, projection='3d') \n",
    "ax1.plot(tspan, X[:,0], 'r:', zdir='z', zs=0, alpha=.8)\n",
    "ax1.plot3D(tspan, X[:,0], X[:,1])\n",
    "ax1.set_xlabel('Time')\n",
    "\n",
    "ax2 = fig.add_subplot(1, 2, 2)\n",
    "ax2.plot(tspan, X[:,0], 'r-', alpha=.5)\n",
    "ax2.grid()\n",
    "ax2.set_xlabel('Time')\n",
    "ax2.set_ylabel('Rabbits')\n",
    "plt.tight_layout()"
   ]
  },
  {
   "cell_type": "markdown",
   "id": "33c76f56-5820-483b-bab2-bad14e5ce43b",
   "metadata": {},
   "source": [
    "#### Foxes v. Time"
   ]
  },
  {
   "cell_type": "code",
   "execution_count": null,
   "id": "48fee5a0-dfbe-4734-9cb1-b20f430de1cf",
   "metadata": {},
   "outputs": [],
   "source": [
    "fig = plt.figure(figsize=(12,6))\n",
    "# gridspec_kw={'height_ratios': [3, 2]}\n",
    "ax1 = fig.add_subplot(1, 2, 1, projection='3d') \n",
    "ax1.plot(tspan, X[:,1], 'g:', zdir='y', zs=40, alpha=.8)\n",
    "ax1.plot3D(tspan, X[:,0], X[:,1])\n",
    "ax1.set_xlabel('Time')\n",
    "\n",
    "ax2 = fig.add_subplot(1, 2, 2)\n",
    "\n",
    "ax2.plot(tspan, X[:,1], 'g-')\n",
    "ax2.grid()\n",
    "ax2.set_xlabel('Time')\n",
    "ax2.set_ylabel('Foxes')\n",
    "plt.tight_layout()"
   ]
  },
  {
   "cell_type": "markdown",
   "id": "9193bcc5-a92c-49ea-b9b5-fab963eda31c",
   "metadata": {},
   "source": [
    "#### Rabbits v. Foxes"
   ]
  },
  {
   "cell_type": "code",
   "execution_count": null,
   "id": "8a9c950f-9244-42aa-91f5-2ea3b42c3e1f",
   "metadata": {},
   "outputs": [],
   "source": [
    "fig = plt.figure(figsize=(12,6))\n",
    "# gridspec_kw={'height_ratios': [3, 2]}\n",
    "ax1 = fig.add_subplot(1, 2, 1, projection='3d') \n",
    "\n",
    "ax1.plot(X[:,0], X[:,1], 'k:', zdir='x', zs=0, alpha=.5)\n",
    "ax1.plot3D(tspan, X[:,0], X[:,1])\n",
    "ax1.set_xlabel('Time')\n",
    "\n",
    "ax2 = fig.add_subplot(1, 2, 2)\n",
    "\n",
    "ax2.plot(X[:,0], X[:,1], 'k-', alpha=.5)\n",
    "ax2.grid()\n",
    "ax2.set_xlabel('Rabbits')\n",
    "ax2.set_ylabel('Foxes')\n",
    "plt.tight_layout()"
   ]
  },
  {
   "cell_type": "markdown",
   "id": "d657d024-c7c0-4a02-8929-d85b8318b549",
   "metadata": {},
   "source": [
    "## Plotting a Phase Portrait\n",
    "\n",
    "The following example utilizes an undamped pendulum with no external forcing. The `phase_portrait` function represents the trajectories of a system in phase space. The user must specify the plotting ranges, the differential equation, and any parameters to the differential equation. In the case of the undamped pendulum, there are no additional paramters that need to be specified. When we return to the predator-prey model, parameters must be passed to the function."
   ]
  },
  {
   "cell_type": "code",
   "execution_count": null,
   "id": "35a743e5-f600-4ca2-b9a4-d5999defd268",
   "metadata": {},
   "outputs": [],
   "source": [
    "# Note, params passed as an empty tuple to make code compatible withg adding parameters, e.g. damping constant\n",
    "def f(Y, t):\n",
    "    y1, y2 = Y\n",
    "    return [y2, -np.sin(y1)]"
   ]
  },
  {
   "cell_type": "code",
   "execution_count": null,
   "id": "2e52e604-535c-4b14-8100-e578761768fb",
   "metadata": {},
   "outputs": [],
   "source": [
    "from utils.ode_tools import phase_portrait\n",
    "\n",
    "y1 = np.linspace(-2.0, 8.0, 20)\n",
    "y2 = np.linspace(-2.0, 2.0, 20)\n",
    "phase_portrait(y1, y2, f)"
   ]
  },
  {
   "cell_type": "markdown",
   "id": "208a8712-0ebe-47b2-87e4-d3602486c036",
   "metadata": {},
   "source": [
    "## Plotting a Solution in a Phase Plane\n",
    "\n",
    "Given a set of initial conditions, the `plot_phase_sol` plots the solution in the phase plane given some range of times. In addition to the function arguments used in `phase_portrait`, the user must specify initial conditions as two numeric arugments."
   ]
  },
  {
   "cell_type": "code",
   "execution_count": null,
   "id": "50673889-31b1-48e6-b571-207fbb6abe82",
   "metadata": {},
   "outputs": [],
   "source": [
    "from utils.ode_tools import plot_phase_sol\n",
    "\n",
    "tspan = np.linspace(0, 50, 200) # range of time to visualize solution\n",
    "\n",
    "fig1, ax1 = plt.subplots(figsize=(12,8))\n",
    "\n",
    "plot_phase_sol(y1, y2, f, tspan, 0, 1, ax=ax1)\n",
    "plot_phase_sol(y1, y2, f, tspan, 0, 2, ax=ax1, add_phase_plane=False)\n",
    "plot_phase_sol(y1, y2, f, tspan, 0, 0, ax=ax1, add_phase_plane=False)"
   ]
  },
  {
   "cell_type": "markdown",
   "id": "30ae55d7-5b2a-4bea-b215-5e6675926228",
   "metadata": {},
   "source": [
    "## Predator Prey Model\n",
    "\n",
    "Using the above tools, we return to the predator-prey model. This system has 4 parameters (a, b, c, & d) which are entered in order after the initial conditions."
   ]
  },
  {
   "cell_type": "code",
   "execution_count": null,
   "id": "0f0084be-314a-4563-9e84-35fbf3ffb668",
   "metadata": {},
   "outputs": [],
   "source": [
    "# Definition of parameters\n",
    "a = 1.  # natural growth rate of rabbits\n",
    "b = 0.1  # natural dying rate of rabbits\n",
    "c = 1.5  # natural dying rate of fox\n",
    "d = 0.75  # factor describes how many rabbits create new fox\n",
    "tspan = np.linspace(0, 15,  1000)  # time\n",
    "X0 = np.array([10, 5])  # initials conditions: 10 rabbits and 5 foxes"
   ]
  },
  {
   "cell_type": "code",
   "execution_count": null,
   "id": "0cc5c5e6-df74-4030-b7c3-84494631cecc",
   "metadata": {},
   "outputs": [],
   "source": [
    "# Redifining function for illustration\n",
    "def dxdt(X, t, a, b, c, d):\n",
    "    return np.array([\n",
    "        a*X[0] - b*X[0]*X[1],\n",
    "        -c*X[1] + d*b*X[0]*X[1]\n",
    "    ])\n",
    "# Plot Ranges\n",
    "r = np.linspace(0, 60, 20)\n",
    "f = np.linspace(0, 40, 20)\n",
    "# Initial conditions\n",
    "r0=6\n",
    "f0=3"
   ]
  },
  {
   "cell_type": "code",
   "execution_count": null,
   "id": "ad1af8c3-405d-4e67-b52d-6507b68fe0d3",
   "metadata": {},
   "outputs": [],
   "source": [
    "\n",
    "fig2, ax2 = plt.subplots(figsize=(12,8))\n",
    "\n",
    "plot_phase_sol(r, f, dxdt, tspan, 6, 3, a, b, c, d, ax=ax2)\n",
    "plot_phase_sol(r, f, dxdt, tspan, 9, 4, a,b,c,d, ax=ax2, add_phase_plane=False)\n",
    "plot_phase_sol(r, f, dxdt, tspan, 12, 6, a,b,c,d, ax=ax2, add_phase_plane=False)\n",
    "plot_phase_sol(r, f, dxdt, tspan, 15, 8, a,b,c,d, ax=ax2, add_phase_plane=False)"
   ]
  },
  {
   "cell_type": "code",
   "execution_count": null,
   "id": "bfd7a495-0f44-4471-9ecf-b088ba1c08b4",
   "metadata": {
    "tags": []
   },
   "outputs": [],
   "source": [
    "## Plot together with populations versus time\n",
    "fig, axs = plt.subplots(2, 1, figsize=(9,9), gridspec_kw={'height_ratios': [3, 2]})\n",
    "\n",
    "# Phase Portraits\n",
    "plot_phase_sol(r, f, dxdt, tspan, 6, 3, a,b,c,d, ax=axs[0])\n",
    "\n",
    "# ax1.plot([0, 1], [0, 1])\n",
    "# plot_phase_sol(r, f, dxdt, tspan, 6, 3, ax=ax2)\n",
    "\n",
    "# Change over time\n",
    "rabbits, foxes = X.T\n",
    "t = tspan\n",
    "f1 = plt.figure()\n",
    "axs[1].plot(t, rabbits, 'r-', label='Rabbits')\n",
    "axs[1].plot(t, foxes  , 'b-', label='Foxes')\n",
    "axs[1].grid()\n",
    "axs[1].legend(loc='best')\n",
    "axs[1].set_xlabel('time')\n",
    "axs[1].set_ylabel('population')\n",
    "axs[1].set_title('Evolution of fox and rabbit populations')"
   ]
  },
  {
   "cell_type": "code",
   "execution_count": null,
   "id": "be457849-1928-4198-a72b-52ca9ec20dd7",
   "metadata": {},
   "outputs": [],
   "source": []
  }
 ],
 "metadata": {
  "kernelspec": {
   "display_name": "Python 3 (ipykernel)",
   "language": "python",
   "name": "python3"
  },
  "language_info": {
   "codemirror_mode": {
    "name": "ipython",
    "version": 3
   },
   "file_extension": ".py",
   "mimetype": "text/x-python",
   "name": "python",
   "nbconvert_exporter": "python",
   "pygments_lexer": "ipython3",
   "version": "3.9.12"
  }
 },
 "nbformat": 4,
 "nbformat_minor": 5
}
