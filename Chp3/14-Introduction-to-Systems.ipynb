{
 "cells": [
  {
   "cell_type": "markdown",
   "id": "003d646d-634b-492f-9d57-56ccd94cbfed",
   "metadata": {},
   "source": [
    "[![Open In Colab](https://colab.research.google.com/assets/colab-badge.svg)](https://githubtocolab.com/CU-Denver-MathStats-OER/ODEs/blob/main/Chp3/14-Introduction-to-Systems.ipynb)\n"
   ]
  },
  {
   "cell_type": "markdown",
   "id": "60ddda60-c438-4272-9368-6624f83ff952",
   "metadata": {},
   "source": [
    "# Lab 3.1: Introduction to Systems of ODE's\n",
    "---\n",
    "\n",
    "<font color='dodgerblue'>Reading: *Notes on Diffy Q's* Section 3.1</font>\n",
    "\n",
    "Most species live in interaction with other species. For example, perhaps one species preys on another species, like foxes and rabbits. Below is a <font color = 'dodgerblue'>**system of differential equations**</font> intended to predict future populations of rabbits and foxes over time, where $R$ is the population (in hundreds) of rabbits at any time $t$ and $F$ is the population of foxes (in tens) at any time $t$ (in years).\n",
    "\n",
    "$$\\begin{align}\n",
    "\\frac{dR}{dt} &= 3R-1.4RF\\\\\n",
    "\\frac{dF}{dt} &= -F+0.8RF\n",
    "\\end{align}$$\n"
   ]
  },
  {
   "cell_type": "markdown",
   "id": "16a55e4c-ed0d-4bbc-a135-86a7ea781a19",
   "metadata": {},
   "source": [
    "## <a name='14quest1'>Question 1:</a>\n",
    "---\n",
    "\n",
    "In earlier work with the rate of change equation $\\dfrac{dP}{dt}=kP$  we assumed that there was only one species, that the resources were unlimited, and that the species reproduced continuously. Which, if any, of these assumptions is modified and how is this modification reflected in the above system of differential equations?\n",
    "\n",
    "### Solution to Question 1:\n",
    "---\n",
    "\n",
    "<br> <br> <br> <br> <br> <br>"
   ]
  },
  {
   "cell_type": "markdown",
   "id": "8d2d2364-5ef2-444b-9d4f-712bcaebb8f8",
   "metadata": {},
   "source": [
    "## <a name='14quest2'>Question 2:</a>\n",
    "---\n",
    "\n",
    "Interpret the meaning of *each* term in the rate of change equations (e.g., how do you interpret or make sense of the $-1.4RF$ term) and what are the implications of this term on the future predicted populations? Similarly for $3R$, $-F$, and $0.8RF$.\n",
    "\n",
    "### Solution to Question 2:\n",
    "---\n",
    "\n",
    "<br> <br> <br> <br> <br> <br>"
   ]
  },
  {
   "cell_type": "markdown",
   "id": "80a5b163-ba54-4fcd-b6a1-63fdc8e09c58",
   "metadata": {},
   "source": [
    "## <a name='14quest3'>Question 3:</a>\n",
    "---\n",
    "\n",
    "Scientists studying a rabbit-fox population estimate that the current number of rabbits is 100 ($R=1$) and that the number of foxes is 10 ($F=1$). Use two steps of Euler's method with step size of $\\Delta t =0.5$ to get numerical estimates for the future number of rabbits and foxes as predicted by the differential equations. Enter your answers in the table below. \n",
    "\n",
    "### Solution to Question 3:\n",
    "---\n",
    "\n",
    "<br> \n",
    "\n",
    "| $t$ (in years) | $R$ (in hundreds) | $F$ (in tens) | $\\dfrac{dR}{dt}$ | $\\Delta R$ | $\\dfrac{dF}{dt}$ | $\\Delta F$ |\n",
    "|----------------|-------------------|---------------|------------------|------------|------------------|------------|\n",
    "| 0 | 1 | 1 | <mark>Enter your answer here</mark> | <mark>Enter your answer here</mark> | <mark>Enter your answer here</mark> | <mark>Enter your answer here</mark> |\n",
    "| 0.5 | <mark>Enter your answer here</mark>  | <mark>Enter your answer here</mark>  | <mark>Enter your answer here</mark> | <mark>Enter your answer here</mark> | <mark>Enter your answer here</mark> | <mark>Enter your answer here</mark> |\n",
    "| 1 | <mark>Enter your answer here</mark>  | <mark>Enter your answer here</mark>  | <mark>Enter your answer here</mark> | <mark>Enter your answer here</mark> | <mark>Enter your answer here</mark> | <mark>Enter your answer here</mark> |\n",
    "\n",
    "<br>\n"
   ]
  },
  {
   "cell_type": "markdown",
   "id": "61566a40-2b11-4b83-8142-5df4fdbe7c7c",
   "metadata": {},
   "source": [
    "# Visualizing Solutions to a System of Differential Equations\n",
    "---\n",
    "\n",
    "We will continue working with the rabbit and fox population model below:\n",
    "\n",
    "$$\\begin{align}\n",
    "\\frac{dR}{dt} &= 3R-1.4RF\\\\\n",
    "\\frac{dF}{dt} &= -F+0.8RF\n",
    "\\end{align}.$$\n",
    "\n",
    "\n",
    "If initially there are $R=3$ (300 rabbits) and $F=2$ (20 foxes), then the solution can be plotted in 3-dimensions as shown below.\n",
    "\n",
    "- Run the first code cell (without any edits). The first code cell defines the parameters of the model and the initial values. \n",
    "- Then run the second code cell (without any edits) to plot the solution in $\\mathbb{R}^3$.\n",
    "\n",
    "\n",
    "\n",
    "\n"
   ]
  },
  {
   "cell_type": "code",
   "execution_count": null,
   "id": "3748805d-87b3-4328-96cb-72eabe478889",
   "metadata": {
    "id": "R-xG--qt-3J2"
   },
   "outputs": [],
   "source": [
    "import numpy as np\n",
    "from scipy.integrate import odeint\n",
    "\n",
    "# Definition of parameters\n",
    "a = 3.  # rabbit growth/decay rate\n",
    "b = -1.4  # rabbit interaction term with fox\n",
    "c = -1.  # fox growth/decay rate\n",
    "d = 0.8  # fox interaction term with rabbit\n",
    "\n",
    "X0 = np.array([3, 2])  # initials conditions: 3 rabbits and 2 foxes\n",
    "\n",
    "tspan = np.linspace(0, 15,  1000)  # time to evaluate solution\n",
    "\n",
    "# Define differential equation\n",
    "def dxdt(X, t, a,b,c,d):\n",
    "    \n",
    "    return np.array([\n",
    "        a*X[0] + b*X[0]*X[1],\n",
    "        c*X[1] + d*X[0]*X[1]\n",
    "    ])\n",
    "\n",
    "# Find solution\n",
    "X = odeint(dxdt, X0, t=tspan, args = (a,b,c,d)) # solve system"
   ]
  },
  {
   "cell_type": "code",
   "execution_count": null,
   "id": "24c21a2b-adc0-4195-8bb0-068df43e2c5e",
   "metadata": {},
   "outputs": [],
   "source": [
    "import matplotlib.pyplot as plt\n",
    "\n",
    "plt.figure(figsize=(8, 8))\n",
    "ax = plt.axes(projection='3d')\n",
    "\n",
    "ax.plot3D(tspan, X[:,0], X[:,1])\n",
    "ax.set_xlabel('Time')\n",
    "ax.set_ylabel('Rabbits')\n",
    "ax.set_zlabel('Foxes')\n",
    "\n",
    "plt.tight_layout()"
   ]
  },
  {
   "cell_type": "markdown",
   "id": "61f175ca-ee43-4544-848b-2c0fdae1928e",
   "metadata": {},
   "source": [
    "## 2-Dimensional Projections\n",
    "---\n",
    "\n",
    "In our interacting rabbit and fox model, we have three variables $R$, $F$, and $t$. From the solution in the $3$-dimensional plot above, we can better understand the dynamics of these two interacting species. \n",
    "\n",
    "- How does the rabbit population change with time?\n",
    "- How does the fox population change with time?\n",
    "- How do the rabbit and fox populations interact with each over time?\n",
    "\n",
    "A useful tool in mathematics for interpreting the relation between three variables is to consider pairwise relations. Graphically, this is equivalent to projecting the curve in 3 dimensional space above onto different 2 dimensional planes.\n"
   ]
  },
  {
   "cell_type": "markdown",
   "id": "9680e8be-9810-4bc0-9b2e-9254d3634eb2",
   "metadata": {},
   "source": [
    "## <a name='14quest4'>Question 4:</a>\n",
    "---\n",
    "\n",
    "We would like to make future predictions for our rabbit-fox system \n",
    "\n",
    "$$\\begin{align}\n",
    "\\frac{dR}{dt} &= 3R-1.4RF \\\\\n",
    "\\frac{dF}{dt} &= -F+0.8RF\n",
    "\\end{align}$$\n",
    "\n",
    "if at time $t=0$ we initially have 300 rabbits ($R=3$) and 20 foxes ($F=2$)."
   ]
  },
  {
   "cell_type": "markdown",
   "id": "fa9be32a-2eb7-433f-867f-f4c85f9183e3",
   "metadata": {},
   "source": [
    "### <a name='14quest4a'>Question 4a: Rabbits and Time</a>\n",
    "---\n",
    "\n",
    "Run the code cell below to plot the graph of $R$ vs $t$. \n",
    "\n",
    "- Use the graph to describe how the rabbit population will change as time goes on.\n",
    "- Based on the graph, what type of function(s) would you use to model the solution $R=f(t)$? Explain how you determined your answer.\n",
    "\n",
    "\n",
    "#### Solution to Question 4a:\n",
    "---\n",
    "\n",
    "<mark>Write your interpretation in the space below.</mark>\n",
    "\n",
    "<br><br><br>\n"
   ]
  },
  {
   "cell_type": "code",
   "execution_count": null,
   "id": "6ebf444a-8752-4095-bbaf-8a074297747e",
   "metadata": {},
   "outputs": [],
   "source": [
    "fig = plt.figure(figsize=(12,6))\n",
    "\n",
    "ax1 = fig.add_subplot(1, 2, 1, projection='3d') \n",
    "ax1.plot(tspan, X[:,0], 'r:', zdir='z', zs=0, alpha=.8)\n",
    "ax1.plot3D(tspan, X[:,0], X[:,1])\n",
    "ax1.set_xlabel('Time')\n",
    "\n",
    "ax2 = fig.add_subplot(1, 2, 2)\n",
    "ax2.plot(tspan, X[:,0], 'r-', alpha=.5)\n",
    "ax2.grid()\n",
    "ax2.set_xlabel('Time')\n",
    "ax2.set_ylabel('Rabbits')\n",
    "plt.tight_layout()"
   ]
  },
  {
   "cell_type": "markdown",
   "id": "c02edccb-fd30-4f1a-8c0e-fecaf68acc45",
   "metadata": {},
   "source": [
    "### <a name='14quest4b'>Question 4b: Foxes and Time</a>\n",
    "---\n",
    "\n",
    "Run the code cell below to plot the graph of $F$ vs $t$. \n",
    "\n",
    "- Use the graph to describe how the fox population will change as time goes on.\n",
    "- Based on the graph, what type of function(s) would you use to model the solution $F=g(t)$? Explain how you determined your answer.\n",
    "\n",
    "\n",
    "#### Solution to Question 4b:\n",
    "---\n",
    "\n",
    "<mark>Write your interpretation in the space below.</mark>\n",
    "\n",
    "<br><br><br>\n"
   ]
  },
  {
   "cell_type": "code",
   "execution_count": null,
   "id": "a5d6a75c-145f-4404-b3a9-d329f66b0791",
   "metadata": {},
   "outputs": [],
   "source": [
    "fig = plt.figure(figsize=(12,6))\n",
    "ax1 = fig.add_subplot(1, 2, 1, projection='3d') \n",
    "ax1.plot(tspan, X[:,1], 'g:', zdir='y', zs=40, alpha=.8)\n",
    "ax1.plot3D(tspan, X[:,0], X[:,1])\n",
    "ax1.set_xlabel('Time')\n",
    "\n",
    "ax2 = fig.add_subplot(1, 2, 2)\n",
    "\n",
    "ax2.plot(tspan, X[:,1], 'g-')\n",
    "ax2.grid()\n",
    "ax2.set_xlabel('Time')\n",
    "ax2.set_ylabel('Foxes')\n",
    "plt.tight_layout()"
   ]
  },
  {
   "cell_type": "markdown",
   "id": "9ea6452a-a316-4642-b9b3-3abf26f38e39",
   "metadata": {},
   "source": [
    "### <a name='14quest4c'>Question 4c: Rabbits and Foxes</a>\n",
    "---\n",
    "\n",
    "Run the code cell below to plot the graph of $R$ vs $F$. Then use the graph to describe how the rabbit and fox populations interact with each other over time.\n",
    "\n",
    "\n",
    "#### Solution to Question 4c:\n",
    "---\n",
    "\n",
    "<mark>Write your interpretation in the space below.</mark>\n",
    "\n",
    "<br><br><br>\n"
   ]
  },
  {
   "cell_type": "code",
   "execution_count": null,
   "id": "8ab40812-933e-4aa3-a46e-5923215c9c85",
   "metadata": {},
   "outputs": [],
   "source": [
    "fig = plt.figure(figsize=(12,6))\n",
    "ax1 = fig.add_subplot(1, 2, 1, projection='3d') \n",
    "\n",
    "ax1.plot(X[:,0], X[:,1], 'k:', zdir='x', zs=0, alpha=.5)\n",
    "ax1.plot3D(tspan, X[:,0], X[:,1])\n",
    "ax1.set_xlabel('Time')\n",
    "\n",
    "ax2 = fig.add_subplot(1, 2, 2)\n",
    "\n",
    "ax2.plot(X[:,0], X[:,1], 'k-', alpha=.5)\n",
    "ax2.grid()\n",
    "ax2.set_xlabel('Rabbits')\n",
    "ax2.set_ylabel('Foxes')\n",
    "plt.tight_layout()"
   ]
  },
  {
   "cell_type": "markdown",
   "id": "20d99ff8-9552-4520-8637-f33d175d601e",
   "metadata": {},
   "source": [
    "## <a name='14quest5'>Question 5:</a>\n",
    "---\n",
    "\n",
    "Suppose the current number of rabbits is $R=3$ (300 rabbits) and the number of foxes is $F=0$. **Without using any technology and without making any calculations**, what does the system of rate of change equations (same one as [Problem 4](#14quest4)) predict for the future number of rabbits and foxes? Explain your reasoning. \n",
    "\n",
    "### Solution to Question 5:\n",
    "---\n",
    "\n",
    "<br> <br> <br> <br> <br> <br>"
   ]
  },
  {
   "cell_type": "markdown",
   "id": "1c8e0059-86f1-4b96-a697-5c6d1f981daa",
   "metadata": {},
   "source": [
    "## <a name='14quest6'>Question 6:</a>\n",
    "---\n",
    "\n",
    "Now use the code cells in parts (a)-(c) below to check your answer in [Problem 5](#14quest5) (with initial population $R=3$ and $F=0$). \n",
    "\n"
   ]
  },
  {
   "cell_type": "markdown",
   "id": "ae4a0d4a-1265-4979-92f1-3bb8cf48b255",
   "metadata": {},
   "source": [
    "### Question 6a: Plotting Rabbits vs Time\n",
    "---\n",
    "\n",
    "Run the code cell below to check your answer."
   ]
  },
  {
   "cell_type": "code",
   "execution_count": null,
   "id": "8545c0dc-9350-4416-8aa8-eaa687fb7c1b",
   "metadata": {
    "id": "R-xG--qt-3J2"
   },
   "outputs": [],
   "source": [
    "#import numpy as np\n",
    "#from scipy.integrate import odeint\n",
    "\n",
    "# Definition of parameters\n",
    "#a = 3.  # rabbit growth/decay rate\n",
    "#b = -1.4  # rabbit interaction term with fox\n",
    "#c = -1.  # fox growth/decay rate\n",
    "#d = 0.8  # fox interaction term with rabbit\n",
    "\n",
    "X0 = np.array([3, 0])  # initials conditions: 3 rabbits and 0 foxes\n",
    "\n",
    "tspan = np.linspace(0, 15,  1000)  # time to evaluate solution\n",
    "\n",
    "# Define differential equation\n",
    "def dxdt(X, t, a,b,c,d):\n",
    "    \n",
    "    return np.array([\n",
    "        a*X[0] + b*X[0]*X[1],\n",
    "        c*X[1] + d*X[0]*X[1]\n",
    "    ])\n",
    "\n",
    "# Find solution\n",
    "X = odeint(dxdt, X0, t=tspan, args = (a,b,c,d)) # solve system\n",
    "\n",
    "# Plot solution\n",
    "fig = plt.figure(figsize=(12,6))\n",
    "\n",
    "ax1 = fig.add_subplot(1, 2, 1, projection='3d') \n",
    "ax1.plot(tspan, X[:,0], 'r:', zdir='z', zs=0, alpha=.8)\n",
    "ax1.plot3D(tspan, X[:,0], X[:,1])\n",
    "ax1.set_xlabel('Time')\n",
    "\n",
    "ax2 = fig.add_subplot(1, 2, 2)\n",
    "ax2.plot(tspan, X[:,0], 'r-', alpha=.5)\n",
    "ax2.grid()\n",
    "ax2.set_xlabel('Time')\n",
    "ax2.set_ylabel('Rabbits')\n",
    "plt.tight_layout()"
   ]
  },
  {
   "cell_type": "markdown",
   "id": "294b3242-55fb-48ee-8f89-7bd53f3e0174",
   "metadata": {},
   "source": [
    "### Question 6b: Plotting Foxes vs Time\n",
    "---\n",
    "\n",
    "Run the code cell below to check your answer."
   ]
  },
  {
   "cell_type": "code",
   "execution_count": null,
   "id": "54dfc582-512e-4855-8bc0-b34f060f7f28",
   "metadata": {},
   "outputs": [],
   "source": [
    "fig = plt.figure(figsize=(12,6))\n",
    "ax1 = fig.add_subplot(1, 2, 1, projection='3d') \n",
    "ax1.plot(tspan, X[:,1], 'g:', zdir='y', zs=40, alpha=.8)\n",
    "ax1.plot3D(tspan, X[:,0], X[:,1])\n",
    "ax1.set_xlabel('Time')\n",
    "\n",
    "ax2 = fig.add_subplot(1, 2, 2)\n",
    "\n",
    "ax2.plot(tspan, X[:,1], 'g-')\n",
    "ax2.grid()\n",
    "ax2.set_xlabel('Time')\n",
    "ax2.set_ylabel('Foxes')\n",
    "plt.tight_layout()"
   ]
  },
  {
   "cell_type": "markdown",
   "id": "a6382e6a-f15d-4d1e-b3ac-7cd4c5fa04fb",
   "metadata": {},
   "source": [
    "### Question 6c: Plotting Rabbits vs Foxes\n",
    "---\n",
    "\n",
    "Run the code cell below to check your answer."
   ]
  },
  {
   "cell_type": "code",
   "execution_count": null,
   "id": "937651f8-a46a-402a-a17e-40fbfa66922c",
   "metadata": {},
   "outputs": [],
   "source": [
    "fig = plt.figure(figsize=(12,6))\n",
    "ax1 = fig.add_subplot(1, 2, 1, projection='3d') \n",
    "\n",
    "ax1.plot(X[:,0], X[:,1], 'm:', zdir='x', zs=0, alpha=.5)\n",
    "ax1.plot3D(tspan, X[:,0], X[:,1])\n",
    "ax1.set_xlabel('Time')\n",
    "\n",
    "ax2 = fig.add_subplot(1, 2, 2)\n",
    "\n",
    "ax2.plot(X[:,0], X[:,1], 'm-', alpha=.5)\n",
    "ax2.grid()\n",
    "ax2.set_xlabel('Rabbits')\n",
    "ax2.set_ylabel('Foxes')\n",
    "plt.tight_layout()"
   ]
  },
  {
   "cell_type": "markdown",
   "id": "12d68dde-695e-425f-9d23-080eb8671d99",
   "metadata": {},
   "source": [
    "## <a name='14quest7'>Question 7:</a>\n",
    "---\n",
    "Using initial condition $R = 3$ (300 rabbits) and $F = 0$ (no foxes), tell the story (in words) of what happens to the rabbit and fox population as time continues.\n",
    "\n",
    "### Solution to Question 7:\n",
    "---\n",
    "\n",
    "<br> <br> <br> <br> <br> <br>"
   ]
  },
  {
   "cell_type": "markdown",
   "id": "05ddd20b-fddd-466f-8190-cf3e1a480110",
   "metadata": {},
   "source": [
    "## <a name='14quest8'>Question 8:</a>\n",
    "---\n",
    "\n",
    "What would it mean for the rabbit-fox system to be in <font color = 'dodgerblue'>**equilibrium**</font>? Are there any equilibrium solutions to this system of rate of change equations? If so, determine all equilibrium solutions and generate the 3D and other views for each equilibrium solution.\n",
    "\n",
    "### Solution to Question 8:\n",
    "---\n",
    "\n",
    "<br> <br> <br> <br> <br> <br>"
   ]
  },
  {
   "cell_type": "markdown",
   "id": "227e1b6b-0fee-4c97-b868-c0f3f04e923f",
   "metadata": {},
   "source": [
    "## <a name='14quest9'>Question 9:</a>\n",
    "---\n",
    "\n",
    "For single differential equations, we classified equilibrium solutions as <font color = 'dodgerblue'>**stable (attractors)**</font>, <font color = 'dodgerblue'>**unstable repellers**</font>, or <font color = 'dodgerblue'>**semi-stable (nodes)**</font>.  For each of the equilibrium solutions in the previous problem, create your own terms to classify the equilibrium solutions in and briefly explain your reasons behind your choice of terms. \n",
    "\n",
    "### Solution to Question 9:\n",
    "---\n",
    "\n",
    "<br> <br> <br> <br> <br> <br>"
   ]
  },
  {
   "cell_type": "markdown",
   "id": "6c074456-0927-48a4-92c0-7dcd82049b33",
   "metadata": {},
   "source": [
    "# The Phase Plane: Visualizing Solutions to Systems\n",
    "---\n",
    "\n",
    "One view of solutions for studying solutions to systems of <font color = 'dodgerblue'>**autonomous (independent of $t$)**</font> differential equations of the form\n",
    "\n",
    "$$\\begin{aligned}\n",
    "\\frac{dx}{dt} &= f(x,y)\\\\\n",
    "\\frac{dy}{dt} &= g(x,y)\n",
    "\\end{aligned}$$\n",
    "\n",
    "is in the $xy$-plane, called the <font color = 'dodgerblue'>**phase plane**</font>. \n",
    "\n",
    "- The phase plane is the analog to the phase line for a single autonomous differential equation.\n",
    "- In the Rabbit-Fox example, these are the plots of $F$ vs $R$.\n"
   ]
  },
  {
   "cell_type": "markdown",
   "id": "bb96eccc-4d1f-4744-95fa-eccc05e85956",
   "metadata": {},
   "source": [
    "## <a name='14quest10'>Question 10:</a>\n",
    "---\n",
    "\n",
    "Consider the rabbit-fox system of differential equations \n",
    "\n",
    "$$\\begin{align}\n",
    "\\frac{dR}{dt} &= 3R-1.4RF \\\\\n",
    "\\frac{dF}{dt} &= -F+0.8RF\n",
    "\\end{align}$$\n",
    "\n",
    "and the graph of the solution with initial condition $(2,3)$, as viewed in the phase plane (that is, the $RF$-plane). The two points in the table below are on the same solution curve. Recall that the solutions we've seen in the past are closed curves, but the solution could be moving clockwise or counterclockwise. Fill in the following table and decide which way the solution is moving, and explain your reasoning.\n",
    "\n",
    "### Solution to Question 10:\n",
    "---\n",
    "\n",
    "<br>\n",
    "\n",
    "| $t$ (in years) | $R$ (in hundreds) | $F$ (in tens) | $\\dfrac{dR}{dt}$ | $\\dfrac{dF}{dt}$ | $\\dfrac{dF}{dR}$ |\n",
    "|----------------|-------------------|---------------|------------------|------------------|------------------|\n",
    "| $0$ | $2$ | $3$ | <mark>Fill in your answer here</mark> |  <mark>Fill in your answer here</mark> | <mark>Fill in your answer here</mark> |\n",
    "| $2.07$ | $0.756$ | $1.431$ | <mark>Fill in your answer here</mark> |  <mark>Fill in your answer here</mark> | <mark>Fill in your answer here</mark> |\n",
    "\n",
    "<br>\n",
    "\n",
    "\n",
    "<img src=\"https://drive.google.com/uc?id=109k4n-fnOtsINJxUqfCOj_0eQ6BQAo7h\" width = 480 alt='Phase Plane'>\n",
    "\n",
    "<br>\n",
    "\n",
    "<mark>Comment on which direction (clockwise or counterclockwise) the solution rotates around the curve.</mark> \n",
    "\n",
    "<br> <br>"
   ]
  },
  {
   "cell_type": "markdown",
   "id": "25220c2f-5d0f-4d52-8915-196024207655",
   "metadata": {},
   "source": [
    "## <a name='14quest11'>Question 11:</a>\n",
    "---\n",
    "\n",
    "Consider plotting additional vectors in phase plane from [Problem 10](#14quest10) for the system\n",
    "\n",
    "$$\\begin{align}\n",
    "\\frac{dR}{dt} &= 3R-1.4RF \\\\\n",
    "\\frac{dF}{dt} &= -F+0.8RF\n",
    "\\end{align}$$\n",
    "\n",
    "\n",
    "at the points $(R,F)$ in the table below. Fill in the blanks below and comment on whether you notice anything interesting about these vectors.\n",
    "\n",
    "| $R$ | $F$ | $\\dfrac{dR}{dt}$ | $\\dfrac{dF}{dt}$ | $\\dfrac{dF}{dR}$ |\n",
    "|--------------|--------------|------------------|------------------|------------------|\n",
    "| $1.25$ | $0$ | <mark>??</mark> | <mark>??</mark> | <mark>??</mark> |\n",
    "| $1.25$ | $1$ | <mark>??</mark> | <mark>??</mark> | <mark>??</mark> |\n",
    "| $1.25$ | $2$ | <mark>??</mark> | <mark>??</mark> | <mark>??</mark> |\n",
    "| $1.25$ | $3$ | <mark>??</mark> | <mark>??</mark> | <mark>??</mark> |\n",
    "\n",
    "\n",
    "### Solution to Question 11:\n",
    "---\n",
    "\n",
    "<br> \n",
    "Replace each <mark>??</mark> with an appropriate value. Then comment on anything interesting you observe.\n",
    "<br><br><br> \n",
    "\n"
   ]
  },
  {
   "cell_type": "markdown",
   "id": "3606cbc0-cbe2-49bb-b8d1-29410f1e7946",
   "metadata": {},
   "source": [
    "## Creative Commons License Information\n",
    "<a rel=\"license\" href=\"https://creativecommons.org/licenses/by-nc-sa/4.0/\"><img alt=\"Creative Commons License\" style=\"border-width:0\" src=\"https://i.creativecommons.org/l/by-nc-sa/4.0/80x15.png\" /></a><br /><span xmlns:dct=\"http://purl.org/dc/terms/\" property=\"dct:title\">*Exploring Differential Equations*</span> by <a xmlns:cc=\"http://creativecommons.org/ns#\" href=\"https://github.com/CU-Denver-MathStats-OER/ODEs\" property=\"cc:attributionName\" rel=\"cc:attributionURL\">Adam Spiegler</a> is licensed under a <a rel=\"license\" href=\"http://creativecommons.org/licenses/by-nc-sa/4.0/\">Creative Commons Attribution-NonCommercial-ShareAlike 4.0 International License</a>.<br />Based on a work at <a xmlns:dct=\"http://purl.org/dc/terms/\" href=\"https://github.com/CU-Denver-MathStats-OER/ODEs\" rel=\"dct:source\">https://github.com/CU-Denver-MathStats-OER/ODEs</a> and original content created by Rasmussen, C., Keene, K. A., Dunmyre, J., & Fortune, N. (2018). *Inquiry oriented differential equations: Course materials*. Available at <a href=\"https://iode.sdsu.edu\">https://iode.sdsu.edu</a>."
   ]
  }
 ],
 "metadata": {
  "kernelspec": {
   "display_name": "Python 3 (ipykernel)",
   "language": "python",
   "name": "python3"
  },
  "language_info": {
   "codemirror_mode": {
    "name": "ipython",
    "version": 3
   },
   "file_extension": ".py",
   "mimetype": "text/x-python",
   "name": "python",
   "nbconvert_exporter": "python",
   "pygments_lexer": "ipython3",
   "version": "3.9.13"
  },
  "toc-autonumbering": false,
  "toc-showmarkdowntxt": false,
  "toc-showtags": false
 },
 "nbformat": 4,
 "nbformat_minor": 5
}
