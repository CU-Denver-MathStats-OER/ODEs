{
 "cells": [
  {
   "cell_type": "markdown",
   "id": "60ddda60-c438-4272-9368-6624f83ff952",
   "metadata": {},
   "source": [
    "# Introduction to Systems of ODE's\n",
    "---\n",
    "\n",
    "Most species live in interaction with other species. For example, perhaps one species preys on another species, like foxes and rabbits. Below is a **system of rate of change equations** intended to predict future populations of rabbits and foxes over time, where $R$ is the population (in hundreds) of rabbits at any time $t$ and $F$ is the population of foxes (in tens) at any time $t$ (in years).\n",
    "\n",
    "$$\\begin{aligned}\n",
    "\\frac{dR}{dt} &= 3R-1.4RF\\\\\n",
    "\\frac{dF}{dt} &= -F+0.8RF\n",
    "\\end{aligned}$$\n"
   ]
  },
  {
   "cell_type": "markdown",
   "id": "16a55e4c-ed0d-4bbc-a135-86a7ea781a19",
   "metadata": {},
   "source": [
    "## <a name='14quest1'>Question 1:</a>\n",
    "---\n",
    "\n",
    "In earlier work with the rate of change equation $\\dfrac{dP}{dt}=kP$  we assumed that there was only one species, that the resources were unlimited, and that the species reproduced continuously. Which, if any, of these assumptions is modified and how is this modification reflected in the above system of differential equations?\n",
    "\n",
    "### Solution to Question 1:\n",
    "---\n",
    "\n",
    "<br> <br> <br> <br> <br> <br>"
   ]
  },
  {
   "cell_type": "markdown",
   "id": "8d2d2364-5ef2-444b-9d4f-712bcaebb8f8",
   "metadata": {},
   "source": [
    "## <a name='14quest2'>Question 2:</a>\n",
    "---\n",
    "\n",
    "Interpret the meaning of *each* term in the rate of change equations (e.g., how do you interpret or make sense of the $-1.4RF$ term) and what are the implications of this term on the future predicted populations? Similarly for $3R$, $-F$, and $0.8RF$.\n",
    "\n",
    "### Solution to Question 2:\n",
    "---\n",
    "\n",
    "<br> <br> <br> <br> <br> <br>"
   ]
  },
  {
   "cell_type": "markdown",
   "id": "80a5b163-ba54-4fcd-b6a1-63fdc8e09c58",
   "metadata": {},
   "source": [
    "## <a name='14quest3'>Question 3:</a>\n",
    "---\n",
    "\n",
    "Scientists studying a rabbit-fox population estimate that the current number of rabbits is 100 ($R=1$) and that the number of foxes is 10 ($F=1$). Use two steps of Euler's method with step size of $\\Delta t =0.5$ to get numerical estimates for the future number of rabbits and foxes as predicted by the differential equations. Enter your answers in the table below. \n",
    "\n",
    "### Solution to Question 3:\n",
    "---\n",
    "\n",
    "<br> \n",
    "\n",
    "| $t$ (in years) | $R$ (in hundreds) | $F$ (in tens) | $\\dfrac{dR}{dt}$ | $\\dfrac{dF}{dt}$ |\n",
    "|----------------|-------------------|---------------|------------------|-----------------|\n",
    "| 0 | 1 | 1 | <mark>Enter your answer here</mark> | <mark>Enter your answer here</mark> |\n",
    "| 0.5 | <mark>Enter your answer here</mark>  | <mark>Enter your answer here</mark>  | <mark>Enter your answer here</mark> | <mark>Enter your answer here</mark> |\n",
    "| 1 | <mark>Enter your answer here</mark>  | <mark>Enter your answer here</mark>  | <mark>Enter your answer here</mark> | <mark>Enter your answer here</mark> |\n",
    "\n",
    "<br>\n"
   ]
  },
  {
   "cell_type": "markdown",
   "id": "398d0bc7-6037-48fa-99e3-d1b9a756bf93",
   "metadata": {},
   "source": [
    "## <a name='14quest4'>Question 4:</a>\n",
    "---\n",
    "\n",
    "For the system of differential equations \n",
    "\n",
    "$$\\begin{aligned}\n",
    "\\frac{dR}{dt} &= 3R-1.4RF \\\\\n",
    "\\frac{dF}{dt} &= -F+0.8RF\n",
    "\\end{aligned}$$\n",
    "\n",
    "use the Python widget below to generate predictions for the future number of rabbits and foxes if at time $t=0$ we initially have 300 rabbits ($R=3$) and 20 foxes ($F=2$). Sketch graphs of $R$ vs $t$, $F$ vs $t$, and $F$ vs $R$.\n",
    "\n",
    "<mark> Create something similar to the [GeoGebra applet](https://ggbm.at/U3U6MsyA)</mark>\n",
    "\n",
    "### Solution to Question 4:\n",
    "---\n",
    "\n",
    "After running the Python code below, sketch (or copy/paste) each of the graphs below.\n"
   ]
  },
  {
   "cell_type": "code",
   "execution_count": null,
   "id": "447fe969-d69d-4b3e-8db0-7e630d6e3772",
   "metadata": {},
   "outputs": [],
   "source": [
    "# Python code goes here"
   ]
  },
  {
   "cell_type": "markdown",
   "id": "9187347e-b528-4cd2-a8de-545494e35030",
   "metadata": {},
   "source": [
    "#### Solution: Graph of $R$ vs $t$:\n",
    "---\n",
    "\n",
    "<br> <br> <br> <br> <br> <br> "
   ]
  },
  {
   "cell_type": "markdown",
   "id": "8b992e45-daab-4a94-8469-7ee1835d3eb5",
   "metadata": {},
   "source": [
    "#### Solution: Graph of $F$ vs $t$:\n",
    "---\n",
    "\n",
    "<br> <br> <br> <br> <br> <br> "
   ]
  },
  {
   "cell_type": "markdown",
   "id": "e65e6f8f-0434-4dd8-93e8-bd2efa37d6a8",
   "metadata": {},
   "source": [
    "#### Solution: Graph of $F$ vs $R$:\n",
    "---\n",
    "\n",
    "<br> <br> <br> <br> <br> <br> "
   ]
  },
  {
   "cell_type": "markdown",
   "id": "cbce36ec-e1cb-4af5-bb1d-f29be884d4c4",
   "metadata": {},
   "source": [
    "## <a name='14quest5'>Question 5:</a>\n",
    "---\n",
    "\n",
    "Using initial condition $R = 3$ (300 rabbits) and $F = 2$ (20 foxes), tell the story of what happens to the rabbit and fox population as time continues.\n",
    "\n",
    "*Hint: Use the Python code below again, but you will need to tweak the code to take into account the initial populations.*\n",
    "\n",
    "### Solution to Question 5:\n",
    "---\n",
    "\n",
    "<br> <br> <br> <br> <br> <br>"
   ]
  },
  {
   "cell_type": "code",
   "execution_count": null,
   "id": "1032ba52-0a4e-4561-8ba6-de7b41c9339f",
   "metadata": {},
   "outputs": [],
   "source": [
    "# Same Python Code goes here"
   ]
  },
  {
   "cell_type": "markdown",
   "id": "20d99ff8-9552-4520-8637-f33d175d601e",
   "metadata": {},
   "source": [
    "## <a name='14quest6'>Question 6:</a>\n",
    "---\n",
    "\n",
    "Suppose the current number of rabbits is $R=3$ (300 rabbits) and the number of foxes is $F=0$. **Without using any technology and without making any calculations**, what does the system of rate of change equations (same one as [Problem 4](#14quest4) predict for the future number of rabbits and foxes? Explain your reasoning. \n",
    "\n",
    "### Solution to Question 6:\n",
    "---\n",
    "\n",
    "<br> <br> <br> <br> <br> <br>"
   ]
  },
  {
   "cell_type": "markdown",
   "id": "3f37601e-ca5e-483c-ba4f-8156c80f2e45",
   "metadata": {},
   "source": [
    "## <a name='14quest7'>Question 7:</a>\n",
    "---\n",
    "\n",
    "Now use the Python code below to check your previous answers (with initial population $R=3$ and $F=0$). Generate the 3D plot, and then plot all three projections of the 3D plot. Draw (or copy/paste an image) of each graph and explain how each illustrates your conclusion in [Problem 6](#14quest6).\n",
    "\n",
    "### Solution to Question 7:\n",
    "---\n",
    "\n",
    "<br> <mark>Run code below and then show each graph below.</mark> <br> <br>\n"
   ]
  },
  {
   "cell_type": "code",
   "execution_count": null,
   "id": "ca3ba2ec-3dec-49c4-9017-52049e4fb12f",
   "metadata": {},
   "outputs": [],
   "source": [
    "# Python code goes here"
   ]
  },
  {
   "cell_type": "markdown",
   "id": "53f641a7-11f0-4163-962d-e166eddd1fab",
   "metadata": {},
   "source": [
    "#### Solution: Graph of $R$ vs $t$:\n",
    "---\n",
    "\n",
    "<br> <br> <br> <br> <br> <br> "
   ]
  },
  {
   "cell_type": "markdown",
   "id": "3665e16a-1db3-475c-92d8-8e2b9fcfcfcc",
   "metadata": {},
   "source": [
    "#### Solution: Graph of $F$ vs $t$:\n",
    "---\n",
    "\n",
    "<br> <br> <br> <br> <br> <br> "
   ]
  },
  {
   "cell_type": "markdown",
   "id": "2916d0ea-8b02-408a-a244-eb55b14e90f9",
   "metadata": {},
   "source": [
    "#### Solution: Graph of $F$ vs $R$:\n",
    "---\n",
    "\n",
    "<br> <br> <br> <br> <br> <br> "
   ]
  },
  {
   "cell_type": "markdown",
   "id": "12d68dde-695e-425f-9d23-080eb8671d99",
   "metadata": {},
   "source": [
    "## <a name='14quest8'>Question 8:</a>\n",
    "---\n",
    "Using initial condition $R = 3$ (300 rabbits) and $F = 0$ (no foxes), tell the story (in words) of what happens to the rabbit and fox population as time continues.\n",
    "\n",
    "### Solution to Question 8:\n",
    "---\n",
    "\n",
    "<br> <br> <br> <br> <br> <br>"
   ]
  },
  {
   "cell_type": "markdown",
   "id": "05ddd20b-fddd-466f-8190-cf3e1a480110",
   "metadata": {},
   "source": [
    "## <a name='14quest9'>Question 9:</a>\n",
    "---\n",
    "\n",
    "What would it mean for the rabbit-fox system to be in equilibrium? Are there any equilibrium solutions to this system of rate of change equations? If so, determine all equilibrium solutions and generate the 3D and other views for each equilibrium solution.\n",
    "\n",
    "### Solution to Question 9:\n",
    "---\n",
    "\n",
    "<br> <br> <br> <br> <br> <br>"
   ]
  },
  {
   "cell_type": "markdown",
   "id": "227e1b6b-0fee-4c97-b868-c0f3f04e923f",
   "metadata": {},
   "source": [
    "## <a name='14quest10'>Question 10:</a>\n",
    "---\n",
    "\n",
    "For single differential equations, we classified equilibrium solutions as **stable (attractors)**, **unstable repellers**, or **semi-stable (nodes)**.  For each of the equilibrium solutions in the previous problem, create your own terms to classify the equilibrium solutions in and briefly explain your reasons behind your choice of terms. \n",
    "\n",
    "### Solution to Question 10:\n",
    "\n",
    "<br> <br> <br> <br> <br> <br>"
   ]
  },
  {
   "cell_type": "markdown",
   "id": "6c074456-0927-48a4-92c0-7dcd82049b33",
   "metadata": {},
   "source": [
    "# The Phase Plane: Visualizing Solutions to Systems\n",
    "---\n",
    "\n",
    "One view of solutions for studying solutions to systems of **autonomous (independent of $t$)** differential equations of the form\n",
    "\n",
    "$$\\begin{aligned}\n",
    "\\frac{dx}{dt} &= f(x,y)\\\\\n",
    "\\frac{dy}{dt} &= g(x,y)\n",
    "\\end{aligned}$$\n",
    "\n",
    "is the $xy$-plane, called the **phase plane**. \n",
    "\n",
    "- The phase plane is the analog to the phase line for a single autonomous differential equation.\n",
    "- In the Rabbit-Fox example, these are the plots of $F$ vs $R$.\n"
   ]
  },
  {
   "cell_type": "markdown",
   "id": "bb96eccc-4d1f-4744-95fa-eccc05e85956",
   "metadata": {},
   "source": [
    "## <a name='14quest11'>Question 11:</a>\n",
    "---\n",
    "\n",
    "Consider the rabbit-fox system of differential equations and the graph of the solution, as viewed in the phase plane (that is, the $RF$-plane). The two points in the table below are on the same solution curve. Recall that the solutions we've seen in the past are closed curves, but the solution could be moving clockwise or counterclockwise. Fill in the following table and decide which way the solution is moving, and explain your reasoning.\n",
    "\n",
    "### Solution to Question 11:\n",
    "---\n",
    "\n",
    "<br>\n",
    "\n",
    "| $t$ (in years) | $R$ (in hundreds) | $F$ (in tens) | $\\dfrac{dR}{dt}$ | $\\dfrac{dF}{dt}$ |\n",
    "|----------------|-------------------|---------------|------------------|-----------------|\n",
    "| $0$ | $2$ | $3$ | <mark>Fill in your answer here</mark> |  <mark>Fill in your answer here</mark> |\n",
    "| $2.07$ | $0.756$ | $1.431$ | <mark>Fill in your answer here</mark> |  <mark>Fill in your answer here</mark> |\n",
    "\n",
    "<br>\n",
    "\n",
    "<img src=\"Images/14Solution.png\" width=\"480\">\n",
    "\n",
    "<br>\n",
    "\n",
    "The solution rotates <mark>choose either clockwise or counterclockwise</mark> around the curve.\n",
    "\n",
    "<br> <br>"
   ]
  },
  {
   "cell_type": "markdown",
   "id": "25220c2f-5d0f-4d52-8915-196024207655",
   "metadata": {},
   "source": [
    "## <a name='14quest12'>Question 12:</a>\n",
    "---\n",
    "\n",
    "On the same set of axes from [Problem 11](#14quest11) plot additional vectors at each of points in the table below, and state what is unique about these vectors. \n",
    "\n",
    "\n",
    "| $\\mathbf{R}$ | $\\mathbf{F}$ | $\\mathbf{dR/dt}$ | $\\mathbf{dF/dt}$ | $\\mathbf{dF/dR}$ |\n",
    "|--------------|--------------|------------------|------------------|------------------|\n",
    "| $1.25$ | $0$ | <mark>Enter answer here</mark> | <mark>Enter answer here</mark> | <mark>Enter answer here</mark> |\n",
    "| $1.25$ | $1$ | <mark>Enter answer here</mark> | <mark>Enter answer here</mark> | <mark>Enter answer here</mark> |\n",
    "| $1.25$ | $2$ | <mark>Enter answer here</mark> | <mark>Enter answer here</mark> | <mark>Enter answer here</mark> |\n",
    "| $1.25$ | $3$ | <mark>Enter answer here</mark> | <mark>Enter answer here</mark> | <mark>Enter answer here</mark> |\n",
    "\n",
    "\n",
    "### Solution to Question 12:\n",
    "---\n",
    "\n",
    "<br> <br> <br> <br> <br> <br>\n"
   ]
  },
  {
   "cell_type": "markdown",
   "id": "3606cbc0-cbe2-49bb-b8d1-29410f1e7946",
   "metadata": {},
   "source": [
    "## Creative Commons License Information\n",
    "<a rel=\"license\" href=\"https://creativecommons.org/licenses/by-nc-sa/4.0/\"><img alt=\"Creative Commons License\" style=\"border-width:0\" src=\"https://i.creativecommons.org/l/by-nc-sa/4.0/80x15.png\" /></a><br /><span xmlns:dct=\"http://purl.org/dc/terms/\" property=\"dct:title\">Elementary Differential Equations</span> by <a xmlns:cc=\"http://creativecommons.org/ns#\" href=\"https://github.com/CU-Denver-MathStats-OER/ODEs\" property=\"cc:attributionName\" rel=\"cc:attributionURL\">Adam Spiegler, Jonathon Hirschi, and Dmitry Ostrovskiy</a> is licensed under a <a rel=\"license\" href=\"http://creativecommons.org/licenses/by-nc-sa/4.0/\">Creative Commons Attribution-NonCommercial-ShareAlike 4.0 International License</a>.<br />Based on a work at <a xmlns:dct=\"http://purl.org/dc/terms/\" href=\"https://github.com/CU-Denver-MathStats-OER/ODEs\" rel=\"dct:source\">https://github.com/CU-Denver-MathStats-OER/ODEs</a> and original content created by Rasmussen, C., Keene, K. A., Dunmyre, J., & Fortune, N. (2018). *Inquiry oriented differential equations: Course materials*. Available at <a href=\"https://iode.wordpress.ncsu.edu\">https://iode.wordpress.ncsu.edu</a>."
   ]
  }
 ],
 "metadata": {
  "kernelspec": {
   "display_name": "Python 3",
   "language": "python",
   "name": "python3"
  },
  "language_info": {
   "codemirror_mode": {
    "name": "ipython",
    "version": 3
   },
   "file_extension": ".py",
   "mimetype": "text/x-python",
   "name": "python",
   "nbconvert_exporter": "python",
   "pygments_lexer": "ipython3",
   "version": "3.8.8"
  },
  "toc-autonumbering": false,
  "toc-showmarkdowntxt": false,
  "toc-showtags": false
 },
 "nbformat": 4,
 "nbformat_minor": 5
}
