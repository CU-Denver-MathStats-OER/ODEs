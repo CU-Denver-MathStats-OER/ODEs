{
 "cells": [
  {
   "cell_type": "markdown",
   "id": "93f09996-e98f-4345-8962-794807fb82bc",
   "metadata": {},
   "source": [
    "[![Open In Colab](https://colab.research.google.com/assets/colab-badge.svg)](https://githubtocolab.com/CU-Denver-MathStats-OER/ODEs/blob/main/Chp3/15-Vector-Fields.ipynb)\n"
   ]
  },
  {
   "cell_type": "markdown",
   "id": "c54cb316-a308-4842-b316-83c615bbfe39",
   "metadata": {},
   "source": [
    "# Lab 3.2: Phase Plane Portraits\n",
    "---\n",
    "\n",
    "<font color='blue'>Reading: [Nullclines.pdf](https://ucdenver.instructure.com/courses/487741/files/17437146/download?download_frd=1) posted on Canvas</font>\n",
    "\n",
    "**Slope fields** are a convenient way to visualize solutions to a single differential equation. For systems of autonomous differential equations the equivalent representation is a <font color = \"blue\">**vector field**</font> often called a <font color = \"blue\">**phase plane portrait**</font>. Similar to a slope field, a phase plane portrait shows a selection of vectors with the correct slope but with a normalized length. "
   ]
  },
  {
   "cell_type": "markdown",
   "id": "a96fb8e2-e529-463c-a2d3-b24f22fc40dd",
   "metadata": {},
   "source": [
    "# Plotting Phase Plane Portraits with `phase_portrait`\n",
    "---\n",
    "\n",
    "As with slope fields, we typically rely on technology to plot phase plane portraits. The `ode_tools` module (same file as earlier) includes a function called `phase_portrait` that will be a nice tool for visualizing solutions to autonomous systems of differential equations. \n",
    "\n",
    "\n",
    " - Before using the `phase_portrait` funciton, we first set the file path to the module `ode_tools`."
   ]
  },
  {
   "cell_type": "markdown",
   "id": "a1b3cdf0-fdfe-4777-b2b5-e735e0466c1d",
   "metadata": {},
   "source": [
    "## Setting the Path in Google Colab\n",
    "---\n",
    "\n",
    "### <a name='MountDrive'>Mounting Google Drive in Colab</a> (Skip if Using Jupyter)\n",
    "---\n",
    "\n",
    "If you are working with this notebook in Google Colab, to access the `ode_tools` module, you need to first mount your Google Drive.\n",
    "\n",
    "- <mark>**Run the code cell below if you are using Google Colab.**</mark>\n",
    "- **DO NOT RUN the code cell if you are using Jupyter**.\n",
    "\n"
   ]
  },
  {
   "cell_type": "code",
   "execution_count": null,
   "id": "be677a5b-e04e-405c-936f-049ea87fe611",
   "metadata": {
    "id": "x1Jqa8QY4CNv"
   },
   "outputs": [],
   "source": [
    "# Run this cell if you are using Google Colab\n",
    "# Do NOT run if you are using Jupyter\n",
    "\n",
    "# Allow Colab to access your Google Drive files\n",
    "from google.colab import drive\n",
    "drive.mount('/content/drive')"
   ]
  },
  {
   "cell_type": "markdown",
   "id": "10223e8a-17c5-45a2-82f7-7893a184fb76",
   "metadata": {
    "id": "Yvthy-_06SMj"
   },
   "source": [
    "### <a name='ColabPath'>Setting the File Path for Google Colab Users</a>\n",
    "---\n",
    "\n",
    "The file **ode_tools.py** is located in the **utils** folder. Thus, we need to direct Python to this folder in order to access the functions defined in the `ode_tools` module. \n",
    "\n",
    "- <mark>If you are using Jupyter, skip this section and jump to the next section to set your path in Jupyter.</mark>\n",
    "\n",
    "**If you are working with this notebook in Google Colab**, then you will need to define the path to the utils folder.\n",
    "\n",
    "- In the code cell below, you can see the path in my Drive is <font color='blue'>**<span>&#47;</span>content/drive/MyDrive/MATH 3200 Colab/utils**</font>\n",
    "- You may need to adjust this path to your file structure. To identify your path:\n",
    "  1. Click on the file icon on the left side of the screen.\n",
    "  2. Find the **utils** folder that should be inside the main folder named **MATH 3200 Colab**.\n",
    "  3. Hover over the **utils** folder, click on the three dots, and choose the option **Copy path**.\n",
    "  4. Paste your path inside the single quotes in the `sys.path.append('paste_your_path_here')`."
   ]
  },
  {
   "cell_type": "code",
   "execution_count": null,
   "id": "dcd490e4-52d3-4b95-ba55-dbd1899478df",
   "metadata": {
    "id": "QrdkO1E448Wd"
   },
   "outputs": [],
   "source": [
    "# Only run this cell if using Google Colab.\n",
    "# Do not run this cell if using Jupyter.\n",
    "import sys\n",
    "\n",
    "# Set the path to the folder with module ode_tools.py\n",
    "# Adjust the path according to your file structure in Drive\n",
    "sys.path.append('/content/drive/MyDrive/MATH 3200 Colab/utils')"
   ]
  },
  {
   "cell_type": "markdown",
   "id": "7d35694b-5aa7-421e-b43f-9b6d5c0b46a2",
   "metadata": {
    "id": "EDLcOpra-ie1"
   },
   "source": [
    "## <a name='JupPath'>Setting the File Path for Jupyter Users</a>\n",
    "---\n",
    "\n",
    "The file **ode_tools.py** is located in the **utils** folder. Thus, we need to direct Python to this folder in order to access the functions defined in the `ode_tools` module. \n",
    "\n",
    "- <mark>If you are using Google Colab, skip this section as you should have already set your path above..</mark>\n",
    "\n",
    "**If you are working with this notebook in Google Colab, run the code cell below to set your file path. Do not edit the code.**"
   ]
  },
  {
   "cell_type": "code",
   "execution_count": null,
   "id": "e5976a4b-c531-4c85-afd1-9b4e255579e7",
   "metadata": {
    "id": "R-xG--qt-3J2"
   },
   "outputs": [],
   "source": [
    "# Only run this cell if using Jupyter.\n",
    "# Do not run this cell if using Google Colab.\n",
    "import sys\n",
    "\n",
    "sys.path.append('../utils')"
   ]
  },
  {
   "cell_type": "markdown",
   "id": "6c609024-3613-4842-9f0a-741422f85e03",
   "metadata": {
    "id": "ycAmBv8K_Zss"
   },
   "source": [
    "## Importing the `phase_portrait` Plotting Function\n",
    "---\n",
    "\n",
    "After you followed the instructions above and set your file path, you are now ready to import the `phase_portrait` function from the `ode_tools` module. "
   ]
  },
  {
   "cell_type": "code",
   "execution_count": null,
   "id": "1ba9c2fc-ac62-449c-b96a-a2b1114ec4d8",
   "metadata": {
    "id": "f38fbe97-697f-4eb5-aab1-b28acdf0d6a5"
   },
   "outputs": [],
   "source": [
    "from ode_tools import phase_portrait  # Only need to import one time."
   ]
  },
  {
   "cell_type": "markdown",
   "id": "f32f2b51-df16-4a5b-ab80-bc690eafbdac",
   "metadata": {},
   "source": [
    "## Defining the System of Differential Equations\n",
    "---\n",
    "\n",
    "Recall the rabbit and fox population model from [14-Introduction-to-Systems](#14-Introduction-to-Systems).\n",
    "\n",
    "$$\\begin{align}\n",
    "\\frac{dR}{dt} &= 3R-1.4RF\\\\\n",
    "\\frac{dF}{dt} &= -F+0.8RF\n",
    "\\end{align}$$\n",
    "\n",
    "\n",
    "In the code cell below, we choose a window of $0 \\leq R, F \\leq 5$ and enter the system of differential equations. \n"
   ]
  },
  {
   "cell_type": "code",
   "execution_count": null,
   "id": "8ad92af9-8853-43b9-9d52-94a1a456ecac",
   "metadata": {},
   "outputs": [],
   "source": [
    "import numpy as np\n",
    "\n",
    "# Set viewing window\n",
    "x = np.linspace(0.0, 5.0, 20)  # values for horizontal axis of phase plane\n",
    "y = np.linspace(0.0, 5.0, 20)  # values for vertical axis of phase plane\n",
    "\n",
    "# Define the system of differential equations\n",
    "def f(Y, t):\n",
    "    x, y = Y\n",
    "    return [3*x - 1.4*x*y,  # enter formula for diff eq for x\n",
    "            -y + 0.8*x*y]  # enter formula for diff eq for y"
   ]
  },
  {
   "cell_type": "markdown",
   "id": "d2dd6b64-88ec-4cc6-85ed-e82dd3817e8a",
   "metadata": {},
   "source": [
    "## Plotting with `phase_portrait`\n",
    "---\n",
    "\n"
   ]
  },
  {
   "cell_type": "code",
   "execution_count": null,
   "id": "b049f4aa-a6a8-475b-b256-30c40ae19b13",
   "metadata": {},
   "outputs": [],
   "source": [
    "# Plots a phase portrait\n",
    "\n",
    "phase_portrait(x, y, f)"
   ]
  },
  {
   "cell_type": "markdown",
   "id": "4aeba813-932f-4a06-88b3-055c2750fd4d",
   "metadata": {},
   "source": [
    "# Adding a Solution to a Phase Plane Portrait with `plot_phase_sol`\n",
    "---\n",
    "\n",
    "Let's add a plot of the solution with initial condition $(R,F)=(2,3)$ to the phase plane portrait above. \n",
    "\n",
    "- In case you have not already done so, run the code cell below to define `x`, `y` and `f`.\n",
    "- If you have created a phase plane portrait using `x`, `y`, and `f`, you do not need to run the code cell below again."
   ]
  },
  {
   "cell_type": "code",
   "execution_count": null,
   "id": "4a5842fc-0e75-4ae9-9175-c3e0622f6acb",
   "metadata": {},
   "outputs": [],
   "source": [
    "##############################################\n",
    "# You can skip if commands already run above\n",
    "##############################################\n",
    "import numpy as np\n",
    "\n",
    "# Set viewing window\n",
    "x = np.linspace(0.0, 5.0, 20)  # values for horizontal axis of phase plane\n",
    "y = np.linspace(0.0, 5.0, 20)  # values for vertical axis of phase plane\n",
    "\n",
    "# Define the system of differential equations\n",
    "def f(Y, t):\n",
    "    x, y = Y\n",
    "    return [3*x - 1.4*x*y,  # enter formula for diff eq for x\n",
    "            -y + 0.8*x*y]  # enter formula for diff eq for y"
   ]
  },
  {
   "cell_type": "markdown",
   "id": "ae7384da-73ab-4d62-9dbb-786cc1eabfe6",
   "metadata": {},
   "source": [
    "## Defining the Initial Conditions\n",
    "---\n",
    "\n",
    "**We define new variables as follows:**\n",
    "\n",
    "- We use `tspan` for the range of time to visualize the solution.\n",
    "- We use `x0` for the initial value of the first dependent variable $x$.\n",
    "- We use `y0` for the initial value of the first dependent variable $y$.\n"
   ]
  },
  {
   "cell_type": "code",
   "execution_count": null,
   "id": "1cdd9a75-6a18-4642-881a-5aea6d787947",
   "metadata": {},
   "outputs": [],
   "source": [
    "# Enter range of time\n",
    "tspan = np.linspace(0, 50, 200) # range of time to visualize solution\n",
    "\n",
    "# Enter initial values\n",
    "x0 = 2  # initial value of x\n",
    "y0 = 3  # initial value of y"
   ]
  },
  {
   "cell_type": "markdown",
   "id": "6972076a-8523-4c8d-9805-99303642da29",
   "metadata": {},
   "source": [
    "## Import `plot_phase_sol` and Create Plot\n",
    "---\n",
    "\n",
    "- First be sure you have already set the file path to the `ode_tools` module. \n",
    "- We have already performed this step earlier, so we do not need to do this again\n"
   ]
  },
  {
   "cell_type": "code",
   "execution_count": null,
   "id": "2a51c313-e76a-40f7-a6d9-dbd218254b32",
   "metadata": {
    "id": "f38fbe97-697f-4eb5-aab1-b28acdf0d6a5"
   },
   "outputs": [],
   "source": [
    "from ode_tools import plot_phase_sol  # Only need to import one time."
   ]
  },
  {
   "cell_type": "code",
   "execution_count": null,
   "id": "ed1c2445-37a2-443f-b184-c7e176c79bb5",
   "metadata": {
    "id": "b7005c76-b458-4d2d-851d-280471554452"
   },
   "outputs": [],
   "source": [
    "# Plots a solution in a phase plane portrait\n",
    "\n",
    "plot_phase_sol(x, y, f, tspan, x0, y0)"
   ]
  },
  {
   "cell_type": "markdown",
   "id": "a1bb3fca-b913-4597-a53c-84d09203748d",
   "metadata": {},
   "source": [
    "# Discovering Key Features of Phase Portraits\n",
    "---\n",
    "\n",
    "Technology is a very useful tool for plotting and visualizing the dynamics of a system of differential equations. However, we need to determine what is a reasonable viewing window, and that depends on what features we want to investigate.\n",
    "\n",
    "It can be helpful to uncover some important properties of phase portraits by studying properties of the underlying differential equations. In this process, we may identify regions in the phase plane where we want zoom in. **For the rest of this lab, we do some analysis of the system of differential equations to uncover interesting properties that we can highlight in the phase plane portrait.**"
   ]
  },
  {
   "cell_type": "markdown",
   "id": "6a272b60-2170-487d-99aa-dde06cf4d3aa",
   "metadata": {},
   "source": [
    "## <a name='15quest1'>Question 1:</a>\n",
    "---\n",
    "\n",
    "On the axes below where $x$ and $y$ both range from -3 to 3, plot by hand a vector field for the system of differential equations \n",
    "$$\\begin{aligned}\n",
    "\\frac{dx}{dt} &= y-x\\\\\n",
    "\\frac{dy}{dt} &= -y\\\\\n",
    "\\end{aligned}$$\n",
    "and sketch in several solution graphs in the phase plane. \n",
    "\n",
    "### Solution to Question 1:\n",
    "---\n",
    "\n",
    "<br>\n",
    "\n",
    "<img src=\"https://drive.google.com/uc?id=10J6JwjOyA7ELphKVHrRxaY6DynKLPK_M\" width = 360 alt='Phase Plane System 1'>\n",
    "\n",
    "<br> <br>"
   ]
  },
  {
   "cell_type": "markdown",
   "id": "a40d12c5-c1b3-4979-95ea-7cafaaebaa87",
   "metadata": {},
   "source": [
    "# Nullclines and Isoclines\n",
    "\n",
    "You may have noticed in [Problem 1](#15quest1) that along $x = 0$ all the vectors have the same slope. Similarly for vectors along the $y = x$. \n",
    "\n",
    "- Any line or curve along which vectors all have the same slope is called an <font color = \"blue\">**isocline**</font>. \n",
    "\n",
    "- An isocline where $\\color{red}{\\dfrac{dx}{dt} = 0}$ is called an <font color = \"red\">**$\\mathbf{x}$-nullcline**</font> because the horizontal component of the vector is zero, and hence **the vector points straight up or down**. \n",
    "\n",
    "- An isocline where $\\color{blue}{\\dfrac{dy}{dt} = 0}$ is called a <font color = \"blue\">**$\\mathbf{y}$-nullcline**</font> because the vertical component of the vector is zero and hence **the vector points left or right**. "
   ]
  },
  {
   "cell_type": "markdown",
   "id": "1d45befb-1fc5-487f-9744-133ae50878d2",
   "metadata": {},
   "source": [
    "## Adding Nullclines to a Phase Plane Portrait\n",
    "---\n"
   ]
  },
  {
   "cell_type": "code",
   "execution_count": null,
   "id": "90d42368-e8d9-47e7-bb45-03c6a22efa02",
   "metadata": {},
   "outputs": [],
   "source": [
    "#import numpy as np   # Only need to import one time\n",
    "\n",
    "# Viewing window is set\n",
    "x = np.linspace(-3, 3, 13)  # values for horizontal axis of phase plane\n",
    "y = np.linspace(-3, 3, 13)  # values for vertical axis of phase plane\n",
    "\n",
    "\n",
    "# Define the system of differential equations\n",
    "def f(Y, t):\n",
    "    x, y = Y\n",
    "    return [y - x,  # enter formula for diff eq for x\n",
    "            -y]  # enter formula for diff eq for y"
   ]
  },
  {
   "cell_type": "code",
   "execution_count": null,
   "id": "08c7067e-93ab-4fa4-81e7-183c9a8adc9a",
   "metadata": {},
   "outputs": [],
   "source": [
    "import matplotlib.pyplot as plt  # import plotting package\n",
    "#from ode_tools import phase_portrait  # Only need to import one time\n",
    "\n",
    "# Plots a phase portrait\n",
    "phase_portrait(x, y, f)\n",
    "\n",
    "# x-nullcline \n",
    "plt.plot(x, x, linewidth=2, color='r')  # red line at y=x\n",
    "\n",
    "# y-nullcline\n",
    "plt.hlines(y=0, xmin=-3, xmax=3, linewidth=2, color='b')  # blue horizontal line at y=0"
   ]
  },
  {
   "cell_type": "markdown",
   "id": "ae6c2bbe-074c-407a-be36-8a5e53b0e466",
   "metadata": {},
   "source": [
    "## <a name='15quest2'>Question 2:</a>\n",
    "---\n",
    "\n",
    "On a grid from $-4$ to $4$ for both axes, plot all nullclines for the rabbit-fox system. Note we now use $x$ for rabbits and $y$ for foxes.  Then comment on how the nullclines point to the cyclic nature of the Rabbit-Fox system.\n",
    "\n",
    "$$\\begin{aligned}\n",
    "\\frac{dx}{dt} &= 3x-1.4xy\\\\\n",
    "\\frac{dy}{dt} &= -y+0.8xy \n",
    "\\end{aligned}$$\n",
    "\n",
    "### Solution to Question 2:\n",
    "---\n",
    "\n",
    "<br>\n",
    "\n",
    "<img src=\"https://drive.google.com/uc?id=10AddCDwLmrW_3ByuO2Mrmu-hPpXxYLLf\" width = 360 alt='Phase Plane System 2'>\n",
    "\n",
    "\n",
    "<br> <br> "
   ]
  },
  {
   "cell_type": "markdown",
   "id": "9bb66330-1f9c-47b8-8b98-e2418907097d",
   "metadata": {},
   "source": [
    "## <a name='15quest3'>Question 3:</a>\n",
    "---\n",
    "\n",
    "Plot the phase plane portrait for the rabbit and fox predator prey model below. Add plots of all $x$-nullclines and $y$-nullclines to verify your sketch from [Question](#15quest2).\n",
    "\n",
    "$$\\begin{align}\n",
    "\\frac{dx}{dt} &= 3x-1.4xy\\\\\n",
    "\\frac{dy}{dt} &= -y+0.8xy \n",
    "\\end{align}$$\n",
    "\n",
    "### Solution to Question 3:\n",
    "---\n",
    "\n",
    "<mark> Complete and run the code cells below to generate phase plane portrait with nullclines</mark>\n",
    "\n",
    "<br>\n",
    "\n"
   ]
  },
  {
   "cell_type": "code",
   "execution_count": null,
   "id": "a4ac0544-1f1b-448b-a6d3-af78d35a6c52",
   "metadata": {},
   "outputs": [],
   "source": [
    "#import numpy as np   # Only need to import one time\n",
    "\n",
    "# Viewing window is set\n",
    "x = np.linspace(-1, 4, 21)  # values for horizontal axis of phase plane\n",
    "y = np.linspace(-1, 4, 21)  # values for vertical axis of phase plane\n",
    "\n",
    "\n",
    "# Define the system of differential equations\n",
    "def f(Y, t):\n",
    "    x, y = Y\n",
    "    return [3*x - 1.4*x*y,  # enter formula for diff eq for x, rabbits\n",
    "            -y + 0.8*x*y]  # enter formula for diff eq for y, foxes"
   ]
  },
  {
   "cell_type": "code",
   "execution_count": null,
   "id": "8125573f-8c7d-46fc-ace5-a6c7de19cb95",
   "metadata": {},
   "outputs": [],
   "source": [
    "#import matplotlib.pyplot as plt  # Only need to import one time\n",
    "#from ode_tools import phase_portrait  # Only need to import one time\n",
    "\n",
    "# Plots a phase portrait\n",
    "phase_portrait(x, y, f)\n",
    "\n",
    "\n",
    "# x-nullclines \n",
    "plt.hlines(y=??, xmin=-1, xmax=4, linewidth=2, color='r')  # horizontal line at y=??\n",
    "plt.vlines(x=??, ymin=-1, ymax=4, linewidth=2, color='r')  # vertical line at x=??\n",
    "\n",
    "# y-nullclines\n",
    "plt.hlines(y=??, xmin=-1, xmax=4, linewidth=2, color='b')  # horizontal line at y=??\n",
    "plt.vlines(x=??, ymin=-1, ymax=4, linewidth=2, color='b')  # vertical line at x=??"
   ]
  },
  {
   "cell_type": "markdown",
   "id": "e0c61200-48f0-47b3-8da0-8480a5d96e33",
   "metadata": {},
   "source": [
    "## <a name='15quest4'>Question 4:</a>\n",
    "---\n",
    "\n",
    "A certain system of differential equations for the variables $R$ and $S$ describes the interaction of rabbits and sheep grazing in the same field.  On the phase plane below, dashed lines show the $R$ and $S$ nullclines along with their corresponding vectors.\n",
    "\n",
    "<img src=\"https://drive.google.com/uc?id=10MbEboCTM312IxdQKtJ7LYjSd13MMJkI\" width = 360 alt='Nullcline Plot'>"
   ]
  },
  {
   "cell_type": "markdown",
   "id": "60a0eb33-a3e2-4b46-9c75-bc8faee1eb0a",
   "metadata": {},
   "source": [
    "## <a name='15quest4a'>Question 4a:</a>\n",
    "---\n",
    "\n",
    "Identify the $R$ nullclines and explain how you know.\n",
    "\n",
    "### Solution to Question 4a:\n",
    "---\n",
    "\n",
    "<br> <br> <br> <br> "
   ]
  },
  {
   "cell_type": "markdown",
   "id": "e11fbcdc-a754-4f41-a372-ec2f86e9ab79",
   "metadata": {},
   "source": [
    "## <a name='15quest4b'>Question 4b:</a>\n",
    "---\n",
    "\n",
    "\n",
    "Identify the $S$ nullclines and explain how you know.\n",
    "\n",
    "### Solution to Question 4b:\n",
    "---\n",
    "\n",
    "<br> <br> <br> <br>"
   ]
  },
  {
   "cell_type": "markdown",
   "id": "4cea7a32-22a8-4c43-9779-a97ab3bfed9c",
   "metadata": {},
   "source": [
    "## <a name='15quest4c'>Question 4c:</a>\n",
    "---\n",
    "\n",
    "Identify all equilibrium points.\n",
    "\n",
    "### Solution to Question 4c:\n",
    "---\n",
    "\n",
    "<br> <br> <br> <br>"
   ]
  },
  {
   "cell_type": "markdown",
   "id": "ec7d12b4-f036-4331-9825-4451c22a6a23",
   "metadata": {},
   "source": [
    "## <a name='15quest4d'>Question 4d:</a>\n",
    "---\n",
    "\n",
    "Notice that the nullclines carve out 4 different regions of the first quadrant of the $RS$ plane.  In each of these 4 regions, add a prototypical-vector that represents the vectors in that region. That is, if you think the both $R$ and $S$ are increasing in a certain region then, draw a vector pointing up and to the right for that region. \n",
    "\n",
    "### Solution to Question 4d:\n",
    "---\n",
    "\n",
    "<br> <br> <br> <br>"
   ]
  },
  {
   "cell_type": "markdown",
   "id": "eb0fedb5-32a5-4726-9273-a406ae493b9b",
   "metadata": {},
   "source": [
    "## <a name='15quest4e'>Question 4e:</a>\n",
    "---\n",
    "\n",
    "What does this system seem to predict will happen to the rabbits and sheep in this field in the long run? \n",
    "\n",
    "### Solution to Question 4e:\n",
    "---\n",
    "\n",
    "<br> <br> <br> <br>"
   ]
  },
  {
   "cell_type": "markdown",
   "id": "3606cbc0-cbe2-49bb-b8d1-29410f1e7946",
   "metadata": {},
   "source": [
    "## Creative Commons License Information\n",
    "<a rel=\"license\" href=\"https://creativecommons.org/licenses/by-nc-sa/4.0/\"><img alt=\"Creative Commons License\" style=\"border-width:0\" src=\"https://i.creativecommons.org/l/by-nc-sa/4.0/80x15.png\" /></a><br /><span xmlns:dct=\"http://purl.org/dc/terms/\" property=\"dct:title\">Elementary Differential Equations</span> by <a xmlns:cc=\"http://creativecommons.org/ns#\" href=\"https://github.com/CU-Denver-MathStats-OER/ODEs\" property=\"cc:attributionName\" rel=\"cc:attributionURL\">Adam Spiegler, Jonathon Hirschi, and Dmitry Ostrovskiy</a> is licensed under a <a rel=\"license\" href=\"http://creativecommons.org/licenses/by-nc-sa/4.0/\">Creative Commons Attribution-NonCommercial-ShareAlike 4.0 International License</a>.<br />Based on a work at <a xmlns:dct=\"http://purl.org/dc/terms/\" href=\"https://github.com/CU-Denver-MathStats-OER/ODEs\" rel=\"dct:source\">https://github.com/CU-Denver-MathStats-OER/ODEs</a> and original content created by Rasmussen, C., Keene, K. A., Dunmyre, J., & Fortune, N. (2018). *Inquiry oriented differential equations: Course materials*. Available at <a href=\"https://iode.wordpress.ncsu.edu\">https://iode.wordpress.ncsu.edu</a>."
   ]
  }
 ],
 "metadata": {
  "kernelspec": {
   "display_name": "Python 3",
   "language": "python",
   "name": "python3"
  },
  "language_info": {
   "codemirror_mode": {
    "name": "ipython",
    "version": 3
   },
   "file_extension": ".py",
   "mimetype": "text/x-python",
   "name": "python",
   "nbconvert_exporter": "python",
   "pygments_lexer": "ipython3",
   "version": "3.8.8"
  },
  "toc-autonumbering": false,
  "toc-showmarkdowntxt": false,
  "toc-showtags": false
 },
 "nbformat": 4,
 "nbformat_minor": 5
}
