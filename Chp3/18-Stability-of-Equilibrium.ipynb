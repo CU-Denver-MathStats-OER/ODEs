{
 "cells": [
  {
   "cell_type": "markdown",
   "id": "10dd3ece-e16c-474a-bf23-187c60e07438",
   "metadata": {},
   "source": [
    "[![Open In Colab](https://colab.research.google.com/assets/colab-badge.svg)](https://githubtocolab.com/CU-Denver-MathStats-OER/ODEs/blob/main/Chp3/18-Stability-of-Equilibrium.ipynb)\n"
   ]
  },
  {
   "cell_type": "markdown",
   "id": "cb26e141-c714-49b8-989b-accb5309b483",
   "metadata": {},
   "source": [
    "# Lab 3.5: Long Run Behavior of Solutions\n",
    "---\n",
    "\n",
    "<font color=\"dodgerblue\">Reading: *Notes on Diffy Q's* Section 3.5</font>"
   ]
  },
  {
   "cell_type": "markdown",
   "id": "6ece4273-354d-45e9-bb65-9e840108883a",
   "metadata": {},
   "source": [
    "## <a name='18quest1'>Question 1:</a>\n",
    "---\n",
    "\n",
    "Recall model of the bacteria populations in Colony 1 and Colony 2 given by system of differential equations \n",
    "\n",
    "$$\\begin{align}\n",
    "\\frac{dx}{dt} &= 3x+10y \\\\\n",
    "\\frac{dy}{dt} &= -2y\n",
    "\\end{align}$$\n",
    "\n",
    "We previously found the general solution for this system, which can be expressed as\n",
    "\n",
    "$$\\begin{align}\n",
    "x(t)&= C_1e^{3t} + C_2 e^{-2t} \\\\\n",
    "y(t)&= - \\frac{1}{2} C_2 e^{-2t} \\\\\n",
    "\\end{align}$$"
   ]
  },
  {
   "cell_type": "markdown",
   "id": "f8ca8cc8-75ca-45c3-9ed1-afa958a24d5e",
   "metadata": {},
   "source": [
    "### <a name='18quest1a'>Question 1a:</a>\n",
    "---\n",
    "\n",
    "Give the solutions if in addition we have the initial condition $(x(0),y(0))= (3,0)$.\n",
    "\n",
    "#### Solution to Question 1a:\n",
    "---\n",
    "\n",
    "<br> <br> <br>"
   ]
  },
  {
   "cell_type": "markdown",
   "id": "c11f179a-f045-4669-8674-623c1a728159",
   "metadata": {},
   "source": [
    "### <a name='18quest1b'>Question 1b:</a>\n",
    "---\n",
    "\n",
    "Give the solutions if in addition we have another initial condition $(x(0),y(0))= (2,-1)$.\n",
    "\n",
    "#### Solution to Question 1b:\n",
    "---\n",
    "\n",
    "<br> <br> <br>"
   ]
  },
  {
   "cell_type": "markdown",
   "id": "afac54be-905d-459d-870b-3665480446d6",
   "metadata": {},
   "source": [
    "### <a name='18quest1c'>Question 1c:</a>\n",
    "---\n",
    "\n",
    "Sketch the graphs (in the phase plane) of the solution with initial condition $(x(0),y(0))= (3,0)$ and the solution with initial condition $(x(0),y(0))= (2,-1)$.\n",
    "\n",
    "*You may sketch by hand (probably quicker!) or using the code cells below.*\n",
    "\n",
    "#### Solution to Question 1c:\n",
    "---\n",
    "\n",
    "<br> <br> <br>"
   ]
  },
  {
   "cell_type": "markdown",
   "id": "04527f5d-28c6-4f6d-ad79-3feaaa61cf9e",
   "metadata": {
    "id": "tuvCY_YV5kMB"
   },
   "source": [
    "#### <a name='LoadModule'>Loading `ode_tools` from GitHub</a>\n",
    "---\n",
    "\n",
    "- Run the code cell below to load the most up to date modules stored in GitHub.\n",
    "- You will only need to run this code cell one time during an active session."
   ]
  },
  {
   "cell_type": "code",
   "execution_count": null,
   "id": "0eb25194-d95c-4650-9054-10ed3068a67e",
   "metadata": {},
   "outputs": [],
   "source": [
    "!pip install git+https://github.com/CU-Denver-MathStats-OER/ODEs\n",
    "from IPython.display import clear_output\n",
    "clear_output()"
   ]
  },
  {
   "cell_type": "markdown",
   "id": "a8264743-23ab-4e58-91bd-cdd094d25970",
   "metadata": {},
   "source": [
    "#### Importing `phase_portrait` from `ode_tools` Module\n",
    "---\n"
   ]
  },
  {
   "cell_type": "code",
   "execution_count": null,
   "id": "ed5fd0de-569e-406b-8074-1aa84d97cca7",
   "metadata": {},
   "outputs": [],
   "source": [
    "from utils.ode_tools import phase_portrait  # Only need to import one time."
   ]
  },
  {
   "cell_type": "markdown",
   "id": "17b8fd96-86ae-4a92-8840-b94785f90844",
   "metadata": {},
   "source": [
    "#### Plotting Solutions in the Phase Plane\n",
    "---"
   ]
  },
  {
   "cell_type": "code",
   "execution_count": null,
   "id": "2bb66716-c0d9-43fc-9915-ba191f64ee58",
   "metadata": {},
   "outputs": [],
   "source": [
    "import numpy as np\n",
    "\n",
    "# Set viewing window\n",
    "\n",
    "x = np.linspace(-5.0, 5.0, 23)  # x is horizontal axis\n",
    "y = np.linspace(-5.0, 5.0, 23)  # y is vertical axis\n",
    "\n",
    "#############################################\n",
    "# Enter the system of differential equations\n",
    "#############################################\n",
    "\n",
    "def f(Y, t):\n",
    "    x, y = Y\n",
    "    return [3*x + 10*y ,  # diff eq for dx/dt\n",
    "            -2*y]  # # diff eq for dy/dt"
   ]
  },
  {
   "cell_type": "code",
   "execution_count": null,
   "id": "5d158f87-3092-43f8-b93f-26eed51436b4",
   "metadata": {},
   "outputs": [],
   "source": [
    "import matplotlib.pyplot as plt  # import plotting package\n",
    "\n",
    "# Plots a phase portrait\n",
    "phase_portrait(x, y, f)\n",
    "\n",
    "# line through (3,0)\n",
    "plt.plot(x, ??, linewidth=2, color='b')  # replace ?? with an expression\n",
    "\n",
    "# line through (2, -1)\n",
    "plt.plot(x, ??, linewidth=2, color='r')  # replace ?? with an expression\n"
   ]
  },
  {
   "cell_type": "markdown",
   "id": "9d2e0595-e187-429f-88c7-7876e962f0a7",
   "metadata": {},
   "source": [
    "### <a name='18quest1d'>Question 1d:</a>\n",
    "---\n",
    "\n",
    "Using your graph in the previous question, make a rough sketch of the solution corresponding to the initial conditions $(x(0),y(0))= (1,1)$ and $(x(0),y(0))= (1,-1)$.\n",
    "\n",
    "#### Solution to Question 1d:\n",
    "---\n",
    "\n",
    "<br> <br> <br>"
   ]
  },
  {
   "cell_type": "markdown",
   "id": "bca50754-70bf-4180-9c20-c4c019f66fc3",
   "metadata": {},
   "source": [
    "# Eigenvectors\n",
    "---\n",
    "\n",
    "For the system \n",
    "\n",
    "$$\\begin{bmatrix} x' \\\\ y' \\end{bmatrix} =\n",
    "\\begin{bmatrix} 3 & 10 \\\\ 0 & -2 \\end{bmatrix}\n",
    "\\begin{bmatrix} x\\\\ y \\end{bmatrix}, $$\n",
    "\n",
    "$\\mathbf{v}_1=\\langle 3, 0 \\rangle$ is an <font color=\"dodgerblue\">**eigenvector**</font> corresponding to the eigenvalue $r_1 = 3$ and $\\mathbf{v}_2=\\langle -2, 1 \\rangle$ is an eigenvector of $r_2=-2$. From phase plane graph in [Question 1d](#18quest1d), we see that any solution that starts on the line passing through the eigenvector:\n",
    "\n",
    "- $\\mathbf{v}_1=\\langle 3, 0 \\rangle$ points directly away from the equilibrium at the origin.\n",
    "- $\\mathbf{v}_2=\\langle 2, -1 \\rangle$ points directly towards the origin.\n",
    "- The sign of the eigenvalue determines whether solutions move towards or away from the equilibrium.\n",
    "\n",
    "In general, $\\mathbf{v}$ is an <font color=\"dodgerblue\">**eigenvector**</font> for the eigenvalue $\\lambda$ of a square matrix $A$ if and only if\n",
    "\n",
    "$$A \\mathbf{v} = \\lambda \\mathbf{v}.$$"
   ]
  },
  {
   "cell_type": "markdown",
   "id": "3d04f68c-8b6e-4217-8d9d-2ea40c4d40c5",
   "metadata": {},
   "source": [
    "## Eigenvectors in Sympy\n",
    "---\n"
   ]
  },
  {
   "cell_type": "code",
   "execution_count": null,
   "id": "d3d7b09e-ee6e-4507-af28-15549f51e586",
   "metadata": {},
   "outputs": [],
   "source": [
    "import sympy as sym\n",
    "\n",
    "M = sym.Matrix([[3, 10],\n",
    "           [0, -2]])\n",
    "\n",
    "M.eigenvects()"
   ]
  },
  {
   "cell_type": "markdown",
   "id": "d0b68b3f-fe78-49d0-b31c-aa2e636ce1f6",
   "metadata": {},
   "source": [
    "## Expressing Solutions in Vector Form\n",
    "---\n",
    "\n",
    "Using the eigenvectors we can express the <font color=\"dodgerblue\">**solutions in vector form**</font>:\n",
    "\n",
    "$$\\begin{align}\n",
    "\\begin{bmatrix} x(t) \\\\ y(t) \\end{bmatrix} &=\n",
    "C_1e^{r_1t} \\mathbf{v}_1+ C_2 e^{r_2t} \\mathbf{v}_2 \\\\\n",
    "\\\\\n",
    "\\color{dodgerblue}{\\begin{bmatrix} x(t) \\\\ y(t) \\end{bmatrix}} & \\color{dodgerblue}{=  C_1e^{3t} \\begin{bmatrix} 3 \\\\ 0 \\end{bmatrix} + C_1e^{-2t} \\begin{bmatrix} -2 \\\\ 1 \\end{bmatrix}} \n",
    "\\end{align}$$\n",
    "\n",
    "The vector form of the solution above is equivalent to solutions we obtained earlier:\n",
    "\n",
    "$$\\begin{bmatrix} x(t) \\\\ y(t) \\end{bmatrix} = \n",
    "\\begin{bmatrix}\n",
    "3C_1e^{3t} & - & 2C_2e^{-2t}  \\\\\n",
    "   & & C_2e^{-2t}\n",
    "\\end{bmatrix} \n",
    "\\quad \\mbox{so we have} \\quad x(t) = B_1e^{3t}+B_2e^{-2t} \\mbox{ and } y(t) = - \\frac{1}{2}B_2e^{-2t}.$$\n",
    "\n"
   ]
  },
  {
   "cell_type": "markdown",
   "id": "4000eeb3",
   "metadata": {},
   "source": [
    "## <a name='18quest2'>Question 2:</a>\n",
    "---\n",
    "\n",
    "Consider the system of differential equations:\n",
    "\n",
    "$$\\begin{bmatrix}\n",
    "x'\\\\\n",
    "y'\n",
    "\\end{bmatrix} = \n",
    "\\begin{bmatrix}\n",
    "1 & 3 \\\\\n",
    "4 & 5 \n",
    "\\end{bmatrix}\n",
    "\\begin{bmatrix}\n",
    "x\\\\\n",
    "y\n",
    "\\end{bmatrix}$$\n",
    "\n",
    "Find the eigenvalues and eigenvectors for the system, and give the general solution in vector form. Then make a sketch of several solutions to this system in the phase plane by hand.\n",
    "\n",
    "*Feel free to use code cells to help find eigenvalues and eigenvectors.*\n",
    "\n",
    "### Solution to Question 2:\n",
    "---\n",
    "\n",
    "<br> <br> <br>\n"
   ]
  },
  {
   "cell_type": "markdown",
   "id": "b121c9c4",
   "metadata": {},
   "source": [
    "# Eigenvalues and Solutions in the Phase Plane\n",
    "---\n",
    "\n",
    "## <a name='18quest3'>Question 3:</a>\n",
    "---\n",
    "\n",
    "Match the vector fields labeled A-F with a system of differential equations whose matrix of coefficients has the given eigenvalues.\n",
    "\n",
    "| Eigenvalues of matrix of coefficients | Label of corresponding phase plane |\n",
    "|---------------------------------------|------------------------------------|\n",
    "|$$\\lambda_1  = 4 \\mbox{ and } \\lambda_2=1$$ | <mark>Enter letter of matching graph</mark> |\n",
    "|$$\\lambda_1  = -4 \\mbox{ and } \\lambda_2=-2$$ | <mark>Enter letter of matching graph</mark> |\n",
    "|$$\\lambda  = 9 \\mbox{ repeated } $$ | <mark>Enter letter of matching graph</mark> |\n",
    "|$$\\lambda  = \\pm 2i $$ | <mark>Enter letter of matching graph</mark> |\n",
    "|$$\\lambda  = 3 \\pm 2i $$ | <mark>Enter letter of matching graph</mark> |\n",
    "|$$\\lambda  = -3 \\pm 2i $$ | <mark>Enter letter of matching graph</mark> |\n",
    "\n",
    "| A | B |\n",
    "|---|---|\n",
    "| <img src=\"https://drive.google.com/uc?id=10JW6XXZOSzXuIFdKyHq58LlW8W9kDrye\" width = 360 alt='Phase Plane with Ellipitcal Solutions'> | <img src=\"https://drive.google.com/uc?id=10A3zvMMx37NGTsqjDgjrH-b-SlArgJsn\" width = 360 alt='Phase Plane with Lines Out'> |\n",
    "\n",
    "| C | D |\n",
    "|---|---|\n",
    "| <img src=\"https://drive.google.com/uc?id=10M7Ty7yLqi1h3fvda3lKUb4SY1lG4dFe\" width = 360 alt='Phase Plane with Lines In'> | <img src=\"https://drive.google.com/uc?id=10CqKxzNyO4K9SHpFqpHqhzLQI2_ug-Vg\" width = 360 alt='Phase Plane with Spiral In'> |\n",
    "\n",
    "| E | F |\n",
    "|---|---|\n",
    "| <img src=\"https://drive.google.com/uc?id=10ILYBOs3dwiKsIZaUVBGAcESmkbOV66c\" width = 360 alt='Phase Plane with Spiral Out'> | <img src=\"https://drive.google.com/uc?id=10DNHKTg3aQ-IGb9zwC8J8JPA0s59fQ3U\" width = 360 alt='Phase Plane with One Line Out'> |\n",
    "\n",
    "\n",
    "### Solution to Question 3:\n",
    "---\n",
    "\n",
    "    \n",
    "<br> \n",
    "    \n",
    "<mark> Express your answers by completing the table above.</mark>    \n",
    "\n"
   ]
  },
  {
   "cell_type": "markdown",
   "id": "98c5780b",
   "metadata": {},
   "source": [
    "# Stability of the Equilibrium\n",
    "---\n",
    "\n",
    "## <a name='18quest4'>Question 4:</a>\n",
    "---\n",
    "\n",
    "Based on your answers in [Question 3](#18quest3), explain how the eigenvalues can be used to determine whether the equilibrium at the origin is stable or unstable?  What happens when the matrix of coefficients has complex eigenvalues?\n",
    "\n",
    "### Solution to Question 4:\n",
    "---\n",
    "\n",
    "<br> <br> <br> \n",
    "\n"
   ]
  },
  {
   "cell_type": "markdown",
   "id": "245af43c",
   "metadata": {},
   "source": [
    "# Creative Commons License Information\n",
    "\n",
    "---\n",
    "\n",
    "<a rel=\"license\" href=\"https://creativecommons.org/licenses/by-nc-sa/4.0/\"><img alt=\"Creative Commons License\" style=\"border-width:0\" src=\"https://i.creativecommons.org/l/by-nc-sa/4.0/80x15.png\" /></a><br /><span xmlns:dct=\"http://purl.org/dc/terms/\" property=\"dct:title\">*Exploring Differential Equations*</span> by <a xmlns:cc=\"http://creativecommons.org/ns#\" href=\"https://github.com/CU-Denver-MathStats-OER/ODEs\" property=\"cc:attributionName\" rel=\"cc:attributionURL\">Adam Spiegler</a> is licensed under a <a rel=\"license\" href=\"http://creativecommons.org/licenses/by-nc-sa/4.0/\">Creative Commons Attribution-NonCommercial-ShareAlike 4.0 International License</a>.<br />Based on a work at <a xmlns:dct=\"http://purl.org/dc/terms/\" href=\"https://github.com/CU-Denver-MathStats-OER/ODEs\" rel=\"dct:source\">https://github.com/CU-Denver-MathStats-OER/ODEs</a> and original content created by Rasmussen, C., Keene, K. A., Dunmyre, J., & Fortune, N. (2018). *Inquiry oriented differential equations: Course materials*. Available at <a href=\"https://iode.sdsu.edu\">https://iode.sdsu.edu</a>."
   ]
  }
 ],
 "metadata": {
  "kernelspec": {
   "display_name": "Python 3",
   "language": "python",
   "name": "python3"
  },
  "language_info": {
   "codemirror_mode": {
    "name": "ipython",
    "version": 3
   },
   "file_extension": ".py",
   "mimetype": "text/x-python",
   "name": "python",
   "nbconvert_exporter": "python",
   "pygments_lexer": "ipython3",
   "version": "3.8.8"
  }
 },
 "nbformat": 4,
 "nbformat_minor": 5
}
